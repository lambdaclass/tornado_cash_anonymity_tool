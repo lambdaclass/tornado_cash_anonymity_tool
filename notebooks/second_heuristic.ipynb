{
 "cells": [
  {
   "cell_type": "code",
   "execution_count": 1,
   "metadata": {},
   "outputs": [],
   "source": [
    "using DataFrames\n",
    "using CSV"
   ]
  },
  {
   "cell_type": "code",
   "execution_count": 2,
   "metadata": {},
   "outputs": [],
   "source": [
    "withdraw_transactions_df = CSV.read(\"../data/tornado_withdraw_df.csv\", DataFrame)\n",
    "deposit_transactions_df = CSV.read(\"../data/deposit_transactions.csv\", DataFrame);"
   ]
  },
  {
   "cell_type": "code",
   "execution_count": 3,
   "metadata": {},
   "outputs": [],
   "source": [
    "ENV[\"COLUMNS\"]=10000\n",
    "ENV[\"LINES\"]=10;"
   ]
  },
  {
   "cell_type": "code",
   "execution_count": 4,
   "metadata": {},
   "outputs": [
    {
     "data": {
      "text/plain": [
       "filter_by_unique_gas_price (generic function with 1 method)"
      ]
     },
     "execution_count": 4,
     "metadata": {},
     "output_type": "execute_result"
    }
   ],
   "source": [
    "function filter_by_unique_gas_price(transactions_df)\n",
    "    unique_gas_prices = filter(row -> row.count==1, combine(groupby(transactions_df, :gas_price), nrow => :count))[\"gas_price\"]\n",
    "    filter(row -> row.gas_price ∈ unique_gas_prices, transactions_df)\n",
    "end"
   ]
  },
  {
   "cell_type": "code",
   "execution_count": 5,
   "metadata": {},
   "outputs": [
    {
     "data": {
      "text/html": [
       "<table class=\"data-frame\"><thead><tr><th></th><th>hash</th><th>nonce</th><th>transaction_index</th><th>from_address</th><th>to_address</th><th>value</th><th>gas</th><th>gas_price</th><th>input</th><th>receipt_cumulative_gas_used</th><th>receipt_gas_used</th><th>receipt_contract_address</th><th>receipt_root</th><th>receipt_status</th><th>block_timestamp</th><th>block_number</th><th>block_hash</th><th>max_fee_per_gas</th><th>max_priority_fee_per_gas</th><th>transaction_type</th><th>receipt_effective_gas_price</th></tr><tr><th></th><th>String</th><th>Int64</th><th>Int64</th><th>String</th><th>String</th><th>Float64</th><th>Int64</th><th>Int64</th><th>String</th><th>Int64</th><th>Int64</th><th>Missing</th><th>Missing</th><th>Int64</th><th>String</th><th>Int64</th><th>String</th><th>Int64?</th><th>Int64?</th><th>Int64?</th><th>Int64</th></tr></thead><tbody><p>799 rows × 21 columns</p><tr><th>1</th><td>0xbd83053f8afa7777f54a4aca6b8e112fa31b888922dc5b9a9a65eb66e9a6996f</td><td>7</td><td>63</td><td>0x6c6e4816ecfa4481472ff88f32a3e00f2eaa95a1</td><td>0x12d66f87a04a9e220743712ce6d9bb1b5616b8fc</td><td>1.0e17</td><td>800000</td><td>30838446643</td><td>0xb214faa527a20ba920c8ae877d67ce1ebd7420dafb3150e001eca78166fd6d66a5fd253e</td><td>6222489</td><td>800000</td><td><em>missing</em></td><td><em>missing</em></td><td>0</td><td>2020-05-27 03:30:44 UTC</td><td>10145408</td><td>0x837b3482443f027f6f045644bf002243f72304686015a2d6265676b2a2fc630b</td><td><em>missing</em></td><td><em>missing</em></td><td><em>missing</em></td><td>30838446643</td></tr><tr><th>2</th><td>0x6c416af65ea3a4bc096663c94f5b1fb0cba91607f61703657094f1f5441a3a12</td><td>3</td><td>51</td><td>0x27972d10f153099b3649ea8546a11d91315455e5</td><td>0x0836222f2b2b24a3f36f98668ed8f0b38d1a872f</td><td>0.0</td><td>1200000</td><td>71302125000</td><td>0xb214faa52d8f3e8b9934e70c0fbf5bb3cf355027815a11191fb5e2f1d3f6f84beb2a7c35</td><td>4108630</td><td>992258</td><td><em>missing</em></td><td><em>missing</em></td><td>1</td><td>2020-09-26 08:10:08 UTC</td><td>10937092</td><td>0x32f0f0fd04d3af8210d2eb956fdec21e09ebff5a55209c0a2c559bb1c034b158</td><td><em>missing</em></td><td><em>missing</em></td><td><em>missing</em></td><td>71302125000</td></tr><tr><th>3</th><td>0x830dbd534d13cd43cb078b7cad8a9c5137bb19aa8bf38e0c3b0e222b688d8340</td><td>0</td><td>63</td><td>0x43eefeb3db479e7b22e015572f38b6af633a43ff</td><td>0x47ce0c6ed5b0ce3d3a51fdb1c52dc66a7c3c2936</td><td>1.0e18</td><td>275000</td><td>595000000000</td><td>0xb214faa500fe7a849e7374f033604417bf6ccd369ea65e027f5327f58fcb8667cb469769</td><td>4390453</td><td>274947</td><td><em>missing</em></td><td><em>missing</em></td><td>0</td><td>2020-09-17 20:50:21 UTC</td><td>10881994</td><td>0x5270afd78906cc7264620b2c6fbf8c9221cf8053c8111edc0d7457966340dd81</td><td><em>missing</em></td><td><em>missing</em></td><td><em>missing</em></td><td>595000000000</td></tr><tr><th>4</th><td>0x3fc1bccbcb3d55967104809fa30b97e841d1cac61259e4de0553680802320985</td><td>90</td><td>49</td><td>0x1f28f2ef476178baa1bdd52a7dd666046d87288f</td><td>0x12d66f87a04a9e220743712ce6d9bb1b5616b8fc</td><td>1.0e17</td><td>1200000</td><td>2940860215</td><td>0xb214faa509ab186ab3c0fc40dd60fcd3387d430adad51c31cae01a2b92280c0c7b580087</td><td>4928980</td><td>978691</td><td><em>missing</em></td><td><em>missing</em></td><td>1</td><td>2020-02-22 16:58:22 UTC</td><td>9534369</td><td>0x275673e2c9caec96e76b9c86e7485ea7ec707ee2c57b38cd43b001e2c330cb37</td><td><em>missing</em></td><td><em>missing</em></td><td><em>missing</em></td><td>2940860215</td></tr><tr><th>5</th><td>0x90b978750a56c400bae91ad65e1cf2abe45b1218defe2a22f7f26bb22321b32d</td><td>26</td><td>57</td><td>0x823c54e4fc30665ebcf045d85aa0dae04015670d</td><td>0x12d66f87a04a9e220743712ce6d9bb1b5616b8fc</td><td>1.0e17</td><td>1200000</td><td>2047069131</td><td>0xb214faa50c8acbec5f24055cdc9600ad6523ebd062da038769e974d4f489a63ef9610c67</td><td>2905958</td><td>978691</td><td><em>missing</em></td><td><em>missing</em></td><td>1</td><td>2020-01-24 23:45:33 UTC</td><td>9347529</td><td>0x4ef1e187ceae83f51f847f39c9355a124317fc7696701273d1309dd90960b76e</td><td><em>missing</em></td><td><em>missing</em></td><td><em>missing</em></td><td>2047069131</td></tr><tr><th>6</th><td>0x038303d14327a2437bd789a70c0f7daa95b3ab89b46af0418fd0f677bdf2766c</td><td>82</td><td>163</td><td>0x3eb24c61590e6cd6fc26cf4fb938316206147859</td><td>0x12d66f87a04a9e220743712ce6d9bb1b5616b8fc</td><td>1.0e17</td><td>1200000</td><td>57151624549</td><td>0xb214faa517409b6dc9fc6d2da0fd00fd2ea324a61922aee92d412c3e1bf394b19d91ffa9</td><td>9371665</td><td>978691</td><td><em>missing</em></td><td><em>missing</em></td><td>1</td><td>2020-10-16 09:18:01 UTC</td><td>11066064</td><td>0xfa752cf56aaec471375e2996736d20444b146199e2c3b84851cb16c65695cd3f</td><td><em>missing</em></td><td><em>missing</em></td><td><em>missing</em></td><td>57151624549</td></tr><tr><th>7</th><td>0x2462b3bc714121340593ba4f7949b52c2963b8650c9686089544ff3f4b7b5752</td><td>26</td><td>93</td><td>0x90cf79f90aeca1e5a7652a9fdc4c2dc98e995a17</td><td>0x47ce0c6ed5b0ce3d3a51fdb1c52dc66a7c3c2936</td><td>1.0e18</td><td>1200000</td><td>18210000000</td><td>0xb214faa51c0c40008b20752e378a1e19594b8e69591e517a44ca5b9a0710f411d9f7edac</td><td>11031986</td><td>978691</td><td><em>missing</em></td><td><em>missing</em></td><td>1</td><td>2020-11-03 18:36:34 UTC</td><td>11185807</td><td>0xdf233b80c49498faea8f2ef427261740b6ec52646df892cc5aad144da3065313</td><td><em>missing</em></td><td><em>missing</em></td><td><em>missing</em></td><td>18210000000</td></tr><tr><th>8</th><td>0x6fd42f477bef6f9b3fa64f4545dcb3487fa7b14d1cbb895fb721dc300960e5dd</td><td>27</td><td>10</td><td>0x4b70b487942b7a720ad34cd00ebf1ea98003776e</td><td>0x47ce0c6ed5b0ce3d3a51fdb1c52dc66a7c3c2936</td><td>1.0e18</td><td>1200000</td><td>499000000000</td><td>0xb214faa5279e76ea69e4e7f973a637227f62982bea4bd288527b00a4d8f016d433da1f41</td><td>1479058</td><td>978691</td><td><em>missing</em></td><td><em>missing</em></td><td>1</td><td>2020-09-18 11:27:54 UTC</td><td>10885876</td><td>0x62f7831a9af74aac084fc1e4cab903f07d58931699e377889f74b4f7c595a4bc</td><td><em>missing</em></td><td><em>missing</em></td><td><em>missing</em></td><td>499000000000</td></tr><tr><th>9</th><td>0x936bea4bcab109db90cc7fb0a13a81d51f35c1d3b53d856ed0e25306a5ab5c5c</td><td>15</td><td>34</td><td>0x0ef8a1c0fa2f144af2b68a5d8b4e047bc6355c4f</td><td>0x47ce0c6ed5b0ce3d3a51fdb1c52dc66a7c3c2936</td><td>1.0e18</td><td>1200000</td><td>48949814126</td><td>0xb214faa50ac1eab003e2bb33005e74c7bce567174accf617f940397a08b3dd902feafb2b</td><td>3536159</td><td>978691</td><td><em>missing</em></td><td><em>missing</em></td><td>1</td><td>2020-12-03 11:11:19 UTC</td><td>11379280</td><td>0x07ebcfc3ac9443b36cf8e239b21786679f7c760203d73827acdb0eb1e0134d0d</td><td><em>missing</em></td><td><em>missing</em></td><td><em>missing</em></td><td>48949814126</td></tr><tr><th>10</th><td>0xf6f727fe5bb33c8a69456965bb7b83d585df479a63c6cf0b7e6561810ecd0d88</td><td>67</td><td>9</td><td>0x7091ad8a5e0d341be57194fd28f9eccc9ad34101</td><td>0x910cbd523d972eb0a6f4cae4618ad62622b39dbf</td><td>1.0e19</td><td>1200000</td><td>25642595066</td><td>0xb214faa52e3e73ba3659407211a6893ba169d197717e1c9c82561100c36d95d81f24ea6f</td><td>1575079</td><td>978691</td><td><em>missing</em></td><td><em>missing</em></td><td>1</td><td>2020-10-31 23:24:01 UTC</td><td>11167642</td><td>0x19958b70b10dbd6bdaf687c35f9f994f90b526e7885da369f0efc0112edfc41c</td><td><em>missing</em></td><td><em>missing</em></td><td><em>missing</em></td><td>25642595066</td></tr><tr><th>&vellip;</th><td>&vellip;</td><td>&vellip;</td><td>&vellip;</td><td>&vellip;</td><td>&vellip;</td><td>&vellip;</td><td>&vellip;</td><td>&vellip;</td><td>&vellip;</td><td>&vellip;</td><td>&vellip;</td><td>&vellip;</td><td>&vellip;</td><td>&vellip;</td><td>&vellip;</td><td>&vellip;</td><td>&vellip;</td><td>&vellip;</td><td>&vellip;</td><td>&vellip;</td><td>&vellip;</td></tr></tbody></table>"
      ],
      "text/latex": [
       "\\begin{tabular}{r|ccccccccccccccccccccc}\n",
       "\t& hash & nonce & transaction\\_index & from\\_address & to\\_address & value & gas & gas\\_price & input & receipt\\_cumulative\\_gas\\_used & receipt\\_gas\\_used & receipt\\_contract\\_address & receipt\\_root & receipt\\_status & block\\_timestamp & block\\_number & block\\_hash & max\\_fee\\_per\\_gas & max\\_priority\\_fee\\_per\\_gas & transaction\\_type & receipt\\_effective\\_gas\\_price\\\\\n",
       "\t\\hline\n",
       "\t& String & Int64 & Int64 & String & String & Float64 & Int64 & Int64 & String & Int64 & Int64 & Missing & Missing & Int64 & String & Int64 & String & Int64? & Int64? & Int64? & Int64\\\\\n",
       "\t\\hline\n",
       "\t1 & 0xbd83053f8afa7777f54a4aca6b8e112fa31b888922dc5b9a9a65eb66e9a6996f & 7 & 63 & 0x6c6e4816ecfa4481472ff88f32a3e00f2eaa95a1 & 0x12d66f87a04a9e220743712ce6d9bb1b5616b8fc & 1.0e17 & 800000 & 30838446643 & 0xb214faa527a20ba920c8ae877d67ce1ebd7420dafb3150e001eca78166fd6d66a5fd253e & 6222489 & 800000 & \\emph{missing} & \\emph{missing} & 0 & 2020-05-27 03:30:44 UTC & 10145408 & 0x837b3482443f027f6f045644bf002243f72304686015a2d6265676b2a2fc630b & \\emph{missing} & \\emph{missing} & \\emph{missing} & 30838446643 \\\\\n",
       "\t2 & 0x6c416af65ea3a4bc096663c94f5b1fb0cba91607f61703657094f1f5441a3a12 & 3 & 51 & 0x27972d10f153099b3649ea8546a11d91315455e5 & 0x0836222f2b2b24a3f36f98668ed8f0b38d1a872f & 0.0 & 1200000 & 71302125000 & 0xb214faa52d8f3e8b9934e70c0fbf5bb3cf355027815a11191fb5e2f1d3f6f84beb2a7c35 & 4108630 & 992258 & \\emph{missing} & \\emph{missing} & 1 & 2020-09-26 08:10:08 UTC & 10937092 & 0x32f0f0fd04d3af8210d2eb956fdec21e09ebff5a55209c0a2c559bb1c034b158 & \\emph{missing} & \\emph{missing} & \\emph{missing} & 71302125000 \\\\\n",
       "\t3 & 0x830dbd534d13cd43cb078b7cad8a9c5137bb19aa8bf38e0c3b0e222b688d8340 & 0 & 63 & 0x43eefeb3db479e7b22e015572f38b6af633a43ff & 0x47ce0c6ed5b0ce3d3a51fdb1c52dc66a7c3c2936 & 1.0e18 & 275000 & 595000000000 & 0xb214faa500fe7a849e7374f033604417bf6ccd369ea65e027f5327f58fcb8667cb469769 & 4390453 & 274947 & \\emph{missing} & \\emph{missing} & 0 & 2020-09-17 20:50:21 UTC & 10881994 & 0x5270afd78906cc7264620b2c6fbf8c9221cf8053c8111edc0d7457966340dd81 & \\emph{missing} & \\emph{missing} & \\emph{missing} & 595000000000 \\\\\n",
       "\t4 & 0x3fc1bccbcb3d55967104809fa30b97e841d1cac61259e4de0553680802320985 & 90 & 49 & 0x1f28f2ef476178baa1bdd52a7dd666046d87288f & 0x12d66f87a04a9e220743712ce6d9bb1b5616b8fc & 1.0e17 & 1200000 & 2940860215 & 0xb214faa509ab186ab3c0fc40dd60fcd3387d430adad51c31cae01a2b92280c0c7b580087 & 4928980 & 978691 & \\emph{missing} & \\emph{missing} & 1 & 2020-02-22 16:58:22 UTC & 9534369 & 0x275673e2c9caec96e76b9c86e7485ea7ec707ee2c57b38cd43b001e2c330cb37 & \\emph{missing} & \\emph{missing} & \\emph{missing} & 2940860215 \\\\\n",
       "\t5 & 0x90b978750a56c400bae91ad65e1cf2abe45b1218defe2a22f7f26bb22321b32d & 26 & 57 & 0x823c54e4fc30665ebcf045d85aa0dae04015670d & 0x12d66f87a04a9e220743712ce6d9bb1b5616b8fc & 1.0e17 & 1200000 & 2047069131 & 0xb214faa50c8acbec5f24055cdc9600ad6523ebd062da038769e974d4f489a63ef9610c67 & 2905958 & 978691 & \\emph{missing} & \\emph{missing} & 1 & 2020-01-24 23:45:33 UTC & 9347529 & 0x4ef1e187ceae83f51f847f39c9355a124317fc7696701273d1309dd90960b76e & \\emph{missing} & \\emph{missing} & \\emph{missing} & 2047069131 \\\\\n",
       "\t6 & 0x038303d14327a2437bd789a70c0f7daa95b3ab89b46af0418fd0f677bdf2766c & 82 & 163 & 0x3eb24c61590e6cd6fc26cf4fb938316206147859 & 0x12d66f87a04a9e220743712ce6d9bb1b5616b8fc & 1.0e17 & 1200000 & 57151624549 & 0xb214faa517409b6dc9fc6d2da0fd00fd2ea324a61922aee92d412c3e1bf394b19d91ffa9 & 9371665 & 978691 & \\emph{missing} & \\emph{missing} & 1 & 2020-10-16 09:18:01 UTC & 11066064 & 0xfa752cf56aaec471375e2996736d20444b146199e2c3b84851cb16c65695cd3f & \\emph{missing} & \\emph{missing} & \\emph{missing} & 57151624549 \\\\\n",
       "\t7 & 0x2462b3bc714121340593ba4f7949b52c2963b8650c9686089544ff3f4b7b5752 & 26 & 93 & 0x90cf79f90aeca1e5a7652a9fdc4c2dc98e995a17 & 0x47ce0c6ed5b0ce3d3a51fdb1c52dc66a7c3c2936 & 1.0e18 & 1200000 & 18210000000 & 0xb214faa51c0c40008b20752e378a1e19594b8e69591e517a44ca5b9a0710f411d9f7edac & 11031986 & 978691 & \\emph{missing} & \\emph{missing} & 1 & 2020-11-03 18:36:34 UTC & 11185807 & 0xdf233b80c49498faea8f2ef427261740b6ec52646df892cc5aad144da3065313 & \\emph{missing} & \\emph{missing} & \\emph{missing} & 18210000000 \\\\\n",
       "\t8 & 0x6fd42f477bef6f9b3fa64f4545dcb3487fa7b14d1cbb895fb721dc300960e5dd & 27 & 10 & 0x4b70b487942b7a720ad34cd00ebf1ea98003776e & 0x47ce0c6ed5b0ce3d3a51fdb1c52dc66a7c3c2936 & 1.0e18 & 1200000 & 499000000000 & 0xb214faa5279e76ea69e4e7f973a637227f62982bea4bd288527b00a4d8f016d433da1f41 & 1479058 & 978691 & \\emph{missing} & \\emph{missing} & 1 & 2020-09-18 11:27:54 UTC & 10885876 & 0x62f7831a9af74aac084fc1e4cab903f07d58931699e377889f74b4f7c595a4bc & \\emph{missing} & \\emph{missing} & \\emph{missing} & 499000000000 \\\\\n",
       "\t9 & 0x936bea4bcab109db90cc7fb0a13a81d51f35c1d3b53d856ed0e25306a5ab5c5c & 15 & 34 & 0x0ef8a1c0fa2f144af2b68a5d8b4e047bc6355c4f & 0x47ce0c6ed5b0ce3d3a51fdb1c52dc66a7c3c2936 & 1.0e18 & 1200000 & 48949814126 & 0xb214faa50ac1eab003e2bb33005e74c7bce567174accf617f940397a08b3dd902feafb2b & 3536159 & 978691 & \\emph{missing} & \\emph{missing} & 1 & 2020-12-03 11:11:19 UTC & 11379280 & 0x07ebcfc3ac9443b36cf8e239b21786679f7c760203d73827acdb0eb1e0134d0d & \\emph{missing} & \\emph{missing} & \\emph{missing} & 48949814126 \\\\\n",
       "\t10 & 0xf6f727fe5bb33c8a69456965bb7b83d585df479a63c6cf0b7e6561810ecd0d88 & 67 & 9 & 0x7091ad8a5e0d341be57194fd28f9eccc9ad34101 & 0x910cbd523d972eb0a6f4cae4618ad62622b39dbf & 1.0e19 & 1200000 & 25642595066 & 0xb214faa52e3e73ba3659407211a6893ba169d197717e1c9c82561100c36d95d81f24ea6f & 1575079 & 978691 & \\emph{missing} & \\emph{missing} & 1 & 2020-10-31 23:24:01 UTC & 11167642 & 0x19958b70b10dbd6bdaf687c35f9f994f90b526e7885da369f0efc0112edfc41c & \\emph{missing} & \\emph{missing} & \\emph{missing} & 25642595066 \\\\\n",
       "\t$\\dots$ & $\\dots$ & $\\dots$ & $\\dots$ & $\\dots$ & $\\dots$ & $\\dots$ & $\\dots$ & $\\dots$ & $\\dots$ & $\\dots$ & $\\dots$ & $\\dots$ & $\\dots$ & $\\dots$ & $\\dots$ & $\\dots$ & $\\dots$ & $\\dots$ & $\\dots$ & $\\dots$ & $\\dots$ \\\\\n",
       "\\end{tabular}\n"
      ],
      "text/plain": [
       "799×21 DataFrame\n"
      ]
     },
     "execution_count": 5,
     "metadata": {},
     "output_type": "execute_result"
    }
   ],
   "source": [
    "unique_gasp_deposits = filter_by_unique_gas_price(deposit_transactions_df)"
   ]
  },
  {
   "cell_type": "code",
   "execution_count": 6,
   "metadata": {},
   "outputs": [
    {
     "data": {
      "text/plain": [
       "same_gas_price (generic function with 1 method)"
      ]
     },
     "execution_count": 6,
     "metadata": {},
     "output_type": "execute_result"
    }
   ],
   "source": [
    "function same_gas_price(withdrawal_address_transaction, unique_gas_price_deposit_dataframe)\n",
    "    for row in eachrow(unique_gas_price_deposit_dataframe)\n",
    "        if withdrawal_address_transaction.gas_price == row.gas_price && withdrawal_address_transaction.block_timestamp > row.block_timestamp\n",
    "            return (true, row.hash)\n",
    "        end\n",
    "    end\n",
    "    (false, nothing)\n",
    "end"
   ]
  },
  {
   "cell_type": "code",
   "execution_count": 7,
   "metadata": {},
   "outputs": [
    {
     "data": {
      "text/plain": [
       "(false, nothing)"
      ]
     },
     "execution_count": 7,
     "metadata": {},
     "output_type": "execute_result"
    }
   ],
   "source": [
    "same_gas_price(withdraw_transactions_df[1,:], unique_gasp_deposits)"
   ]
  },
  {
   "cell_type": "code",
   "execution_count": 8,
   "metadata": {},
   "outputs": [
    {
     "data": {
      "text/plain": [
       "apply_same_gas_price (generic function with 1 method)"
      ]
     },
     "execution_count": 8,
     "metadata": {},
     "output_type": "execute_result"
    }
   ],
   "source": [
    "function apply_same_gas_price(deposit_dataframe, withdraw_dataframe)\n",
    "    unique_gas_price_deposits = filter_by_unique_gas_price(deposit_dataframe)\n",
    "    withdrawal_to_deposit = []\n",
    "    for withdraw_row in eachrow(withdraw_dataframe)\n",
    "        same_gas_deposit_hash = same_gas_price(withdraw_row, unique_gas_price_deposits)\n",
    "        if same_gas_deposit_hash[1]\n",
    "            push!(withdrawal_to_deposit, (same_gas_deposit_hash[2], withdraw_row.hash))\n",
    "        end\n",
    "    end\n",
    "    withdrawal_to_deposit\n",
    "end "
   ]
  },
  {
   "cell_type": "code",
   "execution_count": 9,
   "metadata": {},
   "outputs": [],
   "source": [
    "link_same_gas = apply_same_gas_price(deposit_transactions_df, withdraw_transactions_df);"
   ]
  },
  {
   "cell_type": "code",
   "execution_count": 10,
   "metadata": {},
   "outputs": [
    {
     "data": {
      "text/html": [
       "<table class=\"data-frame\"><thead><tr><th></th><th>deposit_hash</th><th>withdrawl_hash</th></tr><tr><th></th><th>String</th><th>String</th></tr></thead><tbody><p>156 rows × 2 columns</p><tr><th>1</th><td>0x4e6f643e8a8c1fb123ab4921fc7260ddccce3c9823c1b1b25de6d2658be46350</td><td>0x607e9843ffa508428c61d8493f630135eab69c50884cef0c8050eaac7f7fadd7</td></tr><tr><th>2</th><td>0x194ad37f2a3bf793747de0317ad01aa510388e22a6fd10d317a98df09839fdb9</td><td>0xfae1528493709f9154436933ecdfb754ef36692a59b0b927af99896c52494ace</td></tr><tr><th>3</th><td>0xbf31dc241dabc09f93816fdc7669063362ec2e05cf6e0df324a1c7685581bf98</td><td>0xf98448ed1ca40e2ba70965488f3b91a1459815965fc39dd1cd30d8881b157a90</td></tr><tr><th>4</th><td>0xbf31dc241dabc09f93816fdc7669063362ec2e05cf6e0df324a1c7685581bf98</td><td>0x9b1516dd5f14bc930034bea7ad5d0d61a428b7f34ac9cf24eb27e77503e8b4ea</td></tr><tr><th>5</th><td>0x4cb1619f2d51cc7ecb926905747804e589765634ea737d957a19383a7c32162f</td><td>0x212b85e840b1789d00e4ea41ff2317e146ec1fe7df6994b3c323f507ef549f9b</td></tr><tr><th>6</th><td>0xfdebd5f3c2ac6136d10a4a9300efc62b6342c7844d394a91942838023f74a639</td><td>0x28634e07c08e81d19b5e0b9ac8da400596761cd0467d13b99fd6c26fd4ff4a25</td></tr><tr><th>7</th><td>0xfdebd5f3c2ac6136d10a4a9300efc62b6342c7844d394a91942838023f74a639</td><td>0x8ec8ef9523bfa6adb0d55a752cbf9e85228c878e74f957c7c7426dcd6b5c6880</td></tr><tr><th>8</th><td>0xd120233faeb19b05ff6848d7f91fc3901df59204926a00b30130738184e90ee0</td><td>0x42da702eaa292b394108931c05f4a3dc910193e6b6beee39dd6b39558958976c</td></tr><tr><th>9</th><td>0x558ddd6e4d38d381340bac54243a5a0ed66459e729bf73743ddbedaf7f5118fa</td><td>0x1f6bd28ef71b40cc98167ec02a1f714ba1c18b768462712a3a0644ea0049e514</td></tr><tr><th>10</th><td>0xf8ae02f996a4ca7a1c6d4385e3a29e078684a894c91d6a902f4189612979485a</td><td>0x72b04009a5764c59aa3a134791ba9d8e7cd145aaf1ea9bf6aa1a7ad7b9064b35</td></tr><tr><th>&vellip;</th><td>&vellip;</td><td>&vellip;</td></tr></tbody></table>"
      ],
      "text/latex": [
       "\\begin{tabular}{r|cc}\n",
       "\t& deposit\\_hash & withdrawl\\_hash\\\\\n",
       "\t\\hline\n",
       "\t& String & String\\\\\n",
       "\t\\hline\n",
       "\t1 & 0x4e6f643e8a8c1fb123ab4921fc7260ddccce3c9823c1b1b25de6d2658be46350 & 0x607e9843ffa508428c61d8493f630135eab69c50884cef0c8050eaac7f7fadd7 \\\\\n",
       "\t2 & 0x194ad37f2a3bf793747de0317ad01aa510388e22a6fd10d317a98df09839fdb9 & 0xfae1528493709f9154436933ecdfb754ef36692a59b0b927af99896c52494ace \\\\\n",
       "\t3 & 0xbf31dc241dabc09f93816fdc7669063362ec2e05cf6e0df324a1c7685581bf98 & 0xf98448ed1ca40e2ba70965488f3b91a1459815965fc39dd1cd30d8881b157a90 \\\\\n",
       "\t4 & 0xbf31dc241dabc09f93816fdc7669063362ec2e05cf6e0df324a1c7685581bf98 & 0x9b1516dd5f14bc930034bea7ad5d0d61a428b7f34ac9cf24eb27e77503e8b4ea \\\\\n",
       "\t5 & 0x4cb1619f2d51cc7ecb926905747804e589765634ea737d957a19383a7c32162f & 0x212b85e840b1789d00e4ea41ff2317e146ec1fe7df6994b3c323f507ef549f9b \\\\\n",
       "\t6 & 0xfdebd5f3c2ac6136d10a4a9300efc62b6342c7844d394a91942838023f74a639 & 0x28634e07c08e81d19b5e0b9ac8da400596761cd0467d13b99fd6c26fd4ff4a25 \\\\\n",
       "\t7 & 0xfdebd5f3c2ac6136d10a4a9300efc62b6342c7844d394a91942838023f74a639 & 0x8ec8ef9523bfa6adb0d55a752cbf9e85228c878e74f957c7c7426dcd6b5c6880 \\\\\n",
       "\t8 & 0xd120233faeb19b05ff6848d7f91fc3901df59204926a00b30130738184e90ee0 & 0x42da702eaa292b394108931c05f4a3dc910193e6b6beee39dd6b39558958976c \\\\\n",
       "\t9 & 0x558ddd6e4d38d381340bac54243a5a0ed66459e729bf73743ddbedaf7f5118fa & 0x1f6bd28ef71b40cc98167ec02a1f714ba1c18b768462712a3a0644ea0049e514 \\\\\n",
       "\t10 & 0xf8ae02f996a4ca7a1c6d4385e3a29e078684a894c91d6a902f4189612979485a & 0x72b04009a5764c59aa3a134791ba9d8e7cd145aaf1ea9bf6aa1a7ad7b9064b35 \\\\\n",
       "\t$\\dots$ & $\\dots$ & $\\dots$ \\\\\n",
       "\\end{tabular}\n"
      ],
      "text/plain": [
       "156×2 DataFrame\n"
      ]
     },
     "execution_count": 10,
     "metadata": {},
     "output_type": "execute_result"
    }
   ],
   "source": [
    "DataFrame(\"deposit_hash\"=>[tuple[1] for tuple in link_same_gas],\"withdrawl_hash\"=>[tuple[2] for tuple in link_same_gas])"
   ]
  },
  {
   "cell_type": "code",
   "execution_count": null,
   "metadata": {},
   "outputs": [],
   "source": []
  }
 ],
 "metadata": {
  "kernelspec": {
   "display_name": "Julia 1.5.3",
   "language": "julia",
   "name": "julia-1.5"
  },
  "language_info": {
   "file_extension": ".jl",
   "mimetype": "application/julia",
   "name": "julia",
   "version": "1.5.3"
  }
 },
 "nbformat": 4,
 "nbformat_minor": 4
}
