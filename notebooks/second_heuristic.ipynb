{
 "cells": [
  {
   "cell_type": "markdown",
   "id": "22ff35c9",
   "metadata": {},
   "source": [
    "## Getting the data\n",
    "We obtain the data using Google Big Query.\n",
    "In order to obtain the deposits and withdrawals transactions, just run the following querys:\n",
    "\n",
    "### Withdrawals \n",
    "SELECT * FROM `bigquery-public-data.crypto_ethereum.transactions` WHERE `to_address` \n",
    "IN (SELECT `address` FROM `tornado_cash_transactions.tornadocontracts`) AND SUBSTR(`input`, 1, 10) = \"0x21a0adb6\";\n",
    "\n",
    "### Deposits\n",
    "SELECT * FROM `bigquery-public-data.crypto_ethereum.transactions` WHERE `to_address` \n",
    "IN (SELECT `address` FROM `tornado_cash_transactions.tornadocontracts`) AND SUBSTR(`input`, 1, 10) = \"0xb214faa5\";\n",
    "\n",
    "References here:\n",
    "https://github.com/Phread420/tornado_bigquery/blob/main/Notes.md\n",
    "\n",
    "This results are stored in the following files:\n",
    "- withdraw_transactions.csv\n",
    "- deposit_transactions.csv\n",
    "\n",
    "After obtaining those two files, the next thing to do is to get the \"recipient_addresses\" that are making the withdrawl (if the user withdraws via a relayer, the relayer's account will be displayed in the \"from_addres\" field). That information is encoded in the \"input\" field of the withdrawal transactions.\n",
    "\n",
    "The process to do so is in the following notebook:\n",
    "https://github.com/lambdaclass/tornado_cash_anonymity_tool/blob/main/notebooks/complete_withdraw_data_set.ipynb\n",
    "\n",
    "Note that the recipient addresses obtained in this df are in upper case and the addresses coming from the big query are in lower case, so you have to make the transformation when running the heuristic."
   ]
  },
  {
   "cell_type": "markdown",
   "id": "1502d6c5",
   "metadata": {},
   "source": [
    "## Second heuristic - Preliminary implementation\n",
    "\n",
    "### Description\n",
    "\n",
    "If there is a deposit and a withdraw transaction with **unique** gas prices (e.g., 3.1415926 Gwei), then we consider the deposit and the withdraw transactions linked. The corresponding deposit transaction can be removed from any other withdraw transaction’s anonymity set."
   ]
  },
  {
   "cell_type": "code",
   "execution_count": 1,
   "id": "8574f267",
   "metadata": {},
   "outputs": [],
   "source": [
    "using DataFrames\n",
    "using CSV\n",
    "using ProgressBars"
   ]
  },
  {
   "cell_type": "code",
   "execution_count": 2,
   "id": "d57eaa89",
   "metadata": {},
   "outputs": [],
   "source": [
    "ENV[\"COLUMNS\"]=10000\n",
    "ENV[\"LINES\"]=10;"
   ]
  },
  {
   "cell_type": "code",
   "execution_count": 3,
   "id": "beea7974",
   "metadata": {},
   "outputs": [],
   "source": [
    "withdraw_transactions_df = CSV.read(\"../data/lighter_complete_withdraw_txs.csv\", DataFrame)\n",
    "deposit_transactions_df = CSV.read(\"../data/lighter_complete_deposit_txs.csv\", DataFrame)\n",
    "\n",
    "non_relayer_withdraw_transactions_df = filter(row -> row.from_address == row.recipient_address, withdraw_transactions_df);"
   ]
  },
  {
   "cell_type": "markdown",
   "id": "b007c486",
   "metadata": {},
   "source": [
    "### Function summary: filter_by_unique_gas_price\n",
    "\n",
    "Given a transactions DataFrame, it returns a dictionary with the unique gas prices as keys and a tuple containing the hash of that transaction and the timestamp. For example,\n",
    "\n",
    "```\n",
    "{111000302: (\"0x387fcd87a\", timestamp1)\n",
    "```"
   ]
  },
  {
   "cell_type": "code",
   "execution_count": 4,
   "id": "81db7206",
   "metadata": {},
   "outputs": [
    {
     "data": {
      "text/plain": [
       "filter_by_unique_gas_price (generic function with 1 method)"
      ]
     },
     "execution_count": 4,
     "metadata": {},
     "output_type": "execute_result"
    }
   ],
   "source": [
    "# Filters a transaction DataFrame, leaving only the rows that have unique gas_price.\n",
    "\n",
    "function filter_by_unique_gas_price(transactions_df)\n",
    "    unique_gas_prices = filter(row -> row.count==1, combine(groupby(transactions_df, :gas_price), nrow => :count))[!, \"gas_price\"]\n",
    "    temp_df = filter(row -> row.gas_price ∈ unique_gas_prices, transactions_df)\n",
    "    \n",
    "    \n",
    "    return Dict{Int, Tuple{String,String}}(\n",
    "            (row.gas_price) => (row.hash, row.block_timestamp) for row in eachrow(temp_df)\n",
    "            )\n",
    "\n",
    "end"
   ]
  },
  {
   "cell_type": "markdown",
   "id": "6ab04009",
   "metadata": {},
   "source": [
    "### Function summary: filter_by_unique_gas_price_by_pool\n",
    "\n",
    "Given a transactions DataFrame, it returns a dictionary with a tuple of the unique gas prices and tornado pool as keys and a tuple containing the hash of that transaction and the timestamp. For example, \n",
    "\n",
    "```\n",
    "{(111000302, \"0x24387248\"): (\"0x387fcd87a\", timestamp1)\n",
    "\n",
    "```"
   ]
  },
  {
   "cell_type": "code",
   "execution_count": 5,
   "id": "ff7a1d0b",
   "metadata": {},
   "outputs": [
    {
     "data": {
      "text/plain": [
       "filter_by_unique_gas_price_by_pool (generic function with 1 method)"
      ]
     },
     "execution_count": 5,
     "metadata": {},
     "output_type": "execute_result"
    }
   ],
   "source": [
    "function filter_by_unique_gas_price_by_pool(transactions_df)\n",
    "    unique_gas_prices_by_pool = filter(row -> row.count==1, combine(groupby(transactions_df, [:gas_price , :tornado_cash_address]), nrow => :count))[!, [\"gas_price\", \"tornado_cash_address\"]]\n",
    "    \n",
    "    \n",
    "    # Tuple set with the values (gas_price, tornado_cash_address) is made to filter efficiently\n",
    "    \n",
    "    tuple_set = Set{Tuple{Int, String}}([(row.gas_price, row.tornado_cash_address) for row in eachrow(unique_gas_prices_by_pool)])\n",
    "    \n",
    "    # A dataframe of the transactions that verify having these unique gas price values by pool.\n",
    "    \n",
    "    temp_df = filter(iter_tuple -> (iter_tuple.gas_price, iter_tuple.tornado_cash_address) in tuple_set , deposit_transactions_df)\n",
    "    \n",
    "    # The DataFrame is transformed to a dictionary with only the relevant information.\n",
    "    \n",
    "    return Dict{Tuple{Int,String}, Tuple{String,String}}((row.gas_price, row.tornado_cash_address) => (row.hash, row.block_timestamp) for row in eachrow(temp_df))\n",
    "end"
   ]
  },
  {
   "cell_type": "markdown",
   "id": "7c2af31a",
   "metadata": {},
   "source": [
    "### Function summary: same_gas_price_heuristic\n",
    "\n",
    "This function receives a particular withdraw transaction and a dictionary with the unique gas price deposits, as returned by the function filter_by_unique_gas_price.\n",
    "\n",
    "It returns a tuple:\n",
    "* $(True, deposit$ $hash)$ when a deposit transaction with the same gas price as the withdrawal transaction is found.\n",
    "* $(False, None)$ when such a deposit is not found."
   ]
  },
  {
   "cell_type": "code",
   "execution_count": 6,
   "id": "d4c520d3",
   "metadata": {},
   "outputs": [
    {
     "data": {
      "text/plain": [
       "same_gas_price_heuristic (generic function with 1 method)"
      ]
     },
     "execution_count": 6,
     "metadata": {},
     "output_type": "execute_result"
    }
   ],
   "source": [
    "function same_gas_price_heuristic(withdrawal_transaction, unique_gas_price_deposit_dict)\n",
    "    \n",
    "    \"\"\"\n",
    "    Check if the gas price of the given withdrawal transaction is within the dictionary keys and that\n",
    "    the deposit was made earlier than the withdral.\n",
    "    If it is, then a tuple is returned, (True, deposit_hash).\n",
    "    If it is not, (False, None) is returned.\n",
    "    \"\"\"\n",
    "    \n",
    "    if withdrawal_transaction.gas_price in Set(keys(unique_gas_price_deposit_dict)) && (unique_gas_price_deposit_dict[withdrawal_transaction.gas_price][2] < withdrawal_transaction.block_timestamp)\n",
    "        return (true, unique_gas_price_deposit_dict[withdrawal_transaction.gas_price][1])\n",
    "    else\n",
    "        return (false, nothing)\n",
    "    end\n",
    "end"
   ]
  },
  {
   "cell_type": "markdown",
   "id": "051e5caf",
   "metadata": {},
   "source": [
    "### Function summary: same_gas_price_heuristic_by_pool\n",
    "\n",
    "This function receives a particular withdraw transaction and a dictionary with the unique gas price deposits made in each pool, just as returned by the function filter_by_unique_gas_price_by_pool.\n",
    "\n",
    "It returns a tuple:\n",
    "* $(True, deposit$ $hash)$ when a deposit transaction with the same gas price and belonging from the same pool (for example, 1ETH) as the withdrawal transaction is found.\n",
    "* $(False, None)$ when such a deposit is not found."
   ]
  },
  {
   "cell_type": "code",
   "execution_count": 7,
   "id": "0a08954d",
   "metadata": {},
   "outputs": [
    {
     "data": {
      "text/plain": [
       "same_gas_price_heuristic_by_pool (generic function with 1 method)"
      ]
     },
     "execution_count": 7,
     "metadata": {},
     "output_type": "execute_result"
    }
   ],
   "source": [
    "function same_gas_price_heuristic_by_pool(withdrawal_transaction, unique_gas_price_deposit_dict)\n",
    "    \n",
    "    \"\"\"\n",
    "    Check if the pair (gas_price, tornado_pool) of the given withdrawal transaction is within the dictionary keys and that\n",
    "    the deposit was made earlier than the withdral.\n",
    "    If it is, then a tuple is returned, (True, deposit_hash).\n",
    "    If it is not, (False, None) is returned.\n",
    "    \"\"\"\n",
    "    \n",
    "    if (withdrawal_transaction.gas_price, withdrawal_transaction.tornado_cash_address) in Set(keys(unique_gas_price_deposit_dict)) && (unique_gas_price_deposit_dict[(withdrawal_transaction.gas_price, withdrawal_transaction.tornado_cash_address)][2] < withdrawal_transaction.block_timestamp)\n",
    "        return (true, unique_gas_price_deposit_dict[(withdrawal_transaction.gas_price, withdrawal_transaction.tornado_cash_address)][1])\n",
    "    else  \n",
    "        return (false, nothing)\n",
    "    end\n",
    "end"
   ]
  },
  {
   "cell_type": "markdown",
   "id": "16f5aaa1",
   "metadata": {},
   "source": [
    "### Function summary: apply_same_gas_price_heuristic\n",
    "\n",
    "Applies the heuristic to all the withdraw_transactions DataFrame. Returns a dicionary mapping linked withdrawal and deposit transaction hashes."
   ]
  },
  {
   "cell_type": "code",
   "execution_count": 8,
   "id": "b4b61a7a",
   "metadata": {},
   "outputs": [
    {
     "data": {
      "text/plain": [
       "apply_same_gas_price_heuristic (generic function with 1 method)"
      ]
     },
     "execution_count": 8,
     "metadata": {},
     "output_type": "execute_result"
    }
   ],
   "source": [
    "function apply_same_gas_price_heuristic(deposit_transactions_df, withdraw_transactions_df)\n",
    "    \n",
    "    # Get deposit transactions with unique gas prices.\n",
    "    \n",
    "    unique_gas_price_deposits_dict = filter_by_unique_gas_price(deposit_transactions_df)\n",
    "    \n",
    "    # Initialize an empty dictionary to store the linked transactions.\n",
    "    \n",
    "    withdrawal_to_deposit = Dict()\n",
    "    \n",
    "    # Iterate over the withdraw transactions.\n",
    "    for withdraw_row in ProgressBar(eachrow(withdraw_transactions_df),  printing_delay=10)\n",
    "        # Apply heuristic for the given withdraw transaction.\n",
    "        same_gas_deposit_hash = same_gas_price_heuristic(withdraw_row, unique_gas_price_deposits_dict)\n",
    "        \n",
    "        # When a deposit transaction matching the withdraw transaction gas price is found, add\n",
    "        # the linked transactions to the dictionary.\n",
    "        if same_gas_deposit_hash[1]\n",
    "            withdrawal_to_deposit[withdraw_row.hash] = same_gas_deposit_hash[2]\n",
    "        end\n",
    "    end\n",
    "\n",
    "    # Return the linked transactions dictionary.\n",
    "    return withdrawal_to_deposit\n",
    "end"
   ]
  },
  {
   "cell_type": "markdown",
   "id": "7581bc72",
   "metadata": {},
   "source": [
    "### Function summary: apply_same_gas_price_heuristic_by_pool\n",
    "\n",
    "Applies the heuristic to all the withdraw_transactions DataFrame, filtering also by the particular pool. Returns a dicionary mapping linked withdrawal and deposit transaction hashes."
   ]
  },
  {
   "cell_type": "code",
   "execution_count": 9,
   "id": "02491075",
   "metadata": {},
   "outputs": [
    {
     "data": {
      "text/plain": [
       "apply_same_gas_price_heuristic_by_pool (generic function with 1 method)"
      ]
     },
     "execution_count": 9,
     "metadata": {},
     "output_type": "execute_result"
    }
   ],
   "source": [
    "function apply_same_gas_price_heuristic_by_pool(deposit_transactions_df, withdraw_transactions_df)\n",
    "    \n",
    "    # Get deposit transactions with unique gas prices.\n",
    "    \n",
    "    unique_gas_price_deposits_dict = filter_by_unique_gas_price_by_pool(deposit_transactions_df)\n",
    "    \n",
    "    # Initialize an empty dictionary to store the linked transactions.\n",
    "    \n",
    "    withdrawal_to_deposit = Dict()\n",
    "    \n",
    "    # Iterate over the withdraw transactions.\n",
    "    for withdraw_row in ProgressBar(eachrow(withdraw_transactions_df), printing_delay=10) \n",
    "        # Apply heuristic for the given withdraw transaction.\n",
    "        same_gas_deposit_hash = same_gas_price_heuristic_by_pool(withdraw_row, unique_gas_price_deposits_dict)\n",
    "        \n",
    "        # When a deposit transaction matching the withdraw transaction gas price is found, add\n",
    "        # the linked transactions to the dictionary.\n",
    "        if same_gas_deposit_hash[1]\n",
    "            withdrawal_to_deposit[withdraw_row.hash] = same_gas_deposit_hash[2]\n",
    "        end\n",
    "    end\n",
    "\n",
    "    # Return the linked transactions dictionary.\n",
    "    return withdrawal_to_deposit\n",
    "end"
   ]
  },
  {
   "cell_type": "markdown",
   "id": "2ef22159",
   "metadata": {},
   "source": [
    "We run the heuristic for the entire withdraw dataset"
   ]
  },
  {
   "cell_type": "code",
   "execution_count": 10,
   "id": "02ac0387",
   "metadata": {},
   "outputs": [
    {
     "name": "stderr",
     "output_type": "stream",
     "text": [
      "0.0%┣                                     ┫ 0/17.0k [00:10<-47:-19:-30, -10s/it]\n",
      "0.0%┣                                        ┫ 1/17.0k [00:10<Inf:Inf, InfGs/it]\n",
      "100.0%┣████████████████████████████████████┫ 17.0k/17.0k [00:15<00:00, 1.2kit/s]\n"
     ]
    },
    {
     "data": {
      "text/plain": [
       "Dict{Any, Any} with 128 entries:\n",
       "  \"0x571a9c4a9d2a2b0386285e048073a8d48e995f2b5a3b5cd36734023f06e45a44\" => \"0x35a464d0e00fc398607b092f7b3186cd6c8ec0c82f6f4b6d9978c71221647671\"\n",
       "  \"0x99b09453c62a24b9b7f78c27b37d1c06c2b9a64285412bf7e73609746a00abc0\" => \"0x1cf1ce4d853c7f7df4c44634e45080e6c038dcd0c4e651920138477d225cdd72\"\n",
       "  \"0x062c1c415381703a6a00022bbb93ac541ca0092f84c8cc34658e4224da945bdd\" => \"0x42caf310513b6eed265b9cd7e260c0325282d8d209035188d7d74b3ef85f509f\"\n",
       "  \"0x02a1c2250c4dea47f8f38f262ea723ff54de15e8ff6f4de9b19938757800868f\" => \"0x04e9849765f104c250e6da696b16fd2be7f0eca3254038c0ba21049b061b3748\"\n",
       "  \"0x197b4399402095682fd725c4fa7ce23450f1ffb4bd651dbe4f992b231f61160e\" => \"0x988638a03002b0bdf7023fdc03c0e7f9fdb7a493a913dc5b5bfc7e5c3c26f3db\"\n",
       "  ⋮                                                                    => ⋮"
      ]
     },
     "execution_count": 10,
     "metadata": {},
     "output_type": "execute_result"
    }
   ],
   "source": [
    "linked_transactions = apply_same_gas_price_heuristic(deposit_transactions_df, non_relayer_withdraw_transactions_df)"
   ]
  },
  {
   "cell_type": "code",
   "execution_count": 11,
   "id": "e7715a6e",
   "metadata": {},
   "outputs": [
    {
     "data": {
      "text/html": [
       "<table class=\"data-frame\"><thead><tr><th></th><th>withdraw_hashes</th><th>deposit_hashes</th></tr><tr><th></th><th>Any</th><th>Any</th></tr></thead><tbody><p>128 rows × 2 columns</p><tr><th>1</th><td>0x571a9c4a9d2a2b0386285e048073a8d48e995f2b5a3b5cd36734023f06e45a44</td><td>0x35a464d0e00fc398607b092f7b3186cd6c8ec0c82f6f4b6d9978c71221647671</td></tr><tr><th>2</th><td>0x99b09453c62a24b9b7f78c27b37d1c06c2b9a64285412bf7e73609746a00abc0</td><td>0x1cf1ce4d853c7f7df4c44634e45080e6c038dcd0c4e651920138477d225cdd72</td></tr><tr><th>3</th><td>0x062c1c415381703a6a00022bbb93ac541ca0092f84c8cc34658e4224da945bdd</td><td>0x42caf310513b6eed265b9cd7e260c0325282d8d209035188d7d74b3ef85f509f</td></tr><tr><th>4</th><td>0x02a1c2250c4dea47f8f38f262ea723ff54de15e8ff6f4de9b19938757800868f</td><td>0x04e9849765f104c250e6da696b16fd2be7f0eca3254038c0ba21049b061b3748</td></tr><tr><th>5</th><td>0x197b4399402095682fd725c4fa7ce23450f1ffb4bd651dbe4f992b231f61160e</td><td>0x988638a03002b0bdf7023fdc03c0e7f9fdb7a493a913dc5b5bfc7e5c3c26f3db</td></tr><tr><th>6</th><td>0x3e7734771217c28f9fc6d5b412ab35b4f8554b22fa5bb4d59789a981d15cde34</td><td>0x425066c1edecb08e72b81b7e32cb01e9637cbd0e8442bc4ee06d071ce2690340</td></tr><tr><th>7</th><td>0x0ee6d471ad8bb4217ed0e416e2c51af2d6e486e0f3fe5ac187e0488add7b2a60</td><td>0x1cf1ce4d853c7f7df4c44634e45080e6c038dcd0c4e651920138477d225cdd72</td></tr><tr><th>8</th><td>0x2d9649c3437d75adf66be1e2aa0a20858fafc4bfdc9d591a643ae8c074e6fc64</td><td>0xb3df9977fcf74b589dac668cb4fb360732f76edb72d1a779c7e4ef57265d89cd</td></tr><tr><th>9</th><td>0x523ec14086e2788e60f3ec20bf57450a41175dd4d76990acf675199a145471d4</td><td>0x7f21ef508a9bfafb030071da5f98db43981d7ea5405fd327a46dafdb6f10b4c0</td></tr><tr><th>10</th><td>0x05c3dd7ef03e5c711acf1822558f3dfce0812f81a5ca21109a69755a7bd172ba</td><td>0xb62e7a2594bfeee9cce5361267aa16a2b94c576534f1e56e40092702fe5fd504</td></tr><tr><th>&vellip;</th><td>&vellip;</td><td>&vellip;</td></tr></tbody></table>"
      ],
      "text/latex": [
       "\\begin{tabular}{r|cc}\n",
       "\t& withdraw\\_hashes & deposit\\_hashes\\\\\n",
       "\t\\hline\n",
       "\t& Any & Any\\\\\n",
       "\t\\hline\n",
       "\t1 & 0x571a9c4a9d2a2b0386285e048073a8d48e995f2b5a3b5cd36734023f06e45a44 & 0x35a464d0e00fc398607b092f7b3186cd6c8ec0c82f6f4b6d9978c71221647671 \\\\\n",
       "\t2 & 0x99b09453c62a24b9b7f78c27b37d1c06c2b9a64285412bf7e73609746a00abc0 & 0x1cf1ce4d853c7f7df4c44634e45080e6c038dcd0c4e651920138477d225cdd72 \\\\\n",
       "\t3 & 0x062c1c415381703a6a00022bbb93ac541ca0092f84c8cc34658e4224da945bdd & 0x42caf310513b6eed265b9cd7e260c0325282d8d209035188d7d74b3ef85f509f \\\\\n",
       "\t4 & 0x02a1c2250c4dea47f8f38f262ea723ff54de15e8ff6f4de9b19938757800868f & 0x04e9849765f104c250e6da696b16fd2be7f0eca3254038c0ba21049b061b3748 \\\\\n",
       "\t5 & 0x197b4399402095682fd725c4fa7ce23450f1ffb4bd651dbe4f992b231f61160e & 0x988638a03002b0bdf7023fdc03c0e7f9fdb7a493a913dc5b5bfc7e5c3c26f3db \\\\\n",
       "\t6 & 0x3e7734771217c28f9fc6d5b412ab35b4f8554b22fa5bb4d59789a981d15cde34 & 0x425066c1edecb08e72b81b7e32cb01e9637cbd0e8442bc4ee06d071ce2690340 \\\\\n",
       "\t7 & 0x0ee6d471ad8bb4217ed0e416e2c51af2d6e486e0f3fe5ac187e0488add7b2a60 & 0x1cf1ce4d853c7f7df4c44634e45080e6c038dcd0c4e651920138477d225cdd72 \\\\\n",
       "\t8 & 0x2d9649c3437d75adf66be1e2aa0a20858fafc4bfdc9d591a643ae8c074e6fc64 & 0xb3df9977fcf74b589dac668cb4fb360732f76edb72d1a779c7e4ef57265d89cd \\\\\n",
       "\t9 & 0x523ec14086e2788e60f3ec20bf57450a41175dd4d76990acf675199a145471d4 & 0x7f21ef508a9bfafb030071da5f98db43981d7ea5405fd327a46dafdb6f10b4c0 \\\\\n",
       "\t10 & 0x05c3dd7ef03e5c711acf1822558f3dfce0812f81a5ca21109a69755a7bd172ba & 0xb62e7a2594bfeee9cce5361267aa16a2b94c576534f1e56e40092702fe5fd504 \\\\\n",
       "\t$\\dots$ & $\\dots$ & $\\dots$ \\\\\n",
       "\\end{tabular}\n"
      ],
      "text/plain": [
       "\u001b[1m128×2 DataFrame\u001b[0m\n",
       "\u001b[1m Row \u001b[0m│\u001b[1m withdraw_hashes                   \u001b[0m\u001b[1m deposit_hashes                    \u001b[0m\n",
       "\u001b[1m     \u001b[0m│\u001b[90m Any                               \u001b[0m\u001b[90m Any                               \u001b[0m\n",
       "─────┼──────────────────────────────────────────────────────────────────────\n",
       "   1 │ 0x571a9c4a9d2a2b0386285e048073a8…  0x35a464d0e00fc398607b092f7b3186…\n",
       "  ⋮  │                 ⋮                                  ⋮\n",
       "\u001b[36m                                                            127 rows omitted\u001b[0m"
      ]
     },
     "execution_count": 11,
     "metadata": {},
     "output_type": "execute_result"
    }
   ],
   "source": [
    "linked_transactions = DataFrame([collect(keys(linked_transactions)), collect(values(linked_transactions))], [\"withdraw_hashes\",\"deposit_hashes\"])"
   ]
  },
  {
   "cell_type": "markdown",
   "id": "48ee9975",
   "metadata": {},
   "source": [
    "Now we run the heuristic that filters by pool, again applying it to the entire withdraw dataset."
   ]
  },
  {
   "cell_type": "code",
   "execution_count": 12,
   "id": "d61d9eae",
   "metadata": {},
   "outputs": [
    {
     "name": "stderr",
     "output_type": "stream",
     "text": [
      "0.0%┣                                     ┫ 0/17.0k [00:10<-47:-19:-30, -10s/it]\n",
      "0.0%┣                                        ┫ 1/17.0k [00:10<Inf:Inf, InfGs/it]\n",
      "84.4%┣████████████████████████████████      ┫ 14.4k/17.0k [00:20<00:04, 718it/s]\n",
      "100.0%┣█████████████████████████████████████┫ 17.0k/17.0k [00:22<00:00, 780it/s]\n"
     ]
    },
    {
     "data": {
      "text/plain": [
       "Dict{Any, Any} with 172 entries:\n",
       "  \"0x185124e22a1f913f3f71db70fc38d7ae56cd2e671bc08ebcd44d2de6f488cdbe\" => \"0xf72d23287b3bf7dfc53633e3be0f728d9d5068eadb927eb79045d31d34f6538d\"\n",
       "  \"0xc1b92522a23530412f24c0edfe62be443d8d0c3217562ca184505249e0235bba\" => \"0x936d0599d352096cdfcc1df76c3a027ce3ff2d835cd0b3030e7aaa688ce2fdcb\"\n",
       "  \"0x88fde9e123ac0a9b011428ffb713c424c8aa8c5980a23fb7d8f2ba157f50d29e\" => \"0x0e1295215085d3f9e4799e8fd2a70fba45ce15dad27e284b71a503a630f5f542\"\n",
       "  \"0x062c1c415381703a6a00022bbb93ac541ca0092f84c8cc34658e4224da945bdd\" => \"0x42caf310513b6eed265b9cd7e260c0325282d8d209035188d7d74b3ef85f509f\"\n",
       "  \"0x4ce400034e4118bb1f57613ab19bb3b4697e1a569abe34b50a4ee26d03af6bd0\" => \"0x536caff3cb304258ddd02281f9122b73e1a0e2f24a6e102e45ab293b2cdc14a1\"\n",
       "  ⋮                                                                    => ⋮"
      ]
     },
     "execution_count": 12,
     "metadata": {},
     "output_type": "execute_result"
    }
   ],
   "source": [
    "linked_transactions_by_pool = apply_same_gas_price_heuristic_by_pool(deposit_transactions_df, non_relayer_withdraw_transactions_df)"
   ]
  },
  {
   "cell_type": "code",
   "execution_count": 13,
   "id": "e6ffca02",
   "metadata": {},
   "outputs": [
    {
     "data": {
      "text/html": [
       "<table class=\"data-frame\"><thead><tr><th></th><th>withdraw_hashes</th><th>deposit_hashes</th></tr><tr><th></th><th>Any</th><th>Any</th></tr></thead><tbody><p>172 rows × 2 columns</p><tr><th>1</th><td>0x185124e22a1f913f3f71db70fc38d7ae56cd2e671bc08ebcd44d2de6f488cdbe</td><td>0xf72d23287b3bf7dfc53633e3be0f728d9d5068eadb927eb79045d31d34f6538d</td></tr><tr><th>2</th><td>0xc1b92522a23530412f24c0edfe62be443d8d0c3217562ca184505249e0235bba</td><td>0x936d0599d352096cdfcc1df76c3a027ce3ff2d835cd0b3030e7aaa688ce2fdcb</td></tr><tr><th>3</th><td>0x88fde9e123ac0a9b011428ffb713c424c8aa8c5980a23fb7d8f2ba157f50d29e</td><td>0x0e1295215085d3f9e4799e8fd2a70fba45ce15dad27e284b71a503a630f5f542</td></tr><tr><th>4</th><td>0x062c1c415381703a6a00022bbb93ac541ca0092f84c8cc34658e4224da945bdd</td><td>0x42caf310513b6eed265b9cd7e260c0325282d8d209035188d7d74b3ef85f509f</td></tr><tr><th>5</th><td>0x4ce400034e4118bb1f57613ab19bb3b4697e1a569abe34b50a4ee26d03af6bd0</td><td>0x536caff3cb304258ddd02281f9122b73e1a0e2f24a6e102e45ab293b2cdc14a1</td></tr><tr><th>6</th><td>0xc4b5fc604fbddc059d9f734a6cd215da7a8396c78f3f40191081e2307db135f4</td><td>0x9da5cc9fd17e1f8f75a921dc0974fb7cf1d24077b5332a9630ca62c21e1263b3</td></tr><tr><th>7</th><td>0x4c5682d081e3085062c5f59bd29da9b80870fac27c94db1d4b58c443507dabbe</td><td>0xac60db623d36ab867f39572d07972b46809a7c7ceec8c852255bbb3730e0c5bf</td></tr><tr><th>8</th><td>0x0fae022876b43a8ffbf966b3135d935db856203d9862b1f560b9f75c9c2c2158</td><td>0xe70dd917d26dea5e9a668b1b6b87fef1baf5cdc0367e72211512a28fa51f7b04</td></tr><tr><th>9</th><td>0x1e84a2a314747ef8617b8ae62d0aa21058c8eab8e311d9100f376e88f870f13b</td><td>0x3e7dd307c469ded667789467b1feb3c9b263301ef862b833c01791944bf2f6a2</td></tr><tr><th>10</th><td>0x60f9ebd4377270e7de605eb9421eb836af796eb703b239b9f2a53ca04134ac48</td><td>0xf621f0690157a39b8ff42afac34a8133c791f2d9381a6392d25b2b8a48dcd35d</td></tr><tr><th>&vellip;</th><td>&vellip;</td><td>&vellip;</td></tr></tbody></table>"
      ],
      "text/latex": [
       "\\begin{tabular}{r|cc}\n",
       "\t& withdraw\\_hashes & deposit\\_hashes\\\\\n",
       "\t\\hline\n",
       "\t& Any & Any\\\\\n",
       "\t\\hline\n",
       "\t1 & 0x185124e22a1f913f3f71db70fc38d7ae56cd2e671bc08ebcd44d2de6f488cdbe & 0xf72d23287b3bf7dfc53633e3be0f728d9d5068eadb927eb79045d31d34f6538d \\\\\n",
       "\t2 & 0xc1b92522a23530412f24c0edfe62be443d8d0c3217562ca184505249e0235bba & 0x936d0599d352096cdfcc1df76c3a027ce3ff2d835cd0b3030e7aaa688ce2fdcb \\\\\n",
       "\t3 & 0x88fde9e123ac0a9b011428ffb713c424c8aa8c5980a23fb7d8f2ba157f50d29e & 0x0e1295215085d3f9e4799e8fd2a70fba45ce15dad27e284b71a503a630f5f542 \\\\\n",
       "\t4 & 0x062c1c415381703a6a00022bbb93ac541ca0092f84c8cc34658e4224da945bdd & 0x42caf310513b6eed265b9cd7e260c0325282d8d209035188d7d74b3ef85f509f \\\\\n",
       "\t5 & 0x4ce400034e4118bb1f57613ab19bb3b4697e1a569abe34b50a4ee26d03af6bd0 & 0x536caff3cb304258ddd02281f9122b73e1a0e2f24a6e102e45ab293b2cdc14a1 \\\\\n",
       "\t6 & 0xc4b5fc604fbddc059d9f734a6cd215da7a8396c78f3f40191081e2307db135f4 & 0x9da5cc9fd17e1f8f75a921dc0974fb7cf1d24077b5332a9630ca62c21e1263b3 \\\\\n",
       "\t7 & 0x4c5682d081e3085062c5f59bd29da9b80870fac27c94db1d4b58c443507dabbe & 0xac60db623d36ab867f39572d07972b46809a7c7ceec8c852255bbb3730e0c5bf \\\\\n",
       "\t8 & 0x0fae022876b43a8ffbf966b3135d935db856203d9862b1f560b9f75c9c2c2158 & 0xe70dd917d26dea5e9a668b1b6b87fef1baf5cdc0367e72211512a28fa51f7b04 \\\\\n",
       "\t9 & 0x1e84a2a314747ef8617b8ae62d0aa21058c8eab8e311d9100f376e88f870f13b & 0x3e7dd307c469ded667789467b1feb3c9b263301ef862b833c01791944bf2f6a2 \\\\\n",
       "\t10 & 0x60f9ebd4377270e7de605eb9421eb836af796eb703b239b9f2a53ca04134ac48 & 0xf621f0690157a39b8ff42afac34a8133c791f2d9381a6392d25b2b8a48dcd35d \\\\\n",
       "\t$\\dots$ & $\\dots$ & $\\dots$ \\\\\n",
       "\\end{tabular}\n"
      ],
      "text/plain": [
       "\u001b[1m172×2 DataFrame\u001b[0m\n",
       "\u001b[1m Row \u001b[0m│\u001b[1m withdraw_hashes                   \u001b[0m\u001b[1m deposit_hashes                    \u001b[0m\n",
       "\u001b[1m     \u001b[0m│\u001b[90m Any                               \u001b[0m\u001b[90m Any                               \u001b[0m\n",
       "─────┼──────────────────────────────────────────────────────────────────────\n",
       "   1 │ 0x185124e22a1f913f3f71db70fc38d7…  0xf72d23287b3bf7dfc53633e3be0f72…\n",
       "  ⋮  │                 ⋮                                  ⋮\n",
       "\u001b[36m                                                            171 rows omitted\u001b[0m"
      ]
     },
     "execution_count": 13,
     "metadata": {},
     "output_type": "execute_result"
    }
   ],
   "source": [
    "linked_transactions_by_pool = DataFrame([collect(keys(linked_transactions_by_pool)), collect(values(linked_transactions_by_pool))], [\"withdraw_hashes\",\"deposit_hashes\"])"
   ]
  }
 ],
 "metadata": {
  "kernelspec": {
   "display_name": "Julia 1.6.1",
   "language": "julia",
   "name": "julia-1.6"
  },
  "language_info": {
   "file_extension": ".jl",
   "mimetype": "application/julia",
   "name": "julia",
   "version": "1.6.3"
  }
 },
 "nbformat": 4,
 "nbformat_minor": 5
}
