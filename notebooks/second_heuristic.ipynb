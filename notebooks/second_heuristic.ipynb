{
 "cells": [
  {
   "cell_type": "code",
   "execution_count": 1,
   "metadata": {},
   "outputs": [],
   "source": [
    "using DataFrames\n",
    "using CSV"
   ]
  },
  {
   "cell_type": "code",
   "execution_count": 2,
   "metadata": {},
   "outputs": [],
   "source": [
    "withdraw_transactions_df = CSV.read(\"../data/tornado_withdraw_df.csv\", DataFrame)\n",
    "deposit_transactions_df = CSV.read(\"../data/deposit_transactions.csv\", DataFrame);"
   ]
  },
  {
   "cell_type": "code",
   "execution_count": 3,
   "metadata": {},
   "outputs": [],
   "source": [
    "ENV[\"COLUMNS\"]=10000\n",
    "ENV[\"LINES\"]=10;"
   ]
  },
  {
   "cell_type": "code",
   "execution_count": 4,
   "metadata": {},
   "outputs": [
    {
     "data": {
      "text/plain": [
       "filter_by_unique_gas_price (generic function with 1 method)"
      ]
     },
     "execution_count": 4,
     "metadata": {},
     "output_type": "execute_result"
    }
   ],
   "source": [
    "# Filters a transaction DataFrame, leaving only the rows that have unique gas_price. \n",
    "function filter_by_unique_gas_price(transactions_df)\n",
    "    unique_gas_prices = filter(row -> row.count==1, combine(groupby(transactions_df, :gas_price), nrow => :count))[\"gas_price\"]\n",
    "    filter(row -> row.gas_price ∈ unique_gas_prices, transactions_df)\n",
    "end"
   ]
  },
  {
   "cell_type": "code",
   "execution_count": 5,
   "metadata": {},
   "outputs": [
    {
     "data": {
      "text/html": [
       "<table class=\"data-frame\"><thead><tr><th></th><th>hash</th><th>nonce</th><th>transaction_index</th><th>from_address</th><th>to_address</th><th>value</th><th>gas</th><th>gas_price</th><th>input</th><th>receipt_cumulative_gas_used</th><th>receipt_gas_used</th><th>receipt_contract_address</th><th>receipt_root</th><th>receipt_status</th><th>block_timestamp</th><th>block_number</th><th>block_hash</th><th>max_fee_per_gas</th><th>max_priority_fee_per_gas</th><th>transaction_type</th><th>receipt_effective_gas_price</th></tr><tr><th></th><th>String</th><th>Int64</th><th>Int64</th><th>String</th><th>String</th><th>Float64</th><th>Int64</th><th>Int64</th><th>String</th><th>Int64</th><th>Int64</th><th>Missing</th><th>Missing</th><th>Int64</th><th>String</th><th>Int64</th><th>String</th><th>Int64?</th><th>Int64?</th><th>Int64?</th><th>Int64</th></tr></thead><tbody><p>5 rows × 21 columns</p><tr><th>1</th><td>0xbd83053f8afa7777f54a4aca6b8e112fa31b888922dc5b9a9a65eb66e9a6996f</td><td>7</td><td>63</td><td>0x6c6e4816ecfa4481472ff88f32a3e00f2eaa95a1</td><td>0x12d66f87a04a9e220743712ce6d9bb1b5616b8fc</td><td>1.0e17</td><td>800000</td><td>30838446643</td><td>0xb214faa527a20ba920c8ae877d67ce1ebd7420dafb3150e001eca78166fd6d66a5fd253e</td><td>6222489</td><td>800000</td><td><em>missing</em></td><td><em>missing</em></td><td>0</td><td>2020-05-27 03:30:44 UTC</td><td>10145408</td><td>0x837b3482443f027f6f045644bf002243f72304686015a2d6265676b2a2fc630b</td><td><em>missing</em></td><td><em>missing</em></td><td><em>missing</em></td><td>30838446643</td></tr><tr><th>2</th><td>0x6c416af65ea3a4bc096663c94f5b1fb0cba91607f61703657094f1f5441a3a12</td><td>3</td><td>51</td><td>0x27972d10f153099b3649ea8546a11d91315455e5</td><td>0x0836222f2b2b24a3f36f98668ed8f0b38d1a872f</td><td>0.0</td><td>1200000</td><td>71302125000</td><td>0xb214faa52d8f3e8b9934e70c0fbf5bb3cf355027815a11191fb5e2f1d3f6f84beb2a7c35</td><td>4108630</td><td>992258</td><td><em>missing</em></td><td><em>missing</em></td><td>1</td><td>2020-09-26 08:10:08 UTC</td><td>10937092</td><td>0x32f0f0fd04d3af8210d2eb956fdec21e09ebff5a55209c0a2c559bb1c034b158</td><td><em>missing</em></td><td><em>missing</em></td><td><em>missing</em></td><td>71302125000</td></tr><tr><th>3</th><td>0x830dbd534d13cd43cb078b7cad8a9c5137bb19aa8bf38e0c3b0e222b688d8340</td><td>0</td><td>63</td><td>0x43eefeb3db479e7b22e015572f38b6af633a43ff</td><td>0x47ce0c6ed5b0ce3d3a51fdb1c52dc66a7c3c2936</td><td>1.0e18</td><td>275000</td><td>595000000000</td><td>0xb214faa500fe7a849e7374f033604417bf6ccd369ea65e027f5327f58fcb8667cb469769</td><td>4390453</td><td>274947</td><td><em>missing</em></td><td><em>missing</em></td><td>0</td><td>2020-09-17 20:50:21 UTC</td><td>10881994</td><td>0x5270afd78906cc7264620b2c6fbf8c9221cf8053c8111edc0d7457966340dd81</td><td><em>missing</em></td><td><em>missing</em></td><td><em>missing</em></td><td>595000000000</td></tr><tr><th>4</th><td>0x3fc1bccbcb3d55967104809fa30b97e841d1cac61259e4de0553680802320985</td><td>90</td><td>49</td><td>0x1f28f2ef476178baa1bdd52a7dd666046d87288f</td><td>0x12d66f87a04a9e220743712ce6d9bb1b5616b8fc</td><td>1.0e17</td><td>1200000</td><td>2940860215</td><td>0xb214faa509ab186ab3c0fc40dd60fcd3387d430adad51c31cae01a2b92280c0c7b580087</td><td>4928980</td><td>978691</td><td><em>missing</em></td><td><em>missing</em></td><td>1</td><td>2020-02-22 16:58:22 UTC</td><td>9534369</td><td>0x275673e2c9caec96e76b9c86e7485ea7ec707ee2c57b38cd43b001e2c330cb37</td><td><em>missing</em></td><td><em>missing</em></td><td><em>missing</em></td><td>2940860215</td></tr><tr><th>5</th><td>0x90b978750a56c400bae91ad65e1cf2abe45b1218defe2a22f7f26bb22321b32d</td><td>26</td><td>57</td><td>0x823c54e4fc30665ebcf045d85aa0dae04015670d</td><td>0x12d66f87a04a9e220743712ce6d9bb1b5616b8fc</td><td>1.0e17</td><td>1200000</td><td>2047069131</td><td>0xb214faa50c8acbec5f24055cdc9600ad6523ebd062da038769e974d4f489a63ef9610c67</td><td>2905958</td><td>978691</td><td><em>missing</em></td><td><em>missing</em></td><td>1</td><td>2020-01-24 23:45:33 UTC</td><td>9347529</td><td>0x4ef1e187ceae83f51f847f39c9355a124317fc7696701273d1309dd90960b76e</td><td><em>missing</em></td><td><em>missing</em></td><td><em>missing</em></td><td>2047069131</td></tr></tbody></table>"
      ],
      "text/latex": [
       "\\begin{tabular}{r|ccccccccccccccccccccc}\n",
       "\t& hash & nonce & transaction\\_index & from\\_address & to\\_address & value & gas & gas\\_price & input & receipt\\_cumulative\\_gas\\_used & receipt\\_gas\\_used & receipt\\_contract\\_address & receipt\\_root & receipt\\_status & block\\_timestamp & block\\_number & block\\_hash & max\\_fee\\_per\\_gas & max\\_priority\\_fee\\_per\\_gas & transaction\\_type & receipt\\_effective\\_gas\\_price\\\\\n",
       "\t\\hline\n",
       "\t& String & Int64 & Int64 & String & String & Float64 & Int64 & Int64 & String & Int64 & Int64 & Missing & Missing & Int64 & String & Int64 & String & Int64? & Int64? & Int64? & Int64\\\\\n",
       "\t\\hline\n",
       "\t1 & 0xbd83053f8afa7777f54a4aca6b8e112fa31b888922dc5b9a9a65eb66e9a6996f & 7 & 63 & 0x6c6e4816ecfa4481472ff88f32a3e00f2eaa95a1 & 0x12d66f87a04a9e220743712ce6d9bb1b5616b8fc & 1.0e17 & 800000 & 30838446643 & 0xb214faa527a20ba920c8ae877d67ce1ebd7420dafb3150e001eca78166fd6d66a5fd253e & 6222489 & 800000 & \\emph{missing} & \\emph{missing} & 0 & 2020-05-27 03:30:44 UTC & 10145408 & 0x837b3482443f027f6f045644bf002243f72304686015a2d6265676b2a2fc630b & \\emph{missing} & \\emph{missing} & \\emph{missing} & 30838446643 \\\\\n",
       "\t2 & 0x6c416af65ea3a4bc096663c94f5b1fb0cba91607f61703657094f1f5441a3a12 & 3 & 51 & 0x27972d10f153099b3649ea8546a11d91315455e5 & 0x0836222f2b2b24a3f36f98668ed8f0b38d1a872f & 0.0 & 1200000 & 71302125000 & 0xb214faa52d8f3e8b9934e70c0fbf5bb3cf355027815a11191fb5e2f1d3f6f84beb2a7c35 & 4108630 & 992258 & \\emph{missing} & \\emph{missing} & 1 & 2020-09-26 08:10:08 UTC & 10937092 & 0x32f0f0fd04d3af8210d2eb956fdec21e09ebff5a55209c0a2c559bb1c034b158 & \\emph{missing} & \\emph{missing} & \\emph{missing} & 71302125000 \\\\\n",
       "\t3 & 0x830dbd534d13cd43cb078b7cad8a9c5137bb19aa8bf38e0c3b0e222b688d8340 & 0 & 63 & 0x43eefeb3db479e7b22e015572f38b6af633a43ff & 0x47ce0c6ed5b0ce3d3a51fdb1c52dc66a7c3c2936 & 1.0e18 & 275000 & 595000000000 & 0xb214faa500fe7a849e7374f033604417bf6ccd369ea65e027f5327f58fcb8667cb469769 & 4390453 & 274947 & \\emph{missing} & \\emph{missing} & 0 & 2020-09-17 20:50:21 UTC & 10881994 & 0x5270afd78906cc7264620b2c6fbf8c9221cf8053c8111edc0d7457966340dd81 & \\emph{missing} & \\emph{missing} & \\emph{missing} & 595000000000 \\\\\n",
       "\t4 & 0x3fc1bccbcb3d55967104809fa30b97e841d1cac61259e4de0553680802320985 & 90 & 49 & 0x1f28f2ef476178baa1bdd52a7dd666046d87288f & 0x12d66f87a04a9e220743712ce6d9bb1b5616b8fc & 1.0e17 & 1200000 & 2940860215 & 0xb214faa509ab186ab3c0fc40dd60fcd3387d430adad51c31cae01a2b92280c0c7b580087 & 4928980 & 978691 & \\emph{missing} & \\emph{missing} & 1 & 2020-02-22 16:58:22 UTC & 9534369 & 0x275673e2c9caec96e76b9c86e7485ea7ec707ee2c57b38cd43b001e2c330cb37 & \\emph{missing} & \\emph{missing} & \\emph{missing} & 2940860215 \\\\\n",
       "\t5 & 0x90b978750a56c400bae91ad65e1cf2abe45b1218defe2a22f7f26bb22321b32d & 26 & 57 & 0x823c54e4fc30665ebcf045d85aa0dae04015670d & 0x12d66f87a04a9e220743712ce6d9bb1b5616b8fc & 1.0e17 & 1200000 & 2047069131 & 0xb214faa50c8acbec5f24055cdc9600ad6523ebd062da038769e974d4f489a63ef9610c67 & 2905958 & 978691 & \\emph{missing} & \\emph{missing} & 1 & 2020-01-24 23:45:33 UTC & 9347529 & 0x4ef1e187ceae83f51f847f39c9355a124317fc7696701273d1309dd90960b76e & \\emph{missing} & \\emph{missing} & \\emph{missing} & 2047069131 \\\\\n",
       "\\end{tabular}\n"
      ],
      "text/plain": [
       "5×21 DataFrame\n"
      ]
     },
     "execution_count": 5,
     "metadata": {},
     "output_type": "execute_result"
    }
   ],
   "source": [
    "unique_gasp_deposits = filter_by_unique_gas_price(deposit_transactions_df)\n",
    "first(unique_gasp_deposits, 5)"
   ]
  },
  {
   "cell_type": "code",
   "execution_count": 6,
   "metadata": {},
   "outputs": [
    {
     "data": {
      "text/plain": [
       "same_gas_price (generic function with 1 method)"
      ]
     },
     "execution_count": 6,
     "metadata": {},
     "output_type": "execute_result"
    }
   ],
   "source": [
    "# Given a withdrawal transaction and a DataFrame with unique gas_price deposit transactions, checks\n",
    "# if there is a deposit transaction with the same gas_price as the withdrawal transaction.\n",
    "function same_gas_price(withdrawal_transaction, unique_gas_price_deposit_dataframe)\n",
    "    for row in eachrow(unique_gas_price_deposit_dataframe)\n",
    "        if withdrawal_transaction.gas_price == row.gas_price && withdrawal_transaction.block_timestamp > row.block_timestamp\n",
    "            return (true, row.hash)\n",
    "        end\n",
    "    end\n",
    "    (false, nothing)\n",
    "end"
   ]
  },
  {
   "cell_type": "code",
   "execution_count": 7,
   "metadata": {},
   "outputs": [
    {
     "data": {
      "text/plain": [
       "(false, nothing)"
      ]
     },
     "execution_count": 7,
     "metadata": {},
     "output_type": "execute_result"
    }
   ],
   "source": [
    "same_gas_price(withdraw_transactions_df[1,:], unique_gasp_deposits)"
   ]
  },
  {
   "cell_type": "code",
   "execution_count": 8,
   "metadata": {},
   "outputs": [
    {
     "data": {
      "text/plain": [
       "apply_same_gas_price (generic function with 1 method)"
      ]
     },
     "execution_count": 8,
     "metadata": {},
     "output_type": "execute_result"
    }
   ],
   "source": [
    "# Applies the function to detect same unique gas_prices to all the withdraw_transactions data.\n",
    "# Returns a list of tuples, each tuple with the deposit transaction hash in the first index and\n",
    "# the withdrawal transaction hash in the second index.\n",
    "function apply_same_gas_price(deposit_dataframe, withdraw_dataframe)\n",
    "    unique_gas_price_deposits = filter_by_unique_gas_price(deposit_dataframe)\n",
    "    withdrawal_to_deposit = []\n",
    "    for withdraw_row in eachrow(withdraw_dataframe)\n",
    "        same_gas_deposit_hash = same_gas_price(withdraw_row, unique_gas_price_deposits)\n",
    "        if same_gas_deposit_hash[1]\n",
    "            push!(withdrawal_to_deposit, (same_gas_deposit_hash[2], withdraw_row.hash))\n",
    "        end\n",
    "    end\n",
    "    withdrawal_to_deposit\n",
    "end "
   ]
  },
  {
   "cell_type": "code",
   "execution_count": 9,
   "metadata": {},
   "outputs": [],
   "source": [
    "link_same_gas = apply_same_gas_price(deposit_transactions_df, withdraw_transactions_df);"
   ]
  },
  {
   "cell_type": "code",
   "execution_count": 10,
   "metadata": {},
   "outputs": [
    {
     "data": {
      "text/html": [
       "<table class=\"data-frame\"><thead><tr><th></th><th>deposit_hash</th><th>withdrawl_hash</th></tr><tr><th></th><th>String</th><th>String</th></tr></thead><tbody><p>5 rows × 2 columns</p><tr><th>1</th><td>0x4e6f643e8a8c1fb123ab4921fc7260ddccce3c9823c1b1b25de6d2658be46350</td><td>0x607e9843ffa508428c61d8493f630135eab69c50884cef0c8050eaac7f7fadd7</td></tr><tr><th>2</th><td>0x194ad37f2a3bf793747de0317ad01aa510388e22a6fd10d317a98df09839fdb9</td><td>0xfae1528493709f9154436933ecdfb754ef36692a59b0b927af99896c52494ace</td></tr><tr><th>3</th><td>0xbf31dc241dabc09f93816fdc7669063362ec2e05cf6e0df324a1c7685581bf98</td><td>0xf98448ed1ca40e2ba70965488f3b91a1459815965fc39dd1cd30d8881b157a90</td></tr><tr><th>4</th><td>0xbf31dc241dabc09f93816fdc7669063362ec2e05cf6e0df324a1c7685581bf98</td><td>0x9b1516dd5f14bc930034bea7ad5d0d61a428b7f34ac9cf24eb27e77503e8b4ea</td></tr><tr><th>5</th><td>0x4cb1619f2d51cc7ecb926905747804e589765634ea737d957a19383a7c32162f</td><td>0x212b85e840b1789d00e4ea41ff2317e146ec1fe7df6994b3c323f507ef549f9b</td></tr></tbody></table>"
      ],
      "text/latex": [
       "\\begin{tabular}{r|cc}\n",
       "\t& deposit\\_hash & withdrawl\\_hash\\\\\n",
       "\t\\hline\n",
       "\t& String & String\\\\\n",
       "\t\\hline\n",
       "\t1 & 0x4e6f643e8a8c1fb123ab4921fc7260ddccce3c9823c1b1b25de6d2658be46350 & 0x607e9843ffa508428c61d8493f630135eab69c50884cef0c8050eaac7f7fadd7 \\\\\n",
       "\t2 & 0x194ad37f2a3bf793747de0317ad01aa510388e22a6fd10d317a98df09839fdb9 & 0xfae1528493709f9154436933ecdfb754ef36692a59b0b927af99896c52494ace \\\\\n",
       "\t3 & 0xbf31dc241dabc09f93816fdc7669063362ec2e05cf6e0df324a1c7685581bf98 & 0xf98448ed1ca40e2ba70965488f3b91a1459815965fc39dd1cd30d8881b157a90 \\\\\n",
       "\t4 & 0xbf31dc241dabc09f93816fdc7669063362ec2e05cf6e0df324a1c7685581bf98 & 0x9b1516dd5f14bc930034bea7ad5d0d61a428b7f34ac9cf24eb27e77503e8b4ea \\\\\n",
       "\t5 & 0x4cb1619f2d51cc7ecb926905747804e589765634ea737d957a19383a7c32162f & 0x212b85e840b1789d00e4ea41ff2317e146ec1fe7df6994b3c323f507ef549f9b \\\\\n",
       "\\end{tabular}\n"
      ],
      "text/plain": [
       "5×2 DataFrame\n"
      ]
     },
     "execution_count": 10,
     "metadata": {},
     "output_type": "execute_result"
    }
   ],
   "source": [
    "# A DataFrame with the linked transactions.\n",
    "linked_transactions_df = DataFrame(\"deposit_hash\"=>[tuple[1] for tuple in link_same_gas],\"withdrawl_hash\"=>[tuple[2] for tuple in link_same_gas])\n",
    "first(linked_transactions_df, 5)"
   ]
  },
  {
   "cell_type": "code",
   "execution_count": null,
   "metadata": {},
   "outputs": [],
   "source": []
  }
 ],
 "metadata": {
  "kernelspec": {
   "display_name": "Julia 1.5.3",
   "language": "julia",
   "name": "julia-1.5"
  },
  "language_info": {
   "file_extension": ".jl",
   "mimetype": "application/julia",
   "name": "julia",
   "version": "1.5.3"
  }
 },
 "nbformat": 4,
 "nbformat_minor": 4
}
