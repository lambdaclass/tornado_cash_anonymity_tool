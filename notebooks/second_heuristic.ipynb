{
 "cells": [
  {
   "cell_type": "code",
   "execution_count": 1,
   "metadata": {},
   "outputs": [],
   "source": [
    "using DataFrames\n",
    "using CSV"
   ]
  },
  {
   "cell_type": "code",
   "execution_count": 2,
   "metadata": {},
   "outputs": [],
   "source": [
    "withdraw_transactions_df = CSV.read(\"../data/tornado_withdraw_df.csv\", DataFrame)\n",
    "deposit_transactions_df = CSV.read(\"../data/deposit_transactions.csv\", DataFrame);"
   ]
  },
  {
   "cell_type": "code",
   "execution_count": 3,
   "metadata": {},
   "outputs": [
    {
     "data": {
      "text/plain": [
       "10000"
      ]
     },
     "execution_count": 3,
     "metadata": {},
     "output_type": "execute_result"
    }
   ],
   "source": [
    "ENV[\"COLUMNS\"]=10000"
   ]
  },
  {
   "cell_type": "code",
   "execution_count": 4,
   "metadata": {},
   "outputs": [
    {
     "data": {
      "text/plain": [
       "same_gas_price (generic function with 1 method)"
      ]
     },
     "execution_count": 4,
     "metadata": {},
     "output_type": "execute_result"
    }
   ],
   "source": [
    "function same_gas_price(withdrawal_address_transaction, deposit_dataframe)\n",
    "    same_gas_price = []\n",
    "    for row in eachrow(deposit_dataframe)\n",
    "        if withdrawal_address_transaction.gas_price == row.gas_price && withdrawal_address_transaction.block_timestamp > row.block_timestamp\n",
    "            push!(same_gas_price, row.hash)\n",
    "        end\n",
    "    end\n",
    "    same_gas_price\n",
    "end"
   ]
  },
  {
   "cell_type": "code",
   "execution_count": 5,
   "metadata": {},
   "outputs": [
    {
     "data": {
      "text/plain": [
       "41-element Array{Any,1}:\n",
       " \"0x654052299f351da7dca61a3af77bc2e1e30f9fa8c1304ca1f995771709c85317\"\n",
       " \"0x65e5c538d2b7573b6572283ffd31e5943a047b54c4a402a493897c008b6c4431\"\n",
       " \"0x555fc2c856f95c7b4529888faf31152ab64ef31a6a0ce3dac3a1a5e8674f05e7\"\n",
       " \"0x7e8a926e2accf193cc02c7946d34dd2a481de02e497bd8a1d993c7160544f26e\"\n",
       " \"0x588a2c8cb180bafb03e911ed657230b756a906a84594354c8839a77151ec5f50\"\n",
       " \"0x444ff60f12e018f77adb8f72da159f9572b59f98bc9816a45b259ffd6155af84\"\n",
       " \"0x9bdf0bac379eb49ec9b9d2dc81366daacdd93ecf1dbb7952e1740a9212ce2d60\"\n",
       " \"0x700cbbd11c3deda9c575b1955b7cd4d718acc561b0fe30c37c84c263361acc2a\"\n",
       " \"0x5a809cacc658bb8b8f7d3a12307772348b254c16b6fe29a91489e540d898d3f5\"\n",
       " \"0x568a97fb3130c2220af1cf975560d263a798c31bb8d564f5309226a46e369ff9\"\n",
       " \"0x8d802c2869e2c42d885d1ce9ae1891cfbff340e772d77688b2881ac8b3c6299d\"\n",
       " \"0xa0d948b801596792f125e8dbfa083933db6f0ec956e5f9aa4f5153f0e0668c21\"\n",
       " \"0x872383603f292d6eefdeac3395bc6f91822e29cbbc06e14e9b9b0b9b93984aae\"\n",
       " ⋮\n",
       " \"0xa12f4a2b173a32d7a719a6d28801b889e5669508cde66e0cca0ccdb0dd4af640\"\n",
       " \"0x851f801fc1e46757221042fa1c4ce67220ba5bedc0ed09ee6e2478b6e84074a4\"\n",
       " \"0x674a8d0ad6428dd0b016b9134d03afbbda5f8bf4d49f598e39556e3636486771\"\n",
       " \"0x10638f90609ed646c3a593c1ca732b9eaa7abbf5965b85cef394b42340489da7\"\n",
       " \"0xed6d5410baee2679bec2302b572c7d62d397ef319f7aff9623df19f47c28f98b\"\n",
       " \"0xf2eed7a4e8f396cfaa28bcd069d375f619d2ccf5eb024c5ffcc92e43b1fa0cf7\"\n",
       " \"0x54173be44253ae633312a6482cf16aafb67a50fc86d3afb3224c77589f81e453\"\n",
       " \"0xdba25f5677e12bfcf3fc5e38aaf046070086a6a7960505b01f1c5e036a570d53\"\n",
       " \"0xcb51f7f77e11780d84a4b58b763e704b4747caae6314da92050cbab90aaa4607\"\n",
       " \"0xf69cc622921140d3d0ebc8e186a6675be8d1c3a56a32736bff8d75877205ebfe\"\n",
       " \"0x75b9e18332477d22aa31a8dc307d7589267c3d43ec34c66b2604f82c34f0d3e5\"\n",
       " \"0xe4d2b89cd8b77b0eedd7bb78e8b934b4e06ec18a4069135e7f40768198ebbb40\""
      ]
     },
     "execution_count": 5,
     "metadata": {},
     "output_type": "execute_result"
    }
   ],
   "source": [
    "same_gas_price(withdraw_transactions_df[1,:], deposit_transactions_df)"
   ]
  },
  {
   "cell_type": "code",
   "execution_count": 6,
   "metadata": {},
   "outputs": [
    {
     "data": {
      "text/plain": [
       "apply_same_gas_price (generic function with 1 method)"
      ]
     },
     "execution_count": 6,
     "metadata": {},
     "output_type": "execute_result"
    }
   ],
   "source": [
    "function apply_same_gas_price(deposit_dataframe, withdraw_dataframe)\n",
    "    withdrawal_to_deposit = Dict()\n",
    "    for withdraw_row in eachrow(withdraw_dataframe)\n",
    "        withdrawal_to_deposit[withdraw_row.hash] = same_gas_price(withdraw_row, deposit_dataframe)\n",
    "    end\n",
    "    withdrawal_to_deposit\n",
    "end     "
   ]
  },
  {
   "cell_type": "code",
   "execution_count": null,
   "metadata": {
    "scrolled": false
   },
   "outputs": [],
   "source": [
    "link_same_gas = apply_same_gas_price(deposit_transactions_df, withdraw_transactions_df);"
   ]
  },
  {
   "cell_type": "code",
   "execution_count": 36,
   "metadata": {},
   "outputs": [],
   "source": [
    "hashes = collect(keys(link_same_gas));"
   ]
  },
  {
   "cell_type": "code",
   "execution_count": 37,
   "metadata": {},
   "outputs": [],
   "source": [
    "num_deposit_links = [length(link_same_gas[key]) for key in collect(keys(link_same_gas))];"
   ]
  },
  {
   "cell_type": "code",
   "execution_count": 46,
   "metadata": {},
   "outputs": [
    {
     "data": {
      "text/html": [
       "<table class=\"data-frame\"><thead><tr><th></th><th>withdraw_hash</th><th>linked_deposits</th></tr><tr><th></th><th>Any</th><th>Int64</th></tr></thead><tbody><p>22,009 rows × 2 columns</p><tr><th>1</th><td>0xe5bb17e135adbd5c381f626920779db580f4dbb4b2c8ee557df7fc17065f80d7</td><td>79</td></tr><tr><th>2</th><td>0x86cbefe25c942108732dd4aded45fa322a777f3a31c6b660343934b2cbb971d6</td><td>69</td></tr><tr><th>3</th><td>0xe02d94bb77ec0ebf35b99a3040f7d6da3dcfe3c97c728dfd9ac4d08fdc3a1394</td><td>7</td></tr><tr><th>4</th><td>0x5f863ded4ac679e4075ef59097067e96182e20ce0479390d0a5613fd10443498</td><td>16</td></tr><tr><th>5</th><td>0xbbfc2bec5bb8079f8b9aff36bc18d55d0ed22fd01dccf1b28c16b8cf27351bd2</td><td>26</td></tr><tr><th>6</th><td>0x6ed0ed9f7bb86055430d669a01209723762994d859e4aeb9ea4cf1b152d6ebdc</td><td>11</td></tr><tr><th>7</th><td>0x9011dff9eac19b42a50c0b84a377d724b94b7959748853c9e228bf90d166c414</td><td>77</td></tr><tr><th>8</th><td>0x004982c4e614d167780d97e29329437b9f185e37bdc3c2e62179be11d7ab4f10</td><td>52</td></tr><tr><th>9</th><td>0xe150246c892c55cb330fb06c77f3bd016f051958ccec4d8452363012614c4273</td><td>106</td></tr><tr><th>10</th><td>0x02c9ab3126689d612bb37e55711228cd748c063f78a077a4ca02fe741997d3b8</td><td>64</td></tr><tr><th>11</th><td>0xfde8ccb7ce7e6969c5f31927641766dd269c89cf18946c7d853d88ce3cae1ac2</td><td>213</td></tr><tr><th>12</th><td>0x1947e968c0ea1b5127bad138ca6117ccf7c7a55797141eb358d4df57f0d32955</td><td>0</td></tr><tr><th>13</th><td>0x2bb0a252a13b38fd249fa70b0403e2c20d3506170c4d094f4826d76f1a9e58c5</td><td>358</td></tr><tr><th>14</th><td>0x3013e1b3d756cb4827d3ea9a4be4a185f78d34cb8e6679e5f1062807bc492c4f</td><td>4</td></tr><tr><th>15</th><td>0x282e1a4fdd03bf1a572602f997e66126da19fcb361e950707f9d4ce6040a0e7b</td><td>355</td></tr><tr><th>16</th><td>0x4f6d16b1b0ecdd7b69953ed38eb99642413521d260e46f21f51a8be8134da6b9</td><td>2</td></tr><tr><th>17</th><td>0x259f4784d30bdd31e055e1c36502df70999242aa216cfed43281bcc217ad990b</td><td>17</td></tr><tr><th>18</th><td>0x209c5bdeada76691543d4ee032b75f0e707e4003f70a6e0f9d30e272cf66970a</td><td>129</td></tr><tr><th>19</th><td>0x0fea994acfe86d9be35141f1562f9bbbc960bcf1ae73d1b3392153cee2b858a3</td><td>53</td></tr><tr><th>20</th><td>0xb66b86cdfc22cecc12b63c9e48268e1e0270d40ab973994d8ff7a4a9db710afe</td><td>146</td></tr><tr><th>21</th><td>0x0a26721be881dbba07472087aacd6dcafdc89f722dd3a4bc415bf4b62c5a92b7</td><td>23</td></tr><tr><th>22</th><td>0x6b038ae848d2826ee4f2ea33f1f258b7fadc818ff77bc60df9f308a920dad394</td><td>132</td></tr><tr><th>23</th><td>0xd21f08ddc72981f282fd95aedc9133426bcc5ca01838a92246dbbba72e0a5931</td><td>314</td></tr><tr><th>24</th><td>0x18b8a47acb890a1ccbf4d83d8ca5d8f67f5997ac7a04c5896eb11ee8dbede021</td><td>0</td></tr><tr><th>25</th><td>0x326ff6059d84bdeb1b18eccb0ce60692e66fcadd10b8f5accd0f60017340a308</td><td>290</td></tr><tr><th>26</th><td>0x35055487c3ccaadc2b5acb2e822343d700092fe69e137bce9b78c2b4bfa306ab</td><td>2</td></tr><tr><th>27</th><td>0x167b5be9e24cabcbdbffcc462b07f53107fed6fe5cbf694dc734b4e54239dd69</td><td>153</td></tr><tr><th>28</th><td>0x982e8b0798bf9a95675f9f25986130d76fdcd8467dc7c5a01c467bb3e9fbe965</td><td>0</td></tr><tr><th>29</th><td>0x0d9671380cca1ba8ef0dcc9d79c91a54ed8251f7f56b4ad8ed6384f7529e6c13</td><td>38</td></tr><tr><th>30</th><td>0x48ee8ba8b6dafef7564b4047a2cf59e63006fb79161636ca9afa7054acf548e5</td><td>58</td></tr><tr><th>&vellip;</th><td>&vellip;</td><td>&vellip;</td></tr></tbody></table>"
      ],
      "text/latex": [
       "\\begin{tabular}{r|cc}\n",
       "\t& withdraw\\_hash & linked\\_deposits\\\\\n",
       "\t\\hline\n",
       "\t& Any & Int64\\\\\n",
       "\t\\hline\n",
       "\t1 & 0xe5bb17e135adbd5c381f626920779db580f4dbb4b2c8ee557df7fc17065f80d7 & 79 \\\\\n",
       "\t2 & 0x86cbefe25c942108732dd4aded45fa322a777f3a31c6b660343934b2cbb971d6 & 69 \\\\\n",
       "\t3 & 0xe02d94bb77ec0ebf35b99a3040f7d6da3dcfe3c97c728dfd9ac4d08fdc3a1394 & 7 \\\\\n",
       "\t4 & 0x5f863ded4ac679e4075ef59097067e96182e20ce0479390d0a5613fd10443498 & 16 \\\\\n",
       "\t5 & 0xbbfc2bec5bb8079f8b9aff36bc18d55d0ed22fd01dccf1b28c16b8cf27351bd2 & 26 \\\\\n",
       "\t6 & 0x6ed0ed9f7bb86055430d669a01209723762994d859e4aeb9ea4cf1b152d6ebdc & 11 \\\\\n",
       "\t7 & 0x9011dff9eac19b42a50c0b84a377d724b94b7959748853c9e228bf90d166c414 & 77 \\\\\n",
       "\t8 & 0x004982c4e614d167780d97e29329437b9f185e37bdc3c2e62179be11d7ab4f10 & 52 \\\\\n",
       "\t9 & 0xe150246c892c55cb330fb06c77f3bd016f051958ccec4d8452363012614c4273 & 106 \\\\\n",
       "\t10 & 0x02c9ab3126689d612bb37e55711228cd748c063f78a077a4ca02fe741997d3b8 & 64 \\\\\n",
       "\t11 & 0xfde8ccb7ce7e6969c5f31927641766dd269c89cf18946c7d853d88ce3cae1ac2 & 213 \\\\\n",
       "\t12 & 0x1947e968c0ea1b5127bad138ca6117ccf7c7a55797141eb358d4df57f0d32955 & 0 \\\\\n",
       "\t13 & 0x2bb0a252a13b38fd249fa70b0403e2c20d3506170c4d094f4826d76f1a9e58c5 & 358 \\\\\n",
       "\t14 & 0x3013e1b3d756cb4827d3ea9a4be4a185f78d34cb8e6679e5f1062807bc492c4f & 4 \\\\\n",
       "\t15 & 0x282e1a4fdd03bf1a572602f997e66126da19fcb361e950707f9d4ce6040a0e7b & 355 \\\\\n",
       "\t16 & 0x4f6d16b1b0ecdd7b69953ed38eb99642413521d260e46f21f51a8be8134da6b9 & 2 \\\\\n",
       "\t17 & 0x259f4784d30bdd31e055e1c36502df70999242aa216cfed43281bcc217ad990b & 17 \\\\\n",
       "\t18 & 0x209c5bdeada76691543d4ee032b75f0e707e4003f70a6e0f9d30e272cf66970a & 129 \\\\\n",
       "\t19 & 0x0fea994acfe86d9be35141f1562f9bbbc960bcf1ae73d1b3392153cee2b858a3 & 53 \\\\\n",
       "\t20 & 0xb66b86cdfc22cecc12b63c9e48268e1e0270d40ab973994d8ff7a4a9db710afe & 146 \\\\\n",
       "\t21 & 0x0a26721be881dbba07472087aacd6dcafdc89f722dd3a4bc415bf4b62c5a92b7 & 23 \\\\\n",
       "\t22 & 0x6b038ae848d2826ee4f2ea33f1f258b7fadc818ff77bc60df9f308a920dad394 & 132 \\\\\n",
       "\t23 & 0xd21f08ddc72981f282fd95aedc9133426bcc5ca01838a92246dbbba72e0a5931 & 314 \\\\\n",
       "\t24 & 0x18b8a47acb890a1ccbf4d83d8ca5d8f67f5997ac7a04c5896eb11ee8dbede021 & 0 \\\\\n",
       "\t25 & 0x326ff6059d84bdeb1b18eccb0ce60692e66fcadd10b8f5accd0f60017340a308 & 290 \\\\\n",
       "\t26 & 0x35055487c3ccaadc2b5acb2e822343d700092fe69e137bce9b78c2b4bfa306ab & 2 \\\\\n",
       "\t27 & 0x167b5be9e24cabcbdbffcc462b07f53107fed6fe5cbf694dc734b4e54239dd69 & 153 \\\\\n",
       "\t28 & 0x982e8b0798bf9a95675f9f25986130d76fdcd8467dc7c5a01c467bb3e9fbe965 & 0 \\\\\n",
       "\t29 & 0x0d9671380cca1ba8ef0dcc9d79c91a54ed8251f7f56b4ad8ed6384f7529e6c13 & 38 \\\\\n",
       "\t30 & 0x48ee8ba8b6dafef7564b4047a2cf59e63006fb79161636ca9afa7054acf548e5 & 58 \\\\\n",
       "\t$\\dots$ & $\\dots$ & $\\dots$ \\\\\n",
       "\\end{tabular}\n"
      ],
      "text/plain": [
       "22009×2 DataFrame\n",
       "│ Row   │ withdraw_hash                                                      │ linked_deposits │\n",
       "│       │ \u001b[90mAny\u001b[39m                                                                │ \u001b[90mInt64\u001b[39m           │\n",
       "├───────┼────────────────────────────────────────────────────────────────────┼─────────────────┤\n",
       "│ 1     │ 0xe5bb17e135adbd5c381f626920779db580f4dbb4b2c8ee557df7fc17065f80d7 │ 79              │\n",
       "│ 2     │ 0x86cbefe25c942108732dd4aded45fa322a777f3a31c6b660343934b2cbb971d6 │ 69              │\n",
       "│ 3     │ 0xe02d94bb77ec0ebf35b99a3040f7d6da3dcfe3c97c728dfd9ac4d08fdc3a1394 │ 7               │\n",
       "│ 4     │ 0x5f863ded4ac679e4075ef59097067e96182e20ce0479390d0a5613fd10443498 │ 16              │\n",
       "│ 5     │ 0xbbfc2bec5bb8079f8b9aff36bc18d55d0ed22fd01dccf1b28c16b8cf27351bd2 │ 26              │\n",
       "│ 6     │ 0x6ed0ed9f7bb86055430d669a01209723762994d859e4aeb9ea4cf1b152d6ebdc │ 11              │\n",
       "│ 7     │ 0x9011dff9eac19b42a50c0b84a377d724b94b7959748853c9e228bf90d166c414 │ 77              │\n",
       "│ 8     │ 0x004982c4e614d167780d97e29329437b9f185e37bdc3c2e62179be11d7ab4f10 │ 52              │\n",
       "│ 9     │ 0xe150246c892c55cb330fb06c77f3bd016f051958ccec4d8452363012614c4273 │ 106             │\n",
       "│ 10    │ 0x02c9ab3126689d612bb37e55711228cd748c063f78a077a4ca02fe741997d3b8 │ 64              │\n",
       "⋮\n",
       "│ 21999 │ 0x33feff2492117014e0eec529df3b0ca995130e42c44a4c802ccf198e6be64da4 │ 187             │\n",
       "│ 22000 │ 0x9bb35560b9cac93dc14e1abb8bf328de8eb6a00396fdbd492f11e3ced677c2d6 │ 57              │\n",
       "│ 22001 │ 0x6f2df7b6ead405eb047a24a560fb9a21eb43f3233cc14035c45a8306d48d50c2 │ 111             │\n",
       "│ 22002 │ 0x4e147434280612e045c7e2b6fcea0c9a3cb65fd81506aa40cc6e5f9add5a664d │ 21              │\n",
       "│ 22003 │ 0xd30add95740ce870ab7a28a5cb8d5283768dbe467151bf88e691059a7b54307d │ 21              │\n",
       "│ 22004 │ 0x0cdc3273ca5b89157dbd5af05be80997a97d1951432149d8005869710699f5a0 │ 69              │\n",
       "│ 22005 │ 0x7b22570eb7454a7e25dfa461c82551bc4bb991d0d6dee98f0e90d197aa92d23c │ 59              │\n",
       "│ 22006 │ 0x5ece245027ac7174c5a34779a012c5c2209be25bae4f104bbf9e1b43b1a011ff │ 55              │\n",
       "│ 22007 │ 0xa64f61bb621cdedae1245c8f97a505d68995df5e6d97945a4ee8dcb6e408b2e2 │ 72              │\n",
       "│ 22008 │ 0x50d57731f044ca305289d88baf3e70f4cc6067edfc74711334040c3a9749e1e2 │ 52              │\n",
       "│ 22009 │ 0x726f542861d0c87a711f61a72faa7b3ee210850adb3388f817e68466f2d2d73f │ 45              │"
      ]
     },
     "execution_count": 46,
     "metadata": {},
     "output_type": "execute_result"
    }
   ],
   "source": [
    "link_gas_price_df = DataFrame(\"withdraw_hash\"=>hashes, \"linked_deposits\"=>num_deposit_links)"
   ]
  }
 ],
 "metadata": {
  "kernelspec": {
   "display_name": "Julia 1.5.3",
   "language": "julia",
   "name": "julia-1.5"
  },
  "language_info": {
   "file_extension": ".jl",
   "mimetype": "application/julia",
   "name": "julia",
   "version": "1.5.3"
  }
 },
 "nbformat": 4,
 "nbformat_minor": 4
}
