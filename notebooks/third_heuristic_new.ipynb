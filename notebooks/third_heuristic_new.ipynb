{
 "cells": [
  {
   "cell_type": "markdown",
   "id": "b919853c",
   "metadata": {},
   "source": [
    "## Heuristic 3 - Transactions outside TCash\n",
    "\n",
    "### Overview\n",
    "The main goal of this heuristic is to link Ethereum accounts which interacted with TCash by inspecting Ethereum transactions outside it. \n",
    "\n",
    "This is done constructing two sets, one corresponding to the unique TCash deposit addresses ($S_{D}$) and one to the unique TCash withdraw addresses ($S_{W}$), to then make a query to reveal transactions between addresses of each set.\n",
    "\n",
    "Withdraw transactions are inspected one by one, searching for Ethereum transactions done between the withdraw address and any of the deposit addresses. When such a transaction is found, the withdraw transaction is linked with all the deposits of the deposit addresses that were done before the withdraw.\n",
    "\n",
    "\n",
    "### Data\n",
    "The query to the public BigQuery database was done like so,\n",
    "\n",
    "```\n",
    "INSERT `tornado_cash_transactions.transactions_between_withdraw_and_deposit_addresses` \n",
    "SELECT * FROM `bigquery-public-data.crypto_ethereum.transactions`\n",
    "WHERE \n",
    "    (\n",
    "       (`from_address` IN ( SELECT `from_address` FROM `tornado_cash_transactions.deposit_addresses`))\n",
    "       AND \n",
    "       (`to_address` IN ( SELECT `withdraw_address` FROM `tornado_cash_transactions.withdraw_addresses`))\n",
    "    )\n",
    "    OR\n",
    "    (\n",
    "       (`from_address` IN (  SELECT `withdraw_address` FROM `tornado_cash_transactions.withdraw_addresses`))\n",
    "       AND \n",
    "       (`to_address` IN ( SELECT `from_address` FROM `tornado_cash_transactions.deposit_addresses`))\n",
    "    )\n",
    "```\n",
    "\n",
    "The resulting table has two columns, **from_address** and **to_address**, and each row corresponds to a transaction done between a TCash deposit address and a TCash withdraw address, outside TCash.\n",
    "From this table, we want to know which of the two addresses was the one that made the deposit and which one made the withdraw. In this way, we are able to link the corresponding deposit and withdraw transactions.\n",
    "\n",
    "For example, consider this entry from the resulting table,\n",
    "\n",
    "| from_address  | to_address  |\n",
    "|---------------|-------------|\n",
    "| address1      | address2    |\n",
    "\n",
    "Suppose that `address1` is an address that withdrawed in TCash and `address2` one that made a deposit. Then, we want to transform said entry to one with colums **deposit_address** and **withdraw_address** like so,\n",
    "\n",
    "| deposit_address | withdraw_address |\n",
    "|-----------------|------------------|\n",
    "| address2        | address1         |\n",
    "\n",
    "With this new table, it is straightforward to make de linking between TCash transactions. With it, we can create a mapping to know with what deposit addresses each withdraw address interacted with.\n",
    "\n",
    "\n",
    "### Some definitions \n",
    "A problem raises when there are addresses that belong to the two sets of TCash addresses $S_{D}$ and $S_{W}$.\n",
    "Let us define an address of type `D` when it belongs to $S_{D}$ and not to $S_{W}$.\n",
    "Likewise, an address of type `W` is defined when it belongs to $S_{W}$ and not to $S_{D}$. \n",
    "Finally, when an address belongs to both sets, we classify it as a `DW` type.\n",
    "\n",
    "For the cases where we got outside TCash transactions of type `D -> W` (i.e., a transaction from a *D* type address to a *W* type address) or `W -> D` (i.e., a transaction from a *W* type address to a *D* type address), it is trivial to transform this entry to the new table.\n",
    "\n",
    "In the cases where we have transactions of type `DW -> W`, `DW -> D`, `W -> DW` and `D -> DW`, it is also straightforward to transform the corresponding entries. For example, consider again this particular entry of Ethereum transactions table,\n",
    "\n",
    "\n",
    "| from_address  | to_address  |\n",
    "|---------------|-------------|\n",
    "| address1      | address2    |\n",
    "\n",
    "\n",
    "Suppose now that `address1` is of type `DW` and `address2` of type `D`. Then, `address2` is trivially placed in the `deposit_address` column. By a process of elimination, then `address1` is set in `withdraw_address` column,\n",
    "\n",
    "\n",
    "| deposit_address | withdraw_address |\n",
    "|-----------------|------------------|\n",
    "| address2        | address1         |\n",
    "\n",
    "\n",
    "When we have a transaction of type `DW -> DW`, it cannot be known which address deposited and which one made the withdraw, so the two combinations are considered. Considering again the same entry, the resulting table will be as follows,\n",
    "\n",
    "| deposit_address | withdraw_address |\n",
    "|-----------------|------------------|\n",
    "| address1        | address2         |\n",
    "| address2        | address1         |\n",
    "\n",
    "\n",
    "Then, deposits of `address1` are linked to withdraws of `address2` and deposits of `address2` are linked to withdraws of `address1`.\n",
    "\n",
    "\n",
    "### Results data structure\n",
    "The results of this heuristic are returned as a dictionary where each element has a TCash withdraw transaction hash  as key and a list of the linked TCash deposit transaction hashes as a value. For example,\n",
    "\n",
    "```\n",
    "    '0x4858': ['0x2fad', '0x750a']\n",
    "```\n",
    "This would mean that withdraw transaction `0x4858` is linked to `0x2fad` and `0x750a` deposit transactions."
   ]
  },
  {
   "cell_type": "code",
   "execution_count": 24,
   "id": "b28ee453",
   "metadata": {},
   "outputs": [],
   "source": [
    "using CSV\n",
    "using DataFrames\n",
    "using ProgressBars\n",
    "using JSON\n"
   ]
  },
  {
   "cell_type": "code",
   "execution_count": 32,
   "id": "18ab6eec",
   "metadata": {
    "scrolled": true
   },
   "outputs": [
    {
     "data": {
      "text/plain": [
       "load_addresses_and_pools_to_deposits_json (generic function with 1 method)"
      ]
     },
     "execution_count": 32,
     "metadata": {},
     "output_type": "execute_result"
    }
   ],
   "source": [
    "function load_addresses_and_pools_to_deposits_json(filepath)\n",
    "    raw_dict_list = JSON.parsefile(filepath)\n",
    "    addresses_and_pools_to_deposits = Dict{@NamedTuple{address::String, pool::String}, Vector{@NamedTuple{deposit_hash::String, timestamp::String}}}()\n",
    "        \n",
    "        #HashTimestamp = namedtuple(\"HashTimestamp\", [\"deposit_hash\", \"timestamp\"])\n",
    "        #AddressPool = namedtuple(\"AddressPool\", [\"address\", \"pool\"])\n",
    "        \n",
    "        for dic in ProgressBar(raw_dict_list, printing_delay=1)\n",
    "            addresses_and_pools_to_deposits[(address=dic[\"key\"][1], pool=dic[\"key\"][2])] = [(deposit_hash=l[1], timestamp=l[2]) for l in dic[\"value\"]]\n",
    "        end\n",
    "    \n",
    "    return addresses_and_pools_to_deposits\n",
    "end"
   ]
  },
  {
   "cell_type": "code",
   "execution_count": null,
   "id": "6d80d700",
   "metadata": {},
   "outputs": [],
   "source": [
    "\n",
    "deposit_txs = pd.read_csv(\"../data/lighter_complete_deposit_txs.csv\")\n",
    "deposit_txs[\"tcash_pool\"] = deposit_txs[\"tornado_cash_address\"].apply(lambda addr: tornado_addresses[addr])\n",
    "withdraw_txs = pd.read_csv(\"../data/lighter_complete_withdraw_txs.csv\")\n",
    "withdraw_txs[\"tcash_pool\"] = withdraw_txs[\"tornado_cash_address\"].apply(lambda addr: tornado_addresses[addr])\n",
    "\n",
    "unique_deposit_addresses = set(deposit_txs[\"from_address\"])\n",
    "unique_withdraw_addresses = set(withdraw_txs[\"recipient_address\"])\n",
    "\n",
    "addresses_and_pools_to_deposits_dict = load_addresses_and_pools_to_deposits_json('../data/addresses_and_pools_to_deposits.json')\n",
    "\n",
    "address_and_withdraw_df = pd.read_csv(\"../data/transactions_between_deposit_and_withdraw_addresses.csv\")[[\"from_address\", \"to_address\"]]"
   ]
  },
  {
   "cell_type": "code",
   "execution_count": 35,
   "id": "b7a9c6bb",
   "metadata": {},
   "outputs": [
    {
     "name": "stderr",
     "output_type": "stream",
     "text": [
      "WARNING: redefinition of constant unique_deposit_addresses. This may fail, cause incorrect answers, or produce other errors.\n",
      "WARNING: redefinition of constant unique_withdraw_addresses. This may fail, cause incorrect answers, or produce other errors.\n",
      "0.0%┣                                        ┫ 0/31.9k [00:01<-8:-52:-7, -1s/it]\n",
      "0.0%┣                                        ┫ 1/31.9k [00:01<Inf:Inf, InfGs/it]\n",
      "100.0%┣███████████████████████████████████┫ 31.9k/31.9k [00:01<00:00, 28.3kit/s]\n"
     ]
    }
   ],
   "source": [
    "deposit_txs = CSV.read(\"../data/lighter_complete_deposit_txs.csv\", DataFrame)\n",
    "withdraw_txs = CSV.read(\"../data/lighter_complete_withdraw_txs.csv\", DataFrame)\n",
    "\n",
    "const unique_deposit_addresses = Set(deposit_txs[!, :from_address])\n",
    "const unique_withdraw_addresses = Set(withdraw_txs[!, :recipient_address])\n",
    "\n",
    "addresses_and_pools_to_deposits_dict = load_addresses_and_pools_to_deposits_json(\"../data/addresses_and_pools_to_deposits.json\")\n",
    "\n",
    "outside_tcash_txs = CSV.read(\"../data/transactions_between_deposit_and_withdraw_addresses.csv\", DataFrame)\n",
    "address_and_withdraw_df = outside_tcash_txs[!, [:from_address, :to_address]];"
   ]
  },
  {
   "cell_type": "markdown",
   "id": "7d3dc434",
   "metadata": {},
   "source": [
    "### Data preprocessing\n",
    "From the data obtained in the query, we want to filter repeated and permuted transactions, since they don't provide any new information. Once a transaction between a withdraw address and a deposit address is found, they are considereded linked regardless of the direction in what the transaction was done and the number of times they interacted."
   ]
  },
  {
   "cell_type": "code",
   "execution_count": 48,
   "id": "2388b0da",
   "metadata": {},
   "outputs": [
    {
     "data": {
      "text/plain": [
       "preprocess_data (generic function with 1 method)"
      ]
     },
     "execution_count": 48,
     "metadata": {},
     "output_type": "execute_result"
    }
   ],
   "source": [
    "function filter_repeated_and_permuted(address_and_withdraw_df)\n",
    "    filtered_addresses_set = Set(Set([]))\n",
    "    \n",
    "    for row in eachrow(address_and_withdraw_df)\n",
    "        push!(filtered_addresses_set, Set([row.from_address, row.to_address]))\n",
    "    end\n",
    "  \n",
    "    filtered_addresses_set\n",
    "end\n",
    "\n",
    "function dataframe_from_set_of_sets(set_of_sets)\n",
    "    df = DataFrame(address_1=[], address_2=[])\n",
    "    for set in set_of_sets\n",
    "        push!(df, collect(set))\n",
    "    end\n",
    "    df\n",
    "end\n",
    "\n",
    "function preprocess_data(address_and_withdraw_df)\n",
    "    set = filter(x -> length(x) == 2, filter_repeated_and_permuted(address_and_withdraw_df))\n",
    "    dataframe_from_set_of_sets(set)\n",
    "end"
   ]
  },
  {
   "cell_type": "code",
   "execution_count": 49,
   "id": "60b855d8",
   "metadata": {},
   "outputs": [
    {
     "data": {
      "text/html": [
       "<table class=\"data-frame\"><thead><tr><th></th><th>address_1</th><th>address_2</th></tr><tr><th></th><th>Any</th><th>Any</th></tr></thead><tbody><p>11,230 rows × 2 columns</p><tr><th>1</th><td>0x0c63d55a244657f5606d62856bd9f1ff227c05f2</td><td>0x0e54db73f82bd9fde34ebce53ea83bd197e9044c</td></tr><tr><th>2</th><td>0xd9ee088c6ca2a90d6f0d059af17c2ec2c908bb0f</td><td>0xc73ef94bc339a2cb9a1b67820af46bf47484a1ed</td></tr><tr><th>3</th><td>0xbf7c205febae32f7874b28b9f371fe522e1fd97a</td><td>0xe5b5df72187f7d867973615f5e1144b7a95b495f</td></tr><tr><th>4</th><td>0x35f081bdf4740ffa8a56ff98e4b971fbcb7d82a7</td><td>0x09fe8f71f8e14b3d6b6456fbafaaef4a27f042cd</td></tr><tr><th>5</th><td>0xa8308e994d180ca87c6a784fcb8612dec9ede03d</td><td>0x46ba0af6bc60e6fabd9957744c057d031c720ace</td></tr><tr><th>6</th><td>0xf62e92b2452d8a0fbb2c4b03424d679c86660001</td><td>0xf94571dbdff33446dabd17040cd6236b0d2c2545</td></tr><tr><th>7</th><td>0xce91fddab3c544b59ebac665a7635561043a7def</td><td>0x865ec62a7f46aab0976ad22573fcf319c3f939ce</td></tr><tr><th>8</th><td>0x134b9eab4aa4c1489687c18c10d7338656fde32d</td><td>0x68a99f89e475a078645f4bac491360afe255dff1</td></tr><tr><th>9</th><td>0xcd1690b5ae49b4bd1ac5d201dccb461887a76dcd</td><td>0x8a83716acd66d9e1fb18c9b79540b72e04f80ac0</td></tr><tr><th>10</th><td>0xc77fa6c05b4e472feee7c0f9b20e70c5bf33a99b</td><td>0x4e1ce0b96fc37f81f5508c6608687af4f78f23b2</td></tr><tr><th>11</th><td>0xdf86d9ca55e2ebf191d11337d962d5686893b4e2</td><td>0x9832178f975879c0765bef385e40a9776f49ac69</td></tr><tr><th>12</th><td>0x64814817b4174c4b0fab09b87122cf62c9907788</td><td>0x0857357c8b2f6a5a27c2adb0f5e97086028d55ca</td></tr><tr><th>13</th><td>0x56258340928387d88b7b619b96bc008c173d67cd</td><td>0x467ea1dac5e8ea37c8040cf81b4b15f66cf3eb2c</td></tr><tr><th>14</th><td>0x1045d46851b649363297c9969c18d7d4c1683d08</td><td>0xdf23b720cdf2b2fe62be9be5b6637f2688bed834</td></tr><tr><th>15</th><td>0xa79eb13e7336d6c240f6718d572a8b5aec0623c6</td><td>0x7c085b8ab3230028ddd458faa0f9d137e039bcf5</td></tr><tr><th>16</th><td>0xb9b8ef61b7851276b0239757a039d54a23804cbb</td><td>0x20068ff6c39b59112b2488dc33660f5cc40689bd</td></tr><tr><th>17</th><td>0x2f80e5163a7a774038753593010173322ea6f9fe</td><td>0xd4c8127af1de3ebf8ab7449aac0fd892b70f3b45</td></tr><tr><th>18</th><td>0x1c051112075feaee33bcdbe0984c2bb0db53cf47</td><td>0x2d2d2a1f9bfda0d2364b4d517f862e52fefc2703</td></tr><tr><th>19</th><td>0xcf63e1c31805254b6fb3ed7829206c2b2505e3a7</td><td>0x150ef95cdb28f7ac32926917b9342c0759dbee04</td></tr><tr><th>20</th><td>0xe4e55bb5118fb39ae81eaada22ec8378d56526d5</td><td>0x4b6760682191de7e476b801b7ab42d8e8a5b041a</td></tr><tr><th>21</th><td>0xd1289bbb6f1633bb56963bf9d51923cf9ea965e8</td><td>0xe4490a4961c53239cf58d8026a148ce9a530d0ed</td></tr><tr><th>22</th><td>0x07df7775902c31c24eddac2c462b30cf988d7e19</td><td>0xab12253171a0d73df64b115cd43fe0a32feb9daa</td></tr><tr><th>23</th><td>0x6effc6bd984ef5a80fb9d6d48cc1ef6d8ef05113</td><td>0xe1c081cd74aacc91711ce1d48fb318d0071fcd65</td></tr><tr><th>24</th><td>0x7ac9332bce5d4a8e078cfdbe605a362cfe723499</td><td>0x60ac2b506fd7abac763c9c4301f38e2860283812</td></tr><tr><th>25</th><td>0x9a5260ea769d664a8ca41f9ee1fb92308d72ecbc</td><td>0x0018951d399eafa471af3cb7e14eed3694b23ccd</td></tr><tr><th>26</th><td>0xe69e7d52c133f1fe56fe80613cb158037c509254</td><td>0x0fce046251322106304b80d15b09caa64b010522</td></tr><tr><th>27</th><td>0xf169913283e7fbf3d798771bfaaca021244cad26</td><td>0x00de4b13153673bcae2616b67bf822500d325fc3</td></tr><tr><th>28</th><td>0x89750b98e854759786da9af7f05d55dde2be5552</td><td>0x06cb1bac771838d291c52aab8148c64b7af1938c</td></tr><tr><th>29</th><td>0x4a3fcaa620eb1fbcb6c2016443fcd8208f6dca77</td><td>0x02edb6fa3823098012c1199f466ac4336a3a4ad4</td></tr><tr><th>30</th><td>0x4278314c1a50da6014e580cbff34fc383b335049</td><td>0x644628d696fd07fcd8bda2e8b9a680734cc80a93</td></tr><tr><th>&vellip;</th><td>&vellip;</td><td>&vellip;</td></tr></tbody></table>"
      ],
      "text/latex": [
       "\\begin{tabular}{r|cc}\n",
       "\t& address\\_1 & address\\_2\\\\\n",
       "\t\\hline\n",
       "\t& Any & Any\\\\\n",
       "\t\\hline\n",
       "\t1 & 0x0c63d55a244657f5606d62856bd9f1ff227c05f2 & 0x0e54db73f82bd9fde34ebce53ea83bd197e9044c \\\\\n",
       "\t2 & 0xd9ee088c6ca2a90d6f0d059af17c2ec2c908bb0f & 0xc73ef94bc339a2cb9a1b67820af46bf47484a1ed \\\\\n",
       "\t3 & 0xbf7c205febae32f7874b28b9f371fe522e1fd97a & 0xe5b5df72187f7d867973615f5e1144b7a95b495f \\\\\n",
       "\t4 & 0x35f081bdf4740ffa8a56ff98e4b971fbcb7d82a7 & 0x09fe8f71f8e14b3d6b6456fbafaaef4a27f042cd \\\\\n",
       "\t5 & 0xa8308e994d180ca87c6a784fcb8612dec9ede03d & 0x46ba0af6bc60e6fabd9957744c057d031c720ace \\\\\n",
       "\t6 & 0xf62e92b2452d8a0fbb2c4b03424d679c86660001 & 0xf94571dbdff33446dabd17040cd6236b0d2c2545 \\\\\n",
       "\t7 & 0xce91fddab3c544b59ebac665a7635561043a7def & 0x865ec62a7f46aab0976ad22573fcf319c3f939ce \\\\\n",
       "\t8 & 0x134b9eab4aa4c1489687c18c10d7338656fde32d & 0x68a99f89e475a078645f4bac491360afe255dff1 \\\\\n",
       "\t9 & 0xcd1690b5ae49b4bd1ac5d201dccb461887a76dcd & 0x8a83716acd66d9e1fb18c9b79540b72e04f80ac0 \\\\\n",
       "\t10 & 0xc77fa6c05b4e472feee7c0f9b20e70c5bf33a99b & 0x4e1ce0b96fc37f81f5508c6608687af4f78f23b2 \\\\\n",
       "\t11 & 0xdf86d9ca55e2ebf191d11337d962d5686893b4e2 & 0x9832178f975879c0765bef385e40a9776f49ac69 \\\\\n",
       "\t12 & 0x64814817b4174c4b0fab09b87122cf62c9907788 & 0x0857357c8b2f6a5a27c2adb0f5e97086028d55ca \\\\\n",
       "\t13 & 0x56258340928387d88b7b619b96bc008c173d67cd & 0x467ea1dac5e8ea37c8040cf81b4b15f66cf3eb2c \\\\\n",
       "\t14 & 0x1045d46851b649363297c9969c18d7d4c1683d08 & 0xdf23b720cdf2b2fe62be9be5b6637f2688bed834 \\\\\n",
       "\t15 & 0xa79eb13e7336d6c240f6718d572a8b5aec0623c6 & 0x7c085b8ab3230028ddd458faa0f9d137e039bcf5 \\\\\n",
       "\t16 & 0xb9b8ef61b7851276b0239757a039d54a23804cbb & 0x20068ff6c39b59112b2488dc33660f5cc40689bd \\\\\n",
       "\t17 & 0x2f80e5163a7a774038753593010173322ea6f9fe & 0xd4c8127af1de3ebf8ab7449aac0fd892b70f3b45 \\\\\n",
       "\t18 & 0x1c051112075feaee33bcdbe0984c2bb0db53cf47 & 0x2d2d2a1f9bfda0d2364b4d517f862e52fefc2703 \\\\\n",
       "\t19 & 0xcf63e1c31805254b6fb3ed7829206c2b2505e3a7 & 0x150ef95cdb28f7ac32926917b9342c0759dbee04 \\\\\n",
       "\t20 & 0xe4e55bb5118fb39ae81eaada22ec8378d56526d5 & 0x4b6760682191de7e476b801b7ab42d8e8a5b041a \\\\\n",
       "\t21 & 0xd1289bbb6f1633bb56963bf9d51923cf9ea965e8 & 0xe4490a4961c53239cf58d8026a148ce9a530d0ed \\\\\n",
       "\t22 & 0x07df7775902c31c24eddac2c462b30cf988d7e19 & 0xab12253171a0d73df64b115cd43fe0a32feb9daa \\\\\n",
       "\t23 & 0x6effc6bd984ef5a80fb9d6d48cc1ef6d8ef05113 & 0xe1c081cd74aacc91711ce1d48fb318d0071fcd65 \\\\\n",
       "\t24 & 0x7ac9332bce5d4a8e078cfdbe605a362cfe723499 & 0x60ac2b506fd7abac763c9c4301f38e2860283812 \\\\\n",
       "\t25 & 0x9a5260ea769d664a8ca41f9ee1fb92308d72ecbc & 0x0018951d399eafa471af3cb7e14eed3694b23ccd \\\\\n",
       "\t26 & 0xe69e7d52c133f1fe56fe80613cb158037c509254 & 0x0fce046251322106304b80d15b09caa64b010522 \\\\\n",
       "\t27 & 0xf169913283e7fbf3d798771bfaaca021244cad26 & 0x00de4b13153673bcae2616b67bf822500d325fc3 \\\\\n",
       "\t28 & 0x89750b98e854759786da9af7f05d55dde2be5552 & 0x06cb1bac771838d291c52aab8148c64b7af1938c \\\\\n",
       "\t29 & 0x4a3fcaa620eb1fbcb6c2016443fcd8208f6dca77 & 0x02edb6fa3823098012c1199f466ac4336a3a4ad4 \\\\\n",
       "\t30 & 0x4278314c1a50da6014e580cbff34fc383b335049 & 0x644628d696fd07fcd8bda2e8b9a680734cc80a93 \\\\\n",
       "\t$\\dots$ & $\\dots$ & $\\dots$ \\\\\n",
       "\\end{tabular}\n"
      ],
      "text/plain": [
       "\u001b[1m11230×2 DataFrame\u001b[0m\n",
       "\u001b[1m   Row \u001b[0m│\u001b[1m address_1                         \u001b[0m\u001b[1m address_2                         \u001b[0m\n",
       "\u001b[1m       \u001b[0m│\u001b[90m Any                               \u001b[0m\u001b[90m Any                               \u001b[0m\n",
       "───────┼──────────────────────────────────────────────────────────────────────\n",
       "     1 │ 0x0c63d55a244657f5606d62856bd9f1…  0x0e54db73f82bd9fde34ebce53ea83b…\n",
       "     2 │ 0xd9ee088c6ca2a90d6f0d059af17c2e…  0xc73ef94bc339a2cb9a1b67820af46b…\n",
       "     3 │ 0xbf7c205febae32f7874b28b9f371fe…  0xe5b5df72187f7d867973615f5e1144…\n",
       "     4 │ 0x35f081bdf4740ffa8a56ff98e4b971…  0x09fe8f71f8e14b3d6b6456fbafaaef…\n",
       "     5 │ 0xa8308e994d180ca87c6a784fcb8612…  0x46ba0af6bc60e6fabd9957744c057d…\n",
       "     6 │ 0xf62e92b2452d8a0fbb2c4b03424d67…  0xf94571dbdff33446dabd17040cd623…\n",
       "     7 │ 0xce91fddab3c544b59ebac665a76355…  0x865ec62a7f46aab0976ad22573fcf3…\n",
       "     8 │ 0x134b9eab4aa4c1489687c18c10d733…  0x68a99f89e475a078645f4bac491360…\n",
       "     9 │ 0xcd1690b5ae49b4bd1ac5d201dccb46…  0x8a83716acd66d9e1fb18c9b79540b7…\n",
       "    10 │ 0xc77fa6c05b4e472feee7c0f9b20e70…  0x4e1ce0b96fc37f81f5508c6608687a…\n",
       "    11 │ 0xdf86d9ca55e2ebf191d11337d962d5…  0x9832178f975879c0765bef385e40a9…\n",
       "   ⋮   │                 ⋮                                  ⋮\n",
       " 11221 │ 0x36c8cce60a873a1c5688b619f42367…  0x69568ddc55ed751aae18754bd78071…\n",
       " 11222 │ 0xd99ae9a34c5d7084b3a7c95fc1ca9e…  0x54174d013e49a80b91ee14f819cadb…\n",
       " 11223 │ 0x0132786eac9e306b13cad3826e34e1…  0x782b638a99c7d1f027e10ad3aa35fd…\n",
       " 11224 │ 0xdee0f540d3d535245a7f9e4103bca0…  0xec01f7e2341fc037b4187309d3265d…\n",
       " 11225 │ 0xe223bb07a5df532876f24884e1663d…  0xf09020b6638bd6b15d57ad89375e37…\n",
       " 11226 │ 0x8aa25ef2c43f0afc214ed7263b6abd…  0x99a640b024e9b8c0a9d40f8fc7148d…\n",
       " 11227 │ 0xca968044effff14bee263ca6af3b98…  0x303c223e6acafe204800fea771842c…\n",
       " 11228 │ 0x82eab62c00161baca05c6bd20c9292…  0x71232ead3bec1ac03ecfe2556acd6c…\n",
       " 11229 │ 0xb3a502d437124e8733082dc654dc43…  0xaabb8549bd3950704dad65f01bd047…\n",
       " 11230 │ 0x42ca45b785d87b8375dff176555c74…  0x059e51c98c0a5b89624e8c1937a001…\n",
       "\u001b[36m                                                            11209 rows omitted\u001b[0m"
      ]
     },
     "execution_count": 49,
     "metadata": {},
     "output_type": "execute_result"
    }
   ],
   "source": [
    "clean_addresses = preprocess_data(address_and_withdraw_df)"
   ]
  },
  {
   "cell_type": "markdown",
   "id": "7233dc59",
   "metadata": {},
   "source": [
    "### Outside TCash transactions classification\n",
    "This functions are used to classify the address type following the definitions already talked about,\n",
    "and finally classify the transaction type done by the addresses outside TCash."
   ]
  },
  {
   "cell_type": "code",
   "execution_count": 50,
   "id": "c3d08b0e",
   "metadata": {},
   "outputs": [
    {
     "data": {
      "text/plain": [
       "is_DW_type (generic function with 1 method)"
      ]
     },
     "execution_count": 50,
     "metadata": {},
     "output_type": "execute_result"
    }
   ],
   "source": [
    "\"\"\"\n",
    "To classify the addresses by their inclusion in the unique_deposit_addresses and \n",
    "the unique_withdraw_addresses sets.\n",
    "\"\"\"\n",
    "\n",
    "function is_D_type(address)\n",
    "    address ∈ unique_deposit_addresses && address ∉ unique_withdraw_addresses\n",
    "end\n",
    "\n",
    "function is_W_type(address)\n",
    "    address ∉ unique_deposit_addresses && address ∈ unique_withdraw_addresses\n",
    "end\n",
    "\n",
    "function is_DW_type(address)\n",
    "    address ∈ unique_deposit_addresses && address ∈ unique_withdraw_addresses\n",
    "end"
   ]
  },
  {
   "cell_type": "code",
   "execution_count": 51,
   "id": "ff764dd2",
   "metadata": {},
   "outputs": [
    {
     "data": {
      "text/plain": [
       "is_DW_DW_tx (generic function with 1 method)"
      ]
     },
     "execution_count": 51,
     "metadata": {},
     "output_type": "execute_result"
    }
   ],
   "source": [
    "# To classify outside TCash transactions, based on the classification of addresses.\n",
    "\n",
    "function is_D_W_tx(from_address, to_address)\n",
    "    is_D_type(from_address) && is_W_type(to_address)\n",
    "end\n",
    "\n",
    "function is_W_D_tx(from_address, to_address)\n",
    "    is_W_type(from_address) && is_D_type(to_address)\n",
    "end\n",
    "\n",
    "function is_D_DW_tx(from_address, to_address)\n",
    "    is_D_type(from_address) && is_DW_type(to_address)\n",
    "end\n",
    "\n",
    "function is_DW_D_tx(from_address, to_address)\n",
    "    is_DW_type(from_address) && is_D_type(to_address)\n",
    "end\n",
    "\n",
    "function is_W_DW_tx(from_address, to_address)\n",
    "    is_W_type(from_address) && is_DW_type(to_address)\n",
    "end\n",
    "\n",
    "function is_DW_W_tx(from_address, to_address)\n",
    "    is_DW_type(from_address) && is_W_type(to_address)\n",
    "end\n",
    "\n",
    "function is_DW_DW_tx(from_address, to_address)\n",
    "    is_DW_type(from_address) && is_DW_type(to_address)\n",
    "end "
   ]
  },
  {
   "cell_type": "markdown",
   "id": "76818418",
   "metadata": {},
   "source": [
    "### Function description: map_withdraw2deposit_interactions_outside_tcash\n",
    "This function receives the clean addresses data, transforms it to the table mentioned in the introduction and returns a dictionary mapping the interaction of each withdraw address with deposit addresses."
   ]
  },
  {
   "cell_type": "code",
   "execution_count": 104,
   "id": "3ac2e256",
   "metadata": {},
   "outputs": [
    {
     "data": {
      "text/plain": [
       "map_withdraw2deposit_interactions_outside_tcash (generic function with 1 method)"
      ]
     },
     "execution_count": 104,
     "metadata": {},
     "output_type": "execute_result"
    }
   ],
   "source": [
    "function map_withdraw2deposit_interactions_outside_tcash(clean_addresses_df)\n",
    "    \n",
    "    deposit_and_withdraw_matrix = Array{String}(undef, 0, 2) #np.empty((0, 2), dtype=str)\n",
    "    \n",
    "    for row in ProgressBar(eachrow(clean_addresses_df), printing_delay=1 )\n",
    "                \n",
    "        if is_D_W_tx(row.address_1, row.address_2) || is_D_DW_tx(row.address_1, row.address_2) || is_DW_W_tx(row.address_1, row.address_2)\n",
    "            deposit_and_withdraw_matrix = vcat(deposit_and_withdraw_matrix, [row.address_1 row.address_2])\n",
    "            \n",
    "        elseif is_W_D_tx(row.address_1, row.address_2) || is_W_DW_tx(row.address_1, row.address_2) || is_DW_D_tx(row.address_1, row.address_2)\n",
    "            deposit_and_withdraw_matrix = vcat(deposit_and_withdraw_matrix, [row.address_2 row.address_1])\n",
    "            \n",
    "        elseif is_DW_DW_tx(row.address_1, row.address_2)\n",
    "            deposit_and_withdraw_matrix = vcat(deposit_and_withdraw_matrix, [row.address_1 row.address_2])\n",
    "            deposit_and_withdraw_matrix = vcat(deposit_and_withdraw_matrix, [row.address_2 row.address_1])\n",
    "        else\n",
    "            print(row.address_1, row.address_2)\n",
    "            ValueError(\"The transaction is not from any of the types: D_W, W_D, D_DW, DW_D, W_DW, DW_W, DW_DW\")\n",
    "        end\n",
    "    end\n",
    "\n",
    "    D_W_df = DataFrame(deposit_and_withdraw_matrix, [\"deposit_address\", \"withdraw_address\"])\n",
    "    \n",
    "    dict = Dict()\n",
    "    for row in eachrow(D_W_df)\n",
    "        if haskey(dict, row.withdraw_address)\n",
    "            dict[row.withdraw_address] = push!(dict[row.withdraw_address], row.deposit_address)\n",
    "        else\n",
    "            dict[row.withdraw_address] = [row.deposit_address]\n",
    "        end\n",
    "    end\n",
    "    \n",
    "    return dict \n",
    "    end"
   ]
  },
  {
   "cell_type": "code",
   "execution_count": 106,
   "id": "4216c6c1",
   "metadata": {},
   "outputs": [
    {
     "name": "stderr",
     "output_type": "stream",
     "text": [
      "0.0%┣                                        ┫ 0/11.2k [00:01<-3:-7:-10, -1s/it]\n",
      "0.0%┣                                        ┫ 1/11.2k [00:01<Inf:Inf, InfGs/it]\n",
      "99.8%┣█████████████████████████████████████┫ 11.2k/11.2k [00:02<00:00, 5.6kit/s]\n",
      "100.0%┣████████████████████████████████████┫ 11.2k/11.2k [00:02<00:00, 5.6kit/s]\n"
     ]
    },
    {
     "data": {
      "text/plain": [
       "Dict{Any, Any} with 8055 entries:\n",
       "  \"0x50892e106095f415b4b12… => [\"0xb3d76302aecdf0683ad3b39ccb56508a066c243d\", \"…\n",
       "  \"0xdf93a32c083207cd1ea00… => [\"0x8b01d375e274213c860ef6ac013dbdd5286cd816\"]\n",
       "  \"0xd1ccc07177c0c27ab78cf… => [\"0x4ea0d6576e606778cc9dcc329d06ec70c3906cc2\"]\n",
       "  \"0x6996c90cedd6b7ef51971… => [\"0x4de6c05654503d0c54d44d68493308fbb5b0a886\"]\n",
       "  \"0x1d62ca769fcf94d24484b… => [\"0x70631b7376f4956185dac1b9cb4e9f83ccbc2764\"]\n",
       "  \"0xab17da946b4ee971e6cd9… => [\"0x32ef7405421aed9cd879c6f7059fa150d0aeef88\"]\n",
       "  \"0x5d57f2e5f61b484eadc14… => [\"0x94c8fe79a01d10cc1f56a8107e67d38e3fd74754\"]\n",
       "  \"0xb232e7c376462dcc96004… => [\"0xd36cd37f6488d87fb41c6a525e603e9c4a49f565\"]\n",
       "  \"0x1cbfd11c477bb948742ef… => [\"0x96feaff0673a2b6afe65eb456d35d347d658469f\", \"…\n",
       "  \"0xfed2cb2342f345bab5e55… => [\"0x7bf4f7b96f010e6859ef4b0d947a07094546555d\"]\n",
       "  \"0xd099ff6d9f00ce2d35bd6… => [\"0x04bce19720ede47ddd3b44e6159686f0fffe0034\"]\n",
       "  \"0x06b3a0712f26c7e72dc37… => [\"0x9bde7bf4d5b13ef94373ced7c8ee0be59735a298\"]\n",
       "  \"0x447791d58f691687f8808… => [\"0xcc5fffcd941cc12048da83b4ae17d4789d8c87ae\"]\n",
       "  \"0xe4b27f06f57271bcf1272… => [\"0x82f9ea8d814a6eb335cfe17500cdcbb69c7ebbfe\"]\n",
       "  \"0xa6a53fd640e7da6ad3bbe… => [\"0x3697c7e5c1cbe235d76b29aeb1fd0d80943bffb0\"]\n",
       "  \"0x6bf97f2534be2242ddb3a… => [\"0xab85ab5838dd3ab972928862d1d0baa3937dc6f2\", \"…\n",
       "  \"0xccb8d83684eebf863d4b0… => [\"0x215275aead681a4c7202f39edab1c76d0d96e821\"]\n",
       "  \"0x983ccf4dac78e5978333f… => [\"0xd09dfaa8e582075cb4ded81f83b97fa204a8643e\"]\n",
       "  \"0x118de74508dfa58d6c9f4… => [\"0x32524e9a66f9aab407e100fbc82d3e474ab656d1\"]\n",
       "  \"0xc13c37c6a3b077ef147c7… => [\"0x6cf2656c825656bb07a6630855618df37bec7725\"]\n",
       "  \"0x6a4df151c3f4a13c5827a… => [\"0xde054f5b456de4e1c7795d58bc7d4e069052f9fa\"]\n",
       "  \"0xc5771b76e8753679d719d… => [\"0xfda6640e4614d79d4673135656a8e82d5588d9a4\"]\n",
       "  \"0xedbd7de66f4194e185cb3… => [\"0x53dd4a6d73196bebe95087a3b2bb017007ba0e3f\"]\n",
       "  \"0xcd42272b1ab42cbae1a63… => [\"0x0f1095238687fbae92eade74c44c75f8766e10ee\"]\n",
       "  \"0xf7291f66ad15f3cddf7c5… => [\"0xb6277cb5a2abd2b296c1d7f61a8f24c2d4942f9f\", \"…\n",
       "  ⋮                         => ⋮"
      ]
     },
     "execution_count": 106,
     "metadata": {},
     "output_type": "execute_result"
    }
   ],
   "source": [
    "waddr2daddr = map_withdraw2deposit_interactions_outside_tcash(clean_addresses)"
   ]
  },
  {
   "cell_type": "markdown",
   "id": "7808bdee",
   "metadata": {},
   "source": [
    "### Function description: first_neighbors_heuristic\n",
    "Given a withdraw transaction, checks if its address had interacted with any deposit address outside TCash. If it has, then fetch all the deposits those deposit addresses had done and link them to the withdraw transaction."
   ]
  },
  {
   "cell_type": "code",
   "execution_count": null,
   "id": "13cd94df",
   "metadata": {},
   "outputs": [],
   "source": []
  }
 ],
 "metadata": {
  "kernelspec": {
   "display_name": "Julia 1.6.1",
   "language": "julia",
   "name": "julia-1.6"
  },
  "language_info": {
   "file_extension": ".jl",
   "mimetype": "application/julia",
   "name": "julia",
   "version": "1.6.3"
  }
 },
 "nbformat": 4,
 "nbformat_minor": 5
}
