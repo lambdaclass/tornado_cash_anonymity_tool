{
 "cells": [
  {
   "cell_type": "code",
   "execution_count": 40,
   "id": "e1375483",
   "metadata": {},
   "outputs": [],
   "source": [
    "import pandas as pd\n",
    "#from google.cloud import bigquery\n",
    "#from google.oauth2 import service_account"
   ]
  },
  {
   "cell_type": "code",
   "execution_count": 58,
   "id": "cd87d20f",
   "metadata": {},
   "outputs": [],
   "source": [
    "withdraw_transactions_df = pd.read_csv(\"../data/tornado_withdraw_df.csv\")\n",
    "withdraw_transactions_df[\"recipient_address\"] = withdraw_transactions_df[\"recipient_address\"].str.lower()\n",
    "withdraw_transactions_df[\"block_timestamp\"] = withdraw_transactions_df[\"block_timestamp\"].apply(pd.Timestamp)\n",
    "\n",
    "deposit_transactions_df = pd.read_csv(\"../data/deposit_transactions.csv\")\n",
    "deposit_transactions_df[\"block_timestamp\"] = deposit_transactions_df[\"block_timestamp\"].apply(pd.Timestamp)\n",
    "\n",
    "tornado_addresses = pd.read_csv(\"../data/tornadocontracts_abi.csv\", names=['address', 'contract_value', '3', '4'])"
   ]
  },
  {
   "cell_type": "code",
   "execution_count": 61,
   "id": "83d6adfd",
   "metadata": {},
   "outputs": [],
   "source": [
    "def same_deposit_and_recipient_addresses(withdraw_transaction, deposit_transactions_df):\n",
    "    same_deposit_address_list = []\n",
    "    \n",
    "    for index, deposit_row in deposit_transactions_df.iterrows():\n",
    "        if (deposit_row.from_address == withdraw_transaction.recipient_address) and (deposit_row.block_timestamp < withdraw_transaction.block_timestamp):\n",
    "            same_deposit_address_list.append(deposit_row.hash)\n",
    "        \n",
    "    if len(same_deposit_address_list) > 0:\n",
    "        return same_deposit_address_list.insert(0, True)\n",
    "    else:\n",
    "        return same_deposit_address_list.insert(0, False)"
   ]
  },
  {
   "cell_type": "code",
   "execution_count": 55,
   "id": "fa7ad0ef",
   "metadata": {},
   "outputs": [],
   "source": [
    "withdraw_transaction = withdraw_transactions_df.iloc[2]"
   ]
  },
  {
   "cell_type": "code",
   "execution_count": 62,
   "id": "5ae9e33c",
   "metadata": {},
   "outputs": [],
   "source": [
    "a = same_deposit_and_recipient_addresses(withdraw_transaction, deposit_transactions_df)"
   ]
  },
  {
   "cell_type": "code",
   "execution_count": 63,
   "id": "6c731f4b",
   "metadata": {},
   "outputs": [
    {
     "name": "stdout",
     "output_type": "stream",
     "text": [
      "None\n"
     ]
    }
   ],
   "source": []
  },
  {
   "cell_type": "code",
   "execution_count": null,
   "id": "d22340f5",
   "metadata": {},
   "outputs": [],
   "source": []
  }
 ],
 "metadata": {
  "kernelspec": {
   "display_name": "Python 3 (ipykernel)",
   "language": "python",
   "name": "python3"
  },
  "language_info": {
   "codemirror_mode": {
    "name": "ipython",
    "version": 3
   },
   "file_extension": ".py",
   "mimetype": "text/x-python",
   "name": "python",
   "nbconvert_exporter": "python",
   "pygments_lexer": "ipython3",
   "version": "3.9.7"
  }
 },
 "nbformat": 4,
 "nbformat_minor": 5
}
