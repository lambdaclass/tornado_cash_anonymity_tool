{
 "cells": [
  {
   "cell_type": "code",
   "execution_count": 1,
   "metadata": {},
   "outputs": [],
   "source": [
    "using DataFrames\n",
    "using CSV"
   ]
  },
  {
   "cell_type": "code",
   "execution_count": 46,
   "metadata": {},
   "outputs": [],
   "source": [
    "tornado_transactions_df = CSV.read(\"../data/tornado_transactions.csv\", DataFrame)\n",
    "tornado_traces_df = CSV.read(\"../data/tornado_traces.csv\", DataFrame)\n",
    "\n",
    "withdraw_transactions_df = CSV.read(\"../data/tornado_withdraw_df.csv\", DataFrame)\n",
    "deposit_transactions_df = CSV.read(\"../data/deposit_transactions.csv\", DataFrame)\n",
    "\n",
    "tornado_addresses = CSV.read(\"../data/tornadocontracts_abi.csv\", DataFrame, header=[\"Address\", \"Currency\", \"3\", \"4\",\"abi\"])[\"Address\"];"
   ]
  },
  {
   "cell_type": "code",
   "execution_count": 40,
   "metadata": {},
   "outputs": [
    {
     "data": {
      "text/plain": [
       "10000"
      ]
     },
     "execution_count": 40,
     "metadata": {},
     "output_type": "execute_result"
    }
   ],
   "source": [
    "ENV[\"LINES\"]=10\n",
    "ENV[\"COLUMNS\"]=10000"
   ]
  },
  {
   "cell_type": "markdown",
   "metadata": {},
   "source": [
    "Lets first look at the data obtained using the following querys: \n",
    "\n",
    "SELECT * FROM `bigquery-public-data.crypto_ethereum.transactions` WHERE `to_address` \n",
    "IN (SELECT `address` FROM `tornado_cash_transactions.tornadocontracts`) AND SUBSTR(`input`, 1, 10) = \"0x21a0adb6\";\n",
    "\n",
    "SELECT * FROM `bigquery-public-data.crypto_ethereum.transactions` WHERE `to_address` \n",
    "IN (SELECT `address` FROM `tornado_cash_transactions.tornadocontracts`) AND SUBSTR(`input`, 1, 10) = \"0xb214faa5\";\n"
   ]
  },
  {
   "cell_type": "code",
   "execution_count": 9,
   "metadata": {},
   "outputs": [
    {
     "data": {
      "text/html": [
       "<table class=\"data-frame\"><thead><tr><th></th><th>hash</th><th>nonce</th><th>transaction_index</th><th>from_address</th><th>to_address</th><th>value</th><th>gas</th><th>gas_price</th><th>input</th><th>receipt_cumulative_gas_used</th><th>receipt_gas_used</th><th>receipt_contract_address</th><th>receipt_root</th><th>receipt_status</th><th>block_timestamp</th><th>block_number</th><th>block_hash</th><th>max_fee_per_gas</th><th>max_priority_fee_per_gas</th><th>transaction_type</th><th>receipt_effective_gas_price</th></tr><tr><th></th><th>String</th><th>Int64</th><th>Int64</th><th>String</th><th>String</th><th>Float64</th><th>Int64</th><th>Int64</th><th>String</th><th>Int64</th><th>Int64</th><th>Missing</th><th>Missing</th><th>Int64</th><th>String</th><th>Int64</th><th>String</th><th>Int64?</th><th>Int64?</th><th>Int64?</th><th>Int64</th></tr></thead><tbody><p>24,290 rows × 21 columns</p><tr><th>1</th><td>0xcf97c470a56d96625c7240d3004ae2abd9141d7ffc4383ab6f29a181e3562e8b</td><td>4</td><td>10</td><td>0xb050dec5a9010f8b77a3962369b7bc737d3ed4a5</td><td>0x4736dcf1b7a3d580672cce6e7c65cd5cc9cfba9d</td><td>0.0</td><td>1200000</td><td>56000000000</td><td>0xb214faa5083d52f2c4e7a95e340a999805a8328b6546949ef4500ffbbd977845eade62bd</td><td>1677906</td><td>1048832</td><td><em>missing</em></td><td><em>missing</em></td><td>1</td><td>2020-11-02 17:47:30 UTC</td><td>11179130</td><td>0x21d86cba454fea4f7e43c68763d4cffec101b614554635a3f15d538049463d4f</td><td><em>missing</em></td><td><em>missing</em></td><td><em>missing</em></td><td>56000000000</td></tr><tr><th>2</th><td>0x2fadc4d54bf6e3ec5035f14c0096befe92999866309893e0eeaecdef955c0323</td><td>22</td><td>118</td><td>0x6e92bc493c6abbdd6a1b18416f003de2c873ab50</td><td>0x4736dcf1b7a3d580672cce6e7c65cd5cc9cfba9d</td><td>0.0</td><td>1200000</td><td>63000000000</td><td>0xb214faa502843565a5499c26b04c7a9069f1ad2621aa1d8dce61480782b81d0c1c919489</td><td>8209080</td><td>1048832</td><td><em>missing</em></td><td><em>missing</em></td><td>1</td><td>2021-01-02 23:37:35 UTC</td><td>11578054</td><td>0xd52ababd1dbbbe50277c54473c881f47fd95e78081a349670d4988644e4d37c4</td><td><em>missing</em></td><td><em>missing</em></td><td><em>missing</em></td><td>63000000000</td></tr><tr><th>3</th><td>0x7f851ba1d7292ca565961073a1111f7408760540c6f94e479c72a2ae05399cf4</td><td>0</td><td>84</td><td>0x50b9d4af009b038506d4d84b035c451d1a3a20bc</td><td>0x12d66f87a04a9e220743712ce6d9bb1b5616b8fc</td><td>1.0e17</td><td>800000</td><td>5000000000</td><td>0xb214faa51174c586ebae02a3b4f54a0ba6a9b7aba4d79ea9078c4a017a7ddb3d91150021</td><td>8465851</td><td>800000</td><td><em>missing</em></td><td><em>missing</em></td><td>0</td><td>2020-01-05 05:19:39 UTC</td><td>9218451</td><td>0x77e0fc60906714a54697cfd9275b622ad9d2d0271c4ec816b10fa3a09b103680</td><td><em>missing</em></td><td><em>missing</em></td><td><em>missing</em></td><td>5000000000</td></tr><tr><th>4</th><td>0xbd83053f8afa7777f54a4aca6b8e112fa31b888922dc5b9a9a65eb66e9a6996f</td><td>7</td><td>63</td><td>0x6c6e4816ecfa4481472ff88f32a3e00f2eaa95a1</td><td>0x12d66f87a04a9e220743712ce6d9bb1b5616b8fc</td><td>1.0e17</td><td>800000</td><td>30838446643</td><td>0xb214faa527a20ba920c8ae877d67ce1ebd7420dafb3150e001eca78166fd6d66a5fd253e</td><td>6222489</td><td>800000</td><td><em>missing</em></td><td><em>missing</em></td><td>0</td><td>2020-05-27 03:30:44 UTC</td><td>10145408</td><td>0x837b3482443f027f6f045644bf002243f72304686015a2d6265676b2a2fc630b</td><td><em>missing</em></td><td><em>missing</em></td><td><em>missing</em></td><td>30838446643</td></tr><tr><th>5</th><td>0x7baf0a76f35c1dece97fff883aa7174454bed460b1bade05844080017170fc6c</td><td>240</td><td>171</td><td>0x8c4c44fd06f7f98f08bf6a9ca156cec9ee1f31f8</td><td>0xfd8610d20aa15b7b2e3be39b396a1bc3516c7144</td><td>0.0</td><td>800000</td><td>105000000000</td><td>0xb214faa50afc4880238aac4198bceddea0fbf85e9ad3de74dd20eae39f369b060b50f516</td><td>10723996</td><td>800000</td><td><em>missing</em></td><td><em>missing</em></td><td>0</td><td>2021-01-06 19:04:40 UTC</td><td>11602841</td><td>0x7c5f21ea2a92f5182ce8648f152b6fb3b4379096309dc2ba232ac663c4a0d1d7</td><td><em>missing</em></td><td><em>missing</em></td><td><em>missing</em></td><td>105000000000</td></tr><tr><th>&vellip;</th><td>&vellip;</td><td>&vellip;</td><td>&vellip;</td><td>&vellip;</td><td>&vellip;</td><td>&vellip;</td><td>&vellip;</td><td>&vellip;</td><td>&vellip;</td><td>&vellip;</td><td>&vellip;</td><td>&vellip;</td><td>&vellip;</td><td>&vellip;</td><td>&vellip;</td><td>&vellip;</td><td>&vellip;</td><td>&vellip;</td><td>&vellip;</td><td>&vellip;</td><td>&vellip;</td></tr></tbody></table>"
      ],
      "text/latex": [
       "\\begin{tabular}{r|ccccccccccccccccccccc}\n",
       "\t& hash & nonce & transaction\\_index & from\\_address & to\\_address & value & gas & gas\\_price & input & receipt\\_cumulative\\_gas\\_used & receipt\\_gas\\_used & receipt\\_contract\\_address & receipt\\_root & receipt\\_status & block\\_timestamp & block\\_number & block\\_hash & max\\_fee\\_per\\_gas & max\\_priority\\_fee\\_per\\_gas & transaction\\_type & receipt\\_effective\\_gas\\_price\\\\\n",
       "\t\\hline\n",
       "\t& String & Int64 & Int64 & String & String & Float64 & Int64 & Int64 & String & Int64 & Int64 & Missing & Missing & Int64 & String & Int64 & String & Int64? & Int64? & Int64? & Int64\\\\\n",
       "\t\\hline\n",
       "\t1 & 0xcf97c470a56d96625c7240d3004ae2abd9141d7ffc4383ab6f29a181e3562e8b & 4 & 10 & 0xb050dec5a9010f8b77a3962369b7bc737d3ed4a5 & 0x4736dcf1b7a3d580672cce6e7c65cd5cc9cfba9d & 0.0 & 1200000 & 56000000000 & 0xb214faa5083d52f2c4e7a95e340a999805a8328b6546949ef4500ffbbd977845eade62bd & 1677906 & 1048832 & \\emph{missing} & \\emph{missing} & 1 & 2020-11-02 17:47:30 UTC & 11179130 & 0x21d86cba454fea4f7e43c68763d4cffec101b614554635a3f15d538049463d4f & \\emph{missing} & \\emph{missing} & \\emph{missing} & 56000000000 \\\\\n",
       "\t2 & 0x2fadc4d54bf6e3ec5035f14c0096befe92999866309893e0eeaecdef955c0323 & 22 & 118 & 0x6e92bc493c6abbdd6a1b18416f003de2c873ab50 & 0x4736dcf1b7a3d580672cce6e7c65cd5cc9cfba9d & 0.0 & 1200000 & 63000000000 & 0xb214faa502843565a5499c26b04c7a9069f1ad2621aa1d8dce61480782b81d0c1c919489 & 8209080 & 1048832 & \\emph{missing} & \\emph{missing} & 1 & 2021-01-02 23:37:35 UTC & 11578054 & 0xd52ababd1dbbbe50277c54473c881f47fd95e78081a349670d4988644e4d37c4 & \\emph{missing} & \\emph{missing} & \\emph{missing} & 63000000000 \\\\\n",
       "\t3 & 0x7f851ba1d7292ca565961073a1111f7408760540c6f94e479c72a2ae05399cf4 & 0 & 84 & 0x50b9d4af009b038506d4d84b035c451d1a3a20bc & 0x12d66f87a04a9e220743712ce6d9bb1b5616b8fc & 1.0e17 & 800000 & 5000000000 & 0xb214faa51174c586ebae02a3b4f54a0ba6a9b7aba4d79ea9078c4a017a7ddb3d91150021 & 8465851 & 800000 & \\emph{missing} & \\emph{missing} & 0 & 2020-01-05 05:19:39 UTC & 9218451 & 0x77e0fc60906714a54697cfd9275b622ad9d2d0271c4ec816b10fa3a09b103680 & \\emph{missing} & \\emph{missing} & \\emph{missing} & 5000000000 \\\\\n",
       "\t4 & 0xbd83053f8afa7777f54a4aca6b8e112fa31b888922dc5b9a9a65eb66e9a6996f & 7 & 63 & 0x6c6e4816ecfa4481472ff88f32a3e00f2eaa95a1 & 0x12d66f87a04a9e220743712ce6d9bb1b5616b8fc & 1.0e17 & 800000 & 30838446643 & 0xb214faa527a20ba920c8ae877d67ce1ebd7420dafb3150e001eca78166fd6d66a5fd253e & 6222489 & 800000 & \\emph{missing} & \\emph{missing} & 0 & 2020-05-27 03:30:44 UTC & 10145408 & 0x837b3482443f027f6f045644bf002243f72304686015a2d6265676b2a2fc630b & \\emph{missing} & \\emph{missing} & \\emph{missing} & 30838446643 \\\\\n",
       "\t5 & 0x7baf0a76f35c1dece97fff883aa7174454bed460b1bade05844080017170fc6c & 240 & 171 & 0x8c4c44fd06f7f98f08bf6a9ca156cec9ee1f31f8 & 0xfd8610d20aa15b7b2e3be39b396a1bc3516c7144 & 0.0 & 800000 & 105000000000 & 0xb214faa50afc4880238aac4198bceddea0fbf85e9ad3de74dd20eae39f369b060b50f516 & 10723996 & 800000 & \\emph{missing} & \\emph{missing} & 0 & 2021-01-06 19:04:40 UTC & 11602841 & 0x7c5f21ea2a92f5182ce8648f152b6fb3b4379096309dc2ba232ac663c4a0d1d7 & \\emph{missing} & \\emph{missing} & \\emph{missing} & 105000000000 \\\\\n",
       "\t$\\dots$ & $\\dots$ & $\\dots$ & $\\dots$ & $\\dots$ & $\\dots$ & $\\dots$ & $\\dots$ & $\\dots$ & $\\dots$ & $\\dots$ & $\\dots$ & $\\dots$ & $\\dots$ & $\\dots$ & $\\dots$ & $\\dots$ & $\\dots$ & $\\dots$ & $\\dots$ & $\\dots$ & $\\dots$ \\\\\n",
       "\\end{tabular}\n"
      ],
      "text/plain": [
       "24290×21 DataFrame\n"
      ]
     },
     "execution_count": 9,
     "metadata": {},
     "output_type": "execute_result"
    }
   ],
   "source": [
    "deposit_transactions_df"
   ]
  },
  {
   "cell_type": "markdown",
   "metadata": {},
   "source": [
    "Here we have the first inconsistency. If you go to tornado cash stats page, you will find that the number of deposits is around 92.000\n",
    "https://dune.xyz/poma/tornado-cash_1\n",
    "\n",
    "Lets look at the withdrawls now:"
   ]
  },
  {
   "cell_type": "code",
   "execution_count": 12,
   "metadata": {},
   "outputs": [
    {
     "data": {
      "text/html": [
       "<table class=\"data-frame\"><thead><tr><th></th><th>Column1</th><th>hash</th><th>nonce</th><th>transaction_index</th><th>from_address</th><th>to_address</th><th>value</th><th>gas</th><th>gas_price</th><th>input</th><th>receipt_cumulative_gas_used</th><th>receipt_gas_used</th><th>receipt_contract_address</th><th>receipt_root</th><th>receipt_status</th><th>block_timestamp</th><th>block_number</th><th>block_hash</th><th>max_fee_per_gas</th><th>max_priority_fee_per_gas</th><th>transaction_type</th><th>receipt_effective_gas_price</th><th>recipient_address</th></tr><tr><th></th><th>Int64</th><th>String</th><th>Int64</th><th>Int64</th><th>String</th><th>String</th><th>Int64</th><th>Int64</th><th>Int64</th><th>String</th><th>Int64</th><th>Int64</th><th>Missing</th><th>Missing</th><th>Int64</th><th>String</th><th>Int64</th><th>String</th><th>Missing</th><th>Missing</th><th>Missing</th><th>Int64</th><th>String</th></tr></thead><tbody><p>22,009 rows × 23 columns</p><tr><th>1</th><td>0</td><td>0x8211d6815cdd607a1f8a0d5db08b3cd0121d6df4c6f5b52023788883e6fe7a97</td><td>0</td><td>54</td><td>0x00058bf70d45aa62a493e5fc596974edde903324</td><td>0x910cbd523d972eb0a6f4cae4618ad62622b39dbf</td><td>0</td><td>421760</td><td>37000000000</td><td>0x21a0adb600000000000000000000000000000000000000000000000000000000000000e0262c5b75219fb59b3a6e535d04d7f4ddf7b8ffd3236263babebaf0e352717db22782f28dda1bfccf8b1c59d0595a400214a32bdad8dcd3b1753a4013a8d6555300000000000000000000000000058bf70d45aa62a493e5fc596974edde90332400000000000000000000000000058bf70d45aa62a493e5fc596974edde9033240000000000000000000000000000000000000000000000000000000000000000000000000000000000000000000000000000000000000000000000000000000000000000000000000000000000000000000000000000000000000000000001000055def7d206642ea94235420978ff0ea81fd15e7d8d7f9ab2b261bf980bb1d321e78994d9d0c49408a22a7481681f7945d8be26efc23e183a412169da7af4422fb173319129d37b7db5df1dbb9f6f5db60f1e5f81ab07f4f030dac1ce83999e2cba949a94b22d1f4af9749f46306db16ea555cea7412951222f7fc5716eae5d0a358bd5d1527136137ec436cb67149a2ca998342359f4f2bc8904d1ae5b520522b4b6dbcdfec5217e30fcd60797cf601bd77b3b0e9157e2e2331408b2553a340e4c89700723498c6e30c1ca67a9a5d0e64a3013845f26299969e7c824aacf6e22ac16d06453342296443d0c7a37bea887ff98cb0888481525a0cbc761754d9d</td><td>2727540</td><td>321760</td><td><em>missing</em></td><td><em>missing</em></td><td>1</td><td>2020-07-16 04:21:43 UTC</td><td>10468347</td><td>0x97002c5d89010843864301297092eb60b3d902f1850d863717db7ec768e7896e</td><td><em>missing</em></td><td><em>missing</em></td><td><em>missing</em></td><td>37000000000</td><td>0x00058BF70d45AA62A493E5FC596974EdDe903324</td></tr><tr><th>2</th><td>1</td><td>0xcc8746c16a2bf379e8319b7c190676b77508f09f7a9cec13dd5f77514f446034</td><td>800</td><td>56</td><td>0x0039f22efb07a647557c7c5d17854cfd6d489ef3</td><td>0x12d66f87a04a9e220743712ce6d9bb1b5616b8fc</td><td>0</td><td>423207</td><td>13000000000</td><td>0x21a0adb600000000000000000000000000000000000000000000000000000000000000e00a52cba850f4ad215648a969675fe4f4b02d6ddae38a189e81396e742962928527e852fdad1aed9326a692b63973cf72c5d6b4a13a6c54599780e870a7c304c80000000000000000000000000039f22efb07a647557c7c5d17854cfd6d489ef30000000000000000000000000039f22efb07a647557c7c5d17854cfd6d489ef300000000000000000000000000000000000000000000000000000000000000000000000000000000000000000000000000000000000000000000000000000000000000000000000000000000000000000000000000000000000000000000010022b904e7729cc7af2d50170a9b57934740815876a1f96a43c832ece57ce95dae2d98b39685cb87a18d38e29c20271506d7103bc391b490a7d524c76c91ff4f9518442626bafb9d4d95c507fa0d3b4a19f34c457bb22dab65432c7c1cd90742200323a69be5b17c37f876c8c212625f955e69151f9b5f695899743a9798f11959226c0dfbd8cf0db70ac928850726479a0a741e0b26ad81fe1d4415d22ce258732c1a9adf37aa06373fea66b14dad706bd08c951d497b3ef8ca5c550f942cc726140dbbb541564c78a4daa44bd5ec69b192b8acf8df2ed2d86386b17abfbf991d1405c2269265226205195dd90d96119383d494b261c31e19b7b6de46ffcf9c1b</td><td>3032779</td><td>323207</td><td><em>missing</em></td><td><em>missing</em></td><td>1</td><td>2019-12-16 20:06:53 UTC</td><td>9117186</td><td>0x8dc6ade4626b61074d088ba600ddcc2686bdc1795681440ce9a86cc6dbdc4dac</td><td><em>missing</em></td><td><em>missing</em></td><td><em>missing</em></td><td>13000000000</td><td>0x0039F22efB07A647557C7C5d17854CFD6D489eF3</td></tr><tr><th>3</th><td>2</td><td>0x9bb7303af6ce69085abc3d9f4f5b7884a90023fd6e5925cb6ffed9737ebff78c</td><td>799</td><td>51</td><td>0x0039f22efb07a647557c7c5d17854cfd6d489ef3</td><td>0x12d66f87a04a9e220743712ce6d9bb1b5616b8fc</td><td>0</td><td>423207</td><td>13000000000</td><td>0x21a0adb600000000000000000000000000000000000000000000000000000000000000e00a52cba850f4ad215648a969675fe4f4b02d6ddae38a189e81396e742962928525ff03d81abc80888bb6e8bd553e9c47e8e765bd4a0ea9e96dc179ea0d2aad4f0000000000000000000000000039f22efb07a647557c7c5d17854cfd6d489ef30000000000000000000000000039f22efb07a647557c7c5d17854cfd6d489ef30000000000000000000000000000000000000000000000000000000000000000000000000000000000000000000000000000000000000000000000000000000000000000000000000000000000000000000000000000000000000000000001000a7a16e8bbe0ed7bd058a56093e84b42d7da360c38607950e61ff717b269629f202176403ca2996f7b0566219983fdc13657b5fb3d4c2a4fe01b387f8f11baff1e70f459c3c77c3eb66c51e1f353ef6b860506e0fc2238b6c4034ce8ab747dfb24d3ba606f5c9dd59d4a8971864d0cda95a5d792da6059399ecbf1f622ff3ae6164ab89045bd14ab79921af13adc08a381c4c483cef98159e6fe5abc471e5ece2203479fa32d0e0c08a0f154fb4c5bc2c87db56a824eccd5bcc20ba34edbfb14192433d7f24ea52573a009d4e392ae4feca18e4f532dcd06a6b61f3e9acab8a620bea4c3576cd159c5de8d60a119f48eebdf6da79d0b10710871e5ddea73594c</td><td>3003518</td><td>323207</td><td><em>missing</em></td><td><em>missing</em></td><td>1</td><td>2019-12-16 20:04:26 UTC</td><td>9117176</td><td>0xb6c3554845e041c2de52409bbb4b83ede32d98a68a345d9a53cdc671bcb2b006</td><td><em>missing</em></td><td><em>missing</em></td><td><em>missing</em></td><td>13000000000</td><td>0x0039F22efB07A647557C7C5d17854CFD6D489eF3</td></tr><tr><th>4</th><td>3</td><td>0xebf94d3b12838665fdd3fccd747d1f74a1686df6c94a08bb1b757e3744644be6</td><td>4</td><td>31</td><td>0x009e10e12b02db0d56d5f7e1fdc91df98a654f1e</td><td>0xfd8610d20aa15b7b2e3be39b396a1bc3516c7144</td><td>20000000000000000</td><td>405048</td><td>55147597003</td><td>0x21a0adb600000000000000000000000000000000000000000000000000000000000000e0007d0f509d92a6261e2a0de24073cda2ee6c59937abd04662e97df6b83aae55d23b11ed4366f7c1f0d0c8c81228c281b0459e1e8bdb791f5772274b836d3fb620000000000000000000000005456cb66af7b3f4515c4e11bbd84ce047a96f9cf000000000000000000000000009e10e12b02db0d56d5f7e1fdc91df98a654f1e0000000000000000000000000000000000000000000000030a521aceb378a70400000000000000000000000000000000000000000000000000470de4df82000000000000000000000000000000000000000000000000000000000000000001002ce3463012dbbd1a50a7bf159534b1b71a3bcb67d717cd45577a969a00560392233c0d476a5b292f343dcc7e80f41ac1c36fb07558c99b6c10a4bb99407775d70d10efdd619f811e540689492fc99b0faf7ad763e6a874586f6de83a9548de4e213924c35a99e3fd1eebba20f44a940b0f42fbf913a951927f483d7c709192c50cd8559622715da07c0e1a006a876f887faba0d69da5c264ae254e15b8bbfe2a2429b88ef5ae10f190bf66bfcadb12c15f8f6020aca43bdf7d0c24dfc1c548d30d35f66ad4258ca32f17f1bb285d620d6f42b1302d712608a5c02c140a7aebd2088ea76502d9b33828bfc5659f7825db473f2c5820ed92c936f7db45e0fc36d2</td><td>2663888</td><td>368226</td><td><em>missing</em></td><td><em>missing</em></td><td>1</td><td>2021-01-10 14:51:51 UTC</td><td>11627774</td><td>0xd6efacdd985f8cf384e05838737f2038198d2e2e0b8ecf4d0a3b57d10b2d303e</td><td><em>missing</em></td><td><em>missing</em></td><td><em>missing</em></td><td>55147597003</td><td>0x5456cB66af7b3F4515C4e11Bbd84ce047A96f9Cf</td></tr><tr><th>5</th><td>4</td><td>0x2708ff9854543a52bdd203aa94b3131bbdd7c268b34d17378f6ba5a63a3b6370</td><td>3</td><td>116</td><td>0x00a78b13233caf7750483ada217d8c16ecf4e7bf</td><td>0x47ce0c6ed5b0ce3d3a51fdb1c52dc66a7c3c2936</td><td>0</td><td>423183</td><td>13000000000</td><td>0x21a0adb600000000000000000000000000000000000000000000000000000000000000e028181b5ba10a9c7856dbdaaf7dbb7f0b205509eb47a58c93c006661fccb3c04517870e6956da995d94208fb1f9f4ba6089cd067c281f148ea55e331fe373a6d700000000000000000000000000a78b13233caf7750483ada217d8c16ecf4e7bf00000000000000000000000000a78b13233caf7750483ada217d8c16ecf4e7bf0000000000000000000000000000000000000000000000000000000000000000000000000000000000000000000000000000000000000000000000000000000000000000000000000000000000000000000000000000000000000000000001000977ad5e27c21b1087008f5691a2b19856af70cbb1956726a96c0400f55a4c44115c59363328f1e32cd49b7573369c249de1fbe0acd60d3d0f51d168929cafe9025019fad25339d1974253c290df76ed84fa1384ae4c85eac373fbe4960f641011bc61bfd563d5bcecab5474abe14695edd2be0c32b394452fdfef03dd9115920bac75fdd4f0e97f675f06d80f21ce0d0c8acdd2d1ca79ade147f42fc5781e291bf65d4073c531a0b7c67a3b24991d875016f908e2dc4c49be132084a072e4790dbfd70d131322ae7e20496ba66bcea7529de2084882559377c9d5f3c1d746b30f9b715d5a8be05ddd98fbc2beed97bdb79aed40894d4d86f8932f0cc1ccb7df</td><td>5244683</td><td>323183</td><td><em>missing</em></td><td><em>missing</em></td><td>1</td><td>2020-01-19 12:23:53 UTC</td><td>9311742</td><td>0x5565d4dbe84ad74ba8d9b5a3f1b7af741b5c67f0082fb9c1ff425370c44c3288</td><td><em>missing</em></td><td><em>missing</em></td><td><em>missing</em></td><td>13000000000</td><td>0x00A78b13233CAF7750483aDa217d8C16eCf4e7bf</td></tr><tr><th>&vellip;</th><td>&vellip;</td><td>&vellip;</td><td>&vellip;</td><td>&vellip;</td><td>&vellip;</td><td>&vellip;</td><td>&vellip;</td><td>&vellip;</td><td>&vellip;</td><td>&vellip;</td><td>&vellip;</td><td>&vellip;</td><td>&vellip;</td><td>&vellip;</td><td>&vellip;</td><td>&vellip;</td><td>&vellip;</td><td>&vellip;</td><td>&vellip;</td><td>&vellip;</td><td>&vellip;</td><td>&vellip;</td><td>&vellip;</td></tr></tbody></table>"
      ],
      "text/latex": [
       "\\begin{tabular}{r|ccccccccccccccccccccccc}\n",
       "\t& Column1 & hash & nonce & transaction\\_index & from\\_address & to\\_address & value & gas & gas\\_price & input & receipt\\_cumulative\\_gas\\_used & receipt\\_gas\\_used & receipt\\_contract\\_address & receipt\\_root & receipt\\_status & block\\_timestamp & block\\_number & block\\_hash & max\\_fee\\_per\\_gas & max\\_priority\\_fee\\_per\\_gas & transaction\\_type & receipt\\_effective\\_gas\\_price & recipient\\_address\\\\\n",
       "\t\\hline\n",
       "\t& Int64 & String & Int64 & Int64 & String & String & Int64 & Int64 & Int64 & String & Int64 & Int64 & Missing & Missing & Int64 & String & Int64 & String & Missing & Missing & Missing & Int64 & String\\\\\n",
       "\t\\hline\n",
       "\t1 & 0 & 0x8211d6815cdd607a1f8a0d5db08b3cd0121d6df4c6f5b52023788883e6fe7a97 & 0 & 54 & 0x00058bf70d45aa62a493e5fc596974edde903324 & 0x910cbd523d972eb0a6f4cae4618ad62622b39dbf & 0 & 421760 & 37000000000 & 0x21a0adb600000000000000000000000000000000000000000000000000000000000000e0262c5b75219fb59b3a6e535d04d7f4ddf7b8ffd3236263babebaf0e352717db22782f28dda1bfccf8b1c59d0595a400214a32bdad8dcd3b1753a4013a8d6555300000000000000000000000000058bf70d45aa62a493e5fc596974edde90332400000000000000000000000000058bf70d45aa62a493e5fc596974edde9033240000000000000000000000000000000000000000000000000000000000000000000000000000000000000000000000000000000000000000000000000000000000000000000000000000000000000000000000000000000000000000000001000055def7d206642ea94235420978ff0ea81fd15e7d8d7f9ab2b261bf980bb1d321e78994d9d0c49408a22a7481681f7945d8be26efc23e183a412169da7af4422fb173319129d37b7db5df1dbb9f6f5db60f1e5f81ab07f4f030dac1ce83999e2cba949a94b22d1f4af9749f46306db16ea555cea7412951222f7fc5716eae5d0a358bd5d1527136137ec436cb67149a2ca998342359f4f2bc8904d1ae5b520522b4b6dbcdfec5217e30fcd60797cf601bd77b3b0e9157e2e2331408b2553a340e4c89700723498c6e30c1ca67a9a5d0e64a3013845f26299969e7c824aacf6e22ac16d06453342296443d0c7a37bea887ff98cb0888481525a0cbc761754d9d & 2727540 & 321760 & \\emph{missing} & \\emph{missing} & 1 & 2020-07-16 04:21:43 UTC & 10468347 & 0x97002c5d89010843864301297092eb60b3d902f1850d863717db7ec768e7896e & \\emph{missing} & \\emph{missing} & \\emph{missing} & 37000000000 & 0x00058BF70d45AA62A493E5FC596974EdDe903324 \\\\\n",
       "\t2 & 1 & 0xcc8746c16a2bf379e8319b7c190676b77508f09f7a9cec13dd5f77514f446034 & 800 & 56 & 0x0039f22efb07a647557c7c5d17854cfd6d489ef3 & 0x12d66f87a04a9e220743712ce6d9bb1b5616b8fc & 0 & 423207 & 13000000000 & 0x21a0adb600000000000000000000000000000000000000000000000000000000000000e00a52cba850f4ad215648a969675fe4f4b02d6ddae38a189e81396e742962928527e852fdad1aed9326a692b63973cf72c5d6b4a13a6c54599780e870a7c304c80000000000000000000000000039f22efb07a647557c7c5d17854cfd6d489ef30000000000000000000000000039f22efb07a647557c7c5d17854cfd6d489ef300000000000000000000000000000000000000000000000000000000000000000000000000000000000000000000000000000000000000000000000000000000000000000000000000000000000000000000000000000000000000000000010022b904e7729cc7af2d50170a9b57934740815876a1f96a43c832ece57ce95dae2d98b39685cb87a18d38e29c20271506d7103bc391b490a7d524c76c91ff4f9518442626bafb9d4d95c507fa0d3b4a19f34c457bb22dab65432c7c1cd90742200323a69be5b17c37f876c8c212625f955e69151f9b5f695899743a9798f11959226c0dfbd8cf0db70ac928850726479a0a741e0b26ad81fe1d4415d22ce258732c1a9adf37aa06373fea66b14dad706bd08c951d497b3ef8ca5c550f942cc726140dbbb541564c78a4daa44bd5ec69b192b8acf8df2ed2d86386b17abfbf991d1405c2269265226205195dd90d96119383d494b261c31e19b7b6de46ffcf9c1b & 3032779 & 323207 & \\emph{missing} & \\emph{missing} & 1 & 2019-12-16 20:06:53 UTC & 9117186 & 0x8dc6ade4626b61074d088ba600ddcc2686bdc1795681440ce9a86cc6dbdc4dac & \\emph{missing} & \\emph{missing} & \\emph{missing} & 13000000000 & 0x0039F22efB07A647557C7C5d17854CFD6D489eF3 \\\\\n",
       "\t3 & 2 & 0x9bb7303af6ce69085abc3d9f4f5b7884a90023fd6e5925cb6ffed9737ebff78c & 799 & 51 & 0x0039f22efb07a647557c7c5d17854cfd6d489ef3 & 0x12d66f87a04a9e220743712ce6d9bb1b5616b8fc & 0 & 423207 & 13000000000 & 0x21a0adb600000000000000000000000000000000000000000000000000000000000000e00a52cba850f4ad215648a969675fe4f4b02d6ddae38a189e81396e742962928525ff03d81abc80888bb6e8bd553e9c47e8e765bd4a0ea9e96dc179ea0d2aad4f0000000000000000000000000039f22efb07a647557c7c5d17854cfd6d489ef30000000000000000000000000039f22efb07a647557c7c5d17854cfd6d489ef30000000000000000000000000000000000000000000000000000000000000000000000000000000000000000000000000000000000000000000000000000000000000000000000000000000000000000000000000000000000000000000001000a7a16e8bbe0ed7bd058a56093e84b42d7da360c38607950e61ff717b269629f202176403ca2996f7b0566219983fdc13657b5fb3d4c2a4fe01b387f8f11baff1e70f459c3c77c3eb66c51e1f353ef6b860506e0fc2238b6c4034ce8ab747dfb24d3ba606f5c9dd59d4a8971864d0cda95a5d792da6059399ecbf1f622ff3ae6164ab89045bd14ab79921af13adc08a381c4c483cef98159e6fe5abc471e5ece2203479fa32d0e0c08a0f154fb4c5bc2c87db56a824eccd5bcc20ba34edbfb14192433d7f24ea52573a009d4e392ae4feca18e4f532dcd06a6b61f3e9acab8a620bea4c3576cd159c5de8d60a119f48eebdf6da79d0b10710871e5ddea73594c & 3003518 & 323207 & \\emph{missing} & \\emph{missing} & 1 & 2019-12-16 20:04:26 UTC & 9117176 & 0xb6c3554845e041c2de52409bbb4b83ede32d98a68a345d9a53cdc671bcb2b006 & \\emph{missing} & \\emph{missing} & \\emph{missing} & 13000000000 & 0x0039F22efB07A647557C7C5d17854CFD6D489eF3 \\\\\n",
       "\t4 & 3 & 0xebf94d3b12838665fdd3fccd747d1f74a1686df6c94a08bb1b757e3744644be6 & 4 & 31 & 0x009e10e12b02db0d56d5f7e1fdc91df98a654f1e & 0xfd8610d20aa15b7b2e3be39b396a1bc3516c7144 & 20000000000000000 & 405048 & 55147597003 & 0x21a0adb600000000000000000000000000000000000000000000000000000000000000e0007d0f509d92a6261e2a0de24073cda2ee6c59937abd04662e97df6b83aae55d23b11ed4366f7c1f0d0c8c81228c281b0459e1e8bdb791f5772274b836d3fb620000000000000000000000005456cb66af7b3f4515c4e11bbd84ce047a96f9cf000000000000000000000000009e10e12b02db0d56d5f7e1fdc91df98a654f1e0000000000000000000000000000000000000000000000030a521aceb378a70400000000000000000000000000000000000000000000000000470de4df82000000000000000000000000000000000000000000000000000000000000000001002ce3463012dbbd1a50a7bf159534b1b71a3bcb67d717cd45577a969a00560392233c0d476a5b292f343dcc7e80f41ac1c36fb07558c99b6c10a4bb99407775d70d10efdd619f811e540689492fc99b0faf7ad763e6a874586f6de83a9548de4e213924c35a99e3fd1eebba20f44a940b0f42fbf913a951927f483d7c709192c50cd8559622715da07c0e1a006a876f887faba0d69da5c264ae254e15b8bbfe2a2429b88ef5ae10f190bf66bfcadb12c15f8f6020aca43bdf7d0c24dfc1c548d30d35f66ad4258ca32f17f1bb285d620d6f42b1302d712608a5c02c140a7aebd2088ea76502d9b33828bfc5659f7825db473f2c5820ed92c936f7db45e0fc36d2 & 2663888 & 368226 & \\emph{missing} & \\emph{missing} & 1 & 2021-01-10 14:51:51 UTC & 11627774 & 0xd6efacdd985f8cf384e05838737f2038198d2e2e0b8ecf4d0a3b57d10b2d303e & \\emph{missing} & \\emph{missing} & \\emph{missing} & 55147597003 & 0x5456cB66af7b3F4515C4e11Bbd84ce047A96f9Cf \\\\\n",
       "\t5 & 4 & 0x2708ff9854543a52bdd203aa94b3131bbdd7c268b34d17378f6ba5a63a3b6370 & 3 & 116 & 0x00a78b13233caf7750483ada217d8c16ecf4e7bf & 0x47ce0c6ed5b0ce3d3a51fdb1c52dc66a7c3c2936 & 0 & 423183 & 13000000000 & 0x21a0adb600000000000000000000000000000000000000000000000000000000000000e028181b5ba10a9c7856dbdaaf7dbb7f0b205509eb47a58c93c006661fccb3c04517870e6956da995d94208fb1f9f4ba6089cd067c281f148ea55e331fe373a6d700000000000000000000000000a78b13233caf7750483ada217d8c16ecf4e7bf00000000000000000000000000a78b13233caf7750483ada217d8c16ecf4e7bf0000000000000000000000000000000000000000000000000000000000000000000000000000000000000000000000000000000000000000000000000000000000000000000000000000000000000000000000000000000000000000000001000977ad5e27c21b1087008f5691a2b19856af70cbb1956726a96c0400f55a4c44115c59363328f1e32cd49b7573369c249de1fbe0acd60d3d0f51d168929cafe9025019fad25339d1974253c290df76ed84fa1384ae4c85eac373fbe4960f641011bc61bfd563d5bcecab5474abe14695edd2be0c32b394452fdfef03dd9115920bac75fdd4f0e97f675f06d80f21ce0d0c8acdd2d1ca79ade147f42fc5781e291bf65d4073c531a0b7c67a3b24991d875016f908e2dc4c49be132084a072e4790dbfd70d131322ae7e20496ba66bcea7529de2084882559377c9d5f3c1d746b30f9b715d5a8be05ddd98fbc2beed97bdb79aed40894d4d86f8932f0cc1ccb7df & 5244683 & 323183 & \\emph{missing} & \\emph{missing} & 1 & 2020-01-19 12:23:53 UTC & 9311742 & 0x5565d4dbe84ad74ba8d9b5a3f1b7af741b5c67f0082fb9c1ff425370c44c3288 & \\emph{missing} & \\emph{missing} & \\emph{missing} & 13000000000 & 0x00A78b13233CAF7750483aDa217d8C16eCf4e7bf \\\\\n",
       "\t$\\dots$ & $\\dots$ & $\\dots$ & $\\dots$ & $\\dots$ & $\\dots$ & $\\dots$ & $\\dots$ & $\\dots$ & $\\dots$ & $\\dots$ & $\\dots$ & $\\dots$ & $\\dots$ & $\\dots$ & $\\dots$ & $\\dots$ & $\\dots$ & $\\dots$ & $\\dots$ & $\\dots$ & $\\dots$ & $\\dots$ & $\\dots$ \\\\\n",
       "\\end{tabular}\n"
      ],
      "text/plain": [
       "22009×23 DataFrame\n"
      ]
     },
     "execution_count": 12,
     "metadata": {},
     "output_type": "execute_result"
    }
   ],
   "source": [
    "withdraw_transactions_df"
   ]
  },
  {
   "cell_type": "code",
   "execution_count": 14,
   "metadata": {},
   "outputs": [
    {
     "data": {
      "text/html": [
       "<table class=\"data-frame\"><thead><tr><th></th><th>Column1</th><th>hash</th><th>nonce</th><th>transaction_index</th><th>from_address</th><th>to_address</th><th>value</th><th>gas</th><th>gas_price</th><th>input</th><th>receipt_cumulative_gas_used</th><th>receipt_gas_used</th><th>receipt_contract_address</th><th>receipt_root</th><th>receipt_status</th><th>block_timestamp</th><th>block_number</th><th>block_hash</th><th>max_fee_per_gas</th><th>max_priority_fee_per_gas</th><th>transaction_type</th><th>receipt_effective_gas_price</th><th>recipient_address</th></tr><tr><th></th><th>Int64</th><th>String</th><th>Int64</th><th>Int64</th><th>String</th><th>String</th><th>Int64</th><th>Int64</th><th>Int64</th><th>String</th><th>Int64</th><th>Int64</th><th>Missing</th><th>Missing</th><th>Int64</th><th>String</th><th>Int64</th><th>String</th><th>Missing</th><th>Missing</th><th>Missing</th><th>Int64</th><th>String</th></tr></thead><tbody><p>22,009 rows × 23 columns</p><tr><th>1</th><td>17633</td><td>0x25aaa01bcefc2632525456e96c1048cdaeea32ddd12ad09c9d610ce3455a3b16</td><td>4</td><td>60</td><td>0xb5ddf5840506883467e854d48a2b95b62f021eda</td><td>0x169ad27a470d064dede56a2d3ff727986b15d52b</td><td>0</td><td>551039</td><td>8000000000</td><td>0x21a0adb600000000000000000000000000000000000000000000000000000000000000e00cee606abda2ee3409d2b6950b155ea3bb57e6c2c402aa5a3fae8e4e7801a4d906750e7e4e7798ce22984cc4d42e7b7100052ae3d8408b8243b9b6e2a349efbc000000000000000000000000c4ba2f8ae11a427693102e43f2d7be11ce129f54000000000000000000000000c4ba2f8ae11a427693102e43f2d7be11ce129f54000000000000000000000000000000000000000000000000000000000000000000000000000000000000000000000000000000000000000000000000000000000000000000000000000000000000000000000000000000000000000000000100051a5cf4288e9073738a2bb2a9ed3c6540929d882720c29e6858b18430d4365a067a28da596538255a21d7e286d8f9a5ea7f72f1d0aefc59d7f14b7ec92dd2241c0253036ef4b4ee5f8c17b394952d62672038c9e5859fb0231292250bed4ae725ae4973134a6d72822192f45dc1534c729133deec202211a7a89207c8645a3207721cc51f115aa047be43970bfe3e1b372f33265c3029b91bf50c5bb5bee94d079e86cd567e745bd1f33f16743dbe45b89e98a3514f6791006fcdd77ddf8ab20663ccc13c23f31ad9ce3b3aa1474799d1f9b67362617fc39c2a2f3f7b9483502cada37a0f349008f237144b9bd57dfe84582049a33ef318f294c7c0329e8f00</td><td>13128914</td><td>411628</td><td><em>missing</em></td><td><em>missing</em></td><td>1</td><td>2021-06-10 22:00:48 UTC</td><td>12609363</td><td>0x26dc10ecdfed366c0ee1e09bb978f8d4ae7d39d12ef413305b8c66570e2304ca</td><td><em>missing</em></td><td><em>missing</em></td><td><em>missing</em></td><td>8000000000</td><td>0xc4Ba2f8aE11A427693102e43F2D7BE11ce129F54</td></tr><tr><th>2</th><td>17192</td><td>0x2c878be157f7eb268e2e052d566f6499735a85344079be8e547cd7ce07353562</td><td>0</td><td>52</td><td>0xa9b079d27e5992d04935ba661970f8089546db0c</td><td>0x910cbd523d972eb0a6f4cae4618ad62622b39dbf</td><td>0</td><td>421772</td><td>13000000000</td><td>0x21a0adb600000000000000000000000000000000000000000000000000000000000000e020d7f99e545bc36fccd10cd4bd96f72d8dcc689149d59b73601d445b212a6470247878f0994800884cc5154dbef1b376a4107814f4667447c6427686270c51d0000000000000000000000000a9b079d27e5992d04935ba661970f8089546db0c000000000000000000000000a9b079d27e5992d04935ba661970f8089546db0c0000000000000000000000000000000000000000000000000000000000000000000000000000000000000000000000000000000000000000000000000000000000000000000000000000000000000000000000000000000000000000000001002398a0ecaddb5c6a8f4d27599d61051615cc9855105c4da39916cf39bf8fc9581e2c0f61d73844447e507696563c13864619b123ad5b2df1b4ce58aa75b609f720753e400cd415abcd7894273d07a2cee6361ecfd0f4267f7af46008afec26902dbd521f24815d139daa88736fdc0d1b0d0240aa2c27cef275956b41c6c3041512479ec6d609eb83e3a3cda5317b53d9cc5fc423864a9a34dcbbf06f70273ebc29c4fa150d1567740dbb4a6ee45382f2d6c529fbffff08dab24ce0abbbb3f8ce0085f2f8a2ef2326fd71a36e490edaf33e1aea8215f79b768f2c676acb8340341849d8f1a8398b08ddb9fd8d7ccc53050e4c0354758550426bd51651dbfce617</td><td>5926371</td><td>273882</td><td><em>missing</em></td><td><em>missing</em></td><td>0</td><td>2021-06-05 08:10:20 UTC</td><td>12573327</td><td>0xf06eff8cc2a9a9e9c0104292a37e9d2cc866cf220446d8e6138356366b9b7965</td><td><em>missing</em></td><td><em>missing</em></td><td><em>missing</em></td><td>13000000000</td><td>0xA9B079D27E5992d04935Ba661970F8089546db0C</td></tr><tr><th>3</th><td>3305</td><td>0x12265a26081e9847549287523d17225ec514ea658e4e13177a3fcb70e67ea914</td><td>0</td><td>173</td><td>0x12902b10c44c6e1788061840a41a14b80d152379</td><td>0xa160cdab225685da1d56aa342ad8841c3b53f291</td><td>0</td><td>476209</td><td>55000000000</td><td>0x21a0adb600000000000000000000000000000000000000000000000000000000000000e000cb6b1b1ade6777d9152ef4d678a709ec5f7bb487152dcc6f0f361b048da32a285655efd38282e3030d2f75a67be5184e0e1875f1647dc33d1b384ab19c965600000000000000000000000012902b10c44c6e1788061840a41a14b80d15237900000000000000000000000000000000000000000000000000000000000000000000000000000000000000000000000000000000000000000000000000000000000000000000000000000000000000000000000000000000000000000000000000000000000000000000000000000000000000000000000000000000000001000cc63eb89e835bd8307295238a21fd1934ee2cfa5adfb37039a6ed93ecdb2b1d057b94c465819b98342794190d5d01f141a6b5fb6faf560df1f84a5a4ae582d52206315a0f46bd017f989f92f159dfd8e465528319020686f8a8a3b8c4580a30115fa7d336c00b529588306d3c04e97795e6621d909b608ae01247a2759c2c12072c21a7be701aa2a3d7f7664ffbbf014dbde6cdd99b2cafc8c4b42ba47d771029165d11d5645b84e9295931d6b5a75f3aa524b5b44a945b7b7019555f54e3b90e6c9b6d65c5d060c41e53ca02b0108c4f05d4a16752f6a303ab4ad641db66980f4e415fbee0973b46e17f6d7930178802d5d85f0e80980f1503fd27ad246b70</td><td>10915289</td><td>317444</td><td><em>missing</em></td><td><em>missing</em></td><td>1</td><td>2021-05-07 23:32:19 UTC</td><td>12390169</td><td>0xd22723851505753b35b2dc7ed707b531a80fed683c73568a716d6c9430deefce</td><td><em>missing</em></td><td><em>missing</em></td><td><em>missing</em></td><td>55000000000</td><td>0x12902b10c44C6e1788061840A41A14B80D152379</td></tr><tr><th>4</th><td>14926</td><td>0x2e3ac18f8bde8126481794bd082e4a1344aa9a0ba738788d1fe887190f8cb910</td><td>4085</td><td>17</td><td>0x7d3bb46c78b0c4949639ce34896bfd875b97ad08</td><td>0x12d66f87a04a9e220743712ce6d9bb1b5616b8fc</td><td>0</td><td>402232</td><td>91000000000</td><td>0x21a0adb600000000000000000000000000000000000000000000000000000000000000e0017a0433564af0d959e32a33c6da1d61d73421847eed6cb47b86e3f8372f513b1cd61f864ae99443fcf336930f21f091fb63235b4f51ac341e47971d2da0ab13000000000000000000000000f9a3b18a70ee83df9f788b40c86533c44e60b5440000000000000000000000007d3bb46c78b0c4949639ce34896bfd875b97ad0800000000000000000000000000000000000000000000000000aae2b1f5b24000000000000000000000000000000000000000000000000000000000000000000000000000000000000000000000000000000000000000000000000000000001002b2eeee2a8f1f6b4e52641ae233cd0e36cf80acf552856ab57e87aba88f48db01d6f62277a9a6039311107cd07e696b081553baa1759b9950e836a2c882e9faf2d933e0a1f2cb441749be69359fd2bfe98d0e41172cc11e28f55aabca99d29e9182b2af444d6af2ce5224f02d1056217de3d6a2966db9ab7696998f996835a2b0dbe1b6fa90bdb7cf61bc82c4797613864127eed0aa82264303500611c9334ce131150239d45a1c605785703f2b6c33ccc54d66ef91ea739d8e0a83a51d9325107c9726ea04f6a3939ad4a567365dd54277eb3bd0693d7eb393f29dddf16ba7723242ab1503e02f2f2c1e7788f7903525c70bf08816036e0acaec34641607617</td><td>1669679</td><td>352188</td><td><em>missing</em></td><td><em>missing</em></td><td>1</td><td>2021-05-06 19:28:09 UTC</td><td>12382629</td><td>0x03c18f5aa0bc609e9ac2f5bdd222c0d0f5dd30a0343fa3c99221aec7624ba90f</td><td><em>missing</em></td><td><em>missing</em></td><td><em>missing</em></td><td>91000000000</td><td>0xf9A3b18A70eE83dF9F788B40C86533C44E60B544</td></tr><tr><th>5</th><td>18374</td><td>0xa79240fb4b7e045849a1c753a43d2d3c3825935f33bd67b09130e9abc2881455</td><td>751</td><td>25</td><td>0xdd36d585a0d32b4ae6f1790bc4292308e21a42e3</td><td>0x4736dcf1b7a3d580672cce6e7c65cd5cc9cfba9d</td><td>20000000000000000</td><td>400386</td><td>145010000000</td><td>0x21a0adb600000000000000000000000000000000000000000000000000000000000000e008bfb36e5803182abd8f7353ae70bd2c1e1686c47702f854c7c6e8de8b31a5a31d136716020959bcfbbfc6a6162636525bfad487a59d74d8e16d3b9abf55b2db000000000000000000000000559dc66a43ecc1712a9ec789a28cfd9a431cd167000000000000000000000000dd36d585a0d32b4ae6f1790bc4292308e21a42e30000000000000000000000000000000000000000000000000000000008a7417d00000000000000000000000000000000000000000000000000470de4df82000000000000000000000000000000000000000000000000000000000000000001000f61d6eeeed916e7143d5e61b049eb3427b3bd670119e6219b38fe0ed6dba0ef29c4f296249c973491e83cddc5d9245800e565c76579467cee9163ca169795192cb83f028e9d7a422cd272586d2c9b04daadc0b79fc0493422982cceb9842c2e04661db29396d6939248a9fcafbdc8e790b996909af3dc9f9c4915d3ab7bbd152c56c974a40248cbe132437304b4f606ad14dfe4bad9dcd2e473cb7a42d70f842302b2ffdeb260401a1855148bf9cb9a592213c4cd3ffb0b4ce2b03fa8c7e44604ace23d96ce9766c30abb85218745f41145fc985b483fa00ad962209ebfd34c09278de9f31a9f5c7be7649073ba06b91071c5371700756db77bf6824d5d6792</td><td>3021610</td><td>363988</td><td><em>missing</em></td><td><em>missing</em></td><td>1</td><td>2021-03-30 22:39:07 UTC</td><td>12143415</td><td>0x0f3014c659886c46a45c7d38b2654a6e9b49667bea6b1a3edb2870f3e1366ebe</td><td><em>missing</em></td><td><em>missing</em></td><td><em>missing</em></td><td>145010000000</td><td>0x559dC66a43EcC1712a9eC789A28CfD9A431CD167</td></tr><tr><th>&vellip;</th><td>&vellip;</td><td>&vellip;</td><td>&vellip;</td><td>&vellip;</td><td>&vellip;</td><td>&vellip;</td><td>&vellip;</td><td>&vellip;</td><td>&vellip;</td><td>&vellip;</td><td>&vellip;</td><td>&vellip;</td><td>&vellip;</td><td>&vellip;</td><td>&vellip;</td><td>&vellip;</td><td>&vellip;</td><td>&vellip;</td><td>&vellip;</td><td>&vellip;</td><td>&vellip;</td><td>&vellip;</td><td>&vellip;</td></tr></tbody></table>"
      ],
      "text/latex": [
       "\\begin{tabular}{r|ccccccccccccccccccccccc}\n",
       "\t& Column1 & hash & nonce & transaction\\_index & from\\_address & to\\_address & value & gas & gas\\_price & input & receipt\\_cumulative\\_gas\\_used & receipt\\_gas\\_used & receipt\\_contract\\_address & receipt\\_root & receipt\\_status & block\\_timestamp & block\\_number & block\\_hash & max\\_fee\\_per\\_gas & max\\_priority\\_fee\\_per\\_gas & transaction\\_type & receipt\\_effective\\_gas\\_price & recipient\\_address\\\\\n",
       "\t\\hline\n",
       "\t& Int64 & String & Int64 & Int64 & String & String & Int64 & Int64 & Int64 & String & Int64 & Int64 & Missing & Missing & Int64 & String & Int64 & String & Missing & Missing & Missing & Int64 & String\\\\\n",
       "\t\\hline\n",
       "\t1 & 17633 & 0x25aaa01bcefc2632525456e96c1048cdaeea32ddd12ad09c9d610ce3455a3b16 & 4 & 60 & 0xb5ddf5840506883467e854d48a2b95b62f021eda & 0x169ad27a470d064dede56a2d3ff727986b15d52b & 0 & 551039 & 8000000000 & 0x21a0adb600000000000000000000000000000000000000000000000000000000000000e00cee606abda2ee3409d2b6950b155ea3bb57e6c2c402aa5a3fae8e4e7801a4d906750e7e4e7798ce22984cc4d42e7b7100052ae3d8408b8243b9b6e2a349efbc000000000000000000000000c4ba2f8ae11a427693102e43f2d7be11ce129f54000000000000000000000000c4ba2f8ae11a427693102e43f2d7be11ce129f54000000000000000000000000000000000000000000000000000000000000000000000000000000000000000000000000000000000000000000000000000000000000000000000000000000000000000000000000000000000000000000000100051a5cf4288e9073738a2bb2a9ed3c6540929d882720c29e6858b18430d4365a067a28da596538255a21d7e286d8f9a5ea7f72f1d0aefc59d7f14b7ec92dd2241c0253036ef4b4ee5f8c17b394952d62672038c9e5859fb0231292250bed4ae725ae4973134a6d72822192f45dc1534c729133deec202211a7a89207c8645a3207721cc51f115aa047be43970bfe3e1b372f33265c3029b91bf50c5bb5bee94d079e86cd567e745bd1f33f16743dbe45b89e98a3514f6791006fcdd77ddf8ab20663ccc13c23f31ad9ce3b3aa1474799d1f9b67362617fc39c2a2f3f7b9483502cada37a0f349008f237144b9bd57dfe84582049a33ef318f294c7c0329e8f00 & 13128914 & 411628 & \\emph{missing} & \\emph{missing} & 1 & 2021-06-10 22:00:48 UTC & 12609363 & 0x26dc10ecdfed366c0ee1e09bb978f8d4ae7d39d12ef413305b8c66570e2304ca & \\emph{missing} & \\emph{missing} & \\emph{missing} & 8000000000 & 0xc4Ba2f8aE11A427693102e43F2D7BE11ce129F54 \\\\\n",
       "\t2 & 17192 & 0x2c878be157f7eb268e2e052d566f6499735a85344079be8e547cd7ce07353562 & 0 & 52 & 0xa9b079d27e5992d04935ba661970f8089546db0c & 0x910cbd523d972eb0a6f4cae4618ad62622b39dbf & 0 & 421772 & 13000000000 & 0x21a0adb600000000000000000000000000000000000000000000000000000000000000e020d7f99e545bc36fccd10cd4bd96f72d8dcc689149d59b73601d445b212a6470247878f0994800884cc5154dbef1b376a4107814f4667447c6427686270c51d0000000000000000000000000a9b079d27e5992d04935ba661970f8089546db0c000000000000000000000000a9b079d27e5992d04935ba661970f8089546db0c0000000000000000000000000000000000000000000000000000000000000000000000000000000000000000000000000000000000000000000000000000000000000000000000000000000000000000000000000000000000000000000001002398a0ecaddb5c6a8f4d27599d61051615cc9855105c4da39916cf39bf8fc9581e2c0f61d73844447e507696563c13864619b123ad5b2df1b4ce58aa75b609f720753e400cd415abcd7894273d07a2cee6361ecfd0f4267f7af46008afec26902dbd521f24815d139daa88736fdc0d1b0d0240aa2c27cef275956b41c6c3041512479ec6d609eb83e3a3cda5317b53d9cc5fc423864a9a34dcbbf06f70273ebc29c4fa150d1567740dbb4a6ee45382f2d6c529fbffff08dab24ce0abbbb3f8ce0085f2f8a2ef2326fd71a36e490edaf33e1aea8215f79b768f2c676acb8340341849d8f1a8398b08ddb9fd8d7ccc53050e4c0354758550426bd51651dbfce617 & 5926371 & 273882 & \\emph{missing} & \\emph{missing} & 0 & 2021-06-05 08:10:20 UTC & 12573327 & 0xf06eff8cc2a9a9e9c0104292a37e9d2cc866cf220446d8e6138356366b9b7965 & \\emph{missing} & \\emph{missing} & \\emph{missing} & 13000000000 & 0xA9B079D27E5992d04935Ba661970F8089546db0C \\\\\n",
       "\t3 & 3305 & 0x12265a26081e9847549287523d17225ec514ea658e4e13177a3fcb70e67ea914 & 0 & 173 & 0x12902b10c44c6e1788061840a41a14b80d152379 & 0xa160cdab225685da1d56aa342ad8841c3b53f291 & 0 & 476209 & 55000000000 & 0x21a0adb600000000000000000000000000000000000000000000000000000000000000e000cb6b1b1ade6777d9152ef4d678a709ec5f7bb487152dcc6f0f361b048da32a285655efd38282e3030d2f75a67be5184e0e1875f1647dc33d1b384ab19c965600000000000000000000000012902b10c44c6e1788061840a41a14b80d15237900000000000000000000000000000000000000000000000000000000000000000000000000000000000000000000000000000000000000000000000000000000000000000000000000000000000000000000000000000000000000000000000000000000000000000000000000000000000000000000000000000000000001000cc63eb89e835bd8307295238a21fd1934ee2cfa5adfb37039a6ed93ecdb2b1d057b94c465819b98342794190d5d01f141a6b5fb6faf560df1f84a5a4ae582d52206315a0f46bd017f989f92f159dfd8e465528319020686f8a8a3b8c4580a30115fa7d336c00b529588306d3c04e97795e6621d909b608ae01247a2759c2c12072c21a7be701aa2a3d7f7664ffbbf014dbde6cdd99b2cafc8c4b42ba47d771029165d11d5645b84e9295931d6b5a75f3aa524b5b44a945b7b7019555f54e3b90e6c9b6d65c5d060c41e53ca02b0108c4f05d4a16752f6a303ab4ad641db66980f4e415fbee0973b46e17f6d7930178802d5d85f0e80980f1503fd27ad246b70 & 10915289 & 317444 & \\emph{missing} & \\emph{missing} & 1 & 2021-05-07 23:32:19 UTC & 12390169 & 0xd22723851505753b35b2dc7ed707b531a80fed683c73568a716d6c9430deefce & \\emph{missing} & \\emph{missing} & \\emph{missing} & 55000000000 & 0x12902b10c44C6e1788061840A41A14B80D152379 \\\\\n",
       "\t4 & 14926 & 0x2e3ac18f8bde8126481794bd082e4a1344aa9a0ba738788d1fe887190f8cb910 & 4085 & 17 & 0x7d3bb46c78b0c4949639ce34896bfd875b97ad08 & 0x12d66f87a04a9e220743712ce6d9bb1b5616b8fc & 0 & 402232 & 91000000000 & 0x21a0adb600000000000000000000000000000000000000000000000000000000000000e0017a0433564af0d959e32a33c6da1d61d73421847eed6cb47b86e3f8372f513b1cd61f864ae99443fcf336930f21f091fb63235b4f51ac341e47971d2da0ab13000000000000000000000000f9a3b18a70ee83df9f788b40c86533c44e60b5440000000000000000000000007d3bb46c78b0c4949639ce34896bfd875b97ad0800000000000000000000000000000000000000000000000000aae2b1f5b24000000000000000000000000000000000000000000000000000000000000000000000000000000000000000000000000000000000000000000000000000000001002b2eeee2a8f1f6b4e52641ae233cd0e36cf80acf552856ab57e87aba88f48db01d6f62277a9a6039311107cd07e696b081553baa1759b9950e836a2c882e9faf2d933e0a1f2cb441749be69359fd2bfe98d0e41172cc11e28f55aabca99d29e9182b2af444d6af2ce5224f02d1056217de3d6a2966db9ab7696998f996835a2b0dbe1b6fa90bdb7cf61bc82c4797613864127eed0aa82264303500611c9334ce131150239d45a1c605785703f2b6c33ccc54d66ef91ea739d8e0a83a51d9325107c9726ea04f6a3939ad4a567365dd54277eb3bd0693d7eb393f29dddf16ba7723242ab1503e02f2f2c1e7788f7903525c70bf08816036e0acaec34641607617 & 1669679 & 352188 & \\emph{missing} & \\emph{missing} & 1 & 2021-05-06 19:28:09 UTC & 12382629 & 0x03c18f5aa0bc609e9ac2f5bdd222c0d0f5dd30a0343fa3c99221aec7624ba90f & \\emph{missing} & \\emph{missing} & \\emph{missing} & 91000000000 & 0xf9A3b18A70eE83dF9F788B40C86533C44E60B544 \\\\\n",
       "\t5 & 18374 & 0xa79240fb4b7e045849a1c753a43d2d3c3825935f33bd67b09130e9abc2881455 & 751 & 25 & 0xdd36d585a0d32b4ae6f1790bc4292308e21a42e3 & 0x4736dcf1b7a3d580672cce6e7c65cd5cc9cfba9d & 20000000000000000 & 400386 & 145010000000 & 0x21a0adb600000000000000000000000000000000000000000000000000000000000000e008bfb36e5803182abd8f7353ae70bd2c1e1686c47702f854c7c6e8de8b31a5a31d136716020959bcfbbfc6a6162636525bfad487a59d74d8e16d3b9abf55b2db000000000000000000000000559dc66a43ecc1712a9ec789a28cfd9a431cd167000000000000000000000000dd36d585a0d32b4ae6f1790bc4292308e21a42e30000000000000000000000000000000000000000000000000000000008a7417d00000000000000000000000000000000000000000000000000470de4df82000000000000000000000000000000000000000000000000000000000000000001000f61d6eeeed916e7143d5e61b049eb3427b3bd670119e6219b38fe0ed6dba0ef29c4f296249c973491e83cddc5d9245800e565c76579467cee9163ca169795192cb83f028e9d7a422cd272586d2c9b04daadc0b79fc0493422982cceb9842c2e04661db29396d6939248a9fcafbdc8e790b996909af3dc9f9c4915d3ab7bbd152c56c974a40248cbe132437304b4f606ad14dfe4bad9dcd2e473cb7a42d70f842302b2ffdeb260401a1855148bf9cb9a592213c4cd3ffb0b4ce2b03fa8c7e44604ace23d96ce9766c30abb85218745f41145fc985b483fa00ad962209ebfd34c09278de9f31a9f5c7be7649073ba06b91071c5371700756db77bf6824d5d6792 & 3021610 & 363988 & \\emph{missing} & \\emph{missing} & 1 & 2021-03-30 22:39:07 UTC & 12143415 & 0x0f3014c659886c46a45c7d38b2654a6e9b49667bea6b1a3edb2870f3e1366ebe & \\emph{missing} & \\emph{missing} & \\emph{missing} & 145010000000 & 0x559dC66a43EcC1712a9eC789A28CfD9A431CD167 \\\\\n",
       "\t$\\dots$ & $\\dots$ & $\\dots$ & $\\dots$ & $\\dots$ & $\\dots$ & $\\dots$ & $\\dots$ & $\\dots$ & $\\dots$ & $\\dots$ & $\\dots$ & $\\dots$ & $\\dots$ & $\\dots$ & $\\dots$ & $\\dots$ & $\\dots$ & $\\dots$ & $\\dots$ & $\\dots$ & $\\dots$ & $\\dots$ & $\\dots$ \\\\\n",
       "\\end{tabular}\n"
      ],
      "text/plain": [
       "22009×23 DataFrame\n"
      ]
     },
     "execution_count": 14,
     "metadata": {},
     "output_type": "execute_result"
    }
   ],
   "source": [
    "sorted_withdawals = sort!(withdraw_transactions_df, :block_timestamp, rev=true)"
   ]
  },
  {
   "cell_type": "markdown",
   "metadata": {},
   "source": [
    "So, it seems that we have withdrwals up to 2021-06-10. Again, this doesn't make sense.\n",
    "\n",
    "As [this post](https://medium.com/@theimperialduke/ethereum-traces-not-transactions-3f0533d26aa) explain, in order to recalculate eth balances we need to use ethereum **traces** (check that the guys from dune also use eth.traces). Lets see:\n",
    "\n",
    "Runing the same query as before but on the traces table:\n",
    "\n",
    "SELECT * FROM `bigquery-public-data.crypto_ethereum.traces` WHERE `to_address` \n",
    "IN (SELECT `address` FROM `tornado_cash_transactions.tornadocontracts`) AND SUBSTR(`input`, 1, 10) IN (\"0xb214faa5\", \"0x21a0adb6\");"
   ]
  },
  {
   "cell_type": "code",
   "execution_count": 15,
   "metadata": {
    "scrolled": true
   },
   "outputs": [
    {
     "data": {
      "text/html": [
       "<table class=\"data-frame\"><thead><tr><th></th><th>transaction_hash</th><th>transaction_index</th><th>from_address</th><th>to_address</th><th>value</th><th>input</th><th>output</th><th>trace_type</th><th>call_type</th><th>reward_type</th><th>gas</th><th>gas_used</th><th>subtraces</th><th>trace_address</th><th>error</th><th>status</th><th>block_timestamp</th><th>block_number</th><th>block_hash</th><th>trace_id</th></tr><tr><th></th><th>String</th><th>Int64</th><th>String</th><th>String</th><th>Float64</th><th>String</th><th>String?</th><th>String</th><th>String</th><th>Missing</th><th>Int64</th><th>Int64?</th><th>Int64</th><th>String?</th><th>String?</th><th>Int64</th><th>String</th><th>Int64</th><th>String</th><th>String</th></tr></thead><tbody><p>181,271 rows × 20 columns</p><tr><th>1</th><td>0x14a3923eb7f30311240d6cbe838ac7e0639c309017395b36b130938d9894787c</td><td>48</td><td>0x722122df12d4e14e13ac3b6895a86e84145b6967</td><td>0x03893a7c7463ae47d46bc7f091665f1893656003</td><td>0.0</td><td>0xb214faa50e50cde66fa6f1227cab1eeebf0aff07940d861fa4b66d3d0b4c85ce6c76bf7f</td><td>0x</td><td>call</td><td>call</td><td><em>missing</em></td><td>990735</td><td>912248</td><td>41</td><td>2</td><td><em>missing</em></td><td>1</td><td>2021-05-22 16:22:08 UTC</td><td>12485152</td><td>0xe6f35f8a11022e6b42818fff43b16690c7fcb88a7931960f7c22cc35104ebf4b</td><td>call_0x14a3923eb7f30311240d6cbe838ac7e0639c309017395b36b130938d9894787c_2</td></tr><tr><th>2</th><td>0xc2c9732f7ea93698d46bafa3dbe0f6febcf799945ce016fe779dd7faa2fdc87f</td><td>82</td><td>0x722122df12d4e14e13ac3b6895a86e84145b6967</td><td>0x03893a7c7463ae47d46bc7f091665f1893656003</td><td>1.21151e17</td><td>0x21a0adb600000000000000000000000000000000000000000000000000000000000000e015d3d1d30de13ba53da140ef7120f92c7f2b7952a336d34d9db51097dc44bfc80cf98273476befb8881206a0a48af6c63dad87d7960d862d5ad886e615706a9e0000000000000000000000002fe8e10633eae71b503c60180c4190710a132237000000000000000000000000be4d1e137a24af091be80ae58d652279665e3a27000000000000000000000000000000000000000000000000000002f30d20eecb00000000000000000000000000000000000000000000000001ae69bce4dc680000000000000000000000000000000000000000000000000000000000000001000ca661773a0664c7314927e92525a32f0631194b1e73a2873b1bdff4b5b01da82e35c99e3602de30071f80fae1b55170f1c0ab03e505759fedcf2c60d84c53781205853b85e25db939e5f1f429a8ef5a1b58fae8cf10e5e1ef24f671a0743372020923e0bd54bb4ca70ae777397cbb959cb4968c0125512534c77c226de85e2c23e77641570d2dd8a46cd52438dcc0c91ec54471e6ab5f165bb76f9a598828870387d21cd35e5ed1ff4bdb1719577faacdb01ccbafaf9c16726a981d86def97b19808cb12a6b727b65dee94edf7984639cb2986e8a72da0245f137eeac5aff4603f36e0bd6033055c04d4e6805cbec2fc4b6724391a146f10a551921e3161f9a</td><td>0x</td><td>call</td><td>call</td><td><em>missing</em></td><td>500758</td><td>447979</td><td>4</td><td>0</td><td><em>missing</em></td><td>1</td><td>2021-10-15 17:05:13 UTC</td><td>13423878</td><td>0x47ed0032aee2cafd9acdf32317c434f07b537b8400f836e9186687122dd7548c</td><td>call_0xc2c9732f7ea93698d46bafa3dbe0f6febcf799945ce016fe779dd7faa2fdc87f_0</td></tr><tr><th>3</th><td>0xcb7e6a27cd0e9bf71054b61982b20d12e98885667ee61447d02f7ae1de9ce671</td><td>36</td><td>0x722122df12d4e14e13ac3b6895a86e84145b6967</td><td>0x03893a7c7463ae47d46bc7f091665f1893656003</td><td>0.0</td><td>0xb214faa52c7747bcfca9ce0281515638387453bcc49c30f4f0331229e8540ecf2fa59c0a</td><td>0x</td><td>call</td><td>call</td><td><em>missing</em></td><td>1317149</td><td>941658</td><td>41</td><td>2</td><td><em>missing</em></td><td>1</td><td>2021-04-26 09:49:49 UTC</td><td>12315198</td><td>0x067f762a302cbced13ff6165da4d309d646e3abbc7863cc56f98434d5624f8cb</td><td>call_0xcb7e6a27cd0e9bf71054b61982b20d12e98885667ee61447d02f7ae1de9ce671_2</td></tr><tr><th>4</th><td>0xade7cb15e967438c42a9eeede86245195591a4d7f12f327f18231eaa3802ed93</td><td>68</td><td>0x722122df12d4e14e13ac3b6895a86e84145b6967</td><td>0x03893a7c7463ae47d46bc7f091665f1893656003</td><td>0.0</td><td>0xb214faa5062e06017fab545360bc7c68684c339acc2c05a16cda23ba05074286ebdb0d3a</td><td>0x</td><td>call</td><td>call</td><td><em>missing</em></td><td>1038629</td><td>958810</td><td>41</td><td>2</td><td><em>missing</em></td><td>1</td><td>2021-04-15 21:06:02 UTC</td><td>12247016</td><td>0xd7ce8779f739c346e2e97e8b3a6f7e51896f3783ba99c1e9a23f84f8d8d21bce</td><td>call_0xade7cb15e967438c42a9eeede86245195591a4d7f12f327f18231eaa3802ed93_2</td></tr><tr><th>5</th><td>0x810b236b3524ec07e464db6da2befd0c70550c312422d605ad38caea2f1dbbe9</td><td>93</td><td>0x722122df12d4e14e13ac3b6895a86e84145b6967</td><td>0x03893a7c7463ae47d46bc7f091665f1893656003</td><td>0.0</td><td>0xb214faa5268ebc52aa1ede130d959fc68d276bae6a13376f6ae637ab3330a433af3ef9ec</td><td>0x</td><td>call</td><td>call</td><td><em>missing</em></td><td>990760</td><td>912274</td><td>41</td><td>2</td><td><em>missing</em></td><td>1</td><td>2021-05-22 16:10:38 UTC</td><td>12485099</td><td>0xdd0e09ffa6d2b1e917f4e575c1bcd4e5ff22602b4c7862fdc93719871679eed9</td><td>call_0x810b236b3524ec07e464db6da2befd0c70550c312422d605ad38caea2f1dbbe9_2</td></tr><tr><th>&vellip;</th><td>&vellip;</td><td>&vellip;</td><td>&vellip;</td><td>&vellip;</td><td>&vellip;</td><td>&vellip;</td><td>&vellip;</td><td>&vellip;</td><td>&vellip;</td><td>&vellip;</td><td>&vellip;</td><td>&vellip;</td><td>&vellip;</td><td>&vellip;</td><td>&vellip;</td><td>&vellip;</td><td>&vellip;</td><td>&vellip;</td><td>&vellip;</td><td>&vellip;</td></tr></tbody></table>"
      ],
      "text/latex": [
       "\\begin{tabular}{r|cccccccccccccccccccc}\n",
       "\t& transaction\\_hash & transaction\\_index & from\\_address & to\\_address & value & input & output & trace\\_type & call\\_type & reward\\_type & gas & gas\\_used & subtraces & trace\\_address & error & status & block\\_timestamp & block\\_number & block\\_hash & trace\\_id\\\\\n",
       "\t\\hline\n",
       "\t& String & Int64 & String & String & Float64 & String & String? & String & String & Missing & Int64 & Int64? & Int64 & String? & String? & Int64 & String & Int64 & String & String\\\\\n",
       "\t\\hline\n",
       "\t1 & 0x14a3923eb7f30311240d6cbe838ac7e0639c309017395b36b130938d9894787c & 48 & 0x722122df12d4e14e13ac3b6895a86e84145b6967 & 0x03893a7c7463ae47d46bc7f091665f1893656003 & 0.0 & 0xb214faa50e50cde66fa6f1227cab1eeebf0aff07940d861fa4b66d3d0b4c85ce6c76bf7f & 0x & call & call & \\emph{missing} & 990735 & 912248 & 41 & 2 & \\emph{missing} & 1 & 2021-05-22 16:22:08 UTC & 12485152 & 0xe6f35f8a11022e6b42818fff43b16690c7fcb88a7931960f7c22cc35104ebf4b & call\\_0x14a3923eb7f30311240d6cbe838ac7e0639c309017395b36b130938d9894787c\\_2 \\\\\n",
       "\t2 & 0xc2c9732f7ea93698d46bafa3dbe0f6febcf799945ce016fe779dd7faa2fdc87f & 82 & 0x722122df12d4e14e13ac3b6895a86e84145b6967 & 0x03893a7c7463ae47d46bc7f091665f1893656003 & 1.21151e17 & 0x21a0adb600000000000000000000000000000000000000000000000000000000000000e015d3d1d30de13ba53da140ef7120f92c7f2b7952a336d34d9db51097dc44bfc80cf98273476befb8881206a0a48af6c63dad87d7960d862d5ad886e615706a9e0000000000000000000000002fe8e10633eae71b503c60180c4190710a132237000000000000000000000000be4d1e137a24af091be80ae58d652279665e3a27000000000000000000000000000000000000000000000000000002f30d20eecb00000000000000000000000000000000000000000000000001ae69bce4dc680000000000000000000000000000000000000000000000000000000000000001000ca661773a0664c7314927e92525a32f0631194b1e73a2873b1bdff4b5b01da82e35c99e3602de30071f80fae1b55170f1c0ab03e505759fedcf2c60d84c53781205853b85e25db939e5f1f429a8ef5a1b58fae8cf10e5e1ef24f671a0743372020923e0bd54bb4ca70ae777397cbb959cb4968c0125512534c77c226de85e2c23e77641570d2dd8a46cd52438dcc0c91ec54471e6ab5f165bb76f9a598828870387d21cd35e5ed1ff4bdb1719577faacdb01ccbafaf9c16726a981d86def97b19808cb12a6b727b65dee94edf7984639cb2986e8a72da0245f137eeac5aff4603f36e0bd6033055c04d4e6805cbec2fc4b6724391a146f10a551921e3161f9a & 0x & call & call & \\emph{missing} & 500758 & 447979 & 4 & 0 & \\emph{missing} & 1 & 2021-10-15 17:05:13 UTC & 13423878 & 0x47ed0032aee2cafd9acdf32317c434f07b537b8400f836e9186687122dd7548c & call\\_0xc2c9732f7ea93698d46bafa3dbe0f6febcf799945ce016fe779dd7faa2fdc87f\\_0 \\\\\n",
       "\t3 & 0xcb7e6a27cd0e9bf71054b61982b20d12e98885667ee61447d02f7ae1de9ce671 & 36 & 0x722122df12d4e14e13ac3b6895a86e84145b6967 & 0x03893a7c7463ae47d46bc7f091665f1893656003 & 0.0 & 0xb214faa52c7747bcfca9ce0281515638387453bcc49c30f4f0331229e8540ecf2fa59c0a & 0x & call & call & \\emph{missing} & 1317149 & 941658 & 41 & 2 & \\emph{missing} & 1 & 2021-04-26 09:49:49 UTC & 12315198 & 0x067f762a302cbced13ff6165da4d309d646e3abbc7863cc56f98434d5624f8cb & call\\_0xcb7e6a27cd0e9bf71054b61982b20d12e98885667ee61447d02f7ae1de9ce671\\_2 \\\\\n",
       "\t4 & 0xade7cb15e967438c42a9eeede86245195591a4d7f12f327f18231eaa3802ed93 & 68 & 0x722122df12d4e14e13ac3b6895a86e84145b6967 & 0x03893a7c7463ae47d46bc7f091665f1893656003 & 0.0 & 0xb214faa5062e06017fab545360bc7c68684c339acc2c05a16cda23ba05074286ebdb0d3a & 0x & call & call & \\emph{missing} & 1038629 & 958810 & 41 & 2 & \\emph{missing} & 1 & 2021-04-15 21:06:02 UTC & 12247016 & 0xd7ce8779f739c346e2e97e8b3a6f7e51896f3783ba99c1e9a23f84f8d8d21bce & call\\_0xade7cb15e967438c42a9eeede86245195591a4d7f12f327f18231eaa3802ed93\\_2 \\\\\n",
       "\t5 & 0x810b236b3524ec07e464db6da2befd0c70550c312422d605ad38caea2f1dbbe9 & 93 & 0x722122df12d4e14e13ac3b6895a86e84145b6967 & 0x03893a7c7463ae47d46bc7f091665f1893656003 & 0.0 & 0xb214faa5268ebc52aa1ede130d959fc68d276bae6a13376f6ae637ab3330a433af3ef9ec & 0x & call & call & \\emph{missing} & 990760 & 912274 & 41 & 2 & \\emph{missing} & 1 & 2021-05-22 16:10:38 UTC & 12485099 & 0xdd0e09ffa6d2b1e917f4e575c1bcd4e5ff22602b4c7862fdc93719871679eed9 & call\\_0x810b236b3524ec07e464db6da2befd0c70550c312422d605ad38caea2f1dbbe9\\_2 \\\\\n",
       "\t$\\dots$ & $\\dots$ & $\\dots$ & $\\dots$ & $\\dots$ & $\\dots$ & $\\dots$ & $\\dots$ & $\\dots$ & $\\dots$ & $\\dots$ & $\\dots$ & $\\dots$ & $\\dots$ & $\\dots$ & $\\dots$ & $\\dots$ & $\\dots$ & $\\dots$ & $\\dots$ & $\\dots$ \\\\\n",
       "\\end{tabular}\n"
      ],
      "text/plain": [
       "181271×20 DataFrame\n"
      ]
     },
     "execution_count": 15,
     "metadata": {},
     "output_type": "execute_result"
    }
   ],
   "source": [
    "tornado_traces_df"
   ]
  },
  {
   "cell_type": "code",
   "execution_count": 48,
   "metadata": {},
   "outputs": [
    {
     "data": {
      "text/html": [
       "<table class=\"data-frame\"><thead><tr><th></th><th>transaction_hash</th><th>transaction_index</th><th>from_address</th><th>to_address</th><th>value</th><th>input</th><th>output</th><th>trace_type</th><th>call_type</th><th>reward_type</th><th>gas</th><th>gas_used</th><th>subtraces</th><th>trace_address</th><th>error</th><th>status</th><th>block_timestamp</th><th>block_number</th><th>block_hash</th><th>trace_id</th></tr><tr><th></th><th>String</th><th>Int64</th><th>String</th><th>String</th><th>Float64</th><th>String</th><th>String?</th><th>String</th><th>String</th><th>Missing</th><th>Int64</th><th>Int64?</th><th>Int64</th><th>String?</th><th>String?</th><th>Int64</th><th>String</th><th>Int64</th><th>String</th><th>String</th></tr></thead><tbody><p>0 rows × 20 columns</p></tbody></table>"
      ],
      "text/latex": [
       "\\begin{tabular}{r|cccccccccccccccccccc}\n",
       "\t& transaction\\_hash & transaction\\_index & from\\_address & to\\_address & value & input & output & trace\\_type & call\\_type & reward\\_type & gas & gas\\_used & subtraces & trace\\_address & error & status & block\\_timestamp & block\\_number & block\\_hash & trace\\_id\\\\\n",
       "\t\\hline\n",
       "\t& String & Int64 & String & String & Float64 & String & String? & String & String & Missing & Int64 & Int64? & Int64 & String? & String? & Int64 & String & Int64 & String & String\\\\\n",
       "\t\\hline\n",
       "\\end{tabular}\n"
      ],
      "text/plain": [
       "0×20 DataFrame\n"
      ]
     },
     "execution_count": 48,
     "metadata": {},
     "output_type": "execute_result"
    }
   ],
   "source": [
    "filter(row -> row.to_address ∉ tornado_addresses, tornado_traces_df) #Every row in this df is interacting with a tcash contract"
   ]
  },
  {
   "cell_type": "code",
   "execution_count": 23,
   "metadata": {},
   "outputs": [
    {
     "data": {
      "text/html": [
       "<table class=\"data-frame\"><thead><tr><th></th><th>transaction_hash</th><th>transaction_index</th><th>from_address</th><th>to_address</th><th>value</th><th>input</th><th>output</th><th>trace_type</th><th>call_type</th><th>reward_type</th><th>gas</th><th>gas_used</th><th>subtraces</th><th>trace_address</th><th>error</th><th>status</th><th>block_timestamp</th><th>block_number</th><th>block_hash</th><th>trace_id</th></tr><tr><th></th><th>String</th><th>Int64</th><th>String</th><th>String</th><th>Float64</th><th>String</th><th>String?</th><th>String</th><th>String</th><th>Missing</th><th>Int64</th><th>Int64?</th><th>Int64</th><th>String?</th><th>String?</th><th>Int64</th><th>String</th><th>Int64</th><th>String</th><th>String</th></tr></thead><tbody><p>97,472 rows × 20 columns</p><tr><th>1</th><td>0x14a3923eb7f30311240d6cbe838ac7e0639c309017395b36b130938d9894787c</td><td>48</td><td>0x722122df12d4e14e13ac3b6895a86e84145b6967</td><td>0x03893a7c7463ae47d46bc7f091665f1893656003</td><td>0.0</td><td>0xb214faa50e50cde66fa6f1227cab1eeebf0aff07940d861fa4b66d3d0b4c85ce6c76bf7f</td><td>0x</td><td>call</td><td>call</td><td><em>missing</em></td><td>990735</td><td>912248</td><td>41</td><td>2</td><td><em>missing</em></td><td>1</td><td>2021-05-22 16:22:08 UTC</td><td>12485152</td><td>0xe6f35f8a11022e6b42818fff43b16690c7fcb88a7931960f7c22cc35104ebf4b</td><td>call_0x14a3923eb7f30311240d6cbe838ac7e0639c309017395b36b130938d9894787c_2</td></tr><tr><th>2</th><td>0xcb7e6a27cd0e9bf71054b61982b20d12e98885667ee61447d02f7ae1de9ce671</td><td>36</td><td>0x722122df12d4e14e13ac3b6895a86e84145b6967</td><td>0x03893a7c7463ae47d46bc7f091665f1893656003</td><td>0.0</td><td>0xb214faa52c7747bcfca9ce0281515638387453bcc49c30f4f0331229e8540ecf2fa59c0a</td><td>0x</td><td>call</td><td>call</td><td><em>missing</em></td><td>1317149</td><td>941658</td><td>41</td><td>2</td><td><em>missing</em></td><td>1</td><td>2021-04-26 09:49:49 UTC</td><td>12315198</td><td>0x067f762a302cbced13ff6165da4d309d646e3abbc7863cc56f98434d5624f8cb</td><td>call_0xcb7e6a27cd0e9bf71054b61982b20d12e98885667ee61447d02f7ae1de9ce671_2</td></tr><tr><th>3</th><td>0xade7cb15e967438c42a9eeede86245195591a4d7f12f327f18231eaa3802ed93</td><td>68</td><td>0x722122df12d4e14e13ac3b6895a86e84145b6967</td><td>0x03893a7c7463ae47d46bc7f091665f1893656003</td><td>0.0</td><td>0xb214faa5062e06017fab545360bc7c68684c339acc2c05a16cda23ba05074286ebdb0d3a</td><td>0x</td><td>call</td><td>call</td><td><em>missing</em></td><td>1038629</td><td>958810</td><td>41</td><td>2</td><td><em>missing</em></td><td>1</td><td>2021-04-15 21:06:02 UTC</td><td>12247016</td><td>0xd7ce8779f739c346e2e97e8b3a6f7e51896f3783ba99c1e9a23f84f8d8d21bce</td><td>call_0xade7cb15e967438c42a9eeede86245195591a4d7f12f327f18231eaa3802ed93_2</td></tr><tr><th>4</th><td>0x810b236b3524ec07e464db6da2befd0c70550c312422d605ad38caea2f1dbbe9</td><td>93</td><td>0x722122df12d4e14e13ac3b6895a86e84145b6967</td><td>0x03893a7c7463ae47d46bc7f091665f1893656003</td><td>0.0</td><td>0xb214faa5268ebc52aa1ede130d959fc68d276bae6a13376f6ae637ab3330a433af3ef9ec</td><td>0x</td><td>call</td><td>call</td><td><em>missing</em></td><td>990760</td><td>912274</td><td>41</td><td>2</td><td><em>missing</em></td><td>1</td><td>2021-05-22 16:10:38 UTC</td><td>12485099</td><td>0xdd0e09ffa6d2b1e917f4e575c1bcd4e5ff22602b4c7862fdc93719871679eed9</td><td>call_0x810b236b3524ec07e464db6da2befd0c70550c312422d605ad38caea2f1dbbe9_2</td></tr><tr><th>5</th><td>0xd5a46295d99ad3030cc487079bded0fd9b9e7fd56075f49b181a2cb430c9ee41</td><td>110</td><td>0x722122df12d4e14e13ac3b6895a86e84145b6967</td><td>0x03893a7c7463ae47d46bc7f091665f1893656003</td><td>0.0</td><td>0xb214faa51f25c47c5a5cff19cd1b5ead8cb9f61756c888fb1c893cac089fd50f90afaf3d</td><td>0x</td><td>call</td><td>call</td><td><em>missing</em></td><td>1008171</td><td>904962</td><td>41</td><td>2</td><td><em>missing</em></td><td>1</td><td>2021-07-09 01:34:22 UTC</td><td>12790291</td><td>0x5965f85e68f6b3618274bdbf912151b01af0fb8bdae61f765b19f6773b4df3d8</td><td>call_0xd5a46295d99ad3030cc487079bded0fd9b9e7fd56075f49b181a2cb430c9ee41_2</td></tr><tr><th>&vellip;</th><td>&vellip;</td><td>&vellip;</td><td>&vellip;</td><td>&vellip;</td><td>&vellip;</td><td>&vellip;</td><td>&vellip;</td><td>&vellip;</td><td>&vellip;</td><td>&vellip;</td><td>&vellip;</td><td>&vellip;</td><td>&vellip;</td><td>&vellip;</td><td>&vellip;</td><td>&vellip;</td><td>&vellip;</td><td>&vellip;</td><td>&vellip;</td><td>&vellip;</td></tr></tbody></table>"
      ],
      "text/latex": [
       "\\begin{tabular}{r|cccccccccccccccccccc}\n",
       "\t& transaction\\_hash & transaction\\_index & from\\_address & to\\_address & value & input & output & trace\\_type & call\\_type & reward\\_type & gas & gas\\_used & subtraces & trace\\_address & error & status & block\\_timestamp & block\\_number & block\\_hash & trace\\_id\\\\\n",
       "\t\\hline\n",
       "\t& String & Int64 & String & String & Float64 & String & String? & String & String & Missing & Int64 & Int64? & Int64 & String? & String? & Int64 & String & Int64 & String & String\\\\\n",
       "\t\\hline\n",
       "\t1 & 0x14a3923eb7f30311240d6cbe838ac7e0639c309017395b36b130938d9894787c & 48 & 0x722122df12d4e14e13ac3b6895a86e84145b6967 & 0x03893a7c7463ae47d46bc7f091665f1893656003 & 0.0 & 0xb214faa50e50cde66fa6f1227cab1eeebf0aff07940d861fa4b66d3d0b4c85ce6c76bf7f & 0x & call & call & \\emph{missing} & 990735 & 912248 & 41 & 2 & \\emph{missing} & 1 & 2021-05-22 16:22:08 UTC & 12485152 & 0xe6f35f8a11022e6b42818fff43b16690c7fcb88a7931960f7c22cc35104ebf4b & call\\_0x14a3923eb7f30311240d6cbe838ac7e0639c309017395b36b130938d9894787c\\_2 \\\\\n",
       "\t2 & 0xcb7e6a27cd0e9bf71054b61982b20d12e98885667ee61447d02f7ae1de9ce671 & 36 & 0x722122df12d4e14e13ac3b6895a86e84145b6967 & 0x03893a7c7463ae47d46bc7f091665f1893656003 & 0.0 & 0xb214faa52c7747bcfca9ce0281515638387453bcc49c30f4f0331229e8540ecf2fa59c0a & 0x & call & call & \\emph{missing} & 1317149 & 941658 & 41 & 2 & \\emph{missing} & 1 & 2021-04-26 09:49:49 UTC & 12315198 & 0x067f762a302cbced13ff6165da4d309d646e3abbc7863cc56f98434d5624f8cb & call\\_0xcb7e6a27cd0e9bf71054b61982b20d12e98885667ee61447d02f7ae1de9ce671\\_2 \\\\\n",
       "\t3 & 0xade7cb15e967438c42a9eeede86245195591a4d7f12f327f18231eaa3802ed93 & 68 & 0x722122df12d4e14e13ac3b6895a86e84145b6967 & 0x03893a7c7463ae47d46bc7f091665f1893656003 & 0.0 & 0xb214faa5062e06017fab545360bc7c68684c339acc2c05a16cda23ba05074286ebdb0d3a & 0x & call & call & \\emph{missing} & 1038629 & 958810 & 41 & 2 & \\emph{missing} & 1 & 2021-04-15 21:06:02 UTC & 12247016 & 0xd7ce8779f739c346e2e97e8b3a6f7e51896f3783ba99c1e9a23f84f8d8d21bce & call\\_0xade7cb15e967438c42a9eeede86245195591a4d7f12f327f18231eaa3802ed93\\_2 \\\\\n",
       "\t4 & 0x810b236b3524ec07e464db6da2befd0c70550c312422d605ad38caea2f1dbbe9 & 93 & 0x722122df12d4e14e13ac3b6895a86e84145b6967 & 0x03893a7c7463ae47d46bc7f091665f1893656003 & 0.0 & 0xb214faa5268ebc52aa1ede130d959fc68d276bae6a13376f6ae637ab3330a433af3ef9ec & 0x & call & call & \\emph{missing} & 990760 & 912274 & 41 & 2 & \\emph{missing} & 1 & 2021-05-22 16:10:38 UTC & 12485099 & 0xdd0e09ffa6d2b1e917f4e575c1bcd4e5ff22602b4c7862fdc93719871679eed9 & call\\_0x810b236b3524ec07e464db6da2befd0c70550c312422d605ad38caea2f1dbbe9\\_2 \\\\\n",
       "\t5 & 0xd5a46295d99ad3030cc487079bded0fd9b9e7fd56075f49b181a2cb430c9ee41 & 110 & 0x722122df12d4e14e13ac3b6895a86e84145b6967 & 0x03893a7c7463ae47d46bc7f091665f1893656003 & 0.0 & 0xb214faa51f25c47c5a5cff19cd1b5ead8cb9f61756c888fb1c893cac089fd50f90afaf3d & 0x & call & call & \\emph{missing} & 1008171 & 904962 & 41 & 2 & \\emph{missing} & 1 & 2021-07-09 01:34:22 UTC & 12790291 & 0x5965f85e68f6b3618274bdbf912151b01af0fb8bdae61f765b19f6773b4df3d8 & call\\_0xd5a46295d99ad3030cc487079bded0fd9b9e7fd56075f49b181a2cb430c9ee41\\_2 \\\\\n",
       "\t$\\dots$ & $\\dots$ & $\\dots$ & $\\dots$ & $\\dots$ & $\\dots$ & $\\dots$ & $\\dots$ & $\\dots$ & $\\dots$ & $\\dots$ & $\\dots$ & $\\dots$ & $\\dots$ & $\\dots$ & $\\dots$ & $\\dots$ & $\\dots$ & $\\dots$ & $\\dots$ & $\\dots$ \\\\\n",
       "\\end{tabular}\n"
      ],
      "text/plain": [
       "97472×20 DataFrame\n"
      ]
     },
     "execution_count": 23,
     "metadata": {},
     "output_type": "execute_result"
    }
   ],
   "source": [
    "deposits_df = filter(row -> first(row.input, 10) == \"0xb214faa5\", tornado_traces_df)"
   ]
  },
  {
   "cell_type": "code",
   "execution_count": 24,
   "metadata": {},
   "outputs": [
    {
     "data": {
      "text/html": [
       "<table class=\"data-frame\"><thead><tr><th></th><th>transaction_hash</th><th>transaction_index</th><th>from_address</th><th>to_address</th><th>value</th><th>input</th><th>output</th><th>trace_type</th><th>call_type</th><th>reward_type</th><th>gas</th><th>gas_used</th><th>subtraces</th><th>trace_address</th><th>error</th><th>status</th><th>block_timestamp</th><th>block_number</th><th>block_hash</th><th>trace_id</th></tr><tr><th></th><th>String</th><th>Int64</th><th>String</th><th>String</th><th>Float64</th><th>String</th><th>String?</th><th>String</th><th>String</th><th>Missing</th><th>Int64</th><th>Int64?</th><th>Int64</th><th>String?</th><th>String?</th><th>Int64</th><th>String</th><th>Int64</th><th>String</th><th>String</th></tr></thead><tbody><p>83,799 rows × 20 columns</p><tr><th>1</th><td>0xc2c9732f7ea93698d46bafa3dbe0f6febcf799945ce016fe779dd7faa2fdc87f</td><td>82</td><td>0x722122df12d4e14e13ac3b6895a86e84145b6967</td><td>0x03893a7c7463ae47d46bc7f091665f1893656003</td><td>1.21151e17</td><td>0x21a0adb600000000000000000000000000000000000000000000000000000000000000e015d3d1d30de13ba53da140ef7120f92c7f2b7952a336d34d9db51097dc44bfc80cf98273476befb8881206a0a48af6c63dad87d7960d862d5ad886e615706a9e0000000000000000000000002fe8e10633eae71b503c60180c4190710a132237000000000000000000000000be4d1e137a24af091be80ae58d652279665e3a27000000000000000000000000000000000000000000000000000002f30d20eecb00000000000000000000000000000000000000000000000001ae69bce4dc680000000000000000000000000000000000000000000000000000000000000001000ca661773a0664c7314927e92525a32f0631194b1e73a2873b1bdff4b5b01da82e35c99e3602de30071f80fae1b55170f1c0ab03e505759fedcf2c60d84c53781205853b85e25db939e5f1f429a8ef5a1b58fae8cf10e5e1ef24f671a0743372020923e0bd54bb4ca70ae777397cbb959cb4968c0125512534c77c226de85e2c23e77641570d2dd8a46cd52438dcc0c91ec54471e6ab5f165bb76f9a598828870387d21cd35e5ed1ff4bdb1719577faacdb01ccbafaf9c16726a981d86def97b19808cb12a6b727b65dee94edf7984639cb2986e8a72da0245f137eeac5aff4603f36e0bd6033055c04d4e6805cbec2fc4b6724391a146f10a551921e3161f9a</td><td>0x</td><td>call</td><td>call</td><td><em>missing</em></td><td>500758</td><td>447979</td><td>4</td><td>0</td><td><em>missing</em></td><td>1</td><td>2021-10-15 17:05:13 UTC</td><td>13423878</td><td>0x47ed0032aee2cafd9acdf32317c434f07b537b8400f836e9186687122dd7548c</td><td>call_0xc2c9732f7ea93698d46bafa3dbe0f6febcf799945ce016fe779dd7faa2fdc87f_0</td></tr><tr><th>2</th><td>0x888a45d7f5dd7e289b6ff9091b97294a99c8102273f41f09d5ebfafd22e4a833</td><td>441</td><td>0x722122df12d4e14e13ac3b6895a86e84145b6967</td><td>0x03893a7c7463ae47d46bc7f091665f1893656003</td><td>0.0</td><td>0x21a0adb600000000000000000000000000000000000000000000000000000000000000e015d3d1d30de13ba53da140ef7120f92c7f2b7952a336d34d9db51097dc44bfc801eee552023154e3c4cc8306bfcb55c99213fe34b52af4cae9f9beaeb7639e100000000000000000000000002fe8e10633eae71b503c60180c4190710a1322370000000000000000000000002fe8e10633eae71b503c60180c4190710a1322370000000000000000000000000000000000000000000000000000000000000000000000000000000000000000000000000000000000000000000000000000000000000000000000000000000000000000000000000000000000000000000001001f5c90d80840b3f7c919eb08d4fbb39744afa4c29bbe4b998b9354baa86426711095597044243810149e3aa21154e6e02fbaca1a86d85d8511fb2737c37fd0152b3f15980aafb7de7692a9db17f88b11e175713e387754ae97118465a1be2b580c37a205ba1b4d9fba65791e59a13187978b7d49351f731870264a1f8732f6f4207fc85c83e9f779556483dd0237369de809c9877673838ff24eee8ff549ba592648674dfe5856702a86fb8efdc7b86a8116839c80fb8e050a8cb8268c6b3d6127dba4df3935704f7185e8dfe6ba65fc88d0af2be0f587bf94ad759e6852d5222b1196b6cadfb5448b83bd8c1bf8e424cc9e5afef7f3f9373c0f93125b60be97</td><td>0x</td><td>call</td><td>call</td><td><em>missing</em></td><td>608808</td><td>375202</td><td>2</td><td>0</td><td><em>missing</em></td><td>1</td><td>2021-10-15 17:47:43 UTC</td><td>13424054</td><td>0x8bf82deaa17e3b3d8b7a2fe13b21ce0cce4992a64dad4175997ebd1d3087d3df</td><td>call_0x888a45d7f5dd7e289b6ff9091b97294a99c8102273f41f09d5ebfafd22e4a833_0</td></tr><tr><th>3</th><td>0xc54ba9eca305609d92fb0abc264a6cbf0d67a6413bb9c83beba66409722952c2</td><td>237</td><td>0x722122df12d4e14e13ac3b6895a86e84145b6967</td><td>0x03893a7c7463ae47d46bc7f091665f1893656003</td><td>0.0</td><td>0x21a0adb600000000000000000000000000000000000000000000000000000000000000e015d3d1d30de13ba53da140ef7120f92c7f2b7952a336d34d9db51097dc44bfc82409c9fcc4cdcf4d831e9fd7c6e676a182920ad13640d556e9f66162d782acdd0000000000000000000000002fe8e10633eae71b503c60180c4190710a1322370000000000000000000000002fe8e10633eae71b503c60180c4190710a13223700000000000000000000000000000000000000000000000000000000000000000000000000000000000000000000000000000000000000000000000000000000000000000000000000000000000000000000000000000000000000000000010028ec4a404db08c0a2641e7ced47382999f46b748b73399a2c833fcc3a541c2c82b7ced21345c66f83d72269fc4fbb2d64326c55eec082dbb3adf83ebb577997416839d82167c0f69dfa8cbe5f347cde284b0ba9ca05073f7f0ca757dead6899f1174423d180787fb80a690ea51bb87abb9e1ac58d239503e107e3f7ff19d27c12a4c89ad0068490a08f745a866715fd205026dc176bd91e1d61caf27937eef7b3054cf498689774fa5c3fecf6b7d9d9655be2a8fa472e5ee5f2546efc9b2992c12fdc77b174270d21ec70c4ebe0280a1e1f7dd8df7fd68196338b6d927588728198b7b91d165492e98154ff91fbb174c47a3cfd71024222c798aa3b55fd7e67b</td><td>0x</td><td>call</td><td>call</td><td><em>missing</em></td><td>608808</td><td>375202</td><td>2</td><td>0</td><td><em>missing</em></td><td>1</td><td>2021-10-15 17:16:09 UTC</td><td>13423919</td><td>0xd5207f5571408e1694911e53960faf17524a5e22553727f2f0c64e3b2dff6907</td><td>call_0xc54ba9eca305609d92fb0abc264a6cbf0d67a6413bb9c83beba66409722952c2_0</td></tr><tr><th>4</th><td>0x1de0aa750fa80431e735a2ad4354570e028d6239d3e37483b147bfa8aafed346</td><td>97</td><td>0x722122df12d4e14e13ac3b6895a86e84145b6967</td><td>0x03893a7c7463ae47d46bc7f091665f1893656003</td><td>0.0</td><td>0x21a0adb600000000000000000000000000000000000000000000000000000000000000e015d3d1d30de13ba53da140ef7120f92c7f2b7952a336d34d9db51097dc44bfc80ec9e08ebeb7fc2b1b5db455c617cd5fbcf6ca9a9f71012537b62a8f45323c860000000000000000000000002fe8e10633eae71b503c60180c4190710a1322370000000000000000000000002fe8e10633eae71b503c60180c4190710a1322370000000000000000000000000000000000000000000000000000000000000000000000000000000000000000000000000000000000000000000000000000000000000000000000000000000000000000000000000000000000000000000001000f7d2bff156b136a00d80ac11e13bf516c1be51ea74d66e50edb93f01d244aeb301b3e865e1dca6feff582b19be059aa3715c8285629940a33c82d8261db710e0473d97a350940990f5807c43060b8e87c8a679ed34abdc904c3c921fd6298562e68c15b4f7d31b4a2ccf95cbf1f478068f9d5602f013f6cf5ff0324a322e2e400d9fce9cd04ca3bce2ab19b38d49ea093d7ea0836e30d9857e2081dae0e5d7607d3d97b9d214302d6b05b63d10a98803a2d53b323749a6eb1232ee87ff35a5b08c36d449817c8ce94e225e91d88cb5bc79176d2e878bb27cf0eb03f02821e550b3d65ed1226e021161d9dba0e0187f4373e201458d98bdc4c55aa7bfa6eb75a</td><td>0x</td><td>call</td><td>call</td><td><em>missing</em></td><td>608808</td><td>375202</td><td>2</td><td>0</td><td><em>missing</em></td><td>1</td><td>2021-10-15 17:43:43 UTC</td><td>13424032</td><td>0xb4f676dd3e41f5babeee54908f9c61e13510fb4ffd0f1b36d1155f7da41c6123</td><td>call_0x1de0aa750fa80431e735a2ad4354570e028d6239d3e37483b147bfa8aafed346_0</td></tr><tr><th>5</th><td>0x0235c8fcc96654918e417edc29c6ab5670746ae84efe93bc723d9d57159fa1bc</td><td>397</td><td>0x722122df12d4e14e13ac3b6895a86e84145b6967</td><td>0x03893a7c7463ae47d46bc7f091665f1893656003</td><td>0.0</td><td>0x21a0adb600000000000000000000000000000000000000000000000000000000000000e015d3d1d30de13ba53da140ef7120f92c7f2b7952a336d34d9db51097dc44bfc8175ad0d7fd5da56c1c34c2088a0ae7758bc54418c9962e990523d8f702a333040000000000000000000000002fe8e10633eae71b503c60180c4190710a1322370000000000000000000000002fe8e10633eae71b503c60180c4190710a13223700000000000000000000000000000000000000000000000000000000000000000000000000000000000000000000000000000000000000000000000000000000000000000000000000000000000000000000000000000000000000000000010022e2e303716db5e5a5c4458a4a220388081f18d7dec263bb7ff5f60bec104ada0d47172f45b7caf10de4b1ab3b32c51cacaae8bf8d0e99b8df64588177905bfb13a1629a37bed5b355e520ec46a17ce35b2b2b8d1a9ad39944a9feb4ac5e0bbf1136e709cc25b8955482854083e596a54ed5637c851181e7eec0609fcd98792403297cddede12a2569c1edb64f9170cf9f1dc4db36072a11a504de8964dfd7d10e7c7e33befa8e36144c4d47776ec5bde231304a267479b8aadc6e24d9341c810acdc6d561f5ad295c0f0f96e2a7ff480f968e805752dcdca808c604c9c9d3bb208283624806f908315c5d6bc79f3db0444fce6920182047b46df5fc6242df77</td><td>0x</td><td>call</td><td>call</td><td><em>missing</em></td><td>608808</td><td>375202</td><td>2</td><td>0</td><td><em>missing</em></td><td>1</td><td>2021-10-15 17:26:59 UTC</td><td>13423969</td><td>0x16b6d60c3963c712cf2dc7ef0d94f415e4eddf5e7328c897aa49f6a7893c89cc</td><td>call_0x0235c8fcc96654918e417edc29c6ab5670746ae84efe93bc723d9d57159fa1bc_0</td></tr><tr><th>&vellip;</th><td>&vellip;</td><td>&vellip;</td><td>&vellip;</td><td>&vellip;</td><td>&vellip;</td><td>&vellip;</td><td>&vellip;</td><td>&vellip;</td><td>&vellip;</td><td>&vellip;</td><td>&vellip;</td><td>&vellip;</td><td>&vellip;</td><td>&vellip;</td><td>&vellip;</td><td>&vellip;</td><td>&vellip;</td><td>&vellip;</td><td>&vellip;</td><td>&vellip;</td></tr></tbody></table>"
      ],
      "text/latex": [
       "\\begin{tabular}{r|cccccccccccccccccccc}\n",
       "\t& transaction\\_hash & transaction\\_index & from\\_address & to\\_address & value & input & output & trace\\_type & call\\_type & reward\\_type & gas & gas\\_used & subtraces & trace\\_address & error & status & block\\_timestamp & block\\_number & block\\_hash & trace\\_id\\\\\n",
       "\t\\hline\n",
       "\t& String & Int64 & String & String & Float64 & String & String? & String & String & Missing & Int64 & Int64? & Int64 & String? & String? & Int64 & String & Int64 & String & String\\\\\n",
       "\t\\hline\n",
       "\t1 & 0xc2c9732f7ea93698d46bafa3dbe0f6febcf799945ce016fe779dd7faa2fdc87f & 82 & 0x722122df12d4e14e13ac3b6895a86e84145b6967 & 0x03893a7c7463ae47d46bc7f091665f1893656003 & 1.21151e17 & 0x21a0adb600000000000000000000000000000000000000000000000000000000000000e015d3d1d30de13ba53da140ef7120f92c7f2b7952a336d34d9db51097dc44bfc80cf98273476befb8881206a0a48af6c63dad87d7960d862d5ad886e615706a9e0000000000000000000000002fe8e10633eae71b503c60180c4190710a132237000000000000000000000000be4d1e137a24af091be80ae58d652279665e3a27000000000000000000000000000000000000000000000000000002f30d20eecb00000000000000000000000000000000000000000000000001ae69bce4dc680000000000000000000000000000000000000000000000000000000000000001000ca661773a0664c7314927e92525a32f0631194b1e73a2873b1bdff4b5b01da82e35c99e3602de30071f80fae1b55170f1c0ab03e505759fedcf2c60d84c53781205853b85e25db939e5f1f429a8ef5a1b58fae8cf10e5e1ef24f671a0743372020923e0bd54bb4ca70ae777397cbb959cb4968c0125512534c77c226de85e2c23e77641570d2dd8a46cd52438dcc0c91ec54471e6ab5f165bb76f9a598828870387d21cd35e5ed1ff4bdb1719577faacdb01ccbafaf9c16726a981d86def97b19808cb12a6b727b65dee94edf7984639cb2986e8a72da0245f137eeac5aff4603f36e0bd6033055c04d4e6805cbec2fc4b6724391a146f10a551921e3161f9a & 0x & call & call & \\emph{missing} & 500758 & 447979 & 4 & 0 & \\emph{missing} & 1 & 2021-10-15 17:05:13 UTC & 13423878 & 0x47ed0032aee2cafd9acdf32317c434f07b537b8400f836e9186687122dd7548c & call\\_0xc2c9732f7ea93698d46bafa3dbe0f6febcf799945ce016fe779dd7faa2fdc87f\\_0 \\\\\n",
       "\t2 & 0x888a45d7f5dd7e289b6ff9091b97294a99c8102273f41f09d5ebfafd22e4a833 & 441 & 0x722122df12d4e14e13ac3b6895a86e84145b6967 & 0x03893a7c7463ae47d46bc7f091665f1893656003 & 0.0 & 0x21a0adb600000000000000000000000000000000000000000000000000000000000000e015d3d1d30de13ba53da140ef7120f92c7f2b7952a336d34d9db51097dc44bfc801eee552023154e3c4cc8306bfcb55c99213fe34b52af4cae9f9beaeb7639e100000000000000000000000002fe8e10633eae71b503c60180c4190710a1322370000000000000000000000002fe8e10633eae71b503c60180c4190710a1322370000000000000000000000000000000000000000000000000000000000000000000000000000000000000000000000000000000000000000000000000000000000000000000000000000000000000000000000000000000000000000000001001f5c90d80840b3f7c919eb08d4fbb39744afa4c29bbe4b998b9354baa86426711095597044243810149e3aa21154e6e02fbaca1a86d85d8511fb2737c37fd0152b3f15980aafb7de7692a9db17f88b11e175713e387754ae97118465a1be2b580c37a205ba1b4d9fba65791e59a13187978b7d49351f731870264a1f8732f6f4207fc85c83e9f779556483dd0237369de809c9877673838ff24eee8ff549ba592648674dfe5856702a86fb8efdc7b86a8116839c80fb8e050a8cb8268c6b3d6127dba4df3935704f7185e8dfe6ba65fc88d0af2be0f587bf94ad759e6852d5222b1196b6cadfb5448b83bd8c1bf8e424cc9e5afef7f3f9373c0f93125b60be97 & 0x & call & call & \\emph{missing} & 608808 & 375202 & 2 & 0 & \\emph{missing} & 1 & 2021-10-15 17:47:43 UTC & 13424054 & 0x8bf82deaa17e3b3d8b7a2fe13b21ce0cce4992a64dad4175997ebd1d3087d3df & call\\_0x888a45d7f5dd7e289b6ff9091b97294a99c8102273f41f09d5ebfafd22e4a833\\_0 \\\\\n",
       "\t3 & 0xc54ba9eca305609d92fb0abc264a6cbf0d67a6413bb9c83beba66409722952c2 & 237 & 0x722122df12d4e14e13ac3b6895a86e84145b6967 & 0x03893a7c7463ae47d46bc7f091665f1893656003 & 0.0 & 0x21a0adb600000000000000000000000000000000000000000000000000000000000000e015d3d1d30de13ba53da140ef7120f92c7f2b7952a336d34d9db51097dc44bfc82409c9fcc4cdcf4d831e9fd7c6e676a182920ad13640d556e9f66162d782acdd0000000000000000000000002fe8e10633eae71b503c60180c4190710a1322370000000000000000000000002fe8e10633eae71b503c60180c4190710a13223700000000000000000000000000000000000000000000000000000000000000000000000000000000000000000000000000000000000000000000000000000000000000000000000000000000000000000000000000000000000000000000010028ec4a404db08c0a2641e7ced47382999f46b748b73399a2c833fcc3a541c2c82b7ced21345c66f83d72269fc4fbb2d64326c55eec082dbb3adf83ebb577997416839d82167c0f69dfa8cbe5f347cde284b0ba9ca05073f7f0ca757dead6899f1174423d180787fb80a690ea51bb87abb9e1ac58d239503e107e3f7ff19d27c12a4c89ad0068490a08f745a866715fd205026dc176bd91e1d61caf27937eef7b3054cf498689774fa5c3fecf6b7d9d9655be2a8fa472e5ee5f2546efc9b2992c12fdc77b174270d21ec70c4ebe0280a1e1f7dd8df7fd68196338b6d927588728198b7b91d165492e98154ff91fbb174c47a3cfd71024222c798aa3b55fd7e67b & 0x & call & call & \\emph{missing} & 608808 & 375202 & 2 & 0 & \\emph{missing} & 1 & 2021-10-15 17:16:09 UTC & 13423919 & 0xd5207f5571408e1694911e53960faf17524a5e22553727f2f0c64e3b2dff6907 & call\\_0xc54ba9eca305609d92fb0abc264a6cbf0d67a6413bb9c83beba66409722952c2\\_0 \\\\\n",
       "\t4 & 0x1de0aa750fa80431e735a2ad4354570e028d6239d3e37483b147bfa8aafed346 & 97 & 0x722122df12d4e14e13ac3b6895a86e84145b6967 & 0x03893a7c7463ae47d46bc7f091665f1893656003 & 0.0 & 0x21a0adb600000000000000000000000000000000000000000000000000000000000000e015d3d1d30de13ba53da140ef7120f92c7f2b7952a336d34d9db51097dc44bfc80ec9e08ebeb7fc2b1b5db455c617cd5fbcf6ca9a9f71012537b62a8f45323c860000000000000000000000002fe8e10633eae71b503c60180c4190710a1322370000000000000000000000002fe8e10633eae71b503c60180c4190710a1322370000000000000000000000000000000000000000000000000000000000000000000000000000000000000000000000000000000000000000000000000000000000000000000000000000000000000000000000000000000000000000000001000f7d2bff156b136a00d80ac11e13bf516c1be51ea74d66e50edb93f01d244aeb301b3e865e1dca6feff582b19be059aa3715c8285629940a33c82d8261db710e0473d97a350940990f5807c43060b8e87c8a679ed34abdc904c3c921fd6298562e68c15b4f7d31b4a2ccf95cbf1f478068f9d5602f013f6cf5ff0324a322e2e400d9fce9cd04ca3bce2ab19b38d49ea093d7ea0836e30d9857e2081dae0e5d7607d3d97b9d214302d6b05b63d10a98803a2d53b323749a6eb1232ee87ff35a5b08c36d449817c8ce94e225e91d88cb5bc79176d2e878bb27cf0eb03f02821e550b3d65ed1226e021161d9dba0e0187f4373e201458d98bdc4c55aa7bfa6eb75a & 0x & call & call & \\emph{missing} & 608808 & 375202 & 2 & 0 & \\emph{missing} & 1 & 2021-10-15 17:43:43 UTC & 13424032 & 0xb4f676dd3e41f5babeee54908f9c61e13510fb4ffd0f1b36d1155f7da41c6123 & call\\_0x1de0aa750fa80431e735a2ad4354570e028d6239d3e37483b147bfa8aafed346\\_0 \\\\\n",
       "\t5 & 0x0235c8fcc96654918e417edc29c6ab5670746ae84efe93bc723d9d57159fa1bc & 397 & 0x722122df12d4e14e13ac3b6895a86e84145b6967 & 0x03893a7c7463ae47d46bc7f091665f1893656003 & 0.0 & 0x21a0adb600000000000000000000000000000000000000000000000000000000000000e015d3d1d30de13ba53da140ef7120f92c7f2b7952a336d34d9db51097dc44bfc8175ad0d7fd5da56c1c34c2088a0ae7758bc54418c9962e990523d8f702a333040000000000000000000000002fe8e10633eae71b503c60180c4190710a1322370000000000000000000000002fe8e10633eae71b503c60180c4190710a13223700000000000000000000000000000000000000000000000000000000000000000000000000000000000000000000000000000000000000000000000000000000000000000000000000000000000000000000000000000000000000000000010022e2e303716db5e5a5c4458a4a220388081f18d7dec263bb7ff5f60bec104ada0d47172f45b7caf10de4b1ab3b32c51cacaae8bf8d0e99b8df64588177905bfb13a1629a37bed5b355e520ec46a17ce35b2b2b8d1a9ad39944a9feb4ac5e0bbf1136e709cc25b8955482854083e596a54ed5637c851181e7eec0609fcd98792403297cddede12a2569c1edb64f9170cf9f1dc4db36072a11a504de8964dfd7d10e7c7e33befa8e36144c4d47776ec5bde231304a267479b8aadc6e24d9341c810acdc6d561f5ad295c0f0f96e2a7ff480f968e805752dcdca808c604c9c9d3bb208283624806f908315c5d6bc79f3db0444fce6920182047b46df5fc6242df77 & 0x & call & call & \\emph{missing} & 608808 & 375202 & 2 & 0 & \\emph{missing} & 1 & 2021-10-15 17:26:59 UTC & 13423969 & 0x16b6d60c3963c712cf2dc7ef0d94f415e4eddf5e7328c897aa49f6a7893c89cc & call\\_0x0235c8fcc96654918e417edc29c6ab5670746ae84efe93bc723d9d57159fa1bc\\_0 \\\\\n",
       "\t$\\dots$ & $\\dots$ & $\\dots$ & $\\dots$ & $\\dots$ & $\\dots$ & $\\dots$ & $\\dots$ & $\\dots$ & $\\dots$ & $\\dots$ & $\\dots$ & $\\dots$ & $\\dots$ & $\\dots$ & $\\dots$ & $\\dots$ & $\\dots$ & $\\dots$ & $\\dots$ & $\\dots$ \\\\\n",
       "\\end{tabular}\n"
      ],
      "text/plain": [
       "83799×20 DataFrame\n"
      ]
     },
     "execution_count": 24,
     "metadata": {},
     "output_type": "execute_result"
    }
   ],
   "source": [
    "withdrawls_df = filter(row -> first(row.input, 10) == \"0x21a0adb6\", tornado_traces_df)"
   ]
  },
  {
   "cell_type": "code",
   "execution_count": 29,
   "metadata": {},
   "outputs": [
    {
     "data": {
      "text/plain": [
       "true"
      ]
     },
     "execution_count": 29,
     "metadata": {},
     "output_type": "execute_result"
    }
   ],
   "source": [
    "nrow(withdrawls_df) + nrow(deposits_df) == nrow(tornado_traces_df)"
   ]
  },
  {
   "cell_type": "markdown",
   "metadata": {},
   "source": [
    "Now the number is getting closer, but is a little bit bigger than the actual number of deposits (92000)"
   ]
  },
  {
   "cell_type": "code",
   "execution_count": 49,
   "metadata": {},
   "outputs": [
    {
     "data": {
      "text/html": [
       "<table class=\"data-frame\"><thead><tr><th></th><th>transaction_hash</th><th>transaction_index</th><th>from_address</th><th>to_address</th><th>value</th><th>input</th><th>output</th><th>trace_type</th><th>call_type</th><th>reward_type</th><th>gas</th><th>gas_used</th><th>subtraces</th><th>trace_address</th><th>error</th><th>status</th><th>block_timestamp</th><th>block_number</th><th>block_hash</th><th>trace_id</th></tr><tr><th></th><th>String</th><th>Int64</th><th>String</th><th>String</th><th>Float64</th><th>String</th><th>String?</th><th>String</th><th>String</th><th>Missing</th><th>Int64</th><th>Int64?</th><th>Int64</th><th>String?</th><th>String?</th><th>Int64</th><th>String</th><th>Int64</th><th>String</th><th>String</th></tr></thead><tbody><p>96,715 rows × 20 columns</p><tr><th>1</th><td>0x14a3923eb7f30311240d6cbe838ac7e0639c309017395b36b130938d9894787c</td><td>48</td><td>0x722122df12d4e14e13ac3b6895a86e84145b6967</td><td>0x03893a7c7463ae47d46bc7f091665f1893656003</td><td>0.0</td><td>0xb214faa50e50cde66fa6f1227cab1eeebf0aff07940d861fa4b66d3d0b4c85ce6c76bf7f</td><td>0x</td><td>call</td><td>call</td><td><em>missing</em></td><td>990735</td><td>912248</td><td>41</td><td>2</td><td><em>missing</em></td><td>1</td><td>2021-05-22 16:22:08 UTC</td><td>12485152</td><td>0xe6f35f8a11022e6b42818fff43b16690c7fcb88a7931960f7c22cc35104ebf4b</td><td>call_0x14a3923eb7f30311240d6cbe838ac7e0639c309017395b36b130938d9894787c_2</td></tr><tr><th>2</th><td>0xcb7e6a27cd0e9bf71054b61982b20d12e98885667ee61447d02f7ae1de9ce671</td><td>36</td><td>0x722122df12d4e14e13ac3b6895a86e84145b6967</td><td>0x03893a7c7463ae47d46bc7f091665f1893656003</td><td>0.0</td><td>0xb214faa52c7747bcfca9ce0281515638387453bcc49c30f4f0331229e8540ecf2fa59c0a</td><td>0x</td><td>call</td><td>call</td><td><em>missing</em></td><td>1317149</td><td>941658</td><td>41</td><td>2</td><td><em>missing</em></td><td>1</td><td>2021-04-26 09:49:49 UTC</td><td>12315198</td><td>0x067f762a302cbced13ff6165da4d309d646e3abbc7863cc56f98434d5624f8cb</td><td>call_0xcb7e6a27cd0e9bf71054b61982b20d12e98885667ee61447d02f7ae1de9ce671_2</td></tr><tr><th>3</th><td>0xade7cb15e967438c42a9eeede86245195591a4d7f12f327f18231eaa3802ed93</td><td>68</td><td>0x722122df12d4e14e13ac3b6895a86e84145b6967</td><td>0x03893a7c7463ae47d46bc7f091665f1893656003</td><td>0.0</td><td>0xb214faa5062e06017fab545360bc7c68684c339acc2c05a16cda23ba05074286ebdb0d3a</td><td>0x</td><td>call</td><td>call</td><td><em>missing</em></td><td>1038629</td><td>958810</td><td>41</td><td>2</td><td><em>missing</em></td><td>1</td><td>2021-04-15 21:06:02 UTC</td><td>12247016</td><td>0xd7ce8779f739c346e2e97e8b3a6f7e51896f3783ba99c1e9a23f84f8d8d21bce</td><td>call_0xade7cb15e967438c42a9eeede86245195591a4d7f12f327f18231eaa3802ed93_2</td></tr><tr><th>4</th><td>0x810b236b3524ec07e464db6da2befd0c70550c312422d605ad38caea2f1dbbe9</td><td>93</td><td>0x722122df12d4e14e13ac3b6895a86e84145b6967</td><td>0x03893a7c7463ae47d46bc7f091665f1893656003</td><td>0.0</td><td>0xb214faa5268ebc52aa1ede130d959fc68d276bae6a13376f6ae637ab3330a433af3ef9ec</td><td>0x</td><td>call</td><td>call</td><td><em>missing</em></td><td>990760</td><td>912274</td><td>41</td><td>2</td><td><em>missing</em></td><td>1</td><td>2021-05-22 16:10:38 UTC</td><td>12485099</td><td>0xdd0e09ffa6d2b1e917f4e575c1bcd4e5ff22602b4c7862fdc93719871679eed9</td><td>call_0x810b236b3524ec07e464db6da2befd0c70550c312422d605ad38caea2f1dbbe9_2</td></tr><tr><th>5</th><td>0xd5a46295d99ad3030cc487079bded0fd9b9e7fd56075f49b181a2cb430c9ee41</td><td>110</td><td>0x722122df12d4e14e13ac3b6895a86e84145b6967</td><td>0x03893a7c7463ae47d46bc7f091665f1893656003</td><td>0.0</td><td>0xb214faa51f25c47c5a5cff19cd1b5ead8cb9f61756c888fb1c893cac089fd50f90afaf3d</td><td>0x</td><td>call</td><td>call</td><td><em>missing</em></td><td>1008171</td><td>904962</td><td>41</td><td>2</td><td><em>missing</em></td><td>1</td><td>2021-07-09 01:34:22 UTC</td><td>12790291</td><td>0x5965f85e68f6b3618274bdbf912151b01af0fb8bdae61f765b19f6773b4df3d8</td><td>call_0xd5a46295d99ad3030cc487079bded0fd9b9e7fd56075f49b181a2cb430c9ee41_2</td></tr><tr><th>6</th><td>0xd9e473beaf1cc1e13d89c130c4c9042eca9782dd9c631a79a8efcbef3f99dad7</td><td>29</td><td>0x722122df12d4e14e13ac3b6895a86e84145b6967</td><td>0x03893a7c7463ae47d46bc7f091665f1893656003</td><td>0.0</td><td>0xb214faa5236a1349f63a2f6492ca34cd7ccbd950a900063884966f7c4a805f0feb44e950</td><td>0x</td><td>call</td><td>call</td><td><em>missing</em></td><td>996653</td><td>918260</td><td>41</td><td>2</td><td><em>missing</em></td><td>1</td><td>2021-05-22 16:11:11 UTC</td><td>12485103</td><td>0xcda97b1bf9c87dbda7e142159c70be93587b68a5baa65f8a3748f99ba6063605</td><td>call_0xd9e473beaf1cc1e13d89c130c4c9042eca9782dd9c631a79a8efcbef3f99dad7_2</td></tr><tr><th>7</th><td>0x653331dcf9308307a1a00a1f577bff5dbf67a8ff101d0404f65b49d0c75e3f84</td><td>59</td><td>0x722122df12d4e14e13ac3b6895a86e84145b6967</td><td>0x03893a7c7463ae47d46bc7f091665f1893656003</td><td>0.0</td><td>0xb214faa5029432378cfeafc99a7c2548098aa2a09dcecafd427d2c92a71487b9287c550b</td><td>0x</td><td>call</td><td>call</td><td><em>missing</em></td><td>992048</td><td>913582</td><td>41</td><td>2</td><td><em>missing</em></td><td>1</td><td>2021-07-09 05:34:39 UTC</td><td>12791337</td><td>0x22857496ea9eec60842499607be720e53e0ad26d6c258c7a097afbbdc79ff571</td><td>call_0x653331dcf9308307a1a00a1f577bff5dbf67a8ff101d0404f65b49d0c75e3f84_2</td></tr><tr><th>8</th><td>0x16aea278524d01eae766694860267654aa5c04d15147de916dcfc02c41f26779</td><td>115</td><td>0x722122df12d4e14e13ac3b6895a86e84145b6967</td><td>0x03893a7c7463ae47d46bc7f091665f1893656003</td><td>0.0</td><td>0xb214faa52c4c1a03d536915f86d1881da4f35befc2fc7520e720df22b093e6bbbe9fab8c</td><td>0x</td><td>call</td><td>call</td><td><em>missing</em></td><td>998460</td><td>912196</td><td>41</td><td>2</td><td><em>missing</em></td><td>1</td><td>2021-06-26 22:35:49 UTC</td><td>12712338</td><td>0x94e5dba3dfecf4a55a9f999a624cad9c2606c064d4d499b8eaef4bb018ef1595</td><td>call_0x16aea278524d01eae766694860267654aa5c04d15147de916dcfc02c41f26779_2</td></tr><tr><th>9</th><td>0x840d31a6f571e5918431b73f1b6941e445d605598d48c004b11ebcde96c3607a</td><td>93</td><td>0x722122df12d4e14e13ac3b6895a86e84145b6967</td><td>0x03893a7c7463ae47d46bc7f091665f1893656003</td><td>0.0</td><td>0xb214faa501bc0635383bc19471714876da2ccd3649895077aa09befd6ac82a4b0a872738</td><td>0x</td><td>call</td><td>call</td><td><em>missing</em></td><td>1001534</td><td>915319</td><td>41</td><td>2</td><td><em>missing</em></td><td>1</td><td>2021-05-22 15:53:51 UTC</td><td>12485026</td><td>0xc07c53531c6d108fc9e916f2fe0a3831bedb31616c671d9337df8f5ae1da3877</td><td>call_0x840d31a6f571e5918431b73f1b6941e445d605598d48c004b11ebcde96c3607a_2</td></tr><tr><th>10</th><td>0x1f6f603a8e10981a31382e457f956d76a52f6cc03329080522ab6e4eacbaa41c</td><td>158</td><td>0x722122df12d4e14e13ac3b6895a86e84145b6967</td><td>0x03893a7c7463ae47d46bc7f091665f1893656003</td><td>0.0</td><td>0xb214faa51cb1f31868f0bd87877652aed6d40697d181c1b89838bd99a67add2d2c8f8aeb</td><td>0x</td><td>call</td><td>call</td><td><em>missing</em></td><td>1341759</td><td>915293</td><td>41</td><td>2</td><td><em>missing</em></td><td>1</td><td>2021-04-26 10:36:20 UTC</td><td>12315405</td><td>0x7bf395a08a4cb788b056796079d83225322fe14a397943c1737e6105a88be1c4</td><td>call_0x1f6f603a8e10981a31382e457f956d76a52f6cc03329080522ab6e4eacbaa41c_2</td></tr><tr><th>&vellip;</th><td>&vellip;</td><td>&vellip;</td><td>&vellip;</td><td>&vellip;</td><td>&vellip;</td><td>&vellip;</td><td>&vellip;</td><td>&vellip;</td><td>&vellip;</td><td>&vellip;</td><td>&vellip;</td><td>&vellip;</td><td>&vellip;</td><td>&vellip;</td><td>&vellip;</td><td>&vellip;</td><td>&vellip;</td><td>&vellip;</td><td>&vellip;</td><td>&vellip;</td></tr></tbody></table>"
      ],
      "text/latex": [
       "\\begin{tabular}{r|cccccccccccccccccccc}\n",
       "\t& transaction\\_hash & transaction\\_index & from\\_address & to\\_address & value & input & output & trace\\_type & call\\_type & reward\\_type & gas & gas\\_used & subtraces & trace\\_address & error & status & block\\_timestamp & block\\_number & block\\_hash & trace\\_id\\\\\n",
       "\t\\hline\n",
       "\t& String & Int64 & String & String & Float64 & String & String? & String & String & Missing & Int64 & Int64? & Int64 & String? & String? & Int64 & String & Int64 & String & String\\\\\n",
       "\t\\hline\n",
       "\t1 & 0x14a3923eb7f30311240d6cbe838ac7e0639c309017395b36b130938d9894787c & 48 & 0x722122df12d4e14e13ac3b6895a86e84145b6967 & 0x03893a7c7463ae47d46bc7f091665f1893656003 & 0.0 & 0xb214faa50e50cde66fa6f1227cab1eeebf0aff07940d861fa4b66d3d0b4c85ce6c76bf7f & 0x & call & call & \\emph{missing} & 990735 & 912248 & 41 & 2 & \\emph{missing} & 1 & 2021-05-22 16:22:08 UTC & 12485152 & 0xe6f35f8a11022e6b42818fff43b16690c7fcb88a7931960f7c22cc35104ebf4b & call\\_0x14a3923eb7f30311240d6cbe838ac7e0639c309017395b36b130938d9894787c\\_2 \\\\\n",
       "\t2 & 0xcb7e6a27cd0e9bf71054b61982b20d12e98885667ee61447d02f7ae1de9ce671 & 36 & 0x722122df12d4e14e13ac3b6895a86e84145b6967 & 0x03893a7c7463ae47d46bc7f091665f1893656003 & 0.0 & 0xb214faa52c7747bcfca9ce0281515638387453bcc49c30f4f0331229e8540ecf2fa59c0a & 0x & call & call & \\emph{missing} & 1317149 & 941658 & 41 & 2 & \\emph{missing} & 1 & 2021-04-26 09:49:49 UTC & 12315198 & 0x067f762a302cbced13ff6165da4d309d646e3abbc7863cc56f98434d5624f8cb & call\\_0xcb7e6a27cd0e9bf71054b61982b20d12e98885667ee61447d02f7ae1de9ce671\\_2 \\\\\n",
       "\t3 & 0xade7cb15e967438c42a9eeede86245195591a4d7f12f327f18231eaa3802ed93 & 68 & 0x722122df12d4e14e13ac3b6895a86e84145b6967 & 0x03893a7c7463ae47d46bc7f091665f1893656003 & 0.0 & 0xb214faa5062e06017fab545360bc7c68684c339acc2c05a16cda23ba05074286ebdb0d3a & 0x & call & call & \\emph{missing} & 1038629 & 958810 & 41 & 2 & \\emph{missing} & 1 & 2021-04-15 21:06:02 UTC & 12247016 & 0xd7ce8779f739c346e2e97e8b3a6f7e51896f3783ba99c1e9a23f84f8d8d21bce & call\\_0xade7cb15e967438c42a9eeede86245195591a4d7f12f327f18231eaa3802ed93\\_2 \\\\\n",
       "\t4 & 0x810b236b3524ec07e464db6da2befd0c70550c312422d605ad38caea2f1dbbe9 & 93 & 0x722122df12d4e14e13ac3b6895a86e84145b6967 & 0x03893a7c7463ae47d46bc7f091665f1893656003 & 0.0 & 0xb214faa5268ebc52aa1ede130d959fc68d276bae6a13376f6ae637ab3330a433af3ef9ec & 0x & call & call & \\emph{missing} & 990760 & 912274 & 41 & 2 & \\emph{missing} & 1 & 2021-05-22 16:10:38 UTC & 12485099 & 0xdd0e09ffa6d2b1e917f4e575c1bcd4e5ff22602b4c7862fdc93719871679eed9 & call\\_0x810b236b3524ec07e464db6da2befd0c70550c312422d605ad38caea2f1dbbe9\\_2 \\\\\n",
       "\t5 & 0xd5a46295d99ad3030cc487079bded0fd9b9e7fd56075f49b181a2cb430c9ee41 & 110 & 0x722122df12d4e14e13ac3b6895a86e84145b6967 & 0x03893a7c7463ae47d46bc7f091665f1893656003 & 0.0 & 0xb214faa51f25c47c5a5cff19cd1b5ead8cb9f61756c888fb1c893cac089fd50f90afaf3d & 0x & call & call & \\emph{missing} & 1008171 & 904962 & 41 & 2 & \\emph{missing} & 1 & 2021-07-09 01:34:22 UTC & 12790291 & 0x5965f85e68f6b3618274bdbf912151b01af0fb8bdae61f765b19f6773b4df3d8 & call\\_0xd5a46295d99ad3030cc487079bded0fd9b9e7fd56075f49b181a2cb430c9ee41\\_2 \\\\\n",
       "\t6 & 0xd9e473beaf1cc1e13d89c130c4c9042eca9782dd9c631a79a8efcbef3f99dad7 & 29 & 0x722122df12d4e14e13ac3b6895a86e84145b6967 & 0x03893a7c7463ae47d46bc7f091665f1893656003 & 0.0 & 0xb214faa5236a1349f63a2f6492ca34cd7ccbd950a900063884966f7c4a805f0feb44e950 & 0x & call & call & \\emph{missing} & 996653 & 918260 & 41 & 2 & \\emph{missing} & 1 & 2021-05-22 16:11:11 UTC & 12485103 & 0xcda97b1bf9c87dbda7e142159c70be93587b68a5baa65f8a3748f99ba6063605 & call\\_0xd9e473beaf1cc1e13d89c130c4c9042eca9782dd9c631a79a8efcbef3f99dad7\\_2 \\\\\n",
       "\t7 & 0x653331dcf9308307a1a00a1f577bff5dbf67a8ff101d0404f65b49d0c75e3f84 & 59 & 0x722122df12d4e14e13ac3b6895a86e84145b6967 & 0x03893a7c7463ae47d46bc7f091665f1893656003 & 0.0 & 0xb214faa5029432378cfeafc99a7c2548098aa2a09dcecafd427d2c92a71487b9287c550b & 0x & call & call & \\emph{missing} & 992048 & 913582 & 41 & 2 & \\emph{missing} & 1 & 2021-07-09 05:34:39 UTC & 12791337 & 0x22857496ea9eec60842499607be720e53e0ad26d6c258c7a097afbbdc79ff571 & call\\_0x653331dcf9308307a1a00a1f577bff5dbf67a8ff101d0404f65b49d0c75e3f84\\_2 \\\\\n",
       "\t8 & 0x16aea278524d01eae766694860267654aa5c04d15147de916dcfc02c41f26779 & 115 & 0x722122df12d4e14e13ac3b6895a86e84145b6967 & 0x03893a7c7463ae47d46bc7f091665f1893656003 & 0.0 & 0xb214faa52c4c1a03d536915f86d1881da4f35befc2fc7520e720df22b093e6bbbe9fab8c & 0x & call & call & \\emph{missing} & 998460 & 912196 & 41 & 2 & \\emph{missing} & 1 & 2021-06-26 22:35:49 UTC & 12712338 & 0x94e5dba3dfecf4a55a9f999a624cad9c2606c064d4d499b8eaef4bb018ef1595 & call\\_0x16aea278524d01eae766694860267654aa5c04d15147de916dcfc02c41f26779\\_2 \\\\\n",
       "\t9 & 0x840d31a6f571e5918431b73f1b6941e445d605598d48c004b11ebcde96c3607a & 93 & 0x722122df12d4e14e13ac3b6895a86e84145b6967 & 0x03893a7c7463ae47d46bc7f091665f1893656003 & 0.0 & 0xb214faa501bc0635383bc19471714876da2ccd3649895077aa09befd6ac82a4b0a872738 & 0x & call & call & \\emph{missing} & 1001534 & 915319 & 41 & 2 & \\emph{missing} & 1 & 2021-05-22 15:53:51 UTC & 12485026 & 0xc07c53531c6d108fc9e916f2fe0a3831bedb31616c671d9337df8f5ae1da3877 & call\\_0x840d31a6f571e5918431b73f1b6941e445d605598d48c004b11ebcde96c3607a\\_2 \\\\\n",
       "\t10 & 0x1f6f603a8e10981a31382e457f956d76a52f6cc03329080522ab6e4eacbaa41c & 158 & 0x722122df12d4e14e13ac3b6895a86e84145b6967 & 0x03893a7c7463ae47d46bc7f091665f1893656003 & 0.0 & 0xb214faa51cb1f31868f0bd87877652aed6d40697d181c1b89838bd99a67add2d2c8f8aeb & 0x & call & call & \\emph{missing} & 1341759 & 915293 & 41 & 2 & \\emph{missing} & 1 & 2021-04-26 10:36:20 UTC & 12315405 & 0x7bf395a08a4cb788b056796079d83225322fe14a397943c1737e6105a88be1c4 & call\\_0x1f6f603a8e10981a31382e457f956d76a52f6cc03329080522ab6e4eacbaa41c\\_2 \\\\\n",
       "\t$\\dots$ & $\\dots$ & $\\dots$ & $\\dots$ & $\\dots$ & $\\dots$ & $\\dots$ & $\\dots$ & $\\dots$ & $\\dots$ & $\\dots$ & $\\dots$ & $\\dots$ & $\\dots$ & $\\dots$ & $\\dots$ & $\\dots$ & $\\dots$ & $\\dots$ & $\\dots$ & $\\dots$ \\\\\n",
       "\\end{tabular}\n"
      ],
      "text/plain": [
       "96715×20 DataFrame\n"
      ]
     },
     "execution_count": 49,
     "metadata": {},
     "output_type": "execute_result"
    }
   ],
   "source": [
    "succesful_deposit_traces = filter(row -> ismissing(row.error), deposits_df)"
   ]
  },
  {
   "cell_type": "code",
   "execution_count": 59,
   "metadata": {},
   "outputs": [
    {
     "data": {
      "text/html": [
       "<table class=\"data-frame\"><thead><tr><th></th><th>from_address</th><th>count</th></tr><tr><th></th><th>String</th><th>Int64</th></tr></thead><tbody><p>7,966 rows × 2 columns</p><tr><th>1</th><td>0x722122df12d4e14e13ac3b6895a86e84145b6967</td><td>50743</td></tr><tr><th>2</th><td>0x905b63fff465b9ffbf41dea908ceb12478ec7601</td><td>22022</td></tr><tr><th>3</th><td>0xc62c539a7a6fa03f416f7d284fcc785517a607fb</td><td>145</td></tr><tr><th>4</th><td>0x730c4ae1626d85b9fbe5229ebe9b2f22fe12ca5a</td><td>140</td></tr><tr><th>5</th><td>0x34a17418cec67b82d08cf77a987941f99dc87c6b</td><td>115</td></tr><tr><th>6</th><td>0x6530e61a2cbbb92ce237e64c2ae9f5082d38dacd</td><td>83</td></tr><tr><th>7</th><td>0x54459d826a727393134c929ad1f4bc1e16f6f021</td><td>82</td></tr><tr><th>8</th><td>0x978aad63fe35f7a72573c411c3dff53608aaeac9</td><td>74</td></tr><tr><th>9</th><td>0xbe5e1ba665d397d5304f0f546cead0a1e44f242d</td><td>72</td></tr><tr><th>10</th><td>0x1a98fcebebfea4ffbd0d5bf5e4650d71344f52ab</td><td>70</td></tr><tr><th>&vellip;</th><td>&vellip;</td><td>&vellip;</td></tr></tbody></table>"
      ],
      "text/latex": [
       "\\begin{tabular}{r|cc}\n",
       "\t& from\\_address & count\\\\\n",
       "\t\\hline\n",
       "\t& String & Int64\\\\\n",
       "\t\\hline\n",
       "\t1 & 0x722122df12d4e14e13ac3b6895a86e84145b6967 & 50743 \\\\\n",
       "\t2 & 0x905b63fff465b9ffbf41dea908ceb12478ec7601 & 22022 \\\\\n",
       "\t3 & 0xc62c539a7a6fa03f416f7d284fcc785517a607fb & 145 \\\\\n",
       "\t4 & 0x730c4ae1626d85b9fbe5229ebe9b2f22fe12ca5a & 140 \\\\\n",
       "\t5 & 0x34a17418cec67b82d08cf77a987941f99dc87c6b & 115 \\\\\n",
       "\t6 & 0x6530e61a2cbbb92ce237e64c2ae9f5082d38dacd & 83 \\\\\n",
       "\t7 & 0x54459d826a727393134c929ad1f4bc1e16f6f021 & 82 \\\\\n",
       "\t8 & 0x978aad63fe35f7a72573c411c3dff53608aaeac9 & 74 \\\\\n",
       "\t9 & 0xbe5e1ba665d397d5304f0f546cead0a1e44f242d & 72 \\\\\n",
       "\t10 & 0x1a98fcebebfea4ffbd0d5bf5e4650d71344f52ab & 70 \\\\\n",
       "\t$\\dots$ & $\\dots$ & $\\dots$ \\\\\n",
       "\\end{tabular}\n"
      ],
      "text/plain": [
       "7966×2 DataFrame\n"
      ]
     },
     "execution_count": 59,
     "metadata": {},
     "output_type": "execute_result"
    }
   ],
   "source": [
    "sort!(combine(groupby(succesful_deposit_traces, :from_address), nrow => :count), :count, rev=true)"
   ]
  },
  {
   "cell_type": "code",
   "execution_count": 51,
   "metadata": {},
   "outputs": [
    {
     "data": {
      "text/html": [
       "<table class=\"data-frame\"><thead><tr><th></th><th>from_address</th><th>count</th></tr><tr><th></th><th>String</th><th>Int64</th></tr></thead><tbody><p>5 rows × 2 columns</p><tr><th>1</th><td>0x722122df12d4e14e13ac3b6895a86e84145b6967</td><td>50743</td></tr><tr><th>2</th><td>0x730c4ae1626d85b9fbe5229ebe9b2f22fe12ca5a</td><td>140</td></tr><tr><th>3</th><td>0x905b63fff465b9ffbf41dea908ceb12478ec7601</td><td>22022</td></tr><tr><th>4</th><td>0xc62c539a7a6fa03f416f7d284fcc785517a607fb</td><td>145</td></tr><tr><th>5</th><td>0x34a17418cec67b82d08cf77a987941f99dc87c6b</td><td>115</td></tr></tbody></table>"
      ],
      "text/latex": [
       "\\begin{tabular}{r|cc}\n",
       "\t& from\\_address & count\\\\\n",
       "\t\\hline\n",
       "\t& String & Int64\\\\\n",
       "\t\\hline\n",
       "\t1 & 0x722122df12d4e14e13ac3b6895a86e84145b6967 & 50743 \\\\\n",
       "\t2 & 0x730c4ae1626d85b9fbe5229ebe9b2f22fe12ca5a & 140 \\\\\n",
       "\t3 & 0x905b63fff465b9ffbf41dea908ceb12478ec7601 & 22022 \\\\\n",
       "\t4 & 0xc62c539a7a6fa03f416f7d284fcc785517a607fb & 145 \\\\\n",
       "\t5 & 0x34a17418cec67b82d08cf77a987941f99dc87c6b & 115 \\\\\n",
       "\\end{tabular}\n"
      ],
      "text/plain": [
       "5×2 DataFrame\n"
      ]
     },
     "execution_count": 51,
     "metadata": {},
     "output_type": "execute_result"
    }
   ],
   "source": [
    "filter(row -> row.count>100, combine(groupby(succesful_deposit_traces, :from_address), nrow => :count))"
   ]
  },
  {
   "cell_type": "markdown",
   "metadata": {},
   "source": [
    "Looking for \"0x722122df12d4e14e13ac3b6895a86e84145b6967\" and \"0x905b63fff465b9ffbf41dea908ceb12478ec7601\" in etherscan, we find that the first one is the \"Tornado.Cash: Proxy\" and the second one is \"Tornado.Cash: Old Proxy\""
   ]
  },
  {
   "cell_type": "code",
   "execution_count": 52,
   "metadata": {},
   "outputs": [
    {
     "data": {
      "text/html": [
       "<table class=\"data-frame\"><thead><tr><th></th><th>from_address</th><th>count</th></tr><tr><th></th><th>String</th><th>Int64</th></tr></thead><tbody><p>824 rows × 2 columns</p><tr><th>1</th><td>0x722122df12d4e14e13ac3b6895a86e84145b6967</td><td>46822</td></tr><tr><th>2</th><td>0x33350f9ffe031ca593442a189b3bc7a1ea05b3c1</td><td>166</td></tr><tr><th>3</th><td>0x52faf2849177c43595341bf7a097f27be4a5ea20</td><td>163</td></tr><tr><th>4</th><td>0x49516e20b5692839f877a7e9aa62006a5d02a7b1</td><td>853</td></tr><tr><th>5</th><td>0x7d9240d77dc24d73dd5c46e61f218fa6d2211081</td><td>158</td></tr><tr><th>6</th><td>0x2d50dbcc960bec854227f51f8074e1da28bd4a37</td><td>2689</td></tr><tr><th>7</th><td>0x580e2bd60625f146bc32c75a63dbe0f61810ccda</td><td>47</td></tr><tr><th>8</th><td>0xe3e5e551a6a3d6664325c92833553b6bf83a865a</td><td>1612</td></tr><tr><th>9</th><td>0x7d3bb46c78b0c4949639ce34896bfd875b97ad08</td><td>4065</td></tr><tr><th>10</th><td>0x5e7d0f8281a871cb50bf827418216e21f534f02e</td><td>13</td></tr><tr><th>&vellip;</th><td>&vellip;</td><td>&vellip;</td></tr></tbody></table>"
      ],
      "text/latex": [
       "\\begin{tabular}{r|cc}\n",
       "\t& from\\_address & count\\\\\n",
       "\t\\hline\n",
       "\t& String & Int64\\\\\n",
       "\t\\hline\n",
       "\t1 & 0x722122df12d4e14e13ac3b6895a86e84145b6967 & 46822 \\\\\n",
       "\t2 & 0x33350f9ffe031ca593442a189b3bc7a1ea05b3c1 & 166 \\\\\n",
       "\t3 & 0x52faf2849177c43595341bf7a097f27be4a5ea20 & 163 \\\\\n",
       "\t4 & 0x49516e20b5692839f877a7e9aa62006a5d02a7b1 & 853 \\\\\n",
       "\t5 & 0x7d9240d77dc24d73dd5c46e61f218fa6d2211081 & 158 \\\\\n",
       "\t6 & 0x2d50dbcc960bec854227f51f8074e1da28bd4a37 & 2689 \\\\\n",
       "\t7 & 0x580e2bd60625f146bc32c75a63dbe0f61810ccda & 47 \\\\\n",
       "\t8 & 0xe3e5e551a6a3d6664325c92833553b6bf83a865a & 1612 \\\\\n",
       "\t9 & 0x7d3bb46c78b0c4949639ce34896bfd875b97ad08 & 4065 \\\\\n",
       "\t10 & 0x5e7d0f8281a871cb50bf827418216e21f534f02e & 13 \\\\\n",
       "\t$\\dots$ & $\\dots$ & $\\dots$ \\\\\n",
       "\\end{tabular}\n"
      ],
      "text/plain": [
       "824×2 DataFrame\n"
      ]
     },
     "execution_count": 52,
     "metadata": {},
     "output_type": "execute_result"
    }
   ],
   "source": [
    "combine(groupby(withdrawls_df, :from_address), nrow => :count)"
   ]
  },
  {
   "cell_type": "code",
   "execution_count": 55,
   "metadata": {},
   "outputs": [
    {
     "data": {
      "text/html": [
       "<table class=\"data-frame\"><thead><tr><th></th><th>from_address</th><th>count</th></tr><tr><th></th><th>String</th><th>Int64</th></tr></thead><tbody><p>29 rows × 2 columns</p><tr><th>1</th><td>0x722122df12d4e14e13ac3b6895a86e84145b6967</td><td>46822</td></tr><tr><th>2</th><td>0x905b63fff465b9ffbf41dea908ceb12478ec7601</td><td>14952</td></tr><tr><th>3</th><td>0x7d3bb46c78b0c4949639ce34896bfd875b97ad08</td><td>4065</td></tr><tr><th>4</th><td>0x2d50dbcc960bec854227f51f8074e1da28bd4a37</td><td>2689</td></tr><tr><th>5</th><td>0xe3e5e551a6a3d6664325c92833553b6bf83a865a</td><td>1612</td></tr><tr><th>6</th><td>0x41a28335c5075c81502a97cebad597f28728a815</td><td>1297</td></tr><tr><th>7</th><td>0x0b157ac0a65319b0a18aa46b0b0d4497e1074456</td><td>1275</td></tr><tr><th>8</th><td>0x0360b232285a801cbae01c984fb680ba2f465fdc</td><td>1011</td></tr><tr><th>9</th><td>0x49516e20b5692839f877a7e9aa62006a5d02a7b1</td><td>853</td></tr><tr><th>10</th><td>0xe0f87651d3b65641c0fe1b71c5fbe88236d4b2e6</td><td>836</td></tr><tr><th>&vellip;</th><td>&vellip;</td><td>&vellip;</td></tr></tbody></table>"
      ],
      "text/latex": [
       "\\begin{tabular}{r|cc}\n",
       "\t& from\\_address & count\\\\\n",
       "\t\\hline\n",
       "\t& String & Int64\\\\\n",
       "\t\\hline\n",
       "\t1 & 0x722122df12d4e14e13ac3b6895a86e84145b6967 & 46822 \\\\\n",
       "\t2 & 0x905b63fff465b9ffbf41dea908ceb12478ec7601 & 14952 \\\\\n",
       "\t3 & 0x7d3bb46c78b0c4949639ce34896bfd875b97ad08 & 4065 \\\\\n",
       "\t4 & 0x2d50dbcc960bec854227f51f8074e1da28bd4a37 & 2689 \\\\\n",
       "\t5 & 0xe3e5e551a6a3d6664325c92833553b6bf83a865a & 1612 \\\\\n",
       "\t6 & 0x41a28335c5075c81502a97cebad597f28728a815 & 1297 \\\\\n",
       "\t7 & 0x0b157ac0a65319b0a18aa46b0b0d4497e1074456 & 1275 \\\\\n",
       "\t8 & 0x0360b232285a801cbae01c984fb680ba2f465fdc & 1011 \\\\\n",
       "\t9 & 0x49516e20b5692839f877a7e9aa62006a5d02a7b1 & 853 \\\\\n",
       "\t10 & 0xe0f87651d3b65641c0fe1b71c5fbe88236d4b2e6 & 836 \\\\\n",
       "\t$\\dots$ & $\\dots$ & $\\dots$ \\\\\n",
       "\\end{tabular}\n"
      ],
      "text/plain": [
       "29×2 DataFrame\n"
      ]
     },
     "execution_count": 55,
     "metadata": {},
     "output_type": "execute_result"
    }
   ],
   "source": [
    "sort!(filter(row -> row.count>100, combine(groupby(withdrawls_df, :from_address), nrow => :count)), :count, rev=true)"
   ]
  },
  {
   "cell_type": "markdown",
   "metadata": {},
   "source": [
    "Again the new and old proxy appears"
   ]
  },
  {
   "cell_type": "code",
   "execution_count": 56,
   "metadata": {
    "scrolled": true
   },
   "outputs": [
    {
     "data": {
      "text/html": [
       "<table class=\"data-frame\"><thead><tr><th></th><th>hash</th><th>nonce</th><th>transaction_index</th><th>from_address</th><th>to_address</th><th>value</th><th>gas</th><th>gas_price</th><th>input</th><th>receipt_cumulative_gas_used</th><th>receipt_gas_used</th><th>receipt_contract_address</th><th>receipt_root</th><th>receipt_status</th><th>block_timestamp</th><th>block_number</th><th>block_hash</th><th>max_fee_per_gas</th><th>max_priority_fee_per_gas</th><th>transaction_type</th><th>receipt_effective_gas_price</th></tr><tr><th></th><th>String</th><th>Int64</th><th>Int64</th><th>String</th><th>String</th><th>Float64</th><th>Int64</th><th>Int64</th><th>String</th><th>Int64</th><th>Int64</th><th>Missing</th><th>Missing</th><th>Int64</th><th>String</th><th>Int64</th><th>String</th><th>Int64?</th><th>Int64?</th><th>Int64?</th><th>Int64</th></tr></thead><tbody><p>0 rows × 21 columns</p></tbody></table>"
      ],
      "text/latex": [
       "\\begin{tabular}{r|ccccccccccccccccccccc}\n",
       "\t& hash & nonce & transaction\\_index & from\\_address & to\\_address & value & gas & gas\\_price & input & receipt\\_cumulative\\_gas\\_used & receipt\\_gas\\_used & receipt\\_contract\\_address & receipt\\_root & receipt\\_status & block\\_timestamp & block\\_number & block\\_hash & max\\_fee\\_per\\_gas & max\\_priority\\_fee\\_per\\_gas & transaction\\_type & receipt\\_effective\\_gas\\_price\\\\\n",
       "\t\\hline\n",
       "\t& String & Int64 & Int64 & String & String & Float64 & Int64 & Int64 & String & Int64 & Int64 & Missing & Missing & Int64 & String & Int64 & String & Int64? & Int64? & Int64? & Int64\\\\\n",
       "\t\\hline\n",
       "\\end{tabular}\n"
      ],
      "text/plain": [
       "0×21 DataFrame\n"
      ]
     },
     "execution_count": 56,
     "metadata": {},
     "output_type": "execute_result"
    }
   ],
   "source": [
    "filter(row -> row.from_address == \"0x722122df12d4e14e13ac3b6895a86e84145b6967\", deposit_transactions_df)"
   ]
  },
  {
   "cell_type": "code",
   "execution_count": 57,
   "metadata": {
    "scrolled": true
   },
   "outputs": [
    {
     "data": {
      "text/html": [
       "<table class=\"data-frame\"><thead><tr><th></th><th>hash</th><th>nonce</th><th>transaction_index</th><th>from_address</th><th>to_address</th><th>value</th><th>gas</th><th>gas_price</th><th>input</th><th>receipt_cumulative_gas_used</th><th>receipt_gas_used</th><th>receipt_contract_address</th><th>receipt_root</th><th>receipt_status</th><th>block_timestamp</th><th>block_number</th><th>block_hash</th><th>max_fee_per_gas</th><th>max_priority_fee_per_gas</th><th>transaction_type</th><th>receipt_effective_gas_price</th></tr><tr><th></th><th>String</th><th>Int64</th><th>Int64</th><th>String</th><th>String</th><th>Float64</th><th>Int64</th><th>Int64</th><th>String</th><th>Int64</th><th>Int64</th><th>Missing</th><th>Missing</th><th>Int64</th><th>String</th><th>Int64</th><th>String</th><th>Int64?</th><th>Int64?</th><th>Int64?</th><th>Int64</th></tr></thead><tbody><p>0 rows × 21 columns</p></tbody></table>"
      ],
      "text/latex": [
       "\\begin{tabular}{r|ccccccccccccccccccccc}\n",
       "\t& hash & nonce & transaction\\_index & from\\_address & to\\_address & value & gas & gas\\_price & input & receipt\\_cumulative\\_gas\\_used & receipt\\_gas\\_used & receipt\\_contract\\_address & receipt\\_root & receipt\\_status & block\\_timestamp & block\\_number & block\\_hash & max\\_fee\\_per\\_gas & max\\_priority\\_fee\\_per\\_gas & transaction\\_type & receipt\\_effective\\_gas\\_price\\\\\n",
       "\t\\hline\n",
       "\t& String & Int64 & Int64 & String & String & Float64 & Int64 & Int64 & String & Int64 & Int64 & Missing & Missing & Int64 & String & Int64 & String & Int64? & Int64? & Int64? & Int64\\\\\n",
       "\t\\hline\n",
       "\\end{tabular}\n"
      ],
      "text/plain": [
       "0×21 DataFrame\n"
      ]
     },
     "execution_count": 57,
     "metadata": {},
     "output_type": "execute_result"
    }
   ],
   "source": [
    "filter(row -> row.from_address == \"0x905b63fff465b9ffbf41dea908ceb12478ec7601\", deposit_transactions_df)"
   ]
  },
  {
   "cell_type": "code",
   "execution_count": 58,
   "metadata": {},
   "outputs": [
    {
     "data": {
      "text/html": [
       "<table class=\"data-frame\"><thead><tr><th></th><th>hash</th><th>nonce</th><th>transaction_index</th><th>from_address</th><th>to_address</th><th>value</th><th>gas</th><th>gas_price</th><th>input</th><th>receipt_cumulative_gas_used</th><th>receipt_gas_used</th><th>receipt_contract_address</th><th>receipt_root</th><th>receipt_status</th><th>block_timestamp</th><th>block_number</th><th>block_hash</th><th>max_fee_per_gas</th><th>max_priority_fee_per_gas</th><th>transaction_type</th><th>receipt_effective_gas_price</th></tr><tr><th></th><th>String</th><th>Int64</th><th>Int64</th><th>String</th><th>String</th><th>Float64</th><th>Int64</th><th>Int64</th><th>String</th><th>Int64</th><th>Int64</th><th>Missing</th><th>Missing</th><th>Int64</th><th>String</th><th>Int64</th><th>String</th><th>Int64?</th><th>Int64?</th><th>Int64?</th><th>Int64</th></tr></thead><tbody><p>1 rows × 21 columns</p><tr><th>1</th><td>0xbc91fdd01ed08570befb193e0d25ffd37d104e1be0b02ba7535ab9465077447f</td><td>172</td><td>25</td><td>0x7d3bb46c78b0c4949639ce34896bfd875b97ad08</td><td>0x12d66f87a04a9e220743712ce6d9bb1b5616b8fc</td><td>1.0e17</td><td>1200000</td><td>11000000000</td><td>0xb214faa5132b31652746dfb48ff7f1cad56cc5475fb03a405d46bd2488db5bc2823968c7</td><td>1781165</td><td>972795</td><td><em>missing</em></td><td><em>missing</em></td><td>1</td><td>2020-01-23 14:51:46 UTC</td><td>9338569</td><td>0xf5277d24dfc9a9e03015850ad27de43891240a8bc195b1d0d83464c0ec52198c</td><td><em>missing</em></td><td><em>missing</em></td><td><em>missing</em></td><td>11000000000</td></tr></tbody></table>"
      ],
      "text/latex": [
       "\\begin{tabular}{r|ccccccccccccccccccccc}\n",
       "\t& hash & nonce & transaction\\_index & from\\_address & to\\_address & value & gas & gas\\_price & input & receipt\\_cumulative\\_gas\\_used & receipt\\_gas\\_used & receipt\\_contract\\_address & receipt\\_root & receipt\\_status & block\\_timestamp & block\\_number & block\\_hash & max\\_fee\\_per\\_gas & max\\_priority\\_fee\\_per\\_gas & transaction\\_type & receipt\\_effective\\_gas\\_price\\\\\n",
       "\t\\hline\n",
       "\t& String & Int64 & Int64 & String & String & Float64 & Int64 & Int64 & String & Int64 & Int64 & Missing & Missing & Int64 & String & Int64 & String & Int64? & Int64? & Int64? & Int64\\\\\n",
       "\t\\hline\n",
       "\t1 & 0xbc91fdd01ed08570befb193e0d25ffd37d104e1be0b02ba7535ab9465077447f & 172 & 25 & 0x7d3bb46c78b0c4949639ce34896bfd875b97ad08 & 0x12d66f87a04a9e220743712ce6d9bb1b5616b8fc & 1.0e17 & 1200000 & 11000000000 & 0xb214faa5132b31652746dfb48ff7f1cad56cc5475fb03a405d46bd2488db5bc2823968c7 & 1781165 & 972795 & \\emph{missing} & \\emph{missing} & 1 & 2020-01-23 14:51:46 UTC & 9338569 & 0xf5277d24dfc9a9e03015850ad27de43891240a8bc195b1d0d83464c0ec52198c & \\emph{missing} & \\emph{missing} & \\emph{missing} & 11000000000 \\\\\n",
       "\\end{tabular}\n"
      ],
      "text/plain": [
       "1×21 DataFrame\n",
       "│ Row │ hash                                                               │ nonce │ transaction_index │ from_address                               │ to_address                                 │ value   │ gas     │ gas_price   │ input                                                                      │ receipt_cumulative_gas_used │ receipt_gas_used │ receipt_contract_address │ receipt_root │ receipt_status │ block_timestamp         │ block_number │ block_hash                                                         │ max_fee_per_gas │ max_priority_fee_per_gas │ transaction_type │ receipt_effective_gas_price │\n",
       "│     │ \u001b[90mString\u001b[39m                                                             │ \u001b[90mInt64\u001b[39m │ \u001b[90mInt64\u001b[39m             │ \u001b[90mString\u001b[39m                                     │ \u001b[90mString\u001b[39m                                     │ \u001b[90mFloat64\u001b[39m │ \u001b[90mInt64\u001b[39m   │ \u001b[90mInt64\u001b[39m       │ \u001b[90mString\u001b[39m                                                                     │ \u001b[90mInt64\u001b[39m                       │ \u001b[90mInt64\u001b[39m            │ \u001b[90mMissing\u001b[39m                  │ \u001b[90mMissing\u001b[39m      │ \u001b[90mInt64\u001b[39m          │ \u001b[90mString\u001b[39m                  │ \u001b[90mInt64\u001b[39m        │ \u001b[90mString\u001b[39m                                                             │ \u001b[90mInt64?\u001b[39m          │ \u001b[90mUnion{Missing, Int64}\u001b[39m    │ \u001b[90mInt64?\u001b[39m           │ \u001b[90mInt64\u001b[39m                       │\n",
       "├─────┼────────────────────────────────────────────────────────────────────┼───────┼───────────────────┼────────────────────────────────────────────┼────────────────────────────────────────────┼─────────┼─────────┼─────────────┼────────────────────────────────────────────────────────────────────────────┼─────────────────────────────┼──────────────────┼──────────────────────────┼──────────────┼────────────────┼─────────────────────────┼──────────────┼────────────────────────────────────────────────────────────────────┼─────────────────┼──────────────────────────┼──────────────────┼─────────────────────────────┤\n",
       "│ 1   │ 0xbc91fdd01ed08570befb193e0d25ffd37d104e1be0b02ba7535ab9465077447f │ 172   │ 25                │ 0x7d3bb46c78b0c4949639ce34896bfd875b97ad08 │ 0x12d66f87a04a9e220743712ce6d9bb1b5616b8fc │ 1.0e17  │ 1200000 │ 11000000000 │ 0xb214faa5132b31652746dfb48ff7f1cad56cc5475fb03a405d46bd2488db5bc2823968c7 │ 1781165                     │ 972795           │ \u001b[90mmissing\u001b[39m                  │ \u001b[90mmissing\u001b[39m      │ 1              │ 2020-01-23 14:51:46 UTC │ 9338569      │ 0xf5277d24dfc9a9e03015850ad27de43891240a8bc195b1d0d83464c0ec52198c │ \u001b[90mmissing\u001b[39m         │ \u001b[90mmissing\u001b[39m                  │ \u001b[90mmissing\u001b[39m          │ 11000000000                 │"
      ]
     },
     "execution_count": 58,
     "metadata": {},
     "output_type": "execute_result"
    }
   ],
   "source": [
    "filter(row -> row.from_address == \"0x7d3bb46c78b0c4949639ce34896bfd875b97ad08\", deposit_transactions_df)"
   ]
  },
  {
   "cell_type": "markdown",
   "metadata": {},
   "source": [
    "Okey, it seems that we dont have any of the transactions that interact with the proxy in our firts two df.\n",
    "Lets see if we remove the two proxys, we can reconstruct our first two df"
   ]
  },
  {
   "cell_type": "code",
   "execution_count": 68,
   "metadata": {},
   "outputs": [
    {
     "data": {
      "text/html": [
       "<table class=\"data-frame\"><thead><tr><th></th><th>from_address</th><th>count</th></tr><tr><th></th><th>String</th><th>Int64</th></tr></thead><tbody><p>8,046 rows × 2 columns</p><tr><th>1</th><td>0x722122df12d4e14e13ac3b6895a86e84145b6967</td><td>50933</td></tr><tr><th>2</th><td>0x905b63fff465b9ffbf41dea908ceb12478ec7601</td><td>22224</td></tr><tr><th>3</th><td>0xc62c539a7a6fa03f416f7d284fcc785517a607fb</td><td>145</td></tr><tr><th>4</th><td>0x730c4ae1626d85b9fbe5229ebe9b2f22fe12ca5a</td><td>141</td></tr><tr><th>5</th><td>0x34a17418cec67b82d08cf77a987941f99dc87c6b</td><td>115</td></tr><tr><th>6</th><td>0x6530e61a2cbbb92ce237e64c2ae9f5082d38dacd</td><td>83</td></tr><tr><th>7</th><td>0x54459d826a727393134c929ad1f4bc1e16f6f021</td><td>82</td></tr><tr><th>8</th><td>0x978aad63fe35f7a72573c411c3dff53608aaeac9</td><td>74</td></tr><tr><th>9</th><td>0xbe5e1ba665d397d5304f0f546cead0a1e44f242d</td><td>72</td></tr><tr><th>10</th><td>0x1a98fcebebfea4ffbd0d5bf5e4650d71344f52ab</td><td>70</td></tr><tr><th>&vellip;</th><td>&vellip;</td><td>&vellip;</td></tr></tbody></table>"
      ],
      "text/latex": [
       "\\begin{tabular}{r|cc}\n",
       "\t& from\\_address & count\\\\\n",
       "\t\\hline\n",
       "\t& String & Int64\\\\\n",
       "\t\\hline\n",
       "\t1 & 0x722122df12d4e14e13ac3b6895a86e84145b6967 & 50933 \\\\\n",
       "\t2 & 0x905b63fff465b9ffbf41dea908ceb12478ec7601 & 22224 \\\\\n",
       "\t3 & 0xc62c539a7a6fa03f416f7d284fcc785517a607fb & 145 \\\\\n",
       "\t4 & 0x730c4ae1626d85b9fbe5229ebe9b2f22fe12ca5a & 141 \\\\\n",
       "\t5 & 0x34a17418cec67b82d08cf77a987941f99dc87c6b & 115 \\\\\n",
       "\t6 & 0x6530e61a2cbbb92ce237e64c2ae9f5082d38dacd & 83 \\\\\n",
       "\t7 & 0x54459d826a727393134c929ad1f4bc1e16f6f021 & 82 \\\\\n",
       "\t8 & 0x978aad63fe35f7a72573c411c3dff53608aaeac9 & 74 \\\\\n",
       "\t9 & 0xbe5e1ba665d397d5304f0f546cead0a1e44f242d & 72 \\\\\n",
       "\t10 & 0x1a98fcebebfea4ffbd0d5bf5e4650d71344f52ab & 70 \\\\\n",
       "\t$\\dots$ & $\\dots$ & $\\dots$ \\\\\n",
       "\\end{tabular}\n"
      ],
      "text/plain": [
       "8046×2 DataFrame\n"
      ]
     },
     "execution_count": 68,
     "metadata": {},
     "output_type": "execute_result"
    }
   ],
   "source": [
    "sort!(combine(groupby(deposits_df, :from_address), nrow => :count), :count, rev=true)"
   ]
  },
  {
   "cell_type": "code",
   "execution_count": 70,
   "metadata": {
    "scrolled": true
   },
   "outputs": [
    {
     "data": {
      "text/plain": [
       "23950"
      ]
     },
     "execution_count": 70,
     "metadata": {},
     "output_type": "execute_result"
    }
   ],
   "source": [
    "sum(sort!(combine(groupby(succesful_deposit_traces, :from_address), nrow => :count), :count, rev=true)[3:end, 2])"
   ]
  },
  {
   "cell_type": "code",
   "execution_count": null,
   "metadata": {},
   "outputs": [],
   "source": []
  }
 ],
 "metadata": {
  "kernelspec": {
   "display_name": "Julia 1.5.3",
   "language": "julia",
   "name": "julia-1.5"
  },
  "language_info": {
   "file_extension": ".jl",
   "mimetype": "application/julia",
   "name": "julia",
   "version": "1.5.3"
  }
 },
 "nbformat": 4,
 "nbformat_minor": 4
}
