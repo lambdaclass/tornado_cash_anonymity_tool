{
 "cells": [
  {
   "cell_type": "code",
   "execution_count": null,
   "id": "01e7ec40",
   "metadata": {},
   "outputs": [],
   "source": [
    "# Import relevant packages.\n",
    "using DataFrames\n",
    "using CSV\n",
    "using Dates\n",
    "using TimeZones\n",
    "using StatsPlots"
   ]
  },
  {
   "cell_type": "code",
   "execution_count": null,
   "id": "1f6ee90b",
   "metadata": {},
   "outputs": [],
   "source": [
    "heuristic_1_results = CSV.read(\"../data/heuristic_1_results.csv\", DataFrame)\n",
    "heuristic_2_results = CSV.read(\"../data/heuristic_2_results.csv\", DataFrame)\n",
    "withdraw_transactions_df = CSV.read(\"../data/lighter_complete_withdraw_txs.csv\", DataFrame)\n",
    "deposit_transactions_df = CSV.read(\"../data/lighter_complete_deposit_txs.csv\", DataFrame);"
   ]
  },
  {
   "cell_type": "code",
   "execution_count": null,
   "id": "83a0250d",
   "metadata": {
    "scrolled": false
   },
   "outputs": [],
   "source": [
    "# Concat the results linked transactions we founds in the first and second heuristic\n",
    "linked_transactions = vcat(heuristic_1_results, heuristic_2_results)"
   ]
  },
  {
   "cell_type": "code",
   "execution_count": null,
   "id": "56470f64",
   "metadata": {},
   "outputs": [],
   "source": [
    "# Environment settings for the notebook.\n",
    "ENV[\"COLUMNS\"]=10000\n",
    "ENV[\"LINES\"]=10;"
   ]
  },
  {
   "cell_type": "code",
   "execution_count": null,
   "id": "46b426de",
   "metadata": {},
   "outputs": [],
   "source": [
    "function string_to_datetime(datetime)\n",
    "    ZonedDateTime(datetime, dateformat\"yyyy-mm-dd HH:MM:SS ZZZ\")\n",
    "end\n",
    "    "
   ]
  },
  {
   "cell_type": "code",
   "execution_count": null,
   "id": "c52ee2b8",
   "metadata": {},
   "outputs": [],
   "source": [
    "function get_time_between_transactions(linked_transactions, withdraw_transactions_df, deposit_transactions_df)\n",
    "    l = Array{Any}(undef, size(linked_transactions, 1))\n",
    "    \n",
    "    for (idx, row) in enumerate(eachrow(linked_transactions))\n",
    "        idx_withdraw = findfirst(x -> x == row.withdraw_hash, withdraw_transactions_df[!, :hash])\n",
    "        idx_desposit = findfirst(x -> x == row.deposit_hash, deposit_transactions_df[!, :hash])\n",
    "        time_between_transactions = string_to_datetime(withdraw_transactions_df[idx_withdraw, :block_timestamp ]) - string_to_datetime(deposit_transactions_df[idx_desposit, :block_timestamp])\n",
    "        l[idx] = time_between_transactions.value / (1000*60*60)\n",
    "    end\n",
    "    l\n",
    "end"
   ]
  },
  {
   "cell_type": "code",
   "execution_count": null,
   "id": "6dbf20cf",
   "metadata": {},
   "outputs": [],
   "source": [
    "time_between_transactions = get_time_between_transactions(linked_transactions, withdraw_transactions_df, deposit_transactions_df)"
   ]
  },
  {
   "cell_type": "code",
   "execution_count": null,
   "id": "75e6b864",
   "metadata": {
    "scrolled": true
   },
   "outputs": [],
   "source": [
    "# Histogram of the time between two linked transactions\n",
    "histogram(time_between_transactions, bins=500, alpha=0.7, normalize = true, xlabel= \"hours\", label= false)"
   ]
  },
  {
   "cell_type": "code",
   "execution_count": null,
   "id": "77dd81ac",
   "metadata": {},
   "outputs": [],
   "source": [
    "function percentege(time_between_transactions, percentaje)\n",
    "    time = sort(time_between_transactions)[trunc(Int, length(time_between_transactions) * percentaje )]\n",
    "    \"The $(percentaje * 100)% of the deposits stays in tornado cash less than $(round(time, digits=2)) hours\"\n",
    "end"
   ]
  },
  {
   "cell_type": "code",
   "execution_count": null,
   "id": "65fd29f9",
   "metadata": {},
   "outputs": [],
   "source": [
    "function hours_inside_tornado(time_between_transactions, hours)\n",
    "    sorted_time_between_transactions = sort(time_between_transactions)\n",
    "    transactions_made_before = findfirst(x -> x > hours, sorted_time_between_transactions) -1 \n",
    "    \"Trasactions that stay in tornado cash less than $(hours) hours: $(transactions_made_before) ($(round((transactions_made_before/ length(time_between_transactions)) * 100, digits = 2))%)\"\n",
    "\n",
    "end\n"
   ]
  },
  {
   "cell_type": "code",
   "execution_count": null,
   "id": "5b3a1d04",
   "metadata": {},
   "outputs": [],
   "source": [
    "percentege(time_between_transactions, 0.95)"
   ]
  },
  {
   "cell_type": "code",
   "execution_count": null,
   "id": "ab4b2844",
   "metadata": {},
   "outputs": [],
   "source": [
    "percentege(time_between_transactions, 0.5)"
   ]
  },
  {
   "cell_type": "code",
   "execution_count": null,
   "id": "da7ecb26",
   "metadata": {},
   "outputs": [],
   "source": [
    "hours_inside_tornado(time_between_transactions, 1631 )"
   ]
  },
  {
   "cell_type": "code",
   "execution_count": null,
   "id": "9124d17a",
   "metadata": {},
   "outputs": [],
   "source": []
  }
 ],
 "metadata": {
  "kernelspec": {
   "display_name": "Julia 1.6.1",
   "language": "julia",
   "name": "julia-1.6"
  },
  "language_info": {
   "file_extension": ".jl",
   "mimetype": "application/julia",
   "name": "julia",
   "version": "1.6.3"
  }
 },
 "nbformat": 4,
 "nbformat_minor": 5
}
