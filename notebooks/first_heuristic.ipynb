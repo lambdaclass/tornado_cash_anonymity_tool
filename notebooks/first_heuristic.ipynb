{
 "cells": [
  {
   "cell_type": "markdown",
   "id": "1063403e",
   "metadata": {},
   "source": [
    "### First Heuristic - Preliminary implementation\n",
    "#### Description\n",
    "\n",
    "If a deposit address matches a withdraw address, then it is trivial to link the two addresses. Therefore, the deposit address needs to be removed from all the other withdraw addresses’ anonymity set. If a number $N$ of deposits with a same address $add1$, and a number $M$ ($M < N$) of withdraws with that same aaddress are detected, then a number $M - N$ of deposit transactions must be removed from the anonimity set of all the other withdraw transactions."
   ]
  },
  {
   "cell_type": "code",
   "execution_count": 1,
   "id": "29bcb36f",
   "metadata": {},
   "outputs": [],
   "source": [
    "# Import relevant packages.\n",
    "\n",
    "using DataFrames\n",
    "using CSV\n",
    "using StatsPlots\n",
    "using ProgressBars"
   ]
  },
  {
   "cell_type": "code",
   "execution_count": 2,
   "id": "fc87bc61",
   "metadata": {},
   "outputs": [],
   "source": [
    "# Environment settings for the notebook.\n",
    "ENV[\"LINES\"]=10\n",
    "ENV[\"COLUMNS\"]=10000;"
   ]
  },
  {
   "cell_type": "code",
   "execution_count": 3,
   "id": "a2ddbff8",
   "metadata": {},
   "outputs": [],
   "source": [
    "# Load withdraw and deposit transactions data.\n",
    "\n",
    "withdraw_transactions_df = CSV.read(\"../data/lighter_complete_withdraw_txs.csv\", DataFrame)\n",
    "withdraw_transactions_df[!, \"recipient_address\"] = lowercase.(withdraw_transactions_df[!, \"recipient_address\"])\n",
    "\n",
    "deposit_transactions_df = CSV.read(\"../data/lighter_complete_deposit_txs.csv\", DataFrame);"
   ]
  },
  {
   "cell_type": "markdown",
   "id": "789d757b",
   "metadata": {},
   "source": [
    "### Function summary: addresses_to_transactions\n",
    "\n",
    "Given a transactions DataFrame, returns a dictionary with the unique addresses of the transactions data as keys and a list of tuples as values. The tuples consist on the hash of the transaction with the address as the corresponding key in the first index, the timestamp of the transaction in the second index and the tornado cash pool that the address is interacting with in that specific transaction.\n",
    "\n",
    "For example, if the address 0x6c6e4816ecfa4481472ff88 has made transaction with a hash 0x7f851ba1d7292ca565961073a111 that interacted with the 0.1 ETH pool at timestamp 1, and another transaction with hash 0x8f851ba1d7192ca565961073a9191 that interacted with the 1ETH pool at timestamp 2, then the dictionary returned will be:\n",
    "\n",
    "```\n",
    "{\"0x6c6e4816ecfa4481472ff88\": [(\"0x7f851ba1d7292ca565961073a111\", timestamp1, \"0x12D66f87A04A9E220743712cE6d9bB1B5616B8Fc\"), (\"0x8f851ba1d7192ca565961073a9191\", timestamp2, \"0x47CE0C6eD5B0Ce3d3A51fdb1C52DC66a7c3c2936\")]\n",
    "```\n",
    "\n",
    "Note that \"0x47CE0C6eD5B0Ce3d3A51fdb1C52DC66a7c3c2936\" is the 1 ETH address and \"0x12D66f87A04A9E220743712cE6d9bB1B5616B8Fc\" the one of 0.1 ETH pool"
   ]
  },
  {
   "cell_type": "code",
   "execution_count": 4,
   "id": "294ea295",
   "metadata": {},
   "outputs": [
    {
     "data": {
      "text/html": [
       "<table class=\"data-frame\"><thead><tr><th></th><th>Column1</th><th>Unnamed: 0</th><th>hash</th><th>nonce</th><th>transaction_index</th><th>from_address</th><th>to_address</th><th>value</th><th>gas</th><th>gas_price</th><th>receipt_cumulative_gas_used</th><th>receipt_gas_used</th><th>receipt_contract_address</th><th>receipt_root</th><th>receipt_status</th><th>block_timestamp</th><th>block_number</th><th>block_hash</th><th>max_fee_per_gas</th><th>max_priority_fee_per_gas</th><th>transaction_type</th><th>receipt_effective_gas_price</th><th>tornado_cash_address</th><th>recipient_address</th></tr><tr><th></th><th>Int64</th><th>Int64</th><th>String</th><th>Int64</th><th>Int64</th><th>String</th><th>String</th><th>Int64</th><th>Int64</th><th>Int64</th><th>Int64</th><th>Int64</th><th>Missing</th><th>Missing</th><th>Int64</th><th>String</th><th>Int64</th><th>String</th><th>Float64?</th><th>Float64?</th><th>Float64?</th><th>Int64</th><th>String</th><th>String</th></tr></thead><tbody><p>83,782 rows × 24 columns</p><tr><th>1</th><td>0</td><td>7</td><td>0x3dc8617176f45c0f33a95589c202b22f9ba8aa7067bb92887517e20b237907e3</td><td>789</td><td>196</td><td>0x2d50dbcc960bec854227f51f8074e1da28bd4a37</td><td>0xa160cdab225685da1d56aa342ad8841c3b53f291</td><td>0</td><td>386384</td><td>121000000000</td><td>10382378</td><td>336384</td><td><em>missing</em></td><td><em>missing</em></td><td>1</td><td>2020-10-05 07:57:28 UTC</td><td>10994498</td><td>0xa96abb653dd6d4e3cedd6bd65fd0a7b034e4c9527be91cb80ee62d790714ab49</td><td><em>missing</em></td><td><em>missing</em></td><td><em>missing</em></td><td>121000000000</td><td>0xa160cdab225685da1d56aa342ad8841c3b53f291</td><td>0xd843ce0f9da3bd30537b9850711ab8089e06b4cf</td></tr><tr><th>2</th><td>1</td><td>8</td><td>0x3199144ba98021e523c5ec1e4f4dcf64446d69b825da7251d2d2a0a794038d0d</td><td>9</td><td>190</td><td>0xb77562124be8ac967cf7fc24573fe252aa39d95d</td><td>0x4736dcf1b7a3d580672cce6e7c65cd5cc9cfba9d</td><td>0</td><td>439456</td><td>13000000000</td><td>7303106</td><td>339456</td><td><em>missing</em></td><td><em>missing</em></td><td>1</td><td>2020-02-11 19:10:54 UTC</td><td>9463504</td><td>0x1e1dc9cec82d1dcd0e68e60968d180408007e148ac065261de232dc502dfb756</td><td><em>missing</em></td><td><em>missing</em></td><td><em>missing</em></td><td>13000000000</td><td>0x4736dcf1b7a3d580672cce6e7c65cd5cc9cfba9d</td><td>0xb77562124be8ac967cf7fc24573fe252aa39d95d</td></tr><tr><th>3</th><td>2</td><td>9</td><td>0x95a46a1305ddc8b7e01d82c7d6766fce4713c085929f70c9a24e90f927672699</td><td>2</td><td>81</td><td>0x0e54db73f82bd9fde34ebce53ea83bd197e9044c</td><td>0x4736dcf1b7a3d580672cce6e7c65cd5cc9cfba9d</td><td>0</td><td>439456</td><td>13200000000</td><td>3211601</td><td>339456</td><td><em>missing</em></td><td><em>missing</em></td><td>1</td><td>2020-02-16 16:05:14 UTC</td><td>9495139</td><td>0x1f0562c98f40f0689ed8bac422b4714289bd452d9290928b30f7defe0943381f</td><td><em>missing</em></td><td><em>missing</em></td><td><em>missing</em></td><td>13200000000</td><td>0x4736dcf1b7a3d580672cce6e7c65cd5cc9cfba9d</td><td>0x0e54db73f82bd9fde34ebce53ea83bd197e9044c</td></tr><tr><th>4</th><td>3</td><td>13</td><td>0x172a0a1618aa6c1f9f27a370236d8c91156fd6192ad11b91faa77bb852599b76</td><td>2024</td><td>189</td><td>0x2d50dbcc960bec854227f51f8074e1da28bd4a37</td><td>0x47ce0c6ed5b0ce3d3a51fdb1c52dc66a7c3c2936</td><td>0</td><td>384581</td><td>40000000000</td><td>11795370</td><td>343296</td><td><em>missing</em></td><td><em>missing</em></td><td>1</td><td>2020-11-09 17:08:00 UTC</td><td>11224582</td><td>0xe0ae8902495001fc28025238a74703c1b3d58282aaeef5fd5ca3fe9cb2d273ff</td><td><em>missing</em></td><td><em>missing</em></td><td><em>missing</em></td><td>40000000000</td><td>0x47ce0c6ed5b0ce3d3a51fdb1c52dc66a7c3c2936</td><td>0x42a9cf901e889ca8a685394854c27898dbff86b0</td></tr><tr><th>5</th><td>4</td><td>15</td><td>0x30becee80e63a039102df3b1243e5d314534abfcf3ed0fc4eadb2dc5b1c45ab7</td><td>2350</td><td>127</td><td>0x2d50dbcc960bec854227f51f8074e1da28bd4a37</td><td>0x47ce0c6ed5b0ce3d3a51fdb1c52dc66a7c3c2936</td><td>0</td><td>404304</td><td>15020000842</td><td>9771737</td><td>354304</td><td><em>missing</em></td><td><em>missing</em></td><td>1</td><td>2020-11-29 01:18:57 UTC</td><td>11350558</td><td>0x4d8f724d2bdffa546cef74d21c6c43968b566b67318e2f737a7c6b26b8781e56</td><td><em>missing</em></td><td><em>missing</em></td><td><em>missing</em></td><td>15020000842</td><td>0x47ce0c6ed5b0ce3d3a51fdb1c52dc66a7c3c2936</td><td>0xc9fb4b16800e61076326145e1066e876cf9f7a7b</td></tr><tr><th>6</th><td>5</td><td>16</td><td>0x5ef2e6d75efa800f009a84b27ae22609597edee8df8ee8699c004af233cf5855</td><td>999</td><td>120</td><td>0x2d50dbcc960bec854227f51f8074e1da28bd4a37</td><td>0x47ce0c6ed5b0ce3d3a51fdb1c52dc66a7c3c2936</td><td>0</td><td>404304</td><td>72000000000</td><td>8783549</td><td>354304</td><td><em>missing</em></td><td><em>missing</em></td><td>1</td><td>2020-10-11 18:09:09 UTC</td><td>11035787</td><td>0xb18729068418804f6c247b13e92236035f8303c43828c59d70b279166ca4f67a</td><td><em>missing</em></td><td><em>missing</em></td><td><em>missing</em></td><td>72000000000</td><td>0x47ce0c6ed5b0ce3d3a51fdb1c52dc66a7c3c2936</td><td>0x9453663da4123648bd00cb5600b97a4314ad0058</td></tr><tr><th>7</th><td>6</td><td>17</td><td>0x59d6d259118b41170550e5662c35b20c1b8ba795e420f6ce7a74772a9a834492</td><td>550</td><td>86</td><td>0x41a28335c5075c81502a97cebad597f28728a815</td><td>0x12d66f87a04a9e220743712ce6d9bb1b5616b8fc</td><td>0</td><td>404304</td><td>26000000000</td><td>4476696</td><td>354304</td><td><em>missing</em></td><td><em>missing</em></td><td>1</td><td>2020-05-26 22:55:55 UTC</td><td>10144176</td><td>0xd22e4252818d56d9a7b4bb6c7488842877db42771a497f175ba78cd7a1aa00c1</td><td><em>missing</em></td><td><em>missing</em></td><td><em>missing</em></td><td>26000000000</td><td>0x12d66f87a04a9e220743712ce6d9bb1b5616b8fc</td><td>0xd01ad76a2337354dd458fcbb6e507e001f06b77d</td></tr><tr><th>8</th><td>7</td><td>42</td><td>0x805b2ae79b5267a23e6c79d3324d43dae0f64e81f77f166c09dca9ff46cfc955</td><td>260</td><td>128</td><td>0xefab18983029d2ba840e34698efb67fdf8120711</td><td>0x12d66f87a04a9e220743712ce6d9bb1b5616b8fc</td><td>0</td><td>383057</td><td>5050000000</td><td>7284273</td><td>333057</td><td><em>missing</em></td><td><em>missing</em></td><td>1</td><td>2020-02-04 13:43:11 UTC</td><td>9416438</td><td>0x644ea6d8f078b89696758c59f74f93f0f226838593a79bcb9980f5815e023cbb</td><td><em>missing</em></td><td><em>missing</em></td><td><em>missing</em></td><td>5050000000</td><td>0x12d66f87a04a9e220743712ce6d9bb1b5616b8fc</td><td>0xb30cc0e7fc1f65bb3dd7ebd647a0f1aa78326f20</td></tr><tr><th>9</th><td>8</td><td>43</td><td>0x099005f439f7d44f5542af236dfd0ba7d93c75e9a32887950953f57cee730793</td><td>382</td><td>63</td><td>0xe0f87651d3b65641c0fe1b71c5fbe88236d4b2e6</td><td>0x910cbd523d972eb0a6f4cae4618ad62622b39dbf</td><td>0</td><td>383057</td><td>5000000000</td><td>4850052</td><td>333057</td><td><em>missing</em></td><td><em>missing</em></td><td>1</td><td>2020-02-04 04:38:21 UTC</td><td>9413944</td><td>0x004d8d989f3e0d3d9cfa0686e83a71d8e9c5f62d5fb9007779dfc1f3ec0bf88f</td><td><em>missing</em></td><td><em>missing</em></td><td><em>missing</em></td><td>5000000000</td><td>0x910cbd523d972eb0a6f4cae4618ad62622b39dbf</td><td>0x6242058d3dcb38abe97f923f58dbc0b8c62e71c8</td></tr><tr><th>10</th><td>9</td><td>44</td><td>0x95d478a0b607f7c0d27ab1b522ce47c67c8281200154097a95f8fc0307ca67c4</td><td>668</td><td>110</td><td>0x7d3bb46c78b0c4949639ce34896bfd875b97ad08</td><td>0x47ce0c6ed5b0ce3d3a51fdb1c52dc66a7c3c2936</td><td>0</td><td>383057</td><td>20000000000</td><td>6939655</td><td>333057</td><td><em>missing</em></td><td><em>missing</em></td><td>1</td><td>2020-05-07 19:45:40 UTC</td><td>10021096</td><td>0x76d769c2b29d67aaeaf25f68b4b30c099f8c51f7e1fc7711c926211458326a40</td><td><em>missing</em></td><td><em>missing</em></td><td><em>missing</em></td><td>20000000000</td><td>0x47ce0c6ed5b0ce3d3a51fdb1c52dc66a7c3c2936</td><td>0x4d0b6b63674a50839e54c75a4ab3bb3c9aedc3e9</td></tr><tr><th>&vellip;</th><td>&vellip;</td><td>&vellip;</td><td>&vellip;</td><td>&vellip;</td><td>&vellip;</td><td>&vellip;</td><td>&vellip;</td><td>&vellip;</td><td>&vellip;</td><td>&vellip;</td><td>&vellip;</td><td>&vellip;</td><td>&vellip;</td><td>&vellip;</td><td>&vellip;</td><td>&vellip;</td><td>&vellip;</td><td>&vellip;</td><td>&vellip;</td><td>&vellip;</td><td>&vellip;</td><td>&vellip;</td><td>&vellip;</td><td>&vellip;</td></tr></tbody></table>"
      ],
      "text/latex": [
       "\\begin{tabular}{r|cccccccccccccccccccccccc}\n",
       "\t& Column1 & Unnamed: 0 & hash & nonce & transaction\\_index & from\\_address & to\\_address & value & gas & gas\\_price & receipt\\_cumulative\\_gas\\_used & receipt\\_gas\\_used & receipt\\_contract\\_address & receipt\\_root & receipt\\_status & block\\_timestamp & block\\_number & block\\_hash & max\\_fee\\_per\\_gas & max\\_priority\\_fee\\_per\\_gas & transaction\\_type & receipt\\_effective\\_gas\\_price & tornado\\_cash\\_address & recipient\\_address\\\\\n",
       "\t\\hline\n",
       "\t& Int64 & Int64 & String & Int64 & Int64 & String & String & Int64 & Int64 & Int64 & Int64 & Int64 & Missing & Missing & Int64 & String & Int64 & String & Float64? & Float64? & Float64? & Int64 & String & String\\\\\n",
       "\t\\hline\n",
       "\t1 & 0 & 7 & 0x3dc8617176f45c0f33a95589c202b22f9ba8aa7067bb92887517e20b237907e3 & 789 & 196 & 0x2d50dbcc960bec854227f51f8074e1da28bd4a37 & 0xa160cdab225685da1d56aa342ad8841c3b53f291 & 0 & 386384 & 121000000000 & 10382378 & 336384 & \\emph{missing} & \\emph{missing} & 1 & 2020-10-05 07:57:28 UTC & 10994498 & 0xa96abb653dd6d4e3cedd6bd65fd0a7b034e4c9527be91cb80ee62d790714ab49 & \\emph{missing} & \\emph{missing} & \\emph{missing} & 121000000000 & 0xa160cdab225685da1d56aa342ad8841c3b53f291 & 0xd843ce0f9da3bd30537b9850711ab8089e06b4cf \\\\\n",
       "\t2 & 1 & 8 & 0x3199144ba98021e523c5ec1e4f4dcf64446d69b825da7251d2d2a0a794038d0d & 9 & 190 & 0xb77562124be8ac967cf7fc24573fe252aa39d95d & 0x4736dcf1b7a3d580672cce6e7c65cd5cc9cfba9d & 0 & 439456 & 13000000000 & 7303106 & 339456 & \\emph{missing} & \\emph{missing} & 1 & 2020-02-11 19:10:54 UTC & 9463504 & 0x1e1dc9cec82d1dcd0e68e60968d180408007e148ac065261de232dc502dfb756 & \\emph{missing} & \\emph{missing} & \\emph{missing} & 13000000000 & 0x4736dcf1b7a3d580672cce6e7c65cd5cc9cfba9d & 0xb77562124be8ac967cf7fc24573fe252aa39d95d \\\\\n",
       "\t3 & 2 & 9 & 0x95a46a1305ddc8b7e01d82c7d6766fce4713c085929f70c9a24e90f927672699 & 2 & 81 & 0x0e54db73f82bd9fde34ebce53ea83bd197e9044c & 0x4736dcf1b7a3d580672cce6e7c65cd5cc9cfba9d & 0 & 439456 & 13200000000 & 3211601 & 339456 & \\emph{missing} & \\emph{missing} & 1 & 2020-02-16 16:05:14 UTC & 9495139 & 0x1f0562c98f40f0689ed8bac422b4714289bd452d9290928b30f7defe0943381f & \\emph{missing} & \\emph{missing} & \\emph{missing} & 13200000000 & 0x4736dcf1b7a3d580672cce6e7c65cd5cc9cfba9d & 0x0e54db73f82bd9fde34ebce53ea83bd197e9044c \\\\\n",
       "\t4 & 3 & 13 & 0x172a0a1618aa6c1f9f27a370236d8c91156fd6192ad11b91faa77bb852599b76 & 2024 & 189 & 0x2d50dbcc960bec854227f51f8074e1da28bd4a37 & 0x47ce0c6ed5b0ce3d3a51fdb1c52dc66a7c3c2936 & 0 & 384581 & 40000000000 & 11795370 & 343296 & \\emph{missing} & \\emph{missing} & 1 & 2020-11-09 17:08:00 UTC & 11224582 & 0xe0ae8902495001fc28025238a74703c1b3d58282aaeef5fd5ca3fe9cb2d273ff & \\emph{missing} & \\emph{missing} & \\emph{missing} & 40000000000 & 0x47ce0c6ed5b0ce3d3a51fdb1c52dc66a7c3c2936 & 0x42a9cf901e889ca8a685394854c27898dbff86b0 \\\\\n",
       "\t5 & 4 & 15 & 0x30becee80e63a039102df3b1243e5d314534abfcf3ed0fc4eadb2dc5b1c45ab7 & 2350 & 127 & 0x2d50dbcc960bec854227f51f8074e1da28bd4a37 & 0x47ce0c6ed5b0ce3d3a51fdb1c52dc66a7c3c2936 & 0 & 404304 & 15020000842 & 9771737 & 354304 & \\emph{missing} & \\emph{missing} & 1 & 2020-11-29 01:18:57 UTC & 11350558 & 0x4d8f724d2bdffa546cef74d21c6c43968b566b67318e2f737a7c6b26b8781e56 & \\emph{missing} & \\emph{missing} & \\emph{missing} & 15020000842 & 0x47ce0c6ed5b0ce3d3a51fdb1c52dc66a7c3c2936 & 0xc9fb4b16800e61076326145e1066e876cf9f7a7b \\\\\n",
       "\t6 & 5 & 16 & 0x5ef2e6d75efa800f009a84b27ae22609597edee8df8ee8699c004af233cf5855 & 999 & 120 & 0x2d50dbcc960bec854227f51f8074e1da28bd4a37 & 0x47ce0c6ed5b0ce3d3a51fdb1c52dc66a7c3c2936 & 0 & 404304 & 72000000000 & 8783549 & 354304 & \\emph{missing} & \\emph{missing} & 1 & 2020-10-11 18:09:09 UTC & 11035787 & 0xb18729068418804f6c247b13e92236035f8303c43828c59d70b279166ca4f67a & \\emph{missing} & \\emph{missing} & \\emph{missing} & 72000000000 & 0x47ce0c6ed5b0ce3d3a51fdb1c52dc66a7c3c2936 & 0x9453663da4123648bd00cb5600b97a4314ad0058 \\\\\n",
       "\t7 & 6 & 17 & 0x59d6d259118b41170550e5662c35b20c1b8ba795e420f6ce7a74772a9a834492 & 550 & 86 & 0x41a28335c5075c81502a97cebad597f28728a815 & 0x12d66f87a04a9e220743712ce6d9bb1b5616b8fc & 0 & 404304 & 26000000000 & 4476696 & 354304 & \\emph{missing} & \\emph{missing} & 1 & 2020-05-26 22:55:55 UTC & 10144176 & 0xd22e4252818d56d9a7b4bb6c7488842877db42771a497f175ba78cd7a1aa00c1 & \\emph{missing} & \\emph{missing} & \\emph{missing} & 26000000000 & 0x12d66f87a04a9e220743712ce6d9bb1b5616b8fc & 0xd01ad76a2337354dd458fcbb6e507e001f06b77d \\\\\n",
       "\t8 & 7 & 42 & 0x805b2ae79b5267a23e6c79d3324d43dae0f64e81f77f166c09dca9ff46cfc955 & 260 & 128 & 0xefab18983029d2ba840e34698efb67fdf8120711 & 0x12d66f87a04a9e220743712ce6d9bb1b5616b8fc & 0 & 383057 & 5050000000 & 7284273 & 333057 & \\emph{missing} & \\emph{missing} & 1 & 2020-02-04 13:43:11 UTC & 9416438 & 0x644ea6d8f078b89696758c59f74f93f0f226838593a79bcb9980f5815e023cbb & \\emph{missing} & \\emph{missing} & \\emph{missing} & 5050000000 & 0x12d66f87a04a9e220743712ce6d9bb1b5616b8fc & 0xb30cc0e7fc1f65bb3dd7ebd647a0f1aa78326f20 \\\\\n",
       "\t9 & 8 & 43 & 0x099005f439f7d44f5542af236dfd0ba7d93c75e9a32887950953f57cee730793 & 382 & 63 & 0xe0f87651d3b65641c0fe1b71c5fbe88236d4b2e6 & 0x910cbd523d972eb0a6f4cae4618ad62622b39dbf & 0 & 383057 & 5000000000 & 4850052 & 333057 & \\emph{missing} & \\emph{missing} & 1 & 2020-02-04 04:38:21 UTC & 9413944 & 0x004d8d989f3e0d3d9cfa0686e83a71d8e9c5f62d5fb9007779dfc1f3ec0bf88f & \\emph{missing} & \\emph{missing} & \\emph{missing} & 5000000000 & 0x910cbd523d972eb0a6f4cae4618ad62622b39dbf & 0x6242058d3dcb38abe97f923f58dbc0b8c62e71c8 \\\\\n",
       "\t10 & 9 & 44 & 0x95d478a0b607f7c0d27ab1b522ce47c67c8281200154097a95f8fc0307ca67c4 & 668 & 110 & 0x7d3bb46c78b0c4949639ce34896bfd875b97ad08 & 0x47ce0c6ed5b0ce3d3a51fdb1c52dc66a7c3c2936 & 0 & 383057 & 20000000000 & 6939655 & 333057 & \\emph{missing} & \\emph{missing} & 1 & 2020-05-07 19:45:40 UTC & 10021096 & 0x76d769c2b29d67aaeaf25f68b4b30c099f8c51f7e1fc7711c926211458326a40 & \\emph{missing} & \\emph{missing} & \\emph{missing} & 20000000000 & 0x47ce0c6ed5b0ce3d3a51fdb1c52dc66a7c3c2936 & 0x4d0b6b63674a50839e54c75a4ab3bb3c9aedc3e9 \\\\\n",
       "\t$\\dots$ & $\\dots$ & $\\dots$ & $\\dots$ & $\\dots$ & $\\dots$ & $\\dots$ & $\\dots$ & $\\dots$ & $\\dots$ & $\\dots$ & $\\dots$ & $\\dots$ & $\\dots$ & $\\dots$ & $\\dots$ & $\\dots$ & $\\dots$ & $\\dots$ & $\\dots$ & $\\dots$ & $\\dots$ & $\\dots$ & $\\dots$ & $\\dots$ \\\\\n",
       "\\end{tabular}\n"
      ],
      "text/plain": [
       "\u001b[1m83782×24 DataFrame\u001b[0m\n",
       "\u001b[1m   Row \u001b[0m│\u001b[1m Column1 \u001b[0m\u001b[1m Unnamed: 0 \u001b[0m\u001b[1m hash                              \u001b[0m\u001b[1m nonce \u001b[0m\u001b[1m transaction_index \u001b[0m\u001b[1m from_address                      \u001b[0m\u001b[1m to_address                        \u001b[0m\u001b[1m value \u001b[0m\u001b[1m gas    \u001b[0m\u001b[1m gas_price    \u001b[0m\u001b[1m receipt_cumulative_gas_used \u001b[0m\u001b[1m receipt_gas_used \u001b[0m\u001b[1m receipt_contract_address \u001b[0m\u001b[1m receipt_root \u001b[0m\u001b[1m receipt_status \u001b[0m\u001b[1m block_timestamp         \u001b[0m\u001b[1m block_number \u001b[0m\u001b[1m block_hash                        \u001b[0m\u001b[1m max_fee_per_gas  \u001b[0m\u001b[1m max_priority_fee_per_gas \u001b[0m\u001b[1m transaction_type \u001b[0m\u001b[1m receipt_effective_gas_price \u001b[0m\u001b[1m tornado_cash_address              \u001b[0m\u001b[1m recipient_address                 \u001b[0m\n",
       "\u001b[1m       \u001b[0m│\u001b[90m Int64   \u001b[0m\u001b[90m Int64      \u001b[0m\u001b[90m String                            \u001b[0m\u001b[90m Int64 \u001b[0m\u001b[90m Int64             \u001b[0m\u001b[90m String                            \u001b[0m\u001b[90m String                            \u001b[0m\u001b[90m Int64 \u001b[0m\u001b[90m Int64  \u001b[0m\u001b[90m Int64        \u001b[0m\u001b[90m Int64                       \u001b[0m\u001b[90m Int64            \u001b[0m\u001b[90m Missing                  \u001b[0m\u001b[90m Missing      \u001b[0m\u001b[90m Int64          \u001b[0m\u001b[90m String                  \u001b[0m\u001b[90m Int64        \u001b[0m\u001b[90m String                            \u001b[0m\u001b[90m Float64?         \u001b[0m\u001b[90m Union{Missing, Float64}  \u001b[0m\u001b[90m Float64?         \u001b[0m\u001b[90m Int64                       \u001b[0m\u001b[90m String                            \u001b[0m\u001b[90m String                            \u001b[0m\n",
       "───────┼───────────────────────────────────────────────────────────────────────────────────────────────────────────────────────────────────────────────────────────────────────────────────────────────────────────────────────────────────────────────────────────────────────────────────────────────────────────────────────────────────────────────────────────────────────────────────────────────────────────────────────────────────────────────────────────────────────────────────────────────────────────────────────────────────────\n",
       "     1 │       0           7  0x3dc8617176f45c0f33a95589c202b2…    789                196  0x2d50dbcc960bec854227f51f8074e1…  0xa160cdab225685da1d56aa342ad884…      0  386384  121000000000                     10382378            336384 \u001b[90m                  missing \u001b[0m\u001b[90m      missing \u001b[0m              1  2020-10-05 07:57:28 UTC      10994498  0xa96abb653dd6d4e3cedd6bd65fd0a7… \u001b[90m missing          \u001b[0m\u001b[90m          missing         \u001b[0m\u001b[90m        missing   \u001b[0m                121000000000  0xa160cdab225685da1d56aa342ad884…  0xd843ce0f9da3bd30537b9850711ab8…\n",
       "   ⋮   │    ⋮         ⋮                       ⋮                    ⋮            ⋮                          ⋮                                  ⋮                    ⋮      ⋮          ⋮                     ⋮                      ⋮                     ⋮                   ⋮              ⋮                    ⋮                  ⋮                        ⋮                         ⋮                     ⋮                     ⋮                       ⋮                               ⋮                                  ⋮\n",
       "\u001b[36m                                                                                                                                                                                                                                                                                                                                                                                                                                                                                                                             83781 rows omitted\u001b[0m"
      ]
     },
     "execution_count": 4,
     "metadata": {},
     "output_type": "execute_result"
    }
   ],
   "source": [
    "withdraw_transactions_df"
   ]
  },
  {
   "cell_type": "code",
   "execution_count": 5,
   "id": "e494464d",
   "metadata": {},
   "outputs": [
    {
     "data": {
      "text/plain": [
       "addresses_to_transactions (generic function with 1 method)"
      ]
     },
     "execution_count": 5,
     "metadata": {},
     "output_type": "execute_result"
    }
   ],
   "source": [
    "function addresses_to_transactions(transactions_df)\n",
    "    \n",
    "    # Initialize empty dictionary to store addresses and associated transactions.\n",
    "    \n",
    "    address_to_transactions_dict = Dict{String, Vector{Tuple{String, String, String}}}()\n",
    "    \n",
    "    # We iterate over every transaction in the transactions DataFrame.\n",
    "    \n",
    "    for row in ProgressBar(eachrow(transactions_df),  printing_delay=5)\n",
    "\n",
    "        \"\"\"\n",
    "        We check if the address of the current transaction in the iteration is already in the \n",
    "        dictionary. If it isn't, then we initialize that key and the list with the tuple. The\n",
    "        tuple will consist of the hash and the timestamp of the current transaction.\n",
    "        \n",
    "        If the key already exists, we append to the associated list the tuple of the hash and\n",
    "        timestamp of the current transaction.\n",
    "        \"\"\"\n",
    "         \n",
    "        if row.from_address ∉ Set(keys(address_to_transactions_dict))\n",
    "            address_to_transactions_dict[row.from_address] = [(row.hash, row.block_timestamp, row.tornado_cash_address)]\n",
    "            #println(\"if\")\n",
    "        else\n",
    "            #println(address_to_transactions_dict[row.from_address])\n",
    "            push!(address_to_transactions_dict[row.from_address], (row.hash, row.block_timestamp, row.tornado_cash_address) )\n",
    "        # The dictionary with the addresses and transactions is returned.\n",
    "        end\n",
    "    \n",
    "    end\n",
    "    \n",
    "    return address_to_transactions_dict\n",
    "end"
   ]
  },
  {
   "cell_type": "markdown",
   "id": "0c512068",
   "metadata": {},
   "source": [
    "### Function summary: same_deposit_and_recipient_addresses_heuristic\n",
    "\n",
    "The function receives a particular withdraw transaction and a dictionary corresponding to what is returned by function addresses_to_transactions.\n",
    "\n",
    "It returns a tuple:\n",
    "\n",
    "* (True, list_of_same_address_deposit_hashes): When same address deposits are found, this tuple is returned. In the first element a boolean true, and the second is a list with all the deposit hashes that verify having the same address as the withdraw transaction.\n",
    "\n",
    "* (False, None): When no such deposit was found"
   ]
  },
  {
   "cell_type": "code",
   "execution_count": 6,
   "id": "ce2c4cd6",
   "metadata": {},
   "outputs": [
    {
     "data": {
      "text/plain": [
       "same_deposit_and_recipient_address_heuristic (generic function with 1 method)"
      ]
     },
     "execution_count": 6,
     "metadata": {},
     "output_type": "execute_result"
    }
   ],
   "source": [
    "function same_deposit_and_recipient_address_heuristic(withdraw_transaction, deposit_addresses_to_transactions)\n",
    "    \n",
    "    \"\"\"\n",
    "    Check if the address of the withdraw tx is in the deposit_addresses_to_transactions keys.\n",
    "    If it is, then a list is created with the hashes of all the deposit txs with the same address and\n",
    "    with an earlier timestamp than the withdraw tx.\n",
    "    If the address is not in the deposit_addresses_to_transactions dictionary, (False, None) is returned.\n",
    "    \"\"\"\n",
    "    \n",
    "    if withdraw_transaction.recipient_address in Set(keys(deposit_addresses_to_transactions))\n",
    "        \n",
    "        # Only the transactions with earlier timestamps and same pool are selected for the list same_deposit_address_hashes.\n",
    "        same_deposit_address_hashes = [tx_hash[1] for tx_hash in deposit_addresses_to_transactions[withdraw_transaction.recipient_address] if (tx_hash[2] <= withdraw_transaction.block_timestamp) && (tx_hash[3] == withdraw_transaction.tornado_cash_address)]\n",
    "   \n",
    "        # Final check to assert that list is not empty.\n",
    "        if length(same_deposit_address_hashes) > 0\n",
    "            return (true, same_deposit_address_hashes)\n",
    "        else\n",
    "            return (false, nothing)\n",
    "        end\n",
    "        \n",
    "    end\n",
    "        \n",
    "    return (false, nothing)\n",
    "end"
   ]
  },
  {
   "cell_type": "markdown",
   "id": "9f4c16ea",
   "metadata": {},
   "source": [
    "\n",
    "### Function summary: apply_same_deposit_and_recipient_addresses_heuristic\n",
    "\n",
    "Receives the withdraw and deposit transactions, and applies the first heuristic for each withdraw transaction. Returns a dictionary, with keys as the hash of each withdraw transaction were a same deposit address was detected. The values are the hashes of all deposits matching this criteria.\n"
   ]
  },
  {
   "cell_type": "code",
   "execution_count": 7,
   "id": "0cf7c85c",
   "metadata": {},
   "outputs": [
    {
     "data": {
      "text/plain": [
       "apply_same_deposit_and_recpient_address_heuristic (generic function with 1 method)"
      ]
     },
     "execution_count": 7,
     "metadata": {},
     "output_type": "execute_result"
    }
   ],
   "source": [
    "function apply_same_deposit_and_recpient_address_heuristic(withdraw_transactions_df, deposit_transactions_df)\n",
    "    \n",
    "    # Initialize an empty dictionary for storing the links between withdraw hashes and deposit hashes with the \n",
    "    # same address.\n",
    "    \n",
    "    deposit_addresses_and_transactions = addresses_to_transactions(deposit_transactions_df)\n",
    "    \n",
    "    same_deposit_address_hashes = Dict()\n",
    "    \n",
    "    # Iterate over the withdraw transactions and apply heuristic one. For each withdraw with matching deposit\n",
    "    # transactions, a new element is added to the dictionary with the key as the withdraw hash and the values\n",
    "    # as all matching deposit hashes.\n",
    "        \n",
    "    for withdraw_row_tuple in ProgressBar(eachrow(withdraw_transactions_df), printing_delay=5)\n",
    "        deposit_hashes = same_deposit_and_recipient_address_heuristic(withdraw_row_tuple, deposit_addresses_and_transactions)\n",
    "        if deposit_hashes[1]\n",
    "            same_deposit_address_hashes[withdraw_row_tuple.hash] = deposit_hashes[2]\n",
    "        end\n",
    "\n",
    "    end\n",
    "    \n",
    "    # Return the dictionary with the links\n",
    "    return same_deposit_address_hashes\n",
    "end"
   ]
  },
  {
   "cell_type": "code",
   "execution_count": null,
   "id": "fc8bfdfe",
   "metadata": {
    "scrolled": false
   },
   "outputs": [
    {
     "name": "stderr",
     "output_type": "stream",
     "text": [
      "0.0%┣                                     ┫ 0/97.4k [00:05<-135:-13:-45, -5s/it]\n",
      "0.0%┣                                        ┫ 1/97.4k [00:05<Inf:Inf, InfGs/it]\n",
      "16.8%┣██████▏                              ┫ 16.3k/97.4k [00:10<00:51, 1.6kit/s]\n",
      "25.0%┣█████████▎                           ┫ 24.4k/97.4k [00:15<00:46, 1.6kit/s]\n",
      "30.6%┣███████████▎                         ┫ 29.8k/97.4k [00:20<00:46, 1.5kit/s]\n",
      "34.9%┣█████████████                        ┫ 34.0k/97.4k [00:25<00:47, 1.3kit/s]\n",
      "38.6%┣██████████████▎                      ┫ 37.6k/97.4k [00:30<00:48, 1.2kit/s]\n",
      "42.1%┣███████████████▋                     ┫ 41.0k/97.4k [00:35<00:49, 1.2kit/s]\n",
      "45.9%┣█████████████████                    ┫ 44.7k/97.4k [00:40<00:48, 1.1kit/s]\n",
      "49.7%┣██████████████████▍                  ┫ 48.4k/97.4k [00:45<00:46, 1.1kit/s]\n",
      "53.4%┣███████████████████▊                 ┫ 52.0k/97.4k [00:50<00:44, 1.0kit/s]\n",
      "57.0%┣█████████████████████                ┫ 55.5k/97.4k [00:55<00:42, 1.0kit/s]\n",
      "60.4%┣███████████████████████               ┫ 58.8k/97.4k [01:00<00:40, 974it/s]\n",
      "63.4%┣████████████████████████              ┫ 61.7k/97.4k [01:05<00:38, 945it/s]\n",
      "66.1%┣█████████████████████████▏            ┫ 64.4k/97.4k [01:10<00:36, 915it/s]\n",
      "68.8%┣██████████████████████████▏           ┫ 67.0k/97.4k [01:15<00:34, 890it/s]\n",
      "71.5%┣███████████████████████████▏          ┫ 69.6k/97.4k [01:20<00:32, 866it/s]\n",
      "74.1%┣████████████████████████████▏         ┫ 72.1k/97.4k [01:25<00:30, 845it/s]\n",
      "76.7%┣█████████████████████████████▏        ┫ 74.7k/97.4k [01:30<00:27, 826it/s]\n",
      "79.2%┣██████████████████████████████▏       ┫ 77.2k/97.4k [01:35<00:25, 809it/s]\n",
      "81.6%┣███████████████████████████████       ┫ 79.4k/97.4k [01:40<00:23, 791it/s]\n",
      "83.9%┣███████████████████████████████▉      ┫ 81.7k/97.4k [01:45<00:20, 775it/s]\n",
      "86.1%┣████████████████████████████████▊     ┫ 83.9k/97.4k [01:50<00:18, 760it/s]\n",
      "88.3%┣█████████████████████████████████▋    ┫ 86.0k/97.4k [01:55<00:15, 746it/s]\n",
      "90.4%┣██████████████████████████████████▍   ┫ 88.0k/97.4k [02:00<00:13, 731it/s]\n",
      "92.2%┣███████████████████████████████████   ┫ 89.8k/97.4k [02:05<00:11, 716it/s]\n",
      "94.7%┣████████████████████████████████████  ┫ 92.2k/97.4k [02:10<00:07, 707it/s]\n",
      "97.1%┣████████████████████████████████████▉ ┫ 94.5k/97.4k [02:15<00:04, 698it/s]\n",
      "99.4%┣█████████████████████████████████████▊┫ 96.8k/97.4k [02:20<00:01, 689it/s]\n",
      "100.0%┣█████████████████████████████████████┫ 97.4k/97.4k [02:22<00:00, 687it/s]\n",
      "0.0%┣                                     ┫ 0/83.8k [00:05<-116:-21:-50, -5s/it]\n",
      "0.0%┣                                        ┫ 1/83.8k [00:05<Inf:Inf, InfGs/it]\n",
      "2.7%┣█                                       ┫ 2.2k/83.8k [00:10<06:08, 222it/s]\n",
      "5.3%┣██▏                                     ┫ 4.5k/83.8k [00:15<04:29, 295it/s]\n",
      "8.0%┣███▏                                    ┫ 6.7k/83.8k [00:20<03:51, 334it/s]\n",
      "10.7%┣████▏                                  ┫ 8.9k/83.8k [00:25<03:30, 356it/s]\n",
      "13.3%┣█████                                 ┫ 11.2k/83.8k [00:30<03:15, 371it/s]\n",
      "16.0%┣██████                                ┫ 13.4k/83.8k [00:35<03:04, 382it/s]\n",
      "18.7%┣███████                               ┫ 15.7k/83.8k [00:40<02:54, 391it/s]\n",
      "21.3%┣████████                              ┫ 17.8k/83.8k [00:45<02:47, 395it/s]\n",
      "24.0%┣█████████                             ┫ 20.1k/83.8k [00:50<02:39, 401it/s]\n",
      "26.6%┣██████████▏                           ┫ 22.3k/83.8k [00:55<02:32, 405it/s]\n",
      "29.3%┣███████████▏                          ┫ 24.5k/83.8k [01:00<02:25, 408it/s]\n",
      "31.9%┣████████████▏                         ┫ 26.7k/83.8k [01:05<02:19, 411it/s]\n",
      "34.5%┣█████████████▏                        ┫ 28.9k/83.8k [01:10<02:13, 413it/s]\n",
      "37.2%┣██████████████▏                       ┫ 31.1k/83.8k [01:15<02:07, 415it/s]\n",
      "39.7%┣███████████████                       ┫ 33.3k/83.8k [01:20<02:02, 415it/s]\n",
      "42.2%┣████████████████                      ┫ 35.3k/83.8k [01:25<01:57, 415it/s]\n",
      "44.7%┣█████████████████                     ┫ 37.4k/83.8k [01:30<01:52, 415it/s]\n",
      "47.1%┣██████████████████                    ┫ 39.5k/83.8k [01:35<01:47, 415it/s]\n",
      "49.6%┣██████████████████▉                   ┫ 41.6k/83.8k [01:40<01:42, 415it/s]\n",
      "52.2%┣███████████████████▉                  ┫ 43.7k/83.8k [01:45<01:36, 416it/s]\n",
      "54.7%┣████████████████████▉                 ┫ 45.9k/83.8k [01:50<01:31, 416it/s]\n",
      "57.3%┣█████████████████████▊                ┫ 48.0k/83.8k [01:55<01:26, 417it/s]\n",
      "59.7%┣██████████████████████▊               ┫ 50.0k/83.8k [02:00<01:21, 416it/s]\n",
      "62.2%┣███████████████████████▋              ┫ 52.1k/83.8k [02:05<01:16, 416it/s]\n",
      "64.6%┣████████████████████████▋             ┫ 54.2k/83.8k [02:10<01:11, 416it/s]\n",
      "67.1%┣█████████████████████████▌            ┫ 56.2k/83.8k [02:15<01:06, 416it/s]\n",
      "69.5%┣██████████████████████████▍           ┫ 58.2k/83.8k [02:20<01:01, 416it/s]\n",
      "71.8%┣███████████████████████████▎          ┫ 60.2k/83.8k [02:25<00:57, 415it/s]\n",
      "74.3%┣████████████████████████████▏         ┫ 62.2k/83.8k [02:30<00:52, 414it/s]\n",
      "76.7%┣█████████████████████████████▏        ┫ 64.2k/83.8k [02:35<00:47, 414it/s]\n",
      "\u001b[1A"
     ]
    }
   ],
   "source": [
    "hashes_dict = apply_same_deposit_and_recpient_address_heuristic(withdraw_transactions_df, deposit_transactions_df);"
   ]
  },
  {
   "cell_type": "code",
   "execution_count": null,
   "id": "9cfdd4c1",
   "metadata": {
    "scrolled": true
   },
   "outputs": [],
   "source": [
    "linked_deposits_count = map( x -> length(x), values(hashes_dict))"
   ]
  },
  {
   "cell_type": "code",
   "execution_count": null,
   "id": "9f7691ea",
   "metadata": {},
   "outputs": [],
   "source": [
    "length(linked_deposits_count)"
   ]
  },
  {
   "cell_type": "code",
   "execution_count": null,
   "id": "90516b19",
   "metadata": {
    "scrolled": true
   },
   "outputs": [],
   "source": [
    "histogram(linked_deposits_count, bins=100, label = false)\n",
    "title!(\"Histogram of number of deposits linked to withdraws\")\n",
    "xlabel!(\"Number of deposits\")"
   ]
  },
  {
   "cell_type": "code",
   "execution_count": null,
   "id": "201fac1c",
   "metadata": {},
   "outputs": [],
   "source": []
  }
 ],
 "metadata": {
  "kernelspec": {
   "display_name": "Julia 1.6.1",
   "language": "julia",
   "name": "julia-1.6"
  },
  "language_info": {
   "file_extension": ".jl",
   "mimetype": "application/julia",
   "name": "julia",
   "version": "1.6.3"
  }
 },
 "nbformat": 4,
 "nbformat_minor": 5
}
