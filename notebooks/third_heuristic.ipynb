{
 "cells": [
  {
   "cell_type": "markdown",
   "id": "b919853c",
   "metadata": {},
   "source": [
    "## Heuristic 3 - Transactions outside TCash\n",
    "\n",
    "### Overview\n",
    "The main goal of this heuristic is to link Ethereum accounts which interacted with TCash by inspecting Ethereum transactions outside it. \n",
    "\n",
    "This is done constructing two sets, one corresponding to the unique TCash deposit addresses ($S_{D}$) and one to the unique TCash withdraw addresses ($S_{W}$), to then make a query to reveal transactions between addresses of each set.\n",
    "\n",
    "Withdraw transactions are inspected one by one, searching for Ethereum transactions done between the withdraw address and any of the deposit addresses. When such a transaction is found, the withdraw transaction is linked with all the deposits of the deposit addresses that were done before the withdraw.\n",
    "\n",
    "\n",
    "### Data\n",
    "The query to the public BigQuery database was done like so,\n",
    "\n",
    "```\n",
    "INSERT `tornado_cash_transactions.transactions_between_withdraw_and_deposit_addresses` \n",
    "SELECT * FROM `bigquery-public-data.crypto_ethereum.transactions`\n",
    "WHERE \n",
    "    (\n",
    "       (`from_address` IN ( SELECT `from_address` FROM `tornado_cash_transactions.deposit_addresses`))\n",
    "       AND \n",
    "       (`to_address` IN ( SELECT `withdraw_address` FROM `tornado_cash_transactions.withdraw_addresses`))\n",
    "    )\n",
    "    OR\n",
    "    (\n",
    "       (`from_address` IN (  SELECT `withdraw_address` FROM `tornado_cash_transactions.withdraw_addresses`))\n",
    "       AND \n",
    "       (`to_address` IN ( SELECT `from_address` FROM `tornado_cash_transactions.deposit_addresses`))\n",
    "    )\n",
    "```\n",
    "\n",
    "The resulting table has two columns, **from_address** and **to_address**, and each row corresponds to a transaction done between a TCash deposit address and a TCash withdraw address, outside TCash.\n",
    "From this table, we want to know which of the two addresses was the one that made the deposit and which one made the withdraw. In this way, we are able to link the corresponding deposit and withdraw transactions.\n",
    "\n",
    "For example, consider this entry from the resulting table,\n",
    "\n",
    "| from_address  | to_address  |\n",
    "|---------------|-------------|\n",
    "| address1      | address2    |\n",
    "\n",
    "Suppose that `address1` is an address that withdrawed in TCash and `address2` one that made a deposit. Then, we want to transform said entry to one with colums **deposit_address** and **withdraw_address** like so,\n",
    "\n",
    "| deposit_address | withdraw_address |\n",
    "|-----------------|------------------|\n",
    "| address2        | address1         |\n",
    "\n",
    "With this new table, it is straightforward to make de linking between TCash transactions. With it, we can create a mapping to know with what deposit addresses each withdraw address interacted with.\n",
    "\n",
    "\n",
    "### Some definitions \n",
    "A problem raises when there are addresses that belong to the two sets of TCash addresses $S_{D}$ and $S_{W}$.\n",
    "Let us define an address of type `D` when it belongs to $S_{D}$ and not to $S_{W}$.\n",
    "Likewise, an address of type `W` is defined when it belongs to $S_{W}$ and not to $S_{D}$. \n",
    "Finally, when an address belongs to both sets, we classify it as a `DW` type.\n",
    "\n",
    "For the cases where we got outside TCash transactions of type `D -> W` (i.e., a transaction from a *D* type address to a *W* type address) or `W -> D` (i.e., a transaction from a *W* type address to a *D* type address), it is trivial to transform this entry to the new table.\n",
    "\n",
    "In the cases where we have transactions of type `DW -> W`, `DW -> D`, `W -> DW` and `D -> DW`, it is also straightforward to transform the corresponding entries. For example, consider again this particular entry of Ethereum transactions table,\n",
    "\n",
    "\n",
    "| from_address  | to_address  |\n",
    "|---------------|-------------|\n",
    "| address1      | address2    |\n",
    "\n",
    "\n",
    "Suppose now that `address1` is of type `DW` and `address2` of type `D`. Then, `address2` is trivially placed in the `deposit_address` column. By a process of elimination, then `address1` is set in `withdraw_address` column,\n",
    "\n",
    "\n",
    "| deposit_address | withdraw_address |\n",
    "|-----------------|------------------|\n",
    "| address2        | address1         |\n",
    "\n",
    "\n",
    "When we have a transaction of type `DW -> DW`, it cannot be known which address deposited and which one made the withdraw, so the two combinations are considered. Considering again the same entry, the resulting table will be as follows,\n",
    "\n",
    "| deposit_address | withdraw_address |\n",
    "|-----------------|------------------|\n",
    "| address1        | address2         |\n",
    "| address2        | address1         |\n",
    "\n",
    "\n",
    "Then, deposits of `address1` are linked to withdraws of `address2` and deposits of `address2` are linked to withdraws of `address1`.\n",
    "\n",
    "\n",
    "### Results data structure\n",
    "The results of this heuristic are returned as a dictionary where each element has a TCash withdraw transaction hash  as key and a list of the linked TCash deposit transaction hashes as a value. For example,\n",
    "\n",
    "```\n",
    "    '0x4858': ['0x2fad', '0x750a']\n",
    "```\n",
    "This would mean that withdraw transaction `0x4858` is linked to `0x2fad` and `0x750a` deposit transactions."
   ]
  },
  {
   "cell_type": "code",
   "execution_count": 1,
   "id": "5aebc6a5",
   "metadata": {},
   "outputs": [],
   "source": [
    "# Set environment variables to better visualize DataFrames.\n",
    "ENV[\"COLUMNS\"]=10000\n",
    "ENV[\"LINES\"]=10;"
   ]
  },
  {
   "cell_type": "code",
   "execution_count": 2,
   "id": "5a1f23fa",
   "metadata": {},
   "outputs": [],
   "source": [
    "using CSV\n",
    "using DataFrames\n",
    "using ProgressBars\n",
    "using JSON\n"
   ]
  },
  {
   "cell_type": "code",
   "execution_count": 3,
   "id": "868983b6",
   "metadata": {
    "scrolled": true
   },
   "outputs": [
    {
     "data": {
      "text/plain": [
       "load_addresses_and_pools_to_deposits_json (generic function with 1 method)"
      ]
     },
     "execution_count": 3,
     "metadata": {},
     "output_type": "execute_result"
    }
   ],
   "source": [
    "# Utils functions \n",
    "function load_addresses_and_pools_to_deposits_json(filepath)\n",
    "    raw_dict_list = JSON.parsefile(filepath)\n",
    "    addresses_and_pools_to_deposits = Dict{@NamedTuple{address::String, pool::String}, Vector{@NamedTuple{deposit_hash::String, timestamp::String}}}()\n",
    "        \n",
    "        for dic in ProgressBar(raw_dict_list, printing_delay=1)\n",
    "            addresses_and_pools_to_deposits[(address=dic[\"key\"][1], pool=dic[\"key\"][2])] = [(deposit_hash=l[1], timestamp=l[2]) for l in dic[\"value\"]]\n",
    "        end\n",
    "    \n",
    "    return addresses_and_pools_to_deposits\n",
    "end"
   ]
  },
  {
   "cell_type": "code",
   "execution_count": 6,
   "id": "053ba76f",
   "metadata": {},
   "outputs": [
    {
     "name": "stderr",
     "output_type": "stream",
     "text": [
      "0.0%┣                                        ┫ 0/31.9k [00:01<-8:-52:-7, -1s/it]\n",
      "0.0%┣                                        ┫ 1/31.9k [00:01<Inf:Inf, InfGs/it]\n",
      "100.0%┣███████████████████████████████████┫ 31.9k/31.9k [00:01<00:00, 23.7kit/s]\n"
     ]
    }
   ],
   "source": [
    "tornado_addresses = JSON.parsefile(\"../data/tornado_pools.json\")\n",
    "deposit_txs = CSV.read(\"../data/lighter_complete_deposit_txs.csv\", DataFrame)\n",
    "deposit_txs.tcash_pool = [tornado_addresses[addr] for addr in deposit_txs.tornado_cash_address]\n",
    "\n",
    "withdraw_txs = CSV.read(\"../data/lighter_complete_withdraw_txs.csv\", DataFrame)\n",
    "withdraw_txs.tcash_pool = [tornado_addresses[addr] for addr in withdraw_txs.tornado_cash_address]\n",
    "\n",
    "const unique_deposit_addresses = Set(deposit_txs[!, :from_address])\n",
    "const unique_withdraw_addresses = Set(withdraw_txs[!, :recipient_address])\n",
    "\n",
    "addresses_and_pools_to_deposits_dict = load_addresses_and_pools_to_deposits_json(\"../data/addresses_and_pools_to_deposits.json\")\n",
    "\n",
    "outside_tcash_txs = CSV.read(\"../data/transactions_between_deposit_and_withdraw_addresses.csv\", DataFrame)\n",
    "address_and_withdraw_df = outside_tcash_txs[!, [:from_address, :to_address]];"
   ]
  },
  {
   "cell_type": "markdown",
   "id": "7d3dc434",
   "metadata": {},
   "source": [
    "### Data preprocessing\n",
    "From the data obtained in the query, we want to filter repeated and permuted transactions, since they don't provide any new information. Once a transaction between a withdraw address and a deposit address is found, they are considereded linked regardless of the direction in what the transaction was done and the number of times they interacted."
   ]
  },
  {
   "cell_type": "code",
   "execution_count": 7,
   "id": "b13eeb25",
   "metadata": {},
   "outputs": [
    {
     "data": {
      "text/plain": [
       "preprocess_data (generic function with 1 method)"
      ]
     },
     "execution_count": 7,
     "metadata": {},
     "output_type": "execute_result"
    }
   ],
   "source": [
    "function filter_repeated_and_permuted(address_and_withdraw_df)\n",
    "    filtered_addresses_set = Set(Set([]))\n",
    "    \n",
    "    for row in eachrow(address_and_withdraw_df)\n",
    "        push!(filtered_addresses_set, Set([row.from_address, row.to_address]))\n",
    "    end\n",
    "  \n",
    "    filtered_addresses_set\n",
    "end\n",
    "\n",
    "function dataframe_from_set_of_sets(set_of_sets)\n",
    "    df = DataFrame(address_1=[], address_2=[])\n",
    "    for set in set_of_sets\n",
    "        push!(df, collect(set))\n",
    "    end\n",
    "    df\n",
    "end\n",
    "\n",
    "function preprocess_data(address_and_withdraw_df)\n",
    "    set = filter(x -> length(x) == 2, filter_repeated_and_permuted(address_and_withdraw_df))\n",
    "    dataframe_from_set_of_sets(set)\n",
    "end"
   ]
  },
  {
   "cell_type": "code",
   "execution_count": 8,
   "id": "e7996814",
   "metadata": {},
   "outputs": [
    {
     "data": {
      "text/html": [
       "<table class=\"data-frame\"><thead><tr><th></th><th>address_1</th><th>address_2</th></tr><tr><th></th><th>Any</th><th>Any</th></tr></thead><tbody><p>11,230 rows × 2 columns</p><tr><th>1</th><td>0x0c63d55a244657f5606d62856bd9f1ff227c05f2</td><td>0x0e54db73f82bd9fde34ebce53ea83bd197e9044c</td></tr><tr><th>2</th><td>0xd9ee088c6ca2a90d6f0d059af17c2ec2c908bb0f</td><td>0xc73ef94bc339a2cb9a1b67820af46bf47484a1ed</td></tr><tr><th>3</th><td>0xbf7c205febae32f7874b28b9f371fe522e1fd97a</td><td>0xe5b5df72187f7d867973615f5e1144b7a95b495f</td></tr><tr><th>4</th><td>0x35f081bdf4740ffa8a56ff98e4b971fbcb7d82a7</td><td>0x09fe8f71f8e14b3d6b6456fbafaaef4a27f042cd</td></tr><tr><th>5</th><td>0xa8308e994d180ca87c6a784fcb8612dec9ede03d</td><td>0x46ba0af6bc60e6fabd9957744c057d031c720ace</td></tr><tr><th>6</th><td>0xf62e92b2452d8a0fbb2c4b03424d679c86660001</td><td>0xf94571dbdff33446dabd17040cd6236b0d2c2545</td></tr><tr><th>7</th><td>0xce91fddab3c544b59ebac665a7635561043a7def</td><td>0x865ec62a7f46aab0976ad22573fcf319c3f939ce</td></tr><tr><th>8</th><td>0x134b9eab4aa4c1489687c18c10d7338656fde32d</td><td>0x68a99f89e475a078645f4bac491360afe255dff1</td></tr><tr><th>9</th><td>0xcd1690b5ae49b4bd1ac5d201dccb461887a76dcd</td><td>0x8a83716acd66d9e1fb18c9b79540b72e04f80ac0</td></tr><tr><th>10</th><td>0xc77fa6c05b4e472feee7c0f9b20e70c5bf33a99b</td><td>0x4e1ce0b96fc37f81f5508c6608687af4f78f23b2</td></tr><tr><th>&vellip;</th><td>&vellip;</td><td>&vellip;</td></tr></tbody></table>"
      ],
      "text/latex": [
       "\\begin{tabular}{r|cc}\n",
       "\t& address\\_1 & address\\_2\\\\\n",
       "\t\\hline\n",
       "\t& Any & Any\\\\\n",
       "\t\\hline\n",
       "\t1 & 0x0c63d55a244657f5606d62856bd9f1ff227c05f2 & 0x0e54db73f82bd9fde34ebce53ea83bd197e9044c \\\\\n",
       "\t2 & 0xd9ee088c6ca2a90d6f0d059af17c2ec2c908bb0f & 0xc73ef94bc339a2cb9a1b67820af46bf47484a1ed \\\\\n",
       "\t3 & 0xbf7c205febae32f7874b28b9f371fe522e1fd97a & 0xe5b5df72187f7d867973615f5e1144b7a95b495f \\\\\n",
       "\t4 & 0x35f081bdf4740ffa8a56ff98e4b971fbcb7d82a7 & 0x09fe8f71f8e14b3d6b6456fbafaaef4a27f042cd \\\\\n",
       "\t5 & 0xa8308e994d180ca87c6a784fcb8612dec9ede03d & 0x46ba0af6bc60e6fabd9957744c057d031c720ace \\\\\n",
       "\t6 & 0xf62e92b2452d8a0fbb2c4b03424d679c86660001 & 0xf94571dbdff33446dabd17040cd6236b0d2c2545 \\\\\n",
       "\t7 & 0xce91fddab3c544b59ebac665a7635561043a7def & 0x865ec62a7f46aab0976ad22573fcf319c3f939ce \\\\\n",
       "\t8 & 0x134b9eab4aa4c1489687c18c10d7338656fde32d & 0x68a99f89e475a078645f4bac491360afe255dff1 \\\\\n",
       "\t9 & 0xcd1690b5ae49b4bd1ac5d201dccb461887a76dcd & 0x8a83716acd66d9e1fb18c9b79540b72e04f80ac0 \\\\\n",
       "\t10 & 0xc77fa6c05b4e472feee7c0f9b20e70c5bf33a99b & 0x4e1ce0b96fc37f81f5508c6608687af4f78f23b2 \\\\\n",
       "\t$\\dots$ & $\\dots$ & $\\dots$ \\\\\n",
       "\\end{tabular}\n"
      ],
      "text/plain": [
       "\u001b[1m11230×2 DataFrame\u001b[0m\n",
       "\u001b[1m   Row \u001b[0m│\u001b[1m address_1                         \u001b[0m\u001b[1m address_2                         \u001b[0m\n",
       "\u001b[1m       \u001b[0m│\u001b[90m Any                               \u001b[0m\u001b[90m Any                               \u001b[0m\n",
       "───────┼──────────────────────────────────────────────────────────────────────\n",
       "     1 │ 0x0c63d55a244657f5606d62856bd9f1…  0x0e54db73f82bd9fde34ebce53ea83b…\n",
       "   ⋮   │                 ⋮                                  ⋮\n",
       "\u001b[36m                                                            11229 rows omitted\u001b[0m"
      ]
     },
     "execution_count": 8,
     "metadata": {},
     "output_type": "execute_result"
    }
   ],
   "source": [
    "clean_addresses = preprocess_data(address_and_withdraw_df)"
   ]
  },
  {
   "cell_type": "markdown",
   "id": "7233dc59",
   "metadata": {},
   "source": [
    "### Outside TCash transactions classification\n",
    "This functions are used to classify the address type following the definitions already talked about,\n",
    "and finally classify the transaction type done by the addresses outside TCash."
   ]
  },
  {
   "cell_type": "code",
   "execution_count": 9,
   "id": "2f3cdabd",
   "metadata": {},
   "outputs": [
    {
     "data": {
      "text/plain": [
       "is_DW_type (generic function with 1 method)"
      ]
     },
     "execution_count": 9,
     "metadata": {},
     "output_type": "execute_result"
    }
   ],
   "source": [
    "\"\"\"\n",
    "To classify the addresses by their inclusion in the unique_deposit_addresses and \n",
    "the unique_withdraw_addresses sets.\n",
    "\"\"\"\n",
    "\n",
    "function is_D_type(address)\n",
    "    address ∈ unique_deposit_addresses && address ∉ unique_withdraw_addresses\n",
    "end\n",
    "\n",
    "function is_W_type(address)\n",
    "    address ∉ unique_deposit_addresses && address ∈ unique_withdraw_addresses\n",
    "end\n",
    "\n",
    "function is_DW_type(address)\n",
    "    address ∈ unique_deposit_addresses && address ∈ unique_withdraw_addresses\n",
    "end"
   ]
  },
  {
   "cell_type": "code",
   "execution_count": 10,
   "id": "57c3ac0e",
   "metadata": {},
   "outputs": [
    {
     "data": {
      "text/plain": [
       "is_DW_DW_tx (generic function with 1 method)"
      ]
     },
     "execution_count": 10,
     "metadata": {},
     "output_type": "execute_result"
    }
   ],
   "source": [
    "# To classify outside TCash transactions, based on the classification of addresses.\n",
    "\n",
    "function is_D_W_tx(from_address, to_address)\n",
    "    is_D_type(from_address) && is_W_type(to_address)\n",
    "end\n",
    "\n",
    "function is_W_D_tx(from_address, to_address)\n",
    "    is_W_type(from_address) && is_D_type(to_address)\n",
    "end\n",
    "\n",
    "function is_D_DW_tx(from_address, to_address)\n",
    "    is_D_type(from_address) && is_DW_type(to_address)\n",
    "end\n",
    "\n",
    "function is_DW_D_tx(from_address, to_address)\n",
    "    is_DW_type(from_address) && is_D_type(to_address)\n",
    "end\n",
    "\n",
    "function is_W_DW_tx(from_address, to_address)\n",
    "    is_W_type(from_address) && is_DW_type(to_address)\n",
    "end\n",
    "\n",
    "function is_DW_W_tx(from_address, to_address)\n",
    "    is_DW_type(from_address) && is_W_type(to_address)\n",
    "end\n",
    "\n",
    "function is_DW_DW_tx(from_address, to_address)\n",
    "    is_DW_type(from_address) && is_DW_type(to_address)\n",
    "end "
   ]
  },
  {
   "cell_type": "markdown",
   "id": "76818418",
   "metadata": {},
   "source": [
    "### Function description: map_withdraw2deposit_interactions_outside_tcash\n",
    "This function receives the clean addresses data, transforms it to the table mentioned in the introduction and returns a dictionary mapping the interaction of each withdraw address with deposit addresses."
   ]
  },
  {
   "cell_type": "code",
   "execution_count": 11,
   "id": "7bd64dd1",
   "metadata": {},
   "outputs": [
    {
     "data": {
      "text/plain": [
       "map_withdraw2deposit_interactions_outside_tcash (generic function with 1 method)"
      ]
     },
     "execution_count": 11,
     "metadata": {},
     "output_type": "execute_result"
    }
   ],
   "source": [
    "function map_withdraw2deposit_interactions_outside_tcash(clean_addresses_df)\n",
    "    \n",
    "    deposit_and_withdraw_matrix = Array{String}(undef, 0, 2) #np.empty((0, 2), dtype=str)\n",
    "    \n",
    "    for row in ProgressBar(eachrow(clean_addresses_df), printing_delay=1 )\n",
    "                \n",
    "        if is_D_W_tx(row.address_1, row.address_2) || is_D_DW_tx(row.address_1, row.address_2) || is_DW_W_tx(row.address_1, row.address_2)\n",
    "            deposit_and_withdraw_matrix = vcat(deposit_and_withdraw_matrix, [row.address_1 row.address_2])\n",
    "            \n",
    "        elseif is_W_D_tx(row.address_1, row.address_2) || is_W_DW_tx(row.address_1, row.address_2) || is_DW_D_tx(row.address_1, row.address_2)\n",
    "            deposit_and_withdraw_matrix = vcat(deposit_and_withdraw_matrix, [row.address_2 row.address_1])\n",
    "            \n",
    "        elseif is_DW_DW_tx(row.address_1, row.address_2)\n",
    "            deposit_and_withdraw_matrix = vcat(deposit_and_withdraw_matrix, [row.address_1 row.address_2])\n",
    "            deposit_and_withdraw_matrix = vcat(deposit_and_withdraw_matrix, [row.address_2 row.address_1])\n",
    "        else\n",
    "            print(row.address_1, row.address_2)\n",
    "            ValueError(\"The transaction is not from any of the types: D_W, W_D, D_DW, DW_D, W_DW, DW_W, DW_DW\")\n",
    "        end\n",
    "    end\n",
    "\n",
    "    D_W_df = DataFrame(deposit_and_withdraw_matrix, [\"deposit_address\", \"withdraw_address\"])\n",
    "    \n",
    "    dict = Dict()\n",
    "    for row in eachrow(D_W_df)\n",
    "        if haskey(dict, row.withdraw_address)\n",
    "            dict[row.withdraw_address] = push!(dict[row.withdraw_address], row.deposit_address)\n",
    "        else\n",
    "            dict[row.withdraw_address] = [row.deposit_address]\n",
    "        end\n",
    "    end\n",
    "    \n",
    "    return dict \n",
    "    end"
   ]
  },
  {
   "cell_type": "code",
   "execution_count": 12,
   "id": "ab0917aa",
   "metadata": {},
   "outputs": [
    {
     "name": "stderr",
     "output_type": "stream",
     "text": [
      "0.0%┣                                        ┫ 0/11.2k [00:01<-3:-7:-10, -1s/it]\n",
      "0.0%┣                                        ┫ 1/11.2k [00:01<Inf:Inf, InfGs/it]\n",
      "100.0%┣████████████████████████████████████┫ 11.2k/11.2k [00:02<00:00, 5.2kit/s]\n"
     ]
    },
    {
     "data": {
      "text/plain": [
       "Dict{Any, Any} with 8055 entries:\n",
       "  \"0x50892e106095f415b4b121652a9808fe52664f82\" => [\"0xb3d76302aecdf0683ad3b39ccb56508a066c243d\", \"0xcd79b477f7d66f35b603aa44a7d7ca03e987077d\"]\n",
       "  \"0xdf93a32c083207cd1ea005380c52c3eb7458176e\" => [\"0x8b01d375e274213c860ef6ac013dbdd5286cd816\"]\n",
       "  \"0xd1ccc07177c0c27ab78cf991ba6c4eb4edc68f31\" => [\"0x4ea0d6576e606778cc9dcc329d06ec70c3906cc2\"]\n",
       "  \"0x6996c90cedd6b7ef51971b4daae8c543aee529cb\" => [\"0x4de6c05654503d0c54d44d68493308fbb5b0a886\"]\n",
       "  \"0x1d62ca769fcf94d24484bb3951331ab639116482\" => [\"0x70631b7376f4956185dac1b9cb4e9f83ccbc2764\"]\n",
       "  ⋮                                            => ⋮"
      ]
     },
     "execution_count": 12,
     "metadata": {},
     "output_type": "execute_result"
    }
   ],
   "source": [
    "waddr2daddr = map_withdraw2deposit_interactions_outside_tcash(clean_addresses)"
   ]
  },
  {
   "cell_type": "markdown",
   "id": "7808bdee",
   "metadata": {},
   "source": [
    "### Function description: first_neighbors_heuristic\n",
    "Given a withdraw transaction, checks if its address had interacted with any deposit address outside TCash. If it has, then fetch all the deposits those deposit addresses had done and link them to the withdraw transaction."
   ]
  },
  {
   "cell_type": "code",
   "execution_count": 13,
   "id": "d46d7708",
   "metadata": {},
   "outputs": [
    {
     "data": {
      "text/plain": [
       "first_neighbors_heuristic (generic function with 1 method)"
      ]
     },
     "execution_count": 13,
     "metadata": {},
     "output_type": "execute_result"
    }
   ],
   "source": [
    "function first_neighbors_heuristic(withdraw_tx)\n",
    "    address = withdraw_tx.recipient_address\n",
    "    pool = withdraw_tx.tcash_pool\n",
    "\n",
    "    \n",
    "    \"\"\"\n",
    "    Check that there has been a transaction between this address and some deposit\n",
    "    address outside Tcash. If not, return an empty list for this particular withdraw.\n",
    "    \"\"\"\n",
    "    if address in keys(waddr2daddr)\n",
    "        interacted_addresses = waddr2daddr[address]\n",
    "        linked_deposits = []\n",
    "        \n",
    "        for addr in interacted_addresses\n",
    "            if (address=addr, pool=pool) in keys(addresses_and_pools_to_deposits_dict)\n",
    "\n",
    "                for d in addresses_and_pools_to_deposits_dict[(address=addr, pool=pool)]\n",
    "                    if d.timestamp < withdraw_tx.block_timestamp\n",
    "                        push!(linked_deposits,(d.deposit_hash))\n",
    "                    end\n",
    "                end\n",
    "            end\n",
    "        end      \n",
    "        return Dict(withdraw_tx.hash => linked_deposits)\n",
    "        \n",
    "    else\n",
    "        return Dict(withdraw_tx.hash =>  [])\n",
    "    end\n",
    "end\n",
    "                        "
   ]
  },
  {
   "cell_type": "markdown",
   "id": "b8adf41b",
   "metadata": {},
   "source": [
    "### Function description: apply_first_neighbors_heuristic\n",
    "Applies the heuristic to every withdraw in the withdraw transactions data. Returns a dictionary mapping every withdraw transaction to its linked deposit transactions."
   ]
  },
  {
   "cell_type": "code",
   "execution_count": 16,
   "id": "422a5907",
   "metadata": {},
   "outputs": [
    {
     "data": {
      "text/plain": [
       "apply_first_neighbors_heuristic (generic function with 1 method)"
      ]
     },
     "execution_count": 16,
     "metadata": {},
     "output_type": "execute_result"
    }
   ],
   "source": [
    "function apply_first_neighbors_heuristic(withdraw_txs)\n",
    "    \n",
    "    withdraw_to_linked_deposits = Dict()\n",
    "        \n",
    "    for row in ProgressBar(eachrow(withdraw_txs), printing_delay=3)\n",
    "        dic = first_neighbors_heuristic(row)\n",
    "        \n",
    "        for (k,v) in dic\n",
    "            if  haskey(withdraw_to_linked_deposits, k)\n",
    "                withdraw_to_linked_deposits[k] = unique(push!(withdraw_to_linked_deposits[k], v))\n",
    "            else\n",
    "                withdraw_to_linked_deposits[k] = v\n",
    "            end\n",
    "        end\n",
    "    end\n",
    "        \n",
    "    return Dict(filter(tuple -> last(tuple) !=[], collect(withdraw_to_linked_deposits))) \n",
    "end"
   ]
  },
  {
   "cell_type": "code",
   "execution_count": 17,
   "id": "ef77f437",
   "metadata": {},
   "outputs": [
    {
     "name": "stderr",
     "output_type": "stream",
     "text": [
      "0.0%┣                                       ┫ 0/83.8k [00:03<-69:-49:-6, -3s/it]\n",
      "0.0%┣                                        ┫ 1/83.8k [00:03<Inf:Inf, InfGs/it]\n",
      "100.0%┣███████████████████████████████████┫ 83.8k/83.8k [00:04<00:00, 21.7kit/s]\n"
     ]
    },
    {
     "data": {
      "text/plain": [
       "Dict{Any, Any} with 15693 entries:\n",
       "  \"0x8147aac1ee95aa7deccbd38a3b2a38f09db0d462ff1d212ba399c2455e7ebf78\" => Any[\"0xe84970339671b68a64e4eea9f35dcd55eb8109f17de4d1ba317a0dd83131655f\", \"0xd01ebdd649ae5a3c030d9c0901ae70dea38f2c8685e0e121af24e713b5a0c3a2\", \"0xeac3d559c85cb0ee402d208ae4d5f6919b2a090a36cdce23280ce61810f39626\", \"0xe762c173a73bcfe5e4934455c94abeebf5f7b8ead579f17137c752c07b8189b5\", \"0x17d49d93df04478a7a7a61b56f6a2871d71ff11f7ddf453667049b7f0a978d52\", \"0x77f0e0fb18b179b5cff37bb9676ee09b459bc0ecf97cede13d5415d41cfab8fa\", \"0xb7e63ecfef81a441e46a7629ca13cbfd2df9a481b0c2c64e4895ad3fd336f091\", \"0x5112c49dfd0650e3ede1048c06e7c0661ee8dbab38a9d5d7c6134ac152f2c11b\", \"0x196bf690e210561e647dd9e0b6721b03859e9e4563a644e6a58d0e10cce9487d\", \"0xe2954e858b6659164ec09454bb9dc472c0aed445bae58902b1835ee9a055caca\"  …  \"0x898e8a9310245fdb134563f6c1d1cacbc30b10537e2de4b8835e36d5afb7e225\", \"0x7f9c2cd98843183adc43d06e04279b3295a60545575cb5ec2bc28b926aec6998\", \"0x8ec201ef202f62d8c09322e9a8c2194bd62f5aa631212ed4ef855235caae3389\", \"0x26a12568bad5fcf4c946a24fbd0d9d2f9d931ddafb5f3aef0eeb4e89d7e71116\", \"0xce454bfa43fb5349ab05e22d46b1c2a6f18ca2a91525c5317872f4cf37cfa366\", \"0x655fba71a831814a91e25d66a6bbae7f36fa47c4f832fe290975deac6085b8a5\", \"0xc32695ace4c5b070151bc1fd73e6c7cf46ed513f96e8b09749759ace4aced271\", \"0x3b886d0d258268f701bedcafc6c89ce08210ec20e33903e503b54f741b878fee\", \"0x9356176423c1c35ac6ee53f471e412977786d74ea9b448a85f8416406621ddab\", \"0x33b905aec45fb5f928667967994a2febf7234840b27764736c92d38a1413c0b5\"]\n",
       "  \"0x0d2e35678dfe822d73493eed48643a00dc06d33ba2d9872fb551489a7a7e4683\" => Any[\"0xab05c01ae249c0f19518d6e83297bc1d9e0e48fac173d8af8ac35c1a4a929c2e\", \"0x3f58efbb241998bff8b347fe8a80e50999dd8ad3e4f3cfcd7178f65fa776b1e0\"]\n",
       "  \"0xe5bb17e135adbd5c381f626920779db580f4dbb4b2c8ee557df7fc17065f80d7\" => Any[\"0x4c24f06a2dd439af2091b25aa93d029186a14e73e899b9f551a4f13a3b5b45dd\"]\n",
       "  \"0x0bed96cd1787d3410ad6fa2c815695d0b4adf3242411afece9825728be340db3\" => Any[\"0xe4bb4932f26c8605bf7a77234e5af2f869780d81ee19072bfbaff36331330967\"]\n",
       "  \"0xa3f64e7379d1129d91678e559894a3620108b34524ca8585089f7e468fed0cb6\" => Any[\"0x246de4a10b3d8d397c4e50855266650c7a1dc6c44b0986409d190bde0d02f0b0\", \"0xb41781c6500428acc807362257d86a72083673f17110137ff70d1a17fcaf4f28\", \"0xcee4037f01d6e297934676cfcf19ef701699aeb7938553d4db3b05421add495c\", \"0x80872204527ab1d6c5b8b0a8981bffdba576f0510506ac647eb8623c5fba1f4d\", \"0xc7fceccc4b7a3b45f468256237f2e6dbb0779371819516e5969cd5501e1f1aa1\"]\n",
       "  ⋮                                                                    => ⋮"
      ]
     },
     "execution_count": 17,
     "metadata": {},
     "output_type": "execute_result"
    }
   ],
   "source": [
    "w2d = apply_first_neighbors_heuristic(withdraw_txs)"
   ]
  },
  {
   "cell_type": "code",
   "execution_count": null,
   "id": "95208ada",
   "metadata": {},
   "outputs": [],
   "source": []
  }
 ],
 "metadata": {
  "kernelspec": {
   "display_name": "Julia 1.6.1",
   "language": "julia",
   "name": "julia-1.6"
  },
  "language_info": {
   "file_extension": ".jl",
   "mimetype": "application/julia",
   "name": "julia",
   "version": "1.6.3"
  }
 },
 "nbformat": 4,
 "nbformat_minor": 5
}
