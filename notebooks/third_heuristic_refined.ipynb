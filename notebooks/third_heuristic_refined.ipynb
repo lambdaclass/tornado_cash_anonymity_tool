{
 "cells": [
  {
   "cell_type": "markdown",
   "id": "21d3ab3b",
   "metadata": {},
   "source": [
    "## Heuristic 3 - Transactions outside TCash\n",
    "\n",
    "### Overview\n",
    "The main goal of this heuristic is to link Ethereum accounts which interacted with TCash by inspecting Ethereum transactions outside it. \n",
    "\n",
    "This is done constructing two sets, one corresponding to the unique TCash deposit addresses ($S_{D}$) and one to the unique TCash withdraw addresses ($S_{W}$), to then make a query to reveal transactions between addresses of each set.\n",
    "\n",
    "When a transaction between two of them is found, TCash deposit transactions done by the deposit address are linked to all the TCash withdraw transactions done by the withdraw address. These two sets of linked transactions are filtered, leaving only the ones that make sense. For example, if a deposit address A is linked to a withdraw address B, but A made a deposit to the 1 Eth pool and B made a withdraw to the 10 Eth pool, then this link is not considered. Moreover, when considering a particular link between deposit and withdraw transactions, deposits done posterior to the latest withdraw are removed from the deposit set.\n",
    "\n",
    "### Data\n",
    "The query to the public BigQuery database was done like so,\n",
    "\n",
    "```\n",
    "INSERT `tornado_cash_transactions.transactions_between_withdraw_and_deposit_addresses` \n",
    "SELECT * FROM `bigquery-public-data.crypto_ethereum.transactions`\n",
    "WHERE \n",
    "    (\n",
    "       (`from_address` IN ( SELECT `from_address` FROM `tornado_cash_transactions.deposit_addresses`))\n",
    "       AND \n",
    "       (`to_address` IN ( SELECT `withdraw_address` FROM `tornado_cash_transactions.withdraw_addresses`))\n",
    "    )\n",
    "    OR\n",
    "    (\n",
    "       (`from_address` IN (  SELECT `withdraw_address` FROM `tornado_cash_transactions.withdraw_addresses`))\n",
    "       AND \n",
    "       (`to_address` IN ( SELECT `from_address` FROM `tornado_cash_transactions.deposit_addresses`))\n",
    "    )\n",
    "```\n",
    "\n",
    "The resulting table has two columns, **from_address** and **to_address**, and each row corresponds to a transaction done between a TCash deposit address and a TCash withdraw address.\n",
    "From this table, we want to know which of the two addresses was the one that made the deposit and which one made the withdraw. In this way, we are able to link the corresponding deposit and withdraw transactions.\n",
    "\n",
    "For example, consider this entry from the resulting table,\n",
    "\n",
    "| from_address  | to_address  |\n",
    "|---------------|-------------|\n",
    "| address1      | address2    |\n",
    "\n",
    "Suppose that `address1` is an address that deposited in TCash and `address2` one that made a withdraw. Then, all deposits made by `address1` will be linked to all the withdraws made by `address2`, and filters will be applied to the linked deposit and withdraw transactions between them, as already described. \n",
    "\n",
    "In short, we want to transform said table to one with colums **deposit_address** and **withdraw_address** like so,\n",
    "\n",
    "| deposit_address | withdraw_address |\n",
    "|-----------------|------------------|\n",
    "| address2        | address1         |\n",
    "\n",
    "With this new table, it is straightforward to make de linking between TCash transactions.\n",
    "\n",
    "\n",
    "### Some definitions \n",
    "A problem raises when there are addresses that belong to the two sets of TCash addresses $S_{D}$ and $S_{W}$.\n",
    "Let us define an address of type `D` when it belongs to $S_{D}$ and not to $S_{W}$.\n",
    "Likewise, an address of type `W` is defined when it belongs to $S_{W}$ and not to $S_{D}$. \n",
    "Finally, when an address belongs to both sets, we classify it as a `DW` type.\n",
    "\n",
    "For the cases where we got outside TCash transactions of type `D -> W` (i.e., a transaction from a *D* type address to a *W* type address) or `W -> D` (i.e., a transaction from a *W* type address to a *D* type address), it is trivial to transform this entry to the new table.\n",
    "\n",
    "In the cases where we have transactions of type `DW -> W`, `DW -> D`, `W -> DW` and `D -> DW`, it is also straightforward to transform the corresponding entries. For example, consider again this particular entry of Ethereum transactions table,\n",
    "\n",
    "\n",
    "| from_address  | to_address  |\n",
    "|---------------|-------------|\n",
    "| address1      | address2    |\n",
    "\n",
    "\n",
    "Suppose now that `address1` is of type `DW` and `address2` of type `D`. Then, `address2` is trivially placed in the `deposit_address` column. By a process of elimination, then `address1` is set in `withdraw_address` column,\n",
    "\n",
    "\n",
    "| deposit_address | withdraw_address |\n",
    "|-----------------|------------------|\n",
    "| address2        | address1         |\n",
    "\n",
    "\n",
    "When we have a transaction of type `DW -> DW`, it cannot be known which address deposited and which one made the withdraw, so the two combinations are considered. Considering again the same entry, the resulting table will be as follows,\n",
    "\n",
    "| deposit_address | withdraw_address |\n",
    "|-----------------|------------------|\n",
    "| address1        | address2         |\n",
    "| address2        | address1         |\n",
    "\n",
    "\n",
    "Then, deposits of `address1` are linked to withdraws of `address2` and deposits of `address2` are linked to withdraws of `address1`.\n",
    "\n",
    "\n",
    "### Results data structure\n",
    "The results of this heuristic are returned in a dictionary that has named tuples as keys, which consist of a deposit address in the first index and a withdraw address in the second index. The values of this dictionary are another dictionary, which have TCash pools as keys, and another named tuple as values. These named tuples have a list of deposit transaction hashes in the first index, and a list of withdraw hashes in the second index. \n",
    "\n",
    "In summary, this data structure returns the linked deposit and withdraw transactions in every pool, for every pair of deposit and withdraw addresses from TCash.\n",
    "\n",
    "An simplified example of a member of this resulting data structure could be:\n",
    "\n",
    "```\n",
    "(deposit_address=\"0x8879\", withdraw_address=\"0x9c8s\") => Dict(\"1 ETH\" => (deposit_hashes=[\"0x892m\", \"0x24mk\"], withdraw_hashes=[\"0x57jd\"]))\n",
    "```\n",
    "\n",
    "Colloquially this means that TCash deposit transactions with hashes `0x892m` and `0x24mk`, done by address `0x8879` are linked to TCash withdraw transaction `0x57jd`, done by address `0x9c8`, and that these linked TCash transactions correspond to the 1 Eth pool."
   ]
  },
  {
   "cell_type": "code",
   "execution_count": 1,
   "id": "9004f51d",
   "metadata": {},
   "outputs": [],
   "source": [
    "using CSV\n",
    "using DataFrames\n",
    "using ProgressBars"
   ]
  },
  {
   "cell_type": "code",
   "execution_count": 34,
   "id": "35186378",
   "metadata": {},
   "outputs": [
    {
     "ename": "LoadError",
     "evalue": "cannot declare unique_deposit_addresses constant; it already has a value",
     "output_type": "error",
     "traceback": [
      "cannot declare unique_deposit_addresses constant; it already has a value",
      "",
      "Stacktrace:",
      " [1] top-level scope",
      "   @ In[34]:4",
      " [2] eval",
      "   @ ./boot.jl:360 [inlined]",
      " [3] include_string(mapexpr::typeof(REPL.softscope), mod::Module, code::String, filename::String)",
      "   @ Base ./loading.jl:1094"
     ]
    }
   ],
   "source": [
    "deposit_txs = CSV.read(\"../data/lighter_complete_deposit_txs.csv\", DataFrame)\n",
    "withdraw_txs = CSV.read(\"../data/lighter_complete_withdraw_txs.csv\", DataFrame)\n",
    "\n",
    "const unique_deposit_addresses = Set(deposit_txs[!, :from_address])\n",
    "const unique_withdraw_addresses = Set(withdraw_txs[!, :recipient_address])\n",
    "\n",
    "outside_tcash_txs = CSV.read(\"../data/transactions_between_deposit_and_withdraw_addresses.csv\", DataFrame)\n",
    "address_and_withdraw_df = outside_tcash_txs[!, [:from_address, :to_address]];"
   ]
  },
  {
   "cell_type": "markdown",
   "id": "dffe71ad",
   "metadata": {},
   "source": [
    "### Data preprocessing\n",
    "\n",
    "The data obtained by the query is filtered so that "
   ]
  },
  {
   "cell_type": "code",
   "execution_count": 3,
   "id": "498566c5",
   "metadata": {},
   "outputs": [
    {
     "data": {
      "text/plain": [
       "preprocess_data (generic function with 1 method)"
      ]
     },
     "execution_count": 3,
     "metadata": {},
     "output_type": "execute_result"
    }
   ],
   "source": [
    "function unique_and_permuted(address_and_withdraw_df)\n",
    "    unique_and_permuted_set = Set(Set([]))\n",
    "    \n",
    "    for row in eachrow(address_and_withdraw_df)\n",
    "        push!(unique_and_permuted_set, Set([row.from_address, row.to_address]))\n",
    "    end\n",
    "  \n",
    "    unique_and_permuted_set\n",
    "end\n",
    "\n",
    "function dataframe_from_set_of_sets(set_of_sets)\n",
    "    df = DataFrame(from_address=[], to_address=[])\n",
    "    for set in set_of_sets\n",
    "        push!(df, collect(set))\n",
    "    end\n",
    "    df\n",
    "end\n",
    "\n",
    "function preprocess_data(address_and_withdraw_df)\n",
    "    set = filter(x -> length(x) == 2, unique_and_permuted(address_and_withdraw_df))\n",
    "    dataframe_from_set_of_sets(set)\n",
    "end"
   ]
  },
  {
   "cell_type": "code",
   "execution_count": 36,
   "id": "e3208075",
   "metadata": {},
   "outputs": [
    {
     "data": {
      "text/html": [
       "<div class=\"data-frame\"><p>11,230 rows × 2 columns</p><table class=\"data-frame\"><thead><tr><th></th><th>from_address</th><th>to_address</th></tr><tr><th></th><th title=\"Any\">Any</th><th title=\"Any\">Any</th></tr></thead><tbody><tr><th>1</th><td>0x0c63d55a244657f5606d62856bd9f1ff227c05f2</td><td>0x0e54db73f82bd9fde34ebce53ea83bd197e9044c</td></tr><tr><th>2</th><td>0xd9ee088c6ca2a90d6f0d059af17c2ec2c908bb0f</td><td>0xc73ef94bc339a2cb9a1b67820af46bf47484a1ed</td></tr><tr><th>3</th><td>0xbf7c205febae32f7874b28b9f371fe522e1fd97a</td><td>0xe5b5df72187f7d867973615f5e1144b7a95b495f</td></tr><tr><th>4</th><td>0x35f081bdf4740ffa8a56ff98e4b971fbcb7d82a7</td><td>0x09fe8f71f8e14b3d6b6456fbafaaef4a27f042cd</td></tr><tr><th>5</th><td>0xa8308e994d180ca87c6a784fcb8612dec9ede03d</td><td>0x46ba0af6bc60e6fabd9957744c057d031c720ace</td></tr><tr><th>6</th><td>0xf62e92b2452d8a0fbb2c4b03424d679c86660001</td><td>0xf94571dbdff33446dabd17040cd6236b0d2c2545</td></tr><tr><th>7</th><td>0xce91fddab3c544b59ebac665a7635561043a7def</td><td>0x865ec62a7f46aab0976ad22573fcf319c3f939ce</td></tr><tr><th>8</th><td>0x134b9eab4aa4c1489687c18c10d7338656fde32d</td><td>0x68a99f89e475a078645f4bac491360afe255dff1</td></tr><tr><th>9</th><td>0xcd1690b5ae49b4bd1ac5d201dccb461887a76dcd</td><td>0x8a83716acd66d9e1fb18c9b79540b72e04f80ac0</td></tr><tr><th>10</th><td>0xc77fa6c05b4e472feee7c0f9b20e70c5bf33a99b</td><td>0x4e1ce0b96fc37f81f5508c6608687af4f78f23b2</td></tr><tr><th>11</th><td>0xdf86d9ca55e2ebf191d11337d962d5686893b4e2</td><td>0x9832178f975879c0765bef385e40a9776f49ac69</td></tr><tr><th>12</th><td>0x64814817b4174c4b0fab09b87122cf62c9907788</td><td>0x0857357c8b2f6a5a27c2adb0f5e97086028d55ca</td></tr><tr><th>13</th><td>0x56258340928387d88b7b619b96bc008c173d67cd</td><td>0x467ea1dac5e8ea37c8040cf81b4b15f66cf3eb2c</td></tr><tr><th>14</th><td>0x1045d46851b649363297c9969c18d7d4c1683d08</td><td>0xdf23b720cdf2b2fe62be9be5b6637f2688bed834</td></tr><tr><th>15</th><td>0xa79eb13e7336d6c240f6718d572a8b5aec0623c6</td><td>0x7c085b8ab3230028ddd458faa0f9d137e039bcf5</td></tr><tr><th>16</th><td>0xb9b8ef61b7851276b0239757a039d54a23804cbb</td><td>0x20068ff6c39b59112b2488dc33660f5cc40689bd</td></tr><tr><th>17</th><td>0x2f80e5163a7a774038753593010173322ea6f9fe</td><td>0xd4c8127af1de3ebf8ab7449aac0fd892b70f3b45</td></tr><tr><th>18</th><td>0x1c051112075feaee33bcdbe0984c2bb0db53cf47</td><td>0x2d2d2a1f9bfda0d2364b4d517f862e52fefc2703</td></tr><tr><th>19</th><td>0xcf63e1c31805254b6fb3ed7829206c2b2505e3a7</td><td>0x150ef95cdb28f7ac32926917b9342c0759dbee04</td></tr><tr><th>20</th><td>0xe4e55bb5118fb39ae81eaada22ec8378d56526d5</td><td>0x4b6760682191de7e476b801b7ab42d8e8a5b041a</td></tr><tr><th>21</th><td>0xd1289bbb6f1633bb56963bf9d51923cf9ea965e8</td><td>0xe4490a4961c53239cf58d8026a148ce9a530d0ed</td></tr><tr><th>22</th><td>0x07df7775902c31c24eddac2c462b30cf988d7e19</td><td>0xab12253171a0d73df64b115cd43fe0a32feb9daa</td></tr><tr><th>23</th><td>0x6effc6bd984ef5a80fb9d6d48cc1ef6d8ef05113</td><td>0xe1c081cd74aacc91711ce1d48fb318d0071fcd65</td></tr><tr><th>24</th><td>0x7ac9332bce5d4a8e078cfdbe605a362cfe723499</td><td>0x60ac2b506fd7abac763c9c4301f38e2860283812</td></tr><tr><th>25</th><td>0x9a5260ea769d664a8ca41f9ee1fb92308d72ecbc</td><td>0x0018951d399eafa471af3cb7e14eed3694b23ccd</td></tr><tr><th>26</th><td>0xe69e7d52c133f1fe56fe80613cb158037c509254</td><td>0x0fce046251322106304b80d15b09caa64b010522</td></tr><tr><th>27</th><td>0xf169913283e7fbf3d798771bfaaca021244cad26</td><td>0x00de4b13153673bcae2616b67bf822500d325fc3</td></tr><tr><th>28</th><td>0x89750b98e854759786da9af7f05d55dde2be5552</td><td>0x06cb1bac771838d291c52aab8148c64b7af1938c</td></tr><tr><th>29</th><td>0x4a3fcaa620eb1fbcb6c2016443fcd8208f6dca77</td><td>0x02edb6fa3823098012c1199f466ac4336a3a4ad4</td></tr><tr><th>30</th><td>0x4278314c1a50da6014e580cbff34fc383b335049</td><td>0x644628d696fd07fcd8bda2e8b9a680734cc80a93</td></tr><tr><th>&vellip;</th><td>&vellip;</td><td>&vellip;</td></tr></tbody></table></div>"
      ],
      "text/latex": [
       "\\begin{tabular}{r|cc}\n",
       "\t& from\\_address & to\\_address\\\\\n",
       "\t\\hline\n",
       "\t& Any & Any\\\\\n",
       "\t\\hline\n",
       "\t1 & 0x0c63d55a244657f5606d62856bd9f1ff227c05f2 & 0x0e54db73f82bd9fde34ebce53ea83bd197e9044c \\\\\n",
       "\t2 & 0xd9ee088c6ca2a90d6f0d059af17c2ec2c908bb0f & 0xc73ef94bc339a2cb9a1b67820af46bf47484a1ed \\\\\n",
       "\t3 & 0xbf7c205febae32f7874b28b9f371fe522e1fd97a & 0xe5b5df72187f7d867973615f5e1144b7a95b495f \\\\\n",
       "\t4 & 0x35f081bdf4740ffa8a56ff98e4b971fbcb7d82a7 & 0x09fe8f71f8e14b3d6b6456fbafaaef4a27f042cd \\\\\n",
       "\t5 & 0xa8308e994d180ca87c6a784fcb8612dec9ede03d & 0x46ba0af6bc60e6fabd9957744c057d031c720ace \\\\\n",
       "\t6 & 0xf62e92b2452d8a0fbb2c4b03424d679c86660001 & 0xf94571dbdff33446dabd17040cd6236b0d2c2545 \\\\\n",
       "\t7 & 0xce91fddab3c544b59ebac665a7635561043a7def & 0x865ec62a7f46aab0976ad22573fcf319c3f939ce \\\\\n",
       "\t8 & 0x134b9eab4aa4c1489687c18c10d7338656fde32d & 0x68a99f89e475a078645f4bac491360afe255dff1 \\\\\n",
       "\t9 & 0xcd1690b5ae49b4bd1ac5d201dccb461887a76dcd & 0x8a83716acd66d9e1fb18c9b79540b72e04f80ac0 \\\\\n",
       "\t10 & 0xc77fa6c05b4e472feee7c0f9b20e70c5bf33a99b & 0x4e1ce0b96fc37f81f5508c6608687af4f78f23b2 \\\\\n",
       "\t11 & 0xdf86d9ca55e2ebf191d11337d962d5686893b4e2 & 0x9832178f975879c0765bef385e40a9776f49ac69 \\\\\n",
       "\t12 & 0x64814817b4174c4b0fab09b87122cf62c9907788 & 0x0857357c8b2f6a5a27c2adb0f5e97086028d55ca \\\\\n",
       "\t13 & 0x56258340928387d88b7b619b96bc008c173d67cd & 0x467ea1dac5e8ea37c8040cf81b4b15f66cf3eb2c \\\\\n",
       "\t14 & 0x1045d46851b649363297c9969c18d7d4c1683d08 & 0xdf23b720cdf2b2fe62be9be5b6637f2688bed834 \\\\\n",
       "\t15 & 0xa79eb13e7336d6c240f6718d572a8b5aec0623c6 & 0x7c085b8ab3230028ddd458faa0f9d137e039bcf5 \\\\\n",
       "\t16 & 0xb9b8ef61b7851276b0239757a039d54a23804cbb & 0x20068ff6c39b59112b2488dc33660f5cc40689bd \\\\\n",
       "\t17 & 0x2f80e5163a7a774038753593010173322ea6f9fe & 0xd4c8127af1de3ebf8ab7449aac0fd892b70f3b45 \\\\\n",
       "\t18 & 0x1c051112075feaee33bcdbe0984c2bb0db53cf47 & 0x2d2d2a1f9bfda0d2364b4d517f862e52fefc2703 \\\\\n",
       "\t19 & 0xcf63e1c31805254b6fb3ed7829206c2b2505e3a7 & 0x150ef95cdb28f7ac32926917b9342c0759dbee04 \\\\\n",
       "\t20 & 0xe4e55bb5118fb39ae81eaada22ec8378d56526d5 & 0x4b6760682191de7e476b801b7ab42d8e8a5b041a \\\\\n",
       "\t21 & 0xd1289bbb6f1633bb56963bf9d51923cf9ea965e8 & 0xe4490a4961c53239cf58d8026a148ce9a530d0ed \\\\\n",
       "\t22 & 0x07df7775902c31c24eddac2c462b30cf988d7e19 & 0xab12253171a0d73df64b115cd43fe0a32feb9daa \\\\\n",
       "\t23 & 0x6effc6bd984ef5a80fb9d6d48cc1ef6d8ef05113 & 0xe1c081cd74aacc91711ce1d48fb318d0071fcd65 \\\\\n",
       "\t24 & 0x7ac9332bce5d4a8e078cfdbe605a362cfe723499 & 0x60ac2b506fd7abac763c9c4301f38e2860283812 \\\\\n",
       "\t25 & 0x9a5260ea769d664a8ca41f9ee1fb92308d72ecbc & 0x0018951d399eafa471af3cb7e14eed3694b23ccd \\\\\n",
       "\t26 & 0xe69e7d52c133f1fe56fe80613cb158037c509254 & 0x0fce046251322106304b80d15b09caa64b010522 \\\\\n",
       "\t27 & 0xf169913283e7fbf3d798771bfaaca021244cad26 & 0x00de4b13153673bcae2616b67bf822500d325fc3 \\\\\n",
       "\t28 & 0x89750b98e854759786da9af7f05d55dde2be5552 & 0x06cb1bac771838d291c52aab8148c64b7af1938c \\\\\n",
       "\t29 & 0x4a3fcaa620eb1fbcb6c2016443fcd8208f6dca77 & 0x02edb6fa3823098012c1199f466ac4336a3a4ad4 \\\\\n",
       "\t30 & 0x4278314c1a50da6014e580cbff34fc383b335049 & 0x644628d696fd07fcd8bda2e8b9a680734cc80a93 \\\\\n",
       "\t$\\dots$ & $\\dots$ & $\\dots$ \\\\\n",
       "\\end{tabular}\n"
      ],
      "text/plain": [
       "\u001b[1m11230×2 DataFrame\u001b[0m\n",
       "\u001b[1m   Row \u001b[0m│\u001b[1m from_address                      \u001b[0m\u001b[1m to_address                        \u001b[0m\n",
       "\u001b[1m       \u001b[0m│\u001b[90m Any                               \u001b[0m\u001b[90m Any                               \u001b[0m\n",
       "───────┼──────────────────────────────────────────────────────────────────────\n",
       "     1 │ 0x0c63d55a244657f5606d62856bd9f1…  0x0e54db73f82bd9fde34ebce53ea83b…\n",
       "     2 │ 0xd9ee088c6ca2a90d6f0d059af17c2e…  0xc73ef94bc339a2cb9a1b67820af46b…\n",
       "     3 │ 0xbf7c205febae32f7874b28b9f371fe…  0xe5b5df72187f7d867973615f5e1144…\n",
       "     4 │ 0x35f081bdf4740ffa8a56ff98e4b971…  0x09fe8f71f8e14b3d6b6456fbafaaef…\n",
       "     5 │ 0xa8308e994d180ca87c6a784fcb8612…  0x46ba0af6bc60e6fabd9957744c057d…\n",
       "     6 │ 0xf62e92b2452d8a0fbb2c4b03424d67…  0xf94571dbdff33446dabd17040cd623…\n",
       "     7 │ 0xce91fddab3c544b59ebac665a76355…  0x865ec62a7f46aab0976ad22573fcf3…\n",
       "     8 │ 0x134b9eab4aa4c1489687c18c10d733…  0x68a99f89e475a078645f4bac491360…\n",
       "     9 │ 0xcd1690b5ae49b4bd1ac5d201dccb46…  0x8a83716acd66d9e1fb18c9b79540b7…\n",
       "    10 │ 0xc77fa6c05b4e472feee7c0f9b20e70…  0x4e1ce0b96fc37f81f5508c6608687a…\n",
       "    11 │ 0xdf86d9ca55e2ebf191d11337d962d5…  0x9832178f975879c0765bef385e40a9…\n",
       "   ⋮   │                 ⋮                                  ⋮\n",
       " 11221 │ 0x36c8cce60a873a1c5688b619f42367…  0x69568ddc55ed751aae18754bd78071…\n",
       " 11222 │ 0xd99ae9a34c5d7084b3a7c95fc1ca9e…  0x54174d013e49a80b91ee14f819cadb…\n",
       " 11223 │ 0x0132786eac9e306b13cad3826e34e1…  0x782b638a99c7d1f027e10ad3aa35fd…\n",
       " 11224 │ 0xdee0f540d3d535245a7f9e4103bca0…  0xec01f7e2341fc037b4187309d3265d…\n",
       " 11225 │ 0xe223bb07a5df532876f24884e1663d…  0xf09020b6638bd6b15d57ad89375e37…\n",
       " 11226 │ 0x8aa25ef2c43f0afc214ed7263b6abd…  0x99a640b024e9b8c0a9d40f8fc7148d…\n",
       " 11227 │ 0xca968044effff14bee263ca6af3b98…  0x303c223e6acafe204800fea771842c…\n",
       " 11228 │ 0x82eab62c00161baca05c6bd20c9292…  0x71232ead3bec1ac03ecfe2556acd6c…\n",
       " 11229 │ 0xb3a502d437124e8733082dc654dc43…  0xaabb8549bd3950704dad65f01bd047…\n",
       " 11230 │ 0x42ca45b785d87b8375dff176555c74…  0x059e51c98c0a5b89624e8c1937a001…\n",
       "\u001b[36m                                                            11209 rows omitted\u001b[0m"
      ]
     },
     "execution_count": 36,
     "metadata": {},
     "output_type": "execute_result"
    }
   ],
   "source": [
    "clean_addresses_df = preprocess_data(address_and_withdraw_df)"
   ]
  },
  {
   "cell_type": "code",
   "execution_count": 39,
   "id": "6a8f41ed",
   "metadata": {},
   "outputs": [],
   "source": [
    "# delete\n",
    "unique_and_permuted(address_and_withdraw_df);"
   ]
  },
  {
   "cell_type": "code",
   "execution_count": 5,
   "id": "2c688a47",
   "metadata": {},
   "outputs": [
    {
     "data": {
      "text/plain": [
       "is_DW_type (generic function with 1 method)"
      ]
     },
     "execution_count": 5,
     "metadata": {},
     "output_type": "execute_result"
    }
   ],
   "source": [
    "# function is_D_type(address, unique_deposit_addresses, unique_withdraw_addresses)\n",
    "function is_D_type(address)\n",
    "    address ∈ unique_deposit_addresses && address ∉ unique_withdraw_addresses\n",
    "end\n",
    "\n",
    "# function is_W_type(address, unique_deposit_addresses, unique_withdraw_addresses)\n",
    "function is_W_type(address)\n",
    "    address ∉ unique_deposit_addresses && address ∈ unique_withdraw_addresses\n",
    "end\n",
    "\n",
    "# function is_DW_type(address, unique_deposit_addresses, unique_withdraw_addresses)\n",
    "function is_DW_type(address)\n",
    "    address ∈ unique_deposit_addresses && address ∈ unique_withdraw_addresses\n",
    "end"
   ]
  },
  {
   "cell_type": "code",
   "execution_count": 6,
   "id": "83fd2b37",
   "metadata": {},
   "outputs": [
    {
     "data": {
      "text/plain": [
       "is_DW_DW_tx (generic function with 1 method)"
      ]
     },
     "execution_count": 6,
     "metadata": {},
     "output_type": "execute_result"
    }
   ],
   "source": [
    "function is_D_W_tx(from_address, to_address)\n",
    "    is_D_type(from_address) && is_W_type(to_address)\n",
    "end\n",
    "\n",
    "function is_W_D_tx(from_address, to_address)\n",
    "    is_W_type(from_address) && is_D_type(to_address)\n",
    "end\n",
    "\n",
    "function is_D_DW_tx(from_address, to_address)\n",
    "    is_D_type(from_address) && is_DW_type(to_address)\n",
    "end\n",
    "\n",
    "function is_DW_D_tx(from_address, to_address)\n",
    "    is_DW_type(from_address) && is_D_type(to_address)\n",
    "end\n",
    "\n",
    "function is_W_DW_tx(from_address, to_address)\n",
    "    is_W_type(from_address) && is_DW_type(to_address)\n",
    "end\n",
    "\n",
    "function is_DW_W_tx(from_address, to_address)\n",
    "    is_DW_type(from_address) && is_W_type(to_address)\n",
    "end\n",
    "\n",
    "function is_DW_DW_tx(from_address, to_address)\n",
    "    is_DW_type(from_address) && is_DW_type(to_address)\n",
    "end "
   ]
  },
  {
   "cell_type": "code",
   "execution_count": 7,
   "id": "df3de5ba",
   "metadata": {},
   "outputs": [
    {
     "data": {
      "text/plain": [
       "create_deposit_and_withdraw_df (generic function with 1 method)"
      ]
     },
     "execution_count": 7,
     "metadata": {},
     "output_type": "execute_result"
    }
   ],
   "source": [
    "function create_deposit_and_withdraw_df(address_and_withdraw_df, unique_deposit_addresses, unique_withdraw_addresses)\n",
    "    \n",
    "    # D | W\n",
    "    deposit_and_withdraw_matrix = Matrix{String}\n",
    "    \n",
    "    for row in ProgressBar(eachrow(address_and_withdraw_df), printing_delay=0.1)\n",
    "        if is_D_W_tx(row.from_address, row.to_address) || is_D_DW_tx(row.from_address, row.to_address) || is_DW_W_tx(row.from_address, row.to_address)\n",
    "            deposit_and_withdraw_matrix = vcat(deposit_and_withdraw_matrix, [row.from_address row.to_address])\n",
    "            \n",
    "        elseif is_W_D_tx(row.from_address, row.to_address) || is_W_DW_tx(row.from_address, row.to_address) || is_DW_D_tx(row.from_address, row.to_address)\n",
    "            deposit_and_withdraw_matrix = vcat(deposit_and_withdraw_matrix, [row.to_address row.from_address])\n",
    "            \n",
    "        elseif is_DW_DW_tx(row.from_address, row.to_address)\n",
    "            deposit_and_withdraw_matrix = vcat(deposit_and_withdraw_matrix, [row.from_address row.to_address; row.to_address row.from_address])\n",
    "            \n",
    "        else\n",
    "            throw(\"The transaction is not from any of the types: D_W, W_D, D_DW, DW_D, W_DW, DW_W, DW_DW\")\n",
    "            \n",
    "        end\n",
    "    end\n",
    "    \n",
    "    DataFrame(deposit_and_withdraw_matrix, [:deposit_address, :withdraw_address])\n",
    "end"
   ]
  },
  {
   "cell_type": "code",
   "execution_count": null,
   "id": "aeaebe65",
   "metadata": {},
   "outputs": [],
   "source": []
  },
  {
   "cell_type": "code",
   "execution_count": 8,
   "id": "e853742a",
   "metadata": {
    "scrolled": true
   },
   "outputs": [
    {
     "name": "stderr",
     "output_type": "stream",
     "text": [
      "0.0%┣                                          ┫ 0/11.2k [00:00<-18:-43, -0s/it]\n",
      "0.0%┣                                        ┫ 1/11.2k [00:01<Inf:Inf, InfGs/it]\n",
      "0.0%┣                                          ┫ 2/11.2k [00:01<02:48:06, 1it/s]\n",
      "0.0%┣                                          ┫ 3/11.2k [00:01<01:49:04, 2it/s]\n",
      "29.6%┣███████████▎                          ┫ 3.3k/11.2k [00:01<00:03, 2.6kit/s]\n",
      "41.1%┣███████████████▋                      ┫ 4.6k/11.2k [00:01<00:02, 3.4kit/s]\n",
      "51.7%┣███████████████████▋                  ┫ 5.8k/11.2k [00:01<00:01, 4.0kit/s]\n",
      "59.9%┣██████████████████████▊               ┫ 6.7k/11.2k [00:02<00:01, 4.3kit/s]\n",
      "68.5%┣██████████████████████████            ┫ 7.7k/11.2k [00:02<00:01, 4.6kit/s]\n",
      "76.4%┣█████████████████████████████         ┫ 8.6k/11.2k [00:02<00:01, 4.8kit/s]\n",
      "83.0%┣███████████████████████████████▌      ┫ 9.3k/11.2k [00:02<00:00, 5.0kit/s]\n",
      "89.3%┣█████████████████████████████████    ┫ 10.0k/11.2k [00:02<00:00, 5.1kit/s]\n",
      "94.8%┣███████████████████████████████████  ┫ 10.6k/11.2k [00:02<00:00, 5.1kit/s]\n",
      "100.0%┣████████████████████████████████████┫ 11.2k/11.2k [00:02<00:00, 5.2kit/s]\n"
     ]
    }
   ],
   "source": [
    "D_W_df = create_deposit_and_withdraw_df(clean_addresses_df, unique_deposit_addresses, unique_withdraw_addresses)[2:end,:];"
   ]
  },
  {
   "cell_type": "code",
   "execution_count": 9,
   "id": "b8114c0f",
   "metadata": {},
   "outputs": [
    {
     "data": {
      "text/html": [
       "<div class=\"data-frame\"><p>12,385 rows × 2 columns</p><table class=\"data-frame\"><thead><tr><th></th><th>deposit_address</th><th>withdraw_address</th></tr><tr><th></th><th title=\"Any\">Any</th><th title=\"Any\">Any</th></tr></thead><tbody><tr><th>1</th><td>0x0c63d55a244657f5606d62856bd9f1ff227c05f2</td><td>0x0e54db73f82bd9fde34ebce53ea83bd197e9044c</td></tr><tr><th>2</th><td>0xd9ee088c6ca2a90d6f0d059af17c2ec2c908bb0f</td><td>0xc73ef94bc339a2cb9a1b67820af46bf47484a1ed</td></tr><tr><th>3</th><td>0xbf7c205febae32f7874b28b9f371fe522e1fd97a</td><td>0xe5b5df72187f7d867973615f5e1144b7a95b495f</td></tr><tr><th>4</th><td>0xe5b5df72187f7d867973615f5e1144b7a95b495f</td><td>0xbf7c205febae32f7874b28b9f371fe522e1fd97a</td></tr><tr><th>5</th><td>0x09fe8f71f8e14b3d6b6456fbafaaef4a27f042cd</td><td>0x35f081bdf4740ffa8a56ff98e4b971fbcb7d82a7</td></tr><tr><th>6</th><td>0xa8308e994d180ca87c6a784fcb8612dec9ede03d</td><td>0x46ba0af6bc60e6fabd9957744c057d031c720ace</td></tr><tr><th>7</th><td>0xf62e92b2452d8a0fbb2c4b03424d679c86660001</td><td>0xf94571dbdff33446dabd17040cd6236b0d2c2545</td></tr><tr><th>8</th><td>0x865ec62a7f46aab0976ad22573fcf319c3f939ce</td><td>0xce91fddab3c544b59ebac665a7635561043a7def</td></tr><tr><th>9</th><td>0x134b9eab4aa4c1489687c18c10d7338656fde32d</td><td>0x68a99f89e475a078645f4bac491360afe255dff1</td></tr><tr><th>10</th><td>0x8a83716acd66d9e1fb18c9b79540b72e04f80ac0</td><td>0xcd1690b5ae49b4bd1ac5d201dccb461887a76dcd</td></tr><tr><th>11</th><td>0xc77fa6c05b4e472feee7c0f9b20e70c5bf33a99b</td><td>0x4e1ce0b96fc37f81f5508c6608687af4f78f23b2</td></tr><tr><th>12</th><td>0xdf86d9ca55e2ebf191d11337d962d5686893b4e2</td><td>0x9832178f975879c0765bef385e40a9776f49ac69</td></tr><tr><th>13</th><td>0x9832178f975879c0765bef385e40a9776f49ac69</td><td>0xdf86d9ca55e2ebf191d11337d962d5686893b4e2</td></tr><tr><th>14</th><td>0x64814817b4174c4b0fab09b87122cf62c9907788</td><td>0x0857357c8b2f6a5a27c2adb0f5e97086028d55ca</td></tr><tr><th>15</th><td>0x56258340928387d88b7b619b96bc008c173d67cd</td><td>0x467ea1dac5e8ea37c8040cf81b4b15f66cf3eb2c</td></tr><tr><th>16</th><td>0xdf23b720cdf2b2fe62be9be5b6637f2688bed834</td><td>0x1045d46851b649363297c9969c18d7d4c1683d08</td></tr><tr><th>17</th><td>0x7c085b8ab3230028ddd458faa0f9d137e039bcf5</td><td>0xa79eb13e7336d6c240f6718d572a8b5aec0623c6</td></tr><tr><th>18</th><td>0xb9b8ef61b7851276b0239757a039d54a23804cbb</td><td>0x20068ff6c39b59112b2488dc33660f5cc40689bd</td></tr><tr><th>19</th><td>0xd4c8127af1de3ebf8ab7449aac0fd892b70f3b45</td><td>0x2f80e5163a7a774038753593010173322ea6f9fe</td></tr><tr><th>20</th><td>0x2d2d2a1f9bfda0d2364b4d517f862e52fefc2703</td><td>0x1c051112075feaee33bcdbe0984c2bb0db53cf47</td></tr><tr><th>21</th><td>0xcf63e1c31805254b6fb3ed7829206c2b2505e3a7</td><td>0x150ef95cdb28f7ac32926917b9342c0759dbee04</td></tr><tr><th>22</th><td>0xe4e55bb5118fb39ae81eaada22ec8378d56526d5</td><td>0x4b6760682191de7e476b801b7ab42d8e8a5b041a</td></tr><tr><th>23</th><td>0xe4490a4961c53239cf58d8026a148ce9a530d0ed</td><td>0xd1289bbb6f1633bb56963bf9d51923cf9ea965e8</td></tr><tr><th>24</th><td>0x07df7775902c31c24eddac2c462b30cf988d7e19</td><td>0xab12253171a0d73df64b115cd43fe0a32feb9daa</td></tr><tr><th>25</th><td>0xe1c081cd74aacc91711ce1d48fb318d0071fcd65</td><td>0x6effc6bd984ef5a80fb9d6d48cc1ef6d8ef05113</td></tr><tr><th>26</th><td>0x60ac2b506fd7abac763c9c4301f38e2860283812</td><td>0x7ac9332bce5d4a8e078cfdbe605a362cfe723499</td></tr><tr><th>27</th><td>0x9a5260ea769d664a8ca41f9ee1fb92308d72ecbc</td><td>0x0018951d399eafa471af3cb7e14eed3694b23ccd</td></tr><tr><th>28</th><td>0x0fce046251322106304b80d15b09caa64b010522</td><td>0xe69e7d52c133f1fe56fe80613cb158037c509254</td></tr><tr><th>29</th><td>0x00de4b13153673bcae2616b67bf822500d325fc3</td><td>0xf169913283e7fbf3d798771bfaaca021244cad26</td></tr><tr><th>30</th><td>0x06cb1bac771838d291c52aab8148c64b7af1938c</td><td>0x89750b98e854759786da9af7f05d55dde2be5552</td></tr><tr><th>&vellip;</th><td>&vellip;</td><td>&vellip;</td></tr></tbody></table></div>"
      ],
      "text/latex": [
       "\\begin{tabular}{r|cc}\n",
       "\t& deposit\\_address & withdraw\\_address\\\\\n",
       "\t\\hline\n",
       "\t& Any & Any\\\\\n",
       "\t\\hline\n",
       "\t1 & 0x0c63d55a244657f5606d62856bd9f1ff227c05f2 & 0x0e54db73f82bd9fde34ebce53ea83bd197e9044c \\\\\n",
       "\t2 & 0xd9ee088c6ca2a90d6f0d059af17c2ec2c908bb0f & 0xc73ef94bc339a2cb9a1b67820af46bf47484a1ed \\\\\n",
       "\t3 & 0xbf7c205febae32f7874b28b9f371fe522e1fd97a & 0xe5b5df72187f7d867973615f5e1144b7a95b495f \\\\\n",
       "\t4 & 0xe5b5df72187f7d867973615f5e1144b7a95b495f & 0xbf7c205febae32f7874b28b9f371fe522e1fd97a \\\\\n",
       "\t5 & 0x09fe8f71f8e14b3d6b6456fbafaaef4a27f042cd & 0x35f081bdf4740ffa8a56ff98e4b971fbcb7d82a7 \\\\\n",
       "\t6 & 0xa8308e994d180ca87c6a784fcb8612dec9ede03d & 0x46ba0af6bc60e6fabd9957744c057d031c720ace \\\\\n",
       "\t7 & 0xf62e92b2452d8a0fbb2c4b03424d679c86660001 & 0xf94571dbdff33446dabd17040cd6236b0d2c2545 \\\\\n",
       "\t8 & 0x865ec62a7f46aab0976ad22573fcf319c3f939ce & 0xce91fddab3c544b59ebac665a7635561043a7def \\\\\n",
       "\t9 & 0x134b9eab4aa4c1489687c18c10d7338656fde32d & 0x68a99f89e475a078645f4bac491360afe255dff1 \\\\\n",
       "\t10 & 0x8a83716acd66d9e1fb18c9b79540b72e04f80ac0 & 0xcd1690b5ae49b4bd1ac5d201dccb461887a76dcd \\\\\n",
       "\t11 & 0xc77fa6c05b4e472feee7c0f9b20e70c5bf33a99b & 0x4e1ce0b96fc37f81f5508c6608687af4f78f23b2 \\\\\n",
       "\t12 & 0xdf86d9ca55e2ebf191d11337d962d5686893b4e2 & 0x9832178f975879c0765bef385e40a9776f49ac69 \\\\\n",
       "\t13 & 0x9832178f975879c0765bef385e40a9776f49ac69 & 0xdf86d9ca55e2ebf191d11337d962d5686893b4e2 \\\\\n",
       "\t14 & 0x64814817b4174c4b0fab09b87122cf62c9907788 & 0x0857357c8b2f6a5a27c2adb0f5e97086028d55ca \\\\\n",
       "\t15 & 0x56258340928387d88b7b619b96bc008c173d67cd & 0x467ea1dac5e8ea37c8040cf81b4b15f66cf3eb2c \\\\\n",
       "\t16 & 0xdf23b720cdf2b2fe62be9be5b6637f2688bed834 & 0x1045d46851b649363297c9969c18d7d4c1683d08 \\\\\n",
       "\t17 & 0x7c085b8ab3230028ddd458faa0f9d137e039bcf5 & 0xa79eb13e7336d6c240f6718d572a8b5aec0623c6 \\\\\n",
       "\t18 & 0xb9b8ef61b7851276b0239757a039d54a23804cbb & 0x20068ff6c39b59112b2488dc33660f5cc40689bd \\\\\n",
       "\t19 & 0xd4c8127af1de3ebf8ab7449aac0fd892b70f3b45 & 0x2f80e5163a7a774038753593010173322ea6f9fe \\\\\n",
       "\t20 & 0x2d2d2a1f9bfda0d2364b4d517f862e52fefc2703 & 0x1c051112075feaee33bcdbe0984c2bb0db53cf47 \\\\\n",
       "\t21 & 0xcf63e1c31805254b6fb3ed7829206c2b2505e3a7 & 0x150ef95cdb28f7ac32926917b9342c0759dbee04 \\\\\n",
       "\t22 & 0xe4e55bb5118fb39ae81eaada22ec8378d56526d5 & 0x4b6760682191de7e476b801b7ab42d8e8a5b041a \\\\\n",
       "\t23 & 0xe4490a4961c53239cf58d8026a148ce9a530d0ed & 0xd1289bbb6f1633bb56963bf9d51923cf9ea965e8 \\\\\n",
       "\t24 & 0x07df7775902c31c24eddac2c462b30cf988d7e19 & 0xab12253171a0d73df64b115cd43fe0a32feb9daa \\\\\n",
       "\t25 & 0xe1c081cd74aacc91711ce1d48fb318d0071fcd65 & 0x6effc6bd984ef5a80fb9d6d48cc1ef6d8ef05113 \\\\\n",
       "\t26 & 0x60ac2b506fd7abac763c9c4301f38e2860283812 & 0x7ac9332bce5d4a8e078cfdbe605a362cfe723499 \\\\\n",
       "\t27 & 0x9a5260ea769d664a8ca41f9ee1fb92308d72ecbc & 0x0018951d399eafa471af3cb7e14eed3694b23ccd \\\\\n",
       "\t28 & 0x0fce046251322106304b80d15b09caa64b010522 & 0xe69e7d52c133f1fe56fe80613cb158037c509254 \\\\\n",
       "\t29 & 0x00de4b13153673bcae2616b67bf822500d325fc3 & 0xf169913283e7fbf3d798771bfaaca021244cad26 \\\\\n",
       "\t30 & 0x06cb1bac771838d291c52aab8148c64b7af1938c & 0x89750b98e854759786da9af7f05d55dde2be5552 \\\\\n",
       "\t$\\dots$ & $\\dots$ & $\\dots$ \\\\\n",
       "\\end{tabular}\n"
      ],
      "text/plain": [
       "\u001b[1m12385×2 DataFrame\u001b[0m\n",
       "\u001b[1m   Row \u001b[0m│\u001b[1m deposit_address                   \u001b[0m\u001b[1m withdraw_address                  \u001b[0m\n",
       "\u001b[1m       \u001b[0m│\u001b[90m Any                               \u001b[0m\u001b[90m Any                               \u001b[0m\n",
       "───────┼──────────────────────────────────────────────────────────────────────\n",
       "     1 │ 0x0c63d55a244657f5606d62856bd9f1…  0x0e54db73f82bd9fde34ebce53ea83b…\n",
       "     2 │ 0xd9ee088c6ca2a90d6f0d059af17c2e…  0xc73ef94bc339a2cb9a1b67820af46b…\n",
       "     3 │ 0xbf7c205febae32f7874b28b9f371fe…  0xe5b5df72187f7d867973615f5e1144…\n",
       "     4 │ 0xe5b5df72187f7d867973615f5e1144…  0xbf7c205febae32f7874b28b9f371fe…\n",
       "     5 │ 0x09fe8f71f8e14b3d6b6456fbafaaef…  0x35f081bdf4740ffa8a56ff98e4b971…\n",
       "     6 │ 0xa8308e994d180ca87c6a784fcb8612…  0x46ba0af6bc60e6fabd9957744c057d…\n",
       "     7 │ 0xf62e92b2452d8a0fbb2c4b03424d67…  0xf94571dbdff33446dabd17040cd623…\n",
       "     8 │ 0x865ec62a7f46aab0976ad22573fcf3…  0xce91fddab3c544b59ebac665a76355…\n",
       "     9 │ 0x134b9eab4aa4c1489687c18c10d733…  0x68a99f89e475a078645f4bac491360…\n",
       "    10 │ 0x8a83716acd66d9e1fb18c9b79540b7…  0xcd1690b5ae49b4bd1ac5d201dccb46…\n",
       "    11 │ 0xc77fa6c05b4e472feee7c0f9b20e70…  0x4e1ce0b96fc37f81f5508c6608687a…\n",
       "   ⋮   │                 ⋮                                  ⋮\n",
       " 12376 │ 0x54174d013e49a80b91ee14f819cadb…  0xd99ae9a34c5d7084b3a7c95fc1ca9e…\n",
       " 12377 │ 0x0132786eac9e306b13cad3826e34e1…  0x782b638a99c7d1f027e10ad3aa35fd…\n",
       " 12378 │ 0xec01f7e2341fc037b4187309d3265d…  0xdee0f540d3d535245a7f9e4103bca0…\n",
       " 12379 │ 0xe223bb07a5df532876f24884e1663d…  0xf09020b6638bd6b15d57ad89375e37…\n",
       " 12380 │ 0x8aa25ef2c43f0afc214ed7263b6abd…  0x99a640b024e9b8c0a9d40f8fc7148d…\n",
       " 12381 │ 0xca968044effff14bee263ca6af3b98…  0x303c223e6acafe204800fea771842c…\n",
       " 12382 │ 0x71232ead3bec1ac03ecfe2556acd6c…  0x82eab62c00161baca05c6bd20c9292…\n",
       " 12383 │ 0xb3a502d437124e8733082dc654dc43…  0xaabb8549bd3950704dad65f01bd047…\n",
       " 12384 │ 0xaabb8549bd3950704dad65f01bd047…  0xb3a502d437124e8733082dc654dc43…\n",
       " 12385 │ 0x42ca45b785d87b8375dff176555c74…  0x059e51c98c0a5b89624e8c1937a001…\n",
       "\u001b[36m                                                            12364 rows omitted\u001b[0m"
      ]
     },
     "execution_count": 9,
     "metadata": {},
     "output_type": "execute_result"
    }
   ],
   "source": [
    "D_W_df"
   ]
  },
  {
   "cell_type": "code",
   "execution_count": 10,
   "id": "fb199f68",
   "metadata": {},
   "outputs": [],
   "source": [
    "tornado_addresses = Dict(\n",
    "    \"0xd4b88df4d29f5cedd6857912842cff3b20c8cfa3\" => \"100 DAI\",\n",
    "    \"0xfd8610d20aa15b7b2e3be39b396a1bc3516c7144\" => \"1000 DAI\",\n",
    "    \"0x07687e702b410fa43f4cb4af7fa097918ffd2730\" => \"10000 DAI\",\n",
    "    \"0x23773e65ed146a459791799d01336db287f25334\" => \"100000 DAI\",\n",
    "    \"0x12d66f87a04a9e220743712ce6d9bb1b5616b8fc\" => \"0.1 ETH\",\n",
    "    \"0x47ce0c6ed5b0ce3d3a51fdb1c52dc66a7c3c2936\" => \"1 ETH\",\n",
    "    \"0x910cbd523d972eb0a6f4cae4618ad62622b39dbf\" => \"10 ETH\",\n",
    "    \"0xa160cdab225685da1d56aa342ad8841c3b53f291\" => \"100 ETH\",\n",
    "    \"0xd96f2b1c14db8458374d9aca76e26c3d18364307\" => \"100 USDC\",\n",
    "    \"0x4736dcf1b7a3d580672cce6e7c65cd5cc9cfba9d\" => \"1000 USDC\",\n",
    "    \"0x169ad27a470d064dede56a2d3ff727986b15d52b\" => \"100 USDT\",\n",
    "    \"0x0836222f2b2b24a3f36f98668ed8f0b38d1a872f\" => \"1000 USDT\",\n",
    "    \"0x178169b423a011fff22b9e3f3abea13414ddd0f1\" => \"0.1 WBTC\",\n",
    "    \"0x610b717796ad172b316836ac95a2ffad065ceab4\" => \"1 WBTC\",\n",
    "    \"0xbb93e510bbcd0b7beb5a853875f9ec60275cf498\" => \"10 WBTC\",\n",
    "    \"0x22aaa7720ddd5388a3c0a3333430953c68f1849b\" => \"5000 cDAI\",\n",
    "    \"0x03893a7c7463ae47d46bc7f091665f1893656003\" => \"50000 cDAI\",\n",
    "    \"0x2717c5e28cf931547b621a5dddb772ab6a35b701\" => \"500000 cDAI\",\n",
    "    \"0xd21be7248e0197ee08e0c20d4a96debdac3d20af\" => \"5000000 cDAI\"\n",
    "    );"
   ]
  },
  {
   "cell_type": "code",
   "execution_count": 28,
   "id": "42f273ed",
   "metadata": {},
   "outputs": [
    {
     "data": {
      "text/plain": [
       "get_tcash_transactions_done (generic function with 1 method)"
      ]
     },
     "execution_count": 28,
     "metadata": {},
     "output_type": "execute_result"
    }
   ],
   "source": [
    "function get_tcash_transactions_done(address, tornado_transactions_df, tornado_addresses; transaction_type)\n",
    "    \n",
    "    address_field =\n",
    "        if transaction_type == :deposit \"from_address\" \n",
    "        elseif transaction_type == :withdraw \"recipient_address\"\n",
    "        else throw(\"Transaction type parameter error\")\n",
    "        end\n",
    "    \n",
    "    # The number of withdraws is initialized at 1 since the withdraw_transaction of the first argument is always present\n",
    "    # in the withdrawal data. Also, the count should be 1 if there is no other transaction with the same address.\n",
    "    \n",
    "    transactions_dict = Dict()\n",
    "    \n",
    "    address_transactions = filter(row -> row[address_field] == address, tornado_transactions_df)\n",
    "    \n",
    "    # This for loop counts the number of transactions with the same address. At the end, the total number is returned.\n",
    "    # The count is done considering that the recipient_address of each of the transactions in the withdraw_transactions_df\n",
    "    # is the same as the recipient_address of the withdraw_transaction input, and that the timestamp of the rows is earlier\n",
    "    # than the withdraw_transaction input. \n",
    "    # The if clause also filters by the transaction hash, since we don't want to count the same transaction two times.\n",
    "    \n",
    "    for row ∈ eachrow(address_transactions)\n",
    "        if haskey(transactions_dict, tornado_addresses[row.tornado_cash_address])\n",
    "            push!(transactions_dict[tornado_addresses[row.tornado_cash_address]], (hash=row.hash, timestamp=row.block_timestamp))\n",
    "        else\n",
    "            transactions_dict[tornado_addresses[row.tornado_cash_address]] = [(hash=row.hash, timestamp=row.block_timestamp)]\n",
    "        end\n",
    "    end\n",
    "\n",
    "    Dict(address => transactions_dict)\n",
    "end"
   ]
  },
  {
   "cell_type": "code",
   "execution_count": 12,
   "id": "85bb7916",
   "metadata": {},
   "outputs": [
    {
     "data": {
      "text/plain": [
       "Dict{String, Dict{Any, Any}} with 1 entry:\n",
       "  \"0x0c63d55a244657f5606d6… => Dict(\"100 ETH\"=>NamedTuple{(:hash, :timestamp), …"
      ]
     },
     "execution_count": 12,
     "metadata": {},
     "output_type": "execute_result"
    }
   ],
   "source": [
    "get_tcash_transactions_done(\"0x0c63d55a244657f5606d62856bd9f1ff227c05f2\", deposit_txs, tornado_addresses; transaction_type=:deposit)"
   ]
  },
  {
   "cell_type": "code",
   "execution_count": 13,
   "id": "0cfa294c",
   "metadata": {},
   "outputs": [
    {
     "data": {
      "text/html": [
       "<div class=\"data-frame\"><p>5 rows × 2 columns</p><table class=\"data-frame\"><thead><tr><th></th><th>deposit_address</th><th>withdraw_address</th></tr><tr><th></th><th title=\"Any\">Any</th><th title=\"Any\">Any</th></tr></thead><tbody><tr><th>1</th><td>0x0c63d55a244657f5606d62856bd9f1ff227c05f2</td><td>0x0e54db73f82bd9fde34ebce53ea83bd197e9044c</td></tr><tr><th>2</th><td>0xd9ee088c6ca2a90d6f0d059af17c2ec2c908bb0f</td><td>0xc73ef94bc339a2cb9a1b67820af46bf47484a1ed</td></tr><tr><th>3</th><td>0xbf7c205febae32f7874b28b9f371fe522e1fd97a</td><td>0xe5b5df72187f7d867973615f5e1144b7a95b495f</td></tr><tr><th>4</th><td>0xe5b5df72187f7d867973615f5e1144b7a95b495f</td><td>0xbf7c205febae32f7874b28b9f371fe522e1fd97a</td></tr><tr><th>5</th><td>0x09fe8f71f8e14b3d6b6456fbafaaef4a27f042cd</td><td>0x35f081bdf4740ffa8a56ff98e4b971fbcb7d82a7</td></tr></tbody></table></div>"
      ],
      "text/latex": [
       "\\begin{tabular}{r|cc}\n",
       "\t& deposit\\_address & withdraw\\_address\\\\\n",
       "\t\\hline\n",
       "\t& Any & Any\\\\\n",
       "\t\\hline\n",
       "\t1 & 0x0c63d55a244657f5606d62856bd9f1ff227c05f2 & 0x0e54db73f82bd9fde34ebce53ea83bd197e9044c \\\\\n",
       "\t2 & 0xd9ee088c6ca2a90d6f0d059af17c2ec2c908bb0f & 0xc73ef94bc339a2cb9a1b67820af46bf47484a1ed \\\\\n",
       "\t3 & 0xbf7c205febae32f7874b28b9f371fe522e1fd97a & 0xe5b5df72187f7d867973615f5e1144b7a95b495f \\\\\n",
       "\t4 & 0xe5b5df72187f7d867973615f5e1144b7a95b495f & 0xbf7c205febae32f7874b28b9f371fe522e1fd97a \\\\\n",
       "\t5 & 0x09fe8f71f8e14b3d6b6456fbafaaef4a27f042cd & 0x35f081bdf4740ffa8a56ff98e4b971fbcb7d82a7 \\\\\n",
       "\\end{tabular}\n"
      ],
      "text/plain": [
       "\u001b[1m5×2 DataFrame\u001b[0m\n",
       "\u001b[1m Row \u001b[0m│\u001b[1m deposit_address                   \u001b[0m\u001b[1m withdraw_address                  \u001b[0m\n",
       "\u001b[1m     \u001b[0m│\u001b[90m Any                               \u001b[0m\u001b[90m Any                               \u001b[0m\n",
       "─────┼──────────────────────────────────────────────────────────────────────\n",
       "   1 │ 0x0c63d55a244657f5606d62856bd9f1…  0x0e54db73f82bd9fde34ebce53ea83b…\n",
       "   2 │ 0xd9ee088c6ca2a90d6f0d059af17c2e…  0xc73ef94bc339a2cb9a1b67820af46b…\n",
       "   3 │ 0xbf7c205febae32f7874b28b9f371fe…  0xe5b5df72187f7d867973615f5e1144…\n",
       "   4 │ 0xe5b5df72187f7d867973615f5e1144…  0xbf7c205febae32f7874b28b9f371fe…\n",
       "   5 │ 0x09fe8f71f8e14b3d6b6456fbafaaef…  0x35f081bdf4740ffa8a56ff98e4b971…"
      ]
     },
     "execution_count": 13,
     "metadata": {},
     "output_type": "execute_result"
    }
   ],
   "source": [
    "first(D_W_df, 5)"
   ]
  },
  {
   "cell_type": "code",
   "execution_count": 14,
   "id": "5b4a85f8",
   "metadata": {},
   "outputs": [
    {
     "data": {
      "text/plain": [
       "get_addresses_transactions (generic function with 1 method)"
      ]
     },
     "execution_count": 14,
     "metadata": {},
     "output_type": "execute_result"
    }
   ],
   "source": [
    "function get_addresses_transactions(addresses, tornado_transactions_df, tornado_addresses; transaction_type)\n",
    "    addresses_transactions = Dict()\n",
    "    for address in ProgressBar(addresses, printing_delay=2)\n",
    "        merge!(addresses_transactions, get_tcash_transactions_done(address, tornado_transactions_df, tornado_addresses; transaction_type=transaction_type))\n",
    "    end\n",
    "    addresses_transactions\n",
    "end"
   ]
  },
  {
   "cell_type": "code",
   "execution_count": 35,
   "id": "2183ab4f",
   "metadata": {},
   "outputs": [
    {
     "name": "stderr",
     "output_type": "stream",
     "text": [
      "0.0%┣                                       ┫ 0/23.5k [00:02<-13:-3:-28, -2s/it]\n",
      "0.0%┣                                        ┫ 1/23.5k [00:02<Inf:Inf, InfGs/it]\n",
      "0.3%┣▏                                          ┫ 75/23.5k [00:04<21:23, 18it/s]\n",
      "0.7%┣▎                                         ┫ 162/23.5k [00:06<14:39, 27it/s]\n",
      "1.1%┣▌                                         ┫ 251/23.5k [00:08<12:30, 31it/s]\n",
      "1.4%┣▋                                         ┫ 340/23.5k [00:10<11:29, 34it/s]\n",
      "1.8%┣▊                                         ┫ 425/23.5k [00:12<10:59, 35it/s]\n"
     ]
    },
    {
     "ename": "LoadError",
     "evalue": "InterruptException:",
     "output_type": "error",
     "traceback": [
      "InterruptException:",
      "",
      "Stacktrace:",
      "  [1] nrow(df::DataFrame)",
      "    @ DataFrames ~/.julia/packages/DataFrames/vuMM8/src/dataframe/dataframe.jl:419",
      "  [2] size",
      "    @ ~/.julia/packages/DataFrames/vuMM8/src/abstractdataframe/abstractdataframe.jl:330 [inlined]",
      "  [3] axes",
      "    @ ~/.julia/packages/DataFrames/vuMM8/src/abstractdataframe/abstractdataframe.jl:344 [inlined]",
      "  [4] getindex",
      "    @ ~/.julia/packages/DataFrames/vuMM8/src/dataframe/dataframe.jl:468 [inlined]",
      "  [5] getindex",
      "    @ ~/.julia/packages/DataFrames/vuMM8/src/dataframerow/dataframerow.jl:212 [inlined]",
      "  [6] (::var\"#24#25\"{String, String})(row::DataFrameRow{DataFrame, DataFrames.Index})",
      "    @ Main ./In[28]:14",
      "  [7] #89",
      "    @ ~/.julia/packages/DataFrames/vuMM8/src/abstractdataframe/abstractdataframe.jl:1043 [inlined]",
      "  [8] _broadcast_getindex_evalf",
      "    @ ./broadcast.jl:648 [inlined]",
      "  [9] _broadcast_getindex",
      "    @ ./broadcast.jl:621 [inlined]",
      " [10] getindex",
      "    @ ./broadcast.jl:575 [inlined]",
      " [11] macro expansion",
      "    @ ./broadcast.jl:1002 [inlined]",
      " [12] macro expansion",
      "    @ ./simdloop.jl:77 [inlined]",
      " [13] copyto!",
      "    @ ./broadcast.jl:1001 [inlined]",
      " [14] copyto!",
      "    @ ./broadcast.jl:936 [inlined]",
      " [15] copy",
      "    @ ./broadcast.jl:908 [inlined]",
      " [16] materialize(bc::Base.Broadcast.Broadcasted{Base.Broadcast.DefaultArrayStyle{1}, Nothing, DataFrames.var\"#89#90\"{var\"#24#25\"{String, String}}, Tuple{DataFrames.DataFrameRows{DataFrame}}})",
      "    @ Base.Broadcast ./broadcast.jl:883",
      " [17] _filter_helper(f::Function, cols::DataFrames.DataFrameRows{DataFrame})",
      "    @ DataFrames ~/.julia/packages/DataFrames/vuMM8/src/abstractdataframe/abstractdataframe.jl:1043",
      " [18] #filter#78",
      "    @ ~/.julia/packages/DataFrames/vuMM8/src/abstractdataframe/abstractdataframe.jl:1016 [inlined]",
      " [19] filter",
      "    @ ~/.julia/packages/DataFrames/vuMM8/src/abstractdataframe/abstractdataframe.jl:1016 [inlined]",
      " [20] get_tcash_transactions_done(address::String, tornado_transactions_df::DataFrame, tornado_addresses::Dict{String, String}; transaction_type::Symbol)",
      "    @ Main ./In[28]:14",
      " [21] get_addresses_transactions(addresses::Set{String}, tornado_transactions_df::DataFrame, tornado_addresses::Dict{String, String}; transaction_type::Symbol)",
      "    @ Main ./In[14]:4",
      " [22] top-level scope",
      "    @ In[35]:1",
      " [23] eval",
      "    @ ./boot.jl:360 [inlined]",
      " [24] include_string(mapexpr::typeof(REPL.softscope), mod::Module, code::String, filename::String)",
      "    @ Base ./loading.jl:1094"
     ]
    }
   ],
   "source": [
    "deposit_addresses_tcash_transactions = get_addresses_transactions(unique_deposit_addresses, deposit_txs, tornado_addresses; transaction_type=:deposit)"
   ]
  },
  {
   "cell_type": "code",
   "execution_count": 16,
   "id": "1cd0ff3c",
   "metadata": {},
   "outputs": [
    {
     "name": "stderr",
     "output_type": "stream",
     "text": [
      "0.0%┣                                       ┫ 0/32.5k [00:02<-18:-4:-16, -2s/it]\n",
      "0.0%┣                                        ┫ 1/32.5k [00:02<Inf:Inf, InfGs/it]\n",
      "0.4%┣▏                                         ┫ 117/32.5k [00:04<18:49, 29it/s]\n",
      "0.7%┣▎                                         ┫ 237/32.5k [00:06<13:47, 39it/s]\n",
      "1.1%┣▌                                         ┫ 359/32.5k [00:08<12:03, 44it/s]\n",
      "1.5%┣▋                                         ┫ 480/32.5k [00:10<11:13, 48it/s]\n",
      "1.8%┣▊                                         ┫ 601/32.5k [00:12<10:42, 50it/s]\n",
      "2.2%┣█                                         ┫ 724/32.5k [00:14<10:20, 51it/s]\n",
      "2.6%┣█                                         ┫ 847/32.5k [00:16<10:03, 53it/s]\n",
      "3.0%┣█▎                                        ┫ 970/32.5k [00:18<09:49, 54it/s]\n",
      "3.3%┣█▍                                       ┫ 1.1k/32.5k [00:20<09:42, 54it/s]\n",
      "3.7%┣█▌                                       ┫ 1.2k/32.5k [00:22<09:32, 55it/s]\n",
      "4.1%┣█▊                                       ┫ 1.3k/32.5k [00:24<09:25, 55it/s]\n",
      "4.5%┣█▉                                       ┫ 1.5k/32.5k [00:26<09:18, 56it/s]\n",
      "4.8%┣██                                       ┫ 1.6k/32.5k [00:28<09:13, 56it/s]\n",
      "5.2%┣██▏                                      ┫ 1.7k/32.5k [00:30<09:07, 56it/s]\n",
      "5.6%┣██▎                                      ┫ 1.8k/32.5k [00:32<09:03, 57it/s]\n",
      "6.0%┣██▌                                      ┫ 1.9k/32.5k [00:34<08:58, 57it/s]\n",
      "6.4%┣██▋                                      ┫ 2.1k/32.5k [00:36<08:54, 57it/s]\n",
      "6.7%┣██▊                                      ┫ 2.2k/32.5k [00:38<08:49, 57it/s]\n",
      "7.1%┣███                                      ┫ 2.3k/32.5k [00:40<08:46, 57it/s]\n",
      "7.5%┣███                                      ┫ 2.4k/32.5k [00:42<08:43, 58it/s]\n",
      "7.8%┣███▏                                     ┫ 2.5k/32.5k [00:44<08:41, 58it/s]\n",
      "8.2%┣███▍                                     ┫ 2.7k/32.5k [00:46<08:38, 58it/s]\n",
      "8.6%┣███▌                                     ┫ 2.8k/32.5k [00:48<08:35, 58it/s]\n",
      "8.9%┣███▋                                     ┫ 2.9k/32.5k [00:50<08:32, 58it/s]\n",
      "9.3%┣███▉                                     ┫ 3.0k/32.5k [00:52<08:29, 58it/s]\n",
      "9.7%┣████                                     ┫ 3.2k/32.5k [00:54<08:26, 58it/s]\n",
      "10.1%┣████                                    ┫ 3.3k/32.5k [00:56<08:23, 58it/s]\n",
      "10.4%┣████▏                                   ┫ 3.4k/32.5k [00:58<08:20, 58it/s]\n",
      "10.8%┣████▎                                   ┫ 3.5k/32.5k [01:00<08:17, 58it/s]\n",
      "11.2%┣████▌                                   ┫ 3.6k/32.5k [01:02<08:15, 58it/s]\n",
      "11.6%┣████▋                                   ┫ 3.8k/32.5k [01:04<08:12, 58it/s]\n",
      "11.9%┣████▊                                   ┫ 3.9k/32.5k [01:06<08:09, 59it/s]\n",
      "12.3%┣█████                                   ┫ 4.0k/32.5k [01:08<08:07, 59it/s]\n",
      "12.7%┣█████                                   ┫ 4.1k/32.5k [01:10<08:04, 59it/s]\n",
      "13.1%┣█████▏                                  ┫ 4.2k/32.5k [01:12<08:02, 59it/s]\n",
      "13.4%┣█████▍                                  ┫ 4.4k/32.5k [01:14<08:00, 59it/s]\n",
      "13.8%┣█████▌                                  ┫ 4.5k/32.5k [01:16<07:57, 59it/s]\n",
      "14.2%┣█████▊                                  ┫ 4.6k/32.5k [01:18<07:55, 59it/s]\n",
      "14.5%┣█████▉                                  ┫ 4.7k/32.5k [01:20<07:52, 59it/s]\n",
      "14.9%┣██████                                  ┫ 4.9k/32.5k [01:22<07:50, 59it/s]\n",
      "15.3%┣██████▏                                 ┫ 5.0k/32.5k [01:24<07:48, 59it/s]\n",
      "15.7%┣██████▎                                 ┫ 5.1k/32.5k [01:26<07:45, 59it/s]\n",
      "16.0%┣██████▍                                 ┫ 5.2k/32.5k [01:28<07:43, 59it/s]\n",
      "16.4%┣██████▋                                 ┫ 5.3k/32.5k [01:30<07:41, 59it/s]\n",
      "16.8%┣██████▊                                 ┫ 5.5k/32.5k [01:32<07:38, 59it/s]\n",
      "17.1%┣██████▉                                 ┫ 5.6k/32.5k [01:34<07:36, 59it/s]\n",
      "17.5%┣███████                                 ┫ 5.7k/32.5k [01:36<07:34, 59it/s]\n",
      "17.9%┣███████▏                                ┫ 5.8k/32.5k [01:38<07:31, 59it/s]\n",
      "18.3%┣███████▎                                ┫ 5.9k/32.5k [01:40<07:29, 59it/s]\n",
      "18.7%┣███████▌                                ┫ 6.1k/32.5k [01:42<07:27, 59it/s]\n",
      "19.0%┣███████▋                                ┫ 6.2k/32.5k [01:44<07:25, 59it/s]\n",
      "19.4%┣███████▊                                ┫ 6.3k/32.5k [01:46<07:23, 59it/s]\n",
      "19.8%┣████████                                ┫ 6.4k/32.5k [01:48<07:20, 59it/s]\n",
      "20.1%┣████████                                ┫ 6.6k/32.5k [01:51<07:18, 59it/s]\n",
      "20.5%┣████████▏                               ┫ 6.7k/32.5k [01:53<07:17, 59it/s]\n",
      "20.8%┣████████▎                               ┫ 6.8k/32.5k [01:55<07:16, 59it/s]\n",
      "21.1%┣████████▍                               ┫ 6.9k/32.5k [01:57<07:16, 59it/s]\n",
      "21.4%┣████████▋                               ┫ 7.0k/32.5k [01:59<07:15, 59it/s]\n",
      "21.7%┣████████▊                               ┫ 7.1k/32.5k [02:01<07:15, 59it/s]\n",
      "22.0%┣████████▉                               ┫ 7.2k/32.5k [02:03<07:14, 58it/s]\n",
      "22.3%┣█████████                               ┫ 7.3k/32.5k [02:05<07:14, 58it/s]\n",
      "22.6%┣█████████                               ┫ 7.4k/32.5k [02:07<07:13, 58it/s]\n",
      "22.9%┣█████████▏                              ┫ 7.5k/32.5k [02:09<07:12, 58it/s]\n",
      "23.3%┣█████████▎                              ┫ 7.6k/32.5k [02:11<07:11, 58it/s]\n",
      "23.6%┣█████████▍                              ┫ 7.7k/32.5k [02:13<07:10, 58it/s]\n",
      "23.9%┣█████████▌                              ┫ 7.8k/32.5k [02:15<07:10, 58it/s]\n",
      "24.2%┣█████████▋                              ┫ 7.9k/32.5k [02:17<07:09, 57it/s]\n",
      "24.4%┣█████████▊                              ┫ 8.0k/32.5k [02:19<07:09, 57it/s]\n",
      "24.7%┣██████████                              ┫ 8.0k/32.5k [02:21<07:08, 57it/s]\n",
      "25.1%┣██████████                              ┫ 8.2k/32.5k [02:23<07:06, 57it/s]\n",
      "25.4%┣██████████▏                             ┫ 8.3k/32.5k [02:25<07:05, 57it/s]\n",
      "25.7%┣██████████▎                             ┫ 8.4k/32.5k [02:27<07:04, 57it/s]\n",
      "26.0%┣██████████▍                             ┫ 8.5k/32.5k [02:29<07:03, 57it/s]\n",
      "26.4%┣██████████▌                             ┫ 8.6k/32.5k [02:31<07:01, 57it/s]\n",
      "26.7%┣██████████▊                             ┫ 8.7k/32.5k [02:33<06:59, 57it/s]\n",
      "27.1%┣██████████▉                             ┫ 8.8k/32.5k [02:35<06:57, 57it/s]\n",
      "27.4%┣███████████                             ┫ 8.9k/32.5k [02:37<06:55, 57it/s]\n",
      "27.8%┣███████████                             ┫ 9.0k/32.5k [02:39<06:54, 57it/s]\n",
      "28.1%┣███████████▎                            ┫ 9.1k/32.5k [02:41<06:52, 57it/s]\n",
      "28.4%┣███████████▍                            ┫ 9.3k/32.5k [02:43<06:50, 57it/s]\n",
      "28.8%┣███████████▌                            ┫ 9.4k/32.5k [02:45<06:48, 57it/s]\n",
      "29.1%┣███████████▋                            ┫ 9.5k/32.5k [02:47<06:46, 57it/s]\n",
      "29.5%┣███████████▉                            ┫ 9.6k/32.5k [02:49<06:44, 57it/s]\n",
      "29.8%┣████████████                            ┫ 9.7k/32.5k [02:51<06:43, 57it/s]\n",
      "30.2%┣████████████                            ┫ 9.8k/32.5k [02:53<06:41, 57it/s]\n",
      "30.5%┣████████████▏                           ┫ 9.9k/32.5k [02:55<06:39, 57it/s]\n",
      "30.8%┣████████████                           ┫ 10.0k/32.5k [02:57<06:37, 57it/s]\n",
      "31.1%┣████████████▏                          ┫ 10.1k/32.5k [02:59<06:36, 57it/s]\n",
      "31.4%┣████████████▎                          ┫ 10.2k/32.5k [03:01<06:34, 57it/s]\n",
      "31.8%┣████████████▍                          ┫ 10.3k/32.5k [03:03<06:33, 56it/s]\n",
      "32.1%┣████████████▌                          ┫ 10.4k/32.5k [03:05<06:31, 56it/s]\n",
      "32.4%┣████████████▋                          ┫ 10.6k/32.5k [03:07<06:30, 56it/s]\n",
      "32.8%┣████████████▉                          ┫ 10.7k/32.5k [03:09<06:28, 56it/s]\n",
      "33.1%┣█████████████                          ┫ 10.8k/32.5k [03:11<06:26, 56it/s]\n",
      "33.5%┣█████████████                          ┫ 10.9k/32.5k [03:13<06:24, 56it/s]\n",
      "33.8%┣█████████████▏                         ┫ 11.0k/32.5k [03:15<06:22, 56it/s]\n",
      "34.2%┣█████████████▎                         ┫ 11.1k/32.5k [03:17<06:20, 56it/s]\n",
      "34.5%┣█████████████▌                         ┫ 11.2k/32.5k [03:19<06:18, 56it/s]\n",
      "34.8%┣█████████████▋                         ┫ 11.3k/32.5k [03:21<06:16, 56it/s]\n",
      "35.1%┣█████████████▊                         ┫ 11.4k/32.5k [03:23<06:15, 56it/s]\n"
     ]
    },
    {
     "name": "stderr",
     "output_type": "stream",
     "text": [
      "35.4%┣█████████████▉                         ┫ 11.5k/32.5k [03:25<06:14, 56it/s]\n",
      "35.7%┣██████████████                         ┫ 11.6k/32.5k [03:27<06:12, 56it/s]\n",
      "36.0%┣██████████████                         ┫ 11.7k/32.5k [03:29<06:11, 56it/s]\n",
      "36.4%┣██████████████▏                        ┫ 11.8k/32.5k [03:31<06:10, 56it/s]\n",
      "36.7%┣██████████████▎                        ┫ 11.9k/32.5k [03:33<06:08, 56it/s]\n",
      "37.0%┣██████████████▍                        ┫ 12.0k/32.5k [03:35<06:06, 56it/s]\n",
      "37.3%┣██████████████▋                        ┫ 12.1k/32.5k [03:37<06:04, 56it/s]\n",
      "37.7%┣██████████████▊                        ┫ 12.3k/32.5k [03:39<06:03, 56it/s]\n",
      "38.0%┣██████████████▉                        ┫ 12.4k/32.5k [03:41<06:01, 56it/s]\n",
      "38.4%┣███████████████                        ┫ 12.5k/32.5k [03:43<05:59, 56it/s]\n",
      "38.7%┣███████████████                        ┫ 12.6k/32.5k [03:45<05:57, 56it/s]\n",
      "39.0%┣███████████████▎                       ┫ 12.7k/32.5k [03:47<05:55, 56it/s]\n",
      "39.4%┣███████████████▍                       ┫ 12.8k/32.5k [03:49<05:53, 56it/s]\n",
      "39.7%┣███████████████▌                       ┫ 12.9k/32.5k [03:51<05:51, 56it/s]\n",
      "40.1%┣███████████████▋                       ┫ 13.0k/32.5k [03:53<05:49, 56it/s]\n",
      "40.4%┣███████████████▊                       ┫ 13.2k/32.5k [03:55<05:47, 56it/s]\n",
      "40.8%┣████████████████                       ┫ 13.3k/32.5k [03:57<05:45, 56it/s]\n",
      "41.1%┣████████████████                       ┫ 13.4k/32.5k [03:59<05:43, 56it/s]\n",
      "41.5%┣████████████████▏                      ┫ 13.5k/32.5k [04:01<05:41, 56it/s]\n",
      "41.8%┣████████████████▎                      ┫ 13.6k/32.5k [04:03<05:39, 56it/s]\n",
      "42.1%┣████████████████▍                      ┫ 13.7k/32.5k [04:05<05:37, 56it/s]\n",
      "42.4%┣████████████████▌                      ┫ 13.8k/32.5k [04:07<05:35, 56it/s]\n",
      "42.8%┣████████████████▊                      ┫ 13.9k/32.5k [04:09<05:33, 56it/s]\n",
      "43.1%┣████████████████▉                      ┫ 14.0k/32.5k [04:11<05:31, 56it/s]\n",
      "43.5%┣█████████████████                      ┫ 14.1k/32.5k [04:13<05:29, 56it/s]\n",
      "43.8%┣█████████████████                      ┫ 14.3k/32.5k [04:15<05:27, 56it/s]\n",
      "44.1%┣█████████████████▏                     ┫ 14.4k/32.5k [04:17<05:26, 56it/s]\n",
      "44.5%┣█████████████████▍                     ┫ 14.5k/32.5k [04:19<05:24, 56it/s]\n",
      "44.8%┣█████████████████▌                     ┫ 14.6k/32.5k [04:21<05:22, 56it/s]\n",
      "45.1%┣█████████████████▋                     ┫ 14.7k/32.5k [04:23<05:20, 56it/s]\n",
      "45.4%┣█████████████████▊                     ┫ 14.8k/32.5k [04:25<05:19, 56it/s]\n",
      "45.7%┣█████████████████▉                     ┫ 14.9k/32.5k [04:27<05:17, 56it/s]\n",
      "46.1%┣██████████████████                     ┫ 15.0k/32.5k [04:29<05:15, 56it/s]\n",
      "46.4%┣██████████████████                     ┫ 15.1k/32.5k [04:31<05:14, 56it/s]\n",
      "46.7%┣██████████████████▏                    ┫ 15.2k/32.5k [04:33<05:12, 56it/s]\n",
      "47.0%┣██████████████████▍                    ┫ 15.3k/32.5k [04:35<05:10, 56it/s]\n",
      "47.4%┣██████████████████▌                    ┫ 15.4k/32.5k [04:37<05:08, 56it/s]\n",
      "47.7%┣██████████████████▋                    ┫ 15.5k/32.5k [04:39<05:07, 55it/s]\n",
      "48.0%┣██████████████████▊                    ┫ 15.6k/32.5k [04:41<05:05, 55it/s]\n",
      "48.3%┣██████████████████▉                    ┫ 15.7k/32.5k [04:44<05:03, 55it/s]\n",
      "48.7%┣███████████████████                    ┫ 15.8k/32.5k [04:46<05:01, 55it/s]\n",
      "49.0%┣███████████████████                    ┫ 15.9k/32.5k [04:48<04:59, 55it/s]\n",
      "49.3%┣███████████████████▎                   ┫ 16.0k/32.5k [04:50<04:57, 55it/s]\n",
      "49.7%┣███████████████████▍                   ┫ 16.2k/32.5k [04:52<04:55, 55it/s]\n",
      "50.0%┣███████████████████▌                   ┫ 16.3k/32.5k [04:54<04:53, 55it/s]\n",
      "50.4%┣███████████████████▋                   ┫ 16.4k/32.5k [04:56<04:51, 55it/s]\n",
      "50.7%┣███████████████████▊                   ┫ 16.5k/32.5k [04:58<04:50, 55it/s]\n",
      "51.0%┣████████████████████                   ┫ 16.6k/32.5k [05:00<04:48, 55it/s]\n",
      "51.3%┣████████████████████                   ┫ 16.7k/32.5k [05:02<04:46, 55it/s]\n",
      "51.7%┣████████████████████▏                  ┫ 16.8k/32.5k [05:04<04:44, 55it/s]\n",
      "52.0%┣████████████████████▎                  ┫ 16.9k/32.5k [05:06<04:42, 55it/s]\n",
      "52.3%┣████████████████████▍                  ┫ 17.0k/32.5k [05:08<04:40, 55it/s]\n",
      "52.7%┣████████████████████▌                  ┫ 17.1k/32.5k [05:10<04:38, 55it/s]\n",
      "53.0%┣████████████████████▊                  ┫ 17.2k/32.5k [05:12<04:36, 55it/s]\n",
      "53.4%┣████████████████████▉                  ┫ 17.4k/32.5k [05:14<04:34, 55it/s]\n",
      "53.7%┣█████████████████████                  ┫ 17.5k/32.5k [05:16<04:32, 55it/s]\n",
      "54.0%┣█████████████████████                  ┫ 17.6k/32.5k [05:18<04:30, 55it/s]\n",
      "54.4%┣█████████████████████▏                 ┫ 17.7k/32.5k [05:20<04:28, 55it/s]\n",
      "54.7%┣█████████████████████▍                 ┫ 17.8k/32.5k [05:22<04:26, 55it/s]\n",
      "55.1%┣█████████████████████▌                 ┫ 17.9k/32.5k [05:24<04:24, 55it/s]\n",
      "55.4%┣█████████████████████▋                 ┫ 18.0k/32.5k [05:26<04:22, 55it/s]\n",
      "55.7%┣█████████████████████▊                 ┫ 18.1k/32.5k [05:28<04:20, 55it/s]\n",
      "56.1%┣█████████████████████▉                 ┫ 18.2k/32.5k [05:30<04:18, 55it/s]\n",
      "56.4%┣██████████████████████                 ┫ 18.4k/32.5k [05:32<04:16, 55it/s]\n",
      "56.8%┣██████████████████████▏                ┫ 18.5k/32.5k [05:34<04:14, 55it/s]\n",
      "57.1%┣██████████████████████▎                ┫ 18.6k/32.5k [05:36<04:12, 55it/s]\n",
      "57.5%┣██████████████████████▍                ┫ 18.7k/32.5k [05:38<04:10, 55it/s]\n",
      "57.8%┣██████████████████████▌                ┫ 18.8k/32.5k [05:40<04:08, 55it/s]\n",
      "58.1%┣██████████████████████▊                ┫ 18.9k/32.5k [05:42<04:06, 55it/s]\n",
      "58.5%┣██████████████████████▉                ┫ 19.0k/32.5k [05:44<04:04, 55it/s]\n",
      "58.8%┣███████████████████████                ┫ 19.1k/32.5k [05:46<04:02, 55it/s]\n",
      "59.2%┣███████████████████████                ┫ 19.2k/32.5k [05:48<04:00, 55it/s]\n",
      "59.5%┣███████████████████████▏               ┫ 19.4k/32.5k [05:50<03:58, 55it/s]\n",
      "59.8%┣███████████████████████▍               ┫ 19.5k/32.5k [05:52<03:56, 55it/s]\n",
      "60.2%┣███████████████████████▌               ┫ 19.6k/32.5k [05:54<03:54, 55it/s]\n",
      "60.5%┣███████████████████████▋               ┫ 19.7k/32.5k [05:56<03:52, 55it/s]\n",
      "60.8%┣███████████████████████▊               ┫ 19.8k/32.5k [05:58<03:50, 55it/s]\n",
      "61.1%┣███████████████████████▉               ┫ 19.9k/32.5k [06:00<03:49, 55it/s]\n",
      "61.5%┣████████████████████████               ┫ 20.0k/32.5k [06:02<03:47, 55it/s]\n",
      "61.8%┣████████████████████████               ┫ 20.1k/32.5k [06:04<03:45, 55it/s]\n",
      "62.1%┣████████████████████████▏              ┫ 20.2k/32.5k [06:06<03:44, 55it/s]\n",
      "62.4%┣████████████████████████▍              ┫ 20.3k/32.5k [06:08<03:42, 55it/s]\n",
      "62.7%┣████████████████████████▌              ┫ 20.4k/32.5k [06:10<03:40, 55it/s]\n",
      "63.1%┣████████████████████████▋              ┫ 20.5k/32.5k [06:12<03:38, 55it/s]\n",
      "63.4%┣████████████████████████▊              ┫ 20.6k/32.5k [06:14<03:36, 55it/s]\n",
      "63.7%┣████████████████████████▉              ┫ 20.7k/32.5k [06:16<03:34, 55it/s]\n",
      "64.0%┣█████████████████████████              ┫ 20.8k/32.5k [06:18<03:32, 55it/s]\n",
      "64.4%┣█████████████████████████              ┫ 20.9k/32.5k [06:20<03:31, 55it/s]\n",
      "64.7%┣█████████████████████████▏             ┫ 21.0k/32.5k [06:22<03:29, 55it/s]\n",
      "65.0%┣█████████████████████████▍             ┫ 21.1k/32.5k [06:24<03:27, 55it/s]\n",
      "65.3%┣█████████████████████████▌             ┫ 21.2k/32.5k [06:26<03:25, 55it/s]\n",
      "65.6%┣█████████████████████████▋             ┫ 21.3k/32.5k [06:28<03:23, 55it/s]\n",
      "66.0%┣█████████████████████████▊             ┫ 21.5k/32.5k [06:30<03:21, 55it/s]\n",
      "66.2%┣█████████████████████████▉             ┫ 21.5k/32.5k [06:32<03:20, 55it/s]\n",
      "66.6%┣██████████████████████████             ┫ 21.6k/32.5k [06:34<03:18, 55it/s]\n",
      "66.9%┣██████████████████████████             ┫ 21.7k/32.5k [06:36<03:16, 55it/s]\n",
      "67.2%┣██████████████████████████▏            ┫ 21.8k/32.5k [06:38<03:15, 55it/s]\n",
      "67.5%┣██████████████████████████▎            ┫ 22.0k/32.5k [06:40<03:13, 55it/s]\n",
      "67.8%┣██████████████████████████▌            ┫ 22.1k/32.5k [06:42<03:11, 55it/s]\n",
      "68.2%┣██████████████████████████▋            ┫ 22.2k/32.5k [06:44<03:09, 55it/s]\n",
      "68.5%┣██████████████████████████▊            ┫ 22.3k/32.5k [06:46<03:07, 55it/s]\n",
      "68.8%┣██████████████████████████▉            ┫ 22.4k/32.5k [06:48<03:05, 55it/s]\n"
     ]
    },
    {
     "name": "stderr",
     "output_type": "stream",
     "text": [
      "69.2%┣███████████████████████████            ┫ 22.5k/32.5k [06:50<03:03, 55it/s]\n",
      "69.5%┣███████████████████████████▏           ┫ 22.6k/32.5k [06:52<03:01, 55it/s]\n",
      "69.8%┣███████████████████████████▎           ┫ 22.7k/32.5k [06:54<02:59, 55it/s]\n",
      "70.2%┣███████████████████████████▍           ┫ 22.8k/32.5k [06:56<02:57, 55it/s]\n",
      "70.5%┣███████████████████████████▌           ┫ 22.9k/32.5k [06:58<02:55, 55it/s]\n",
      "70.8%┣███████████████████████████▋           ┫ 23.0k/32.5k [07:00<02:53, 55it/s]\n",
      "71.2%┣███████████████████████████▊           ┫ 23.2k/32.5k [07:02<02:51, 55it/s]\n",
      "71.5%┣███████████████████████████▉           ┫ 23.3k/32.5k [07:04<02:49, 55it/s]\n",
      "71.8%┣████████████████████████████           ┫ 23.4k/32.5k [07:06<02:47, 55it/s]\n",
      "72.1%┣████████████████████████████▏          ┫ 23.5k/32.5k [07:08<02:46, 55it/s]\n",
      "72.4%┣████████████████████████████▎          ┫ 23.6k/32.5k [07:10<02:44, 55it/s]\n",
      "72.7%┣████████████████████████████▍          ┫ 23.7k/32.5k [07:12<02:42, 55it/s]\n",
      "73.1%┣████████████████████████████▌          ┫ 23.8k/32.5k [07:14<02:40, 55it/s]\n",
      "73.4%┣████████████████████████████▋          ┫ 23.9k/32.5k [07:16<02:38, 55it/s]\n",
      "73.8%┣████████████████████████████▊          ┫ 24.0k/32.5k [07:18<02:36, 55it/s]\n",
      "74.1%┣█████████████████████████████          ┫ 24.1k/32.5k [07:20<02:34, 55it/s]\n",
      "74.4%┣█████████████████████████████          ┫ 24.2k/32.5k [07:22<02:32, 55it/s]\n",
      "74.7%┣█████████████████████████████▏         ┫ 24.3k/32.5k [07:24<02:30, 55it/s]\n",
      "75.0%┣█████████████████████████████▎         ┫ 24.4k/32.5k [07:26<02:29, 55it/s]\n",
      "75.3%┣█████████████████████████████▍         ┫ 24.5k/32.5k [07:28<02:27, 55it/s]\n",
      "75.6%┣█████████████████████████████▌         ┫ 24.6k/32.5k [07:30<02:25, 55it/s]\n",
      "75.9%┣█████████████████████████████▋         ┫ 24.7k/32.5k [07:32<02:23, 55it/s]\n",
      "76.3%┣█████████████████████████████▊         ┫ 24.8k/32.5k [07:34<02:21, 55it/s]\n",
      "76.6%┣█████████████████████████████▉         ┫ 24.9k/32.5k [07:36<02:20, 55it/s]\n",
      "76.9%┣██████████████████████████████         ┫ 25.0k/32.5k [07:38<02:18, 55it/s]\n",
      "77.2%┣██████████████████████████████▏        ┫ 25.1k/32.5k [07:40<02:16, 55it/s]\n",
      "77.5%┣██████████████████████████████▎        ┫ 25.2k/32.5k [07:42<02:14, 55it/s]\n",
      "77.8%┣██████████████████████████████▍        ┫ 25.3k/32.5k [07:45<02:12, 54it/s]\n",
      "78.1%┣██████████████████████████████▌        ┫ 25.4k/32.5k [07:47<02:11, 54it/s]\n",
      "78.5%┣██████████████████████████████▋        ┫ 25.5k/32.5k [07:49<02:09, 54it/s]\n",
      "78.8%┣██████████████████████████████▊        ┫ 25.6k/32.5k [07:51<02:07, 54it/s]\n",
      "79.1%┣██████████████████████████████▉        ┫ 25.7k/32.5k [07:53<02:05, 54it/s]\n",
      "79.4%┣███████████████████████████████        ┫ 25.8k/32.5k [07:55<02:03, 54it/s]\n",
      "79.7%┣███████████████████████████████        ┫ 25.9k/32.5k [07:57<02:01, 54it/s]\n",
      "80.0%┣███████████████████████████████▏       ┫ 26.0k/32.5k [07:59<02:00, 54it/s]\n",
      "80.4%┣███████████████████████████████▍       ┫ 26.1k/32.5k [08:01<01:58, 54it/s]\n",
      "80.7%┣███████████████████████████████▌       ┫ 26.2k/32.5k [08:03<01:55, 54it/s]\n",
      "81.0%┣███████████████████████████████▋       ┫ 26.4k/32.5k [08:05<01:53, 54it/s]\n",
      "81.4%┣███████████████████████████████▊       ┫ 26.5k/32.5k [08:07<01:51, 54it/s]\n",
      "81.7%┣███████████████████████████████▉       ┫ 26.6k/32.5k [08:09<01:49, 54it/s]\n",
      "82.0%┣████████████████████████████████       ┫ 26.7k/32.5k [08:11<01:48, 54it/s]\n",
      "82.3%┣████████████████████████████████       ┫ 26.8k/32.5k [08:13<01:46, 54it/s]\n",
      "82.6%┣████████████████████████████████▎      ┫ 26.9k/32.5k [08:15<01:44, 54it/s]\n",
      "83.0%┣████████████████████████████████▍      ┫ 27.0k/32.5k [08:17<01:42, 54it/s]\n",
      "83.3%┣████████████████████████████████▌      ┫ 27.1k/32.5k [08:19<01:40, 54it/s]\n",
      "83.6%┣████████████████████████████████▋      ┫ 27.2k/32.5k [08:21<01:38, 54it/s]\n",
      "83.9%┣████████████████████████████████▊      ┫ 27.3k/32.5k [08:23<01:37, 54it/s]\n",
      "84.2%┣████████████████████████████████▉      ┫ 27.4k/32.5k [08:25<01:35, 54it/s]\n",
      "84.5%┣█████████████████████████████████      ┫ 27.5k/32.5k [08:27<01:33, 54it/s]\n",
      "84.8%┣█████████████████████████████████      ┫ 27.6k/32.5k [08:29<01:31, 54it/s]\n",
      "85.1%┣█████████████████████████████████▏     ┫ 27.7k/32.5k [08:31<01:30, 54it/s]\n",
      "85.4%┣█████████████████████████████████▎     ┫ 27.8k/32.5k [08:33<01:28, 54it/s]\n",
      "85.7%┣█████████████████████████████████▍     ┫ 27.9k/32.5k [08:35<01:26, 54it/s]\n",
      "86.0%┣█████████████████████████████████▋     ┫ 28.0k/32.5k [08:37<01:24, 54it/s]\n",
      "86.4%┣█████████████████████████████████▊     ┫ 28.1k/32.5k [08:39<01:22, 54it/s]\n",
      "86.7%┣█████████████████████████████████▉     ┫ 28.2k/32.5k [08:41<01:20, 54it/s]\n",
      "87.1%┣██████████████████████████████████     ┫ 28.3k/32.5k [08:43<01:18, 54it/s]\n",
      "87.4%┣██████████████████████████████████     ┫ 28.4k/32.5k [08:45<01:16, 54it/s]\n",
      "87.7%┣██████████████████████████████████▏    ┫ 28.5k/32.5k [08:47<01:14, 54it/s]\n",
      "88.0%┣██████████████████████████████████▎    ┫ 28.6k/32.5k [08:49<01:12, 54it/s]\n",
      "88.3%┣██████████████████████████████████▍    ┫ 28.7k/32.5k [08:51<01:10, 54it/s]\n",
      "88.6%┣██████████████████████████████████▌    ┫ 28.8k/32.5k [08:53<01:09, 54it/s]\n",
      "88.9%┣██████████████████████████████████▊    ┫ 28.9k/32.5k [08:55<01:07, 54it/s]\n",
      "89.2%┣██████████████████████████████████▉    ┫ 29.0k/32.5k [08:57<01:05, 54it/s]\n",
      "89.5%┣███████████████████████████████████    ┫ 29.1k/32.5k [08:59<01:03, 54it/s]\n",
      "89.8%┣███████████████████████████████████    ┫ 29.2k/32.5k [09:01<01:01, 54it/s]\n",
      "90.1%┣███████████████████████████████████▏   ┫ 29.3k/32.5k [09:03<00:59, 54it/s]\n",
      "90.4%┣███████████████████████████████████▎   ┫ 29.4k/32.5k [09:05<00:58, 54it/s]\n",
      "90.8%┣███████████████████████████████████▍   ┫ 29.5k/32.5k [09:07<00:56, 54it/s]\n",
      "91.1%┣███████████████████████████████████▌   ┫ 29.6k/32.5k [09:09<00:54, 54it/s]\n",
      "91.4%┣███████████████████████████████████▋   ┫ 29.7k/32.5k [09:11<00:52, 54it/s]\n",
      "91.7%┣███████████████████████████████████▊   ┫ 29.8k/32.5k [09:13<00:50, 54it/s]\n",
      "92.0%┣███████████████████████████████████▉   ┫ 29.9k/32.5k [09:15<00:48, 54it/s]\n",
      "92.3%┣████████████████████████████████████   ┫ 30.0k/32.5k [09:17<00:47, 54it/s]\n",
      "92.5%┣████████████████████████████████████   ┫ 30.1k/32.5k [09:19<00:45, 54it/s]\n",
      "92.8%┣████████████████████████████████████▏  ┫ 30.2k/32.5k [09:21<00:43, 54it/s]\n",
      "93.1%┣████████████████████████████████████▎  ┫ 30.3k/32.5k [09:23<00:42, 54it/s]\n",
      "93.5%┣████████████████████████████████████▌  ┫ 30.4k/32.5k [09:25<00:40, 54it/s]\n",
      "93.8%┣████████████████████████████████████▋  ┫ 30.5k/32.5k [09:27<00:37, 54it/s]\n",
      "94.1%┣████████████████████████████████████▊  ┫ 30.6k/32.5k [09:29<00:35, 54it/s]\n",
      "94.5%┣████████████████████████████████████▉  ┫ 30.7k/32.5k [09:31<00:33, 54it/s]\n",
      "94.8%┣█████████████████████████████████████  ┫ 30.8k/32.5k [09:33<00:31, 54it/s]\n",
      "95.2%┣█████████████████████████████████████  ┫ 31.0k/32.5k [09:35<00:29, 54it/s]\n",
      "95.5%┣█████████████████████████████████████▎ ┫ 31.1k/32.5k [09:37<00:27, 54it/s]\n",
      "95.8%┣█████████████████████████████████████▍ ┫ 31.2k/32.5k [09:39<00:25, 54it/s]\n",
      "96.2%┣█████████████████████████████████████▌ ┫ 31.3k/32.5k [09:41<00:23, 54it/s]\n",
      "96.5%┣█████████████████████████████████████▋ ┫ 31.4k/32.5k [09:43<00:21, 54it/s]\n",
      "96.8%┣█████████████████████████████████████▊ ┫ 31.5k/32.5k [09:45<00:19, 54it/s]\n",
      "97.2%┣██████████████████████████████████████ ┫ 31.6k/32.5k [09:47<00:17, 54it/s]\n",
      "97.5%┣██████████████████████████████████████ ┫ 31.7k/32.5k [09:49<00:15, 54it/s]\n",
      "97.9%┣██████████████████████████████████████▏┫ 31.8k/32.5k [09:51<00:13, 54it/s]\n",
      "98.2%┣██████████████████████████████████████▎┫ 31.9k/32.5k [09:53<00:11, 54it/s]\n",
      "98.5%┣██████████████████████████████████████▍┫ 32.0k/32.5k [09:55<00:09, 54it/s]\n",
      "98.8%┣██████████████████████████████████████▌┫ 32.1k/32.5k [09:57<00:07, 54it/s]\n",
      "99.2%┣██████████████████████████████████████▊┫ 32.3k/32.5k [09:59<00:05, 54it/s]\n",
      "99.5%┣██████████████████████████████████████▉┫ 32.4k/32.5k [10:01<00:03, 54it/s]\n",
      "99.8%┣███████████████████████████████████████┫ 32.5k/32.5k [10:03<00:01, 54it/s]\n",
      "100.0%┣██████████████████████████████████████┫ 32.5k/32.5k [10:04<00:00, 54it/s]\n"
     ]
    },
    {
     "data": {
      "text/plain": [
       "Dict{Any, Any} with 32528 entries:\n",
       "  \"0xab17da946b4ee971e6cd9… => Dict{Any, Any}(\"0.1 ETH\"=>NamedTuple{(:hash, :ti…\n",
       "  \"0x3db8a6a96a8e3711c30c8… => Dict{Any, Any}(\"0.1 ETH\"=>NamedTuple{(:hash, :ti…\n",
       "  \"0x5d57f2e5f61b484eadc14… => Dict{Any, Any}(\"1 ETH\"=>NamedTuple{(:hash, :time…\n",
       "  \"0xce41f28db174e9684c84a… => Dict{Any, Any}(\"1 ETH\"=>NamedTuple{(:hash, :time…\n",
       "  \"0xe8c4d0b45cae962ea5fab… => Dict{Any, Any}(\"10 ETH\"=>NamedTuple{(:hash, :tim…\n",
       "  \"0xad4ece462b6620d0e9bf9… => Dict{Any, Any}(\"0.1 ETH\"=>NamedTuple{(:hash, :ti…\n",
       "  \"0x09e5a3c43133e15a08924… => Dict{Any, Any}(\"1 ETH\"=>NamedTuple{(:hash, :time…\n",
       "  \"0xb232e7c376462dcc96004… => Dict{Any, Any}(\"100 ETH\"=>NamedTuple{(:hash, :ti…\n",
       "  \"0x786a619524f77daee2d86… => Dict{Any, Any}(\"100 ETH\"=>NamedTuple{(:hash, :ti…\n",
       "  \"0x1cbfd11c477bb948742ef… => Dict{Any, Any}(\"1 ETH\"=>NamedTuple{(:hash, :time…\n",
       "  \"0x9bd7f7330c607406a5aea… => Dict{Any, Any}(\"0.1 ETH\"=>NamedTuple{(:hash, :ti…\n",
       "  \"0x8eb0ad50dacfba1b45a55… => Dict{Any, Any}(\"10 ETH\"=>NamedTuple{(:hash, :tim…\n",
       "  \"0xfed2cb2342f345bab5e55… => Dict{Any, Any}(\"1 ETH\"=>NamedTuple{(:hash, :time…\n",
       "  \"0x28c4b78b42b33befcba18… => Dict{Any, Any}(\"100 ETH\"=>NamedTuple{(:hash, :ti…\n",
       "  \"0x06b3a0712f26c7e72dc37… => Dict{Any, Any}(\"0.1 ETH\"=>NamedTuple{(:hash, :ti…\n",
       "  \"0x5771f9456605e819be044… => Dict{Any, Any}(\"1 ETH\"=>NamedTuple{(:hash, :time…\n",
       "  \"0xe3b329a5e93dd09afd4cd… => Dict{Any, Any}(\"10 ETH\"=>NamedTuple{(:hash, :tim…\n",
       "  \"0x6bf97f2534be2242ddb3a… => Dict{Any, Any}(\"10 ETH\"=>NamedTuple{(:hash, :tim…\n",
       "  \"0x8e6875b9b7f28b15230f3… => Dict{Any, Any}(\"0.1 ETH\"=>NamedTuple{(:hash, :ti…\n",
       "  \"0xe7229b113c2a2e5ea69b9… => Dict{Any, Any}(\"1 ETH\"=>NamedTuple{(:hash, :time…\n",
       "  \"0xc43d323567b860c9935e2… => Dict{Any, Any}(\"1 ETH\"=>NamedTuple{(:hash, :time…\n",
       "  \"0x648c991d4b4ec255d10f2… => Dict{Any, Any}(\"10 ETH\"=>NamedTuple{(:hash, :tim…\n",
       "  \"0x5a26b04cafcdfcdc1bac3… => Dict{Any, Any}(\"100 ETH\"=>NamedTuple{(:hash, :ti…\n",
       "  \"0xc0da67772af72a8ad4a3f… => Dict{Any, Any}(\"10 ETH\"=>NamedTuple{(:hash, :tim…\n",
       "  \"0xc5771b76e8753679d719d… => Dict{Any, Any}(\"10 ETH\"=>NamedTuple{(:hash, :tim…\n",
       "  ⋮                         => ⋮"
      ]
     },
     "execution_count": 16,
     "metadata": {},
     "output_type": "execute_result"
    }
   ],
   "source": [
    "const withdraw_addresses_tcash_transactions = get_addresses_transactions(unique_withdraw_addresses, withdraw_txs, tornado_addresses; transaction_type=:withdraw)"
   ]
  },
  {
   "cell_type": "code",
   "execution_count": 17,
   "id": "c5bdf55b",
   "metadata": {},
   "outputs": [
    {
     "data": {
      "text/plain": [
       "filter_deposits (generic function with 1 method)"
      ]
     },
     "execution_count": 17,
     "metadata": {},
     "output_type": "execute_result"
    }
   ],
   "source": [
    "function filter_deposits(address1, address2)\n",
    "    \n",
    "    deposit_transactions = deposit_addresses_tcash_transactions[address1]\n",
    "    withdraw_transactions = withdraw_addresses_tcash_transactions[address2]\n",
    "    \n",
    "    pools = filter(pool -> pool ∈ keys(withdraw_transactions), keys(deposit_transactions))\n",
    "    \n",
    "    linked_transactions_dict = Dict()\n",
    "    \n",
    "    for pool in pools\n",
    "        latest_withdraw = maximum(map(w_t -> w_t.timestamp, withdraw_transactions[pool]))\n",
    "        \n",
    "        filtered_deposits = filter(d_t -> d_t.timestamp < latest_withdraw, deposit_transactions[pool])\n",
    "        \n",
    "        if !isempty(filtered_deposits)\n",
    "            linked_transactions_dict[pool] = (deposit_hashes = map(d_t -> d_t.hash, filtered_deposits),\n",
    "                    withdraw_hashes = map(w_t -> w_t.hash, withdraw_transactions[pool]))\n",
    "        end\n",
    "    end\n",
    "    \n",
    "    Dict((deposit_address=address1, withdraw_address=address2) => linked_transactions_dict)\n",
    "end"
   ]
  },
  {
   "cell_type": "code",
   "execution_count": 18,
   "id": "4781dbc1",
   "metadata": {},
   "outputs": [
    {
     "data": {
      "text/plain": [
       "2-element Vector{String31}:\n",
       " \"2021-10-22 22:21:14 UTC\"\n",
       " \"2021-10-22 22:56:07 UTC\""
      ]
     },
     "execution_count": 18,
     "metadata": {},
     "output_type": "execute_result"
    }
   ],
   "source": [
    "d = deposit_addresses_tcash_transactions[\"0x000000001d94b2612380854e74c32548d3ce4720\"]\n",
    "[t.timestamp for t in d[\"1 ETH\"]]"
   ]
  },
  {
   "cell_type": "code",
   "execution_count": 19,
   "id": "5741805d",
   "metadata": {},
   "outputs": [
    {
     "data": {
      "text/plain": [
       "1-element Vector{String31}:\n",
       " \"2020-12-26 10:47:20 UTC\""
      ]
     },
     "execution_count": 19,
     "metadata": {},
     "output_type": "execute_result"
    }
   ],
   "source": [
    "w = withdraw_addresses_tcash_transactions[\"0x000000007cbf74626927365e961cc697ef8fed32\"]\n",
    "[t.timestamp for t in w[\"1 ETH\"]]"
   ]
  },
  {
   "cell_type": "code",
   "execution_count": 20,
   "id": "12a946a4",
   "metadata": {},
   "outputs": [
    {
     "data": {
      "text/plain": [
       "Dict{NamedTuple{(:deposit_address, :withdraw_address), Tuple{String, String}}, Dict{Any, Any}} with 1 entry:\n",
       "  (deposit_address = \"0x000000001d94b2612380854e74c32548d3ce4720\", wi… => Dict()"
      ]
     },
     "execution_count": 20,
     "metadata": {},
     "output_type": "execute_result"
    }
   ],
   "source": [
    "filter_deposits(\"0x000000001d94b2612380854e74c32548d3ce4720\", \"0x000000007cbf74626927365e961cc697ef8fed32\")"
   ]
  },
  {
   "cell_type": "code",
   "execution_count": 21,
   "id": "8591076f",
   "metadata": {},
   "outputs": [
    {
     "data": {
      "text/plain": [
       "first_neightbors_heuristic (generic function with 1 method)"
      ]
     },
     "execution_count": 21,
     "metadata": {},
     "output_type": "execute_result"
    }
   ],
   "source": [
    "function first_neightbors_heuristic(deposit_and_withdraw_linked_addresses)\n",
    "    \n",
    "    addresses_linked_transactions = Dict()\n",
    "    \n",
    "    for row in ProgressBar(eachrow(deposit_and_withdraw_linked_addresses), printing_delay=2)\n",
    "        merge!(addresses_linked_transactions, filter_deposits(row.deposit_address, row.withdraw_address))\n",
    "    end\n",
    "    \n",
    "    filter(element -> !isempty(last(element)), addresses_linked_transactions)\n",
    "end     "
   ]
  },
  {
   "cell_type": "code",
   "execution_count": 22,
   "id": "8fbafa15",
   "metadata": {},
   "outputs": [
    {
     "name": "stderr",
     "output_type": "stream",
     "text": [
      "0.0%┣                                       ┫ 0/12.4k [00:02<-6:-52:-50, -2s/it]\n",
      "0.0%┣                                        ┫ 1/12.4k [00:02<Inf:Inf, InfGs/it]\n",
      "100.0%┣████████████████████████████████████┫ 12.4k/12.4k [00:02<00:00, 5.4kit/s]\n"
     ]
    },
    {
     "data": {
      "text/plain": [
       "Dict{Any, Any} with 5861 entries:\n",
       "  (deposit_address = \"0x32… => Dict{Any, Any}(\"10 ETH\"=>(deposit_hashes = [\"0x7…\n",
       "  (deposit_address = \"0xeb… => Dict{Any, Any}(\"10 ETH\"=>(deposit_hashes = [\"0xe…\n",
       "  (deposit_address = \"0x9c… => Dict{Any, Any}(\"10 ETH\"=>(deposit_hashes = [\"0xe…\n",
       "  (deposit_address = \"0xe2… => Dict{Any, Any}(\"100 ETH\"=>(deposit_hashes = [\"0x…\n",
       "  (deposit_address = \"0x92… => Dict{Any, Any}(\"1 ETH\"=>(deposit_hashes = [\"0xa6…\n",
       "  (deposit_address = \"0xf3… => Dict{Any, Any}(\"100 DAI\"=>(deposit_hashes = [\"0x…\n",
       "  (deposit_address = \"0x06… => Dict{Any, Any}(\"1 ETH\"=>(deposit_hashes = [\"0x9b…\n",
       "  (deposit_address = \"0xc4… => Dict{Any, Any}(\"10 ETH\"=>(deposit_hashes = [\"0x8…\n",
       "  (deposit_address = \"0x3a… => Dict{Any, Any}(\"10 ETH\"=>(deposit_hashes = [\"0x4…\n",
       "  (deposit_address = \"0xb9… => Dict{Any, Any}(\"1 ETH\"=>(deposit_hashes = [\"0xb5…\n",
       "  (deposit_address = \"0x22… => Dict{Any, Any}(\"10 ETH\"=>(deposit_hashes = [\"0x8…\n",
       "  (deposit_address = \"0x50… => Dict{Any, Any}(\"0.1 ETH\"=>(deposit_hashes = [\"0x…\n",
       "  (deposit_address = \"0xee… => Dict{Any, Any}(\"1 ETH\"=>(deposit_hashes = [\"0x49…\n",
       "  (deposit_address = \"0x8b… => Dict{Any, Any}(\"10 ETH\"=>(deposit_hashes = [\"0xd…\n",
       "  (deposit_address = \"0xc2… => Dict{Any, Any}(\"1 ETH\"=>(deposit_hashes = [\"0x6e…\n",
       "  (deposit_address = \"0xfd… => Dict{Any, Any}(\"100 ETH\"=>(deposit_hashes = [\"0x…\n",
       "  (deposit_address = \"0x9a… => Dict{Any, Any}(\"1 ETH\"=>(deposit_hashes = [\"0xcb…\n",
       "  (deposit_address = \"0x46… => Dict{Any, Any}(\"100 ETH\"=>(deposit_hashes = [\"0x…\n",
       "  (deposit_address = \"0x9a… => Dict{Any, Any}(\"10 ETH\"=>(deposit_hashes = [\"0x2…\n",
       "  (deposit_address = \"0xea… => Dict{Any, Any}(\"1 ETH\"=>(deposit_hashes = [\"0xdd…\n",
       "  (deposit_address = \"0xbc… => Dict{Any, Any}(\"1 ETH\"=>(deposit_hashes = [\"0x6c…\n",
       "  (deposit_address = \"0x14… => Dict{Any, Any}(\"1 ETH\"=>(deposit_hashes = [\"0x5e…\n",
       "  (deposit_address = \"0x5f… => Dict{Any, Any}(\"1 ETH\"=>(deposit_hashes = [\"0x66…\n",
       "  (deposit_address = \"0x32… => Dict{Any, Any}(\"0.1 ETH\"=>(deposit_hashes = [\"0x…\n",
       "  (deposit_address = \"0x40… => Dict{Any, Any}(\"0.1 ETH\"=>(deposit_hashes = [\"0x…\n",
       "  ⋮                         => ⋮"
      ]
     },
     "execution_count": 22,
     "metadata": {},
     "output_type": "execute_result"
    }
   ],
   "source": [
    "d = first_neightbors_heuristic(D_W_df)"
   ]
  },
  {
   "cell_type": "code",
   "execution_count": 23,
   "id": "2e7b1517",
   "metadata": {},
   "outputs": [
    {
     "data": {
      "text/plain": [
       "(deposit_address = \"0x32192ec423152d5f2428adcecb1525e4eb366e90\", withdraw_address = \"0xce7cf36d9b8bcacd4c80024a10aadd8f7d1173a2\")"
      ]
     },
     "execution_count": 23,
     "metadata": {},
     "output_type": "execute_result"
    }
   ],
   "source": [
    "t = (deposit_address = \"0x32192ec423152d5f2428adcecb1525e4eb366e90\", withdraw_address = \"0xce7cf36d9b8bcacd4c80024a10aadd8f7d1173a2\")"
   ]
  },
  {
   "cell_type": "code",
   "execution_count": 24,
   "id": "3ae2c2fd",
   "metadata": {},
   "outputs": [
    {
     "data": {
      "text/plain": [
       "(deposit_hashes = [\"0x79524bf15538e277ffe74de2cc7980eb247a65747ef5cc3f0053281d550f6716\"], withdraw_hashes = [\"0xb528dbdf806625de1819dcbd954d01e844b6de0e989c0ebfa1069289364cc6c2\"])"
      ]
     },
     "execution_count": 24,
     "metadata": {},
     "output_type": "execute_result"
    }
   ],
   "source": [
    "d[t][\"10 ETH\"]"
   ]
  },
  {
   "cell_type": "code",
   "execution_count": 25,
   "id": "3d976968",
   "metadata": {},
   "outputs": [
    {
     "data": {
      "text/plain": [
       "5861-element Vector{Any}:\n",
       " (deposit_address = \"0x32192ec423152d5f2428adcecb1525e4eb366e90\", withdraw_address = \"0xce7cf36d9b8bcacd4c80024a10aadd8f7d1173a2\")\n",
       " (deposit_address = \"0xebfcef1eda60358d7e0e81db5bef89dfaaa5f3f5\", withdraw_address = \"0xf19958f76f0f40f0a14006b7e22be03ad5eae104\")\n",
       " (deposit_address = \"0x9c1c21ec0e88b8334ebc5d388a310f59eca0e381\", withdraw_address = \"0x25f2af3b84d6a36d38dda369c8f7e7a7b0258941\")\n",
       " (deposit_address = \"0xe2ca7390e76c5a992749bb622087310d2e63ca29\", withdraw_address = \"0x000000000cc7e508b4b115e64d71ef374cfb7703\")\n",
       " (deposit_address = \"0x92f29100cc4dca707359d8eb78402eb3acfd87d3\", withdraw_address = \"0x6cad680b13397a0f1719af6e209d5dd2d228fa4f\")\n",
       " (deposit_address = \"0xf3a6e54248f51fdf85008e02f3ada2dfc66c6c24\", withdraw_address = \"0x6fa0f8cc1501756bc40c06b841fc908045a1bd7f\")\n",
       " (deposit_address = \"0x06b1bf28c962363f212878bdf87417ebd0316220\", withdraw_address = \"0xc82547fc22a11b52d2507e28ace078a187194956\")\n",
       " (deposit_address = \"0xc47e04fa576be089a742aa38a2f1215b01f983d2\", withdraw_address = \"0xa8c86bb1c9ffae2534ed3edb1bf05e15eaedea48\")\n",
       " (deposit_address = \"0x3af9f7968366a075cf5987cd40077eda4b44feb8\", withdraw_address = \"0xdde3e2024e270d6022d1bb4e8745e9dc6d82e0bc\")\n",
       " (deposit_address = \"0xb9889ffcf18dbac713dfccb4ddb062c36398014d\", withdraw_address = \"0xa82c569d0847624d7b80aa11113684031bb6ce8e\")\n",
       " (deposit_address = \"0x228f5e15ea38866325bafcd308a513002b70d1a4\", withdraw_address = \"0x983674d8f9498594bb6dd8749327fe43014599e3\")\n",
       " (deposit_address = \"0x501ac99935d0473d96695bda13a590391b4af413\", withdraw_address = \"0xbc9294648841bb94322342846432ed443d150a8f\")\n",
       " (deposit_address = \"0xeef87830ca6b65f477ea160be186494e72b0ec32\", withdraw_address = \"0x2ab0ee5d373763cec3379c14c25dfe47d443e7a4\")\n",
       " ⋮\n",
       " (deposit_address = \"0xc802d4964e0886020791f54fbaa5c92dd5699c8c\", withdraw_address = \"0xd29a5c212723b0a51ded27623f48ce56ca2770f5\")\n",
       " (deposit_address = \"0x2f55e3827dd844c1e8c7b23ecee854a34433a9fe\", withdraw_address = \"0x7dd92eef7fac9546b0875f55eca76ce277f14a63\")\n",
       " (deposit_address = \"0xdaa743d983becf832b8f9842dcebb7fbbac8dab7\", withdraw_address = \"0x1350804da29d56eb3ec41189d8a7168fc017401a\")\n",
       " (deposit_address = \"0x1c6558bb4f4dda8fad8c42cc5b0fb69f1c9115a1\", withdraw_address = \"0x4cb7e575aa19dfc998120a9b056b3b13ca7b0e1c\")\n",
       " (deposit_address = \"0xf44c4ed93f52a61d4c8e441c5b6c579d58d00a02\", withdraw_address = \"0x1bef2b5d795e1d95ad324c6ff12053ac693097d2\")\n",
       " (deposit_address = \"0xd5400334bd9c1879ac436858c3786a1c7aeeb919\", withdraw_address = \"0xa465f2514d12e0ef28e90ee0a9f2e503b73fb9c4\")\n",
       " (deposit_address = \"0xd9fcffd01b0626992a637915e4954150c7afe2fa\", withdraw_address = \"0x73011f861038c4442cb8bd0da6355d3944133464\")\n",
       " (deposit_address = \"0xe6629cc8ced87063151c37f25d6ca4a74675a520\", withdraw_address = \"0x6c4b5e3e2677836e3f699436b7567f86714eb84d\")\n",
       " (deposit_address = \"0x10e7644e76dad3684c65946afa762f1d2ff098cd\", withdraw_address = \"0xd5f4d06e56cffe8d4b8423dff13e377e3328d0e8\")\n",
       " (deposit_address = \"0xbd06b8b58ad66b9597afd5ef1edad5d7aafa9e83\", withdraw_address = \"0xc3a69cbd4ca6a971ba7f02d3b464d40cb73dfd5c\")\n",
       " (deposit_address = \"0x9dfa1e690d79bab2ace5135e59caac6ac8d5572a\", withdraw_address = \"0x0aed70eac10b32af9328ece5fd554a155dadb254\")\n",
       " (deposit_address = \"0x02013cd3b96c0ff6f9028a113a7856ffa8e3e42c\", withdraw_address = \"0x50260fcf08808216daa93402f0704eced91ea7f7\")"
      ]
     },
     "execution_count": 25,
     "metadata": {},
     "output_type": "execute_result"
    }
   ],
   "source": [
    "keys(d) |> collect"
   ]
  },
  {
   "cell_type": "code",
   "execution_count": 31,
   "id": "b7e27011",
   "metadata": {},
   "outputs": [
    {
     "data": {
      "text/plain": [
       "Dict{Any, Any} with 2 entries:\n",
       "  \"1 ETH\"   => (deposit_hashes = [\"0xd1f0e2026d268c855c522332f7777228206f27ae7c…\n",
       "  \"0.1 ETH\" => (deposit_hashes = [\"0xc103932505443a4efefb4c0500af92b6b4187a7a7f…"
      ]
     },
     "execution_count": 31,
     "metadata": {},
     "output_type": "execute_result"
    }
   ],
   "source": [
    "t2 = (deposit_address = \"0x1c6558bb4f4dda8fad8c42cc5b0fb69f1c9115a1\", withdraw_address = \"0x4cb7e575aa19dfc998120a9b056b3b13ca7b0e1c\")\n",
    "d[t2]"
   ]
  },
  {
   "cell_type": "code",
   "execution_count": 32,
   "id": "b220354a",
   "metadata": {},
   "outputs": [
    {
     "data": {
      "text/plain": [
       "(deposit_hashes = [\"0xc103932505443a4efefb4c0500af92b6b4187a7a7fa7b8aa794a9a5239b47396\", \"0x4b446f425a21af3d0c5aaad088392e59024e45ce7535728f48f6b902826e0515\"], withdraw_hashes = [\"0xcee0c1d85ad881ec7c33e2f5117bca93d58c91c026a84593f8bf6f63ef5a1687\"])"
      ]
     },
     "execution_count": 32,
     "metadata": {},
     "output_type": "execute_result"
    }
   ],
   "source": [
    "d[t2][\"0.1 ETH\"]"
   ]
  },
  {
   "cell_type": "code",
   "execution_count": null,
   "id": "d864281c",
   "metadata": {},
   "outputs": [],
   "source": []
  }
 ],
 "metadata": {
  "kernelspec": {
   "display_name": "Julia 1.6.0",
   "language": "julia",
   "name": "julia-1.6"
  },
  "language_info": {
   "file_extension": ".jl",
   "mimetype": "application/julia",
   "name": "julia",
   "version": "1.6.0"
  }
 },
 "nbformat": 4,
 "nbformat_minor": 5
}
