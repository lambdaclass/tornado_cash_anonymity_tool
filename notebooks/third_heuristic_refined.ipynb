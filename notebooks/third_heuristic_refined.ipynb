{
 "cells": [
  {
   "cell_type": "code",
   "execution_count": 1,
   "id": "9004f51d",
   "metadata": {},
   "outputs": [],
   "source": [
    "using CSV\n",
    "using DataFrames\n",
    "using ProgressBars"
   ]
  },
  {
   "cell_type": "code",
   "execution_count": 2,
   "id": "35186378",
   "metadata": {},
   "outputs": [],
   "source": [
    "deposit_txs = CSV.read(\"../data/lighter_complete_deposit_txs.csv\", DataFrame)\n",
    "withdraw_txs = CSV.read(\"../data/lighter_complete_withdraw_txs.csv\", DataFrame)\n",
    "\n",
    "unique_deposit_addresses = Set(deposit_txs[!, :from_address])\n",
    "unique_withdraw_addresses = Set(withdraw_txs[!, :recipient_address])\n",
    "\n",
    "outside_tcash_txs = CSV.read(\"../data/transactions_between_deposit_and_withdraw_addresses.csv\", DataFrame)\n",
    "address_and_withdraw_df = outside_tcash_txs[!, [:from_address, :to_address]];"
   ]
  },
  {
   "cell_type": "code",
   "execution_count": 3,
   "id": "498566c5",
   "metadata": {},
   "outputs": [
    {
     "data": {
      "text/plain": [
       "preprocess_data (generic function with 1 method)"
      ]
     },
     "execution_count": 3,
     "metadata": {},
     "output_type": "execute_result"
    }
   ],
   "source": [
    "function unique_and_permuted(address_and_withdraw_df)\n",
    "    unique_and_permuted_set = Set(Set([]))\n",
    "    \n",
    "    for row in eachrow(address_and_withdraw_df)\n",
    "        push!(unique_and_permuted_set, Set([row.from_address, row.to_address]))\n",
    "    end\n",
    "  \n",
    "    unique_and_permuted_set\n",
    "end\n",
    "\n",
    "function dataframe_from_set_of_sets(set_of_sets)\n",
    "    df = DataFrame(from_address=[], to_address=[])\n",
    "    for set in set_of_sets\n",
    "        push!(df, collect(set))\n",
    "    end\n",
    "    df\n",
    "end\n",
    "\n",
    "function preprocess_data(address_and_withdraw_df)\n",
    "    set = filter(x -> length(x) == 2, unique_and_permuted(address_and_withdraw_df))\n",
    "    dataframe_from_set_of_sets(set)\n",
    "end"
   ]
  },
  {
   "cell_type": "code",
   "execution_count": 4,
   "id": "e3208075",
   "metadata": {},
   "outputs": [],
   "source": [
    "clean_addresses_df = preprocess_data(address_and_withdraw_df);"
   ]
  },
  {
   "cell_type": "code",
   "execution_count": 5,
   "id": "2c688a47",
   "metadata": {},
   "outputs": [
    {
     "data": {
      "text/plain": [
       "is_DW_type (generic function with 1 method)"
      ]
     },
     "execution_count": 5,
     "metadata": {},
     "output_type": "execute_result"
    }
   ],
   "source": [
    "# function is_D_type(address, unique_deposit_addresses, unique_withdraw_addresses)\n",
    "function is_D_type(address)\n",
    "    address ∈ unique_deposit_addresses && address ∉ unique_withdraw_addresses\n",
    "end\n",
    "\n",
    "# function is_W_type(address, unique_deposit_addresses, unique_withdraw_addresses)\n",
    "function is_W_type(address)\n",
    "    address ∉ unique_deposit_addresses && address ∈ unique_withdraw_addresses\n",
    "end\n",
    "\n",
    "# function is_DW_type(address, unique_deposit_addresses, unique_withdraw_addresses)\n",
    "function is_DW_type(address)\n",
    "    address ∈ unique_deposit_addresses && address ∈ unique_withdraw_addresses\n",
    "end"
   ]
  },
  {
   "cell_type": "code",
   "execution_count": 6,
   "id": "83fd2b37",
   "metadata": {},
   "outputs": [
    {
     "data": {
      "text/plain": [
       "is_DW_DW_tx (generic function with 1 method)"
      ]
     },
     "execution_count": 6,
     "metadata": {},
     "output_type": "execute_result"
    }
   ],
   "source": [
    "function is_D_W_tx(from_address, to_address)\n",
    "    is_D_type(from_address) && is_W_type(to_address)\n",
    "end\n",
    "\n",
    "function is_W_D_tx(from_address, to_address)\n",
    "    is_W_type(from_address) && is_D_type(to_address)\n",
    "end\n",
    "\n",
    "function is_D_DW_tx(from_address, to_address)\n",
    "    is_D_type(from_address) && is_DW_type(to_address)\n",
    "end\n",
    "\n",
    "function is_DW_D_tx(from_address, to_address)\n",
    "    is_DW_type(from_address) && is_D_type(to_address)\n",
    "end\n",
    "\n",
    "function is_W_DW_tx(from_address, to_address)\n",
    "    is_W_type(from_address) && is_DW_type(to_address)\n",
    "end\n",
    "\n",
    "function is_DW_W_tx(from_address, to_address)\n",
    "    is_DW_type(from_address) && is_W_type(to_address)\n",
    "end\n",
    "\n",
    "function is_DW_DW_tx(from_address, to_address)\n",
    "    is_DW_type(from_address) && is_DW_type(to_address)\n",
    "end "
   ]
  },
  {
   "cell_type": "code",
   "execution_count": 7,
   "id": "df3de5ba",
   "metadata": {},
   "outputs": [
    {
     "data": {
      "text/plain": [
       "create_deposit_and_withdraw_df (generic function with 1 method)"
      ]
     },
     "execution_count": 7,
     "metadata": {},
     "output_type": "execute_result"
    }
   ],
   "source": [
    "function create_deposit_and_withdraw_df(address_and_withdraw_df, unique_deposit_addresses, unique_withdraw_addresses)\n",
    "    \n",
    "    # D | W\n",
    "    deposit_and_withdraw_matrix = Matrix{String}\n",
    "    \n",
    "    for row in ProgressBar(eachrow(address_and_withdraw_df), printing_delay=0.1)\n",
    "        if is_D_W_tx(row.from_address, row.to_address) || is_D_DW_tx(row.from_address, row.to_address) || is_DW_W_tx(row.from_address, row.to_address)\n",
    "            deposit_and_withdraw_matrix = vcat(deposit_and_withdraw_matrix, [row.from_address row.to_address])\n",
    "            \n",
    "        elseif is_W_D_tx(row.from_address, row.to_address) || is_W_DW_tx(row.from_address, row.to_address) || is_DW_D_tx(row.from_address, row.to_address)\n",
    "            deposit_and_withdraw_matrix = vcat(deposit_and_withdraw_matrix, [row.to_address row.from_address])\n",
    "            \n",
    "        elseif is_DW_DW_tx(row.from_address, row.to_address)\n",
    "            deposit_and_withdraw_matrix = vcat(deposit_and_withdraw_matrix, [row.from_address row.to_address; row.to_address row.from_address])\n",
    "            \n",
    "        else\n",
    "            throw(\"The transaction is not from any of the types: D_W, W_D, D_DW, DW_D, W_DW, DW_W, DW_DW\")\n",
    "            \n",
    "        end\n",
    "    end\n",
    "    \n",
    "    DataFrame(deposit_and_withdraw_matrix, [:deposit_address, :withdraw_address])\n",
    "end"
   ]
  },
  {
   "cell_type": "code",
   "execution_count": 8,
   "id": "e853742a",
   "metadata": {
    "scrolled": true
   },
   "outputs": [
    {
     "name": "stderr",
     "output_type": "stream",
     "text": [
      "0.0%┣                                          ┫ 0/11.2k [00:00<-18:-43, -0s/it]\n",
      "0.0%┣                                        ┫ 1/11.2k [00:01<Inf:Inf, InfGs/it]\n",
      "0.0%┣                                          ┫ 2/11.2k [00:01<02:37:13, 1it/s]\n",
      "0.0%┣                                          ┫ 3/11.2k [00:01<01:43:33, 2it/s]\n",
      "28.5%┣██████████▉                           ┫ 3.2k/11.2k [00:01<00:03, 2.7kit/s]\n",
      "43.8%┣████████████████▋                     ┫ 4.9k/11.2k [00:01<00:02, 3.8kit/s]\n",
      "52.6%┣████████████████████                  ┫ 5.9k/11.2k [00:01<00:01, 4.2kit/s]\n",
      "61.6%┣███████████████████████▍              ┫ 6.9k/11.2k [00:02<00:01, 4.6kit/s]\n",
      "71.0%┣███████████████████████████           ┫ 8.0k/11.2k [00:02<00:01, 4.9kit/s]\n",
      "80.1%┣██████████████████████████████▌       ┫ 9.0k/11.2k [00:02<00:00, 5.2kit/s]\n",
      "87.1%┣█████████████████████████████████     ┫ 9.8k/11.2k [00:02<00:00, 5.4kit/s]\n",
      "93.6%┣██████████████████████████████████▋  ┫ 10.5k/11.2k [00:02<00:00, 5.5kit/s]\n",
      "99.7%┣████████████████████████████████████▉┫ 11.2k/11.2k [00:02<00:00, 5.5kit/s]\n",
      "100.0%┣████████████████████████████████████┫ 11.2k/11.2k [00:02<00:00, 5.5kit/s]\n"
     ]
    }
   ],
   "source": [
    "D_W_df = create_deposit_and_withdraw_df(clean_addresses_df, unique_deposit_addresses, unique_withdraw_addresses)[2:end,:];"
   ]
  },
  {
   "cell_type": "code",
   "execution_count": 41,
   "id": "b8114c0f",
   "metadata": {},
   "outputs": [
    {
     "data": {
      "text/html": [
       "<div class=\"data-frame\"><p>12,385 rows × 2 columns</p><table class=\"data-frame\"><thead><tr><th></th><th>deposit_address</th><th>withdraw_address</th></tr><tr><th></th><th title=\"Any\">Any</th><th title=\"Any\">Any</th></tr></thead><tbody><tr><th>1</th><td>0x0c63d55a244657f5606d62856bd9f1ff227c05f2</td><td>0x0e54db73f82bd9fde34ebce53ea83bd197e9044c</td></tr><tr><th>2</th><td>0xd9ee088c6ca2a90d6f0d059af17c2ec2c908bb0f</td><td>0xc73ef94bc339a2cb9a1b67820af46bf47484a1ed</td></tr><tr><th>3</th><td>0xbf7c205febae32f7874b28b9f371fe522e1fd97a</td><td>0xe5b5df72187f7d867973615f5e1144b7a95b495f</td></tr><tr><th>4</th><td>0xe5b5df72187f7d867973615f5e1144b7a95b495f</td><td>0xbf7c205febae32f7874b28b9f371fe522e1fd97a</td></tr><tr><th>5</th><td>0x09fe8f71f8e14b3d6b6456fbafaaef4a27f042cd</td><td>0x35f081bdf4740ffa8a56ff98e4b971fbcb7d82a7</td></tr><tr><th>6</th><td>0xa8308e994d180ca87c6a784fcb8612dec9ede03d</td><td>0x46ba0af6bc60e6fabd9957744c057d031c720ace</td></tr><tr><th>7</th><td>0xf62e92b2452d8a0fbb2c4b03424d679c86660001</td><td>0xf94571dbdff33446dabd17040cd6236b0d2c2545</td></tr><tr><th>8</th><td>0x865ec62a7f46aab0976ad22573fcf319c3f939ce</td><td>0xce91fddab3c544b59ebac665a7635561043a7def</td></tr><tr><th>9</th><td>0x134b9eab4aa4c1489687c18c10d7338656fde32d</td><td>0x68a99f89e475a078645f4bac491360afe255dff1</td></tr><tr><th>10</th><td>0x8a83716acd66d9e1fb18c9b79540b72e04f80ac0</td><td>0xcd1690b5ae49b4bd1ac5d201dccb461887a76dcd</td></tr><tr><th>11</th><td>0xc77fa6c05b4e472feee7c0f9b20e70c5bf33a99b</td><td>0x4e1ce0b96fc37f81f5508c6608687af4f78f23b2</td></tr><tr><th>12</th><td>0xdf86d9ca55e2ebf191d11337d962d5686893b4e2</td><td>0x9832178f975879c0765bef385e40a9776f49ac69</td></tr><tr><th>13</th><td>0x9832178f975879c0765bef385e40a9776f49ac69</td><td>0xdf86d9ca55e2ebf191d11337d962d5686893b4e2</td></tr><tr><th>14</th><td>0x64814817b4174c4b0fab09b87122cf62c9907788</td><td>0x0857357c8b2f6a5a27c2adb0f5e97086028d55ca</td></tr><tr><th>15</th><td>0x56258340928387d88b7b619b96bc008c173d67cd</td><td>0x467ea1dac5e8ea37c8040cf81b4b15f66cf3eb2c</td></tr><tr><th>16</th><td>0xdf23b720cdf2b2fe62be9be5b6637f2688bed834</td><td>0x1045d46851b649363297c9969c18d7d4c1683d08</td></tr><tr><th>17</th><td>0x7c085b8ab3230028ddd458faa0f9d137e039bcf5</td><td>0xa79eb13e7336d6c240f6718d572a8b5aec0623c6</td></tr><tr><th>18</th><td>0xb9b8ef61b7851276b0239757a039d54a23804cbb</td><td>0x20068ff6c39b59112b2488dc33660f5cc40689bd</td></tr><tr><th>19</th><td>0xd4c8127af1de3ebf8ab7449aac0fd892b70f3b45</td><td>0x2f80e5163a7a774038753593010173322ea6f9fe</td></tr><tr><th>20</th><td>0x2d2d2a1f9bfda0d2364b4d517f862e52fefc2703</td><td>0x1c051112075feaee33bcdbe0984c2bb0db53cf47</td></tr><tr><th>21</th><td>0xcf63e1c31805254b6fb3ed7829206c2b2505e3a7</td><td>0x150ef95cdb28f7ac32926917b9342c0759dbee04</td></tr><tr><th>22</th><td>0xe4e55bb5118fb39ae81eaada22ec8378d56526d5</td><td>0x4b6760682191de7e476b801b7ab42d8e8a5b041a</td></tr><tr><th>23</th><td>0xe4490a4961c53239cf58d8026a148ce9a530d0ed</td><td>0xd1289bbb6f1633bb56963bf9d51923cf9ea965e8</td></tr><tr><th>24</th><td>0x07df7775902c31c24eddac2c462b30cf988d7e19</td><td>0xab12253171a0d73df64b115cd43fe0a32feb9daa</td></tr><tr><th>25</th><td>0xe1c081cd74aacc91711ce1d48fb318d0071fcd65</td><td>0x6effc6bd984ef5a80fb9d6d48cc1ef6d8ef05113</td></tr><tr><th>26</th><td>0x60ac2b506fd7abac763c9c4301f38e2860283812</td><td>0x7ac9332bce5d4a8e078cfdbe605a362cfe723499</td></tr><tr><th>27</th><td>0x9a5260ea769d664a8ca41f9ee1fb92308d72ecbc</td><td>0x0018951d399eafa471af3cb7e14eed3694b23ccd</td></tr><tr><th>28</th><td>0x0fce046251322106304b80d15b09caa64b010522</td><td>0xe69e7d52c133f1fe56fe80613cb158037c509254</td></tr><tr><th>29</th><td>0x00de4b13153673bcae2616b67bf822500d325fc3</td><td>0xf169913283e7fbf3d798771bfaaca021244cad26</td></tr><tr><th>30</th><td>0x06cb1bac771838d291c52aab8148c64b7af1938c</td><td>0x89750b98e854759786da9af7f05d55dde2be5552</td></tr><tr><th>&vellip;</th><td>&vellip;</td><td>&vellip;</td></tr></tbody></table></div>"
      ],
      "text/latex": [
       "\\begin{tabular}{r|cc}\n",
       "\t& deposit\\_address & withdraw\\_address\\\\\n",
       "\t\\hline\n",
       "\t& Any & Any\\\\\n",
       "\t\\hline\n",
       "\t1 & 0x0c63d55a244657f5606d62856bd9f1ff227c05f2 & 0x0e54db73f82bd9fde34ebce53ea83bd197e9044c \\\\\n",
       "\t2 & 0xd9ee088c6ca2a90d6f0d059af17c2ec2c908bb0f & 0xc73ef94bc339a2cb9a1b67820af46bf47484a1ed \\\\\n",
       "\t3 & 0xbf7c205febae32f7874b28b9f371fe522e1fd97a & 0xe5b5df72187f7d867973615f5e1144b7a95b495f \\\\\n",
       "\t4 & 0xe5b5df72187f7d867973615f5e1144b7a95b495f & 0xbf7c205febae32f7874b28b9f371fe522e1fd97a \\\\\n",
       "\t5 & 0x09fe8f71f8e14b3d6b6456fbafaaef4a27f042cd & 0x35f081bdf4740ffa8a56ff98e4b971fbcb7d82a7 \\\\\n",
       "\t6 & 0xa8308e994d180ca87c6a784fcb8612dec9ede03d & 0x46ba0af6bc60e6fabd9957744c057d031c720ace \\\\\n",
       "\t7 & 0xf62e92b2452d8a0fbb2c4b03424d679c86660001 & 0xf94571dbdff33446dabd17040cd6236b0d2c2545 \\\\\n",
       "\t8 & 0x865ec62a7f46aab0976ad22573fcf319c3f939ce & 0xce91fddab3c544b59ebac665a7635561043a7def \\\\\n",
       "\t9 & 0x134b9eab4aa4c1489687c18c10d7338656fde32d & 0x68a99f89e475a078645f4bac491360afe255dff1 \\\\\n",
       "\t10 & 0x8a83716acd66d9e1fb18c9b79540b72e04f80ac0 & 0xcd1690b5ae49b4bd1ac5d201dccb461887a76dcd \\\\\n",
       "\t11 & 0xc77fa6c05b4e472feee7c0f9b20e70c5bf33a99b & 0x4e1ce0b96fc37f81f5508c6608687af4f78f23b2 \\\\\n",
       "\t12 & 0xdf86d9ca55e2ebf191d11337d962d5686893b4e2 & 0x9832178f975879c0765bef385e40a9776f49ac69 \\\\\n",
       "\t13 & 0x9832178f975879c0765bef385e40a9776f49ac69 & 0xdf86d9ca55e2ebf191d11337d962d5686893b4e2 \\\\\n",
       "\t14 & 0x64814817b4174c4b0fab09b87122cf62c9907788 & 0x0857357c8b2f6a5a27c2adb0f5e97086028d55ca \\\\\n",
       "\t15 & 0x56258340928387d88b7b619b96bc008c173d67cd & 0x467ea1dac5e8ea37c8040cf81b4b15f66cf3eb2c \\\\\n",
       "\t16 & 0xdf23b720cdf2b2fe62be9be5b6637f2688bed834 & 0x1045d46851b649363297c9969c18d7d4c1683d08 \\\\\n",
       "\t17 & 0x7c085b8ab3230028ddd458faa0f9d137e039bcf5 & 0xa79eb13e7336d6c240f6718d572a8b5aec0623c6 \\\\\n",
       "\t18 & 0xb9b8ef61b7851276b0239757a039d54a23804cbb & 0x20068ff6c39b59112b2488dc33660f5cc40689bd \\\\\n",
       "\t19 & 0xd4c8127af1de3ebf8ab7449aac0fd892b70f3b45 & 0x2f80e5163a7a774038753593010173322ea6f9fe \\\\\n",
       "\t20 & 0x2d2d2a1f9bfda0d2364b4d517f862e52fefc2703 & 0x1c051112075feaee33bcdbe0984c2bb0db53cf47 \\\\\n",
       "\t21 & 0xcf63e1c31805254b6fb3ed7829206c2b2505e3a7 & 0x150ef95cdb28f7ac32926917b9342c0759dbee04 \\\\\n",
       "\t22 & 0xe4e55bb5118fb39ae81eaada22ec8378d56526d5 & 0x4b6760682191de7e476b801b7ab42d8e8a5b041a \\\\\n",
       "\t23 & 0xe4490a4961c53239cf58d8026a148ce9a530d0ed & 0xd1289bbb6f1633bb56963bf9d51923cf9ea965e8 \\\\\n",
       "\t24 & 0x07df7775902c31c24eddac2c462b30cf988d7e19 & 0xab12253171a0d73df64b115cd43fe0a32feb9daa \\\\\n",
       "\t25 & 0xe1c081cd74aacc91711ce1d48fb318d0071fcd65 & 0x6effc6bd984ef5a80fb9d6d48cc1ef6d8ef05113 \\\\\n",
       "\t26 & 0x60ac2b506fd7abac763c9c4301f38e2860283812 & 0x7ac9332bce5d4a8e078cfdbe605a362cfe723499 \\\\\n",
       "\t27 & 0x9a5260ea769d664a8ca41f9ee1fb92308d72ecbc & 0x0018951d399eafa471af3cb7e14eed3694b23ccd \\\\\n",
       "\t28 & 0x0fce046251322106304b80d15b09caa64b010522 & 0xe69e7d52c133f1fe56fe80613cb158037c509254 \\\\\n",
       "\t29 & 0x00de4b13153673bcae2616b67bf822500d325fc3 & 0xf169913283e7fbf3d798771bfaaca021244cad26 \\\\\n",
       "\t30 & 0x06cb1bac771838d291c52aab8148c64b7af1938c & 0x89750b98e854759786da9af7f05d55dde2be5552 \\\\\n",
       "\t$\\dots$ & $\\dots$ & $\\dots$ \\\\\n",
       "\\end{tabular}\n"
      ],
      "text/plain": [
       "\u001b[1m12385×2 DataFrame\u001b[0m\n",
       "\u001b[1m   Row \u001b[0m│\u001b[1m deposit_address                   \u001b[0m\u001b[1m withdraw_address                  \u001b[0m\n",
       "\u001b[1m       \u001b[0m│\u001b[90m Any                               \u001b[0m\u001b[90m Any                               \u001b[0m\n",
       "───────┼──────────────────────────────────────────────────────────────────────\n",
       "     1 │ 0x0c63d55a244657f5606d62856bd9f1…  0x0e54db73f82bd9fde34ebce53ea83b…\n",
       "     2 │ 0xd9ee088c6ca2a90d6f0d059af17c2e…  0xc73ef94bc339a2cb9a1b67820af46b…\n",
       "     3 │ 0xbf7c205febae32f7874b28b9f371fe…  0xe5b5df72187f7d867973615f5e1144…\n",
       "     4 │ 0xe5b5df72187f7d867973615f5e1144…  0xbf7c205febae32f7874b28b9f371fe…\n",
       "     5 │ 0x09fe8f71f8e14b3d6b6456fbafaaef…  0x35f081bdf4740ffa8a56ff98e4b971…\n",
       "     6 │ 0xa8308e994d180ca87c6a784fcb8612…  0x46ba0af6bc60e6fabd9957744c057d…\n",
       "     7 │ 0xf62e92b2452d8a0fbb2c4b03424d67…  0xf94571dbdff33446dabd17040cd623…\n",
       "     8 │ 0x865ec62a7f46aab0976ad22573fcf3…  0xce91fddab3c544b59ebac665a76355…\n",
       "     9 │ 0x134b9eab4aa4c1489687c18c10d733…  0x68a99f89e475a078645f4bac491360…\n",
       "    10 │ 0x8a83716acd66d9e1fb18c9b79540b7…  0xcd1690b5ae49b4bd1ac5d201dccb46…\n",
       "    11 │ 0xc77fa6c05b4e472feee7c0f9b20e70…  0x4e1ce0b96fc37f81f5508c6608687a…\n",
       "   ⋮   │                 ⋮                                  ⋮\n",
       " 12376 │ 0x54174d013e49a80b91ee14f819cadb…  0xd99ae9a34c5d7084b3a7c95fc1ca9e…\n",
       " 12377 │ 0x0132786eac9e306b13cad3826e34e1…  0x782b638a99c7d1f027e10ad3aa35fd…\n",
       " 12378 │ 0xec01f7e2341fc037b4187309d3265d…  0xdee0f540d3d535245a7f9e4103bca0…\n",
       " 12379 │ 0xe223bb07a5df532876f24884e1663d…  0xf09020b6638bd6b15d57ad89375e37…\n",
       " 12380 │ 0x8aa25ef2c43f0afc214ed7263b6abd…  0x99a640b024e9b8c0a9d40f8fc7148d…\n",
       " 12381 │ 0xca968044effff14bee263ca6af3b98…  0x303c223e6acafe204800fea771842c…\n",
       " 12382 │ 0x71232ead3bec1ac03ecfe2556acd6c…  0x82eab62c00161baca05c6bd20c9292…\n",
       " 12383 │ 0xb3a502d437124e8733082dc654dc43…  0xaabb8549bd3950704dad65f01bd047…\n",
       " 12384 │ 0xaabb8549bd3950704dad65f01bd047…  0xb3a502d437124e8733082dc654dc43…\n",
       " 12385 │ 0x42ca45b785d87b8375dff176555c74…  0x059e51c98c0a5b89624e8c1937a001…\n",
       "\u001b[36m                                                            12364 rows omitted\u001b[0m"
      ]
     },
     "execution_count": 41,
     "metadata": {},
     "output_type": "execute_result"
    }
   ],
   "source": [
    "D_W_df"
   ]
  },
  {
   "cell_type": "code",
   "execution_count": 10,
   "id": "fb199f68",
   "metadata": {},
   "outputs": [],
   "source": [
    "tornado_addresses = Dict(\n",
    "    \"0xd4b88df4d29f5cedd6857912842cff3b20c8cfa3\" => \"100 DAI\",\n",
    "    \"0xfd8610d20aa15b7b2e3be39b396a1bc3516c7144\" => \"1000 DAI\",\n",
    "    \"0x07687e702b410fa43f4cb4af7fa097918ffd2730\" => \"10000 DAI\",\n",
    "    \"0x23773e65ed146a459791799d01336db287f25334\" => \"100000 DAI\",\n",
    "    \"0x12d66f87a04a9e220743712ce6d9bb1b5616b8fc\" => \"0.1 ETH\",\n",
    "    \"0x47ce0c6ed5b0ce3d3a51fdb1c52dc66a7c3c2936\" => \"1 ETH\",\n",
    "    \"0x910cbd523d972eb0a6f4cae4618ad62622b39dbf\" => \"10 ETH\",\n",
    "    \"0xa160cdab225685da1d56aa342ad8841c3b53f291\" => \"100 ETH\",\n",
    "    \"0xd96f2b1c14db8458374d9aca76e26c3d18364307\" => \"100 USDC\",\n",
    "    \"0x4736dcf1b7a3d580672cce6e7c65cd5cc9cfba9d\" => \"1000 USDC\",\n",
    "    \"0x169ad27a470d064dede56a2d3ff727986b15d52b\" => \"100 USDT\",\n",
    "    \"0x0836222f2b2b24a3f36f98668ed8f0b38d1a872f\" => \"1000 USDT\",\n",
    "    \"0x178169b423a011fff22b9e3f3abea13414ddd0f1\" => \"0.1 WBTC\",\n",
    "    \"0x610b717796ad172b316836ac95a2ffad065ceab4\" => \"1 WBTC\",\n",
    "    \"0xbb93e510bbcd0b7beb5a853875f9ec60275cf498\" => \"10 WBTC\",\n",
    "    \"0x22aaa7720ddd5388a3c0a3333430953c68f1849b\" => \"5000 cDAI\",\n",
    "    \"0x03893a7c7463ae47d46bc7f091665f1893656003\" => \"50000 cDAI\",\n",
    "    \"0x2717c5e28cf931547b621a5dddb772ab6a35b701\" => \"500000 cDAI\",\n",
    "    \"0xd21be7248e0197ee08e0c20d4a96debdac3d20af\" => \"5000000 cDAI\"\n",
    "    );"
   ]
  },
  {
   "cell_type": "code",
   "execution_count": 11,
   "id": "42f273ed",
   "metadata": {},
   "outputs": [
    {
     "data": {
      "text/plain": [
       "get_tcash_transactions_done (generic function with 1 method)"
      ]
     },
     "execution_count": 11,
     "metadata": {},
     "output_type": "execute_result"
    }
   ],
   "source": [
    "function get_tcash_transactions_done(address, tornado_transactions_df, tornado_addresses; transaction_type)\n",
    "    \n",
    "    address_field =\n",
    "        if transaction_type == :deposit \"from_address\" \n",
    "            elseif transaction_type == :withdraw \"recipient_address\"\n",
    "            else throw(\"Transaction type parameter error\")\n",
    "        end\n",
    "    \n",
    "    # The number of withdraws is initialized at 1 since the withdraw_transaction of the first argument is always present\n",
    "    # in the withdrawal data. Also, the count should be 1 if there is no other transaction with the same address.\n",
    "    \n",
    "    transactions_dict = Dict()\n",
    "    \n",
    "    address_transactions = filter(row -> row[address_field] == address, tornado_transactions_df)\n",
    "    \n",
    "    # This for loop counts the number of transactions with the same address. At the end, the total number is returned.\n",
    "    # The count is done considering that the recipient_address of each of the transactions in the withdraw_transactions_df\n",
    "    # is the same as the recipient_address of the withdraw_transaction input, and that the timestamp of the rows is earlier\n",
    "    # than the withdraw_transaction input. \n",
    "    # The if clause also filters by the transaction hash, since we don't want to count the same transaction two times.\n",
    "    \n",
    "    for row ∈ eachrow(address_transactions)\n",
    "        if haskey(transactions_dict, tornado_addresses[row.tornado_cash_address])\n",
    "            push!(transactions_dict[tornado_addresses[row.tornado_cash_address]], (hash=row.hash, timestamp=row.block_timestamp))\n",
    "        else\n",
    "            transactions_dict[tornado_addresses[row.tornado_cash_address]] = [(hash=row.hash, timestamp=row.block_timestamp)]\n",
    "        end\n",
    "    end\n",
    "\n",
    "    Dict(address => transactions_dict)\n",
    "end"
   ]
  },
  {
   "cell_type": "code",
   "execution_count": 12,
   "id": "85bb7916",
   "metadata": {},
   "outputs": [
    {
     "data": {
      "text/plain": [
       "Dict{String, Dict{Any, Any}} with 1 entry:\n",
       "  \"0x0c63d55a244657f5606d6… => Dict(\"100 ETH\"=>NamedTuple{(:hash, :timestamp), …"
      ]
     },
     "execution_count": 12,
     "metadata": {},
     "output_type": "execute_result"
    }
   ],
   "source": [
    "get_tcash_transactions_done(\"0x0c63d55a244657f5606d62856bd9f1ff227c05f2\", deposit_txs, tornado_addresses; transaction_type=:deposit)"
   ]
  },
  {
   "cell_type": "code",
   "execution_count": 13,
   "id": "0cfa294c",
   "metadata": {},
   "outputs": [
    {
     "data": {
      "text/html": [
       "<div class=\"data-frame\"><p>5 rows × 2 columns</p><table class=\"data-frame\"><thead><tr><th></th><th>deposit_address</th><th>withdraw_address</th></tr><tr><th></th><th title=\"Any\">Any</th><th title=\"Any\">Any</th></tr></thead><tbody><tr><th>1</th><td>0x0c63d55a244657f5606d62856bd9f1ff227c05f2</td><td>0x0e54db73f82bd9fde34ebce53ea83bd197e9044c</td></tr><tr><th>2</th><td>0xd9ee088c6ca2a90d6f0d059af17c2ec2c908bb0f</td><td>0xc73ef94bc339a2cb9a1b67820af46bf47484a1ed</td></tr><tr><th>3</th><td>0xbf7c205febae32f7874b28b9f371fe522e1fd97a</td><td>0xe5b5df72187f7d867973615f5e1144b7a95b495f</td></tr><tr><th>4</th><td>0xe5b5df72187f7d867973615f5e1144b7a95b495f</td><td>0xbf7c205febae32f7874b28b9f371fe522e1fd97a</td></tr><tr><th>5</th><td>0x09fe8f71f8e14b3d6b6456fbafaaef4a27f042cd</td><td>0x35f081bdf4740ffa8a56ff98e4b971fbcb7d82a7</td></tr></tbody></table></div>"
      ],
      "text/latex": [
       "\\begin{tabular}{r|cc}\n",
       "\t& deposit\\_address & withdraw\\_address\\\\\n",
       "\t\\hline\n",
       "\t& Any & Any\\\\\n",
       "\t\\hline\n",
       "\t1 & 0x0c63d55a244657f5606d62856bd9f1ff227c05f2 & 0x0e54db73f82bd9fde34ebce53ea83bd197e9044c \\\\\n",
       "\t2 & 0xd9ee088c6ca2a90d6f0d059af17c2ec2c908bb0f & 0xc73ef94bc339a2cb9a1b67820af46bf47484a1ed \\\\\n",
       "\t3 & 0xbf7c205febae32f7874b28b9f371fe522e1fd97a & 0xe5b5df72187f7d867973615f5e1144b7a95b495f \\\\\n",
       "\t4 & 0xe5b5df72187f7d867973615f5e1144b7a95b495f & 0xbf7c205febae32f7874b28b9f371fe522e1fd97a \\\\\n",
       "\t5 & 0x09fe8f71f8e14b3d6b6456fbafaaef4a27f042cd & 0x35f081bdf4740ffa8a56ff98e4b971fbcb7d82a7 \\\\\n",
       "\\end{tabular}\n"
      ],
      "text/plain": [
       "\u001b[1m5×2 DataFrame\u001b[0m\n",
       "\u001b[1m Row \u001b[0m│\u001b[1m deposit_address                   \u001b[0m\u001b[1m withdraw_address                  \u001b[0m\n",
       "\u001b[1m     \u001b[0m│\u001b[90m Any                               \u001b[0m\u001b[90m Any                               \u001b[0m\n",
       "─────┼──────────────────────────────────────────────────────────────────────\n",
       "   1 │ 0x0c63d55a244657f5606d62856bd9f1…  0x0e54db73f82bd9fde34ebce53ea83b…\n",
       "   2 │ 0xd9ee088c6ca2a90d6f0d059af17c2e…  0xc73ef94bc339a2cb9a1b67820af46b…\n",
       "   3 │ 0xbf7c205febae32f7874b28b9f371fe…  0xe5b5df72187f7d867973615f5e1144…\n",
       "   4 │ 0xe5b5df72187f7d867973615f5e1144…  0xbf7c205febae32f7874b28b9f371fe…\n",
       "   5 │ 0x09fe8f71f8e14b3d6b6456fbafaaef…  0x35f081bdf4740ffa8a56ff98e4b971…"
      ]
     },
     "execution_count": 13,
     "metadata": {},
     "output_type": "execute_result"
    }
   ],
   "source": [
    "first(D_W_df, 5)"
   ]
  },
  {
   "cell_type": "code",
   "execution_count": 14,
   "id": "ef246c54",
   "metadata": {},
   "outputs": [],
   "source": [
    "unique_deposit_addresses = unique(D_W_df[!, :deposit_address]);"
   ]
  },
  {
   "cell_type": "code",
   "execution_count": 15,
   "id": "321d2f2e",
   "metadata": {},
   "outputs": [],
   "source": [
    "unique_withdraw_addresses = unique(D_W_df[!, :withdraw_address]);"
   ]
  },
  {
   "cell_type": "code",
   "execution_count": 16,
   "id": "5b4a85f8",
   "metadata": {},
   "outputs": [
    {
     "data": {
      "text/plain": [
       "get_addresses_transactions (generic function with 1 method)"
      ]
     },
     "execution_count": 16,
     "metadata": {},
     "output_type": "execute_result"
    }
   ],
   "source": [
    "function get_addresses_transactions(addresses, tornado_transactions_df, tornado_addresses; transaction_type)\n",
    "    addresses_transactions = Dict()\n",
    "    for address in ProgressBar(addresses, printing_delay=2)\n",
    "        merge!(addresses_transactions, get_tcash_transactions_done(address, tornado_transactions_df, tornado_addresses; transaction_type=transaction_type))\n",
    "    end\n",
    "    addresses_transactions\n",
    "end"
   ]
  },
  {
   "cell_type": "code",
   "execution_count": 17,
   "id": "2183ab4f",
   "metadata": {},
   "outputs": [
    {
     "name": "stderr",
     "output_type": "stream",
     "text": [
      "0.0%┣                                        ┫ 0/7.8k [00:02<-4:-19:-24, -2s/it]\n",
      "0.0%┣                                         ┫ 1/7.8k [00:02<Inf:Inf, InfGs/it]\n",
      "1.2%┣▌                                           ┫ 90/7.8k [00:04<05:51, 22it/s]\n",
      "2.4%┣█                                          ┫ 185/7.8k [00:06<04:11, 30it/s]\n",
      "3.6%┣█▌                                         ┫ 281/7.8k [00:08<03:36, 35it/s]\n",
      "4.8%┣██                                         ┫ 377/7.8k [00:10<03:19, 37it/s]\n",
      "6.1%┣██▋                                        ┫ 473/7.8k [00:12<03:07, 39it/s]\n",
      "7.3%┣███▏                                       ┫ 569/7.8k [00:14<02:59, 40it/s]\n",
      "8.5%┣███▊                                       ┫ 664/7.8k [00:16<02:53, 41it/s]\n",
      "9.8%┣████▏                                      ┫ 762/7.8k [00:18<02:47, 42it/s]\n",
      "11.0%┣████▋                                     ┫ 858/7.8k [00:20<02:43, 43it/s]\n",
      "12.3%┣█████▏                                    ┫ 955/7.8k [00:22<02:38, 43it/s]\n",
      "13.4%┣█████▌                                   ┫ 1.0k/7.8k [00:24<02:36, 43it/s]\n",
      "14.6%┣██████                                   ┫ 1.1k/7.8k [00:26<02:34, 43it/s]\n",
      "15.6%┣██████▍                                  ┫ 1.2k/7.8k [00:28<02:32, 43it/s]\n",
      "16.9%┣███████                                  ┫ 1.3k/7.8k [00:30<02:29, 43it/s]\n",
      "18.1%┣███████▍                                 ┫ 1.4k/7.8k [00:32<02:26, 44it/s]\n",
      "19.3%┣████████                                 ┫ 1.5k/7.8k [00:34<02:23, 44it/s]\n",
      "20.5%┣████████▍                                ┫ 1.6k/7.8k [00:36<02:20, 44it/s]\n",
      "21.8%┣█████████                                ┫ 1.7k/7.8k [00:38<02:17, 44it/s]\n",
      "23.0%┣█████████▍                               ┫ 1.8k/7.8k [00:40<02:15, 44it/s]\n",
      "24.2%┣██████████                               ┫ 1.9k/7.8k [00:42<02:12, 45it/s]\n",
      "25.3%┣██████████▍                              ┫ 2.0k/7.8k [00:44<02:11, 44it/s]\n",
      "26.3%┣██████████▉                              ┫ 2.0k/7.8k [00:46<02:10, 44it/s]\n",
      "27.4%┣███████████▎                             ┫ 2.1k/7.8k [00:48<02:08, 44it/s]\n",
      "28.4%┣███████████▋                             ┫ 2.2k/7.8k [00:50<02:07, 44it/s]\n",
      "29.3%┣████████████                             ┫ 2.3k/7.8k [00:52<02:06, 44it/s]\n",
      "30.3%┣████████████▍                            ┫ 2.4k/7.8k [00:54<02:05, 43it/s]\n",
      "31.3%┣████████████▉                            ┫ 2.4k/7.8k [00:56<02:03, 43it/s]\n",
      "32.4%┣█████████████▎                           ┫ 2.5k/7.8k [00:58<02:02, 43it/s]\n",
      "33.4%┣█████████████▊                           ┫ 2.6k/7.8k [01:00<02:00, 43it/s]\n",
      "34.5%┣██████████████▏                          ┫ 2.7k/7.8k [01:02<01:59, 43it/s]\n",
      "35.5%┣██████████████▋                          ┫ 2.8k/7.8k [01:04<01:57, 43it/s]\n",
      "36.6%┣███████████████                          ┫ 2.8k/7.8k [01:06<01:55, 43it/s]\n",
      "37.7%┣███████████████▌                         ┫ 2.9k/7.8k [01:08<01:53, 43it/s]\n",
      "38.7%┣███████████████▉                         ┫ 3.0k/7.8k [01:10<01:51, 43it/s]\n",
      "39.8%┣████████████████▎                        ┫ 3.1k/7.8k [01:12<01:50, 43it/s]\n",
      "40.9%┣████████████████▊                        ┫ 3.2k/7.8k [01:14<01:48, 43it/s]\n",
      "41.9%┣█████████████████▏                       ┫ 3.3k/7.8k [01:16<01:46, 43it/s]\n",
      "43.0%┣█████████████████▋                       ┫ 3.3k/7.8k [01:18<01:44, 43it/s]\n",
      "44.0%┣██████████████████                       ┫ 3.4k/7.8k [01:21<01:43, 43it/s]\n",
      "45.1%┣██████████████████▌                      ┫ 3.5k/7.8k [01:23<01:41, 42it/s]\n",
      "46.1%┣███████████████████                      ┫ 3.6k/7.8k [01:25<01:39, 42it/s]\n",
      "47.2%┣███████████████████▍                     ┫ 3.7k/7.8k [01:27<01:37, 42it/s]\n",
      "48.3%┣███████████████████▉                     ┫ 3.8k/7.8k [01:29<01:35, 42it/s]\n",
      "49.3%┣████████████████████▏                    ┫ 3.8k/7.8k [01:31<01:33, 42it/s]\n",
      "50.4%┣████████████████████▋                    ┫ 3.9k/7.8k [01:33<01:31, 42it/s]\n",
      "51.5%┣█████████████████████                    ┫ 4.0k/7.8k [01:35<01:29, 42it/s]\n",
      "52.5%┣█████████████████████▌                   ┫ 4.1k/7.8k [01:37<01:27, 42it/s]\n",
      "53.6%┣██████████████████████                   ┫ 4.2k/7.8k [01:39<01:25, 42it/s]\n",
      "54.6%┣██████████████████████▍                  ┫ 4.3k/7.8k [01:41<01:24, 42it/s]\n",
      "55.7%┣██████████████████████▉                  ┫ 4.3k/7.8k [01:43<01:22, 42it/s]\n",
      "56.8%┣███████████████████████▎                 ┫ 4.4k/7.8k [01:45<01:20, 42it/s]\n",
      "57.8%┣███████████████████████▊                 ┫ 4.5k/7.8k [01:47<01:18, 42it/s]\n",
      "58.9%┣████████████████████████▏                ┫ 4.6k/7.8k [01:49<01:16, 42it/s]\n",
      "59.9%┣████████████████████████▋                ┫ 4.7k/7.8k [01:51<01:14, 42it/s]\n",
      "61.0%┣█████████████████████████                ┫ 4.7k/7.8k [01:53<01:12, 42it/s]\n",
      "62.1%┣█████████████████████████▌               ┫ 4.8k/7.8k [01:55<01:10, 42it/s]\n",
      "63.1%┣█████████████████████████▉               ┫ 4.9k/7.8k [01:57<01:08, 42it/s]\n",
      "64.2%┣██████████████████████████▎              ┫ 5.0k/7.8k [01:59<01:06, 42it/s]\n",
      "65.3%┣██████████████████████████▊              ┫ 5.1k/7.8k [02:01<01:04, 42it/s]\n",
      "66.3%┣███████████████████████████▏             ┫ 5.2k/7.8k [02:03<01:02, 42it/s]\n",
      "67.5%┣███████████████████████████▋             ┫ 5.2k/7.8k [02:05<01:00, 42it/s]\n",
      "68.5%┣████████████████████████████             ┫ 5.3k/7.8k [02:07<00:58, 42it/s]\n",
      "69.5%┣████████████████████████████▌            ┫ 5.4k/7.8k [02:09<00:57, 42it/s]\n",
      "70.6%┣█████████████████████████████            ┫ 5.5k/7.8k [02:11<00:55, 42it/s]\n",
      "71.6%┣█████████████████████████████▍           ┫ 5.6k/7.8k [02:13<00:53, 42it/s]\n",
      "72.7%┣█████████████████████████████▉           ┫ 5.7k/7.8k [02:15<00:51, 42it/s]\n",
      "73.7%┣██████████████████████████████▏          ┫ 5.7k/7.8k [02:17<00:49, 42it/s]\n",
      "74.7%┣██████████████████████████████▋          ┫ 5.8k/7.8k [02:19<00:47, 42it/s]\n",
      "75.8%┣███████████████████████████████          ┫ 5.9k/7.8k [02:21<00:45, 42it/s]\n",
      "76.8%┣███████████████████████████████▌         ┫ 6.0k/7.8k [02:23<00:43, 42it/s]\n",
      "77.9%┣████████████████████████████████         ┫ 6.1k/7.8k [02:25<00:41, 42it/s]\n",
      "79.0%┣████████████████████████████████▍        ┫ 6.1k/7.8k [02:27<00:39, 42it/s]\n",
      "80.0%┣████████████████████████████████▉        ┫ 6.2k/7.8k [02:29<00:37, 42it/s]\n",
      "81.1%┣█████████████████████████████████▎       ┫ 6.3k/7.8k [02:31<00:35, 42it/s]\n",
      "82.2%┣█████████████████████████████████▊       ┫ 6.4k/7.8k [02:33<00:33, 42it/s]\n",
      "83.3%┣██████████████████████████████████▏      ┫ 6.5k/7.8k [02:35<00:31, 42it/s]\n",
      "84.3%┣██████████████████████████████████▋      ┫ 6.6k/7.8k [02:37<00:29, 42it/s]\n",
      "85.4%┣███████████████████████████████████      ┫ 6.6k/7.8k [02:39<00:27, 42it/s]\n",
      "86.5%┣███████████████████████████████████▌     ┫ 6.7k/7.8k [02:41<00:25, 42it/s]\n",
      "87.5%┣███████████████████████████████████▉     ┫ 6.8k/7.8k [02:43<00:23, 42it/s]\n",
      "88.6%┣████████████████████████████████████▎    ┫ 6.9k/7.8k [02:45<00:21, 42it/s]\n",
      "89.7%┣████████████████████████████████████▊    ┫ 7.0k/7.8k [02:47<00:19, 42it/s]\n",
      "90.7%┣█████████████████████████████████████▏   ┫ 7.1k/7.8k [02:49<00:17, 42it/s]\n",
      "91.8%┣█████████████████████████████████████▋   ┫ 7.1k/7.8k [02:51<00:15, 42it/s]\n",
      "92.9%┣██████████████████████████████████████   ┫ 7.2k/7.8k [02:53<00:13, 42it/s]\n",
      "93.9%┣██████████████████████████████████████▌  ┫ 7.3k/7.8k [02:55<00:11, 42it/s]\n",
      "95.0%┣███████████████████████████████████████  ┫ 7.4k/7.8k [02:57<00:09, 42it/s]\n",
      "96.0%┣███████████████████████████████████████▍ ┫ 7.5k/7.8k [02:59<00:07, 42it/s]\n",
      "97.1%┣███████████████████████████████████████▉ ┫ 7.6k/7.8k [03:01<00:05, 42it/s]\n",
      "98.2%┣████████████████████████████████████████▎┫ 7.6k/7.8k [03:03<00:03, 42it/s]\n",
      "99.2%┣████████████████████████████████████████▊┫ 7.7k/7.8k [03:05<00:01, 42it/s]\n",
      "100.0%┣████████████████████████████████████████┫ 7.8k/7.8k [03:07<00:00, 42it/s]\n"
     ]
    },
    {
     "data": {
      "text/plain": [
       "Dict{Any, Any} with 7782 entries:\n",
       "  \"0x50892e106095f415b4b12… => Dict{Any, Any}(\"1 ETH\"=>NamedTuple{(:hash, :time…\n",
       "  \"0x04d473d70c0de9174d001… => Dict{Any, Any}(\"10 ETH\"=>NamedTuple{(:hash, :tim…\n",
       "  \"0x96de6ffa0894aad16cc4b… => Dict{Any, Any}(\"0.1 ETH\"=>NamedTuple{(:hash, :ti…\n",
       "  \"0xa07f530663171df7a1d63… => Dict{Any, Any}(\"1 ETH\"=>NamedTuple{(:hash, :time…\n",
       "  \"0xea5821a1e8fb2810dac7a… => Dict{Any, Any}(\"1 ETH\"=>NamedTuple{(:hash, :time…\n",
       "  \"0xa3a0a77d44ab389b1bbfd… => Dict{Any, Any}(\"10 ETH\"=>NamedTuple{(:hash, :tim…\n",
       "  \"0xa5616c07451d384030f2b… => Dict{Any, Any}(\"10 ETH\"=>NamedTuple{(:hash, :tim…\n",
       "  \"0xd92029bc5c900d3cfc7e0… => Dict{Any, Any}(\"1 ETH\"=>NamedTuple{(:hash, :time…\n",
       "  \"0x580ad8ff46a96e2657f4b… => Dict{Any, Any}(\"1 ETH\"=>NamedTuple{(:hash, :time…\n",
       "  \"0x476b3bee1dd67939d0f47… => Dict{Any, Any}(\"0.1 ETH\"=>NamedTuple{(:hash, :ti…\n",
       "  \"0xd58d95455ba331a1f43b1… => Dict{Any, Any}(\"10 ETH\"=>NamedTuple{(:hash, :tim…\n",
       "  \"0x0c583364c44bc2f0413e7… => Dict{Any, Any}(\"1 ETH\"=>NamedTuple{(:hash, :time…\n",
       "  \"0x118325c2b02b5a8cf9f45… => Dict{Any, Any}(\"0.1 ETH\"=>NamedTuple{(:hash, :ti…\n",
       "  \"0x447791d58f691687f8808… => Dict{Any, Any}(\"100 ETH\"=>NamedTuple{(:hash, :ti…\n",
       "  \"0xb24c964dac8f37f377c31… => Dict{Any, Any}(\"0.1 ETH\"=>NamedTuple{(:hash, :ti…\n",
       "  \"0x69479d817ddfb81423208… => Dict{Any, Any}(\"10 ETH\"=>NamedTuple{(:hash, :tim…\n",
       "  \"0xbb6d775ea3014cea53483… => Dict{Any, Any}(\"0.1 ETH\"=>NamedTuple{(:hash, :ti…\n",
       "  \"0xc7cd83707d51a8e6dcacd… => Dict{Any, Any}(\"1 ETH\"=>NamedTuple{(:hash, :time…\n",
       "  \"0x240d3c35f171b82c57d29… => Dict{Any, Any}(\"0.1 ETH\"=>NamedTuple{(:hash, :ti…\n",
       "  \"0x983ccf4dac78e5978333f… => Dict{Any, Any}(\"1 ETH\"=>NamedTuple{(:hash, :time…\n",
       "  \"0xbcec1f04be92a0be01ee6… => Dict{Any, Any}(\"100 ETH\"=>NamedTuple{(:hash, :ti…\n",
       "  \"0xe50f29349720e0b4afc01… => Dict{Any, Any}(\"0.1 ETH\"=>NamedTuple{(:hash, :ti…\n",
       "  \"0xf95537b99d76eb4f500e5… => Dict{Any, Any}(\"1 ETH\"=>NamedTuple{(:hash, :time…\n",
       "  \"0x22e21e7d15eefc2035e7c… => Dict{Any, Any}(\"0.1 ETH\"=>NamedTuple{(:hash, :ti…\n",
       "  \"0x1bf366828f388dc504a11… => Dict{Any, Any}(\"100 ETH\"=>NamedTuple{(:hash, :ti…\n",
       "  ⋮                         => ⋮"
      ]
     },
     "execution_count": 17,
     "metadata": {},
     "output_type": "execute_result"
    }
   ],
   "source": [
    "const deposit_addresses_tcash_transactions = get_addresses_transactions(unique_deposit_addresses, deposit_txs, tornado_addresses; transaction_type=:deposit)"
   ]
  },
  {
   "cell_type": "code",
   "execution_count": 18,
   "id": "1cd0ff3c",
   "metadata": {},
   "outputs": [
    {
     "name": "stderr",
     "output_type": "stream",
     "text": [
      "0.0%┣                                        ┫ 0/8.1k [00:02<-4:-28:-30, -2s/it]\n",
      "0.0%┣                                         ┫ 1/8.1k [00:02<Inf:Inf, InfGs/it]\n",
      "1.4%┣▋                                          ┫ 111/8.1k [00:04<04:51, 27it/s]\n",
      "2.7%┣█▏                                         ┫ 217/8.1k [00:06<03:39, 36it/s]\n",
      "4.1%┣█▊                                         ┫ 332/8.1k [00:08<03:08, 41it/s]\n",
      "5.5%┣██▍                                        ┫ 445/8.1k [00:10<02:52, 44it/s]\n",
      "6.9%┣███                                        ┫ 553/8.1k [00:12<02:44, 46it/s]\n",
      "8.3%┣███▌                                       ┫ 666/8.1k [00:14<02:36, 47it/s]\n",
      "9.7%┣████▏                                      ┫ 778/8.1k [00:16<02:30, 48it/s]\n",
      "11.1%┣████▋                                     ┫ 894/8.1k [00:18<02:25, 49it/s]\n",
      "12.5%┣█████▏                                   ┫ 1.0k/8.1k [00:20<02:20, 50it/s]\n",
      "13.9%┣█████▊                                   ┫ 1.1k/8.1k [00:22<02:17, 51it/s]\n",
      "15.4%┣██████▎                                  ┫ 1.2k/8.1k [00:24<02:13, 51it/s]\n",
      "16.7%┣██████▉                                  ┫ 1.3k/8.1k [00:26<02:10, 52it/s]\n",
      "18.2%┣███████▍                                 ┫ 1.5k/8.1k [00:28<02:07, 52it/s]\n",
      "19.6%┣████████                                 ┫ 1.6k/8.1k [00:30<02:04, 52it/s]\n",
      "21.0%┣████████▋                                ┫ 1.7k/8.1k [00:32<02:01, 53it/s]\n",
      "22.4%┣█████████▏                               ┫ 1.8k/8.1k [00:34<01:58, 53it/s]\n",
      "23.8%┣█████████▊                               ┫ 1.9k/8.1k [00:36<01:56, 53it/s]\n",
      "25.2%┣██████████▍                              ┫ 2.0k/8.1k [00:38<01:53, 53it/s]\n",
      "26.6%┣███████████                              ┫ 2.1k/8.1k [00:40<01:51, 53it/s]\n",
      "28.0%┣███████████▌                             ┫ 2.3k/8.1k [00:42<01:48, 54it/s]\n",
      "29.5%┣████████████                             ┫ 2.4k/8.1k [00:44<01:46, 54it/s]\n",
      "30.9%┣████████████▊                            ┫ 2.5k/8.1k [00:46<01:43, 54it/s]\n",
      "32.3%┣█████████████▎                           ┫ 2.6k/8.1k [00:48<01:41, 54it/s]\n",
      "33.7%┣█████████████▉                           ┫ 2.7k/8.1k [00:50<01:39, 54it/s]\n",
      "35.1%┣██████████████▍                          ┫ 2.8k/8.1k [00:52<01:37, 54it/s]\n",
      "36.5%┣███████████████                          ┫ 2.9k/8.1k [00:54<01:34, 54it/s]\n",
      "38.0%┣███████████████▋                         ┫ 3.1k/8.1k [00:56<01:32, 54it/s]\n",
      "39.4%┣████████████████▏                        ┫ 3.2k/8.1k [00:58<01:30, 54it/s]\n",
      "40.8%┣████████████████▊                        ┫ 3.3k/8.1k [01:00<01:27, 55it/s]\n",
      "42.2%┣█████████████████▎                       ┫ 3.4k/8.1k [01:02<01:25, 55it/s]\n",
      "43.7%┣██████████████████                       ┫ 3.5k/8.1k [01:04<01:23, 55it/s]\n",
      "45.1%┣██████████████████▌                      ┫ 3.6k/8.1k [01:06<01:21, 55it/s]\n",
      "46.5%┣███████████████████                      ┫ 3.7k/8.1k [01:08<01:19, 55it/s]\n",
      "47.9%┣███████████████████▋                     ┫ 3.9k/8.1k [01:10<01:16, 55it/s]\n",
      "49.3%┣████████████████████▏                    ┫ 4.0k/8.1k [01:12<01:14, 55it/s]\n",
      "50.7%┣████████████████████▉                    ┫ 4.1k/8.1k [01:14<01:12, 55it/s]\n",
      "52.2%┣█████████████████████▍                   ┫ 4.2k/8.1k [01:16<01:10, 55it/s]\n",
      "53.6%┣██████████████████████                   ┫ 4.3k/8.1k [01:18<01:08, 55it/s]\n",
      "55.0%┣██████████████████████▌                  ┫ 4.4k/8.1k [01:20<01:06, 55it/s]\n",
      "56.4%┣███████████████████████▏                 ┫ 4.5k/8.1k [01:22<01:04, 55it/s]\n",
      "57.8%┣███████████████████████▊                 ┫ 4.7k/8.1k [01:24<01:02, 55it/s]\n",
      "59.3%┣████████████████████████▎                ┫ 4.8k/8.1k [01:26<00:59, 55it/s]\n",
      "60.6%┣████████████████████████▉                ┫ 4.9k/8.1k [01:28<00:58, 55it/s]\n",
      "62.0%┣█████████████████████████▍               ┫ 5.0k/8.1k [01:30<00:55, 55it/s]\n",
      "63.5%┣██████████████████████████               ┫ 5.1k/8.1k [01:32<00:53, 55it/s]\n",
      "64.9%┣██████████████████████████▋              ┫ 5.2k/8.1k [01:34<00:51, 55it/s]\n",
      "66.3%┣███████████████████████████▏             ┫ 5.3k/8.1k [01:36<00:49, 55it/s]\n",
      "67.7%┣███████████████████████████▊             ┫ 5.5k/8.1k [01:38<00:47, 55it/s]\n",
      "69.1%┣████████████████████████████▍            ┫ 5.6k/8.1k [01:40<00:45, 55it/s]\n",
      "70.6%┣█████████████████████████████            ┫ 5.7k/8.1k [01:43<00:43, 55it/s]\n",
      "72.0%┣█████████████████████████████▌           ┫ 5.8k/8.1k [01:45<00:41, 55it/s]\n",
      "73.4%┣██████████████████████████████           ┫ 5.9k/8.1k [01:47<00:39, 55it/s]\n",
      "74.8%┣██████████████████████████████▊          ┫ 6.0k/8.1k [01:49<00:37, 56it/s]\n",
      "76.2%┣███████████████████████████████▎         ┫ 6.1k/8.1k [01:51<00:34, 56it/s]\n",
      "77.7%┣███████████████████████████████▉         ┫ 6.3k/8.1k [01:53<00:32, 56it/s]\n",
      "79.0%┣████████████████████████████████▍        ┫ 6.4k/8.1k [01:55<00:30, 56it/s]\n",
      "80.5%┣█████████████████████████████████        ┫ 6.5k/8.1k [01:57<00:28, 56it/s]\n",
      "81.9%┣█████████████████████████████████▋       ┫ 6.6k/8.1k [01:59<00:26, 56it/s]\n",
      "83.3%┣██████████████████████████████████▏      ┫ 6.7k/8.1k [02:01<00:24, 56it/s]\n",
      "84.7%┣██████████████████████████████████▊      ┫ 6.8k/8.1k [02:03<00:22, 56it/s]\n",
      "86.1%┣███████████████████████████████████▎     ┫ 6.9k/8.1k [02:05<00:20, 56it/s]\n",
      "87.5%┣███████████████████████████████████▉     ┫ 7.0k/8.1k [02:07<00:18, 56it/s]\n",
      "89.0%┣████████████████████████████████████▌    ┫ 7.2k/8.1k [02:09<00:16, 56it/s]\n",
      "90.3%┣█████████████████████████████████████    ┫ 7.3k/8.1k [02:11<00:14, 56it/s]\n",
      "91.8%┣█████████████████████████████████████▋   ┫ 7.4k/8.1k [02:13<00:12, 56it/s]\n",
      "93.2%┣██████████████████████████████████████▏  ┫ 7.5k/8.1k [02:15<00:10, 56it/s]\n",
      "94.6%┣██████████████████████████████████████▉  ┫ 7.6k/8.1k [02:17<00:08, 56it/s]\n",
      "96.1%┣███████████████████████████████████████▍ ┫ 7.7k/8.1k [02:19<00:06, 56it/s]\n",
      "97.4%┣████████████████████████████████████████ ┫ 7.8k/8.1k [02:21<00:04, 56it/s]\n",
      "98.9%┣████████████████████████████████████████▌┫ 8.0k/8.1k [02:23<00:02, 56it/s]\n",
      "100.0%┣████████████████████████████████████████┫ 8.1k/8.1k [02:24<00:00, 56it/s]\n"
     ]
    },
    {
     "data": {
      "text/plain": [
       "Dict{Any, Any} with 8055 entries:\n",
       "  \"0x50892e106095f415b4b12… => Dict{Any, Any}(\"10 ETH\"=>NamedTuple{(:hash, :tim…\n",
       "  \"0xdf93a32c083207cd1ea00… => Dict{Any, Any}(\"1 ETH\"=>NamedTuple{(:hash, :time…\n",
       "  \"0xd1ccc07177c0c27ab78cf… => Dict{Any, Any}(\"10 ETH\"=>NamedTuple{(:hash, :tim…\n",
       "  \"0x6996c90cedd6b7ef51971… => Dict{Any, Any}(\"10 ETH\"=>NamedTuple{(:hash, :tim…\n",
       "  \"0x1d62ca769fcf94d24484b… => Dict{Any, Any}(\"0.1 ETH\"=>NamedTuple{(:hash, :ti…\n",
       "  \"0xab17da946b4ee971e6cd9… => Dict{Any, Any}(\"0.1 ETH\"=>NamedTuple{(:hash, :ti…\n",
       "  \"0x5d57f2e5f61b484eadc14… => Dict{Any, Any}(\"1 ETH\"=>NamedTuple{(:hash, :time…\n",
       "  \"0xb232e7c376462dcc96004… => Dict{Any, Any}(\"100 ETH\"=>NamedTuple{(:hash, :ti…\n",
       "  \"0x1cbfd11c477bb948742ef… => Dict{Any, Any}(\"1 ETH\"=>NamedTuple{(:hash, :time…\n",
       "  \"0xfed2cb2342f345bab5e55… => Dict{Any, Any}(\"1 ETH\"=>NamedTuple{(:hash, :time…\n",
       "  \"0xd099ff6d9f00ce2d35bd6… => Dict{Any, Any}(\"10 ETH\"=>NamedTuple{(:hash, :tim…\n",
       "  \"0x06b3a0712f26c7e72dc37… => Dict{Any, Any}(\"0.1 ETH\"=>NamedTuple{(:hash, :ti…\n",
       "  \"0x447791d58f691687f8808… => Dict{Any, Any}(\"1 ETH\"=>NamedTuple{(:hash, :time…\n",
       "  \"0xe4b27f06f57271bcf1272… => Dict{Any, Any}(\"1 ETH\"=>NamedTuple{(:hash, :time…\n",
       "  \"0xa6a53fd640e7da6ad3bbe… => Dict{Any, Any}(\"0.1 ETH\"=>NamedTuple{(:hash, :ti…\n",
       "  \"0x6bf97f2534be2242ddb3a… => Dict{Any, Any}(\"10 ETH\"=>NamedTuple{(:hash, :tim…\n",
       "  \"0xccb8d83684eebf863d4b0… => Dict{Any, Any}(\"10 ETH\"=>NamedTuple{(:hash, :tim…\n",
       "  \"0x983ccf4dac78e5978333f… => Dict{Any, Any}(\"10 ETH\"=>NamedTuple{(:hash, :tim…\n",
       "  \"0x118de74508dfa58d6c9f4… => Dict{Any, Any}(\"1 ETH\"=>NamedTuple{(:hash, :time…\n",
       "  \"0xc13c37c6a3b077ef147c7… => Dict{Any, Any}(\"10 ETH\"=>NamedTuple{(:hash, :tim…\n",
       "  \"0x6a4df151c3f4a13c5827a… => Dict{Any, Any}(\"10 ETH\"=>NamedTuple{(:hash, :tim…\n",
       "  \"0xc5771b76e8753679d719d… => Dict{Any, Any}(\"10 ETH\"=>NamedTuple{(:hash, :tim…\n",
       "  \"0xedbd7de66f4194e185cb3… => Dict{Any, Any}(\"10 ETH\"=>NamedTuple{(:hash, :tim…\n",
       "  \"0xcd42272b1ab42cbae1a63… => Dict{Any, Any}(\"0.1 ETH\"=>NamedTuple{(:hash, :ti…\n",
       "  \"0xf7291f66ad15f3cddf7c5… => Dict{Any, Any}(\"0.1 ETH\"=>NamedTuple{(:hash, :ti…\n",
       "  ⋮                         => ⋮"
      ]
     },
     "execution_count": 18,
     "metadata": {},
     "output_type": "execute_result"
    }
   ],
   "source": [
    "const withdraw_addresses_tcash_transactions = get_addresses_transactions(unique_withdraw_addresses, withdraw_txs, tornado_addresses; transaction_type=:withdraw)"
   ]
  },
  {
   "cell_type": "code",
   "execution_count": 39,
   "id": "c5bdf55b",
   "metadata": {},
   "outputs": [
    {
     "data": {
      "text/plain": [
       "filter_deposits (generic function with 1 method)"
      ]
     },
     "execution_count": 39,
     "metadata": {},
     "output_type": "execute_result"
    }
   ],
   "source": [
    "function filter_deposits(address1, address2)\n",
    "    \n",
    "    deposit_transactions = deposit_addresses_tcash_transactions[address1]\n",
    "    withdraw_transactions = withdraw_addresses_tcash_transactions[address2]\n",
    "    \n",
    "    pools = filter(pool -> pool ∈ keys(withdraw_transactions), keys(deposit_transactions))\n",
    "    \n",
    "    linked_transactions_dict = Dict()\n",
    "    \n",
    "    for pool in pools\n",
    "        latest_withdraw = maximum(map(w_t -> w_t.timestamp, withdraw_transactions[pool]))\n",
    "        \n",
    "        filtered_deposits = filter(d_t -> d_t.timestamp < latest_withdraw, deposit_transactions[pool])\n",
    "        \n",
    "        if !isempty(filtered_deposits)\n",
    "            linked_transactions_dict[pool] = (deposit_hashes = map(d_t -> d_t.hash, filtered_deposits),\n",
    "                    withdraw_hashes = map(w_t -> w_t.hash, withdraw_transactions[pool]))\n",
    "        end\n",
    "    end\n",
    "    \n",
    "    Dict((deposit_address=address1, withdraw_address=address2) => linked_transactions_dict)\n",
    "end"
   ]
  },
  {
   "cell_type": "code",
   "execution_count": 34,
   "id": "4781dbc1",
   "metadata": {},
   "outputs": [
    {
     "data": {
      "text/plain": [
       "2-element Vector{String31}:\n",
       " \"2021-10-22 22:21:14 UTC\"\n",
       " \"2021-10-22 22:56:07 UTC\""
      ]
     },
     "execution_count": 34,
     "metadata": {},
     "output_type": "execute_result"
    }
   ],
   "source": [
    "d = deposit_addresses_tcash_transactions[\"0x000000001d94b2612380854e74c32548d3ce4720\"]\n",
    "[t.timestamp for t in d[\"1 ETH\"]]"
   ]
  },
  {
   "cell_type": "code",
   "execution_count": 35,
   "id": "5741805d",
   "metadata": {},
   "outputs": [
    {
     "data": {
      "text/plain": [
       "1-element Vector{String31}:\n",
       " \"2020-12-26 10:47:20 UTC\""
      ]
     },
     "execution_count": 35,
     "metadata": {},
     "output_type": "execute_result"
    }
   ],
   "source": [
    "w = withdraw_addresses_tcash_transactions[\"0x000000007cbf74626927365e961cc697ef8fed32\"]\n",
    "[t.timestamp for t in w[\"1 ETH\"]]"
   ]
  },
  {
   "cell_type": "code",
   "execution_count": 40,
   "id": "12a946a4",
   "metadata": {},
   "outputs": [
    {
     "data": {
      "text/plain": [
       "Dict{NamedTuple{(:deposit_address, :withdraw_address), Tuple{String, String}}, Dict{Any, Any}} with 1 entry:\n",
       "  (deposit_address = \"0x000000001d94b2612380854e74c32548d3ce4720\", wi… => Dict()"
      ]
     },
     "execution_count": 40,
     "metadata": {},
     "output_type": "execute_result"
    }
   ],
   "source": [
    "filter_deposits(\"0x000000001d94b2612380854e74c32548d3ce4720\", \"0x000000007cbf74626927365e961cc697ef8fed32\")"
   ]
  },
  {
   "cell_type": "code",
   "execution_count": 48,
   "id": "8591076f",
   "metadata": {},
   "outputs": [
    {
     "data": {
      "text/plain": [
       "first_neightbors_heuristic (generic function with 1 method)"
      ]
     },
     "execution_count": 48,
     "metadata": {},
     "output_type": "execute_result"
    }
   ],
   "source": [
    "function first_neightbors_heuristic(deposit_and_withdraw_linked_addresses)\n",
    "    \n",
    "    addresses_linked_transactions = Dict()\n",
    "    \n",
    "    for row in ProgressBar(eachrow(deposit_and_withdraw_linked_addresses), printing_delay=2)\n",
    "        merge!(addresses_linked_transactions, filter_deposits(row.deposit_address, row.withdraw_address))\n",
    "    end\n",
    "    \n",
    "    filter(element -> !isempty(last(element)), addresses_linked_transactions)\n",
    "end     "
   ]
  },
  {
   "cell_type": "code",
   "execution_count": 51,
   "id": "8fbafa15",
   "metadata": {},
   "outputs": [
    {
     "name": "stderr",
     "output_type": "stream",
     "text": [
      "0.0%┣                                       ┫ 0/12.4k [00:02<-6:-52:-50, -2s/it]\n",
      "0.0%┣                                        ┫ 1/12.4k [00:02<Inf:Inf, InfGs/it]\n",
      "100.0%┣████████████████████████████████████┫ 12.4k/12.4k [00:02<00:00, 5.9kit/s]\n"
     ]
    },
    {
     "data": {
      "text/plain": [
       "Dict{Any, Any} with 5861 entries:\n",
       "  (deposit_address = \"0x32… => Dict{Any, Any}(\"10 ETH\"=>(deposit_hashes = [\"0x7…\n",
       "  (deposit_address = \"0xeb… => Dict{Any, Any}(\"10 ETH\"=>(deposit_hashes = [\"0xe…\n",
       "  (deposit_address = \"0x9c… => Dict{Any, Any}(\"10 ETH\"=>(deposit_hashes = [\"0xe…\n",
       "  (deposit_address = \"0xe2… => Dict{Any, Any}(\"100 ETH\"=>(deposit_hashes = [\"0x…\n",
       "  (deposit_address = \"0x92… => Dict{Any, Any}(\"1 ETH\"=>(deposit_hashes = [\"0xa6…\n",
       "  (deposit_address = \"0xf3… => Dict{Any, Any}(\"100 DAI\"=>(deposit_hashes = [\"0x…\n",
       "  (deposit_address = \"0x06… => Dict{Any, Any}(\"1 ETH\"=>(deposit_hashes = [\"0x9b…\n",
       "  (deposit_address = \"0xc4… => Dict{Any, Any}(\"10 ETH\"=>(deposit_hashes = [\"0x8…\n",
       "  (deposit_address = \"0x3a… => Dict{Any, Any}(\"10 ETH\"=>(deposit_hashes = [\"0x4…\n",
       "  (deposit_address = \"0xb9… => Dict{Any, Any}(\"1 ETH\"=>(deposit_hashes = [\"0xb5…\n",
       "  (deposit_address = \"0x22… => Dict{Any, Any}(\"10 ETH\"=>(deposit_hashes = [\"0x8…\n",
       "  (deposit_address = \"0x50… => Dict{Any, Any}(\"0.1 ETH\"=>(deposit_hashes = [\"0x…\n",
       "  (deposit_address = \"0xee… => Dict{Any, Any}(\"1 ETH\"=>(deposit_hashes = [\"0x49…\n",
       "  (deposit_address = \"0x8b… => Dict{Any, Any}(\"10 ETH\"=>(deposit_hashes = [\"0xd…\n",
       "  (deposit_address = \"0xc2… => Dict{Any, Any}(\"1 ETH\"=>(deposit_hashes = [\"0x6e…\n",
       "  (deposit_address = \"0xfd… => Dict{Any, Any}(\"100 ETH\"=>(deposit_hashes = [\"0x…\n",
       "  (deposit_address = \"0x9a… => Dict{Any, Any}(\"1 ETH\"=>(deposit_hashes = [\"0xcb…\n",
       "  (deposit_address = \"0x46… => Dict{Any, Any}(\"100 ETH\"=>(deposit_hashes = [\"0x…\n",
       "  (deposit_address = \"0x9a… => Dict{Any, Any}(\"10 ETH\"=>(deposit_hashes = [\"0x2…\n",
       "  (deposit_address = \"0xea… => Dict{Any, Any}(\"1 ETH\"=>(deposit_hashes = [\"0xdd…\n",
       "  (deposit_address = \"0xbc… => Dict{Any, Any}(\"1 ETH\"=>(deposit_hashes = [\"0x6c…\n",
       "  (deposit_address = \"0x14… => Dict{Any, Any}(\"1 ETH\"=>(deposit_hashes = [\"0x5e…\n",
       "  (deposit_address = \"0x5f… => Dict{Any, Any}(\"1 ETH\"=>(deposit_hashes = [\"0x66…\n",
       "  (deposit_address = \"0x32… => Dict{Any, Any}(\"0.1 ETH\"=>(deposit_hashes = [\"0x…\n",
       "  (deposit_address = \"0x40… => Dict{Any, Any}(\"0.1 ETH\"=>(deposit_hashes = [\"0x…\n",
       "  ⋮                         => ⋮"
      ]
     },
     "execution_count": 51,
     "metadata": {},
     "output_type": "execute_result"
    }
   ],
   "source": [
    "d = first_neightbors_heuristic(D_W_df)"
   ]
  },
  {
   "cell_type": "code",
   "execution_count": 58,
   "id": "2e7b1517",
   "metadata": {},
   "outputs": [
    {
     "data": {
      "text/plain": [
       "(deposit_address = \"0x32192ec423152d5f2428adcecb1525e4eb366e90\", withdraw_address = \"0xce7cf36d9b8bcacd4c80024a10aadd8f7d1173a2\")"
      ]
     },
     "execution_count": 58,
     "metadata": {},
     "output_type": "execute_result"
    }
   ],
   "source": [
    "t = (deposit_address = \"0x32192ec423152d5f2428adcecb1525e4eb366e90\", withdraw_address = \"0xce7cf36d9b8bcacd4c80024a10aadd8f7d1173a2\")"
   ]
  },
  {
   "cell_type": "code",
   "execution_count": 61,
   "id": "3ae2c2fd",
   "metadata": {},
   "outputs": [
    {
     "data": {
      "text/plain": [
       "(deposit_hashes = [\"0x79524bf15538e277ffe74de2cc7980eb247a65747ef5cc3f0053281d550f6716\"], withdraw_hashes = [\"0xb528dbdf806625de1819dcbd954d01e844b6de0e989c0ebfa1069289364cc6c2\"])"
      ]
     },
     "execution_count": 61,
     "metadata": {},
     "output_type": "execute_result"
    }
   ],
   "source": [
    "d[t][\"10 ETH\"]"
   ]
  },
  {
   "cell_type": "code",
   "execution_count": 62,
   "id": "3d976968",
   "metadata": {},
   "outputs": [
    {
     "data": {
      "text/plain": [
       "5861-element Vector{Any}:\n",
       " (deposit_address = \"0x32192ec423152d5f2428adcecb1525e4eb366e90\", withdraw_address = \"0xce7cf36d9b8bcacd4c80024a10aadd8f7d1173a2\")\n",
       " (deposit_address = \"0xebfcef1eda60358d7e0e81db5bef89dfaaa5f3f5\", withdraw_address = \"0xf19958f76f0f40f0a14006b7e22be03ad5eae104\")\n",
       " (deposit_address = \"0x9c1c21ec0e88b8334ebc5d388a310f59eca0e381\", withdraw_address = \"0x25f2af3b84d6a36d38dda369c8f7e7a7b0258941\")\n",
       " (deposit_address = \"0xe2ca7390e76c5a992749bb622087310d2e63ca29\", withdraw_address = \"0x000000000cc7e508b4b115e64d71ef374cfb7703\")\n",
       " (deposit_address = \"0x92f29100cc4dca707359d8eb78402eb3acfd87d3\", withdraw_address = \"0x6cad680b13397a0f1719af6e209d5dd2d228fa4f\")\n",
       " (deposit_address = \"0xf3a6e54248f51fdf85008e02f3ada2dfc66c6c24\", withdraw_address = \"0x6fa0f8cc1501756bc40c06b841fc908045a1bd7f\")\n",
       " (deposit_address = \"0x06b1bf28c962363f212878bdf87417ebd0316220\", withdraw_address = \"0xc82547fc22a11b52d2507e28ace078a187194956\")\n",
       " (deposit_address = \"0xc47e04fa576be089a742aa38a2f1215b01f983d2\", withdraw_address = \"0xa8c86bb1c9ffae2534ed3edb1bf05e15eaedea48\")\n",
       " (deposit_address = \"0x3af9f7968366a075cf5987cd40077eda4b44feb8\", withdraw_address = \"0xdde3e2024e270d6022d1bb4e8745e9dc6d82e0bc\")\n",
       " (deposit_address = \"0xb9889ffcf18dbac713dfccb4ddb062c36398014d\", withdraw_address = \"0xa82c569d0847624d7b80aa11113684031bb6ce8e\")\n",
       " (deposit_address = \"0x228f5e15ea38866325bafcd308a513002b70d1a4\", withdraw_address = \"0x983674d8f9498594bb6dd8749327fe43014599e3\")\n",
       " (deposit_address = \"0x501ac99935d0473d96695bda13a590391b4af413\", withdraw_address = \"0xbc9294648841bb94322342846432ed443d150a8f\")\n",
       " (deposit_address = \"0xeef87830ca6b65f477ea160be186494e72b0ec32\", withdraw_address = \"0x2ab0ee5d373763cec3379c14c25dfe47d443e7a4\")\n",
       " ⋮\n",
       " (deposit_address = \"0xc802d4964e0886020791f54fbaa5c92dd5699c8c\", withdraw_address = \"0xd29a5c212723b0a51ded27623f48ce56ca2770f5\")\n",
       " (deposit_address = \"0x2f55e3827dd844c1e8c7b23ecee854a34433a9fe\", withdraw_address = \"0x7dd92eef7fac9546b0875f55eca76ce277f14a63\")\n",
       " (deposit_address = \"0xdaa743d983becf832b8f9842dcebb7fbbac8dab7\", withdraw_address = \"0x1350804da29d56eb3ec41189d8a7168fc017401a\")\n",
       " (deposit_address = \"0x1c6558bb4f4dda8fad8c42cc5b0fb69f1c9115a1\", withdraw_address = \"0x4cb7e575aa19dfc998120a9b056b3b13ca7b0e1c\")\n",
       " (deposit_address = \"0xf44c4ed93f52a61d4c8e441c5b6c579d58d00a02\", withdraw_address = \"0x1bef2b5d795e1d95ad324c6ff12053ac693097d2\")\n",
       " (deposit_address = \"0xd5400334bd9c1879ac436858c3786a1c7aeeb919\", withdraw_address = \"0xa465f2514d12e0ef28e90ee0a9f2e503b73fb9c4\")\n",
       " (deposit_address = \"0xd9fcffd01b0626992a637915e4954150c7afe2fa\", withdraw_address = \"0x73011f861038c4442cb8bd0da6355d3944133464\")\n",
       " (deposit_address = \"0xe6629cc8ced87063151c37f25d6ca4a74675a520\", withdraw_address = \"0x6c4b5e3e2677836e3f699436b7567f86714eb84d\")\n",
       " (deposit_address = \"0x10e7644e76dad3684c65946afa762f1d2ff098cd\", withdraw_address = \"0xd5f4d06e56cffe8d4b8423dff13e377e3328d0e8\")\n",
       " (deposit_address = \"0xbd06b8b58ad66b9597afd5ef1edad5d7aafa9e83\", withdraw_address = \"0xc3a69cbd4ca6a971ba7f02d3b464d40cb73dfd5c\")\n",
       " (deposit_address = \"0x9dfa1e690d79bab2ace5135e59caac6ac8d5572a\", withdraw_address = \"0x0aed70eac10b32af9328ece5fd554a155dadb254\")\n",
       " (deposit_address = \"0x02013cd3b96c0ff6f9028a113a7856ffa8e3e42c\", withdraw_address = \"0x50260fcf08808216daa93402f0704eced91ea7f7\")"
      ]
     },
     "execution_count": 62,
     "metadata": {},
     "output_type": "execute_result"
    }
   ],
   "source": [
    "keys(d) |> collect"
   ]
  },
  {
   "cell_type": "code",
   "execution_count": 74,
   "id": "b7e27011",
   "metadata": {},
   "outputs": [
    {
     "data": {
      "text/plain": [
       "Dict{Any, Any} with 2 entries:\n",
       "  \"1 ETH\"   => (deposit_hashes = [\"0xd1f0e2026d268c855c522332f7777228206f27ae7c…\n",
       "  \"0.1 ETH\" => (deposit_hashes = [\"0xc103932505443a4efefb4c0500af92b6b4187a7a7f…"
      ]
     },
     "execution_count": 74,
     "metadata": {},
     "output_type": "execute_result"
    }
   ],
   "source": [
    "t2 = (deposit_address = \"0x1c6558bb4f4dda8fad8c42cc5b0fb69f1c9115a1\", withdraw_address = \"0x4cb7e575aa19dfc998120a9b056b3b13ca7b0e1c\")\n",
    "d[t2]"
   ]
  },
  {
   "cell_type": "code",
   "execution_count": 76,
   "id": "b220354a",
   "metadata": {},
   "outputs": [
    {
     "data": {
      "text/plain": [
       "(deposit_hashes = [\"0xc103932505443a4efefb4c0500af92b6b4187a7a7fa7b8aa794a9a5239b47396\", \"0x4b446f425a21af3d0c5aaad088392e59024e45ce7535728f48f6b902826e0515\"], withdraw_hashes = [\"0xcee0c1d85ad881ec7c33e2f5117bca93d58c91c026a84593f8bf6f63ef5a1687\"])"
      ]
     },
     "execution_count": 76,
     "metadata": {},
     "output_type": "execute_result"
    }
   ],
   "source": [
    "d[t2][\"0.1 ETH\"]"
   ]
  },
  {
   "cell_type": "code",
   "execution_count": null,
   "id": "d864281c",
   "metadata": {},
   "outputs": [],
   "source": []
  }
 ],
 "metadata": {
  "kernelspec": {
   "display_name": "Julia 1.6.0",
   "language": "julia",
   "name": "julia-1.6"
  },
  "language_info": {
   "file_extension": ".jl",
   "mimetype": "application/julia",
   "name": "julia",
   "version": "1.6.0"
  }
 },
 "nbformat": 4,
 "nbformat_minor": 5
}
