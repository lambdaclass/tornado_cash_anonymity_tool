{
 "cells": [
  {
   "cell_type": "markdown",
   "id": "b68ef656",
   "metadata": {},
   "source": [
    "## Heuristic 4 - Preliminary implementation\n",
    "\n",
    "### Description\n",
    "If there are multiple (say 12) deposit transactions coming from a deposit address and later there are 12 withdraw transactions to the same withdraw address, then we can link all these deposit transactions to the withdraw transactions.\n",
    "\n",
    "In particular, given a withdrawal transaction, an anonimity score is assigned to it:\n",
    "\n",
    "1) The number of previous withdrawal transactions with the same address as the given withdrawal transaction is registered.\n",
    "\n",
    "2) The deposit transactions data are grouped by their address. Addresses that deposited the same number of times as the number of withdraws registered, are grouped in a set $C$.\n",
    "\n",
    "3) An anonimity score (of this heuristic) is assigned to the withdrawal transaction following the formula $P = 1 - 1/|C|$, where P is the anonimity score and $|C|$ is the cardinality of set $C$."
   ]
  },
  {
   "cell_type": "code",
   "execution_count": 1,
   "id": "376aa53a",
   "metadata": {},
   "outputs": [],
   "source": [
    "# Set environment variables to better visualize DataFrames.\n",
    "ENV[\"COLUMNS\"]=10000\n",
    "ENV[\"LINES\"]=10;"
   ]
  },
  {
   "cell_type": "code",
   "execution_count": 2,
   "id": "5b3afa9f",
   "metadata": {},
   "outputs": [],
   "source": [
    "# Import relevant packages.\n",
    "using DataFrames\n",
    "using CSV\n",
    "using StatsPlots\n",
    "using ProgressBars"
   ]
  },
  {
   "cell_type": "code",
   "execution_count": 3,
   "id": "df05459f",
   "metadata": {},
   "outputs": [],
   "source": [
    "# Load withdraw and deposit data.\n",
    "withdraw_transactions_df = CSV.read(\"../data/lighter_complete_withdraw_txs.csv\", DataFrame)\n",
    "deposit_transactions_df = CSV.read(\"../data/lighter_complete_deposit_txs.csv\", DataFrame);"
   ]
  },
  {
   "cell_type": "code",
   "execution_count": 4,
   "id": "57a34d84",
   "metadata": {},
   "outputs": [
    {
     "data": {
      "text/plain": [
       "Dict{String, String} with 19 entries:\n",
       "  \"0xd4b88df4d29f5cedd6857912842cff3b20c8cfa3\" => \"100 DAI\"\n",
       "  \"0x07687e702b410fa43f4cb4af7fa097918ffd2730\" => \"10000 DAI\"\n",
       "  \"0x22aaa7720ddd5388a3c0a3333430953c68f1849b\" => \"5000 cDAI\"\n",
       "  \"0xd96f2b1c14db8458374d9aca76e26c3d18364307\" => \"100 USDC\"\n",
       "  \"0xbb93e510bbcd0b7beb5a853875f9ec60275cf498\" => \"10 WBTC\"\n",
       "  ⋮                                            => ⋮"
      ]
     },
     "execution_count": 4,
     "metadata": {},
     "output_type": "execute_result"
    }
   ],
   "source": [
    "tornado_addresses = Dict(\n",
    "    \"0xd4b88df4d29f5cedd6857912842cff3b20c8cfa3\" => \"100 DAI\",\n",
    "    \"0xfd8610d20aa15b7b2e3be39b396a1bc3516c7144\" => \"1000 DAI\",\n",
    "    \"0x07687e702b410fa43f4cb4af7fa097918ffd2730\" => \"10000 DAI\",\n",
    "    \"0x23773e65ed146a459791799d01336db287f25334\" => \"100000 DAI\",\n",
    "    \"0x12d66f87a04a9e220743712ce6d9bb1b5616b8fc\" => \"0.1 ETH\",\n",
    "    \"0x47ce0c6ed5b0ce3d3a51fdb1c52dc66a7c3c2936\" => \"1 ETH\",\n",
    "    \"0x910cbd523d972eb0a6f4cae4618ad62622b39dbf\" => \"10 ETH\",\n",
    "    \"0xa160cdab225685da1d56aa342ad8841c3b53f291\" => \"100 ETH\",\n",
    "    \"0xd96f2b1c14db8458374d9aca76e26c3d18364307\" => \"100 USDC\",\n",
    "    \"0x4736dcf1b7a3d580672cce6e7c65cd5cc9cfba9d\" => \"1000 USDC\",\n",
    "    \"0x169ad27a470d064dede56a2d3ff727986b15d52b\" => \"100 USDT\",\n",
    "    \"0x0836222f2b2b24a3f36f98668ed8f0b38d1a872f\" => \"1000 USDT\",\n",
    "    \"0x178169b423a011fff22b9e3f3abea13414ddd0f1\" => \"0.1 WBTC\",\n",
    "    \"0x610b717796ad172b316836ac95a2ffad065ceab4\" => \"1 WBTC\",\n",
    "    \"0xbb93e510bbcd0b7beb5a853875f9ec60275cf498\" => \"10 WBTC\",\n",
    "    \"0x22aaa7720ddd5388a3c0a3333430953c68f1849b\" => \"5000 cDAI\",\n",
    "    \"0x03893a7c7463ae47d46bc7f091665f1893656003\" => \"50000 cDAI\",\n",
    "    \"0x2717c5e28cf931547b621a5dddb772ab6a35b701\" => \"500000 cDAI\",\n",
    "    \"0xd21be7248e0197ee08e0c20d4a96debdac3d20af\" => \"5000000 cDAI\"\n",
    "    )    "
   ]
  },
  {
   "cell_type": "code",
   "execution_count": 5,
   "id": "0da51df9",
   "metadata": {},
   "outputs": [
    {
     "data": {
      "text/plain": [
       "compare_transactions (generic function with 1 method)"
      ]
     },
     "execution_count": 5,
     "metadata": {},
     "output_type": "execute_result"
    }
   ],
   "source": [
    "function compare_transactions(withdraws_dict, deposits_dict)\n",
    "    for currency in keys(withdraws_dict)\n",
    "        if !(deposits_dict[currency] >= withdraws_dict[currency])\n",
    "            return false\n",
    "        end\n",
    "    end\n",
    "    return true\n",
    "end"
   ]
  },
  {
   "cell_type": "markdown",
   "id": "67d5cc00",
   "metadata": {},
   "source": [
    "### Function summary: get_number_of_withdraws\n",
    "Given a withdraw transaction and the total withdrawals data, the function get_number_of_withdraws returns the number of previous withdrawal transactions with the same address as the withdraw transaction."
   ]
  },
  {
   "cell_type": "code",
   "execution_count": 6,
   "id": "984e8072",
   "metadata": {},
   "outputs": [
    {
     "data": {
      "text/plain": [
       "get_number_of_withdraws (generic function with 1 method)"
      ]
     },
     "execution_count": 6,
     "metadata": {},
     "output_type": "execute_result"
    }
   ],
   "source": [
    "function get_number_of_withdraws(withdraw_transaction, withdraw_transactions_df, tornado_addresses)\n",
    "    \n",
    "    # The number of withdraws is initialized at 1 since the withdraw_transaction of the first argument is always present\n",
    "    # in the withdrawal data. Also, the count should be 1 if there is no other transaction with the same address.\n",
    "    \n",
    "    n_withdraws = Dict(tornado_addresses[withdraw_transaction.tornado_cash_address] => 1)\n",
    "    \n",
    "    # This for loop counts the number of transactions with the same address. At the end, the total number is returned.\n",
    "    # The count is done considering that the recipient_address of each of the transactions in the withdraw_transactions_df\n",
    "    # is the same as the recipient_address of the withdraw_transaction input, and that the timestamp of the rows is earlier\n",
    "    # than the withdraw_transaction input. \n",
    "    # The if clause also filters by the transaction hash, since we don't want to count the same transaction two times.\n",
    "    \n",
    "    for row ∈ eachrow(withdraw_transactions_df)\n",
    "        if (row.recipient_address == withdraw_transaction.recipient_address) && \n",
    "            (row.block_timestamp <= withdraw_transaction.block_timestamp) && \n",
    "            (row.hash != withdraw_transaction.hash)\n",
    "            \n",
    "            if haskey(n_withdraws, tornado_addresses[row.tornado_cash_address])\n",
    "                n_withdraws[tornado_addresses[row.tornado_cash_address]] += 1\n",
    "            else\n",
    "                n_withdraws[tornado_addresses[row.tornado_cash_address]] = 1\n",
    "            end\n",
    "        end\n",
    "    end\n",
    "    return n_withdraws\n",
    "end"
   ]
  },
  {
   "cell_type": "code",
   "execution_count": 7,
   "id": "0c7489c7",
   "metadata": {},
   "outputs": [
    {
     "data": {
      "text/plain": [
       "get_address_deposits (generic function with 1 method)"
      ]
     },
     "execution_count": 7,
     "metadata": {},
     "output_type": "execute_result"
    }
   ],
   "source": [
    "function get_address_deposits(deposit_transactions_df, tornado_addresses)\n",
    "    # unique_addresses = unique(deposit_transactions_df[!, \"from_address\"])\n",
    "    \n",
    "    addresses_and_deposits_counts = combine(groupby(deposit_transactions_df, [:from_address, :tornado_cash_address]), nrow => :count)\n",
    "    \n",
    "    addresses_and_deposit_dict = Dict()\n",
    "    for row in eachrow(addresses_and_deposits_counts)\n",
    "        if haskey(addresses_and_deposit_dict, row.from_address)\n",
    "             if haskey(addresses_and_deposit_dict[row.from_address], tornado_addresses[row.tornado_cash_address])\n",
    "                 addresses_and_deposit_dict[row.from_address][tornado_addresses[row.tornado_cash_address]] += row.count\n",
    "             else\n",
    "                addresses_and_deposit_dict[row.from_address][tornado_addresses[row.tornado_cash_address]] = row.count\n",
    "             end\n",
    "        else\n",
    "            addresses_and_deposit_dict[row.from_address] = Dict(tornado_addresses[row.tornado_cash_address] => row.count)\n",
    "        end\n",
    "    end\n",
    "    \n",
    "    return addresses_and_deposit_dict\n",
    "end"
   ]
  },
  {
   "cell_type": "code",
   "execution_count": 8,
   "id": "cc99b0d3",
   "metadata": {},
   "outputs": [
    {
     "data": {
      "text/plain": [
       "Dict{Any, Any} with 23504 entries:\n",
       "  \"0x23f11f0571e392390929ec909be393fd93e79eb6\" => Dict(\"1 ETH\"=>2)\n",
       "  \"0x390e817d1c8f764dd4228d67dfbe85ee5de2fbcf\" => Dict(\"10 ETH\"=>1, \"100 ETH\"=>1)\n",
       "  \"0xa3a0a77d44ab389b1bbfdd6305a82a872449c8a1\" => Dict(\"10 ETH\"=>9, \"1 ETH\"=>8)\n",
       "  \"0x7b590b11f20f5e942f7b39f05b6827f4787cf435\" => Dict(\"100000 DAI\"=>1)\n",
       "  \"0x110790db185798abc9fc14570a60eab346ad6dbd\" => Dict(\"1 ETH\"=>1)\n",
       "  ⋮                                            => ⋮"
      ]
     },
     "execution_count": 8,
     "metadata": {},
     "output_type": "execute_result"
    }
   ],
   "source": [
    "# test\n",
    "get_address_deposits(deposit_transactions_df, tornado_addresses)"
   ]
  },
  {
   "cell_type": "code",
   "execution_count": 9,
   "id": "72eca96b",
   "metadata": {},
   "outputs": [
    {
     "data": {
      "text/html": [
       "<table class=\"data-frame\"><thead><tr><th></th><th>from_address</th><th>to_address</th><th>count</th></tr><tr><th></th><th>String</th><th>String</th><th>Int64</th></tr></thead><tbody><p>27,755 rows × 3 columns</p><tr><th>1</th><td>0xb050dec5a9010f8b77a3962369b7bc737d3ed4a5</td><td>0x4736dcf1b7a3d580672cce6e7c65cd5cc9cfba9d</td><td>3</td></tr><tr><th>2</th><td>0x6e92bc493c6abbdd6a1b18416f003de2c873ab50</td><td>0x4736dcf1b7a3d580672cce6e7c65cd5cc9cfba9d</td><td>2</td></tr><tr><th>3</th><td>0x8c4c44fd06f7f98f08bf6a9ca156cec9ee1f31f8</td><td>0xfd8610d20aa15b7b2e3be39b396a1bc3516c7144</td><td>2</td></tr><tr><th>4</th><td>0x50b9d4af009b038506d4d84b035c451d1a3a20bc</td><td>0x12d66f87a04a9e220743712ce6d9bb1b5616b8fc</td><td>3</td></tr><tr><th>5</th><td>0x6c6e4816ecfa4481472ff88f32a3e00f2eaa95a1</td><td>0x12d66f87a04a9e220743712ce6d9bb1b5616b8fc</td><td>7</td></tr><tr><th>6</th><td>0x23480df691dbf7c62e967952bbf2067c18cc2f16</td><td>0xfd8610d20aa15b7b2e3be39b396a1bc3516c7144</td><td>2</td></tr><tr><th>7</th><td>0x5ba446670288149052645705618f121af76dd19d</td><td>0x12d66f87a04a9e220743712ce6d9bb1b5616b8fc</td><td>4</td></tr><tr><th>8</th><td>0xd0698d231d4b65b97a3df9c16aafda8d9b0bda41</td><td>0x0836222f2b2b24a3f36f98668ed8f0b38d1a872f</td><td>1</td></tr><tr><th>9</th><td>0x3a456bc9083bfe147719504aee8f296eb7355ee1</td><td>0x0836222f2b2b24a3f36f98668ed8f0b38d1a872f</td><td>1</td></tr><tr><th>10</th><td>0xf6650d601966caa9038af561ea00c70953f0febc</td><td>0x0836222f2b2b24a3f36f98668ed8f0b38d1a872f</td><td>2</td></tr><tr><th>&vellip;</th><td>&vellip;</td><td>&vellip;</td><td>&vellip;</td></tr></tbody></table>"
      ],
      "text/latex": [
       "\\begin{tabular}{r|ccc}\n",
       "\t& from\\_address & to\\_address & count\\\\\n",
       "\t\\hline\n",
       "\t& String & String & Int64\\\\\n",
       "\t\\hline\n",
       "\t1 & 0xb050dec5a9010f8b77a3962369b7bc737d3ed4a5 & 0x4736dcf1b7a3d580672cce6e7c65cd5cc9cfba9d & 3 \\\\\n",
       "\t2 & 0x6e92bc493c6abbdd6a1b18416f003de2c873ab50 & 0x4736dcf1b7a3d580672cce6e7c65cd5cc9cfba9d & 2 \\\\\n",
       "\t3 & 0x8c4c44fd06f7f98f08bf6a9ca156cec9ee1f31f8 & 0xfd8610d20aa15b7b2e3be39b396a1bc3516c7144 & 2 \\\\\n",
       "\t4 & 0x50b9d4af009b038506d4d84b035c451d1a3a20bc & 0x12d66f87a04a9e220743712ce6d9bb1b5616b8fc & 3 \\\\\n",
       "\t5 & 0x6c6e4816ecfa4481472ff88f32a3e00f2eaa95a1 & 0x12d66f87a04a9e220743712ce6d9bb1b5616b8fc & 7 \\\\\n",
       "\t6 & 0x23480df691dbf7c62e967952bbf2067c18cc2f16 & 0xfd8610d20aa15b7b2e3be39b396a1bc3516c7144 & 2 \\\\\n",
       "\t7 & 0x5ba446670288149052645705618f121af76dd19d & 0x12d66f87a04a9e220743712ce6d9bb1b5616b8fc & 4 \\\\\n",
       "\t8 & 0xd0698d231d4b65b97a3df9c16aafda8d9b0bda41 & 0x0836222f2b2b24a3f36f98668ed8f0b38d1a872f & 1 \\\\\n",
       "\t9 & 0x3a456bc9083bfe147719504aee8f296eb7355ee1 & 0x0836222f2b2b24a3f36f98668ed8f0b38d1a872f & 1 \\\\\n",
       "\t10 & 0xf6650d601966caa9038af561ea00c70953f0febc & 0x0836222f2b2b24a3f36f98668ed8f0b38d1a872f & 2 \\\\\n",
       "\t$\\dots$ & $\\dots$ & $\\dots$ & $\\dots$ \\\\\n",
       "\\end{tabular}\n"
      ],
      "text/plain": [
       "\u001b[1m27755×3 DataFrame\u001b[0m\n",
       "\u001b[1m   Row \u001b[0m│\u001b[1m from_address                      \u001b[0m\u001b[1m to_address                        \u001b[0m\u001b[1m count \u001b[0m\n",
       "\u001b[1m       \u001b[0m│\u001b[90m String                            \u001b[0m\u001b[90m String                            \u001b[0m\u001b[90m Int64 \u001b[0m\n",
       "───────┼─────────────────────────────────────────────────────────────────────────────\n",
       "     1 │ 0xb050dec5a9010f8b77a3962369b7bc…  0x4736dcf1b7a3d580672cce6e7c65cd…      3\n",
       "   ⋮   │                 ⋮                                  ⋮                    ⋮\n",
       "\u001b[36m                                                                   27754 rows omitted\u001b[0m"
      ]
     },
     "execution_count": 9,
     "metadata": {},
     "output_type": "execute_result"
    }
   ],
   "source": [
    "addresses_and_deposits_counts = combine(groupby(deposit_transactions_df, [:from_address, :to_address]), nrow => :count)"
   ]
  },
  {
   "cell_type": "markdown",
   "id": "f9b25180",
   "metadata": {},
   "source": [
    "### Function summary: get_same_number_of_deposits\n",
    "Given a number of withdrawal transactions, the function registers all the addresses that have made that same number of deposits. Returns an array with all the addresses that match these requirements."
   ]
  },
  {
   "cell_type": "code",
   "execution_count": 10,
   "id": "680fc439",
   "metadata": {},
   "outputs": [
    {
     "data": {
      "text/plain": [
       "get_same_number_of_deposits (generic function with 1 method)"
      ]
     },
     "execution_count": 10,
     "metadata": {},
     "output_type": "execute_result"
    }
   ],
   "source": [
    "function get_same_number_of_deposits(n_withdraws, deposit_transactions_df, tornado_addresses)\n",
    "    \n",
    "    # The deposits transactions data is first grouped by address, and then combined to get a new \n",
    "    # DataFrame with the addresses and their corresponding counts.\n",
    "    \n",
    "    address_deposits = get_address_deposits(deposit_transactions_df, tornado_addresses)\n",
    "    \n",
    "    return filter(address_deposit -> (Set(keys(n_withdraws))) == Set(keys(last(address_deposit))) &&\n",
    "    compare_transactions(n_withdraws, last(address_deposit)),\n",
    "    address_deposits) |> keys |> collect\n",
    "    \n",
    "    \n",
    "    # The addresses are filtered by the number of counts. Only the ones that are equal or larger than the input\n",
    "    # n_withdraws are returned. Finally, the output of the function is an array with the matching addresses.\n",
    "    \n",
    "    # return filter(row -> row.count >= n_withdraws[tornado_addresses[row.to_address]], addresses_and_deposit_counts)[!, :from_address]\n",
    "end"
   ]
  },
  {
   "cell_type": "code",
   "execution_count": 11,
   "id": "bc5bc3ec",
   "metadata": {},
   "outputs": [
    {
     "ename": "LoadError",
     "evalue": "UndefVarError: c not defined",
     "output_type": "error",
     "traceback": [
      "UndefVarError: c not defined",
      "",
      "Stacktrace:",
      " [1] top-level scope",
      "   @ In[11]:1",
      " [2] eval",
      "   @ ./boot.jl:360 [inlined]",
      " [3] include_string(mapexpr::typeof(REPL.softscope), mod::Module, code::String, filename::String)",
      "   @ Base ./loading.jl:1116"
     ]
    }
   ],
   "source": [
    "xx = get_same_number_of_deposits(c, deposit_transactions_df, tornado_addresses)"
   ]
  },
  {
   "cell_type": "code",
   "execution_count": 12,
   "id": "5ad5c575",
   "metadata": {},
   "outputs": [
    {
     "data": {
      "text/plain": [
       "Dict{Any, Any} with 23504 entries:\n",
       "  \"0x23f11f0571e392390929ec909be393fd93e79eb6\" => Dict(\"1 ETH\"=>2)\n",
       "  \"0x390e817d1c8f764dd4228d67dfbe85ee5de2fbcf\" => Dict(\"10 ETH\"=>1, \"100 ETH\"=>1)\n",
       "  \"0xa3a0a77d44ab389b1bbfdd6305a82a872449c8a1\" => Dict(\"10 ETH\"=>9, \"1 ETH\"=>8)\n",
       "  \"0x7b590b11f20f5e942f7b39f05b6827f4787cf435\" => Dict(\"100000 DAI\"=>1)\n",
       "  \"0x110790db185798abc9fc14570a60eab346ad6dbd\" => Dict(\"1 ETH\"=>1)\n",
       "  ⋮                                            => ⋮"
      ]
     },
     "execution_count": 12,
     "metadata": {},
     "output_type": "execute_result"
    }
   ],
   "source": [
    "address_deposits = get_address_deposits(deposit_transactions_df, tornado_addresses)"
   ]
  },
  {
   "cell_type": "code",
   "execution_count": 25,
   "id": "f6522b50",
   "metadata": {},
   "outputs": [
    {
     "data": {
      "text/plain": [
       "Dict{Any, Any} with 174 entries:\n",
       "  \"0x40c49abe80ba30d9bbfffbd69e56e703278b3dcf\" => Dict(\"10 ETH\"=>4, \"100 ETH\"=>7, \"1 ETH\"=>9, \"0.1 ETH\"=>4)\n",
       "  \"0x4b285130a1afaac88b46e6e643b1e123b7b36ada\" => Dict(\"10 ETH\"=>9, \"1 ETH\"=>5, \"100 ETH\"=>2, \"0.1 ETH\"=>1)\n",
       "  \"0x03079442ec8ad4fa53458336087c405525e9a75b\" => Dict(\"10 ETH\"=>6, \"100 ETH\"=>5, \"1 ETH\"=>5, \"0.1 ETH\"=>2)\n",
       "  \"0x5ebc7d1ff1687a75f76c3edfabcde89d1c09cd5f\" => Dict(\"10 ETH\"=>5, \"100 ETH\"=>1, \"1 ETH\"=>3, \"0.1 ETH\"=>4)\n",
       "  \"0x8efdc05de2071ea4ca22e73fc5ab5e4f57988ee7\" => Dict(\"10 ETH\"=>1, \"100 ETH\"=>4, \"1 ETH\"=>1, \"0.1 ETH\"=>4)\n",
       "  ⋮                                            => ⋮"
      ]
     },
     "execution_count": 25,
     "metadata": {},
     "output_type": "execute_result"
    }
   ],
   "source": [
    "# test\n",
    "a = Dict(\"0.1 ETH\" => 4)\n",
    "c = Dict(\"10 ETH\" => 1, \"100 ETH\" => 1, \"1 ETH\" => 1, \"0.1 ETH\" => 1)\n",
    "address_deposits = get_address_deposits(deposit_transactions_df, tornado_addresses)\n",
    "\n",
    "filter(t_count_dict -> (Set(keys(c))) == Set(keys(last(t_count_dict))) &&\n",
    "    compare_transactions(c, last(t_count_dict)),\n",
    "    address_deposits)\n",
    "    "
   ]
  },
  {
   "cell_type": "code",
   "execution_count": 14,
   "id": "1e7350ea",
   "metadata": {},
   "outputs": [
    {
     "data": {
      "text/plain": [
       "Dict{String, Int64} with 4 entries:\n",
       "  \"10 ETH\"  => 1\n",
       "  \"100 ETH\" => 1\n",
       "  \"1 ETH\"   => 1\n",
       "  \"0.1 ETH\" => 1"
      ]
     },
     "execution_count": 14,
     "metadata": {},
     "output_type": "execute_result"
    }
   ],
   "source": [
    "a = collect(keys(address_deposits))[803]\n",
    "address_deposits[a]\n",
    "c = Dict(\"10 ETH\" => 1, \"100 ETH\" => 1, \"1 ETH\" => 1, \"0.1 ETH\" => 1)"
   ]
  },
  {
   "cell_type": "markdown",
   "id": "ad207d19",
   "metadata": {},
   "source": [
    "### Function summary: get_same_number_of_deposits_heuristic\n",
    "Given a withdraw_transaction and the deposit and withdraw data, compute the anonimity score of the transaction, based on this heuristic."
   ]
  },
  {
   "cell_type": "code",
   "execution_count": 15,
   "id": "02bd5332",
   "metadata": {},
   "outputs": [
    {
     "data": {
      "text/plain": [
       "same_number_of_deposits_heuristic (generic function with 1 method)"
      ]
     },
     "execution_count": 15,
     "metadata": {},
     "output_type": "execute_result"
    }
   ],
   "source": [
    "function same_number_of_deposits_heuristic(withdraw_transaction, deposit_transactions_df, withdraw_transactions_df, tornado_addresses)\n",
    "                                            \n",
    "    # We calculate the number of withdrawals of the address from the withdraw_transaction given as input.\n",
    "    \n",
    "    n_withdraws = get_number_of_withdraws(withdraw_transaction, withdraw_transactions_df, tornado_addresses)\n",
    "        \n",
    "    # Based on n_withdraws, the set of the addresses that have the same number of deposits is calculated.\n",
    "    \n",
    "    Ϛ = get_same_number_of_deposits(n_withdraws, deposit_transactions_df, tornado_addresses)\n",
    "    \n",
    "    # The anonimity score P is computed.\n",
    "    \n",
    "    P = 1 - 1/length(Ϛ)\n",
    "    \n",
    "    # Since there is a chance that the cardinality of the set is 0, we handle this case and return the anonimity\n",
    "    # score.\n",
    "    \n",
    "    return isinf(P) ? 1 : P\n",
    "end"
   ]
  },
  {
   "cell_type": "code",
   "execution_count": 16,
   "id": "06ccc691",
   "metadata": {
    "scrolled": true
   },
   "outputs": [
    {
     "data": {
      "text/html": [
       "<p>DataFrameRow (24 columns)</p><table class=\"data-frame\"><thead><tr><th></th><th>Column1</th><th>Unnamed: 0</th><th>hash</th><th>nonce</th><th>transaction_index</th><th>from_address</th><th>to_address</th><th>value</th><th>gas</th><th>gas_price</th><th>receipt_cumulative_gas_used</th><th>receipt_gas_used</th><th>receipt_contract_address</th><th>receipt_root</th><th>receipt_status</th><th>block_timestamp</th><th>block_number</th><th>block_hash</th><th>max_fee_per_gas</th><th>max_priority_fee_per_gas</th><th>transaction_type</th><th>receipt_effective_gas_price</th><th>tornado_cash_address</th><th>recipient_address</th></tr><tr><th></th><th>Int64</th><th>Int64</th><th>String</th><th>Int64</th><th>Int64</th><th>String</th><th>String</th><th>Int64</th><th>Int64</th><th>Int64</th><th>Int64</th><th>Int64</th><th>Missing</th><th>Missing</th><th>Int64</th><th>String</th><th>Int64</th><th>String</th><th>Float64?</th><th>Float64?</th><th>Float64?</th><th>Int64</th><th>String</th><th>String</th></tr></thead><tbody><tr><th>11</th><td>10</td><td>45</td><td>0x795de0514ec2b5e9421a0730c5d837c4ac3387d7cfb19f9f81f00601d9a781ac</td><td>258</td><td>57</td><td>0xefab18983029d2ba840e34698efb67fdf8120711</td><td>0x910cbd523d972eb0a6f4cae4618ad62622b39dbf</td><td>0</td><td>383057</td><td>5050000000</td><td>4097750</td><td>333057</td><td><em>missing</em></td><td><em>missing</em></td><td>1</td><td>2020-02-04 04:15:55 UTC</td><td>9413844</td><td>0x0e9f185b6277a831eb1bc6419df0b8060daebb81a46912f6374d0bff41e1b59f</td><td><em>missing</em></td><td><em>missing</em></td><td><em>missing</em></td><td>5050000000</td><td>0x910cbd523d972eb0a6f4cae4618ad62622b39dbf</td><td>0xeab368d778c604a7dab378f736c8c3f64123073a</td></tr></tbody></table>"
      ],
      "text/latex": [
       "\\begin{tabular}{r|cccccccccccccccccccccccc}\n",
       "\t& Column1 & Unnamed: 0 & hash & nonce & transaction\\_index & from\\_address & to\\_address & value & gas & gas\\_price & receipt\\_cumulative\\_gas\\_used & receipt\\_gas\\_used & receipt\\_contract\\_address & receipt\\_root & receipt\\_status & block\\_timestamp & block\\_number & block\\_hash & max\\_fee\\_per\\_gas & max\\_priority\\_fee\\_per\\_gas & transaction\\_type & receipt\\_effective\\_gas\\_price & tornado\\_cash\\_address & recipient\\_address\\\\\n",
       "\t\\hline\n",
       "\t& Int64 & Int64 & String & Int64 & Int64 & String & String & Int64 & Int64 & Int64 & Int64 & Int64 & Missing & Missing & Int64 & String & Int64 & String & Float64? & Float64? & Float64? & Int64 & String & String\\\\\n",
       "\t\\hline\n",
       "\t11 & 10 & 45 & 0x795de0514ec2b5e9421a0730c5d837c4ac3387d7cfb19f9f81f00601d9a781ac & 258 & 57 & 0xefab18983029d2ba840e34698efb67fdf8120711 & 0x910cbd523d972eb0a6f4cae4618ad62622b39dbf & 0 & 383057 & 5050000000 & 4097750 & 333057 & \\emph{missing} & \\emph{missing} & 1 & 2020-02-04 04:15:55 UTC & 9413844 & 0x0e9f185b6277a831eb1bc6419df0b8060daebb81a46912f6374d0bff41e1b59f & \\emph{missing} & \\emph{missing} & \\emph{missing} & 5050000000 & 0x910cbd523d972eb0a6f4cae4618ad62622b39dbf & 0xeab368d778c604a7dab378f736c8c3f64123073a \\\\\n",
       "\\end{tabular}\n"
      ],
      "text/plain": [
       "\u001b[1mDataFrameRow\u001b[0m\n",
       "\u001b[1m Row \u001b[0m│\u001b[1m Column1 \u001b[0m\u001b[1m Unnamed: 0 \u001b[0m\u001b[1m hash                              \u001b[0m\u001b[1m nonce \u001b[0m\u001b[1m transaction_index \u001b[0m\u001b[1m from_address                      \u001b[0m\u001b[1m to_address                        \u001b[0m\u001b[1m value \u001b[0m\u001b[1m gas    \u001b[0m\u001b[1m gas_price  \u001b[0m\u001b[1m receipt_cumulative_gas_used \u001b[0m\u001b[1m receipt_gas_used \u001b[0m\u001b[1m receipt_contract_address \u001b[0m\u001b[1m receipt_root \u001b[0m\u001b[1m receipt_status \u001b[0m\u001b[1m block_timestamp         \u001b[0m\u001b[1m block_number \u001b[0m\u001b[1m block_hash                        \u001b[0m\u001b[1m max_fee_per_gas \u001b[0m\u001b[1m max_priority_fee_per_gas \u001b[0m\u001b[1m transaction_type \u001b[0m\u001b[1m receipt_effective_gas_price \u001b[0m\u001b[1m tornado_cash_address              \u001b[0m\u001b[1m recipient_address                 \u001b[0m\n",
       "\u001b[1m     \u001b[0m│\u001b[90m Int64   \u001b[0m\u001b[90m Int64      \u001b[0m\u001b[90m String                            \u001b[0m\u001b[90m Int64 \u001b[0m\u001b[90m Int64             \u001b[0m\u001b[90m String                            \u001b[0m\u001b[90m String                            \u001b[0m\u001b[90m Int64 \u001b[0m\u001b[90m Int64  \u001b[0m\u001b[90m Int64      \u001b[0m\u001b[90m Int64                       \u001b[0m\u001b[90m Int64            \u001b[0m\u001b[90m Missing                  \u001b[0m\u001b[90m Missing      \u001b[0m\u001b[90m Int64          \u001b[0m\u001b[90m String                  \u001b[0m\u001b[90m Int64        \u001b[0m\u001b[90m String                            \u001b[0m\u001b[90m Float64?        \u001b[0m\u001b[90m Union{Missing, Float64}  \u001b[0m\u001b[90m Float64?         \u001b[0m\u001b[90m Int64                       \u001b[0m\u001b[90m String                            \u001b[0m\u001b[90m String                            \u001b[0m\n",
       "─────┼────────────────────────────────────────────────────────────────────────────────────────────────────────────────────────────────────────────────────────────────────────────────────────────────────────────────────────────────────────────────────────────────────────────────────────────────────────────────────────────────────────────────────────────────────────────────────────────────────────────────────────────────────────────────────────────────────────────────────────────────────────────────────────────────────\n",
       "  11 │      10          45  0x795de0514ec2b5e9421a0730c5d837…    258                 57  0xefab18983029d2ba840e34698efb67…  0x910cbd523d972eb0a6f4cae4618ad6…      0  383057  5050000000                      4097750            333057 \u001b[90m                  missing \u001b[0m\u001b[90m      missing \u001b[0m              1  2020-02-04 04:15:55 UTC       9413844  0x0e9f185b6277a831eb1bc6419df0b8… \u001b[90m         missing \u001b[0m\u001b[90m                  missing \u001b[0m\u001b[90m          missing \u001b[0m                  5050000000  0x910cbd523d972eb0a6f4cae4618ad6…  0xeab368d778c604a7dab378f736c8c3…"
      ]
     },
     "execution_count": 16,
     "metadata": {},
     "output_type": "execute_result"
    }
   ],
   "source": [
    "# Just for testing an example, we select a random withdraw_transaction\n",
    "withdraw_transaction = withdraw_transactions_df[11,:]"
   ]
  },
  {
   "cell_type": "code",
   "execution_count": 17,
   "id": "fc6e13f2",
   "metadata": {},
   "outputs": [
    {
     "data": {
      "text/plain": [
       "Dict{String, Int64} with 1 entry:\n",
       "  \"10 ETH\" => 1"
      ]
     },
     "execution_count": 17,
     "metadata": {},
     "output_type": "execute_result"
    }
   ],
   "source": [
    "get_number_of_withdraws(withdraw_transaction, withdraw_transactions_df, tornado_addresses)"
   ]
  },
  {
   "cell_type": "markdown",
   "id": "3acad319",
   "metadata": {},
   "source": [
    "Testing the function get_same_number_of_deposits. We can see there are 3 addresses that have done 34 deposits.\n"
   ]
  },
  {
   "cell_type": "code",
   "execution_count": 18,
   "id": "911a76cb",
   "metadata": {},
   "outputs": [
    {
     "data": {
      "text/plain": [
       "23504-element Vector{String}:\n",
       " \"0xb050dec5a9010f8b77a3962369b7bc737d3ed4a5\"\n",
       " \"0x6e92bc493c6abbdd6a1b18416f003de2c873ab50\"\n",
       " \"0x8c4c44fd06f7f98f08bf6a9ca156cec9ee1f31f8\"\n",
       " ⋮\n",
       " \"0xd29dcbd273d73714eb6bea7bd4f8d99d0fbc3398\"\n",
       " \"0xb12814fdbbdc8c8f9c2741bde788813a90588be6\""
      ]
     },
     "execution_count": 18,
     "metadata": {},
     "output_type": "execute_result"
    }
   ],
   "source": [
    "# test\n",
    "deposits_with_same_number = combine(groupby(deposit_transactions_df, [:from_address, :to_address]), nrow => :count)\n",
    "unique(deposit_transactions_df[!, \"from_address\"])"
   ]
  },
  {
   "cell_type": "markdown",
   "id": "6c25689b",
   "metadata": {},
   "source": [
    "Testing same_number_of_deposits_heuristic with the withdraw_transaction we selected, computes an anonimity score to it."
   ]
  },
  {
   "cell_type": "code",
   "execution_count": 24,
   "id": "8c1e9bc4",
   "metadata": {},
   "outputs": [
    {
     "data": {
      "text/plain": [
       "0.9997814685314685"
      ]
     },
     "execution_count": 24,
     "metadata": {},
     "output_type": "execute_result"
    }
   ],
   "source": [
    "same_number_of_deposits_heuristic(withdraw_transaction, deposit_transactions_df, withdraw_transactions_df, tornado_addresses)"
   ]
  },
  {
   "cell_type": "code",
   "execution_count": 20,
   "id": "f3671b1b",
   "metadata": {},
   "outputs": [
    {
     "data": {
      "text/plain": [
       "apply_same_number_of_deposits_heuristic (generic function with 1 method)"
      ]
     },
     "execution_count": 20,
     "metadata": {},
     "output_type": "execute_result"
    }
   ],
   "source": [
    "function apply_same_number_of_deposits_heuristic(deposit_transactions_df, withdraw_transactions_df, tornado_addresses)\n",
    "    \n",
    "    address_deposits = get_address_deposits(deposit_transactions_df, tornado_addresses)\n",
    "    \n",
    "    # An empty dictionary is initialized. It will be used to store the anonimity score associated with each transaction.\n",
    "    \n",
    "    tx_hash_and_anonimity_score = Dict()\n",
    "    \n",
    "    # Iterate over every row of the withdraw_transactions DataFrame and apply the function same_number_of_deposits_heuristic\n",
    "    # For each transaction, the anonimity score is computed and appended to the dictionary.\n",
    "    \n",
    "    for withdraw_row ∈ ProgressBar(eachrow(withdraw_transactions_df), printing_delay=5)\n",
    "        anonimity_score = same_number_of_deposits_heuristic(withdraw_row, deposit_transactions_df, withdraw_transactions_df, tornado_addresses)\n",
    "        tx_hash_and_anonimity_score[withdraw_row.hash] = anonimity_score\n",
    "    end\n",
    "    \n",
    "    # The dictionary with the transaction hashes and scores is returned\n",
    "    \n",
    "    tx_hash_and_anonimity_score\n",
    "end"
   ]
  },
  {
   "cell_type": "markdown",
   "id": "0b61880b",
   "metadata": {},
   "source": [
    "We apply this last function to our data and we obtain a dictionary indicating the score of each withdrawal."
   ]
  },
  {
   "cell_type": "code",
   "execution_count": 21,
   "id": "afad7514",
   "metadata": {
    "scrolled": true
   },
   "outputs": [
    {
     "name": "stderr",
     "output_type": "stream",
     "text": [
      "0.0%┣                                     ┫ 0/83.8k [00:05<-116:-21:-50, -5s/it]\n",
      "0.0%┣                                        ┫ 1/83.8k [00:05<Inf:Inf, InfGs/it]\n",
      "0.1%┣                                         ┫ 45/83.8k [00:10<05:32:09, 4it/s]\n",
      "0.1%┣                                         ┫ 90/83.8k [00:16<04:03:35, 6it/s]\n",
      "0.2%┣                                        ┫ 134/83.8k [00:21<03:35:32, 6it/s]\n",
      "0.2%┣                                        ┫ 178/83.8k [00:26<03:21:17, 7it/s]\n"
     ]
    },
    {
     "ename": "LoadError",
     "evalue": "InterruptException:",
     "output_type": "error",
     "traceback": [
      "InterruptException:",
      "",
      "Stacktrace:",
      "  [1] Array",
      "    @ ./boot.jl:448 [inlined]",
      "  [2] Dict{String, Nothing}()",
      "    @ Base ./dict.jl:90",
      "  [3] Set",
      "    @ ./set.jl:6 [inlined]",
      "  [4] Set",
      "    @ ./set.jl:10 [inlined]",
      "  [5] _Set",
      "    @ ./set.jl:23 [inlined]",
      "  [6] Set(itr::Base.KeySet{String, Dict{String, Int64}})",
      "    @ Base ./set.jl:21",
      "  [7] (::var\"#1#2\"{Dict{String, Int64}})(address_deposit::Pair{Any, Any})",
      "    @ Main ./In[10]:8",
      "  [8] filter(f::var\"#1#2\"{Dict{String, Int64}}, d::Dict{Any, Any})",
      "    @ Base ./abstractdict.jl:433",
      "  [9] get_same_number_of_deposits",
      "    @ ./In[10]:8 [inlined]",
      " [10] same_number_of_deposits_heuristic(withdraw_transaction::DataFrameRow{DataFrame, DataFrames.Index}, deposit_transactions_df::DataFrame, withdraw_transactions_df::DataFrame, tornado_addresses::Dict{String, String})",
      "    @ Main ./In[15]:9",
      " [11] apply_same_number_of_deposits_heuristic(deposit_transactions_df::DataFrame, withdraw_transactions_df::DataFrame, tornado_addresses::Dict{String, String})",
      "    @ Main ./In[20]:13",
      " [12] top-level scope",
      "    @ In[21]:1",
      " [13] eval",
      "    @ ./boot.jl:360 [inlined]",
      " [14] include_string(mapexpr::typeof(REPL.softscope), mod::Module, code::String, filename::String)",
      "    @ Base ./loading.jl:1116"
     ]
    }
   ],
   "source": [
    "scores = apply_same_number_of_deposits_heuristic(deposit_transactions_df, withdraw_transactions_df, tornado_addresses)\n"
   ]
  },
  {
   "cell_type": "code",
   "execution_count": 22,
   "id": "255f47c5",
   "metadata": {
    "scrolled": false
   },
   "outputs": [
    {
     "ename": "LoadError",
     "evalue": "UndefVarError: scores not defined",
     "output_type": "error",
     "traceback": [
      "UndefVarError: scores not defined",
      "",
      "Stacktrace:",
      " [1] top-level scope",
      "   @ In[22]:1",
      " [2] eval",
      "   @ ./boot.jl:360 [inlined]",
      " [3] include_string(mapexpr::typeof(REPL.softscope), mod::Module, code::String, filename::String)",
      "   @ Base ./loading.jl:1116"
     ]
    }
   ],
   "source": [
    "score_values = values(scores) |> collect\n",
    "histogram(score_values, bins=500, legend=false, title=\"Histogram of scores of the withdrawal transactions\", xlabel=\"Scores\")"
   ]
  },
  {
   "cell_type": "code",
   "execution_count": null,
   "id": "d9c2683c",
   "metadata": {},
   "outputs": [],
   "source": []
  },
  {
   "cell_type": "code",
   "execution_count": null,
   "id": "ee3d3faf",
   "metadata": {},
   "outputs": [],
   "source": []
  }
 ],
 "metadata": {
  "kernelspec": {
   "display_name": "Julia 1.6.1",
   "language": "julia",
   "name": "julia-1.6"
  },
  "language_info": {
   "file_extension": ".jl",
   "mimetype": "application/julia",
   "name": "julia",
   "version": "1.6.3"
  }
 },
 "nbformat": 4,
 "nbformat_minor": 5
}
