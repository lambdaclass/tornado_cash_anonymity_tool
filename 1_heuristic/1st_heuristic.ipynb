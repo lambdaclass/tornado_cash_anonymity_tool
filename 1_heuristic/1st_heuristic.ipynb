{
 "cells": [
  {
   "cell_type": "code",
   "execution_count": 2,
   "id": "9593e11c",
   "metadata": {},
   "outputs": [
    {
     "name": "stderr",
     "output_type": "stream",
     "text": [
      "\u001b[32m\u001b[1m  Activating\u001b[22m\u001b[39m environment at `~/tornado_cash_anonymity_tool/Project.toml`\n"
     ]
    }
   ],
   "source": [
    "using Pkg; Pkg.activate(\"../.\")\n",
    "using DataFrames\n",
    "using CSV"
   ]
  },
  {
   "cell_type": "code",
   "execution_count": 11,
   "id": "c60a695e",
   "metadata": {},
   "outputs": [],
   "source": [
    "# We load the tornado transactions data\n",
    "transactions_df = CSV.read(\"../data/tornado_transactions_truncated.csv\", DataFrame)\n",
    "tornado_addresses = CSV.read(\"../data/tornadocontracts.csv\", DataFrame, header=[\"Address\", \"Currency\", \"3\", \"4\"]);"
   ]
  },
  {
   "cell_type": "code",
   "execution_count": 4,
   "id": "45ded278",
   "metadata": {
    "scrolled": true
   },
   "outputs": [
    {
     "data": {
      "text/html": [
       "<div class=\"data-frame\"><p>10 rows × 21 columns (omitted printing of 18 columns)</p><table class=\"data-frame\"><thead><tr><th></th><th>hash</th><th>nonce</th><th>transaction_index</th></tr><tr><th></th><th title=\"String\">String</th><th title=\"Int64\">Int64</th><th title=\"Int64\">Int64</th></tr></thead><tbody><tr><th>1</th><td>0xcf97c470a56d96625c7240d3004ae2abd9141d7ffc4383ab6f29a181e3562e8b</td><td>4</td><td>10</td></tr><tr><th>2</th><td>0x2fadc4d54bf6e3ec5035f14c0096befe92999866309893e0eeaecdef955c0323</td><td>22</td><td>118</td></tr><tr><th>3</th><td>0x9a2584e229b27d3bb87537e4cc4fb7b7cc085f9687742fd5a014bdad2a7f801e</td><td>6782</td><td>95</td></tr><tr><th>4</th><td>0x2b40673c95b759b0967ac50185fe5691554819ac7e11ff69fc6972a6e4eb0d50</td><td>1748</td><td>185</td></tr><tr><th>5</th><td>0x34478d48b83ce20881013312c6edf130573e561aa0c69c75b09dbb02ba641c97</td><td>1963</td><td>88</td></tr><tr><th>6</th><td>0x532078c03eabcffce384d1aae7aa0444b1348eccbdd370b744d9db0206000af4</td><td>1276</td><td>164</td></tr><tr><th>7</th><td>0xbf1d3100b2cb759e43aadd8777b08696144918b6402aaa4f3d850d470cc67490</td><td>2482</td><td>102</td></tr><tr><th>8</th><td>0x3dc8617176f45c0f33a95589c202b22f9ba8aa7067bb92887517e20b237907e3</td><td>789</td><td>196</td></tr><tr><th>9</th><td>0x3199144ba98021e523c5ec1e4f4dcf64446d69b825da7251d2d2a0a794038d0d</td><td>9</td><td>190</td></tr><tr><th>10</th><td>0x95a46a1305ddc8b7e01d82c7d6766fce4713c085929f70c9a24e90f927672699</td><td>2</td><td>81</td></tr></tbody></table></div>"
      ],
      "text/latex": [
       "\\begin{tabular}{r|cccc}\n",
       "\t& hash & nonce & transaction\\_index & \\\\\n",
       "\t\\hline\n",
       "\t& String & Int64 & Int64 & \\\\\n",
       "\t\\hline\n",
       "\t1 & 0xcf97c470a56d96625c7240d3004ae2abd9141d7ffc4383ab6f29a181e3562e8b & 4 & 10 & $\\dots$ \\\\\n",
       "\t2 & 0x2fadc4d54bf6e3ec5035f14c0096befe92999866309893e0eeaecdef955c0323 & 22 & 118 & $\\dots$ \\\\\n",
       "\t3 & 0x9a2584e229b27d3bb87537e4cc4fb7b7cc085f9687742fd5a014bdad2a7f801e & 6782 & 95 & $\\dots$ \\\\\n",
       "\t4 & 0x2b40673c95b759b0967ac50185fe5691554819ac7e11ff69fc6972a6e4eb0d50 & 1748 & 185 & $\\dots$ \\\\\n",
       "\t5 & 0x34478d48b83ce20881013312c6edf130573e561aa0c69c75b09dbb02ba641c97 & 1963 & 88 & $\\dots$ \\\\\n",
       "\t6 & 0x532078c03eabcffce384d1aae7aa0444b1348eccbdd370b744d9db0206000af4 & 1276 & 164 & $\\dots$ \\\\\n",
       "\t7 & 0xbf1d3100b2cb759e43aadd8777b08696144918b6402aaa4f3d850d470cc67490 & 2482 & 102 & $\\dots$ \\\\\n",
       "\t8 & 0x3dc8617176f45c0f33a95589c202b22f9ba8aa7067bb92887517e20b237907e3 & 789 & 196 & $\\dots$ \\\\\n",
       "\t9 & 0x3199144ba98021e523c5ec1e4f4dcf64446d69b825da7251d2d2a0a794038d0d & 9 & 190 & $\\dots$ \\\\\n",
       "\t10 & 0x95a46a1305ddc8b7e01d82c7d6766fce4713c085929f70c9a24e90f927672699 & 2 & 81 & $\\dots$ \\\\\n",
       "\\end{tabular}\n"
      ],
      "text/plain": [
       "\u001b[1m10×21 DataFrame\u001b[0m\n",
       "\u001b[1m Row \u001b[0m│\u001b[1m hash                              \u001b[0m\u001b[1m nonce \u001b[0m\u001b[1m transaction_index \u001b[0m\u001b[1m from_addre\u001b[0m ⋯\n",
       "\u001b[1m     \u001b[0m│\u001b[90m String                            \u001b[0m\u001b[90m Int64 \u001b[0m\u001b[90m Int64             \u001b[0m\u001b[90m String    \u001b[0m ⋯\n",
       "─────┼──────────────────────────────────────────────────────────────────────────\n",
       "   1 │ 0xcf97c470a56d96625c7240d3004ae2…      4                 10  0xb050dec5 ⋯\n",
       "   2 │ 0x2fadc4d54bf6e3ec5035f14c0096be…     22                118  0x6e92bc49\n",
       "   3 │ 0x9a2584e229b27d3bb87537e4cc4fb7…   6782                 95  0xbe4d1e13\n",
       "   4 │ 0x2b40673c95b759b0967ac50185fe56…   1748                185  0x20bb3095\n",
       "   5 │ 0x34478d48b83ce20881013312c6edf1…   1963                 88  0xdd36d585 ⋯\n",
       "   6 │ 0x532078c03eabcffce384d1aae7aa04…   1276                164  0x28a51fd7\n",
       "   7 │ 0xbf1d3100b2cb759e43aadd8777b086…   2482                102  0x49136693\n",
       "   8 │ 0x3dc8617176f45c0f33a95589c202b2…    789                196  0x2d50dbcc\n",
       "   9 │ 0x3199144ba98021e523c5ec1e4f4dcf…      9                190  0xb7756212 ⋯\n",
       "  10 │ 0x95a46a1305ddc8b7e01d82c7d6766f…      2                 81  0x0e54db73\n",
       "\u001b[36m                                                              18 columns omitted\u001b[0m"
      ]
     },
     "execution_count": 4,
     "metadata": {},
     "output_type": "execute_result"
    }
   ],
   "source": [
    "# View of first rows of the DataFrame\n",
    "first(transactions_df, 10)"
   ]
  },
  {
   "cell_type": "code",
   "execution_count": 12,
   "id": "2db42582",
   "metadata": {},
   "outputs": [
    {
     "data": {
      "text/html": [
       "<div class=\"data-frame\"><p>19 rows × 4 columns</p><table class=\"data-frame\"><thead><tr><th></th><th>Address</th><th>Currency</th><th>3</th><th>4</th></tr><tr><th></th><th title=\"String\">String</th><th title=\"String7\">String7</th><th title=\"Float64\">Float64</th><th title=\"String15\">String15</th></tr></thead><tbody><tr><th>1</th><td>0xd4b88df4d29f5cedd6857912842cff3b20c8cfa3</td><td>DAI</td><td>100.0</td><td>dai100</td></tr><tr><th>2</th><td>0xfd8610d20aa15b7b2e3be39b396a1bc3516c7144</td><td>DAI</td><td>1000.0</td><td>dai1k</td></tr><tr><th>3</th><td>0x07687e702b410fa43f4cb4af7fa097918ffd2730</td><td>DAI</td><td>10000.0</td><td>dai10k</td></tr><tr><th>4</th><td>0x23773e65ed146a459791799d01336db287f25334</td><td>DAI</td><td>100000.0</td><td>dai100k</td></tr><tr><th>5</th><td>0x12d66f87a04a9e220743712ce6d9bb1b5616b8fc</td><td>ETH</td><td>0.1</td><td>eth01</td></tr><tr><th>6</th><td>0x47ce0c6ed5b0ce3d3a51fdb1c52dc66a7c3c2936</td><td>ETH</td><td>1.0</td><td>eth1</td></tr><tr><th>7</th><td>0x910cbd523d972eb0a6f4cae4618ad62622b39dbf</td><td>ETH</td><td>10.0</td><td>eth10</td></tr><tr><th>8</th><td>0xa160cdab225685da1d56aa342ad8841c3b53f291</td><td>ETH</td><td>100.0</td><td>eth100</td></tr><tr><th>9</th><td>0xd96f2b1c14db8458374d9aca76e26c3d18364307</td><td>USDC</td><td>100.0</td><td>usdc100</td></tr><tr><th>10</th><td>0x4736dcf1b7a3d580672cce6e7c65cd5cc9cfba9d</td><td>USDC</td><td>1000.0</td><td>usdc1k</td></tr><tr><th>11</th><td>0x169ad27a470d064dede56a2d3ff727986b15d52b</td><td>USDT</td><td>100.0</td><td>usdt100</td></tr><tr><th>12</th><td>0x0836222f2b2b24a3f36f98668ed8f0b38d1a872f</td><td>USDT</td><td>1000.0</td><td>usdt1k</td></tr><tr><th>13</th><td>0x178169b423a011fff22b9e3f3abea13414ddd0f1</td><td>WBTC</td><td>0.1</td><td>wbct01</td></tr><tr><th>14</th><td>0x610b717796ad172b316836ac95a2ffad065ceab4</td><td>WBTC</td><td>1.0</td><td>wbtc1</td></tr><tr><th>15</th><td>0xbb93e510bbcd0b7beb5a853875f9ec60275cf498</td><td>WBTC</td><td>10.0</td><td>wbtc10</td></tr><tr><th>16</th><td>0x22aaa7720ddd5388a3c0a3333430953c68f1849b</td><td>cDAI</td><td>5000.0</td><td>cdai5k</td></tr><tr><th>17</th><td>0x03893a7c7463ae47d46bc7f091665f1893656003</td><td>cDAI</td><td>50000.0</td><td>cdai50k</td></tr><tr><th>18</th><td>0x2717c5e28cf931547b621a5dddb772ab6a35b701</td><td>cDAI</td><td>500000.0</td><td>cdai500k</td></tr><tr><th>19</th><td>0xd21be7248e0197ee08e0c20d4a96debdac3d20af</td><td>cDAI</td><td>5.0e6</td><td>cdai5m</td></tr></tbody></table></div>"
      ],
      "text/latex": [
       "\\begin{tabular}{r|cccc}\n",
       "\t& Address & Currency & 3 & 4\\\\\n",
       "\t\\hline\n",
       "\t& String & String7 & Float64 & String15\\\\\n",
       "\t\\hline\n",
       "\t1 & 0xd4b88df4d29f5cedd6857912842cff3b20c8cfa3 & DAI & 100.0 & dai100 \\\\\n",
       "\t2 & 0xfd8610d20aa15b7b2e3be39b396a1bc3516c7144 & DAI & 1000.0 & dai1k \\\\\n",
       "\t3 & 0x07687e702b410fa43f4cb4af7fa097918ffd2730 & DAI & 10000.0 & dai10k \\\\\n",
       "\t4 & 0x23773e65ed146a459791799d01336db287f25334 & DAI & 100000.0 & dai100k \\\\\n",
       "\t5 & 0x12d66f87a04a9e220743712ce6d9bb1b5616b8fc & ETH & 0.1 & eth01 \\\\\n",
       "\t6 & 0x47ce0c6ed5b0ce3d3a51fdb1c52dc66a7c3c2936 & ETH & 1.0 & eth1 \\\\\n",
       "\t7 & 0x910cbd523d972eb0a6f4cae4618ad62622b39dbf & ETH & 10.0 & eth10 \\\\\n",
       "\t8 & 0xa160cdab225685da1d56aa342ad8841c3b53f291 & ETH & 100.0 & eth100 \\\\\n",
       "\t9 & 0xd96f2b1c14db8458374d9aca76e26c3d18364307 & USDC & 100.0 & usdc100 \\\\\n",
       "\t10 & 0x4736dcf1b7a3d580672cce6e7c65cd5cc9cfba9d & USDC & 1000.0 & usdc1k \\\\\n",
       "\t11 & 0x169ad27a470d064dede56a2d3ff727986b15d52b & USDT & 100.0 & usdt100 \\\\\n",
       "\t12 & 0x0836222f2b2b24a3f36f98668ed8f0b38d1a872f & USDT & 1000.0 & usdt1k \\\\\n",
       "\t13 & 0x178169b423a011fff22b9e3f3abea13414ddd0f1 & WBTC & 0.1 & wbct01 \\\\\n",
       "\t14 & 0x610b717796ad172b316836ac95a2ffad065ceab4 & WBTC & 1.0 & wbtc1 \\\\\n",
       "\t15 & 0xbb93e510bbcd0b7beb5a853875f9ec60275cf498 & WBTC & 10.0 & wbtc10 \\\\\n",
       "\t16 & 0x22aaa7720ddd5388a3c0a3333430953c68f1849b & cDAI & 5000.0 & cdai5k \\\\\n",
       "\t17 & 0x03893a7c7463ae47d46bc7f091665f1893656003 & cDAI & 50000.0 & cdai50k \\\\\n",
       "\t18 & 0x2717c5e28cf931547b621a5dddb772ab6a35b701 & cDAI & 500000.0 & cdai500k \\\\\n",
       "\t19 & 0xd21be7248e0197ee08e0c20d4a96debdac3d20af & cDAI & 5.0e6 & cdai5m \\\\\n",
       "\\end{tabular}\n"
      ],
      "text/plain": [
       "\u001b[1m19×4 DataFrame\u001b[0m\n",
       "\u001b[1m Row \u001b[0m│\u001b[1m Address                           \u001b[0m\u001b[1m Currency \u001b[0m\u001b[1m 3          \u001b[0m\u001b[1m 4        \u001b[0m\n",
       "\u001b[1m     \u001b[0m│\u001b[90m String                            \u001b[0m\u001b[90m String7  \u001b[0m\u001b[90m Float64    \u001b[0m\u001b[90m String15 \u001b[0m\n",
       "─────┼───────────────────────────────────────────────────────────────────\n",
       "   1 │ 0xd4b88df4d29f5cedd6857912842cff…  DAI          100.0    dai100\n",
       "   2 │ 0xfd8610d20aa15b7b2e3be39b396a1b…  DAI         1000.0    dai1k\n",
       "   3 │ 0x07687e702b410fa43f4cb4af7fa097…  DAI        10000.0    dai10k\n",
       "   4 │ 0x23773e65ed146a459791799d01336d…  DAI       100000.0    dai100k\n",
       "   5 │ 0x12d66f87a04a9e220743712ce6d9bb…  ETH            0.1    eth01\n",
       "   6 │ 0x47ce0c6ed5b0ce3d3a51fdb1c52dc6…  ETH            1.0    eth1\n",
       "   7 │ 0x910cbd523d972eb0a6f4cae4618ad6…  ETH           10.0    eth10\n",
       "   8 │ 0xa160cdab225685da1d56aa342ad884…  ETH          100.0    eth100\n",
       "   9 │ 0xd96f2b1c14db8458374d9aca76e26c…  USDC         100.0    usdc100\n",
       "  10 │ 0x4736dcf1b7a3d580672cce6e7c65cd…  USDC        1000.0    usdc1k\n",
       "  11 │ 0x169ad27a470d064dede56a2d3ff727…  USDT         100.0    usdt100\n",
       "  12 │ 0x0836222f2b2b24a3f36f98668ed8f0…  USDT        1000.0    usdt1k\n",
       "  13 │ 0x178169b423a011fff22b9e3f3abea1…  WBTC           0.1    wbct01\n",
       "  14 │ 0x610b717796ad172b316836ac95a2ff…  WBTC           1.0    wbtc1\n",
       "  15 │ 0xbb93e510bbcd0b7beb5a853875f9ec…  WBTC          10.0    wbtc10\n",
       "  16 │ 0x22aaa7720ddd5388a3c0a333343095…  cDAI        5000.0    cdai5k\n",
       "  17 │ 0x03893a7c7463ae47d46bc7f091665f…  cDAI       50000.0    cdai50k\n",
       "  18 │ 0x2717c5e28cf931547b621a5dddb772…  cDAI      500000.0    cdai500k\n",
       "  19 │ 0xd21be7248e0197ee08e0c20d4a96de…  cDAI           5.0e6  cdai5m"
      ]
     },
     "execution_count": 12,
     "metadata": {},
     "output_type": "execute_result"
    }
   ],
   "source": [
    "tornado_addresses"
   ]
  },
  {
   "cell_type": "code",
   "execution_count": 5,
   "id": "c5840fa0",
   "metadata": {},
   "outputs": [
    {
     "data": {
      "text/plain": [
       "21-element Vector{String}:\n",
       " \"hash\"\n",
       " \"nonce\"\n",
       " \"transaction_index\"\n",
       " \"from_address\"\n",
       " \"to_address\"\n",
       " \"value\"\n",
       " \"gas\"\n",
       " \"gas_price\"\n",
       " \"input\"\n",
       " \"receipt_cumulative_gas_used\"\n",
       " \"receipt_gas_used\"\n",
       " \"receipt_contract_address\"\n",
       " \"receipt_root\"\n",
       " \"receipt_status\"\n",
       " \"block_timestamp\"\n",
       " \"block_number\"\n",
       " \"block_hash\"\n",
       " \"max_fee_per_gas\"\n",
       " \"max_priority_fee_per_gas\"\n",
       " \"transaction_type\"\n",
       " \"receipt_effective_gas_price\""
      ]
     },
     "execution_count": 5,
     "metadata": {},
     "output_type": "execute_result"
    }
   ],
   "source": [
    "names(transactions_df)"
   ]
  },
  {
   "cell_type": "code",
   "execution_count": 28,
   "id": "42e54523",
   "metadata": {},
   "outputs": [],
   "source": [
    "# A DataFrame with only the addresses data of transactions.\n",
    "address_pairs = select(transactions_df, :from_address, :to_address);"
   ]
  },
  {
   "cell_type": "code",
   "execution_count": 29,
   "id": "c2989aae",
   "metadata": {},
   "outputs": [
    {
     "data": {
      "text/html": [
       "<div class=\"data-frame\"><p>10 rows × 2 columns</p><table class=\"data-frame\"><thead><tr><th></th><th>from_address</th><th>to_address</th></tr><tr><th></th><th title=\"String\">String</th><th title=\"String\">String</th></tr></thead><tbody><tr><th>1</th><td>0xb050dec5a9010f8b77a3962369b7bc737d3ed4a5</td><td>0x4736dcf1b7a3d580672cce6e7c65cd5cc9cfba9d</td></tr><tr><th>2</th><td>0x6e92bc493c6abbdd6a1b18416f003de2c873ab50</td><td>0x4736dcf1b7a3d580672cce6e7c65cd5cc9cfba9d</td></tr><tr><th>3</th><td>0xbe4d1e137a24af091be80ae58d652279665e3a27</td><td>0x722122df12d4e14e13ac3b6895a86e84145b6967</td></tr><tr><th>4</th><td>0x20bb3095a4852f4c97d7a188e9f7183c85acfc49</td><td>0x722122df12d4e14e13ac3b6895a86e84145b6967</td></tr><tr><th>5</th><td>0xdd36d585a0d32b4ae6f1790bc4292308e21a42e3</td><td>0x722122df12d4e14e13ac3b6895a86e84145b6967</td></tr><tr><th>6</th><td>0x28a51fd7b39b49ad4d7813d89e3d4444d79e3ac6</td><td>0x722122df12d4e14e13ac3b6895a86e84145b6967</td></tr><tr><th>7</th><td>0x49136693081f2c18e2cf14428dd78cd90a22dc1f</td><td>0x722122df12d4e14e13ac3b6895a86e84145b6967</td></tr><tr><th>8</th><td>0x2d50dbcc960bec854227f51f8074e1da28bd4a37</td><td>0xa160cdab225685da1d56aa342ad8841c3b53f291</td></tr><tr><th>9</th><td>0xb77562124be8ac967cf7fc24573fe252aa39d95d</td><td>0x4736dcf1b7a3d580672cce6e7c65cd5cc9cfba9d</td></tr><tr><th>10</th><td>0x0e54db73f82bd9fde34ebce53ea83bd197e9044c</td><td>0x4736dcf1b7a3d580672cce6e7c65cd5cc9cfba9d</td></tr></tbody></table></div>"
      ],
      "text/latex": [
       "\\begin{tabular}{r|cc}\n",
       "\t& from\\_address & to\\_address\\\\\n",
       "\t\\hline\n",
       "\t& String & String\\\\\n",
       "\t\\hline\n",
       "\t1 & 0xb050dec5a9010f8b77a3962369b7bc737d3ed4a5 & 0x4736dcf1b7a3d580672cce6e7c65cd5cc9cfba9d \\\\\n",
       "\t2 & 0x6e92bc493c6abbdd6a1b18416f003de2c873ab50 & 0x4736dcf1b7a3d580672cce6e7c65cd5cc9cfba9d \\\\\n",
       "\t3 & 0xbe4d1e137a24af091be80ae58d652279665e3a27 & 0x722122df12d4e14e13ac3b6895a86e84145b6967 \\\\\n",
       "\t4 & 0x20bb3095a4852f4c97d7a188e9f7183c85acfc49 & 0x722122df12d4e14e13ac3b6895a86e84145b6967 \\\\\n",
       "\t5 & 0xdd36d585a0d32b4ae6f1790bc4292308e21a42e3 & 0x722122df12d4e14e13ac3b6895a86e84145b6967 \\\\\n",
       "\t6 & 0x28a51fd7b39b49ad4d7813d89e3d4444d79e3ac6 & 0x722122df12d4e14e13ac3b6895a86e84145b6967 \\\\\n",
       "\t7 & 0x49136693081f2c18e2cf14428dd78cd90a22dc1f & 0x722122df12d4e14e13ac3b6895a86e84145b6967 \\\\\n",
       "\t8 & 0x2d50dbcc960bec854227f51f8074e1da28bd4a37 & 0xa160cdab225685da1d56aa342ad8841c3b53f291 \\\\\n",
       "\t9 & 0xb77562124be8ac967cf7fc24573fe252aa39d95d & 0x4736dcf1b7a3d580672cce6e7c65cd5cc9cfba9d \\\\\n",
       "\t10 & 0x0e54db73f82bd9fde34ebce53ea83bd197e9044c & 0x4736dcf1b7a3d580672cce6e7c65cd5cc9cfba9d \\\\\n",
       "\\end{tabular}\n"
      ],
      "text/plain": [
       "\u001b[1m10×2 DataFrame\u001b[0m\n",
       "\u001b[1m Row \u001b[0m│\u001b[1m from_address                      \u001b[0m\u001b[1m to_address                        \u001b[0m\n",
       "\u001b[1m     \u001b[0m│\u001b[90m String                            \u001b[0m\u001b[90m String                            \u001b[0m\n",
       "─────┼──────────────────────────────────────────────────────────────────────\n",
       "   1 │ 0xb050dec5a9010f8b77a3962369b7bc…  0x4736dcf1b7a3d580672cce6e7c65cd…\n",
       "   2 │ 0x6e92bc493c6abbdd6a1b18416f003d…  0x4736dcf1b7a3d580672cce6e7c65cd…\n",
       "   3 │ 0xbe4d1e137a24af091be80ae58d6522…  0x722122df12d4e14e13ac3b6895a86e…\n",
       "   4 │ 0x20bb3095a4852f4c97d7a188e9f718…  0x722122df12d4e14e13ac3b6895a86e…\n",
       "   5 │ 0xdd36d585a0d32b4ae6f1790bc42923…  0x722122df12d4e14e13ac3b6895a86e…\n",
       "   6 │ 0x28a51fd7b39b49ad4d7813d89e3d44…  0x722122df12d4e14e13ac3b6895a86e…\n",
       "   7 │ 0x49136693081f2c18e2cf14428dd78c…  0x722122df12d4e14e13ac3b6895a86e…\n",
       "   8 │ 0x2d50dbcc960bec854227f51f8074e1…  0xa160cdab225685da1d56aa342ad884…\n",
       "   9 │ 0xb77562124be8ac967cf7fc24573fe2…  0x4736dcf1b7a3d580672cce6e7c65cd…\n",
       "  10 │ 0x0e54db73f82bd9fde34ebce53ea83b…  0x4736dcf1b7a3d580672cce6e7c65cd…"
      ]
     },
     "execution_count": 29,
     "metadata": {},
     "output_type": "execute_result"
    }
   ],
   "source": [
    "first(address_pairs, 10)"
   ]
  },
  {
   "cell_type": "code",
   "execution_count": 48,
   "id": "e330468f",
   "metadata": {},
   "outputs": [
    {
     "data": {
      "text/plain": [
       "same_addresses (generic function with 1 method)"
      ]
     },
     "execution_count": 48,
     "metadata": {},
     "output_type": "execute_result"
    }
   ],
   "source": [
    "# Receives a DataFrame with the transactions and an array with the tornado addresses.\n",
    "# Returns an array with the compromised addresses\n",
    "function same_addresses(transactions_df, tornado_addresses)\n",
    "    unique_deposit_addresses = filter(addr -> addr ∉ tornado_addresses, unique(transactions_df[!,\"from_address\"]))\n",
    "    unique_withdrawal_addresses = filter(addr -> addr ∉ tornado_addresses, unique(transactions_df[!,\"to_address\"]))\n",
    "    compromised_addresses = []\n",
    "    for address in unique_deposit_addresses\n",
    "        if address in unique_withdrawal_addresses\n",
    "            push!(compromised_addresses, address)\n",
    "            println(\"The address $address is compromised!\")\n",
    "        end\n",
    "    end\n",
    "    compromised_addresses\n",
    "end"
   ]
  },
  {
   "cell_type": "code",
   "execution_count": 50,
   "id": "03870443",
   "metadata": {},
   "outputs": [
    {
     "data": {
      "text/plain": [
       "Any[]"
      ]
     },
     "execution_count": 50,
     "metadata": {},
     "output_type": "execute_result"
    }
   ],
   "source": [
    "same_addresses(transactions_df, tornado_addr)"
   ]
  },
  {
   "cell_type": "code",
   "execution_count": null,
   "id": "ba018973",
   "metadata": {},
   "outputs": [],
   "source": []
  }
 ],
 "metadata": {
  "kernelspec": {
   "display_name": "Julia 1.6.0",
   "language": "julia",
   "name": "julia-1.6"
  },
  "language_info": {
   "file_extension": ".jl",
   "mimetype": "application/julia",
   "name": "julia",
   "version": "1.6.0"
  }
 },
 "nbformat": 4,
 "nbformat_minor": 5
}
