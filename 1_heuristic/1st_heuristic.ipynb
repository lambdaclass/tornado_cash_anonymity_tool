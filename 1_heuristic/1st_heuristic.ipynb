{
 "cells": [
  {
   "cell_type": "code",
   "execution_count": 3,
   "id": "6f5a8ba4",
   "metadata": {},
   "outputs": [],
   "source": [
    "using DataFrames\n",
    "using CSV"
   ]
  },
  {
   "cell_type": "code",
   "execution_count": 25,
   "id": "9a2f1900",
   "metadata": {},
   "outputs": [],
   "source": [
    "# We load the tornado transactions data\n",
    "transactions_df = CSV.read(\"../data/tornado_transactions_truncated.csv\", DataFrame);"
   ]
  },
  {
   "cell_type": "code",
   "execution_count": 26,
   "id": "99931cf9",
   "metadata": {},
   "outputs": [
    {
     "data": {
      "text/html": [
       "<div class=\"data-frame\"><p>10 rows × 21 columns (omitted printing of 18 columns)</p><table class=\"data-frame\"><thead><tr><th></th><th>hash</th><th>nonce</th><th>transaction_index</th></tr><tr><th></th><th title=\"String\">String</th><th title=\"Int64\">Int64</th><th title=\"Int64\">Int64</th></tr></thead><tbody><tr><th>1</th><td>0xcf97c470a56d96625c7240d3004ae2abd9141d7ffc4383ab6f29a181e3562e8b</td><td>4</td><td>10</td></tr><tr><th>2</th><td>0x2fadc4d54bf6e3ec5035f14c0096befe92999866309893e0eeaecdef955c0323</td><td>22</td><td>118</td></tr><tr><th>3</th><td>0x9a2584e229b27d3bb87537e4cc4fb7b7cc085f9687742fd5a014bdad2a7f801e</td><td>6782</td><td>95</td></tr><tr><th>4</th><td>0x2b40673c95b759b0967ac50185fe5691554819ac7e11ff69fc6972a6e4eb0d50</td><td>1748</td><td>185</td></tr><tr><th>5</th><td>0x34478d48b83ce20881013312c6edf130573e561aa0c69c75b09dbb02ba641c97</td><td>1963</td><td>88</td></tr><tr><th>6</th><td>0x532078c03eabcffce384d1aae7aa0444b1348eccbdd370b744d9db0206000af4</td><td>1276</td><td>164</td></tr><tr><th>7</th><td>0xbf1d3100b2cb759e43aadd8777b08696144918b6402aaa4f3d850d470cc67490</td><td>2482</td><td>102</td></tr><tr><th>8</th><td>0x3dc8617176f45c0f33a95589c202b22f9ba8aa7067bb92887517e20b237907e3</td><td>789</td><td>196</td></tr><tr><th>9</th><td>0x3199144ba98021e523c5ec1e4f4dcf64446d69b825da7251d2d2a0a794038d0d</td><td>9</td><td>190</td></tr><tr><th>10</th><td>0x95a46a1305ddc8b7e01d82c7d6766fce4713c085929f70c9a24e90f927672699</td><td>2</td><td>81</td></tr></tbody></table></div>"
      ],
      "text/latex": [
       "\\begin{tabular}{r|cccc}\n",
       "\t& hash & nonce & transaction\\_index & \\\\\n",
       "\t\\hline\n",
       "\t& String & Int64 & Int64 & \\\\\n",
       "\t\\hline\n",
       "\t1 & 0xcf97c470a56d96625c7240d3004ae2abd9141d7ffc4383ab6f29a181e3562e8b & 4 & 10 & $\\dots$ \\\\\n",
       "\t2 & 0x2fadc4d54bf6e3ec5035f14c0096befe92999866309893e0eeaecdef955c0323 & 22 & 118 & $\\dots$ \\\\\n",
       "\t3 & 0x9a2584e229b27d3bb87537e4cc4fb7b7cc085f9687742fd5a014bdad2a7f801e & 6782 & 95 & $\\dots$ \\\\\n",
       "\t4 & 0x2b40673c95b759b0967ac50185fe5691554819ac7e11ff69fc6972a6e4eb0d50 & 1748 & 185 & $\\dots$ \\\\\n",
       "\t5 & 0x34478d48b83ce20881013312c6edf130573e561aa0c69c75b09dbb02ba641c97 & 1963 & 88 & $\\dots$ \\\\\n",
       "\t6 & 0x532078c03eabcffce384d1aae7aa0444b1348eccbdd370b744d9db0206000af4 & 1276 & 164 & $\\dots$ \\\\\n",
       "\t7 & 0xbf1d3100b2cb759e43aadd8777b08696144918b6402aaa4f3d850d470cc67490 & 2482 & 102 & $\\dots$ \\\\\n",
       "\t8 & 0x3dc8617176f45c0f33a95589c202b22f9ba8aa7067bb92887517e20b237907e3 & 789 & 196 & $\\dots$ \\\\\n",
       "\t9 & 0x3199144ba98021e523c5ec1e4f4dcf64446d69b825da7251d2d2a0a794038d0d & 9 & 190 & $\\dots$ \\\\\n",
       "\t10 & 0x95a46a1305ddc8b7e01d82c7d6766fce4713c085929f70c9a24e90f927672699 & 2 & 81 & $\\dots$ \\\\\n",
       "\\end{tabular}\n"
      ],
      "text/plain": [
       "\u001b[1m10×21 DataFrame\u001b[0m\n",
       "\u001b[1m Row \u001b[0m│\u001b[1m hash                              \u001b[0m\u001b[1m nonce \u001b[0m\u001b[1m transaction_index \u001b[0m\u001b[1m from_addre\u001b[0m ⋯\n",
       "\u001b[1m     \u001b[0m│\u001b[90m String                            \u001b[0m\u001b[90m Int64 \u001b[0m\u001b[90m Int64             \u001b[0m\u001b[90m String    \u001b[0m ⋯\n",
       "─────┼──────────────────────────────────────────────────────────────────────────\n",
       "   1 │ 0xcf97c470a56d96625c7240d3004ae2…      4                 10  0xb050dec5 ⋯\n",
       "   2 │ 0x2fadc4d54bf6e3ec5035f14c0096be…     22                118  0x6e92bc49\n",
       "   3 │ 0x9a2584e229b27d3bb87537e4cc4fb7…   6782                 95  0xbe4d1e13\n",
       "   4 │ 0x2b40673c95b759b0967ac50185fe56…   1748                185  0x20bb3095\n",
       "   5 │ 0x34478d48b83ce20881013312c6edf1…   1963                 88  0xdd36d585 ⋯\n",
       "   6 │ 0x532078c03eabcffce384d1aae7aa04…   1276                164  0x28a51fd7\n",
       "   7 │ 0xbf1d3100b2cb759e43aadd8777b086…   2482                102  0x49136693\n",
       "   8 │ 0x3dc8617176f45c0f33a95589c202b2…    789                196  0x2d50dbcc\n",
       "   9 │ 0x3199144ba98021e523c5ec1e4f4dcf…      9                190  0xb7756212 ⋯\n",
       "  10 │ 0x95a46a1305ddc8b7e01d82c7d6766f…      2                 81  0x0e54db73\n",
       "\u001b[36m                                                              18 columns omitted\u001b[0m"
      ]
     },
     "execution_count": 26,
     "metadata": {},
     "output_type": "execute_result"
    }
   ],
   "source": [
    "# View of first rows of the DataFrame\n",
    "first(transactions_df, 10)"
   ]
  },
  {
   "cell_type": "code",
   "execution_count": 27,
   "id": "5157dead",
   "metadata": {},
   "outputs": [
    {
     "data": {
      "text/plain": [
       "21-element Vector{String}:\n",
       " \"hash\"\n",
       " \"nonce\"\n",
       " \"transaction_index\"\n",
       " \"from_address\"\n",
       " \"to_address\"\n",
       " \"value\"\n",
       " \"gas\"\n",
       " \"gas_price\"\n",
       " \"input\"\n",
       " \"receipt_cumulative_gas_used\"\n",
       " \"receipt_gas_used\"\n",
       " \"receipt_contract_address\"\n",
       " \"receipt_root\"\n",
       " \"receipt_status\"\n",
       " \"block_timestamp\"\n",
       " \"block_number\"\n",
       " \"block_hash\"\n",
       " \"max_fee_per_gas\"\n",
       " \"max_priority_fee_per_gas\"\n",
       " \"transaction_type\"\n",
       " \"receipt_effective_gas_price\""
      ]
     },
     "execution_count": 27,
     "metadata": {},
     "output_type": "execute_result"
    }
   ],
   "source": [
    "names(transactions_df)"
   ]
  },
  {
   "cell_type": "code",
   "execution_count": 28,
   "id": "cbf1a4e2",
   "metadata": {},
   "outputs": [],
   "source": [
    "# A DataFrame with only the addresses data of transactions.\n",
    "address_pairs = select(transactions_df, :from_address, :to_address);"
   ]
  },
  {
   "cell_type": "code",
   "execution_count": 29,
   "id": "8bd32eb0",
   "metadata": {},
   "outputs": [
    {
     "data": {
      "text/html": [
       "<div class=\"data-frame\"><p>10 rows × 2 columns</p><table class=\"data-frame\"><thead><tr><th></th><th>from_address</th><th>to_address</th></tr><tr><th></th><th title=\"String\">String</th><th title=\"String\">String</th></tr></thead><tbody><tr><th>1</th><td>0xb050dec5a9010f8b77a3962369b7bc737d3ed4a5</td><td>0x4736dcf1b7a3d580672cce6e7c65cd5cc9cfba9d</td></tr><tr><th>2</th><td>0x6e92bc493c6abbdd6a1b18416f003de2c873ab50</td><td>0x4736dcf1b7a3d580672cce6e7c65cd5cc9cfba9d</td></tr><tr><th>3</th><td>0xbe4d1e137a24af091be80ae58d652279665e3a27</td><td>0x722122df12d4e14e13ac3b6895a86e84145b6967</td></tr><tr><th>4</th><td>0x20bb3095a4852f4c97d7a188e9f7183c85acfc49</td><td>0x722122df12d4e14e13ac3b6895a86e84145b6967</td></tr><tr><th>5</th><td>0xdd36d585a0d32b4ae6f1790bc4292308e21a42e3</td><td>0x722122df12d4e14e13ac3b6895a86e84145b6967</td></tr><tr><th>6</th><td>0x28a51fd7b39b49ad4d7813d89e3d4444d79e3ac6</td><td>0x722122df12d4e14e13ac3b6895a86e84145b6967</td></tr><tr><th>7</th><td>0x49136693081f2c18e2cf14428dd78cd90a22dc1f</td><td>0x722122df12d4e14e13ac3b6895a86e84145b6967</td></tr><tr><th>8</th><td>0x2d50dbcc960bec854227f51f8074e1da28bd4a37</td><td>0xa160cdab225685da1d56aa342ad8841c3b53f291</td></tr><tr><th>9</th><td>0xb77562124be8ac967cf7fc24573fe252aa39d95d</td><td>0x4736dcf1b7a3d580672cce6e7c65cd5cc9cfba9d</td></tr><tr><th>10</th><td>0x0e54db73f82bd9fde34ebce53ea83bd197e9044c</td><td>0x4736dcf1b7a3d580672cce6e7c65cd5cc9cfba9d</td></tr></tbody></table></div>"
      ],
      "text/latex": [
       "\\begin{tabular}{r|cc}\n",
       "\t& from\\_address & to\\_address\\\\\n",
       "\t\\hline\n",
       "\t& String & String\\\\\n",
       "\t\\hline\n",
       "\t1 & 0xb050dec5a9010f8b77a3962369b7bc737d3ed4a5 & 0x4736dcf1b7a3d580672cce6e7c65cd5cc9cfba9d \\\\\n",
       "\t2 & 0x6e92bc493c6abbdd6a1b18416f003de2c873ab50 & 0x4736dcf1b7a3d580672cce6e7c65cd5cc9cfba9d \\\\\n",
       "\t3 & 0xbe4d1e137a24af091be80ae58d652279665e3a27 & 0x722122df12d4e14e13ac3b6895a86e84145b6967 \\\\\n",
       "\t4 & 0x20bb3095a4852f4c97d7a188e9f7183c85acfc49 & 0x722122df12d4e14e13ac3b6895a86e84145b6967 \\\\\n",
       "\t5 & 0xdd36d585a0d32b4ae6f1790bc4292308e21a42e3 & 0x722122df12d4e14e13ac3b6895a86e84145b6967 \\\\\n",
       "\t6 & 0x28a51fd7b39b49ad4d7813d89e3d4444d79e3ac6 & 0x722122df12d4e14e13ac3b6895a86e84145b6967 \\\\\n",
       "\t7 & 0x49136693081f2c18e2cf14428dd78cd90a22dc1f & 0x722122df12d4e14e13ac3b6895a86e84145b6967 \\\\\n",
       "\t8 & 0x2d50dbcc960bec854227f51f8074e1da28bd4a37 & 0xa160cdab225685da1d56aa342ad8841c3b53f291 \\\\\n",
       "\t9 & 0xb77562124be8ac967cf7fc24573fe252aa39d95d & 0x4736dcf1b7a3d580672cce6e7c65cd5cc9cfba9d \\\\\n",
       "\t10 & 0x0e54db73f82bd9fde34ebce53ea83bd197e9044c & 0x4736dcf1b7a3d580672cce6e7c65cd5cc9cfba9d \\\\\n",
       "\\end{tabular}\n"
      ],
      "text/plain": [
       "\u001b[1m10×2 DataFrame\u001b[0m\n",
       "\u001b[1m Row \u001b[0m│\u001b[1m from_address                      \u001b[0m\u001b[1m to_address                        \u001b[0m\n",
       "\u001b[1m     \u001b[0m│\u001b[90m String                            \u001b[0m\u001b[90m String                            \u001b[0m\n",
       "─────┼──────────────────────────────────────────────────────────────────────\n",
       "   1 │ 0xb050dec5a9010f8b77a3962369b7bc…  0x4736dcf1b7a3d580672cce6e7c65cd…\n",
       "   2 │ 0x6e92bc493c6abbdd6a1b18416f003d…  0x4736dcf1b7a3d580672cce6e7c65cd…\n",
       "   3 │ 0xbe4d1e137a24af091be80ae58d6522…  0x722122df12d4e14e13ac3b6895a86e…\n",
       "   4 │ 0x20bb3095a4852f4c97d7a188e9f718…  0x722122df12d4e14e13ac3b6895a86e…\n",
       "   5 │ 0xdd36d585a0d32b4ae6f1790bc42923…  0x722122df12d4e14e13ac3b6895a86e…\n",
       "   6 │ 0x28a51fd7b39b49ad4d7813d89e3d44…  0x722122df12d4e14e13ac3b6895a86e…\n",
       "   7 │ 0x49136693081f2c18e2cf14428dd78c…  0x722122df12d4e14e13ac3b6895a86e…\n",
       "   8 │ 0x2d50dbcc960bec854227f51f8074e1…  0xa160cdab225685da1d56aa342ad884…\n",
       "   9 │ 0xb77562124be8ac967cf7fc24573fe2…  0x4736dcf1b7a3d580672cce6e7c65cd…\n",
       "  10 │ 0x0e54db73f82bd9fde34ebce53ea83b…  0x4736dcf1b7a3d580672cce6e7c65cd…"
      ]
     },
     "execution_count": 29,
     "metadata": {},
     "output_type": "execute_result"
    }
   ],
   "source": [
    "first(address_pairs, 10)"
   ]
  },
  {
   "cell_type": "code",
   "execution_count": 52,
   "id": "21224f98",
   "metadata": {},
   "outputs": [
    {
     "data": {
      "text/plain": [
       "analyze_same_address (generic function with 1 method)"
      ]
     },
     "execution_count": 52,
     "metadata": {},
     "output_type": "execute_result"
    }
   ],
   "source": [
    "# Function definitions for the first heuristic\n",
    "\n",
    "# Receives a deposit address and a withdraw address and checks if they are the same.\n",
    "# If they are, the address is returned.\n",
    "function same_addresses(deposit_address, withdraw_address)\n",
    "    if deposit_address == withdraw_address\n",
    "        println(\"Address $(deposit_address)'s privacy is compromised\")\n",
    "        (true, deposit_address)\n",
    "    else\n",
    "        (false, :nothing)\n",
    "    end\n",
    "end\n",
    "\n",
    "# Receives a DataFrame with all the transactions, and the column names for de deposit address\n",
    "# and withdraw address. Returns an array with all the compromised addresses.\n",
    "function analyze_same_address(DataFrame, deposit_address_column, withdraw_address_column)\n",
    "    compromised_addresses = []\n",
    "    for row in eachrow(DataFrame)\n",
    "        has_same_address = same_addresses(row[deposit_address_column], row[withdraw_address_column])\n",
    "        if has_same_address[1]\n",
    "            push!(compromised_addresses, has_same_address[2])\n",
    "        end\n",
    "    end\n",
    "    compromised_addresses\n",
    "end"
   ]
  },
  {
   "cell_type": "code",
   "execution_count": 47,
   "id": "ba519b8d",
   "metadata": {},
   "outputs": [
    {
     "data": {
      "text/plain": [
       "Any[]"
      ]
     },
     "execution_count": 47,
     "metadata": {},
     "output_type": "execute_result"
    }
   ],
   "source": [
    "analyze_same_address(df, :from_address, :to_address)"
   ]
  },
  {
   "cell_type": "code",
   "execution_count": null,
   "id": "c7aa9607",
   "metadata": {},
   "outputs": [],
   "source": []
  }
 ],
 "metadata": {
  "kernelspec": {
   "display_name": "Julia 1.6.0",
   "language": "julia",
   "name": "julia-1.6"
  },
  "language_info": {
   "file_extension": ".jl",
   "mimetype": "application/julia",
   "name": "julia",
   "version": "1.6.0"
  }
 },
 "nbformat": 4,
 "nbformat_minor": 5
}
