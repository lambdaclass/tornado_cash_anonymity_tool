{
 "cells": [
  {
   "cell_type": "code",
   "execution_count": 1,
   "id": "9593e11c",
   "metadata": {},
   "outputs": [],
   "source": [
    "using DataFrames\n",
    "using CSV"
   ]
  },
  {
   "cell_type": "code",
   "execution_count": 2,
   "id": "c60a695e",
   "metadata": {},
   "outputs": [],
   "source": [
    "# We load the tornado transactions data\n",
    "transactions_df = CSV.read(\"../data/tornado_transactions_truncated.csv\", DataFrame);"
   ]
  },
  {
   "cell_type": "code",
   "execution_count": null,
   "id": "45ded278",
   "metadata": {},
   "outputs": [],
   "source": [
    "# View of first rows of the DataFrame\n",
    "first(transactions_df, 10)"
   ]
  },
  {
   "cell_type": "code",
   "execution_count": 27,
   "id": "c5840fa0",
   "metadata": {},
   "outputs": [
    {
     "data": {
      "text/plain": [
       "21-element Vector{String}:\n",
       " \"hash\"\n",
       " \"nonce\"\n",
       " \"transaction_index\"\n",
       " \"from_address\"\n",
       " \"to_address\"\n",
       " \"value\"\n",
       " \"gas\"\n",
       " \"gas_price\"\n",
       " \"input\"\n",
       " \"receipt_cumulative_gas_used\"\n",
       " \"receipt_gas_used\"\n",
       " \"receipt_contract_address\"\n",
       " \"receipt_root\"\n",
       " \"receipt_status\"\n",
       " \"block_timestamp\"\n",
       " \"block_number\"\n",
       " \"block_hash\"\n",
       " \"max_fee_per_gas\"\n",
       " \"max_priority_fee_per_gas\"\n",
       " \"transaction_type\"\n",
       " \"receipt_effective_gas_price\""
      ]
     },
     "execution_count": 27,
     "metadata": {},
     "output_type": "execute_result"
    }
   ],
   "source": [
    "names(transactions_df)"
   ]
  },
  {
   "cell_type": "code",
   "execution_count": 28,
   "id": "42e54523",
   "metadata": {},
   "outputs": [],
   "source": [
    "# A DataFrame with only the addresses data of transactions.\n",
    "address_pairs = select(transactions_df, :from_address, :to_address);"
   ]
  },
  {
   "cell_type": "code",
   "execution_count": 29,
   "id": "c2989aae",
   "metadata": {},
   "outputs": [
    {
     "data": {
      "text/html": [
       "<div class=\"data-frame\"><p>10 rows × 2 columns</p><table class=\"data-frame\"><thead><tr><th></th><th>from_address</th><th>to_address</th></tr><tr><th></th><th title=\"String\">String</th><th title=\"String\">String</th></tr></thead><tbody><tr><th>1</th><td>0xb050dec5a9010f8b77a3962369b7bc737d3ed4a5</td><td>0x4736dcf1b7a3d580672cce6e7c65cd5cc9cfba9d</td></tr><tr><th>2</th><td>0x6e92bc493c6abbdd6a1b18416f003de2c873ab50</td><td>0x4736dcf1b7a3d580672cce6e7c65cd5cc9cfba9d</td></tr><tr><th>3</th><td>0xbe4d1e137a24af091be80ae58d652279665e3a27</td><td>0x722122df12d4e14e13ac3b6895a86e84145b6967</td></tr><tr><th>4</th><td>0x20bb3095a4852f4c97d7a188e9f7183c85acfc49</td><td>0x722122df12d4e14e13ac3b6895a86e84145b6967</td></tr><tr><th>5</th><td>0xdd36d585a0d32b4ae6f1790bc4292308e21a42e3</td><td>0x722122df12d4e14e13ac3b6895a86e84145b6967</td></tr><tr><th>6</th><td>0x28a51fd7b39b49ad4d7813d89e3d4444d79e3ac6</td><td>0x722122df12d4e14e13ac3b6895a86e84145b6967</td></tr><tr><th>7</th><td>0x49136693081f2c18e2cf14428dd78cd90a22dc1f</td><td>0x722122df12d4e14e13ac3b6895a86e84145b6967</td></tr><tr><th>8</th><td>0x2d50dbcc960bec854227f51f8074e1da28bd4a37</td><td>0xa160cdab225685da1d56aa342ad8841c3b53f291</td></tr><tr><th>9</th><td>0xb77562124be8ac967cf7fc24573fe252aa39d95d</td><td>0x4736dcf1b7a3d580672cce6e7c65cd5cc9cfba9d</td></tr><tr><th>10</th><td>0x0e54db73f82bd9fde34ebce53ea83bd197e9044c</td><td>0x4736dcf1b7a3d580672cce6e7c65cd5cc9cfba9d</td></tr></tbody></table></div>"
      ],
      "text/latex": [
       "\\begin{tabular}{r|cc}\n",
       "\t& from\\_address & to\\_address\\\\\n",
       "\t\\hline\n",
       "\t& String & String\\\\\n",
       "\t\\hline\n",
       "\t1 & 0xb050dec5a9010f8b77a3962369b7bc737d3ed4a5 & 0x4736dcf1b7a3d580672cce6e7c65cd5cc9cfba9d \\\\\n",
       "\t2 & 0x6e92bc493c6abbdd6a1b18416f003de2c873ab50 & 0x4736dcf1b7a3d580672cce6e7c65cd5cc9cfba9d \\\\\n",
       "\t3 & 0xbe4d1e137a24af091be80ae58d652279665e3a27 & 0x722122df12d4e14e13ac3b6895a86e84145b6967 \\\\\n",
       "\t4 & 0x20bb3095a4852f4c97d7a188e9f7183c85acfc49 & 0x722122df12d4e14e13ac3b6895a86e84145b6967 \\\\\n",
       "\t5 & 0xdd36d585a0d32b4ae6f1790bc4292308e21a42e3 & 0x722122df12d4e14e13ac3b6895a86e84145b6967 \\\\\n",
       "\t6 & 0x28a51fd7b39b49ad4d7813d89e3d4444d79e3ac6 & 0x722122df12d4e14e13ac3b6895a86e84145b6967 \\\\\n",
       "\t7 & 0x49136693081f2c18e2cf14428dd78cd90a22dc1f & 0x722122df12d4e14e13ac3b6895a86e84145b6967 \\\\\n",
       "\t8 & 0x2d50dbcc960bec854227f51f8074e1da28bd4a37 & 0xa160cdab225685da1d56aa342ad8841c3b53f291 \\\\\n",
       "\t9 & 0xb77562124be8ac967cf7fc24573fe252aa39d95d & 0x4736dcf1b7a3d580672cce6e7c65cd5cc9cfba9d \\\\\n",
       "\t10 & 0x0e54db73f82bd9fde34ebce53ea83bd197e9044c & 0x4736dcf1b7a3d580672cce6e7c65cd5cc9cfba9d \\\\\n",
       "\\end{tabular}\n"
      ],
      "text/plain": [
       "\u001b[1m10×2 DataFrame\u001b[0m\n",
       "\u001b[1m Row \u001b[0m│\u001b[1m from_address                      \u001b[0m\u001b[1m to_address                        \u001b[0m\n",
       "\u001b[1m     \u001b[0m│\u001b[90m String                            \u001b[0m\u001b[90m String                            \u001b[0m\n",
       "─────┼──────────────────────────────────────────────────────────────────────\n",
       "   1 │ 0xb050dec5a9010f8b77a3962369b7bc…  0x4736dcf1b7a3d580672cce6e7c65cd…\n",
       "   2 │ 0x6e92bc493c6abbdd6a1b18416f003d…  0x4736dcf1b7a3d580672cce6e7c65cd…\n",
       "   3 │ 0xbe4d1e137a24af091be80ae58d6522…  0x722122df12d4e14e13ac3b6895a86e…\n",
       "   4 │ 0x20bb3095a4852f4c97d7a188e9f718…  0x722122df12d4e14e13ac3b6895a86e…\n",
       "   5 │ 0xdd36d585a0d32b4ae6f1790bc42923…  0x722122df12d4e14e13ac3b6895a86e…\n",
       "   6 │ 0x28a51fd7b39b49ad4d7813d89e3d44…  0x722122df12d4e14e13ac3b6895a86e…\n",
       "   7 │ 0x49136693081f2c18e2cf14428dd78c…  0x722122df12d4e14e13ac3b6895a86e…\n",
       "   8 │ 0x2d50dbcc960bec854227f51f8074e1…  0xa160cdab225685da1d56aa342ad884…\n",
       "   9 │ 0xb77562124be8ac967cf7fc24573fe2…  0x4736dcf1b7a3d580672cce6e7c65cd…\n",
       "  10 │ 0x0e54db73f82bd9fde34ebce53ea83b…  0x4736dcf1b7a3d580672cce6e7c65cd…"
      ]
     },
     "execution_count": 29,
     "metadata": {},
     "output_type": "execute_result"
    }
   ],
   "source": [
    "first(address_pairs, 10)"
   ]
  },
  {
   "cell_type": "code",
   "execution_count": 57,
   "id": "fb7ebe21",
   "metadata": {},
   "outputs": [
    {
     "data": {
      "text/plain": [
       "analyze_same_address (generic function with 2 methods)"
      ]
     },
     "execution_count": 57,
     "metadata": {},
     "output_type": "execute_result"
    }
   ],
   "source": [
    "# Function definitions for the first heuristic\n",
    "\n",
    "# Receives a deposit address and a withdraw address and checks if they are the same.\n",
    "# If they are, the address is returned.\n",
    "function same_addresses(deposit_address, withdraw_address)\n",
    "    if deposit_address == withdraw_address\n",
    "        println(\"Address $(withdraw_address)'s privacy is compromised\")\n",
    "        true\n",
    "    else\n",
    "        false\n",
    "    end\n",
    "end\n",
    "\n",
    "# Receives a DataFrame with all the transactions, and the column names for the deposit address\n",
    "# and withdraw address. Returns an array with all the compromised addresses.\n",
    "function analyze_same_address(DataFrame, deposit_address_column, withdraw_address_column, timestamp_column)\n",
    "    addresses_and_timestamps = []\n",
    "    for row in eachrow(DataFrame)\n",
    "        has_same_address = same_addresses(row[deposit_address_column], row[withdraw_address_column])\n",
    "        if same_addresses(row[deposit_address_column], row[withdraw_address_column])\n",
    "            push!(addresses_and_timestamps, (row[withdraw_address_column], row[timetstamp_column]))\n",
    "        end\n",
    "    end\n",
    "    addresses_and_timestamps\n",
    "end"
   ]
  },
  {
   "cell_type": "code",
   "execution_count": 58,
   "id": "ea0866df",
   "metadata": {},
   "outputs": [
    {
     "data": {
      "text/plain": [
       "Any[]"
      ]
     },
     "execution_count": 58,
     "metadata": {},
     "output_type": "execute_result"
    }
   ],
   "source": [
    "analyze_same_address(df, :from_address, :to_address, :timestamp_column)"
   ]
  },
  {
   "cell_type": "code",
   "execution_count": null,
   "id": "e61ffdc5",
   "metadata": {},
   "outputs": [],
   "source": []
  }
 ],
 "metadata": {
  "kernelspec": {
   "display_name": "Julia 1.6.0",
   "language": "julia",
   "name": "julia-1.6"
  },
  "language_info": {
   "file_extension": ".jl",
   "mimetype": "application/julia",
   "name": "julia",
   "version": "1.6.0"
  }
 },
 "nbformat": 4,
 "nbformat_minor": 5
}
