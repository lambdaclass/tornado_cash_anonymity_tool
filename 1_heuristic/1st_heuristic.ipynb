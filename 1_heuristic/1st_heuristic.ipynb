{
 "cells": [
  {
   "cell_type": "code",
   "execution_count": 148,
   "id": "9593e11c",
   "metadata": {},
   "outputs": [
    {
     "name": "stderr",
     "output_type": "stream",
     "text": [
      "\u001b[32m\u001b[1m  Activating\u001b[22m\u001b[39m environment at `~/tornado_cash_anonymity_tool/Project.toml`\n"
     ]
    }
   ],
   "source": [
    "using Pkg; Pkg.activate(\"../.\")\n",
    "using DataFrames\n",
    "using CSV\n",
    "using Dates"
   ]
  },
  {
   "cell_type": "code",
   "execution_count": 149,
   "id": "c60a695e",
   "metadata": {},
   "outputs": [],
   "source": [
    "# We load the tornado transactions data\n",
    "transactions_df = CSV.read(\"../data/tornado_transactions_truncated.csv\", DataFrame)\n",
    "tornado_addresses = CSV.read(\"../data/tornadocontracts.csv\", DataFrame, header=[\"Address\", \"Currency\", \"3\", \"4\"])[!, \"Address\"];"
   ]
  },
  {
   "cell_type": "code",
   "execution_count": 150,
   "id": "45ded278",
   "metadata": {
    "scrolled": true
   },
   "outputs": [
    {
     "data": {
      "text/html": [
       "<div class=\"data-frame\"><p>10 rows × 21 columns (omitted printing of 18 columns)</p><table class=\"data-frame\"><thead><tr><th></th><th>hash</th><th>nonce</th><th>transaction_index</th></tr><tr><th></th><th title=\"String\">String</th><th title=\"Int64\">Int64</th><th title=\"Int64\">Int64</th></tr></thead><tbody><tr><th>1</th><td>0xcf97c470a56d96625c7240d3004ae2abd9141d7ffc4383ab6f29a181e3562e8b</td><td>4</td><td>10</td></tr><tr><th>2</th><td>0x2fadc4d54bf6e3ec5035f14c0096befe92999866309893e0eeaecdef955c0323</td><td>22</td><td>118</td></tr><tr><th>3</th><td>0x9a2584e229b27d3bb87537e4cc4fb7b7cc085f9687742fd5a014bdad2a7f801e</td><td>6782</td><td>95</td></tr><tr><th>4</th><td>0x2b40673c95b759b0967ac50185fe5691554819ac7e11ff69fc6972a6e4eb0d50</td><td>1748</td><td>185</td></tr><tr><th>5</th><td>0x34478d48b83ce20881013312c6edf130573e561aa0c69c75b09dbb02ba641c97</td><td>1963</td><td>88</td></tr><tr><th>6</th><td>0x532078c03eabcffce384d1aae7aa0444b1348eccbdd370b744d9db0206000af4</td><td>1276</td><td>164</td></tr><tr><th>7</th><td>0xbf1d3100b2cb759e43aadd8777b08696144918b6402aaa4f3d850d470cc67490</td><td>2482</td><td>102</td></tr><tr><th>8</th><td>0x3dc8617176f45c0f33a95589c202b22f9ba8aa7067bb92887517e20b237907e3</td><td>789</td><td>196</td></tr><tr><th>9</th><td>0x3199144ba98021e523c5ec1e4f4dcf64446d69b825da7251d2d2a0a794038d0d</td><td>9</td><td>190</td></tr><tr><th>10</th><td>0x95a46a1305ddc8b7e01d82c7d6766fce4713c085929f70c9a24e90f927672699</td><td>2</td><td>81</td></tr></tbody></table></div>"
      ],
      "text/latex": [
       "\\begin{tabular}{r|cccc}\n",
       "\t& hash & nonce & transaction\\_index & \\\\\n",
       "\t\\hline\n",
       "\t& String & Int64 & Int64 & \\\\\n",
       "\t\\hline\n",
       "\t1 & 0xcf97c470a56d96625c7240d3004ae2abd9141d7ffc4383ab6f29a181e3562e8b & 4 & 10 & $\\dots$ \\\\\n",
       "\t2 & 0x2fadc4d54bf6e3ec5035f14c0096befe92999866309893e0eeaecdef955c0323 & 22 & 118 & $\\dots$ \\\\\n",
       "\t3 & 0x9a2584e229b27d3bb87537e4cc4fb7b7cc085f9687742fd5a014bdad2a7f801e & 6782 & 95 & $\\dots$ \\\\\n",
       "\t4 & 0x2b40673c95b759b0967ac50185fe5691554819ac7e11ff69fc6972a6e4eb0d50 & 1748 & 185 & $\\dots$ \\\\\n",
       "\t5 & 0x34478d48b83ce20881013312c6edf130573e561aa0c69c75b09dbb02ba641c97 & 1963 & 88 & $\\dots$ \\\\\n",
       "\t6 & 0x532078c03eabcffce384d1aae7aa0444b1348eccbdd370b744d9db0206000af4 & 1276 & 164 & $\\dots$ \\\\\n",
       "\t7 & 0xbf1d3100b2cb759e43aadd8777b08696144918b6402aaa4f3d850d470cc67490 & 2482 & 102 & $\\dots$ \\\\\n",
       "\t8 & 0x3dc8617176f45c0f33a95589c202b22f9ba8aa7067bb92887517e20b237907e3 & 789 & 196 & $\\dots$ \\\\\n",
       "\t9 & 0x3199144ba98021e523c5ec1e4f4dcf64446d69b825da7251d2d2a0a794038d0d & 9 & 190 & $\\dots$ \\\\\n",
       "\t10 & 0x95a46a1305ddc8b7e01d82c7d6766fce4713c085929f70c9a24e90f927672699 & 2 & 81 & $\\dots$ \\\\\n",
       "\\end{tabular}\n"
      ],
      "text/plain": [
       "\u001b[1m10×21 DataFrame\u001b[0m\n",
       "\u001b[1m Row \u001b[0m│\u001b[1m hash                              \u001b[0m\u001b[1m nonce \u001b[0m\u001b[1m transaction_index \u001b[0m\u001b[1m from_addre\u001b[0m ⋯\n",
       "\u001b[1m     \u001b[0m│\u001b[90m String                            \u001b[0m\u001b[90m Int64 \u001b[0m\u001b[90m Int64             \u001b[0m\u001b[90m String    \u001b[0m ⋯\n",
       "─────┼──────────────────────────────────────────────────────────────────────────\n",
       "   1 │ 0xcf97c470a56d96625c7240d3004ae2…      4                 10  0xb050dec5 ⋯\n",
       "   2 │ 0x2fadc4d54bf6e3ec5035f14c0096be…     22                118  0x6e92bc49\n",
       "   3 │ 0x9a2584e229b27d3bb87537e4cc4fb7…   6782                 95  0xbe4d1e13\n",
       "   4 │ 0x2b40673c95b759b0967ac50185fe56…   1748                185  0x20bb3095\n",
       "   5 │ 0x34478d48b83ce20881013312c6edf1…   1963                 88  0xdd36d585 ⋯\n",
       "   6 │ 0x532078c03eabcffce384d1aae7aa04…   1276                164  0x28a51fd7\n",
       "   7 │ 0xbf1d3100b2cb759e43aadd8777b086…   2482                102  0x49136693\n",
       "   8 │ 0x3dc8617176f45c0f33a95589c202b2…    789                196  0x2d50dbcc\n",
       "   9 │ 0x3199144ba98021e523c5ec1e4f4dcf…      9                190  0xb7756212 ⋯\n",
       "  10 │ 0x95a46a1305ddc8b7e01d82c7d6766f…      2                 81  0x0e54db73\n",
       "\u001b[36m                                                              18 columns omitted\u001b[0m"
      ]
     },
     "execution_count": 150,
     "metadata": {},
     "output_type": "execute_result"
    }
   ],
   "source": [
    "# View of first rows of the DataFrame\n",
    "first(transactions_df, 10)"
   ]
  },
  {
   "cell_type": "code",
   "execution_count": 151,
   "id": "21bba9ae",
   "metadata": {},
   "outputs": [
    {
     "data": {
      "text/plain": [
       "19-element Vector{String}:\n",
       " \"0xd4b88df4d29f5cedd6857912842cff3b20c8cfa3\"\n",
       " \"0xfd8610d20aa15b7b2e3be39b396a1bc3516c7144\"\n",
       " \"0x07687e702b410fa43f4cb4af7fa097918ffd2730\"\n",
       " \"0x23773e65ed146a459791799d01336db287f25334\"\n",
       " \"0x12d66f87a04a9e220743712ce6d9bb1b5616b8fc\"\n",
       " \"0x47ce0c6ed5b0ce3d3a51fdb1c52dc66a7c3c2936\"\n",
       " \"0x910cbd523d972eb0a6f4cae4618ad62622b39dbf\"\n",
       " \"0xa160cdab225685da1d56aa342ad8841c3b53f291\"\n",
       " \"0xd96f2b1c14db8458374d9aca76e26c3d18364307\"\n",
       " \"0x4736dcf1b7a3d580672cce6e7c65cd5cc9cfba9d\"\n",
       " \"0x169ad27a470d064dede56a2d3ff727986b15d52b\"\n",
       " \"0x0836222f2b2b24a3f36f98668ed8f0b38d1a872f\"\n",
       " \"0x178169b423a011fff22b9e3f3abea13414ddd0f1\"\n",
       " \"0x610b717796ad172b316836ac95a2ffad065ceab4\"\n",
       " \"0xbb93e510bbcd0b7beb5a853875f9ec60275cf498\"\n",
       " \"0x22aaa7720ddd5388a3c0a3333430953c68f1849b\"\n",
       " \"0x03893a7c7463ae47d46bc7f091665f1893656003\"\n",
       " \"0x2717c5e28cf931547b621a5dddb772ab6a35b701\"\n",
       " \"0xd21be7248e0197ee08e0c20d4a96debdac3d20af\""
      ]
     },
     "execution_count": 151,
     "metadata": {},
     "output_type": "execute_result"
    }
   ],
   "source": [
    "tornado_addresses"
   ]
  },
  {
   "cell_type": "code",
   "execution_count": 152,
   "id": "c5840fa0",
   "metadata": {},
   "outputs": [
    {
     "data": {
      "text/plain": [
       "21-element Vector{String}:\n",
       " \"hash\"\n",
       " \"nonce\"\n",
       " \"transaction_index\"\n",
       " \"from_address\"\n",
       " \"to_address\"\n",
       " \"value\"\n",
       " \"gas\"\n",
       " \"gas_price\"\n",
       " \"input\"\n",
       " \"receipt_cumulative_gas_used\"\n",
       " \"receipt_gas_used\"\n",
       " \"receipt_contract_address\"\n",
       " \"receipt_root\"\n",
       " \"receipt_status\"\n",
       " \"block_timestamp\"\n",
       " \"block_number\"\n",
       " \"block_hash\"\n",
       " \"max_fee_per_gas\"\n",
       " \"max_priority_fee_per_gas\"\n",
       " \"transaction_type\"\n",
       " \"receipt_effective_gas_price\""
      ]
     },
     "execution_count": 152,
     "metadata": {},
     "output_type": "execute_result"
    }
   ],
   "source": [
    "names(transactions_df)"
   ]
  },
  {
   "cell_type": "code",
   "execution_count": 153,
   "id": "42e54523",
   "metadata": {},
   "outputs": [],
   "source": [
    "# A DataFrame with only the addresses data of transactions.\n",
    "address_pairs = select(transactions_df, :from_address, :to_address);"
   ]
  },
  {
   "cell_type": "code",
   "execution_count": 154,
   "id": "c2989aae",
   "metadata": {},
   "outputs": [
    {
     "data": {
      "text/html": [
       "<div class=\"data-frame\"><p>10 rows × 2 columns</p><table class=\"data-frame\"><thead><tr><th></th><th>from_address</th><th>to_address</th></tr><tr><th></th><th title=\"String\">String</th><th title=\"String\">String</th></tr></thead><tbody><tr><th>1</th><td>0xb050dec5a9010f8b77a3962369b7bc737d3ed4a5</td><td>0x4736dcf1b7a3d580672cce6e7c65cd5cc9cfba9d</td></tr><tr><th>2</th><td>0x6e92bc493c6abbdd6a1b18416f003de2c873ab50</td><td>0x4736dcf1b7a3d580672cce6e7c65cd5cc9cfba9d</td></tr><tr><th>3</th><td>0xbe4d1e137a24af091be80ae58d652279665e3a27</td><td>0x722122df12d4e14e13ac3b6895a86e84145b6967</td></tr><tr><th>4</th><td>0x20bb3095a4852f4c97d7a188e9f7183c85acfc49</td><td>0x722122df12d4e14e13ac3b6895a86e84145b6967</td></tr><tr><th>5</th><td>0xdd36d585a0d32b4ae6f1790bc4292308e21a42e3</td><td>0x722122df12d4e14e13ac3b6895a86e84145b6967</td></tr><tr><th>6</th><td>0x28a51fd7b39b49ad4d7813d89e3d4444d79e3ac6</td><td>0x722122df12d4e14e13ac3b6895a86e84145b6967</td></tr><tr><th>7</th><td>0x49136693081f2c18e2cf14428dd78cd90a22dc1f</td><td>0x722122df12d4e14e13ac3b6895a86e84145b6967</td></tr><tr><th>8</th><td>0x2d50dbcc960bec854227f51f8074e1da28bd4a37</td><td>0xa160cdab225685da1d56aa342ad8841c3b53f291</td></tr><tr><th>9</th><td>0xb77562124be8ac967cf7fc24573fe252aa39d95d</td><td>0x4736dcf1b7a3d580672cce6e7c65cd5cc9cfba9d</td></tr><tr><th>10</th><td>0x0e54db73f82bd9fde34ebce53ea83bd197e9044c</td><td>0x4736dcf1b7a3d580672cce6e7c65cd5cc9cfba9d</td></tr></tbody></table></div>"
      ],
      "text/latex": [
       "\\begin{tabular}{r|cc}\n",
       "\t& from\\_address & to\\_address\\\\\n",
       "\t\\hline\n",
       "\t& String & String\\\\\n",
       "\t\\hline\n",
       "\t1 & 0xb050dec5a9010f8b77a3962369b7bc737d3ed4a5 & 0x4736dcf1b7a3d580672cce6e7c65cd5cc9cfba9d \\\\\n",
       "\t2 & 0x6e92bc493c6abbdd6a1b18416f003de2c873ab50 & 0x4736dcf1b7a3d580672cce6e7c65cd5cc9cfba9d \\\\\n",
       "\t3 & 0xbe4d1e137a24af091be80ae58d652279665e3a27 & 0x722122df12d4e14e13ac3b6895a86e84145b6967 \\\\\n",
       "\t4 & 0x20bb3095a4852f4c97d7a188e9f7183c85acfc49 & 0x722122df12d4e14e13ac3b6895a86e84145b6967 \\\\\n",
       "\t5 & 0xdd36d585a0d32b4ae6f1790bc4292308e21a42e3 & 0x722122df12d4e14e13ac3b6895a86e84145b6967 \\\\\n",
       "\t6 & 0x28a51fd7b39b49ad4d7813d89e3d4444d79e3ac6 & 0x722122df12d4e14e13ac3b6895a86e84145b6967 \\\\\n",
       "\t7 & 0x49136693081f2c18e2cf14428dd78cd90a22dc1f & 0x722122df12d4e14e13ac3b6895a86e84145b6967 \\\\\n",
       "\t8 & 0x2d50dbcc960bec854227f51f8074e1da28bd4a37 & 0xa160cdab225685da1d56aa342ad8841c3b53f291 \\\\\n",
       "\t9 & 0xb77562124be8ac967cf7fc24573fe252aa39d95d & 0x4736dcf1b7a3d580672cce6e7c65cd5cc9cfba9d \\\\\n",
       "\t10 & 0x0e54db73f82bd9fde34ebce53ea83bd197e9044c & 0x4736dcf1b7a3d580672cce6e7c65cd5cc9cfba9d \\\\\n",
       "\\end{tabular}\n"
      ],
      "text/plain": [
       "\u001b[1m10×2 DataFrame\u001b[0m\n",
       "\u001b[1m Row \u001b[0m│\u001b[1m from_address                      \u001b[0m\u001b[1m to_address                        \u001b[0m\n",
       "\u001b[1m     \u001b[0m│\u001b[90m String                            \u001b[0m\u001b[90m String                            \u001b[0m\n",
       "─────┼──────────────────────────────────────────────────────────────────────\n",
       "   1 │ 0xb050dec5a9010f8b77a3962369b7bc…  0x4736dcf1b7a3d580672cce6e7c65cd…\n",
       "   2 │ 0x6e92bc493c6abbdd6a1b18416f003d…  0x4736dcf1b7a3d580672cce6e7c65cd…\n",
       "   3 │ 0xbe4d1e137a24af091be80ae58d6522…  0x722122df12d4e14e13ac3b6895a86e…\n",
       "   4 │ 0x20bb3095a4852f4c97d7a188e9f718…  0x722122df12d4e14e13ac3b6895a86e…\n",
       "   5 │ 0xdd36d585a0d32b4ae6f1790bc42923…  0x722122df12d4e14e13ac3b6895a86e…\n",
       "   6 │ 0x28a51fd7b39b49ad4d7813d89e3d44…  0x722122df12d4e14e13ac3b6895a86e…\n",
       "   7 │ 0x49136693081f2c18e2cf14428dd78c…  0x722122df12d4e14e13ac3b6895a86e…\n",
       "   8 │ 0x2d50dbcc960bec854227f51f8074e1…  0xa160cdab225685da1d56aa342ad884…\n",
       "   9 │ 0xb77562124be8ac967cf7fc24573fe2…  0x4736dcf1b7a3d580672cce6e7c65cd…\n",
       "  10 │ 0x0e54db73f82bd9fde34ebce53ea83b…  0x4736dcf1b7a3d580672cce6e7c65cd…"
      ]
     },
     "execution_count": 154,
     "metadata": {},
     "output_type": "execute_result"
    }
   ],
   "source": [
    "first(address_pairs, 10)"
   ]
  },
  {
   "cell_type": "code",
   "execution_count": 187,
   "id": "d8ff8efc",
   "metadata": {},
   "outputs": [
    {
     "data": {
      "text/plain": [
       "same_addresses (generic function with 1 method)"
      ]
     },
     "execution_count": 187,
     "metadata": {},
     "output_type": "execute_result"
    }
   ],
   "source": [
    "# Receives a DataFrame with the transactions and an array with the tornado addresses.\n",
    "# Returns an array with the compromised addresses\n",
    "\n",
    "function same_addresses(transactions_df, tornado_addresses)\n",
    "    unique_deposit_addresses = filter(addr -> addr ∉ tornado_addresses, unique(transactions_df[!,\"from_address\"]))\n",
    "    unique_withdrawal_addresses = filter(addr -> addr ∉ tornado_addresses, unique(transactions_df[!,\"to_address\"]))\n",
    "    compromised_addresses = []\n",
    "    \n",
    "    for address in unique_withdrawal_addresses\n",
    "        if address in unique_deposit_addresses\n",
    "            push!(compromised_addresses, address)\n",
    "            println(\"The address $address is compromised!\")\n",
    "        end\n",
    "    end\n",
    "    compromised_addresses\n",
    "end"
   ]
  },
  {
   "cell_type": "code",
   "execution_count": 156,
   "id": "c4732b43",
   "metadata": {},
   "outputs": [
    {
     "data": {
      "text/plain": [
       "Any[]"
      ]
     },
     "execution_count": 156,
     "metadata": {},
     "output_type": "execute_result"
    }
   ],
   "source": [
    "same_addresses(transactions_df, tornado_addr)"
   ]
  },
  {
   "cell_type": "code",
   "execution_count": 195,
   "id": "6b769fc9",
   "metadata": {},
   "outputs": [
    {
     "data": {
      "text/plain": [
       "same_addresses_ (generic function with 1 method)"
      ]
     },
     "execution_count": 195,
     "metadata": {},
     "output_type": "execute_result"
    }
   ],
   "source": [
    "# Receives a DataFrame with the transactions and an array with the tornado addresses.\n",
    "# Returns an array with the compromised addresses and timestamps of the withdrawal.\n",
    "\n",
    "function same_addresses_(transactions_df, tornado_addresses)\n",
    "    deposit_transactions = filter(row -> row[\"from_address\"] ∉ tornado_addresses, transactions_df)\n",
    "    withdrawal_transactions = filter(row -> row[\"from_address\"] ∈ tornado_addresses, transactions_df)\n",
    "    \n",
    "    withdraw_addresses_and_timestamps = []\n",
    "    \n",
    "    for row in eachrow(withdrawal_transactions)\n",
    "        if row[\"to_address\"] in deposit_transactions[!, \"to_address\"]\n",
    "            push!(withdraw_addresses_and_timestamps, (row.from_address, row.block_timestamp))\n",
    "            println(\"Dangerous transaction in $(row.block_timestamp)\")\n",
    "        end\n",
    "    end\n",
    "    withdraw_addresses_and_timestamps\n",
    "end"
   ]
  },
  {
   "cell_type": "code",
   "execution_count": 158,
   "id": "6edcd6a6",
   "metadata": {},
   "outputs": [
    {
     "data": {
      "text/plain": [
       "Any[]"
      ]
     },
     "execution_count": 158,
     "metadata": {},
     "output_type": "execute_result"
    }
   ],
   "source": [
    "same_addresses_(transactions_df, tornado_addresses)"
   ]
  },
  {
   "cell_type": "markdown",
   "id": "6e8ed718",
   "metadata": {},
   "source": [
    "Since there are no matching contracts in our data, I create a fake DataFrame to test the functions:"
   ]
  },
  {
   "cell_type": "code",
   "execution_count": 192,
   "id": "a045d450",
   "metadata": {},
   "outputs": [
    {
     "data": {
      "text/html": [
       "<div class=\"data-frame\"><p>3 rows × 3 columns</p><table class=\"data-frame\"><thead><tr><th></th><th>from_address</th><th>to_address</th><th>block_timestamp</th></tr><tr><th></th><th title=\"Any\">Any</th><th title=\"Any\">Any</th><th title=\"Any\">Any</th></tr></thead><tbody><tr><th>1</th><td>address1</td><td>address2</td><td>20010-05-18T16:12:00</td></tr><tr><th>2</th><td>address2</td><td>address3</td><td>20011-05-18T16:12:00</td></tr><tr><th>3</th><td>address4</td><td>address1</td><td>20013-05-18T16:12:00</td></tr></tbody></table></div>"
      ],
      "text/latex": [
       "\\begin{tabular}{r|ccc}\n",
       "\t& from\\_address & to\\_address & block\\_timestamp\\\\\n",
       "\t\\hline\n",
       "\t& Any & Any & Any\\\\\n",
       "\t\\hline\n",
       "\t1 & address1 & address2 & 20010-05-18T16:12:00 \\\\\n",
       "\t2 & address2 & address3 & 20011-05-18T16:12:00 \\\\\n",
       "\t3 & address4 & address1 & 20013-05-18T16:12:00 \\\\\n",
       "\\end{tabular}\n"
      ],
      "text/plain": [
       "\u001b[1m3×3 DataFrame\u001b[0m\n",
       "\u001b[1m Row \u001b[0m│\u001b[1m from_address \u001b[0m\u001b[1m to_address \u001b[0m\u001b[1m block_timestamp      \u001b[0m\n",
       "\u001b[1m     \u001b[0m│\u001b[90m Any          \u001b[0m\u001b[90m Any        \u001b[0m\u001b[90m Any                  \u001b[0m\n",
       "─────┼────────────────────────────────────────────────\n",
       "   1 │ address1      address2    20010-05-18T16:12:00\n",
       "   2 │ address2      address3    20011-05-18T16:12:00\n",
       "   3 │ address4      address1    20013-05-18T16:12:00"
      ]
     },
     "execution_count": 192,
     "metadata": {},
     "output_type": "execute_result"
    }
   ],
   "source": [
    "test_df = DataFrame([\"address1\" \"address2\" Dates.DateTime(\"18/05/20010 16:12\", \"dd/mm/yyyy HH:MM\");\n",
    "           \"address2\" \"address3\" Dates.DateTime(\"18/05/20011 16:12\", \"dd/mm/yyyy HH:MM\");\n",
    "           \"address4\" \"address1\" Dates.DateTime(\"18/05/20013 16:12\", \"dd/mm/yyyy HH:MM\")], [\"from_address\", \"to_address\", \"block_timestamp\"])"
   ]
  },
  {
   "cell_type": "code",
   "execution_count": 178,
   "id": "4fab2a97",
   "metadata": {},
   "outputs": [
    {
     "data": {
      "text/plain": [
       "2-element Vector{String}:\n",
       " \"address2\"\n",
       " \"address4\""
      ]
     },
     "execution_count": 178,
     "metadata": {},
     "output_type": "execute_result"
    }
   ],
   "source": [
    "test_tornado_addresses = [\"address2\", \"address4\"]"
   ]
  },
  {
   "cell_type": "code",
   "execution_count": 189,
   "id": "b57aa97f",
   "metadata": {},
   "outputs": [
    {
     "name": "stdout",
     "output_type": "stream",
     "text": [
      "The address address1 is compromised!\n"
     ]
    },
    {
     "data": {
      "text/plain": [
       "1-element Vector{Any}:\n",
       " \"address1\""
      ]
     },
     "execution_count": 189,
     "metadata": {},
     "output_type": "execute_result"
    }
   ],
   "source": [
    "same_addresses(test_df, test_tornado_addresses)"
   ]
  },
  {
   "cell_type": "code",
   "execution_count": 196,
   "id": "666e17b7",
   "metadata": {},
   "outputs": [
    {
     "data": {
      "text/plain": [
       "Any[]"
      ]
     },
     "execution_count": 196,
     "metadata": {},
     "output_type": "execute_result"
    }
   ],
   "source": [
    "same_addresses_(test_df, test_tornado_addresses)"
   ]
  },
  {
   "cell_type": "code",
   "execution_count": null,
   "id": "2beb295d",
   "metadata": {},
   "outputs": [],
   "source": []
  }
 ],
 "metadata": {
  "kernelspec": {
   "display_name": "Julia 1.6.0",
   "language": "julia",
   "name": "julia-1.6"
  },
  "language_info": {
   "file_extension": ".jl",
   "mimetype": "application/julia",
   "name": "julia",
   "version": "1.6.0"
  }
 },
 "nbformat": 4,
 "nbformat_minor": 5
}
