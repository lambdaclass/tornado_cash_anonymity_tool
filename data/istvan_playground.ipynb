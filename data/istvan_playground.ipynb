{
 "cells": [
  {
   "cell_type": "code",
   "execution_count": 66,
   "metadata": {},
   "outputs": [],
   "source": [
    "import pandas as pd"
   ]
  },
  {
   "cell_type": "code",
   "execution_count": 67,
   "metadata": {},
   "outputs": [
    {
     "name": "stdout",
     "output_type": "stream",
     "text": [
      "                                                hash  nonce  \\\n",
      "0  0xcf97c470a56d96625c7240d3004ae2abd9141d7ffc43...      4   \n",
      "1  0x2fadc4d54bf6e3ec5035f14c0096befe929998663098...     22   \n",
      "2  0x9a2584e229b27d3bb87537e4cc4fb7b7cc085f968774...   6782   \n",
      "3  0x2b40673c95b759b0967ac50185fe5691554819ac7e11...   1748   \n",
      "4  0x34478d48b83ce20881013312c6edf130573e561aa0c6...   1963   \n",
      "\n",
      "   transaction_index                                from_address  \\\n",
      "0                 10  0xb050dec5a9010f8b77a3962369b7bc737d3ed4a5   \n",
      "1                118  0x6e92bc493c6abbdd6a1b18416f003de2c873ab50   \n",
      "2                 95  0xbe4d1e137a24af091be80ae58d652279665e3a27   \n",
      "3                185  0x20bb3095a4852f4c97d7a188e9f7183c85acfc49   \n",
      "4                 88  0xdd36d585a0d32b4ae6f1790bc4292308e21a42e3   \n",
      "\n",
      "                                   to_address             value      gas  \\\n",
      "0  0x4736dcf1b7a3d580672cce6e7c65cd5cc9cfba9d                 0  1200000   \n",
      "1  0x4736dcf1b7a3d580672cce6e7c65cd5cc9cfba9d                 0  1200000   \n",
      "2  0x722122df12d4e14e13ac3b6895a86e84145b6967  1650000000000000   480000   \n",
      "3  0x722122df12d4e14e13ac3b6895a86e84145b6967  3300000000000000   480000   \n",
      "4  0x722122df12d4e14e13ac3b6895a86e84145b6967                 0   480000   \n",
      "\n",
      "     gas_price                                              input  \\\n",
      "0  56000000000  0xb214faa5083d52f2c4e7a95e340a999805a8328b6546...   \n",
      "1  63000000000  0xb214faa502843565a5499c26b04c7a9069f1ad2621aa...   \n",
      "2  11500000000  0xb438689f00000000000000000000000007687e702b41...   \n",
      "3  23500000000  0xb438689f00000000000000000000000023773e65ed14...   \n",
      "4  13100000000  0xb438689f000000000000000000000000178169b423a0...   \n",
      "\n",
      "   receipt_cumulative_gas_used  ...  receipt_contract_address  receipt_root  \\\n",
      "0                      1677906  ...                       NaN           NaN   \n",
      "1                      8209080  ...                       NaN           NaN   \n",
      "2                      7595061  ...                       NaN           NaN   \n",
      "3                     11046553  ...                       NaN           NaN   \n",
      "4                      7194819  ...                       NaN           NaN   \n",
      "\n",
      "   receipt_status          block_timestamp block_number  \\\n",
      "0               1  2020-11-02 17:47:30 UTC     11179130   \n",
      "1               1  2021-01-02 23:37:35 UTC     11578054   \n",
      "2               1  2021-07-25 12:29:09 UTC     12895440   \n",
      "3               1  2021-06-09 18:45:22 UTC     12601999   \n",
      "4               1  2021-07-23 10:50:49 UTC     12882215   \n",
      "\n",
      "                                          block_hash max_fee_per_gas  \\\n",
      "0  0x21d86cba454fea4f7e43c68763d4cffec101b6145546...             NaN   \n",
      "1  0xd52ababd1dbbbe50277c54473c881f47fd95e78081a3...             NaN   \n",
      "2  0x1f6c7c0cad03c9f00d421e096836a40794db70b056af...             NaN   \n",
      "3  0xd653640a8a0fbd9da49b17e193db1773e3cb405cae1c...             NaN   \n",
      "4  0x217cd77b1e2f67bc3692c3874deca3c0bba12df926ed...             NaN   \n",
      "\n",
      "   max_priority_fee_per_gas  transaction_type  receipt_effective_gas_price  \n",
      "0                       NaN               NaN                  56000000000  \n",
      "1                       NaN               NaN                  63000000000  \n",
      "2                       NaN               NaN                  11500000000  \n",
      "3                       NaN               NaN                  23500000000  \n",
      "4                       NaN               NaN                  13100000000  \n",
      "\n",
      "[5 rows x 21 columns]\n"
     ]
    }
   ],
   "source": [
    "df = pd.read_csv ('tornado_transactions_truncated.csv')\n",
    "df.reset_index(drop=True)\n",
    "print(df.head())"
   ]
  },
  {
   "cell_type": "code",
   "execution_count": 68,
   "metadata": {},
   "outputs": [
    {
     "data": {
      "image/png": "[encoded data removed]",
      "text/plain": [
       "<Figure size 432x288 with 1 Axes>"
      ]
     },
     "metadata": {
      "needs_background": "light"
     },
     "output_type": "display_data"
    }
   ],
   "source": [
    "df[\"gas_price\"].plot.hist(title=\"Gasprice Histogram\",legend=False, bins=100,logy=True, use_index=False)\n",
    "plt.xlabel(\"Gasprice\")\n",
    "plt.tight_layout()\n",
    "plt.savefig(\"Figures/HistogramGasprice.pdf\")"
   ]
  },
  {
   "cell_type": "code",
   "execution_count": 69,
   "metadata": {},
   "outputs": [
    {
     "data": {
      "image/png": "[encoded data removed]",
      "text/plain": [
       "<Figure size 432x288 with 1 Axes>"
      ]
     },
     "metadata": {
      "needs_background": "light"
     },
     "output_type": "display_data"
    }
   ],
   "source": [
    "ax = df[\"nonce\"].plot.hist(title=\"Nonce Histogram\", legend=False, logy = True, bins=500, use_index=False)\n",
    "ax.set_xlim(1,10000)\n",
    "plt.xlabel(\"Nonce\")\n",
    "plt.tight_layout()\n",
    "plt.savefig(\"Figures/HistogramNonce.pdf\")"
   ]
  },
  {
   "cell_type": "code",
   "execution_count": 70,
   "metadata": {},
   "outputs": [
    {
     "data": {
      "image/png": "[encoded data removed]",
      "text/plain": [
       "<Figure size 432x288 with 1 Axes>"
      ]
     },
     "metadata": {
      "needs_background": "light"
     },
     "output_type": "display_data"
    }
   ],
   "source": [
    "ax = df[\"gas\"].plot.hist(title=\"Used Gas Histogram\", legend=False, bins=200, logy=True, use_index=False)\n",
    "plt.xlabel(\"Gas\")\n",
    "ax.set_xlim(1,2000000)\n",
    "plt.tight_layout()\n",
    "plt.savefig(\"Figures/HistogramUsedGas.pdf\")"
   ]
  },
  {
   "cell_type": "code",
   "execution_count": null,
   "metadata": {},
   "outputs": [],
   "source": []
  }
 ],
 "metadata": {
  "kernelspec": {
   "display_name": "Python 3",
   "language": "python",
   "name": "python3"
  },
  "language_info": {
   "codemirror_mode": {
    "name": "ipython",
    "version": 3
   },
   "file_extension": ".py",
   "mimetype": "text/x-python",
   "name": "python",
   "nbconvert_exporter": "python",
   "pygments_lexer": "ipython3",
   "version": "3.9.0"
  }
 },
 "nbformat": 4,
 "nbformat_minor": 4
}
