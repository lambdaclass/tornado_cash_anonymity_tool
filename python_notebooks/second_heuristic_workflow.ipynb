{
 "cells": [
  {
   "cell_type": "markdown",
   "metadata": {},
   "source": [
    "## Getting the data\n",
    "We obtain the data using Google Big Query.\n",
    "In order to obtain the deposits and withdrawals transactions, just run the following querys:\n",
    "\n",
    "### Withdrawals \n",
    "SELECT * FROM `bigquery-public-data.crypto_ethereum.transactions` WHERE `to_address` \n",
    "IN (SELECT `address` FROM `tornado_cash_transactions.tornadocontracts`) AND SUBSTR(`input`, 1, 10) = \"0x21a0adb6\";\n",
    "\n",
    "### Deposits\n",
    "SELECT * FROM `bigquery-public-data.crypto_ethereum.transactions` WHERE `to_address` \n",
    "IN (SELECT `address` FROM `tornado_cash_transactions.tornadocontracts`) AND SUBSTR(`input`, 1, 10) = \"0xb214faa5\";\n",
    "\n",
    "References here:\n",
    "https://github.com/Phread420/tornado_bigquery/blob/main/Notes.md\n",
    "\n",
    "This results are stored in the following files:\n",
    "- withdraw_transactions.csv\n",
    "- deposit_transactions.csv\n",
    "\n",
    "After obtaining those two files, the next thing to do is to get the \"recipient_addresses\" that are making the withdrawl (if the user withdraws via a relayer, the relayer's account will be displayed in the \"from_addres\" field). That information is encoded in the \"input\" field of the withdrawal transactions.\n",
    "\n",
    "The process to do so is in the following notebook:\n",
    "https://github.com/lambdaclass/tornado_cash_anonymity_tool/blob/main/notebooks/complete_withdraw_data_set.ipynb\n",
    "\n",
    "Note that the recipient addresses obtained in this df are in upper case and the addresses coming from the big query are in lower case, so you have to make the transformation when running the heuristic."
   ]
  },
  {
   "cell_type": "markdown",
   "metadata": {},
   "source": [
    "## Second heuristic - Preliminary implementation\n",
    "\n",
    "### Description\n",
    "\n",
    "If there is a deposit and a withdraw transaction with **unique** gas prices (e.g., 3.1415926 Gwei), then we consider the deposit and the withdraw transactions linked. The corresponding deposit transaction can be removed from any other withdraw transaction’s anonymity set."
   ]
  },
  {
   "cell_type": "code",
   "execution_count": 1,
   "metadata": {},
   "outputs": [],
   "source": [
    "# Import relevant packages\n",
    "import pandas as pd\n",
    "from tqdm import tqdm"
   ]
  },
  {
   "cell_type": "code",
   "execution_count": 5,
   "metadata": {},
   "outputs": [],
   "source": [
    "# Load transactions data\n",
    "\n",
    "withdraw_transactions_df = pd.read_csv(\"../data/lighter_complete_withdraw_txs.csv\")\n",
    "# Change recipient_address to lowercase.\n",
    "withdraw_transactions_df[\"recipient_address\"] = withdraw_transactions_df[\"recipient_address\"].str.lower()\n",
    "# Change block_timestamp field to be a timestamp object.\n",
    "withdraw_transactions_df[\"block_timestamp\"] = withdraw_transactions_df[\"block_timestamp\"].apply(pd.Timestamp)\n",
    "\n",
    "non_relayer_withdraw_transactions_df = withdraw_transactions_df[withdraw_transactions_df[\"from_address\"]==withdraw_transactions_df[\"recipient_address\"]]\n",
    "\n",
    "deposit_transactions_df = pd.read_csv(\"../data/lighter_complete_deposit_txs.csv\")\n",
    "# Change block_timestamp field to be a timestamp object.\n",
    "deposit_transactions_df[\"block_timestamp\"] = deposit_transactions_df[\"block_timestamp\"].apply(pd.Timestamp)\n",
    "\n",
    "# tornado_addresses = pd.read_csv(\"../data/tornadocontracts_abi.csv\", names=['address', 'contract_currency', 'value', '4'])"
   ]
  },
  {
   "cell_type": "markdown",
   "metadata": {},
   "source": [
    "### Function summary: filter_by_unique_gas_price\n",
    "\n",
    "Given a transactions DataFrame, it returns a dictionary with the unique gas prices as keys and a tuple containing the hash of that transaction and the timestamp. For example,\n",
    "\n",
    "```\n",
    "{111000302: (\"0x387fcd87a\", timestamp1)\n",
    "```"
   ]
  },
  {
   "cell_type": "code",
   "execution_count": 7,
   "metadata": {},
   "outputs": [],
   "source": [
    "def filter_by_unique_gas_price(transactions_df):\n",
    "    \n",
    "    # Count the appearances of each gas price in the transactions DataFrame.\n",
    "    \n",
    "    gas_prices_count = transactions_df[\"gas_price\"].value_counts()\n",
    "    \n",
    "    # Filter the gas prices that are unique, i.e., the ones with a count equal to 1.\n",
    "    # The gas prices are stored in unique_gas_prices\n",
    "    \n",
    "    unique_gas_prices = gas_prices_count[gas_prices_count == 1].keys()\n",
    "    \n",
    "    # A dataframe of the transactions that verify having these unique gas price values.\n",
    "    \n",
    "    temp_df = transactions_df[transactions_df[\"gas_price\"].isin(unique_gas_prices)]\n",
    "    \n",
    "    # The DataFrame is transformed to a dictionary with only the relevant information.\n",
    "    \n",
    "    return {row.gas_price: (row.hash, row.block_timestamp) for row in temp_df.itertuples()}"
   ]
  },
  {
   "cell_type": "markdown",
   "metadata": {},
   "source": [
    "### Function summary: filter_by_unique_gas_price_by_pool\n",
    "\n",
    "Given a transactions DataFrame, it returns a dictionary with a tuple of the unique gas prices and tornado pool as keys and a tuple containing the hash of that transaction and the timestamp. For example, \n",
    "\n",
    "```\n",
    "{(111000302, \"0x24387248\"): (\"0x387fcd87a\", timestamp1)\n",
    "\n",
    "```"
   ]
  },
  {
   "cell_type": "code",
   "execution_count": 8,
   "metadata": {},
   "outputs": [],
   "source": [
    "def filter_by_unique_gas_price_by_pool(transactions_df):\n",
    "    \n",
    "    # Count the appearances of each gas price by pool in the transactions DataFrame.\n",
    "    \n",
    "    gas_prices_count = deposit_transactions_df[[\"gas_price\", \"tornado_cash_address\"]].value_counts()\n",
    "    \n",
    "    '''\n",
    "    Filter the gas prices that are unique for each pool, i.e., the ones with a count equal to 1.\n",
    "    The gas prices are stored in unique_gas_prices\n",
    "    '''\n",
    "    \n",
    "    unique_gas_prices_by_pool = pd.DataFrame(gas_prices_count[gas_prices_count == 1])\n",
    "    \n",
    "    # Tuple set with the values (gas_price, tornado_cash_address) is made to filter efficiently\n",
    "    \n",
    "    tuple_set = set([(row.Index[0], row.Index[1]) for row in unique_gas_prices_by_pool.itertuples()])\n",
    "    \n",
    "    # A dataframe of the transactions that verify having these unique gas price values by pool.\n",
    "    \n",
    "    temp_df = pd.DataFrame(filter(lambda iter_tuple: (iter_tuple.gas_price, iter_tuple.tornado_cash_address) in tuple_set, deposit_transactions_df.itertuples()))\n",
    "    \n",
    "    # The DataFrame is transformed to a dictionary with only the relevant information.\n",
    "    \n",
    "    return {(row.gas_price, row.tornado_cash_address): (row.hash, row.block_timestamp) for row in temp_df.itertuples()}"
   ]
  },
  {
   "cell_type": "markdown",
   "metadata": {},
   "source": [
    "A test of the function applied to our deposit transactions data."
   ]
  },
  {
   "cell_type": "markdown",
   "metadata": {},
   "source": [
    "### Function summary: same_gas_price_heuristic\n",
    "\n",
    "This function receives a particular withdraw transaction and a dictionary with the unique gas price deposits, as returned by the function filter_by_unique_gas_price.\n",
    "\n",
    "It returns a tuple:\n",
    "* $(True, deposit$ $hash)$ when a deposit transaction with the same gas price as the withdrawal transaction is found.\n",
    "* $(False, None)$ when such a deposit is not found."
   ]
  },
  {
   "cell_type": "code",
   "execution_count": 9,
   "metadata": {},
   "outputs": [],
   "source": [
    "def same_gas_price_heuristic(withdrawal_transaction, unique_gas_price_deposit_dict):\n",
    "    \n",
    "    '''\n",
    "    Check if the gas price of the given withdrawal transaction is within the dictionary keys and that\n",
    "    the deposit was made earlier than the withdral.\n",
    "    If it is, then a tuple is returned, (True, deposit_hash).\n",
    "    If it is not, (False, None) is returned.\n",
    "    '''\n",
    "    \n",
    "    if withdrawal_transaction.gas_price in set(unique_gas_price_deposit_dict.keys()) and (unique_gas_price_deposit_dict[withdrawal_transaction.gas_price][1] < withdrawal_transaction.block_timestamp):\n",
    "        return (True, unique_gas_price_deposit_dict[withdrawal_transaction.gas_price][0])\n",
    "    else:   \n",
    "        return (False, None)"
   ]
  },
  {
   "cell_type": "markdown",
   "metadata": {},
   "source": [
    "### Function summary: same_gas_price_heuristic_by_pool\n",
    "\n",
    "This function receives a particular withdraw transaction and a dictionary with the unique gas price deposits made in each pool, just as returned by the function filter_by_unique_gas_price_by_pool.\n",
    "\n",
    "It returns a tuple:\n",
    "* $(True, deposit$ $hash)$ when a deposit transaction with the same gas price and belonging from the same pool (for example, 1ETH) as the withdrawal transaction is found.\n",
    "* $(False, None)$ when such a deposit is not found."
   ]
  },
  {
   "cell_type": "code",
   "execution_count": 10,
   "metadata": {},
   "outputs": [],
   "source": [
    "def same_gas_price_heuristic_by_pool(withdrawal_transaction, unique_gas_price_deposit_dict):\n",
    "    \n",
    "    '''\n",
    "    Check if the pair (gas_price, tornado_pool) of the given withdrawal transaction is within the dictionary keys and that\n",
    "    the deposit was made earlier than the withdral.\n",
    "    If it is, then a tuple is returned, (True, deposit_hash).\n",
    "    If it is not, (False, None) is returned.\n",
    "    '''\n",
    "    \n",
    "    if (withdrawal_transaction.gas_price, withdrawal_transaction.tornado_cash_address) in set(unique_gas_price_deposit_dict.keys()) and (unique_gas_price_deposit_dict[(withdrawal_transaction.gas_price, withdrawal_transaction.tornado_cash_address)][1] < withdrawal_transaction.block_timestamp):\n",
    "        return (True, unique_gas_price_deposit_dict[(withdrawal_transaction.gas_price, withdrawal_transaction.tornado_cash_address)][0])\n",
    "    else:   \n",
    "        return (False, None)"
   ]
  },
  {
   "cell_type": "markdown",
   "metadata": {},
   "source": [
    "### Function summary: apply_same_gas_price_heuristic\n",
    "\n",
    "Applies the heuristic to all the withdraw_transactions DataFrame. Returns a dicionary mapping linked withdrawal and deposit transaction hashes."
   ]
  },
  {
   "cell_type": "code",
   "execution_count": 11,
   "metadata": {},
   "outputs": [],
   "source": [
    "def apply_same_gas_price_heuristic(deposit_transactions_df, withdraw_transactions_df):\n",
    "    \n",
    "    # Get deposit transactions with unique gas prices.\n",
    "    \n",
    "    unique_gas_price_deposits_dict = filter_by_unique_gas_price(deposit_transactions_df)\n",
    "    \n",
    "    # Initialize an empty dictionary to store the linked transactions.\n",
    "    \n",
    "    withdrawal_to_deposit = {}\n",
    "    \n",
    "    # Iterate over the withdraw transactions.\n",
    "    for withdraw_row in tqdm(withdraw_transactions_df.itertuples(), total=withdraw_transactions_df.shape[0], mininterval=10):     \n",
    "        # Apply heuristic for the given withdraw transaction.\n",
    "        same_gas_deposit_hash = same_gas_price_heuristic(withdraw_row, unique_gas_price_deposits_dict)\n",
    "        \n",
    "        # When a deposit transaction matching the withdraw transaction gas price is found, add\n",
    "        # the linked transactions to the dictionary.\n",
    "        if same_gas_deposit_hash[0]:\n",
    "            withdrawal_to_deposit[withdraw_row.hash] = same_gas_deposit_hash[1]\n",
    "\n",
    "    # Return the linked transactions dictionary.\n",
    "    return withdrawal_to_deposit"
   ]
  },
  {
   "cell_type": "markdown",
   "metadata": {},
   "source": [
    "### Function summary: apply_same_gas_price_heuristic_by_pool\n",
    "\n",
    "Applies the heuristic to all the withdraw_transactions DataFrame, filtering also by the particular pool. Returns a dicionary mapping linked withdrawal and deposit transaction hashes."
   ]
  },
  {
   "cell_type": "code",
   "execution_count": 12,
   "metadata": {},
   "outputs": [],
   "source": [
    "def apply_same_gas_price_heuristic_by_pool(deposit_transactions_df, withdraw_transactions_df):\n",
    "    \n",
    "    # Get deposit transactions with unique gas prices.\n",
    "    \n",
    "    unique_gas_price_deposits_dict = filter_by_unique_gas_price_by_pool(deposit_transactions_df)\n",
    "    \n",
    "    # Initialize an empty dictionary to store the linked transactions.\n",
    "    \n",
    "    withdrawal_to_deposit = {}\n",
    "    \n",
    "    # Iterate over the withdraw transactions.\n",
    "    for withdraw_row in tqdm(withdraw_transactions_df.itertuples(), total=withdraw_transactions_df.shape[0], mininterval=10):     \n",
    "        # Apply heuristic for the given withdraw transaction.\n",
    "        same_gas_deposit_hash = same_gas_price_heuristic_by_pool(withdraw_row, unique_gas_price_deposits_dict)\n",
    "        \n",
    "        # When a deposit transaction matching the withdraw transaction gas price is found, add\n",
    "        # the linked transactions to the dictionary.\n",
    "        if same_gas_deposit_hash[0]:\n",
    "            withdrawal_to_deposit[withdraw_row.hash] = same_gas_deposit_hash[1]\n",
    "\n",
    "    # Return the linked transactions dictionary.\n",
    "    return withdrawal_to_deposit"
   ]
  },
  {
   "cell_type": "markdown",
   "metadata": {},
   "source": [
    "We run the heuristic for the entire withdraw dataset"
   ]
  },
  {
   "cell_type": "code",
   "execution_count": 13,
   "metadata": {},
   "outputs": [
    {
     "name": "stderr",
     "output_type": "stream",
     "text": [
      "100%|██████████| 17037/17037 [00:07<00:00, 2326.89it/s]\n"
     ]
    }
   ],
   "source": [
    "linked_transactions = apply_same_gas_price_heuristic(deposit_transactions_df, non_relayer_withdraw_transactions_df)"
   ]
  },
  {
   "cell_type": "code",
   "execution_count": 14,
   "metadata": {
    "scrolled": true
   },
   "outputs": [
    {
     "data": {
      "text/html": [
       "<div>\n",
       "<style scoped>\n",
       "    .dataframe tbody tr th:only-of-type {\n",
       "        vertical-align: middle;\n",
       "    }\n",
       "\n",
       "    .dataframe tbody tr th {\n",
       "        vertical-align: top;\n",
       "    }\n",
       "\n",
       "    .dataframe thead th {\n",
       "        text-align: right;\n",
       "    }\n",
       "</style>\n",
       "<table border=\"1\" class=\"dataframe\">\n",
       "  <thead>\n",
       "    <tr style=\"text-align: right;\">\n",
       "      <th></th>\n",
       "      <th>withdraw_hashes</th>\n",
       "      <th>deposit_hashes</th>\n",
       "    </tr>\n",
       "  </thead>\n",
       "  <tbody>\n",
       "    <tr>\n",
       "      <th>0</th>\n",
       "      <td>(0xb07d06c8ca80ce4052954393d79b2f95d83034607d1...</td>\n",
       "      <td>(0xbcd359d0323dc74c7a246d98cae706c75a6b3b51820...</td>\n",
       "    </tr>\n",
       "    <tr>\n",
       "      <th>1</th>\n",
       "      <td>(0xb07d06c8ca80ce4052954393d79b2f95d83034607d1...</td>\n",
       "      <td>(0xbcd359d0323dc74c7a246d98cae706c75a6b3b51820...</td>\n",
       "    </tr>\n",
       "    <tr>\n",
       "      <th>2</th>\n",
       "      <td>(0xb07d06c8ca80ce4052954393d79b2f95d83034607d1...</td>\n",
       "      <td>(0xbcd359d0323dc74c7a246d98cae706c75a6b3b51820...</td>\n",
       "    </tr>\n",
       "    <tr>\n",
       "      <th>3</th>\n",
       "      <td>(0xb07d06c8ca80ce4052954393d79b2f95d83034607d1...</td>\n",
       "      <td>(0xbcd359d0323dc74c7a246d98cae706c75a6b3b51820...</td>\n",
       "    </tr>\n",
       "    <tr>\n",
       "      <th>4</th>\n",
       "      <td>(0xb07d06c8ca80ce4052954393d79b2f95d83034607d1...</td>\n",
       "      <td>(0xbcd359d0323dc74c7a246d98cae706c75a6b3b51820...</td>\n",
       "    </tr>\n",
       "    <tr>\n",
       "      <th>...</th>\n",
       "      <td>...</td>\n",
       "      <td>...</td>\n",
       "    </tr>\n",
       "    <tr>\n",
       "      <th>123</th>\n",
       "      <td>(0xb07d06c8ca80ce4052954393d79b2f95d83034607d1...</td>\n",
       "      <td>(0xbcd359d0323dc74c7a246d98cae706c75a6b3b51820...</td>\n",
       "    </tr>\n",
       "    <tr>\n",
       "      <th>124</th>\n",
       "      <td>(0xb07d06c8ca80ce4052954393d79b2f95d83034607d1...</td>\n",
       "      <td>(0xbcd359d0323dc74c7a246d98cae706c75a6b3b51820...</td>\n",
       "    </tr>\n",
       "    <tr>\n",
       "      <th>125</th>\n",
       "      <td>(0xb07d06c8ca80ce4052954393d79b2f95d83034607d1...</td>\n",
       "      <td>(0xbcd359d0323dc74c7a246d98cae706c75a6b3b51820...</td>\n",
       "    </tr>\n",
       "    <tr>\n",
       "      <th>126</th>\n",
       "      <td>(0xb07d06c8ca80ce4052954393d79b2f95d83034607d1...</td>\n",
       "      <td>(0xbcd359d0323dc74c7a246d98cae706c75a6b3b51820...</td>\n",
       "    </tr>\n",
       "    <tr>\n",
       "      <th>127</th>\n",
       "      <td>(0xb07d06c8ca80ce4052954393d79b2f95d83034607d1...</td>\n",
       "      <td>(0xbcd359d0323dc74c7a246d98cae706c75a6b3b51820...</td>\n",
       "    </tr>\n",
       "  </tbody>\n",
       "</table>\n",
       "<p>128 rows × 2 columns</p>\n",
       "</div>"
      ],
      "text/plain": [
       "                                       withdraw_hashes  \\\n",
       "0    (0xb07d06c8ca80ce4052954393d79b2f95d83034607d1...   \n",
       "1    (0xb07d06c8ca80ce4052954393d79b2f95d83034607d1...   \n",
       "2    (0xb07d06c8ca80ce4052954393d79b2f95d83034607d1...   \n",
       "3    (0xb07d06c8ca80ce4052954393d79b2f95d83034607d1...   \n",
       "4    (0xb07d06c8ca80ce4052954393d79b2f95d83034607d1...   \n",
       "..                                                 ...   \n",
       "123  (0xb07d06c8ca80ce4052954393d79b2f95d83034607d1...   \n",
       "124  (0xb07d06c8ca80ce4052954393d79b2f95d83034607d1...   \n",
       "125  (0xb07d06c8ca80ce4052954393d79b2f95d83034607d1...   \n",
       "126  (0xb07d06c8ca80ce4052954393d79b2f95d83034607d1...   \n",
       "127  (0xb07d06c8ca80ce4052954393d79b2f95d83034607d1...   \n",
       "\n",
       "                                        deposit_hashes  \n",
       "0    (0xbcd359d0323dc74c7a246d98cae706c75a6b3b51820...  \n",
       "1    (0xbcd359d0323dc74c7a246d98cae706c75a6b3b51820...  \n",
       "2    (0xbcd359d0323dc74c7a246d98cae706c75a6b3b51820...  \n",
       "3    (0xbcd359d0323dc74c7a246d98cae706c75a6b3b51820...  \n",
       "4    (0xbcd359d0323dc74c7a246d98cae706c75a6b3b51820...  \n",
       "..                                                 ...  \n",
       "123  (0xbcd359d0323dc74c7a246d98cae706c75a6b3b51820...  \n",
       "124  (0xbcd359d0323dc74c7a246d98cae706c75a6b3b51820...  \n",
       "125  (0xbcd359d0323dc74c7a246d98cae706c75a6b3b51820...  \n",
       "126  (0xbcd359d0323dc74c7a246d98cae706c75a6b3b51820...  \n",
       "127  (0xbcd359d0323dc74c7a246d98cae706c75a6b3b51820...  \n",
       "\n",
       "[128 rows x 2 columns]"
      ]
     },
     "execution_count": 14,
     "metadata": {},
     "output_type": "execute_result"
    }
   ],
   "source": [
    "linked_transactions = pd.DataFrame.from_dict({\"withdraw_hashes\": linked_transactions.keys(), \"deposit_hashes\": linked_transactions.values()})\n",
    "linked_transactions"
   ]
  },
  {
   "cell_type": "markdown",
   "metadata": {},
   "source": [
    "Now we run the heuristic that filters by pool, again applying it to the entire withdraw dataset."
   ]
  },
  {
   "cell_type": "code",
   "execution_count": 15,
   "metadata": {},
   "outputs": [
    {
     "ename": "AttributeError",
     "evalue": "'DataFrame' object has no attribute 'value_counts'",
     "output_type": "error",
     "traceback": [
      "\u001b[0;31m---------------------------------------------------------------------------\u001b[0m",
      "\u001b[0;31mAttributeError\u001b[0m                            Traceback (most recent call last)",
      "\u001b[0;32m<ipython-input-15-e388f913bb72>\u001b[0m in \u001b[0;36m<module>\u001b[0;34m\u001b[0m\n\u001b[0;32m----> 1\u001b[0;31m \u001b[0mlinked_transactions_by_pool\u001b[0m \u001b[0;34m=\u001b[0m \u001b[0mapply_same_gas_price_heuristic_by_pool\u001b[0m\u001b[0;34m(\u001b[0m\u001b[0mdeposit_transactions_df\u001b[0m\u001b[0;34m,\u001b[0m \u001b[0mnon_relayer_withdraw_transactions_df\u001b[0m\u001b[0;34m)\u001b[0m\u001b[0;34m\u001b[0m\u001b[0;34m\u001b[0m\u001b[0m\n\u001b[0m",
      "\u001b[0;32m<ipython-input-12-7f56039188e0>\u001b[0m in \u001b[0;36mapply_same_gas_price_heuristic_by_pool\u001b[0;34m(deposit_transactions_df, withdraw_transactions_df)\u001b[0m\n\u001b[1;32m      3\u001b[0m     \u001b[0;31m# Get deposit transactions with unique gas prices.\u001b[0m\u001b[0;34m\u001b[0m\u001b[0;34m\u001b[0m\u001b[0;34m\u001b[0m\u001b[0m\n\u001b[1;32m      4\u001b[0m \u001b[0;34m\u001b[0m\u001b[0m\n\u001b[0;32m----> 5\u001b[0;31m     \u001b[0munique_gas_price_deposits_dict\u001b[0m \u001b[0;34m=\u001b[0m \u001b[0mfilter_by_unique_gas_price_by_pool\u001b[0m\u001b[0;34m(\u001b[0m\u001b[0mdeposit_transactions_df\u001b[0m\u001b[0;34m)\u001b[0m\u001b[0;34m\u001b[0m\u001b[0;34m\u001b[0m\u001b[0m\n\u001b[0m\u001b[1;32m      6\u001b[0m \u001b[0;34m\u001b[0m\u001b[0m\n\u001b[1;32m      7\u001b[0m     \u001b[0;31m# Initialize an empty dictionary to store the linked transactions.\u001b[0m\u001b[0;34m\u001b[0m\u001b[0;34m\u001b[0m\u001b[0;34m\u001b[0m\u001b[0m\n",
      "\u001b[0;32m<ipython-input-8-5dc23d3b6ca0>\u001b[0m in \u001b[0;36mfilter_by_unique_gas_price_by_pool\u001b[0;34m(transactions_df)\u001b[0m\n\u001b[1;32m      3\u001b[0m     \u001b[0;31m# Count the appearances of each gas price by pool in the transactions DataFrame.\u001b[0m\u001b[0;34m\u001b[0m\u001b[0;34m\u001b[0m\u001b[0;34m\u001b[0m\u001b[0m\n\u001b[1;32m      4\u001b[0m \u001b[0;34m\u001b[0m\u001b[0m\n\u001b[0;32m----> 5\u001b[0;31m     \u001b[0mgas_prices_count\u001b[0m \u001b[0;34m=\u001b[0m \u001b[0mdeposit_transactions_df\u001b[0m\u001b[0;34m[\u001b[0m\u001b[0;34m[\u001b[0m\u001b[0;34m\"gas_price\"\u001b[0m\u001b[0;34m,\u001b[0m \u001b[0;34m\"tornado_cash_address\"\u001b[0m\u001b[0;34m]\u001b[0m\u001b[0;34m]\u001b[0m\u001b[0;34m.\u001b[0m\u001b[0mvalue_counts\u001b[0m\u001b[0;34m(\u001b[0m\u001b[0;34m)\u001b[0m\u001b[0;34m\u001b[0m\u001b[0;34m\u001b[0m\u001b[0m\n\u001b[0m\u001b[1;32m      6\u001b[0m \u001b[0;34m\u001b[0m\u001b[0m\n\u001b[1;32m      7\u001b[0m     '''\n",
      "\u001b[0;32m~/opt/anaconda3/lib/python3.8/site-packages/pandas/core/generic.py\u001b[0m in \u001b[0;36m__getattr__\u001b[0;34m(self, name)\u001b[0m\n\u001b[1;32m   5272\u001b[0m             \u001b[0;32mif\u001b[0m \u001b[0mself\u001b[0m\u001b[0;34m.\u001b[0m\u001b[0m_info_axis\u001b[0m\u001b[0;34m.\u001b[0m\u001b[0m_can_hold_identifiers_and_holds_name\u001b[0m\u001b[0;34m(\u001b[0m\u001b[0mname\u001b[0m\u001b[0;34m)\u001b[0m\u001b[0;34m:\u001b[0m\u001b[0;34m\u001b[0m\u001b[0;34m\u001b[0m\u001b[0m\n\u001b[1;32m   5273\u001b[0m                 \u001b[0;32mreturn\u001b[0m \u001b[0mself\u001b[0m\u001b[0;34m[\u001b[0m\u001b[0mname\u001b[0m\u001b[0;34m]\u001b[0m\u001b[0;34m\u001b[0m\u001b[0;34m\u001b[0m\u001b[0m\n\u001b[0;32m-> 5274\u001b[0;31m             \u001b[0;32mreturn\u001b[0m \u001b[0mobject\u001b[0m\u001b[0;34m.\u001b[0m\u001b[0m__getattribute__\u001b[0m\u001b[0;34m(\u001b[0m\u001b[0mself\u001b[0m\u001b[0;34m,\u001b[0m \u001b[0mname\u001b[0m\u001b[0;34m)\u001b[0m\u001b[0;34m\u001b[0m\u001b[0;34m\u001b[0m\u001b[0m\n\u001b[0m\u001b[1;32m   5275\u001b[0m \u001b[0;34m\u001b[0m\u001b[0m\n\u001b[1;32m   5276\u001b[0m     \u001b[0;32mdef\u001b[0m \u001b[0m__setattr__\u001b[0m\u001b[0;34m(\u001b[0m\u001b[0mself\u001b[0m\u001b[0;34m,\u001b[0m \u001b[0mname\u001b[0m\u001b[0;34m:\u001b[0m \u001b[0mstr\u001b[0m\u001b[0;34m,\u001b[0m \u001b[0mvalue\u001b[0m\u001b[0;34m)\u001b[0m \u001b[0;34m->\u001b[0m \u001b[0;32mNone\u001b[0m\u001b[0;34m:\u001b[0m\u001b[0;34m\u001b[0m\u001b[0;34m\u001b[0m\u001b[0m\n",
      "\u001b[0;31mAttributeError\u001b[0m: 'DataFrame' object has no attribute 'value_counts'"
     ]
    }
   ],
   "source": [
    "linked_transactions_by_pool = apply_same_gas_price_heuristic_by_pool(deposit_transactions_df, non_relayer_withdraw_transactions_df)"
   ]
  },
  {
   "cell_type": "code",
   "execution_count": 12,
   "metadata": {},
   "outputs": [
    {
     "data": {
      "text/html": [
       "<div>\n",
       "<style scoped>\n",
       "    .dataframe tbody tr th:only-of-type {\n",
       "        vertical-align: middle;\n",
       "    }\n",
       "\n",
       "    .dataframe tbody tr th {\n",
       "        vertical-align: top;\n",
       "    }\n",
       "\n",
       "    .dataframe thead th {\n",
       "        text-align: right;\n",
       "    }\n",
       "</style>\n",
       "<table border=\"1\" class=\"dataframe\">\n",
       "  <thead>\n",
       "    <tr style=\"text-align: right;\">\n",
       "      <th></th>\n",
       "      <th>withdraw_hashes</th>\n",
       "      <th>deposit_hashes</th>\n",
       "    </tr>\n",
       "  </thead>\n",
       "  <tbody>\n",
       "    <tr>\n",
       "      <th>0</th>\n",
       "      <td>0xb0835cab1d39dfcc6e43f5382adb9a14eff1b6594066...</td>\n",
       "      <td>0x7734d2f258455fbf845ce3ddb889a711c0493a0fc93a...</td>\n",
       "    </tr>\n",
       "    <tr>\n",
       "      <th>1</th>\n",
       "      <td>0xb286bf92448d1551fd3be5fb97709d1015086118437d...</td>\n",
       "      <td>0xe33a7ab84bb4d31b487529e42f869b5f2310d9aae9c8...</td>\n",
       "    </tr>\n",
       "    <tr>\n",
       "      <th>2</th>\n",
       "      <td>0x3ef076bef26c1d3a8fd871ecbd125f98c2bb85d4fb4b...</td>\n",
       "      <td>0x4da8899d4764c3a8d64f95f1bf0c67b61dc00fed3381...</td>\n",
       "    </tr>\n",
       "    <tr>\n",
       "      <th>3</th>\n",
       "      <td>0xda1eb6593a724f270d6668932f874546a0e98317ff76...</td>\n",
       "      <td>0xd382985d27002cbd8c803b324a42dcc93e39955fb9a4...</td>\n",
       "    </tr>\n",
       "    <tr>\n",
       "      <th>4</th>\n",
       "      <td>0xb958620f035bca2c1776deeef03f642c3bfeb40b7da9...</td>\n",
       "      <td>0x52712f9e22e5b0c822d88ce78b16130d91064fd7f1ad...</td>\n",
       "    </tr>\n",
       "    <tr>\n",
       "      <th>...</th>\n",
       "      <td>...</td>\n",
       "      <td>...</td>\n",
       "    </tr>\n",
       "    <tr>\n",
       "      <th>1258</th>\n",
       "      <td>0x4611c3b8eb6b90d267295aa822878a4200e5257fa381...</td>\n",
       "      <td>0x1af19bf59b0a2c3877a784d7c0e9d879e0550236bb25...</td>\n",
       "    </tr>\n",
       "    <tr>\n",
       "      <th>1259</th>\n",
       "      <td>0x88e3e2d091efaa07f3ca7bae94d7cd6314ca68127d6b...</td>\n",
       "      <td>0x773d0041752549dbffa735b3a5778746789adcdce51b...</td>\n",
       "    </tr>\n",
       "    <tr>\n",
       "      <th>1260</th>\n",
       "      <td>0x2516a26c3ff0a0583c72b9b5666c36370789843ff85e...</td>\n",
       "      <td>0x658be4fc6bf021744611067c36319be83f49f011fa7a...</td>\n",
       "    </tr>\n",
       "    <tr>\n",
       "      <th>1261</th>\n",
       "      <td>0x9e1a17c0286f15358687ae7cb4f206ccfa14a08b5384...</td>\n",
       "      <td>0x1cdf20fc3fcf4ef61a3e3e45e579611e1070a0de8771...</td>\n",
       "    </tr>\n",
       "    <tr>\n",
       "      <th>1262</th>\n",
       "      <td>0xabdfa46886e13322aae429f67277943b4b0c35167223...</td>\n",
       "      <td>0x1cdf20fc3fcf4ef61a3e3e45e579611e1070a0de8771...</td>\n",
       "    </tr>\n",
       "  </tbody>\n",
       "</table>\n",
       "<p>1263 rows × 2 columns</p>\n",
       "</div>"
      ],
      "text/plain": [
       "                                        withdraw_hashes  \\\n",
       "0     0xb0835cab1d39dfcc6e43f5382adb9a14eff1b6594066...   \n",
       "1     0xb286bf92448d1551fd3be5fb97709d1015086118437d...   \n",
       "2     0x3ef076bef26c1d3a8fd871ecbd125f98c2bb85d4fb4b...   \n",
       "3     0xda1eb6593a724f270d6668932f874546a0e98317ff76...   \n",
       "4     0xb958620f035bca2c1776deeef03f642c3bfeb40b7da9...   \n",
       "...                                                 ...   \n",
       "1258  0x4611c3b8eb6b90d267295aa822878a4200e5257fa381...   \n",
       "1259  0x88e3e2d091efaa07f3ca7bae94d7cd6314ca68127d6b...   \n",
       "1260  0x2516a26c3ff0a0583c72b9b5666c36370789843ff85e...   \n",
       "1261  0x9e1a17c0286f15358687ae7cb4f206ccfa14a08b5384...   \n",
       "1262  0xabdfa46886e13322aae429f67277943b4b0c35167223...   \n",
       "\n",
       "                                         deposit_hashes  \n",
       "0     0x7734d2f258455fbf845ce3ddb889a711c0493a0fc93a...  \n",
       "1     0xe33a7ab84bb4d31b487529e42f869b5f2310d9aae9c8...  \n",
       "2     0x4da8899d4764c3a8d64f95f1bf0c67b61dc00fed3381...  \n",
       "3     0xd382985d27002cbd8c803b324a42dcc93e39955fb9a4...  \n",
       "4     0x52712f9e22e5b0c822d88ce78b16130d91064fd7f1ad...  \n",
       "...                                                 ...  \n",
       "1258  0x1af19bf59b0a2c3877a784d7c0e9d879e0550236bb25...  \n",
       "1259  0x773d0041752549dbffa735b3a5778746789adcdce51b...  \n",
       "1260  0x658be4fc6bf021744611067c36319be83f49f011fa7a...  \n",
       "1261  0x1cdf20fc3fcf4ef61a3e3e45e579611e1070a0de8771...  \n",
       "1262  0x1cdf20fc3fcf4ef61a3e3e45e579611e1070a0de8771...  \n",
       "\n",
       "[1263 rows x 2 columns]"
      ]
     },
     "execution_count": 12,
     "metadata": {},
     "output_type": "execute_result"
    }
   ],
   "source": [
    "linked_transactions_by_pool_df = pd.DataFrame.from_dict({\"withdraw_hashes\": linked_transactions_by_pool.keys(), \"deposit_hashes\": linked_transactions_by_pool.values()})\n",
    "linked_transactions_by_pool_df"
   ]
  }
 ],
 "metadata": {
  "kernelspec": {
   "display_name": "Python 3",
   "language": "python",
   "name": "python3"
  },
  "language_info": {
   "codemirror_mode": {
    "name": "ipython",
    "version": 3
   },
   "file_extension": ".py",
   "mimetype": "text/x-python",
   "name": "python",
   "nbconvert_exporter": "python",
   "pygments_lexer": "ipython3",
   "version": "3.8.3"
  }
 },
 "nbformat": 4,
 "nbformat_minor": 5
}
