{
 "cells": [
  {
   "cell_type": "code",
   "execution_count": 83,
   "id": "d89d2792",
   "metadata": {},
   "outputs": [],
   "source": [
    "# Import relevant packages.\n",
    "import numpy as np\n",
    "import pandas as pd\n",
    "import matplotlib.pyplot as plt\n",
    "import seaborn as sns\n",
    "import itertools\n",
    "import json\n",
    "from collections import namedtuple, Counter\n",
    "from os.path import exists\n",
    "from tqdm import tqdm"
   ]
  },
  {
   "cell_type": "markdown",
   "id": "1063403e",
   "metadata": {},
   "source": [
    "## Heuristic 1\n",
    "### Description\n",
    "\n",
    "If a deposit address matches a withdraw address, then it is trivial to link the two addresses. Therefore, the deposit address needs to be removed from all the other withdraw addresses’ anonymity set. If a number $N$ of deposits with a same address $add1$, and a number $M$ ($M < N$) of withdraws with that same aaddress are detected, then a number $M - N$ of deposit transactions must be removed from the anonimity set of all the other withdraw transactions."
   ]
  },
  {
   "cell_type": "code",
   "execution_count": 3,
   "id": "279e5fa6",
   "metadata": {},
   "outputs": [],
   "source": [
    "with open('../data/tornado_pools.json') as json_file:\n",
    "    tornado_addresses = json.load(json_file)\n",
    "\n",
    "withdraw_transactions_df = pd.read_csv(\"../data/lighter_complete_withdraw_txs.csv\")\n",
    "withdraw_transactions_df[\"recipient_address\"] = withdraw_transactions_df[\"recipient_address\"].str.lower()\n",
    "withdraw_transactions_df[\"block_timestamp\"] = withdraw_transactions_df[\"block_timestamp\"].apply(pd.Timestamp)\n",
    "withdraw_transactions_df[\"tcash_pool\"] = withdraw_transactions_df[\"tornado_cash_address\"].apply(lambda addr: tornado_addresses[addr])\n",
    "\n",
    "deposit_transactions_df = pd.read_csv(\"../data/lighter_complete_deposit_txs.csv\")\n",
    "deposit_transactions_df[\"block_timestamp\"] = deposit_transactions_df[\"block_timestamp\"].apply(pd.Timestamp)\n",
    "deposit_transactions_df[\"tcash_pool\"] = deposit_transactions_df[\"tornado_cash_address\"].apply(lambda addr: tornado_addresses[addr])"
   ]
  },
  {
   "cell_type": "markdown",
   "id": "789d757b",
   "metadata": {},
   "source": [
    "### Function summary: addresses_to_transactions\n",
    "\n",
    "Given a transactions DataFrame, returns a dictionary with the unique addresses of the transactions data as keys and a list of tuples as values. The tuples consist on the hash of the transaction with the address as the corresponding key in the first index, the timestamp of the transaction in the second index and the tornado cash pool that the address is interacting with in that specific transaction.\n",
    "\n",
    "For example, if the address 0x6c6e4816ecfa4481472ff88 has made transaction with a hash 0x7f851ba1d7292ca565961073a111 that interacted with the 0.1 ETH pool at timestamp 1, and another transaction with hash 0x8f851ba1d7192ca565961073a9191 that interacted with the 1ETH pool at timestamp 2, then the dictionary returned will be:\n",
    "\n",
    "```\n",
    "{\"0x6c6e4816ecfa4481472ff88\": [(\"0x7f851ba1d7292ca565961073a111\", timestamp1, \"0x12D66f87A04A9E220743712cE6d9bB1B5616B8Fc\"), (\"0x8f851ba1d7192ca565961073a9191\", timestamp2, \"0x47CE0C6eD5B0Ce3d3A51fdb1C52DC66a7c3c2936\")]\n",
    "```\n",
    "\n",
    "Note that \"0x47CE0C6eD5B0Ce3d3A51fdb1C52DC66a7c3c2936\" is the 1 ETH address and \"0x12D66f87A04A9E220743712cE6d9bB1B5616B8Fc\" the one of 0.1 ETH pool"
   ]
  },
  {
   "cell_type": "code",
   "execution_count": 5,
   "id": "4c733feb",
   "metadata": {},
   "outputs": [
    {
     "data": {
      "text/html": [
       "<div>\n",
       "<style scoped>\n",
       "    .dataframe tbody tr th:only-of-type {\n",
       "        vertical-align: middle;\n",
       "    }\n",
       "\n",
       "    .dataframe tbody tr th {\n",
       "        vertical-align: top;\n",
       "    }\n",
       "\n",
       "    .dataframe thead th {\n",
       "        text-align: right;\n",
       "    }\n",
       "</style>\n",
       "<table border=\"1\" class=\"dataframe\">\n",
       "  <thead>\n",
       "    <tr style=\"text-align: right;\">\n",
       "      <th></th>\n",
       "      <th>Unnamed: 0</th>\n",
       "      <th>Unnamed: 0.1</th>\n",
       "      <th>hash</th>\n",
       "      <th>nonce</th>\n",
       "      <th>transaction_index</th>\n",
       "      <th>from_address</th>\n",
       "      <th>to_address</th>\n",
       "      <th>value</th>\n",
       "      <th>gas</th>\n",
       "      <th>gas_price</th>\n",
       "      <th>...</th>\n",
       "      <th>block_timestamp</th>\n",
       "      <th>block_number</th>\n",
       "      <th>block_hash</th>\n",
       "      <th>max_fee_per_gas</th>\n",
       "      <th>max_priority_fee_per_gas</th>\n",
       "      <th>transaction_type</th>\n",
       "      <th>receipt_effective_gas_price</th>\n",
       "      <th>tornado_cash_address</th>\n",
       "      <th>recipient_address</th>\n",
       "      <th>tcash_pool</th>\n",
       "    </tr>\n",
       "  </thead>\n",
       "  <tbody>\n",
       "    <tr>\n",
       "      <th>0</th>\n",
       "      <td>0</td>\n",
       "      <td>7</td>\n",
       "      <td>0x3dc8617176f45c0f33a95589c202b22f9ba8aa7067bb...</td>\n",
       "      <td>789</td>\n",
       "      <td>196</td>\n",
       "      <td>0x2d50dbcc960bec854227f51f8074e1da28bd4a37</td>\n",
       "      <td>0xa160cdab225685da1d56aa342ad8841c3b53f291</td>\n",
       "      <td>0</td>\n",
       "      <td>386384</td>\n",
       "      <td>121000000000</td>\n",
       "      <td>...</td>\n",
       "      <td>2020-10-05 07:57:28+00:00</td>\n",
       "      <td>10994498</td>\n",
       "      <td>0xa96abb653dd6d4e3cedd6bd65fd0a7b034e4c9527be9...</td>\n",
       "      <td>NaN</td>\n",
       "      <td>NaN</td>\n",
       "      <td>NaN</td>\n",
       "      <td>121000000000</td>\n",
       "      <td>0xa160cdab225685da1d56aa342ad8841c3b53f291</td>\n",
       "      <td>0xd843ce0f9da3bd30537b9850711ab8089e06b4cf</td>\n",
       "      <td>100 ETH</td>\n",
       "    </tr>\n",
       "    <tr>\n",
       "      <th>1</th>\n",
       "      <td>1</td>\n",
       "      <td>8</td>\n",
       "      <td>0x3199144ba98021e523c5ec1e4f4dcf64446d69b825da...</td>\n",
       "      <td>9</td>\n",
       "      <td>190</td>\n",
       "      <td>0xb77562124be8ac967cf7fc24573fe252aa39d95d</td>\n",
       "      <td>0x4736dcf1b7a3d580672cce6e7c65cd5cc9cfba9d</td>\n",
       "      <td>0</td>\n",
       "      <td>439456</td>\n",
       "      <td>13000000000</td>\n",
       "      <td>...</td>\n",
       "      <td>2020-02-11 19:10:54+00:00</td>\n",
       "      <td>9463504</td>\n",
       "      <td>0x1e1dc9cec82d1dcd0e68e60968d180408007e148ac06...</td>\n",
       "      <td>NaN</td>\n",
       "      <td>NaN</td>\n",
       "      <td>NaN</td>\n",
       "      <td>13000000000</td>\n",
       "      <td>0x4736dcf1b7a3d580672cce6e7c65cd5cc9cfba9d</td>\n",
       "      <td>0xb77562124be8ac967cf7fc24573fe252aa39d95d</td>\n",
       "      <td>1000 USDC</td>\n",
       "    </tr>\n",
       "    <tr>\n",
       "      <th>2</th>\n",
       "      <td>2</td>\n",
       "      <td>9</td>\n",
       "      <td>0x95a46a1305ddc8b7e01d82c7d6766fce4713c085929f...</td>\n",
       "      <td>2</td>\n",
       "      <td>81</td>\n",
       "      <td>0x0e54db73f82bd9fde34ebce53ea83bd197e9044c</td>\n",
       "      <td>0x4736dcf1b7a3d580672cce6e7c65cd5cc9cfba9d</td>\n",
       "      <td>0</td>\n",
       "      <td>439456</td>\n",
       "      <td>13200000000</td>\n",
       "      <td>...</td>\n",
       "      <td>2020-02-16 16:05:14+00:00</td>\n",
       "      <td>9495139</td>\n",
       "      <td>0x1f0562c98f40f0689ed8bac422b4714289bd452d9290...</td>\n",
       "      <td>NaN</td>\n",
       "      <td>NaN</td>\n",
       "      <td>NaN</td>\n",
       "      <td>13200000000</td>\n",
       "      <td>0x4736dcf1b7a3d580672cce6e7c65cd5cc9cfba9d</td>\n",
       "      <td>0x0e54db73f82bd9fde34ebce53ea83bd197e9044c</td>\n",
       "      <td>1000 USDC</td>\n",
       "    </tr>\n",
       "    <tr>\n",
       "      <th>3</th>\n",
       "      <td>3</td>\n",
       "      <td>13</td>\n",
       "      <td>0x172a0a1618aa6c1f9f27a370236d8c91156fd6192ad1...</td>\n",
       "      <td>2024</td>\n",
       "      <td>189</td>\n",
       "      <td>0x2d50dbcc960bec854227f51f8074e1da28bd4a37</td>\n",
       "      <td>0x47ce0c6ed5b0ce3d3a51fdb1c52dc66a7c3c2936</td>\n",
       "      <td>0</td>\n",
       "      <td>384581</td>\n",
       "      <td>40000000000</td>\n",
       "      <td>...</td>\n",
       "      <td>2020-11-09 17:08:00+00:00</td>\n",
       "      <td>11224582</td>\n",
       "      <td>0xe0ae8902495001fc28025238a74703c1b3d58282aaee...</td>\n",
       "      <td>NaN</td>\n",
       "      <td>NaN</td>\n",
       "      <td>NaN</td>\n",
       "      <td>40000000000</td>\n",
       "      <td>0x47ce0c6ed5b0ce3d3a51fdb1c52dc66a7c3c2936</td>\n",
       "      <td>0x42a9cf901e889ca8a685394854c27898dbff86b0</td>\n",
       "      <td>1 ETH</td>\n",
       "    </tr>\n",
       "    <tr>\n",
       "      <th>4</th>\n",
       "      <td>4</td>\n",
       "      <td>15</td>\n",
       "      <td>0x30becee80e63a039102df3b1243e5d314534abfcf3ed...</td>\n",
       "      <td>2350</td>\n",
       "      <td>127</td>\n",
       "      <td>0x2d50dbcc960bec854227f51f8074e1da28bd4a37</td>\n",
       "      <td>0x47ce0c6ed5b0ce3d3a51fdb1c52dc66a7c3c2936</td>\n",
       "      <td>0</td>\n",
       "      <td>404304</td>\n",
       "      <td>15020000842</td>\n",
       "      <td>...</td>\n",
       "      <td>2020-11-29 01:18:57+00:00</td>\n",
       "      <td>11350558</td>\n",
       "      <td>0x4d8f724d2bdffa546cef74d21c6c43968b566b67318e...</td>\n",
       "      <td>NaN</td>\n",
       "      <td>NaN</td>\n",
       "      <td>NaN</td>\n",
       "      <td>15020000842</td>\n",
       "      <td>0x47ce0c6ed5b0ce3d3a51fdb1c52dc66a7c3c2936</td>\n",
       "      <td>0xc9fb4b16800e61076326145e1066e876cf9f7a7b</td>\n",
       "      <td>1 ETH</td>\n",
       "    </tr>\n",
       "  </tbody>\n",
       "</table>\n",
       "<p>5 rows × 25 columns</p>\n",
       "</div>"
      ],
      "text/plain": [
       "   Unnamed: 0  Unnamed: 0.1  \\\n",
       "0           0             7   \n",
       "1           1             8   \n",
       "2           2             9   \n",
       "3           3            13   \n",
       "4           4            15   \n",
       "\n",
       "                                                hash  nonce  \\\n",
       "0  0x3dc8617176f45c0f33a95589c202b22f9ba8aa7067bb...    789   \n",
       "1  0x3199144ba98021e523c5ec1e4f4dcf64446d69b825da...      9   \n",
       "2  0x95a46a1305ddc8b7e01d82c7d6766fce4713c085929f...      2   \n",
       "3  0x172a0a1618aa6c1f9f27a370236d8c91156fd6192ad1...   2024   \n",
       "4  0x30becee80e63a039102df3b1243e5d314534abfcf3ed...   2350   \n",
       "\n",
       "   transaction_index                                from_address  \\\n",
       "0                196  0x2d50dbcc960bec854227f51f8074e1da28bd4a37   \n",
       "1                190  0xb77562124be8ac967cf7fc24573fe252aa39d95d   \n",
       "2                 81  0x0e54db73f82bd9fde34ebce53ea83bd197e9044c   \n",
       "3                189  0x2d50dbcc960bec854227f51f8074e1da28bd4a37   \n",
       "4                127  0x2d50dbcc960bec854227f51f8074e1da28bd4a37   \n",
       "\n",
       "                                   to_address  value     gas     gas_price  \\\n",
       "0  0xa160cdab225685da1d56aa342ad8841c3b53f291      0  386384  121000000000   \n",
       "1  0x4736dcf1b7a3d580672cce6e7c65cd5cc9cfba9d      0  439456   13000000000   \n",
       "2  0x4736dcf1b7a3d580672cce6e7c65cd5cc9cfba9d      0  439456   13200000000   \n",
       "3  0x47ce0c6ed5b0ce3d3a51fdb1c52dc66a7c3c2936      0  384581   40000000000   \n",
       "4  0x47ce0c6ed5b0ce3d3a51fdb1c52dc66a7c3c2936      0  404304   15020000842   \n",
       "\n",
       "   ...           block_timestamp  block_number  \\\n",
       "0  ... 2020-10-05 07:57:28+00:00      10994498   \n",
       "1  ... 2020-02-11 19:10:54+00:00       9463504   \n",
       "2  ... 2020-02-16 16:05:14+00:00       9495139   \n",
       "3  ... 2020-11-09 17:08:00+00:00      11224582   \n",
       "4  ... 2020-11-29 01:18:57+00:00      11350558   \n",
       "\n",
       "                                          block_hash  max_fee_per_gas  \\\n",
       "0  0xa96abb653dd6d4e3cedd6bd65fd0a7b034e4c9527be9...              NaN   \n",
       "1  0x1e1dc9cec82d1dcd0e68e60968d180408007e148ac06...              NaN   \n",
       "2  0x1f0562c98f40f0689ed8bac422b4714289bd452d9290...              NaN   \n",
       "3  0xe0ae8902495001fc28025238a74703c1b3d58282aaee...              NaN   \n",
       "4  0x4d8f724d2bdffa546cef74d21c6c43968b566b67318e...              NaN   \n",
       "\n",
       "   max_priority_fee_per_gas transaction_type  receipt_effective_gas_price  \\\n",
       "0                       NaN              NaN                 121000000000   \n",
       "1                       NaN              NaN                  13000000000   \n",
       "2                       NaN              NaN                  13200000000   \n",
       "3                       NaN              NaN                  40000000000   \n",
       "4                       NaN              NaN                  15020000842   \n",
       "\n",
       "                         tornado_cash_address  \\\n",
       "0  0xa160cdab225685da1d56aa342ad8841c3b53f291   \n",
       "1  0x4736dcf1b7a3d580672cce6e7c65cd5cc9cfba9d   \n",
       "2  0x4736dcf1b7a3d580672cce6e7c65cd5cc9cfba9d   \n",
       "3  0x47ce0c6ed5b0ce3d3a51fdb1c52dc66a7c3c2936   \n",
       "4  0x47ce0c6ed5b0ce3d3a51fdb1c52dc66a7c3c2936   \n",
       "\n",
       "                            recipient_address  tcash_pool  \n",
       "0  0xd843ce0f9da3bd30537b9850711ab8089e06b4cf     100 ETH  \n",
       "1  0xb77562124be8ac967cf7fc24573fe252aa39d95d   1000 USDC  \n",
       "2  0x0e54db73f82bd9fde34ebce53ea83bd197e9044c   1000 USDC  \n",
       "3  0x42a9cf901e889ca8a685394854c27898dbff86b0       1 ETH  \n",
       "4  0xc9fb4b16800e61076326145e1066e876cf9f7a7b       1 ETH  \n",
       "\n",
       "[5 rows x 25 columns]"
      ]
     },
     "execution_count": 5,
     "metadata": {},
     "output_type": "execute_result"
    }
   ],
   "source": [
    "withdraw_transactions_df.head()"
   ]
  },
  {
   "cell_type": "code",
   "execution_count": 7,
   "id": "17367649",
   "metadata": {},
   "outputs": [],
   "source": [
    "def addresses_to_transactions(transactions_df):\n",
    "    \n",
    "    # Initialize empty dictionary to store addresses and associated transactions.\n",
    "    \n",
    "    address_to_transactions_dict = {}\n",
    "    \n",
    "    # We iterate over every transaction in the transactions DataFrame.\n",
    "    \n",
    "    for row in tqdm(transactions_df.itertuples(), mininterval=5, total=transactions_df.shape[0]):\n",
    "        '''\n",
    "        We check if the address of the current transaction in the iteration is already in the \n",
    "        dictionary. If it isn't, then we initialize that key and the list with the tuple. The\n",
    "        tuple will consist of the hash and the timestamp of the current transaction.\n",
    "        \n",
    "        If the key already exists, we append to the associated list the tuple of the hash and\n",
    "        timestamp of the current transaction.\n",
    "        '''\n",
    "        \n",
    "        if row.from_address not in set(address_to_transactions_dict.keys()):\n",
    "            address_to_transactions_dict[row.from_address] = [(row.hash, row.block_timestamp, row.tornado_cash_address)]\n",
    "        else:\n",
    "            address_to_transactions_dict[row.from_address].append((row.hash, row.block_timestamp, row.tornado_cash_address))\n",
    "    \n",
    "    # The dictionary with the addresses and transactions is returned.\n",
    "    \n",
    "    return address_to_transactions_dict"
   ]
  },
  {
   "cell_type": "markdown",
   "id": "0c512068",
   "metadata": {},
   "source": [
    "### Function summary: same_deposit_and_recipient_addresses_heuristic\n",
    "\n",
    "The function receives a particular withdraw transaction and a dictionary corresponding to what is returned by function addresses_to_transactions.\n",
    "\n",
    "It returns a tuple:\n",
    "\n",
    "* (True, list_of_same_address_deposit_hashes): When same address deposits are found, this tuple is returned. In the first element a boolean true, and the second is a list with all the deposit hashes that verify having the same address as the withdraw transaction.\n",
    "\n",
    "* (False, None): When no such deposit was found"
   ]
  },
  {
   "cell_type": "code",
   "execution_count": 8,
   "id": "b7035db8",
   "metadata": {},
   "outputs": [],
   "source": [
    "def same_deposit_and_recipient_address_heuristic(withdraw_transaction, deposit_addresses_to_transactions):\n",
    "    \n",
    "    '''\n",
    "    Check if the address of the withdraw tx is in the deposit_addresses_to_transactions keys.\n",
    "    If it is, then a list is created with the hashes of all the deposit txs with the same address and\n",
    "    with an earlier timestamp than the withdraw tx.\n",
    "    If the address is not in the deposit_addresses_to_transactions dictionary, (False, None) is returned.\n",
    "    '''\n",
    "    \n",
    "    if withdraw_transaction.recipient_address in set(deposit_addresses_to_transactions.keys()):\n",
    "        \n",
    "        # Only the transactions with earlier timestamps and same pool are selected for the list same_deposit_address_hashes.\n",
    "        same_deposit_address_hashes = [tx_hash[0] for tx_hash in deposit_addresses_to_transactions[withdraw_transaction.recipient_address] if (tx_hash[1] <= withdraw_transaction.block_timestamp) and (tx_hash[2] == withdraw_transaction.tornado_cash_address)]\n",
    "        \n",
    "        # Final check to assert that list is not empty.\n",
    "        if len(same_deposit_address_hashes) > 0:\n",
    "            return (True, same_deposit_address_hashes)\n",
    "        else:\n",
    "            return (False, None)\n",
    "        \n",
    "    return (False, None)"
   ]
  },
  {
   "cell_type": "code",
   "execution_count": 90,
   "id": "d7353c83",
   "metadata": {
    "scrolled": true
   },
   "outputs": [],
   "source": [
    "# deposit_addresses_to_transactions = addresses_to_transactions(deposit_transactions_df)"
   ]
  },
  {
   "cell_type": "markdown",
   "id": "9f4c16ea",
   "metadata": {},
   "source": [
    "\n",
    "### Function summary: apply_same_deposit_and_recipient_addresses_heuristic\n",
    "\n",
    "Receives the withdraw and deposit transactions, and applies the first heuristic for each withdraw transaction. Returns a dictionary, with keys as the hash of each withdraw transaction were a same deposit address was detected. The values are the hashes of all deposits matching this criteria.\n"
   ]
  },
  {
   "cell_type": "code",
   "execution_count": 9,
   "id": "3ebea2c3",
   "metadata": {},
   "outputs": [],
   "source": [
    "def apply_same_deposit_and_recpient_address_heuristic(withdraw_transactions_df, deposit_transactions_df):\n",
    "    \n",
    "    # Initialize an empty dictionary for storing the links between withdraw hashes and deposit hashes with the \n",
    "    # same address.\n",
    "    \n",
    "    deposit_addresses_and_transactions = addresses_to_transactions(deposit_transactions_df)\n",
    "    \n",
    "    same_deposit_address_hashes = {}\n",
    "    \n",
    "    # Iterate over the withdraw transactions and apply heuristic one. For each withdraw with matching deposit\n",
    "    # transactions, a new element is added to the dictionary with the key as the withdraw hash and the values\n",
    "    # as all matching deposit hashes.\n",
    "    \n",
    "    for withdraw_row_tuple in tqdm(withdraw_transactions_df.itertuples(), total=withdraw_transactions_df.shape[0], mininterval=5):\n",
    "        deposit_hashes = same_deposit_and_recipient_address_heuristic(withdraw_row_tuple, deposit_addresses_and_transactions)\n",
    "        # print(deposit_hashes)\n",
    "\n",
    "        if deposit_hashes[0]:\n",
    "            same_deposit_address_hashes[withdraw_row_tuple.hash] = deposit_hashes[1]\n",
    "\n",
    "    # Return the dictionary with the links\n",
    "    \n",
    "    return same_deposit_address_hashes"
   ]
  },
  {
   "cell_type": "code",
   "execution_count": 10,
   "id": "bf117b0a",
   "metadata": {
    "scrolled": false
   },
   "outputs": [
    {
     "name": "stderr",
     "output_type": "stream",
     "text": [
      "100%|██████████| 97365/97365 [00:55<00:00, 1743.33it/s]\n",
      "100%|██████████| 83782/83782 [01:45<00:00, 795.64it/s]\n"
     ]
    }
   ],
   "source": [
    "hashes_dict = apply_same_deposit_and_recpient_address_heuristic(withdraw_transactions_df, deposit_transactions_df)"
   ]
  },
  {
   "cell_type": "code",
   "execution_count": 112,
   "id": "5fd69947",
   "metadata": {},
   "outputs": [
    {
     "data": {
      "text/plain": [
       "14284"
      ]
     },
     "execution_count": 112,
     "metadata": {},
     "output_type": "execute_result"
    }
   ],
   "source": [
    "len(hashes_dict)"
   ]
  },
  {
   "cell_type": "markdown",
   "id": "d0a3bc57",
   "metadata": {},
   "source": [
    "### Results analysis"
   ]
  },
  {
   "cell_type": "markdown",
   "id": "4544b3e4",
   "metadata": {},
   "source": [
    "#### Deposit transactions linked to withdraws"
   ]
  },
  {
   "cell_type": "code",
   "execution_count": 11,
   "id": "f3d62d29",
   "metadata": {},
   "outputs": [],
   "source": [
    "# Count of deposit transactions linked to withdraws.\n",
    "linked_deposits_count = list(map(lambda x: len(x), hashes_dict.values()))"
   ]
  },
  {
   "cell_type": "code",
   "execution_count": 24,
   "id": "e02de96a",
   "metadata": {
    "scrolled": false
   },
   "outputs": [
    {
     "data": {
      "image/png": "[encoded data removed]",
      "text/plain": [
       "<Figure size 720x360 with 1 Axes>"
      ]
     },
     "metadata": {},
     "output_type": "display_data"
    }
   ],
   "source": [
    "sns.set_theme(style=\"darkgrid\")\n",
    "fig, ax = plt.subplots(figsize=(10, 5))\n",
    "ax.hist(linked_deposits_count, bins=20)\n",
    "ax.set_title(\"Histogram of number of deposits linked to withdraws\")\n",
    "ax.set_xlabel(\"Number of deposits\")\n",
    "ax.set_ylabel(\"Withdraw count\")\n",
    "ax.set_yscale(\"log\")\n",
    "plt.show()"
   ]
  },
  {
   "cell_type": "markdown",
   "id": "51c57c6c",
   "metadata": {},
   "source": [
    "#### Compromised deposit transactions for each TCash pool"
   ]
  },
  {
   "cell_type": "code",
   "execution_count": 44,
   "id": "7b56178c",
   "metadata": {},
   "outputs": [],
   "source": [
    "def tx_to_pool(deposit_transactions_df):\n",
    "    tx_to_pool_dict = {}\n",
    "    for row in tqdm(deposit_transactions_df.itertuples(), mininterval=1):\n",
    "        tx_to_pool_dict[row.hash] = row.tcash_pool\n",
    "    \n",
    "    return tx_to_pool_dict"
   ]
  },
  {
   "cell_type": "code",
   "execution_count": 26,
   "id": "bbc6912d",
   "metadata": {},
   "outputs": [
    {
     "name": "stderr",
     "output_type": "stream",
     "text": [
      "97365it [00:00, 138976.31it/s]\n"
     ]
    }
   ],
   "source": [
    "tx_to_pool_dict = tx_to_pool(deposit_transactions_df)\n",
    "compromised_deposit_hashes = set(list(itertools.chain(*hashes_dict.values())))\n",
    "number_of_compromised_deposits_by_pool = Counter(list(map(lambda x: tx_to_pool_dict[x], compromised_deposit_hashes)))"
   ]
  },
  {
   "cell_type": "code",
   "execution_count": 27,
   "id": "311b313c",
   "metadata": {},
   "outputs": [],
   "source": [
    "pools_to_deposits = dict(deposit_transactions_df.groupby(\"tcash_pool\")[\"hash\"].apply(list))\n",
    "number_of_uncompromised_deposits_by_pool = {}\n",
    "for pool in list(pools_to_deposits.keys()):\n",
    "    number_of_uncompromised_deposits_by_pool[pool] = len(pools_to_deposits[pool]) - number_of_compromised_deposits_by_pool[pool]"
   ]
  },
  {
   "cell_type": "code",
   "execution_count": 28,
   "id": "b143aa0a",
   "metadata": {},
   "outputs": [],
   "source": [
    "compromised_vs_uncompromised_by_pool = {}\n",
    "\n",
    "for pool in list(number_of_compromised_deposits_by_pool.keys()):\n",
    "    compromised_vs_uncompromised_by_pool[pool] = (number_of_compromised_deposits_by_pool[pool], number_of_uncompromised_deposits_by_pool[pool])"
   ]
  },
  {
   "cell_type": "code",
   "execution_count": 29,
   "id": "5f1b1478",
   "metadata": {},
   "outputs": [],
   "source": [
    "eth_pools = [\"0.1 ETH\", \"1 ETH\", \"10 ETH\", \"100 ETH\"]\n",
    "tkn_pools = [pool for pool in compromised_vs_uncompromised_by_pool.keys() if pool not in eth_pools]\n",
    "all_pools = eth_pools + tkn_pools"
   ]
  },
  {
   "cell_type": "code",
   "execution_count": 31,
   "id": "cd265236",
   "metadata": {},
   "outputs": [
    {
     "data": {
      "image/png": "[encoded data removed]",
      "text/plain": [
       "<Figure size 720x360 with 1 Axes>"
      ]
     },
     "metadata": {},
     "output_type": "display_data"
    }
   ],
   "source": [
    "points = [compromised_vs_uncompromised_by_pool[pool] for pool in all_pools]\n",
    "\n",
    "eth_compromised = [t[0] for t in points[:4]]\n",
    "eth_uncompromised = [t[1] for t in points[:4]]\n",
    "eth_x_axis = np.arange(len(eth_pools))\n",
    "\n",
    "sns.set_theme(style=\"darkgrid\")\n",
    "fig, (ax1) = plt.subplots(ncols=1, figsize=(10, 5))\n",
    "ax1.bar(eth_x_axis - 0.2, eth_compromised, 0.4, label = \"Compromised\")\n",
    "ax1.bar(eth_x_axis + 0.2, eth_uncompromised, 0.4, label = \"Uncompromised\")\n",
    "ax1.set_xticks(eth_x_axis)\n",
    "ax1.set_xticklabels(eth_pools, rotation=\"vertical\")\n",
    "ax1.set_xlabel(\"Pools\")\n",
    "ax1.set_ylabel(\"Number of deposits\")\n",
    "ax1.legend(fontsize=13)\n",
    "\n",
    "plt.show()"
   ]
  },
  {
   "cell_type": "markdown",
   "id": "1502d6c5",
   "metadata": {},
   "source": [
    "## Heuristic 2\n",
    "\n",
    "### Description\n",
    "\n",
    "If there is a deposit and a withdraw transaction with **unique** gas prices (e.g., 3.1415926 Gwei), then we consider the deposit and the withdraw transactions linked. The corresponding deposit transaction can be removed from any other withdraw transaction’s anonymity set."
   ]
  },
  {
   "cell_type": "markdown",
   "id": "22ff35c9",
   "metadata": {},
   "source": [
    "### Getting the data\n",
    "We obtain the data using Google Big Query.\n",
    "In order to obtain the deposits and withdrawals transactions, just run the following querys:\n",
    "\n",
    "### Withdrawals \n",
    "SELECT * FROM `bigquery-public-data.crypto_ethereum.transactions` WHERE `to_address` \n",
    "IN (SELECT `address` FROM `tornado_cash_transactions.tornadocontracts`) AND SUBSTR(`input`, 1, 10) = \"0x21a0adb6\";\n",
    "\n",
    "### Deposits\n",
    "SELECT * FROM `bigquery-public-data.crypto_ethereum.transactions` WHERE `to_address` \n",
    "IN (SELECT `address` FROM `tornado_cash_transactions.tornadocontracts`) AND SUBSTR(`input`, 1, 10) = \"0xb214faa5\";\n",
    "\n",
    "References here:\n",
    "https://github.com/Phread420/tornado_bigquery/blob/main/Notes.md\n",
    "\n",
    "This results are stored in the following files:\n",
    "- withdraw_transactions.csv\n",
    "- deposit_transactions.csv\n",
    "\n",
    "After obtaining those two files, the next thing to do is to get the \"recipient_addresses\" that are making the withdrawl (if the user withdraws via a relayer, the relayer's account will be displayed in the \"from_addres\" field). That information is encoded in the \"input\" field of the withdrawal transactions.\n",
    "\n",
    "The process to do so is in the following notebook:\n",
    "https://github.com/lambdaclass/tornado_cash_anonymity_tool/blob/main/notebooks/complete_withdraw_data_set.ipynb\n",
    "\n",
    "Note that the recipient addresses obtained in this df are in upper case and the addresses coming from the big query are in lower case, so you have to make the transformation when running the heuristic."
   ]
  },
  {
   "cell_type": "code",
   "execution_count": 32,
   "id": "f117cfcf",
   "metadata": {},
   "outputs": [],
   "source": [
    "# Load transactions data\n",
    "\n",
    "with open('../data/tornado_pools.json') as json_file:\n",
    "    tornado_addresses = json.load(json_file)\n",
    "\n",
    "withdraw_transactions_df = pd.read_csv(\"../data/lighter_complete_withdraw_txs.csv\")\n",
    "# Change recipient_address to lowercase.\n",
    "withdraw_transactions_df[\"recipient_address\"] = withdraw_transactions_df[\"recipient_address\"].str.lower()\n",
    "# Change block_timestamp field to be a timestamp object.\n",
    "withdraw_transactions_df[\"block_timestamp\"] = withdraw_transactions_df[\"block_timestamp\"].apply(pd.Timestamp)\n",
    "# Add tcash_pool column\n",
    "withdraw_transactions_df[\"tcash_pool\"] = withdraw_transactions_df[\"tornado_cash_address\"].apply(lambda addr: tornado_addresses[addr])\n",
    "\n",
    "deposit_transactions_df = pd.read_csv(\"../data/lighter_complete_deposit_txs.csv\")\n",
    "# Change block_timestamp field to be a timestamp object.\n",
    "deposit_transactions_df[\"block_timestamp\"] = deposit_transactions_df[\"block_timestamp\"].apply(pd.Timestamp)\n",
    "# Add tcash_pool column\n",
    "deposit_transactions_df[\"tcash_pool\"] = deposit_transactions_df[\"tornado_cash_address\"].apply(lambda addr: tornado_addresses[addr])\n",
    "\n",
    "non_relayer_withdraw_transactions_df = withdraw_transactions_df[withdraw_transactions_df[\"from_address\"]==withdraw_transactions_df[\"recipient_address\"]]\n",
    "\n",
    "\n",
    "# tornado_addresses = pd.read_csv(\"../data/tornadocontracts_abi.csv\", names=['address', 'contract_currency', 'value', '4'])"
   ]
  },
  {
   "cell_type": "markdown",
   "id": "b007c486",
   "metadata": {},
   "source": [
    "### Function summary: filter_by_unique_gas_price\n",
    "\n",
    "Given a transactions DataFrame, it returns a dictionary with the unique gas prices as keys and a tuple containing the hash of that transaction and the timestamp. For example,\n",
    "\n",
    "```\n",
    "{111000302: (\"0x387fcd87a\", timestamp1)\n",
    "```"
   ]
  },
  {
   "cell_type": "code",
   "execution_count": 33,
   "id": "e511c419",
   "metadata": {},
   "outputs": [],
   "source": [
    "def filter_by_unique_gas_price(transactions_df):\n",
    "    \n",
    "    # Count the appearances of each gas price in the transactions DataFrame.\n",
    "    \n",
    "    gas_prices_count = transactions_df[\"gas_price\"].value_counts()\n",
    "    \n",
    "    # Filter the gas prices that are unique, i.e., the ones with a count equal to 1.\n",
    "    # The gas prices are stored in unique_gas_prices\n",
    "    \n",
    "    unique_gas_prices = gas_prices_count[gas_prices_count == 1].keys()\n",
    "    \n",
    "    # A dataframe of the transactions that verify having these unique gas price values.\n",
    "    \n",
    "    temp_df = transactions_df[transactions_df[\"gas_price\"].isin(unique_gas_prices)]\n",
    "    \n",
    "    # The DataFrame is transformed to a dictionary with only the relevant information.\n",
    "    \n",
    "    return {row.gas_price: (row.hash, row.block_timestamp) for row in temp_df.itertuples()}"
   ]
  },
  {
   "cell_type": "markdown",
   "id": "6ab04009",
   "metadata": {},
   "source": [
    "### Function summary: filter_by_unique_gas_price_by_pool\n",
    "\n",
    "Given a transactions DataFrame, it returns a dictionary with a tuple of the unique gas prices and tornado pool as keys and a tuple containing the hash of that transaction and the timestamp. For example, \n",
    "\n",
    "```\n",
    "{(111000302, \"0x24387248\"): (\"0x387fcd87a\", timestamp1)\n",
    "\n",
    "```"
   ]
  },
  {
   "cell_type": "code",
   "execution_count": 34,
   "id": "c100eb55",
   "metadata": {},
   "outputs": [],
   "source": [
    "def filter_by_unique_gas_price_by_pool(transactions_df):\n",
    "    \n",
    "    # Count the appearances of each gas price by pool in the transactions DataFrame.\n",
    "    \n",
    "    gas_prices_count = deposit_transactions_df[[\"gas_price\", \"tornado_cash_address\"]].value_counts()\n",
    "    \n",
    "    '''\n",
    "    Filter the gas prices that are unique for each pool, i.e., the ones with a count equal to 1.\n",
    "    The gas prices are stored in unique_gas_prices\n",
    "    '''\n",
    "    \n",
    "    unique_gas_prices_by_pool = pd.DataFrame(gas_prices_count[gas_prices_count == 1])\n",
    "    \n",
    "    # Tuple set with the values (gas_price, tornado_cash_address) is made to filter efficiently\n",
    "    \n",
    "    tuple_set = set([(row.Index[0], row.Index[1]) for row in unique_gas_prices_by_pool.itertuples()])\n",
    "    \n",
    "    # A dataframe of the transactions that verify having these unique gas price values by pool.\n",
    "    \n",
    "    temp_df = pd.DataFrame(filter(lambda iter_tuple: (iter_tuple.gas_price, iter_tuple.tornado_cash_address) in tuple_set, deposit_transactions_df.itertuples()))\n",
    "    \n",
    "    # The DataFrame is transformed to a dictionary with only the relevant information.\n",
    "    \n",
    "    return {(row.gas_price, row.tornado_cash_address): (row.hash, row.block_timestamp) for row in temp_df.itertuples()}"
   ]
  },
  {
   "cell_type": "markdown",
   "id": "721b6356",
   "metadata": {},
   "source": [
    "A test of the function applied to our deposit transactions data."
   ]
  },
  {
   "cell_type": "markdown",
   "id": "7c2af31a",
   "metadata": {},
   "source": [
    "### Function summary: same_gas_price_heuristic\n",
    "\n",
    "This function receives a particular withdraw transaction and a dictionary with the unique gas price deposits, as returned by the function filter_by_unique_gas_price.\n",
    "\n",
    "It returns a tuple:\n",
    "* $(True, deposit$ $hash)$ when a deposit transaction with the same gas price as the withdrawal transaction is found.\n",
    "* $(False, None)$ when such a deposit is not found."
   ]
  },
  {
   "cell_type": "code",
   "execution_count": 35,
   "id": "91681643",
   "metadata": {},
   "outputs": [],
   "source": [
    "def same_gas_price_heuristic(withdrawal_transaction, unique_gas_price_deposit_dict):\n",
    "    \n",
    "    '''\n",
    "    Check if the gas price of the given withdrawal transaction is within the dictionary keys and that\n",
    "    the deposit was made earlier than the withdral.\n",
    "    If it is, then a tuple is returned, (True, deposit_hash).\n",
    "    If it is not, (False, None) is returned.\n",
    "    '''\n",
    "    \n",
    "    if withdrawal_transaction.gas_price in set(unique_gas_price_deposit_dict.keys()) and (unique_gas_price_deposit_dict[withdrawal_transaction.gas_price][1] < withdrawal_transaction.block_timestamp):\n",
    "        return (True, unique_gas_price_deposit_dict[withdrawal_transaction.gas_price][0])\n",
    "    else:   \n",
    "        return (False, None)"
   ]
  },
  {
   "cell_type": "markdown",
   "id": "051e5caf",
   "metadata": {},
   "source": [
    "### Function summary: same_gas_price_heuristic_by_pool\n",
    "\n",
    "This function receives a particular withdraw transaction and a dictionary with the unique gas price deposits made in each pool, just as returned by the function filter_by_unique_gas_price_by_pool.\n",
    "\n",
    "It returns a tuple:\n",
    "* $(True, deposit$ $hash)$ when a deposit transaction with the same gas price and belonging from the same pool (for example, 1ETH) as the withdrawal transaction is found.\n",
    "* $(False, None)$ when such a deposit is not found."
   ]
  },
  {
   "cell_type": "code",
   "execution_count": 36,
   "id": "e4e57d67",
   "metadata": {},
   "outputs": [],
   "source": [
    "def same_gas_price_heuristic_by_pool(withdrawal_transaction, unique_gas_price_deposit_dict):\n",
    "    \n",
    "    '''\n",
    "    Check if the pair (gas_price, tornado_pool) of the given withdrawal transaction is within the dictionary keys and that\n",
    "    the deposit was made earlier than the withdral.\n",
    "    If it is, then a tuple is returned, (True, deposit_hash).\n",
    "    If it is not, (False, None) is returned.\n",
    "    '''\n",
    "    \n",
    "    if (withdrawal_transaction.gas_price, withdrawal_transaction.tornado_cash_address) in set(unique_gas_price_deposit_dict.keys()) and (unique_gas_price_deposit_dict[(withdrawal_transaction.gas_price, withdrawal_transaction.tornado_cash_address)][1] < withdrawal_transaction.block_timestamp):\n",
    "        return (True, unique_gas_price_deposit_dict[(withdrawal_transaction.gas_price, withdrawal_transaction.tornado_cash_address)][0])\n",
    "    else:   \n",
    "        return (False, None)"
   ]
  },
  {
   "cell_type": "markdown",
   "id": "16f5aaa1",
   "metadata": {},
   "source": [
    "### Function summary: apply_same_gas_price_heuristic\n",
    "\n",
    "Applies the heuristic to all the withdraw_transactions DataFrame. Returns a dicionary mapping linked withdrawal and deposit transaction hashes."
   ]
  },
  {
   "cell_type": "code",
   "execution_count": 37,
   "id": "2df38bbe",
   "metadata": {},
   "outputs": [],
   "source": [
    "def apply_same_gas_price_heuristic(deposit_transactions_df, withdraw_transactions_df):\n",
    "    \n",
    "    # Get deposit transactions with unique gas prices.\n",
    "    \n",
    "    unique_gas_price_deposits_dict = filter_by_unique_gas_price(deposit_transactions_df)\n",
    "    \n",
    "    # Initialize an empty dictionary to store the linked transactions.\n",
    "    \n",
    "    withdrawal_to_deposit = {}\n",
    "    \n",
    "    # Iterate over the withdraw transactions.\n",
    "    for withdraw_row in tqdm(withdraw_transactions_df.itertuples(), total=withdraw_transactions_df.shape[0], mininterval=10):     \n",
    "        # Apply heuristic for the given withdraw transaction.\n",
    "        same_gas_deposit_hash = same_gas_price_heuristic(withdraw_row, unique_gas_price_deposits_dict)\n",
    "        \n",
    "        # When a deposit transaction matching the withdraw transaction gas price is found, add\n",
    "        # the linked transactions to the dictionary.\n",
    "        if same_gas_deposit_hash[0]:\n",
    "            withdrawal_to_deposit[withdraw_row.hash] = same_gas_deposit_hash[1]\n",
    "\n",
    "    # Return the linked transactions dictionary.\n",
    "    return withdrawal_to_deposit"
   ]
  },
  {
   "cell_type": "markdown",
   "id": "7581bc72",
   "metadata": {},
   "source": [
    "### Function summary: apply_same_gas_price_heuristic_by_pool\n",
    "\n",
    "Applies the heuristic to all the withdraw_transactions DataFrame, filtering also by the particular pool. Returns a dicionary mapping linked withdrawal and deposit transaction hashes."
   ]
  },
  {
   "cell_type": "code",
   "execution_count": 38,
   "id": "244e3104",
   "metadata": {},
   "outputs": [],
   "source": [
    "def apply_same_gas_price_heuristic_by_pool(deposit_transactions_df, withdraw_transactions_df):\n",
    "    \n",
    "    # Get deposit transactions with unique gas prices.\n",
    "    \n",
    "    unique_gas_price_deposits_dict = filter_by_unique_gas_price_by_pool(deposit_transactions_df)\n",
    "    \n",
    "    # Initialize an empty dictionary to store the linked transactions.\n",
    "    \n",
    "    withdrawal_to_deposit = {}\n",
    "    \n",
    "    # Iterate over the withdraw transactions.\n",
    "    for withdraw_row in tqdm(withdraw_transactions_df.itertuples(), total=withdraw_transactions_df.shape[0], mininterval=10):     \n",
    "        # Apply heuristic for the given withdraw transaction.\n",
    "        same_gas_deposit_hash = same_gas_price_heuristic_by_pool(withdraw_row, unique_gas_price_deposits_dict)\n",
    "        \n",
    "        # When a deposit transaction matching the withdraw transaction gas price is found, add\n",
    "        # the linked transactions to the dictionary.\n",
    "        if same_gas_deposit_hash[0]:\n",
    "            withdrawal_to_deposit[withdraw_row.hash] = same_gas_deposit_hash[1]\n",
    "\n",
    "    # Return the linked transactions dictionary.\n",
    "    return withdrawal_to_deposit"
   ]
  },
  {
   "cell_type": "markdown",
   "id": "2ef22159",
   "metadata": {},
   "source": [
    "We run the heuristic for the entire withdraw dataset"
   ]
  },
  {
   "cell_type": "code",
   "execution_count": 39,
   "id": "188f1f89",
   "metadata": {},
   "outputs": [
    {
     "name": "stderr",
     "output_type": "stream",
     "text": [
      "100%|██████████| 17037/17037 [00:06<00:00, 2527.65it/s]\n"
     ]
    }
   ],
   "source": [
    "linked_transactions = apply_same_gas_price_heuristic(deposit_transactions_df, non_relayer_withdraw_transactions_df)"
   ]
  },
  {
   "cell_type": "code",
   "execution_count": 40,
   "id": "6fdb4440",
   "metadata": {
    "scrolled": true
   },
   "outputs": [
    {
     "data": {
      "text/html": [
       "<div>\n",
       "<style scoped>\n",
       "    .dataframe tbody tr th:only-of-type {\n",
       "        vertical-align: middle;\n",
       "    }\n",
       "\n",
       "    .dataframe tbody tr th {\n",
       "        vertical-align: top;\n",
       "    }\n",
       "\n",
       "    .dataframe thead th {\n",
       "        text-align: right;\n",
       "    }\n",
       "</style>\n",
       "<table border=\"1\" class=\"dataframe\">\n",
       "  <thead>\n",
       "    <tr style=\"text-align: right;\">\n",
       "      <th></th>\n",
       "      <th>withdraw_hashes</th>\n",
       "      <th>deposit_hashes</th>\n",
       "    </tr>\n",
       "  </thead>\n",
       "  <tbody>\n",
       "    <tr>\n",
       "      <th>0</th>\n",
       "      <td>0xb07d06c8ca80ce4052954393d79b2f95d83034607d15...</td>\n",
       "      <td>0xbcd359d0323dc74c7a246d98cae706c75a6b3b518203...</td>\n",
       "    </tr>\n",
       "    <tr>\n",
       "      <th>1</th>\n",
       "      <td>0xbace5d33d2ce99ea408a03924846f4f5bc47b5125be3...</td>\n",
       "      <td>0x1cf1ce4d853c7f7df4c44634e45080e6c038dcd0c4e6...</td>\n",
       "    </tr>\n",
       "    <tr>\n",
       "      <th>2</th>\n",
       "      <td>0x99b09453c62a24b9b7f78c27b37d1c06c2b9a6428541...</td>\n",
       "      <td>0x1cf1ce4d853c7f7df4c44634e45080e6c038dcd0c4e6...</td>\n",
       "    </tr>\n",
       "    <tr>\n",
       "      <th>3</th>\n",
       "      <td>0xa0b96bec4615aad1d3c79871316cadd13f0b632e95ad...</td>\n",
       "      <td>0x1cf1ce4d853c7f7df4c44634e45080e6c038dcd0c4e6...</td>\n",
       "    </tr>\n",
       "    <tr>\n",
       "      <th>4</th>\n",
       "      <td>0x02f760cf72499455028fd5f99ccb0d8d8b56a637c5d2...</td>\n",
       "      <td>0x1cf1ce4d853c7f7df4c44634e45080e6c038dcd0c4e6...</td>\n",
       "    </tr>\n",
       "  </tbody>\n",
       "</table>\n",
       "</div>"
      ],
      "text/plain": [
       "                                     withdraw_hashes  \\\n",
       "0  0xb07d06c8ca80ce4052954393d79b2f95d83034607d15...   \n",
       "1  0xbace5d33d2ce99ea408a03924846f4f5bc47b5125be3...   \n",
       "2  0x99b09453c62a24b9b7f78c27b37d1c06c2b9a6428541...   \n",
       "3  0xa0b96bec4615aad1d3c79871316cadd13f0b632e95ad...   \n",
       "4  0x02f760cf72499455028fd5f99ccb0d8d8b56a637c5d2...   \n",
       "\n",
       "                                      deposit_hashes  \n",
       "0  0xbcd359d0323dc74c7a246d98cae706c75a6b3b518203...  \n",
       "1  0x1cf1ce4d853c7f7df4c44634e45080e6c038dcd0c4e6...  \n",
       "2  0x1cf1ce4d853c7f7df4c44634e45080e6c038dcd0c4e6...  \n",
       "3  0x1cf1ce4d853c7f7df4c44634e45080e6c038dcd0c4e6...  \n",
       "4  0x1cf1ce4d853c7f7df4c44634e45080e6c038dcd0c4e6...  "
      ]
     },
     "execution_count": 40,
     "metadata": {},
     "output_type": "execute_result"
    }
   ],
   "source": [
    "linked_transactions = pd.DataFrame.from_dict({\"withdraw_hashes\": linked_transactions.keys(), \"deposit_hashes\": linked_transactions.values()})\n",
    "linked_transactions.head()"
   ]
  },
  {
   "cell_type": "markdown",
   "id": "48ee9975",
   "metadata": {},
   "source": [
    "Now we run the heuristic that filters by pool, again applying it to the entire withdraw dataset."
   ]
  },
  {
   "cell_type": "code",
   "execution_count": 42,
   "id": "3c8fc3ef",
   "metadata": {},
   "outputs": [
    {
     "name": "stderr",
     "output_type": "stream",
     "text": [
      "100%|██████████| 17037/17037 [00:09<00:00, 1847.72it/s]\n"
     ]
    }
   ],
   "source": [
    "linked_transactions_by_pool = apply_same_gas_price_heuristic_by_pool(deposit_transactions_df, non_relayer_withdraw_transactions_df)"
   ]
  },
  {
   "cell_type": "code",
   "execution_count": 77,
   "id": "8ec902b0",
   "metadata": {
    "scrolled": true
   },
   "outputs": [],
   "source": [
    "linked_transactions_by_pool_df = pd.DataFrame.from_dict({\"withdraw_hashes\": linked_transactions_by_pool.keys(), \"deposit_hashes\": linked_transactions_by_pool.values()})"
   ]
  },
  {
   "cell_type": "code",
   "execution_count": 113,
   "id": "867c58f8",
   "metadata": {},
   "outputs": [
    {
     "data": {
      "text/plain": [
       "172"
      ]
     },
     "execution_count": 113,
     "metadata": {},
     "output_type": "execute_result"
    }
   ],
   "source": [
    "len(linked_transactions_by_pool_df)"
   ]
  },
  {
   "cell_type": "markdown",
   "id": "d22d0c4a",
   "metadata": {},
   "source": [
    "### Results analysis"
   ]
  },
  {
   "cell_type": "markdown",
   "id": "9ba7e97b",
   "metadata": {},
   "source": [
    "#### Compromised deposit transactions for each TCash pool"
   ]
  },
  {
   "cell_type": "code",
   "execution_count": 44,
   "id": "f3ae0a99",
   "metadata": {},
   "outputs": [],
   "source": [
    "def tx_to_pool(deposit_transactions_df):\n",
    "    tx_to_pool_dict = {}\n",
    "    for row in tqdm(deposit_transactions_df.itertuples(), mininterval=1):\n",
    "        tx_to_pool_dict[row.hash] = row.tcash_pool\n",
    "    \n",
    "    return tx_to_pool_dict"
   ]
  },
  {
   "cell_type": "code",
   "execution_count": 95,
   "id": "14ab7492",
   "metadata": {},
   "outputs": [
    {
     "data": {
      "image/png": "[encoded data removed]",
      "text/plain": [
       "<Figure size 1080x504 with 2 Axes>"
      ]
     },
     "metadata": {},
     "output_type": "display_data"
    }
   ],
   "source": [
    "pools = list(number_of_compromised_deposits_by_pool.keys())\n",
    "eth_pools = [\"0.1 ETH\", \"1 ETH\", \"10 ETH\", \"100 ETH\"]\n",
    "tkn_pools = [pool for pool in compromised_vs_uncompromised_by_pool.keys() if pool not in eth_pools]\n",
    "all_pools = eth_pools + tkn_pools\n",
    "compromised_eth_values = np.array(list(map(lambda key: number_of_compromised_deposits_by_pool[key], eth_pools)))\n",
    "compromised_tkn_values = np.array(list(map(lambda key: number_of_compromised_deposits_by_pool[key], tkn_pools)))\n",
    "\n",
    "usdt_pools = ['100 USDT', '1000 USDT']\n",
    "wbtc_pools = ['1 WBTC', '10 WBTC', '0.1 WBTC']\n",
    "dai_pools = ['1000 DAI', '10000 DAI', '100000 DAI', '100 DAI']\n",
    "cdai_pools = ['500000 cDAI', '5000000 cDAI']\n",
    "usdc_pools = ['100 USDC', '1000 USDC']\n",
    "\n",
    "def agglomerate_tokens(number_of_compromised_deposits_by_pool):\n",
    "    tokens_dict = {\"USDT\": 0, \"WBTC\": 0, \"DAI\": 0, \"cDAI\": 0, \"USDC\": 0}\n",
    "    \n",
    "    for pool in usdt_pools:\n",
    "        tokens_dict[\"USDT\"] += number_of_compromised_deposits_by_pool[pool]\n",
    "    for pool in wbtc_pools:\n",
    "        tokens_dict[\"WBTC\"] += number_of_compromised_deposits_by_pool[pool]\n",
    "        \n",
    "    for pool in dai_pools:\n",
    "        tokens_dict[\"DAI\"] += number_of_compromised_deposits_by_pool[pool]\n",
    "        \n",
    "    for pool in cdai_pools:\n",
    "        tokens_dict[\"cDAI\"] += number_of_compromised_deposits_by_pool[pool]\n",
    "        \n",
    "    for pool in usdc_pools:\n",
    "        tokens_dict[\"USDC\"] += number_of_compromised_deposits_by_pool[pool]\n",
    "        \n",
    "    return tokens_dict\n",
    "tokens_dict = agglomerate_tokens(number_of_compromised_deposits_by_pool)\n",
    "\n",
    "def absolute_value(val):\n",
    "    a  = np.round(val/100.*compromised_eth_values.sum(), 0)\n",
    "    return a\n",
    "\n",
    "token_keys = list(tokens_dict.keys())\n",
    "token_values = list(map(lambda key: tokens_dict[key], token_keys))\n",
    "\n",
    "fig, (ax1, ax2) = plt.subplots(ncols=2, figsize=(15, 7))\n",
    "ax1.pie(compromised_eth_values, labels = eth_pools, autopct = absolute_value)\n",
    "ax2.pie(token_values, labels = token_keys, autopct = absolute_value)\n",
    "fig.suptitle(\"Distribution of linked deposits by pool\")\n",
    "plt.show()"
   ]
  },
  {
   "cell_type": "code",
   "execution_count": 47,
   "id": "f65dc840",
   "metadata": {},
   "outputs": [],
   "source": [
    "compromised_vs_uncompromised_by_pool = {}\n",
    "\n",
    "for pool in list(number_of_compromised_deposits_by_pool.keys()):\n",
    "    compromised_vs_uncompromised_by_pool[pool] = (number_of_compromised_deposits_by_pool[pool], number_of_uncompromised_deposits_by_pool[pool])\n"
   ]
  },
  {
   "cell_type": "code",
   "execution_count": 48,
   "id": "743cc323",
   "metadata": {},
   "outputs": [],
   "source": [
    "eth_pools = [\"0.1 ETH\", \"1 ETH\", \"10 ETH\", \"100 ETH\"]\n",
    "tkn_pools = [pool for pool in compromised_vs_uncompromised_by_pool.keys() if pool not in eth_pools]\n",
    "all_pools = eth_pools + tkn_pools\n"
   ]
  },
  {
   "cell_type": "markdown",
   "id": "b919853c",
   "metadata": {},
   "source": [
    "## Heuristic 3 - Transactions outside TCash\n",
    "\n",
    "### Description\n",
    "The main goal of this heuristic is to link Ethereum accounts which interacted with TCash by inspecting Ethereum transactions outside it. \n",
    "\n",
    "This is done constructing two sets, one corresponding to the unique TCash deposit addresses ($S_{D}$) and one to the unique TCash withdraw addresses ($S_{W}$), to then make a query to reveal transactions between addresses of each set.\n",
    "\n",
    "Withdraw transactions are inspected one by one, searching for Ethereum transactions done between the withdraw address and any of the deposit addresses. When such a transaction is found, the withdraw transaction is linked with all the deposits of the deposit addresses that were done before the withdraw.\n",
    "\n",
    "\n",
    "### Data\n",
    "The query to the public BigQuery database was done like so,\n",
    "\n",
    "```\n",
    "INSERT `tornado_cash_transactions.transactions_between_withdraw_and_deposit_addresses` \n",
    "SELECT * FROM `bigquery-public-data.crypto_ethereum.transactions`\n",
    "WHERE \n",
    "    (\n",
    "       (`from_address` IN ( SELECT `from_address` FROM `tornado_cash_transactions.deposit_addresses`))\n",
    "       AND \n",
    "       (`to_address` IN ( SELECT `withdraw_address` FROM `tornado_cash_transactions.withdraw_addresses`))\n",
    "    )\n",
    "    OR\n",
    "    (\n",
    "       (`from_address` IN (  SELECT `withdraw_address` FROM `tornado_cash_transactions.withdraw_addresses`))\n",
    "       AND \n",
    "       (`to_address` IN ( SELECT `from_address` FROM `tornado_cash_transactions.deposit_addresses`))\n",
    "    )\n",
    "```\n",
    "\n",
    "The resulting table has two columns, **from_address** and **to_address**, and each row corresponds to a transaction done between a TCash deposit address and a TCash withdraw address, outside TCash.\n",
    "From this table, we want to know which of the two addresses was the one that made the deposit and which one made the withdraw. In this way, we are able to link the corresponding deposit and withdraw transactions.\n",
    "\n",
    "For example, consider this entry from the resulting table,\n",
    "\n",
    "| from_address  | to_address  |\n",
    "|---------------|-------------|\n",
    "| address1      | address2    |\n",
    "\n",
    "Suppose that `address1` is an address that withdrawed in TCash and `address2` one that made a deposit. Then, we want to transform said entry to one with colums **deposit_address** and **withdraw_address** like so,\n",
    "\n",
    "| deposit_address | withdraw_address |\n",
    "|-----------------|------------------|\n",
    "| address2        | address1         |\n",
    "\n",
    "With this new table, it is straightforward to make de linking between TCash transactions. With it, we can create a mapping to know with what deposit addresses each withdraw address interacted with.\n",
    "\n",
    "\n",
    "### Some definitions \n",
    "A problem raises when there are addresses that belong to the two sets of TCash addresses $S_{D}$ and $S_{W}$.\n",
    "Let us define an address of type `D` when it belongs to $S_{D}$ and not to $S_{W}$.\n",
    "Likewise, an address of type `W` is defined when it belongs to $S_{W}$ and not to $S_{D}$. \n",
    "Finally, when an address belongs to both sets, we classify it as a `DW` type.\n",
    "\n",
    "For the cases where we got outside TCash transactions of type `D -> W` (i.e., a transaction from a *D* type address to a *W* type address) or `W -> D` (i.e., a transaction from a *W* type address to a *D* type address), it is trivial to transform this entry to the new table.\n",
    "\n",
    "In the cases where we have transactions of type `DW -> W`, `DW -> D`, `W -> DW` and `D -> DW`, it is also straightforward to transform the corresponding entries. For example, consider again this particular entry of Ethereum transactions table,\n",
    "\n",
    "\n",
    "| from_address  | to_address  |\n",
    "|---------------|-------------|\n",
    "| address1      | address2    |\n",
    "\n",
    "\n",
    "Suppose now that `address1` is of type `DW` and `address2` of type `D`. Then, `address2` is trivially placed in the `deposit_address` column. By a process of elimination, then `address1` is set in `withdraw_address` column,\n",
    "\n",
    "\n",
    "| deposit_address | withdraw_address |\n",
    "|-----------------|------------------|\n",
    "| address2        | address1         |\n",
    "\n",
    "\n",
    "When we have a transaction of type `DW -> DW`, it cannot be known which address deposited and which one made the withdraw, so the two combinations are considered. Considering again the same entry, the resulting table will be as follows,\n",
    "\n",
    "| deposit_address | withdraw_address |\n",
    "|-----------------|------------------|\n",
    "| address1        | address2         |\n",
    "| address2        | address1         |\n",
    "\n",
    "\n",
    "Then, deposits of `address1` are linked to withdraws of `address2` and deposits of `address2` are linked to withdraws of `address1`.\n",
    "\n",
    "\n",
    "### Results data structure\n",
    "The results of this heuristic are returned as a dictionary where each element has a TCash withdraw transaction hash  as key and a list of the linked TCash deposit transaction hashes as a value. For example,\n",
    "\n",
    "```\n",
    "    '0x4858': ['0x2fad', '0x750a']\n",
    "```\n",
    "This would mean that withdraw transaction `0x4858` is linked to `0x2fad` and `0x750a` deposit transactions."
   ]
  },
  {
   "cell_type": "code",
   "execution_count": 84,
   "id": "1754d871",
   "metadata": {},
   "outputs": [],
   "source": [
    "# Utils functions \n",
    "def remap_keys(mapping):\n",
    "    return [{'key': k,'value': v} for k, v in mapping.items()]\n",
    "\n",
    "def create_addresses_and_pools_to_deposits_json(filepath, dictionary):\n",
    "    with open(filepah, \"w\") as outfile:\n",
    "        json.dump(remap_keys(dictionary), outfile, indent=4)\n",
    "\n",
    "def load_addresses_and_pools_to_deposits_json(filepath):\n",
    "    with open(filepath) as json_file:\n",
    "        raw_dict_list = json.load(json_file)\n",
    "        addresses_and_pools_to_deposits: dict = {}\n",
    "        \n",
    "        HashTimestamp = namedtuple(\"HashTimestamp\", [\"deposit_hash\", \"timestamp\"])\n",
    "        AddressPool = namedtuple(\"AddressPool\", [\"address\", \"pool\"])\n",
    "        \n",
    "        for dic in tqdm(raw_dict_list, mininterval=1):\n",
    "            elem = {\n",
    "                AddressPool(address=dic['key'][0], pool=dic['key'][1]): [HashTimestamp(deposit_hash=l[0], timestamp=l[1]) for l in dic['value']]\n",
    "            }\n",
    "            addresses_and_pools_to_deposits.update(elem)\n",
    "        \n",
    "        return addresses_and_pools_to_deposits\n",
    "\n",
    "def save_linked_txs(linked_txs_filepath, w2d_dict):\n",
    "    with open(linked_txs_filepath, 'w') as json_file:\n",
    "        json.dump(w2d_dict, json_file, indent=4)\n",
    "\n",
    "def load_addresses_and_pools_to_deposits(filepath):\n",
    "    if os.path.exists(filepath):\n",
    "        addresses_and_pools_to_deposits_dict = load_addresses_and_pools_to_deposits_json(\"../data/addresses_and_pools_to_deposits.json\")\n",
    "    else:\n",
    "        addresses_and_pools_to_deposits_dict = addresses_and_pools_to_deposits(deposit_txs)\n",
    "    return addresses_and_pools_to_deposits_dict\n",
    "\n",
    "\n",
    "# Given an address and the TCash pool, give all the deposits that address has done in that pool.\n",
    "def _addr_pool_to_deposits(address: str, tcash_pool: str, deposit_txs) -> dict:\n",
    "    mask = (deposit_txs[\"from_address\"] == address) & (deposit_txs[\"tcash_pool\"] == tcash_pool)\n",
    "    \n",
    "    addr_pool_deposits = deposit_txs[mask]\n",
    "    \n",
    "    HashTimestamp = namedtuple(\"HashTimestamp\", [\"deposit_hash\", \"timestamp\"])\n",
    "    AddressPool = namedtuple(\"AddressPool\", [\"address\", \"pool\"])\n",
    "    \n",
    "    hashes_and_timestamps: list = [None] * len(addr_pool_deposits)\n",
    "    for i, row in enumerate(addr_pool_deposits.itertuples()):\n",
    "        hashes_and_timestamps[i] = HashTimestamp(deposit_hash=row.hash, timestamp=row.block_timestamp)\n",
    "    \n",
    "    return {AddressPool(address=address, pool=tcash_pool): hashes_and_timestamps}\n",
    "\n",
    "# Gives a dictionary with deposit addresses as keys and the deposit transactions each address made as values.\n",
    "def addresses_and_pools_to_deposits(deposit_txs) -> dict:\n",
    "    \n",
    "    addresses_and_pools: dict = dict(deposit_txs.groupby(\"from_address\")[\"tcash_pool\"].apply(list))\n",
    "    \n",
    "    addresses_and_pools_to_deposits: dict = {}\n",
    "    \n",
    "    for addr in tqdm(addresses_and_pools.keys(), mininterval=3):\n",
    "        for pool in addresses_and_pools[addr]:\n",
    "            addresses_and_pools_to_deposits.update(_addr_pool_to_deposits(addr, pool, deposit_txs))\n",
    "            \n",
    "    return addresses_and_pools_to_deposits"
   ]
  },
  {
   "cell_type": "code",
   "execution_count": 85,
   "id": "c6d8d630",
   "metadata": {},
   "outputs": [
    {
     "name": "stderr",
     "output_type": "stream",
     "text": [
      "100%|██████████| 31927/31927 [00:00<00:00, 83801.61it/s]\n"
     ]
    }
   ],
   "source": [
    "with open('../data/tornado_pools.json') as json_file:\n",
    "    tornado_addresses = json.load(json_file)\n",
    "\n",
    "deposit_txs = pd.read_csv(\"../data/lighter_complete_deposit_txs.csv\")\n",
    "deposit_txs[\"tcash_pool\"] = deposit_txs[\"tornado_cash_address\"].apply(lambda addr: tornado_addresses[addr])\n",
    "withdraw_txs = pd.read_csv(\"../data/lighter_complete_withdraw_txs.csv\")\n",
    "withdraw_txs[\"tcash_pool\"] = withdraw_txs[\"tornado_cash_address\"].apply(lambda addr: tornado_addresses[addr])\n",
    "\n",
    "unique_deposit_addresses = set(deposit_txs[\"from_address\"])\n",
    "unique_withdraw_addresses = set(withdraw_txs[\"recipient_address\"])\n",
    "\n",
    "addresses_and_pools_to_deposits_dict = load_addresses_and_pools_to_deposits_json('../data/addresses_and_pools_to_deposits.json')\n",
    "\n",
    "address_and_withdraw_df = pd.read_csv(\"../data/transactions_between_deposit_and_withdraw_addresses.csv\")[[\"from_address\", \"to_address\"]]"
   ]
  },
  {
   "cell_type": "markdown",
   "id": "7d3dc434",
   "metadata": {},
   "source": [
    "### Data preprocessing\n",
    "From the data obtained in the query, we want to filter repeated and permuted transactions, since they don't provide any new information. Once a transaction between a withdraw address and a deposit address is found, they are considereded linked regardless of the direction in what the transaction was done and the number of times they interacted."
   ]
  },
  {
   "cell_type": "code",
   "execution_count": 87,
   "id": "2e3076b5",
   "metadata": {},
   "outputs": [],
   "source": [
    "def filter_repeated_and_permuted(address_and_withdraw_df):\n",
    "    filtered_addresses_set = set()\n",
    "    \n",
    "    for row in address_and_withdraw_df.itertuples():\n",
    "        filtered_addresses_set.add(frozenset([row.from_address, row.to_address]))\n",
    "    \n",
    "    return filtered_addresses_set\n",
    "\n",
    "def dataframe_from_set_of_sets(set_of_sets):\n",
    "    addresses_df = pd.DataFrame({\"address_1\":[], \"address_2\":[]})\n",
    "        \n",
    "    for s in tqdm(set_of_sets):\n",
    "        s_tuple = tuple(s)\n",
    "        if len(s) == 2:\n",
    "            addresses_df = addresses_df.append({\"address_1\": s_tuple[0], \"address_2\": s_tuple[1]}, ignore_index=True)\n",
    "        else:\n",
    "            addresses_df = addresses_df.append({\"address_1\": s_tuple[0], \"address_2\": s_tuple[0]}, ignore_index=True)\n",
    "\n",
    "    return addresses_df\n",
    "\n",
    "def preprocess_data(address_and_withdraw_df):\n",
    "    s = filter(lambda x: len(x) == 2, filter_repeated_and_permuted(address_and_withdraw_df))\n",
    "    return dataframe_from_set_of_sets(s)"
   ]
  },
  {
   "cell_type": "code",
   "execution_count": 88,
   "id": "1f9c616b",
   "metadata": {
    "scrolled": true
   },
   "outputs": [
    {
     "name": "stderr",
     "output_type": "stream",
     "text": [
      "11230it [00:20, 544.47it/s]\n"
     ]
    },
    {
     "data": {
      "text/html": [
       "<div>\n",
       "<style scoped>\n",
       "    .dataframe tbody tr th:only-of-type {\n",
       "        vertical-align: middle;\n",
       "    }\n",
       "\n",
       "    .dataframe tbody tr th {\n",
       "        vertical-align: top;\n",
       "    }\n",
       "\n",
       "    .dataframe thead th {\n",
       "        text-align: right;\n",
       "    }\n",
       "</style>\n",
       "<table border=\"1\" class=\"dataframe\">\n",
       "  <thead>\n",
       "    <tr style=\"text-align: right;\">\n",
       "      <th></th>\n",
       "      <th>address_1</th>\n",
       "      <th>address_2</th>\n",
       "    </tr>\n",
       "  </thead>\n",
       "  <tbody>\n",
       "    <tr>\n",
       "      <th>0</th>\n",
       "      <td>0x7da50ec4fd0bea5b1fe7a0259dff99b2e6434cb2</td>\n",
       "      <td>0x08e7cb598678fd055f07f352faeb1662e0f5760e</td>\n",
       "    </tr>\n",
       "    <tr>\n",
       "      <th>1</th>\n",
       "      <td>0xb86caa7dd5a1d2cff98a53979badf1814a232861</td>\n",
       "      <td>0x0756476183f39bac95332f1b866e42e96010b3e0</td>\n",
       "    </tr>\n",
       "    <tr>\n",
       "      <th>2</th>\n",
       "      <td>0x2cc0bca1fc47ae4edef306ec36f6ce07448a4e32</td>\n",
       "      <td>0x0c517cb2aecc71996d72854ddf3cd8d428e213c1</td>\n",
       "    </tr>\n",
       "    <tr>\n",
       "      <th>3</th>\n",
       "      <td>0x27ec0a8c4d5584345a7e70b402559ed9368287ac</td>\n",
       "      <td>0x443c84b232808a6a99deecf1d7c0bde14ff9f0a0</td>\n",
       "    </tr>\n",
       "    <tr>\n",
       "      <th>4</th>\n",
       "      <td>0xb64d61b63f19efa34f146d49d627729d66ab0ab0</td>\n",
       "      <td>0x58cfb12b9ecf6dfd13db51e6721c0c1c17a6ff0a</td>\n",
       "    </tr>\n",
       "  </tbody>\n",
       "</table>\n",
       "</div>"
      ],
      "text/plain": [
       "                                    address_1  \\\n",
       "0  0x7da50ec4fd0bea5b1fe7a0259dff99b2e6434cb2   \n",
       "1  0xb86caa7dd5a1d2cff98a53979badf1814a232861   \n",
       "2  0x2cc0bca1fc47ae4edef306ec36f6ce07448a4e32   \n",
       "3  0x27ec0a8c4d5584345a7e70b402559ed9368287ac   \n",
       "4  0xb64d61b63f19efa34f146d49d627729d66ab0ab0   \n",
       "\n",
       "                                    address_2  \n",
       "0  0x08e7cb598678fd055f07f352faeb1662e0f5760e  \n",
       "1  0x0756476183f39bac95332f1b866e42e96010b3e0  \n",
       "2  0x0c517cb2aecc71996d72854ddf3cd8d428e213c1  \n",
       "3  0x443c84b232808a6a99deecf1d7c0bde14ff9f0a0  \n",
       "4  0x58cfb12b9ecf6dfd13db51e6721c0c1c17a6ff0a  "
      ]
     },
     "execution_count": 88,
     "metadata": {},
     "output_type": "execute_result"
    }
   ],
   "source": [
    "clean_addresses = preprocess_data(address_and_withdraw_df)\n",
    "clean_addresses.head()"
   ]
  },
  {
   "cell_type": "markdown",
   "id": "7233dc59",
   "metadata": {},
   "source": [
    "### Outside TCash transactions classification\n",
    "This functions are used to classify the address type following the definitions already talked about,\n",
    "and finally classify the transaction type done by the addresses outside TCash."
   ]
  },
  {
   "cell_type": "code",
   "execution_count": 89,
   "id": "9feb11bb",
   "metadata": {},
   "outputs": [],
   "source": [
    "'''\n",
    "To classify the addresses by their inclusion in the unique_deposit_addresses and \n",
    "the unique_withdraw_addresses sets.\n",
    "'''\n",
    "\n",
    "def is_D_type(address):\n",
    "    return (address in unique_deposit_addresses) and (address not in unique_withdraw_addresses)\n",
    "\n",
    "def is_W_type(address):\n",
    "    return (address not in unique_deposit_addresses) and (address in unique_withdraw_addresses)\n",
    "\n",
    "def is_DW_type(address):\n",
    "    return (address in unique_deposit_addresses) and (address in unique_withdraw_addresses)"
   ]
  },
  {
   "cell_type": "code",
   "execution_count": 90,
   "id": "cee1fd16",
   "metadata": {},
   "outputs": [],
   "source": [
    "# To classify outside TCash transactions, based on the classification of addresses.\n",
    "\n",
    "def is_D_W_tx(address1: str, address2: str) -> bool:\n",
    "    return is_D_type(address1) and is_W_type(address2)\n",
    "\n",
    "def is_W_D_tx(address1: str, address2: str) -> bool:\n",
    "    return is_W_type(address1) and is_D_type(address2)\n",
    "\n",
    "def is_D_DW_tx(address1: str, address2: str) -> bool:\n",
    "    return is_D_type(address1) and is_DW_type(address2)\n",
    "\n",
    "def is_DW_D_tx(address1: str, address2: str) -> bool:\n",
    "    return is_DW_type(address1) and is_D_type(address2)\n",
    "\n",
    "def is_W_DW_tx(address1: str, address2: str) -> bool:\n",
    "    return is_W_type(address1) and is_DW_type(address2)\n",
    "\n",
    "def is_DW_W_tx(address1: str, address2: str) -> bool:\n",
    "    return is_DW_type(address1) and is_W_type(address2)\n",
    "\n",
    "def is_DW_DW_tx(address1: str, address2: str) -> bool:\n",
    "    return is_DW_type(address1) and is_DW_type(address2)"
   ]
  },
  {
   "cell_type": "markdown",
   "id": "76818418",
   "metadata": {},
   "source": [
    "### Function description: map_withdraw2deposit_interactions_outside_tcash\n",
    "This function receives the clean addresses data, transforms it to the table mentioned in the introduction and returns a dictionary mapping the interaction of each withdraw address with deposit addresses."
   ]
  },
  {
   "cell_type": "code",
   "execution_count": 92,
   "id": "69013d65",
   "metadata": {},
   "outputs": [],
   "source": [
    "# Map interactions between every withdraw address to every deposit address, outside TCash\n",
    "\n",
    "def map_withdraw2deposit_interactions_outside_tcash(clean_addresses_df) -> dict:\n",
    "    \n",
    "    deposit_and_withdraw_matrix = np.empty((0, 2), dtype=str)\n",
    "    \n",
    "    for row in tqdm(clean_addresses_df.itertuples(), total=len(clean_addresses_df), mininterval=0.5):\n",
    "                \n",
    "        if is_D_W_tx(row.address_1, row.address_2) or is_D_DW_tx(row.address_1, row.address_2) or is_DW_W_tx(row.address_1, row.address_2):\n",
    "            deposit_and_withdraw_matrix = np.append(deposit_and_withdraw_matrix, [[row.address_1, row.address_2]], axis=0)\n",
    "            \n",
    "        elif is_W_D_tx(row.address_1, row.address_2) or is_W_DW_tx(row.address_1, row.address_2) or is_DW_D_tx(row.address_1, row.address_2):\n",
    "            deposit_and_withdraw_matrix = np.append(deposit_and_withdraw_matrix, [[row.address_2, row.address_1]], axis=0)\n",
    "            \n",
    "        elif is_DW_DW_tx(row.address_1, row.address_2):\n",
    "            deposit_and_withdraw_matrix = np.append(deposit_and_withdraw_matrix, [[row.address_1, row.address_2]], axis=0)\n",
    "            deposit_and_withdraw_matrix = np.append(deposit_and_withdraw_matrix, [[row.address_2, row.address_1]], axis=0)\n",
    "        else:\n",
    "            print(row.address_1, row.address_2)\n",
    "            raise ValueError(\"The transaction is not from any of the types: D_W, W_D, D_DW, DW_D, W_DW, DW_W, DW_DW\")\n",
    "\n",
    "    D_W_df = pd.DataFrame(deposit_and_withdraw_matrix, columns=[\"deposit_address\", \"withdraw_address\"])\n",
    "    \n",
    "    return dict(D_W_df.groupby(\"withdraw_address\")[\"deposit_address\"].apply(list))"
   ]
  },
  {
   "cell_type": "code",
   "execution_count": 93,
   "id": "da45c2dd",
   "metadata": {
    "scrolled": false
   },
   "outputs": [
    {
     "name": "stderr",
     "output_type": "stream",
     "text": [
      "100%|██████████| 11230/11230 [00:06<00:00, 1748.75it/s]\n"
     ]
    }
   ],
   "source": [
    "waddr2daddr = map_withdraw2deposit_interactions_outside_tcash(clean_addresses)"
   ]
  },
  {
   "cell_type": "markdown",
   "id": "7808bdee",
   "metadata": {},
   "source": [
    "### Function description: first_neighbors_heuristic\n",
    "Given a withdraw transaction, checks if its address had interacted with any deposit address outside TCash. If it has, then fetch all the deposits those deposit addresses had done and link them to the withdraw transaction."
   ]
  },
  {
   "cell_type": "code",
   "execution_count": 80,
   "id": "d0e10e32",
   "metadata": {},
   "outputs": [],
   "source": [
    "def first_neighbors_heuristic(withdraw_tx: pd.Series) -> dict:\n",
    "    address = withdraw_tx.recipient_address\n",
    "    pool = withdraw_tx.tcash_pool\n",
    "    \n",
    "    HashTimestamp = namedtuple(\"HashTimestamp\", [\"deposit_hash\", \"timestamp\"])\n",
    "    AddressPool = namedtuple(\"AddressPool\", [\"address\", \"pool\"])\n",
    "    \n",
    "    '''\n",
    "    Check that there has been a transaction between this address and some deposit\n",
    "    address outside Tcash. If not, return an empty list for this particular withdraw.\n",
    "    '''\n",
    "    if address in waddr2daddr.keys():\n",
    "        interacted_addresses = waddr2daddr[address]\n",
    "        linked_deposits = []\n",
    "        \n",
    "        for addr in interacted_addresses:\n",
    "            if AddressPool(address=addr, pool=pool) in addresses_and_pools_to_deposits_dict.keys():\n",
    "\n",
    "                for d in addresses_and_pools_to_deposits_dict[AddressPool(address=addr, pool=pool)]:\n",
    "                    if d.timestamp < withdraw_tx.block_timestamp:\n",
    "                        linked_deposits.append(d.deposit_hash)\n",
    "                        \n",
    "        return {withdraw_tx.hash: linked_deposits}\n",
    "    else:\n",
    "        return {withdraw_tx.hash: []}"
   ]
  },
  {
   "cell_type": "markdown",
   "id": "b8adf41b",
   "metadata": {},
   "source": [
    "### Function description: apply_first_neighbors_heuristic\n",
    "Applies the heuristic to every withdraw in the withdraw transactions data. Returns a dictionary mapping every withdraw transaction to its linked deposit transactions."
   ]
  },
  {
   "cell_type": "code",
   "execution_count": 94,
   "id": "899b176e",
   "metadata": {},
   "outputs": [],
   "source": [
    "def apply_first_neighbors_heuristic(withdraw_txs: pd.Series) -> dict:\n",
    "    \n",
    "    withdraw_to_linked_deposits: dict = {}\n",
    "        \n",
    "    for row in tqdm(withdraw_txs.itertuples(), total=len(withdraw_txs), mininterval=3):\n",
    "        dic = first_neighbors_heuristic(row)\n",
    "        withdraw_to_linked_deposits.update(dic)\n",
    "    \n",
    "    return dict(filter(lambda elem: len(elem[1]) != 0, withdraw_to_linked_deposits.items()))"
   ]
  },
  {
   "cell_type": "code",
   "execution_count": 95,
   "id": "2304fc4d",
   "metadata": {
    "scrolled": true
   },
   "outputs": [
    {
     "name": "stderr",
     "output_type": "stream",
     "text": [
      "100%|██████████| 83782/83782 [00:09<00:00, 9275.21it/s]\n"
     ]
    }
   ],
   "source": [
    "w2d = apply_first_neighbors_heuristic(withdraw_txs)"
   ]
  },
  {
   "cell_type": "code",
   "execution_count": 121,
   "id": "8e3333b1",
   "metadata": {},
   "outputs": [],
   "source": [
    "# To save the results of the linked transactions, uncomment and run the following line of code:\n",
    "# save_linked_txs('../data/heuristic_3_linked_txs.json', w2d)"
   ]
  },
  {
   "cell_type": "markdown",
   "id": "f71197e5",
   "metadata": {},
   "source": [
    "---"
   ]
  },
  {
   "cell_type": "markdown",
   "id": "a8046f92",
   "metadata": {},
   "source": [
    "### Results exploration"
   ]
  },
  {
   "cell_type": "code",
   "execution_count": 98,
   "id": "670ba449",
   "metadata": {},
   "outputs": [],
   "source": [
    "def w2add(withdrax_txs) -> dict:\n",
    "    w2addr: dict = {}\n",
    "    for row in tqdm(withdraw_txs.itertuples(), mininterval=1):\n",
    "        w2addr[row.hash] = row.recipient_address\n",
    "    return w2addr\n",
    "\n",
    "def d2add(deposit_txs) -> dict:\n",
    "    d2addr: dict = {}\n",
    "    for row in tqdm(deposit_txs.itertuples(), mininterval=1):\n",
    "        d2addr[row.hash] = row.from_address\n",
    "    return d2addr"
   ]
  },
  {
   "cell_type": "code",
   "execution_count": 123,
   "id": "4c6ec659",
   "metadata": {
    "scrolled": true
   },
   "outputs": [
    {
     "data": {
      "image/png": "[encoded data removed]",
      "text/plain": [
       "<Figure size 720x360 with 1 Axes>"
      ]
     },
     "metadata": {},
     "output_type": "display_data"
    }
   ],
   "source": [
    "linked_deposits_counts = {}\n",
    "for key in w2d.keys():\n",
    "    linked_deposits_counts[key] = len(w2d[key])\n",
    "\n",
    "sns.set_theme(style=\"darkgrid\")\n",
    "plt.figure(figsize=(10, 5))\n",
    "sns.histplot(linked_deposits_counts.values(), bins=200, legend=False)\n",
    "plt.xlabel(\"Count of linked deposits\")\n",
    "plt.ylabel(\"Withdraws count (log)\")\n",
    "plt.yscale(\"log\")"
   ]
  },
  {
   "cell_type": "markdown",
   "id": "3a925cc5",
   "metadata": {},
   "source": [
    "From this graph we can see that most of the withdrawl transactions are linked with only one deposit transaction (bar on the left hand side). There are also two deposit addresses:\n",
    "\n",
    "0x16e54b35d789832440ab47ae765e6a8098280676\n",
    "0xe6629cc8ced87063151c37f25d6ca4a74675a520\n",
    "That have made lots of compromised deposits (1257 in total)"
   ]
  },
  {
   "cell_type": "code",
   "execution_count": 100,
   "id": "ed335c15",
   "metadata": {},
   "outputs": [
    {
     "name": "stderr",
     "output_type": "stream",
     "text": [
      "83782it [00:00, 318154.61it/s]\n",
      "97365it [00:00, 311672.86it/s]\n"
     ]
    }
   ],
   "source": [
    "w2addr = w2add(withdraw_txs)\n",
    "d2addr = d2add(deposit_txs)"
   ]
  },
  {
   "cell_type": "code",
   "execution_count": 96,
   "id": "36afc692",
   "metadata": {},
   "outputs": [],
   "source": [
    "linked_deposits_counts = {}\n",
    "for key in w2d.keys():\n",
    "    linked_deposits_counts[key] = len(w2d[key])"
   ]
  },
  {
   "cell_type": "code",
   "execution_count": 101,
   "id": "665d5459",
   "metadata": {},
   "outputs": [],
   "source": [
    "outlier_deposit_addresses = set()\n",
    "outlier_withdrawl_addresses = set()\n",
    "\n",
    "for key in linked_deposits_counts.keys():\n",
    "    if linked_deposits_counts[key] == 1257:\n",
    "        outlier_withdrawl_addresses.add(w2addr[key])\n",
    "        for deposit in w2d[key]:\n",
    "            outlier_deposit_addresses.add(d2addr[deposit])"
   ]
  },
  {
   "cell_type": "code",
   "execution_count": 102,
   "id": "e5d8a0ec",
   "metadata": {},
   "outputs": [
    {
     "data": {
      "text/plain": [
       "{'0x16e54b35d789832440ab47ae765e6a8098280676',\n",
       " '0xe6629cc8ced87063151c37f25d6ca4a74675a520'}"
      ]
     },
     "execution_count": 102,
     "metadata": {},
     "output_type": "execute_result"
    }
   ],
   "source": [
    "outlier_deposit_addresses"
   ]
  },
  {
   "cell_type": "code",
   "execution_count": 103,
   "id": "dfa7d072",
   "metadata": {},
   "outputs": [
    {
     "data": {
      "text/plain": [
       "{'0x6b91f0343b2160514cb3058282082583956beb22',\n",
       " '0x6c4b5e3e2677836e3f699436b7567f86714eb84d',\n",
       " '0x8d1ec626837b0032b72bdd7701ac35b7e1db5b41',\n",
       " '0xc351d90d2ac3304b671cb205ae1a7491008c4854',\n",
       " '0xcd354b14d1cd3cc386a82eddd40337d45e026d21',\n",
       " '0xd1837e61ca4fc25c989bee682aa5b3796f3c7620',\n",
       " '0xe472ac95d171b788c8184bb83c4927f0f043c0b0'}"
      ]
     },
     "execution_count": 103,
     "metadata": {},
     "output_type": "execute_result"
    }
   ],
   "source": [
    "outlier_withdrawl_addresses"
   ]
  },
  {
   "cell_type": "code",
   "execution_count": 104,
   "id": "52475151",
   "metadata": {},
   "outputs": [],
   "source": [
    "def get_number_of_tx(addresses_set, is_deposit):\n",
    "    tx_dict = dict()\n",
    "    for address in addresses_set:\n",
    "        if is_deposit:\n",
    "            tx_dict[address] = len(deposit_txs[deposit_txs[\"from_address\"]==address])\n",
    "        else:\n",
    "            tx_dict[address] = len(withdraw_txs[withdraw_txs[\"recipient_address\"]==address])\n",
    "    return tx_dict"
   ]
  },
  {
   "cell_type": "code",
   "execution_count": 105,
   "id": "a79034e5",
   "metadata": {},
   "outputs": [
    {
     "data": {
      "text/plain": [
       "{'0xe6629cc8ced87063151c37f25d6ca4a74675a520': 189,\n",
       " '0x16e54b35d789832440ab47ae765e6a8098280676': 1069}"
      ]
     },
     "execution_count": 105,
     "metadata": {},
     "output_type": "execute_result"
    }
   ],
   "source": [
    "get_number_of_tx(outlier_deposit_addresses, True)"
   ]
  },
  {
   "cell_type": "code",
   "execution_count": 107,
   "id": "891c5bba",
   "metadata": {},
   "outputs": [
    {
     "data": {
      "text/plain": [
       "{'0x8d1ec626837b0032b72bdd7701ac35b7e1db5b41': 115,\n",
       " '0xcd354b14d1cd3cc386a82eddd40337d45e026d21': 129,\n",
       " '0xd1837e61ca4fc25c989bee682aa5b3796f3c7620': 130,\n",
       " '0x6c4b5e3e2677836e3f699436b7567f86714eb84d': 178,\n",
       " '0xe472ac95d171b788c8184bb83c4927f0f043c0b0': 191,\n",
       " '0x6b91f0343b2160514cb3058282082583956beb22': 185,\n",
       " '0xc351d90d2ac3304b671cb205ae1a7491008c4854': 181}"
      ]
     },
     "execution_count": 107,
     "metadata": {},
     "output_type": "execute_result"
    }
   ],
   "source": [
    "get_number_of_tx(outlier_withdrawl_addresses, False)\n"
   ]
  },
  {
   "cell_type": "code",
   "execution_count": 124,
   "id": "a91e5f13",
   "metadata": {},
   "outputs": [],
   "source": [
    "def number_of_linked_withdraw_addresses(w2d_dict: dict) -> int:\n",
    "    l = []\n",
    "    for key in w2d_dict.keys():\n",
    "        l.append(w2addr[key])\n",
    "    return len(set(l))"
   ]
  },
  {
   "cell_type": "markdown",
   "id": "05e246a3",
   "metadata": {},
   "source": [
    "---\n",
    "#### How many withdrawal addresses can be linked to deposit addresses?"
   ]
  },
  {
   "cell_type": "code",
   "execution_count": 126,
   "id": "29412fc2",
   "metadata": {},
   "outputs": [
    {
     "name": "stdout",
     "output_type": "stream",
     "text": [
      "Withdrawal addresses that can be linked to deposit addresses: 4620\n"
     ]
    }
   ],
   "source": [
    "print(f\"Withdrawal addresses that can be linked to deposit addresses: {number_of_linked_withdraw_addresses(w2d)}\")"
   ]
  },
  {
   "cell_type": "markdown",
   "id": "ad5f497e",
   "metadata": {},
   "source": [
    "#### How many withdrawal transactions can be linked to deposit transactions?"
   ]
  },
  {
   "cell_type": "code",
   "execution_count": 127,
   "id": "977b1863",
   "metadata": {},
   "outputs": [
    {
     "name": "stdout",
     "output_type": "stream",
     "text": [
      "Withdrawal transactions that can be linked to deposit transactions: 15693\n"
     ]
    }
   ],
   "source": [
    "print(f\"Withdrawal transactions that can be linked to deposit transactions: {len(w2d)}\")"
   ]
  },
  {
   "cell_type": "code",
   "execution_count": 128,
   "id": "77019147",
   "metadata": {},
   "outputs": [],
   "source": [
    "# Auxiliary function\n",
    "# Return all the withdrawals the input address has done.\n",
    "def get_address_withdraws(address, withdraw_txs):\n",
    "    return withdraw_txs[withdraw_txs[\"recipient_address\"] == address ].hash"
   ]
  },
  {
   "cell_type": "code",
   "execution_count": 129,
   "id": "aa7e323d",
   "metadata": {},
   "outputs": [],
   "source": [
    "'''\n",
    "Initialize the address_map, that will follow the next structure\n",
    "{'withdrawal address': [[withdrawals made],[compromised deposit transactions]], ... }\n",
    "Definitions:\n",
    "withdrawals made: The Tcash withdrawals made by the 'withdrawal address'\n",
    "compromised deposit transactions: The compromised deposit transactions of the 'withdrawals made'.\n",
    "'''\n",
    "\n",
    "address_map = {}\n",
    "for address in unique_withdraw_addresses:\n",
    "    address_map[address] = [[],[]]\n",
    "\n",
    "for address in unique_withdraw_addresses:\n",
    "    deposit = {}\n",
    "    address_transactions = get_address_withdraws(address, withdraw_txs)\n",
    "    address_map[address][0] = address_transactions\n",
    "    for row in address_transactions:\n",
    "        address_map[address][1] +=  w2d.get(row,[])"
   ]
  },
  {
   "cell_type": "code",
   "execution_count": 130,
   "id": "22dca62c",
   "metadata": {},
   "outputs": [],
   "source": [
    "'''\n",
    "Since we want to plot the points (number of withdrawals, number compromised deposit transactions) \n",
    "of each withdrawal address,\n",
    "we need to remove the duplicated compromised deposit transactions and\n",
    "get the cardinal of each set.\n",
    "\n",
    "We end up with a dictionary,\n",
    "{withdrawal address: (number of withdrawals, number compromised deposit transactions), ...}\n",
    "'''\n",
    "\n",
    "scatter_points = {}\n",
    "for (address, value) in address_map.items():\n",
    "    scatter_points[address] = (len(set(value[0])), len(set(value[1])))"
   ]
  },
  {
   "cell_type": "code",
   "execution_count": 131,
   "id": "c0941ee2",
   "metadata": {
    "scrolled": false
   },
   "outputs": [
    {
     "data": {
      "text/plain": [
       "Text(0.5, 1.0, 'Number of withdraws and deposits for each address')"
      ]
     },
     "execution_count": 131,
     "metadata": {},
     "output_type": "execute_result"
    },
    {
     "data": {
      "image/png": "[encoded data removed]",
      "text/plain": [
       "<Figure size 720x360 with 1 Axes>"
      ]
     },
     "metadata": {},
     "output_type": "display_data"
    }
   ],
   "source": [
    "x = [x[0] for x in scatter_points.values()]\n",
    "y = [x[1] for x in scatter_points.values()]\n",
    "\n",
    "sns.set_theme(style=\"darkgrid\")\n",
    "plt.figure(figsize=(10, 5))\n",
    "sns.scatterplot(x=x,y=y, alpha=0.7)\n",
    "plt.xlabel(\"# of withdraw transactions\")\n",
    "plt.ylabel(\"# of deposit_transactions\")\n",
    "plt.title(\"Number of withdraws and deposits for each address\")"
   ]
  },
  {
   "cell_type": "markdown",
   "id": "baf281e0",
   "metadata": {},
   "source": [
    "#### Number of compromised deposits"
   ]
  },
  {
   "cell_type": "code",
   "execution_count": 132,
   "id": "582f33cf",
   "metadata": {},
   "outputs": [],
   "source": [
    "compromised_deposits = set([compromised_deposit for value in address_map.values() for compromised_deposit in value[1]])"
   ]
  },
  {
   "cell_type": "code",
   "execution_count": 133,
   "id": "af28c04f",
   "metadata": {},
   "outputs": [
    {
     "data": {
      "text/plain": [
       "18998"
      ]
     },
     "execution_count": 133,
     "metadata": {},
     "output_type": "execute_result"
    }
   ],
   "source": [
    "len(compromised_deposits)"
   ]
  },
  {
   "cell_type": "code",
   "execution_count": 134,
   "id": "8fd6e068",
   "metadata": {},
   "outputs": [
    {
     "name": "stdout",
     "output_type": "stream",
     "text": [
      "Number of compromised deposits: 18998\n"
     ]
    }
   ],
   "source": [
    "print(f\"Number of compromised deposits: {len(compromised_deposits)}\")"
   ]
  },
  {
   "cell_type": "markdown",
   "id": "e607fac1",
   "metadata": {},
   "source": [
    "Average number of compromised deposits per linked withdrawal address"
   ]
  },
  {
   "cell_type": "code",
   "execution_count": 135,
   "id": "f74fe140",
   "metadata": {},
   "outputs": [],
   "source": [
    "number_of_compromised_deposits =  [value[1] for value in scatter_points.values() if value[1] != 0]"
   ]
  },
  {
   "cell_type": "code",
   "execution_count": 136,
   "id": "2c759b1f",
   "metadata": {},
   "outputs": [
    {
     "data": {
      "text/plain": [
       "Text(0.5, 1.0, 'Histogram of compromised deposits per linked withdrawal address')"
      ]
     },
     "execution_count": 136,
     "metadata": {},
     "output_type": "execute_result"
    },
    {
     "data": {
      "image/png": "[encoded data removed]",
      "text/plain": [
       "<Figure size 720x360 with 1 Axes>"
      ]
     },
     "metadata": {},
     "output_type": "display_data"
    }
   ],
   "source": [
    "plt.figure(figsize=(10, 5))\n",
    "plt.hist(number_of_compromised_deposits, bins=50)\n",
    "plt.yscale(\"log\")\n",
    "plt.xlabel(\"Number of compromised deposits\")\n",
    "plt.ylabel(\"Count\")\n",
    "plt.title(\"Histogram of compromised deposits per linked withdrawal address\")"
   ]
  },
  {
   "cell_type": "code",
   "execution_count": 137,
   "id": "f6be8d40",
   "metadata": {
    "scrolled": true
   },
   "outputs": [
    {
     "name": "stdout",
     "output_type": "stream",
     "text": [
      "Average number of compromised deposits per linked withdrawal address: 7.294155844155844\n"
     ]
    }
   ],
   "source": [
    "print(f\"Average number of compromised deposits per linked withdrawal address: {sum(number_of_compromised_deposits)/ len(number_of_compromised_deposits)}\") "
   ]
  },
  {
   "cell_type": "markdown",
   "id": "95520348",
   "metadata": {},
   "source": [
    "#### Compromised deposit transactions for each TCash pool"
   ]
  },
  {
   "cell_type": "code",
   "execution_count": 138,
   "id": "380144b1",
   "metadata": {},
   "outputs": [],
   "source": [
    "def tx_to_pool(txs_df):\n",
    "    tx_to_pool_dict = {}\n",
    "    for row in tqdm(txs_df.itertuples(), mininterval=1):\n",
    "        tx_to_pool_dict[row.hash] = row.tcash_pool\n",
    "    \n",
    "    return tx_to_pool_dict"
   ]
  },
  {
   "cell_type": "code",
   "execution_count": 139,
   "id": "c0a98b07",
   "metadata": {},
   "outputs": [
    {
     "name": "stderr",
     "output_type": "stream",
     "text": [
      "97365it [00:00, 168396.80it/s]\n"
     ]
    }
   ],
   "source": [
    "tx_to_pool_dict = tx_to_pool(deposit_txs)\n",
    "compromised_deposit_hashes = set(list(itertools.chain(*w2d.values())))\n",
    "number_of_compromised_deposits_by_pool = Counter(list(map(lambda x: tx_to_pool_dict[x], compromised_deposit_hashes)))"
   ]
  },
  {
   "cell_type": "code",
   "execution_count": 140,
   "id": "eedd0ad9",
   "metadata": {},
   "outputs": [],
   "source": [
    "pools_to_deposits = dict(deposit_txs.groupby(\"tcash_pool\")[\"hash\"].apply(list))\n",
    "number_of_uncompromised_deposits_by_pool = {}\n",
    "for pool in list(pools_to_deposits.keys()):\n",
    "    number_of_uncompromised_deposits_by_pool[pool] = len(pools_to_deposits[pool]) - number_of_compromised_deposits_by_pool[pool]"
   ]
  },
  {
   "cell_type": "code",
   "execution_count": 141,
   "id": "3e3f73dc",
   "metadata": {},
   "outputs": [],
   "source": [
    "compromised_vs_uncompromised_by_pool = {}\n",
    "\n",
    "for pool in list(number_of_compromised_deposits_by_pool.keys()):\n",
    "    compromised_vs_uncompromised_by_pool[pool] = (number_of_compromised_deposits_by_pool[pool], number_of_uncompromised_deposits_by_pool[pool])"
   ]
  },
  {
   "cell_type": "code",
   "execution_count": 142,
   "id": "bffe6f19",
   "metadata": {},
   "outputs": [],
   "source": [
    "eth_pools = [\"0.1 ETH\", \"1 ETH\", \"10 ETH\", \"100 ETH\"]\n",
    "tkn_pools = [pool for pool in compromised_vs_uncompromised_by_pool.keys() if pool not in eth_pools]\n",
    "all_pools = eth_pools + tkn_pools"
   ]
  },
  {
   "cell_type": "code",
   "execution_count": 143,
   "id": "2f5db9aa",
   "metadata": {
    "scrolled": true
   },
   "outputs": [
    {
     "data": {
      "image/png": "[encoded data removed]",
      "text/plain": [
       "<Figure size 1440x360 with 2 Axes>"
      ]
     },
     "metadata": {},
     "output_type": "display_data"
    }
   ],
   "source": [
    "points = [compromised_vs_uncompromised_by_pool[pool] for pool in all_pools]\n",
    "\n",
    "eth_compromised = [t[0] for t in points[:4]]\n",
    "eth_uncompromised = [t[1] for t in points[:4]]\n",
    "eth_x_axis = np.arange(len(eth_pools))\n",
    "\n",
    "tkn_compromised = [t[0] for t in points[4:]]\n",
    "tkn_uncompromised = [t[1] for t in points[4:]]\n",
    "tkn_x_axis = np.arange(len(tkn_pools))\n",
    "\n",
    "sns.set_theme(style=\"darkgrid\")\n",
    "fig, (ax1, ax2) = plt.subplots(ncols=2, figsize=(20, 5))\n",
    "ax1.bar(eth_x_axis - 0.2, eth_compromised, 0.4, label = \"Compromised\")\n",
    "ax1.bar(eth_x_axis + 0.2, eth_uncompromised, 0.4, label = \"Uncompromised\")\n",
    "ax1.set_xticks(eth_x_axis)\n",
    "ax1.set_xticklabels(eth_pools, rotation=\"vertical\")\n",
    "ax1.set_xlabel(\"Deposits\")\n",
    "ax1.set_ylabel(\"Number of deposits\")\n",
    "ax1.legend(fontsize=13)\n",
    "\n",
    "ax2.bar(tkn_x_axis - 0.1, tkn_compromised, 0.4, label = \"Compromised\")\n",
    "ax2.bar(tkn_x_axis + 0.1, tkn_uncompromised, 0.4, label = \"Uncompromised\")\n",
    "ax2.set_xticks(tkn_x_axis)\n",
    "ax2.set_xticklabels(tkn_pools, rotation=\"vertical\")\n",
    "ax2.set_xlabel(\"Deposits\")\n",
    "ax2.set_ylabel(\"Number of deposits\")\n",
    "ax2.legend(fontsize=13)\n",
    "fig.suptitle(\"Compromised vs. Uncompromised deposits\")\n",
    "\n",
    "plt.show()"
   ]
  },
  {
   "cell_type": "code",
   "execution_count": 144,
   "id": "9128cb7e",
   "metadata": {},
   "outputs": [],
   "source": [
    "rate_compromised_vs_uncompromised_by_pool = {}\n",
    "for pool in compromised_vs_uncompromised_by_pool.keys():\n",
    "    n_compromised = compromised_vs_uncompromised_by_pool[pool][0]\n",
    "    n_uncompromised = compromised_vs_uncompromised_by_pool[pool][1]\n",
    "    total_deposits = n_compromised + n_uncompromised\n",
    "    \n",
    "    rate_compromised_vs_uncompromised_by_pool[pool] = (n_compromised/total_deposits * 100, n_uncompromised/total_deposits * 100)"
   ]
  },
  {
   "cell_type": "code",
   "execution_count": 145,
   "id": "77a8b092",
   "metadata": {},
   "outputs": [
    {
     "data": {
      "image/png": "[encoded data removed]",
      "text/plain": [
       "<Figure size 1440x360 with 2 Axes>"
      ]
     },
     "metadata": {},
     "output_type": "display_data"
    }
   ],
   "source": [
    "rate_points = [rate_compromised_vs_uncompromised_by_pool[pool] for pool in all_pools]\n",
    "\n",
    "eth_compromised = [t[0] for t in rate_points[:4]]\n",
    "eth_uncompromised = [t[1] for t in rate_points[:4]]\n",
    "eth_x_axis = np.arange(len(eth_pools))\n",
    "\n",
    "tkn_compromised = [t[0] for t in rate_points[4:]]\n",
    "tkn_uncompromised = [t[1] for t in rate_points[4:]]\n",
    "tkn_x_axis = np.arange(len(tkn_pools))\n",
    "\n",
    "\n",
    "fig, (ax1, ax2) = plt.subplots(ncols=2, figsize=(20, 5))\n",
    "ax1.bar(eth_x_axis - 0.2, eth_compromised, 0.4, label = \"Compromised\")\n",
    "ax1.bar(eth_x_axis + 0.2, eth_uncompromised, 0.4, label = \"Uncomrpmised\")\n",
    "ax1.set_xticks(eth_x_axis)\n",
    "ax1.set_xticklabels(eth_pools, rotation=\"vertical\")\n",
    "ax1.set_xlabel(\"Deposits\")\n",
    "ax1.set_ylabel(\"% of deposits\")\n",
    "ax1.legend(fontsize=13)\n",
    "\n",
    "ax2.bar(tkn_x_axis - 0.1, tkn_compromised, 0.4, label = \"Compromised\")\n",
    "ax2.bar(tkn_x_axis + 0.1, tkn_uncompromised, 0.4, label = \"Uncompromised\")\n",
    "ax2.set_xticks(tkn_x_axis)\n",
    "ax2.set_xticklabels(tkn_pools, rotation=\"vertical\")\n",
    "ax2.set_xlabel(\"Deposits\")\n",
    "ax2.set_ylabel(\"% of deposits\")\n",
    "ax2.legend(fontsize=13)\n",
    "fig.suptitle(\"Compromised vs. Uncompromised deposit rates\")\n",
    "\n",
    "plt.show()"
   ]
  },
  {
   "cell_type": "code",
   "execution_count": 146,
   "id": "903500e7",
   "metadata": {},
   "outputs": [],
   "source": [
    "txs = np.empty((len(address_and_withdraw_df)), dtype=set)\n",
    "for i, row in enumerate(address_and_withdraw_df.itertuples()):\n",
    "    txs[i] = frozenset([row.from_address, row.to_address])\n",
    "\n",
    "txs = list(filter(lambda x: len(x) == 2, txs))\n",
    "recurrent_interactions = list(Counter(txs).values())"
   ]
  },
  {
   "cell_type": "code",
   "execution_count": 147,
   "id": "178a6a52",
   "metadata": {
    "scrolled": true
   },
   "outputs": [
    {
     "data": {
      "text/plain": [
       "Text(0.5, 1.0, 'Histogram of transactions between heuristically linked deposit and withdraw addresses outisde TCash')"
      ]
     },
     "execution_count": 147,
     "metadata": {},
     "output_type": "execute_result"
    },
    {
     "data": {
      "image/png": "[encoded data removed]",
      "text/plain": [
       "<Figure size 720x360 with 1 Axes>"
      ]
     },
     "metadata": {},
     "output_type": "display_data"
    }
   ],
   "source": [
    "plt.figure(figsize=(10, 5))\n",
    "plt.hist(recurrent_interactions, bins=50)\n",
    "plt.yscale(\"log\")\n",
    "plt.xlabel(\"Pairs of addresses that interacted outside TCash\")\n",
    "plt.ylabel(\"Number of interactions (log)\")\n",
    "plt.title(\"Histogram of transactions between heuristically linked deposit and withdraw addresses outisde TCash\")"
   ]
  },
  {
   "cell_type": "markdown",
   "id": "b68ef656",
   "metadata": {},
   "source": [
    "## Heuristic 4 \n",
    "\n",
    "### Description\n",
    "If there are multiple (say 12) deposit transactions coming from a deposit address and later there are 12 withdraw transactions to the same withdraw address, then we can link all these deposit transactions to the withdraw transactions.\n",
    "\n",
    "In particular, given a withdrawal transaction, an anonimity score is assigned to it:\n",
    "\n",
    "1) The number of previous withdrawal transactions with the same address as the given withdrawal transaction is registered.\n",
    "\n",
    "2) The deposit transactions data are grouped by their address. Addresses that deposited the same number of times as the number of withdraws registered, are grouped in a set $C$.\n",
    "\n",
    "3) An anonimity score (of this heuristic) is assigned to the withdrawal transaction following the formula $P = 1 - 1/|C|$, where P is the anonimity score and $|C|$ is the cardinality of set $C$."
   ]
  },
  {
   "cell_type": "code",
   "execution_count": 96,
   "id": "99b95f3d",
   "metadata": {},
   "outputs": [],
   "source": [
    "with open('../data/tornado_pools.json') as json_file:\n",
    "    tornado_addresses = json.load(json_file)\n",
    "    \n",
    "withdraw_transactions_df = pd.read_csv(\"../data/lighter_complete_withdraw_txs.csv\")\n",
    "# Change recipient_address to lowercase.\n",
    "withdraw_transactions_df[\"recipient_address\"] = withdraw_transactions_df[\"recipient_address\"].str.lower()\n",
    "# Change block_timestamp field to be a timestamp object.\n",
    "withdraw_transactions_df[\"block_timestamp\"] = withdraw_transactions_df[\"block_timestamp\"].apply(pd.Timestamp)\n",
    "# Add tcash_pool column\n",
    "withdraw_transactions_df[\"tcash_pool\"] = withdraw_transactions_df[\"tornado_cash_address\"].apply(lambda addr: tornado_addresses[addr])\n",
    "\n",
    "deposit_transactions_df = pd.read_csv(\"../data/lighter_complete_deposit_txs.csv\")\n",
    "# Change block_timestamp field to be a timestamp object.\n",
    "deposit_transactions_df[\"block_timestamp\"] = deposit_transactions_df[\"block_timestamp\"].apply(pd.Timestamp)\n",
    "# Add tcash_pool column\n",
    "deposit_transactions_df[\"tcash_pool\"] = deposit_transactions_df[\"tornado_cash_address\"].apply(lambda addr: tornado_addresses[addr])\n"
   ]
  },
  {
   "cell_type": "markdown",
   "id": "c3b64822",
   "metadata": {},
   "source": [
    "### Function summary: compare_transactions\n",
    "\n",
    "Given two dictionaries, withdraw_dict and deposit_dict representing the total deposits and withdraws made by an address to each TCash pool, respectively, compares if the set of keys of both are equal and when they are, checks if all values in the deposit dictionary are equal or greater than each of the corresponding values of the withdraw dicionary. If this is the case, returns $True$, if not, $False$."
   ]
  },
  {
   "cell_type": "code",
   "execution_count": 97,
   "id": "007ba216",
   "metadata": {},
   "outputs": [],
   "source": [
    "def compare_transactions(withdraw_dict, deposit_dict):\n",
    "    if set(withdraw_dict.keys()) != set(deposit_dict.keys()):\n",
    "        return False\n",
    "    for currency in withdraw_dict.keys():\n",
    "        if not (deposit_dict[currency] >= withdraw_dict[currency]):\n",
    "            return False\n",
    "    return True"
   ]
  },
  {
   "cell_type": "markdown",
   "id": "8c64bbb7",
   "metadata": {},
   "source": [
    "### Function summary: get_number_of_withdraws\n",
    "\n",
    "Given a particular withdraw transaction and the withdraw transactions DataFrame, gets the total withdraws the address made in each pool. It is returned as a dictionary with the pools as the keys and the number of withdraws as the values."
   ]
  },
  {
   "cell_type": "code",
   "execution_count": 98,
   "id": "3bfab988",
   "metadata": {},
   "outputs": [],
   "source": [
    "def get_number_of_withdraws(withdraw_transaction, withdraw_transactions_df, tornado_addresses):\n",
    "    \n",
    "    n_withdraws = {tornado_addresses[withdraw_transaction.tornado_cash_address]: 1}\n",
    "    \n",
    "    for withdraw_row in withdraw_transactions_df.itertuples():\n",
    "        if (withdraw_row.recipient_address == withdraw_transaction.recipient_address) and (withdraw_row.block_timestamp <= withdraw_transaction.block_timestamp) and (withdraw_row.hash != withdraw_transaction.hash):\n",
    "            if tornado_addresses[withdraw_row.tornado_cash_address] in n_withdraws.keys():\n",
    "                n_withdraws[tornado_addresses[withdraw_row.tornado_cash_address]] += 1\n",
    "            else:\n",
    "                n_withdraws[tornado_addresses[withdraw_row.tornado_cash_address]] = 1\n",
    "    return n_withdraws"
   ]
  },
  {
   "cell_type": "markdown",
   "id": "10b58718",
   "metadata": {},
   "source": [
    "### Function summary: get_address_deposits\n",
    "\n",
    "Given the deposit transactions DataFrame, returns a dictionary with every address of the deposit"
   ]
  },
  {
   "cell_type": "code",
   "execution_count": 100,
   "id": "1ee80396",
   "metadata": {},
   "outputs": [],
   "source": [
    "def get_address_deposits(deposit_transactions_df, tornado_addresses):\n",
    "    \n",
    "    addresses_and_deposits_counts = pd.DataFrame(deposit_transactions_df[[\"from_address\", \"tornado_cash_address\"]].value_counts()).rename(columns={0:\"count\"})\n",
    "    \n",
    "    addresses_and_deposits_dict = {}\n",
    "    for row in addresses_and_deposits_counts.itertuples():\n",
    "        if row.Index[0] in addresses_and_deposits_dict.keys():\n",
    "            addresses_and_deposits_dict[row.Index[0]][tornado_addresses[row.Index[1]]] = row.count\n",
    "        else:\n",
    "            addresses_and_deposits_dict[row.Index[0]] = {tornado_addresses[row.Index[1]]: row.count}\n",
    "            \n",
    "    return addresses_and_deposits_dict"
   ]
  },
  {
   "cell_type": "code",
   "execution_count": 101,
   "id": "8ea6be0e",
   "metadata": {},
   "outputs": [],
   "source": [
    "address_deposits = get_address_deposits(deposit_transactions_df, tornado_addresses)"
   ]
  },
  {
   "cell_type": "code",
   "execution_count": 68,
   "id": "353ed448",
   "metadata": {
    "scrolled": true
   },
   "outputs": [
    {
     "data": {
      "text/plain": [
       "{'1000 USDC': 2, '100 ETH': 1, '0.1 ETH': 1}"
      ]
     },
     "execution_count": 68,
     "metadata": {},
     "output_type": "execute_result"
    }
   ],
   "source": [
    "get_number_of_withdraws(withdraw_transactions_df.iloc[2], withdraw_transactions_df, tornado_addresses)"
   ]
  },
  {
   "cell_type": "code",
   "execution_count": 69,
   "id": "371a527f",
   "metadata": {},
   "outputs": [],
   "source": [
    "d = {'1 ETH': 93,\n",
    "  '100 ETH': 4,\n",
    "  '1 WBTC': 3,\n",
    "  '0.1 ETH': 1,\n",
    "  '0.1 WBTC': 1}"
   ]
  },
  {
   "cell_type": "markdown",
   "id": "84311b26",
   "metadata": {},
   "source": [
    "### Function summary: get_same_or_more_number_of_deposits\n",
    "Given a number of withdrawal transactions, the function registers all the addresses that have made that same or more number of deposits. Returns an array with all the addresses that match these requirements."
   ]
  },
  {
   "cell_type": "code",
   "execution_count": 70,
   "id": "eb51f8c7",
   "metadata": {},
   "outputs": [],
   "source": [
    "def get_same_or_more_number_of_deposits(n_withdraws, address_deposits, tornado_addresses):\n",
    "    \n",
    "    return list(dict(filter(lambda elem: compare_transactions(n_withdraws, elem[1]), address_deposits.items())).keys())"
   ]
  },
  {
   "cell_type": "code",
   "execution_count": 71,
   "id": "b688e031",
   "metadata": {
    "scrolled": true
   },
   "outputs": [
    {
     "data": {
      "text/plain": [
       "['0x6e8df51931f8675cf7e12447e1fe25b26c8775c7']"
      ]
     },
     "execution_count": 71,
     "metadata": {},
     "output_type": "execute_result"
    }
   ],
   "source": [
    "get_same_or_more_number_of_deposits(d, address_deposits, tornado_addresses)"
   ]
  },
  {
   "cell_type": "markdown",
   "id": "82151503",
   "metadata": {},
   "source": [
    "### Function summary: get_same_number_of_deposits_heuristic\n",
    "Given a withdraw_transaction and the deposit and withdraw data, compute the anonimity score of the transaction, based on this heuristic."
   ]
  },
  {
   "cell_type": "code",
   "execution_count": 366,
   "id": "4f955bc1",
   "metadata": {},
   "outputs": [],
   "source": [
    "def same_number_of_deposits_heuristic(withdraw_transaction, address_deposits, withdraw_transactions_df, tornado_addresses):\n",
    "    # We calculate the number of withdrawals of the address from the withdraw_transaction given as input.\n",
    "    n_withdraws = get_number_of_withdraws(withdraw_transaction, withdraw_transactions_df, tornado_addresses)\n",
    "\n",
    "    # Based on n_withdraws, the set of the addresses that have the same number of deposits is calculated.\n",
    "    C = get_same_or_more_number_of_deposits(n_withdraws, address_deposits, tornado_addresses)\n",
    "    \n",
    "    # Since there is a chance that the cardinality of the set is 0, we handle this case and return the anonimity\n",
    "    # score.\n",
    "    try:\n",
    "        return 1 - 1/len(C)\n",
    "    except:\n",
    "        return 1"
   ]
  },
  {
   "cell_type": "code",
   "execution_count": 367,
   "id": "c6251aa8",
   "metadata": {},
   "outputs": [],
   "source": [
    "def apply_same_number_of_deposits_heuristic(deposit_transactions_df, withdraw_transactions_df, tornado_addresses):\n",
    "    \n",
    "    address_deposits = get_address_deposits(deposit_transactions_df, tornado_addresses)\n",
    "    \n",
    "    tx_hash_and_anonimity_score = {}\n",
    "    \n",
    "    for withdraw_row in tqdm(withdraw_transactions_df.itertuples(), total = withdraw_transactions_df.shape[0], mininterval=5):\n",
    "        anonimity_score = same_number_of_deposits_heuristic(withdraw_row, address_deposits, withdraw_transactions_df, tornado_addresses)\n",
    "        tx_hash_and_anonimity_score[withdraw_row.hash] = anonimity_score\n",
    "\n",
    "    return tx_hash_and_anonimity_score"
   ]
  },
  {
   "cell_type": "markdown",
   "id": "a084b57f",
   "metadata": {},
   "source": [
    "We apply this last function to our data and we obtain a dictionary indicating the score of each withdrawal."
   ]
  },
  {
   "cell_type": "code",
   "execution_count": 74,
   "id": "7fb18004",
   "metadata": {},
   "outputs": [
    {
     "name": "stderr",
     "output_type": "stream",
     "text": [
      "100%|█████████████████████████████████| 83782/83782 [5:58:23<00:00,  3.90it/s]\n"
     ]
    }
   ],
   "source": [
    "scores = apply_same_number_of_deposits_heuristic(deposit_transactions_df, withdraw_transactions_df, tornado_addresses)\n"
   ]
  },
  {
   "cell_type": "markdown",
   "id": "12e3fa60",
   "metadata": {},
   "source": [
    "### Results analysis"
   ]
  },
  {
   "cell_type": "markdown",
   "id": "d8043cc9",
   "metadata": {},
   "source": [
    "#### Scores of the withdrawal transactions"
   ]
  },
  {
   "cell_type": "code",
   "execution_count": 424,
   "id": "53297ac6",
   "metadata": {
    "scrolled": false
   },
   "outputs": [
    {
     "data": {
      "image/png": "[encoded data removed]",
      "text/plain": [
       "<Figure size 720x360 with 1 Axes>"
      ]
     },
     "metadata": {},
     "output_type": "display_data"
    }
   ],
   "source": [
    "plt.figure(figsize=(10,5))\n",
    "plt.hist(scores.values(), bins=100, density=True)\n",
    "plt.title(\"Histogram of scores of the withdrawal transactions\")\n",
    "plt.xlabel(\"Scores\")\n",
    "plt.show()\n"
   ]
  },
  {
   "cell_type": "markdown",
   "id": "04dca157",
   "metadata": {},
   "source": [
    "#### Compromised withdraw transactions for each TCash pool"
   ]
  },
  {
   "cell_type": "code",
   "execution_count": 394,
   "id": "37665df8",
   "metadata": {},
   "outputs": [],
   "source": [
    "# Read the results\n",
    "scores_df = pd.read_csv(\"../data/fourth_heuristic_results.csv\")\n",
    "scores = {}\n",
    "for row in scores_df.itertuples():\n",
    "    scores[row.transaction_hash] = row.score"
   ]
  },
  {
   "cell_type": "code",
   "execution_count": 395,
   "id": "22ac6ab1",
   "metadata": {},
   "outputs": [],
   "source": [
    "def tx_to_pool(withdraw_transactions_df):\n",
    "    tx_to_pool_dict = {}\n",
    "    for row in tqdm(withdraw_transactions_df.itertuples(), mininterval=1):\n",
    "        tx_to_pool_dict[row.hash] = row.tcash_pool\n",
    "    \n",
    "    return tx_to_pool_dict"
   ]
  },
  {
   "cell_type": "code",
   "execution_count": 398,
   "id": "d9b33f29",
   "metadata": {},
   "outputs": [],
   "source": [
    "# We define a withdraws with score 0 as a compromised_withdraw\n",
    "compromised_withdrawal_hashes = set()\n",
    "for tx_hash in scores:\n",
    "    if scores[tx_hash] == 0:\n",
    "        compromised_withdrawal_hashes.add(tx_hash)"
   ]
  },
  {
   "cell_type": "code",
   "execution_count": 399,
   "id": "87f6e586",
   "metadata": {},
   "outputs": [
    {
     "name": "stderr",
     "output_type": "stream",
     "text": [
      "83782it [00:01, 56663.55it/s]\n"
     ]
    }
   ],
   "source": [
    "tx_to_pool_dict = tx_to_pool(withdraw_transactions_df)\n",
    "number_of_compromised_withdrawals_by_pool = Counter(list(map(lambda x: tx_to_pool_dict[x], compromised_withdrawal_hashes)))\n"
   ]
  },
  {
   "cell_type": "code",
   "execution_count": 406,
   "id": "59dc8c4a",
   "metadata": {},
   "outputs": [],
   "source": [
    "pools_to_withdrawal = dict(withdraw_transactions_df.groupby(\"tcash_pool\")[\"hash\"].apply(list))\n",
    "number_of_uncompromised_withdrawals_by_pool = {}\n",
    "for pool in list(pools_to_withdrawal.keys()):\n",
    "    number_of_uncompromised_withdrawals_by_pool[pool] = len(pools_to_withdrawal[pool]) - number_of_compromised_withdrawals_by_pool[pool]\n"
   ]
  },
  {
   "cell_type": "code",
   "execution_count": 408,
   "id": "2857ef82",
   "metadata": {},
   "outputs": [],
   "source": [
    "compromised_vs_uncompromised_by_pool = {}\n",
    "\n",
    "for pool in list(number_of_uncompromised_withdrawals_by_pool.keys()):\n",
    "    compromised_vs_uncompromised_by_pool[pool] = (number_of_compromised_withdrawals_by_pool[pool], number_of_uncompromised_withdrawals_by_pool[pool])\n"
   ]
  },
  {
   "cell_type": "code",
   "execution_count": 409,
   "id": "414505e6",
   "metadata": {},
   "outputs": [],
   "source": [
    "eth_pools = [\"0.1 ETH\", \"1 ETH\", \"10 ETH\", \"100 ETH\"]\n",
    "tkn_pools = [pool for pool in compromised_vs_uncompromised_by_pool.keys() if pool not in eth_pools]\n",
    "all_pools = eth_pools + tkn_pools\n"
   ]
  },
  {
   "cell_type": "markdown",
   "id": "38f086e9",
   "metadata": {},
   "source": [
    "## Heuristic 5 - Careless usage of Anonimity Mining\n",
    "\n",
    "Through Anonimity Mining, TCash users are able to receive TORN token as a reward for using the application. This is done in a sequence of two steps:\n",
    "\n",
    "1. Anonimity Points (AP) are claimed for already spent notes. The quantity of AP obtained depends on how many blocks the note was in a TCash pool, and the pool where it was.\n",
    "2. Using the TCash Automated Market Maker (AMM), users can exchange anonimity points for TORN.\n",
    "\n",
    "\n",
    "From a pure data point of view, this actions are seen as transactions with the TCash Miner. An example of transaction (1) can be seen [here](https://etherscan.io/tx/0x7680b7617931851c5de686c06370bf852d2cd1e32de984d1860ed8510bc44c0b) and an example of transaction (2) can be seen [here](https://etherscan.io/tx/0xb7b41774e17961452c307dfc9515f59ed583e8c6f00a74a716d64e6bd365f223). \n",
    "\n",
    "What can be seen clearly by decoding the input data field of these transactions is that transactions of type (1) call the TCash miner method `reward` and the ones of type (2) the method `withdraw`. Transactions of type (2) are the ones we are interested in, since they give us the following information:\n",
    "\n",
    "* Amount of AP being swapped to TORN.\n",
    "* Address of TORN recipient. \n",
    "\n",
    "Making the assumption that users are swapping the totality of their AP, and that those AP have been claimed for a single note, then we can link deposit and withdrawal transactions with the following procedure:\n",
    "\n",
    "1. Check if the recipient address of a transaction of type (2) has done a deposit or a withdraw in TCash.\n",
    "2. If the address is included in the set of deposit (withdraw) addreses, then check all deposits (withdraws) of that address, convert AP into number of blocks according to the pool the deposit was done, and then search for a withdra transaction with block number equal to\n",
    "\n",
    "    ```deposit_blocks + AP_converted_blocks = withdraw_blocks```\n",
    "    \n",
    "    \n",
    "3. When such a withdraw (deposit) is found, then the two transactions are considered linked.\n",
    "\n",
    "### Results\n",
    "Results are given in a dictionary, each element has the following structure:\n",
    "\n",
    "```\n",
    "(withdraw_hash, withdraw_address, AP_converted_blocks): [(deposit_hash, deposit_address), ...]\n",
    "```\n",
    "\n",
    "In this compact manner we have the information about the withdraw transactions with their addresses and their linking to deposit transactions with their addresses. We also have the amount of blocks that the notes were deposited in the TCash pool."
   ]
  },
  {
   "cell_type": "code",
   "execution_count": 53,
   "id": "465fb1fa",
   "metadata": {},
   "outputs": [],
   "source": [
    "import pandas as pd\n",
    "from tqdm import tqdm\n",
    "import json\n",
    "import matplotlib.pyplot as plt\n",
    "import seaborn as sns\n",
    "from itertools import chain\n",
    "import numpy as np\n",
    "from os.path import exists\n",
    "from collections import Counter"
   ]
  },
  {
   "cell_type": "code",
   "execution_count": 2,
   "id": "b615c944",
   "metadata": {},
   "outputs": [],
   "source": [
    "with open('../data/tornado_pools.json') as json_file:\n",
    "    tornado_addresses = json.load(json_file)\n",
    "\n",
    "deposit_txs = pd.read_csv(\"../data/lighter_complete_deposit_txs.csv\")\n",
    "deposit_txs[\"tcash_pool\"] = deposit_txs[\"tornado_cash_address\"].apply(lambda addr: tornado_addresses[addr])\n",
    "\n",
    "withdraw_txs = pd.read_csv(\"../data/lighter_complete_withdraw_txs.csv\")\n",
    "withdraw_txs[\"tcash_pool\"] = withdraw_txs[\"tornado_cash_address\"].apply(lambda addr: tornado_addresses[addr])\n",
    "\n",
    "miner_txs = pd.read_csv(\"../data/lighter_miner_txs.csv\")"
   ]
  },
  {
   "cell_type": "code",
   "execution_count": 3,
   "id": "218d0f32",
   "metadata": {},
   "outputs": [
    {
     "data": {
      "text/html": [
       "<div>\n",
       "<style scoped>\n",
       "    .dataframe tbody tr th:only-of-type {\n",
       "        vertical-align: middle;\n",
       "    }\n",
       "\n",
       "    .dataframe tbody tr th {\n",
       "        vertical-align: top;\n",
       "    }\n",
       "\n",
       "    .dataframe thead th {\n",
       "        text-align: right;\n",
       "    }\n",
       "</style>\n",
       "<table border=\"1\" class=\"dataframe\">\n",
       "  <thead>\n",
       "    <tr style=\"text-align: right;\">\n",
       "      <th></th>\n",
       "      <th>Unnamed: 0</th>\n",
       "      <th>hash</th>\n",
       "      <th>nonce</th>\n",
       "      <th>transaction_index</th>\n",
       "      <th>from_address</th>\n",
       "      <th>to_address</th>\n",
       "      <th>value</th>\n",
       "      <th>gas</th>\n",
       "      <th>gas_price</th>\n",
       "      <th>receipt_cumulative_gas_used</th>\n",
       "      <th>...</th>\n",
       "      <th>block_timestamp</th>\n",
       "      <th>block_number</th>\n",
       "      <th>block_hash</th>\n",
       "      <th>max_fee_per_gas</th>\n",
       "      <th>max_priority_fee_per_gas</th>\n",
       "      <th>transaction_type</th>\n",
       "      <th>receipt_effective_gas_price</th>\n",
       "      <th>function_call</th>\n",
       "      <th>anonimity_points</th>\n",
       "      <th>recipient_address</th>\n",
       "    </tr>\n",
       "  </thead>\n",
       "  <tbody>\n",
       "    <tr>\n",
       "      <th>0</th>\n",
       "      <td>0</td>\n",
       "      <td>0x3a22fe99fd6c27b507760cb20a1d3ffae9ccd320dca8...</td>\n",
       "      <td>1122</td>\n",
       "      <td>142</td>\n",
       "      <td>0x80e179c4a2f057be91573b32bece53888fb48311</td>\n",
       "      <td>0x746aebc06d2ae31b71ac51429a19d54e797878e9</td>\n",
       "      <td>0</td>\n",
       "      <td>434790</td>\n",
       "      <td>232500000000</td>\n",
       "      <td>8009441</td>\n",
       "      <td>...</td>\n",
       "      <td>2021-04-03 19:23:24 UTC</td>\n",
       "      <td>12168479</td>\n",
       "      <td>0xb88d592cf1a1d399e2621b8ca7aef638d9d7b3dad39b...</td>\n",
       "      <td>NaN</td>\n",
       "      <td>NaN</td>\n",
       "      <td>NaN</td>\n",
       "      <td>232500000000</td>\n",
       "      <td>w</td>\n",
       "      <td>227319444.0</td>\n",
       "      <td>0x84bb14595fd30a53cbe18e68085d42645901d8b6</td>\n",
       "    </tr>\n",
       "    <tr>\n",
       "      <th>1</th>\n",
       "      <td>1</td>\n",
       "      <td>0x3331a615c119a9958b4429e0789674d5219aa16f23d5...</td>\n",
       "      <td>1678</td>\n",
       "      <td>168</td>\n",
       "      <td>0xbe4d1e137a24af091be80ae58d652279665e3a27</td>\n",
       "      <td>0x746aebc06d2ae31b71ac51429a19d54e797878e9</td>\n",
       "      <td>0</td>\n",
       "      <td>434790</td>\n",
       "      <td>196500000000</td>\n",
       "      <td>12080586</td>\n",
       "      <td>...</td>\n",
       "      <td>2021-03-31 23:25:33 UTC</td>\n",
       "      <td>12150112</td>\n",
       "      <td>0xb97682f9cb2da20ec91feb61eb44fee72a16d7924e19...</td>\n",
       "      <td>NaN</td>\n",
       "      <td>NaN</td>\n",
       "      <td>NaN</td>\n",
       "      <td>196500000000</td>\n",
       "      <td>w</td>\n",
       "      <td>46294475.0</td>\n",
       "      <td>0x1dc09454a6128182d65cd2e8478d9b445c3267d5</td>\n",
       "    </tr>\n",
       "    <tr>\n",
       "      <th>3</th>\n",
       "      <td>3</td>\n",
       "      <td>0x5097c46458696ec07fecf989c60cfb26ec37eabc3734...</td>\n",
       "      <td>6310</td>\n",
       "      <td>83</td>\n",
       "      <td>0xbe4d1e137a24af091be80ae58d652279665e3a27</td>\n",
       "      <td>0x746aebc06d2ae31b71ac51429a19d54e797878e9</td>\n",
       "      <td>0</td>\n",
       "      <td>400000</td>\n",
       "      <td>17500000000</td>\n",
       "      <td>4131879</td>\n",
       "      <td>...</td>\n",
       "      <td>2021-07-11 08:40:51 UTC</td>\n",
       "      <td>12804973</td>\n",
       "      <td>0x70008e988a388c9b1b691540c35800584eb5b0bcb7c9...</td>\n",
       "      <td>NaN</td>\n",
       "      <td>NaN</td>\n",
       "      <td>NaN</td>\n",
       "      <td>17500000000</td>\n",
       "      <td>w</td>\n",
       "      <td>173174856.0</td>\n",
       "      <td>0xd2800879f604cd13d7d9e8738c080408d7105c60</td>\n",
       "    </tr>\n",
       "    <tr>\n",
       "      <th>4</th>\n",
       "      <td>4</td>\n",
       "      <td>0x78b487413b9996ff504bf24b7ee4109f4e74acd3f66d...</td>\n",
       "      <td>7023</td>\n",
       "      <td>137</td>\n",
       "      <td>0xbe4d1e137a24af091be80ae58d652279665e3a27</td>\n",
       "      <td>0x746aebc06d2ae31b71ac51429a19d54e797878e9</td>\n",
       "      <td>0</td>\n",
       "      <td>400000</td>\n",
       "      <td>51000000730</td>\n",
       "      <td>9509885</td>\n",
       "      <td>...</td>\n",
       "      <td>2021-08-03 15:34:58 UTC</td>\n",
       "      <td>12953119</td>\n",
       "      <td>0x59aba14dac8f1f4f09e14a7a70b4e4e8e9686a487194...</td>\n",
       "      <td>NaN</td>\n",
       "      <td>NaN</td>\n",
       "      <td>NaN</td>\n",
       "      <td>51000000730</td>\n",
       "      <td>w</td>\n",
       "      <td>219334984.0</td>\n",
       "      <td>0x4bd4e5818d30b47bc771e5fd271bd9c15570be30</td>\n",
       "    </tr>\n",
       "    <tr>\n",
       "      <th>5</th>\n",
       "      <td>5</td>\n",
       "      <td>0x30d9b4b39ab002d6f655d2a4fc2c158c2bf599eae7b4...</td>\n",
       "      <td>1381</td>\n",
       "      <td>240</td>\n",
       "      <td>0x49136693081f2c18e2cf14428dd78cd90a22dc1f</td>\n",
       "      <td>0x746aebc06d2ae31b71ac51429a19d54e797878e9</td>\n",
       "      <td>0</td>\n",
       "      <td>400000</td>\n",
       "      <td>23000000000</td>\n",
       "      <td>8390223</td>\n",
       "      <td>...</td>\n",
       "      <td>2021-07-13 09:03:45 UTC</td>\n",
       "      <td>12817885</td>\n",
       "      <td>0xf6a8a55c2ab263028901493a875aa6c6ae542c94b327...</td>\n",
       "      <td>NaN</td>\n",
       "      <td>NaN</td>\n",
       "      <td>NaN</td>\n",
       "      <td>23000000000</td>\n",
       "      <td>w</td>\n",
       "      <td>191255216.0</td>\n",
       "      <td>0xd05564eef07a73c31f9e8ee840abda76e2a99a66</td>\n",
       "    </tr>\n",
       "  </tbody>\n",
       "</table>\n",
       "<p>5 rows × 24 columns</p>\n",
       "</div>"
      ],
      "text/plain": [
       "   Unnamed: 0                                               hash  nonce  \\\n",
       "0           0  0x3a22fe99fd6c27b507760cb20a1d3ffae9ccd320dca8...   1122   \n",
       "1           1  0x3331a615c119a9958b4429e0789674d5219aa16f23d5...   1678   \n",
       "3           3  0x5097c46458696ec07fecf989c60cfb26ec37eabc3734...   6310   \n",
       "4           4  0x78b487413b9996ff504bf24b7ee4109f4e74acd3f66d...   7023   \n",
       "5           5  0x30d9b4b39ab002d6f655d2a4fc2c158c2bf599eae7b4...   1381   \n",
       "\n",
       "   transaction_index                                from_address  \\\n",
       "0                142  0x80e179c4a2f057be91573b32bece53888fb48311   \n",
       "1                168  0xbe4d1e137a24af091be80ae58d652279665e3a27   \n",
       "3                 83  0xbe4d1e137a24af091be80ae58d652279665e3a27   \n",
       "4                137  0xbe4d1e137a24af091be80ae58d652279665e3a27   \n",
       "5                240  0x49136693081f2c18e2cf14428dd78cd90a22dc1f   \n",
       "\n",
       "                                   to_address  value     gas     gas_price  \\\n",
       "0  0x746aebc06d2ae31b71ac51429a19d54e797878e9      0  434790  232500000000   \n",
       "1  0x746aebc06d2ae31b71ac51429a19d54e797878e9      0  434790  196500000000   \n",
       "3  0x746aebc06d2ae31b71ac51429a19d54e797878e9      0  400000   17500000000   \n",
       "4  0x746aebc06d2ae31b71ac51429a19d54e797878e9      0  400000   51000000730   \n",
       "5  0x746aebc06d2ae31b71ac51429a19d54e797878e9      0  400000   23000000000   \n",
       "\n",
       "   receipt_cumulative_gas_used  ...          block_timestamp  block_number  \\\n",
       "0                      8009441  ...  2021-04-03 19:23:24 UTC      12168479   \n",
       "1                     12080586  ...  2021-03-31 23:25:33 UTC      12150112   \n",
       "3                      4131879  ...  2021-07-11 08:40:51 UTC      12804973   \n",
       "4                      9509885  ...  2021-08-03 15:34:58 UTC      12953119   \n",
       "5                      8390223  ...  2021-07-13 09:03:45 UTC      12817885   \n",
       "\n",
       "                                          block_hash  max_fee_per_gas  \\\n",
       "0  0xb88d592cf1a1d399e2621b8ca7aef638d9d7b3dad39b...              NaN   \n",
       "1  0xb97682f9cb2da20ec91feb61eb44fee72a16d7924e19...              NaN   \n",
       "3  0x70008e988a388c9b1b691540c35800584eb5b0bcb7c9...              NaN   \n",
       "4  0x59aba14dac8f1f4f09e14a7a70b4e4e8e9686a487194...              NaN   \n",
       "5  0xf6a8a55c2ab263028901493a875aa6c6ae542c94b327...              NaN   \n",
       "\n",
       "  max_priority_fee_per_gas  transaction_type receipt_effective_gas_price  \\\n",
       "0                      NaN               NaN                232500000000   \n",
       "1                      NaN               NaN                196500000000   \n",
       "3                      NaN               NaN                 17500000000   \n",
       "4                      NaN               NaN                 51000000730   \n",
       "5                      NaN               NaN                 23000000000   \n",
       "\n",
       "   function_call  anonimity_points                           recipient_address  \n",
       "0              w       227319444.0  0x84bb14595fd30a53cbe18e68085d42645901d8b6  \n",
       "1              w        46294475.0  0x1dc09454a6128182d65cd2e8478d9b445c3267d5  \n",
       "3              w       173174856.0  0xd2800879f604cd13d7d9e8738c080408d7105c60  \n",
       "4              w       219334984.0  0x4bd4e5818d30b47bc771e5fd271bd9c15570be30  \n",
       "5              w       191255216.0  0xd05564eef07a73c31f9e8ee840abda76e2a99a66  \n",
       "\n",
       "[5 rows x 24 columns]"
      ]
     },
     "execution_count": 3,
     "metadata": {},
     "output_type": "execute_result"
    }
   ],
   "source": [
    "w_miner_txs = miner_txs[miner_txs[\"function_call\"] == \"w\"]\n",
    "w_miner_txs.head()"
   ]
  },
  {
   "cell_type": "code",
   "execution_count": 4,
   "id": "3ed702e0",
   "metadata": {},
   "outputs": [],
   "source": [
    "recipient_addresses = set(w_miner_txs[\"recipient_address\"])"
   ]
  },
  {
   "cell_type": "code",
   "execution_count": 5,
   "id": "fdb4eb24",
   "metadata": {},
   "outputs": [],
   "source": [
    "mining_pool_rates ={\n",
    "    \"0.1 ETH\": 4, \n",
    "    \"1 ETH\": 20, \n",
    "    \"10 ETH\": 50, \n",
    "    \"100 ETH\": 400, \n",
    "    \"100 DAI\": 2, \n",
    "    \"1000 DAI\": 10, \n",
    "    \"10000 DAI\": 40, \n",
    "    \"100000 DAI\": 250, \n",
    "    \"5000 cDAI\": 2, \n",
    "    \"50000 cDAI\": 10,\n",
    "    \"500000 cDAI\": 40, \n",
    "    \"5000000 cDAI\": 250,\n",
    "    \"0.1 WBTC\": 15, \n",
    "    \"1 WBTC\": 120, \n",
    "    \"10 WBTC\": 1000\n",
    "}\n",
    "mining_pools = list(mining_pool_rates.keys())"
   ]
  },
  {
   "cell_type": "code",
   "execution_count": 6,
   "id": "3fad2158",
   "metadata": {},
   "outputs": [],
   "source": [
    "# Drop all the txs that are not from the mining pools\n",
    "deposit_txs = deposit_txs[deposit_txs[\"tcash_pool\"].isin(mining_pools)]\n",
    "withdraw_txs = withdraw_txs[withdraw_txs[\"tcash_pool\"].isin(mining_pools)]\n",
    "\n",
    "unique_deposit_addresses = set(deposit_txs[\"from_address\"])\n",
    "unique_withdraw_addresses = set(withdraw_txs[\"recipient_address\"])"
   ]
  },
  {
   "cell_type": "code",
   "execution_count": 7,
   "id": "21e906f1",
   "metadata": {},
   "outputs": [],
   "source": [
    "def address_to_txs_and_blocks(txs_df, tx_type) -> dict:\n",
    "    \n",
    "    assert tx_type in [\"deposit\", \"withdraw\"], \"Transaction type error\"\n",
    "    \n",
    "    address_field = \"from_address\" if tx_type == \"deposit\" else \"recipient_address\"\n",
    "    \n",
    "    addr_to_txs_and_blocks_dict: dict = {}\n",
    "        \n",
    "    for _, row in tqdm(txs_df.iterrows(), mininterval=1, total=len(txs_df)):\n",
    "        if row[address_field] not in addr_to_txs_and_blocks_dict.keys():\n",
    "            addr_to_txs_and_blocks_dict[row[address_field]] = {row.tcash_pool: [(row.hash, row.block_number)]}\n",
    "            \n",
    "        elif row.tcash_pool not in addr_to_txs_and_blocks_dict[row[address_field]].keys():\n",
    "            addr_to_txs_and_blocks_dict[row[address_field]].update({row.tcash_pool: [(row.hash, row.block_number)]})\n",
    "        \n",
    "        else:\n",
    "            addr_to_txs_and_blocks_dict[row[address_field]][row.tcash_pool].append((row.hash, row.block_number))\n",
    "    \n",
    "    return addr_to_txs_and_blocks_dict"
   ]
  },
  {
   "cell_type": "code",
   "execution_count": 8,
   "id": "ea3e9136",
   "metadata": {},
   "outputs": [
    {
     "name": "stderr",
     "output_type": "stream",
     "text": [
      "100%|██████████| 96137/96137 [00:11<00:00, 8528.13it/s]\n",
      "100%|██████████| 82677/82677 [00:09<00:00, 8633.88it/s]\n"
     ]
    }
   ],
   "source": [
    "addr2deposits = address_to_txs_and_blocks(deposit_txs, \"deposit\")\n",
    "addr2withdraws = address_to_txs_and_blocks(withdraw_txs, \"withdraw\")"
   ]
  },
  {
   "cell_type": "code",
   "execution_count": 9,
   "id": "8a22d9bf",
   "metadata": {},
   "outputs": [],
   "source": [
    "'''\n",
    "To classify the addresses by their inclusion in the unique_deposit_addresses and \n",
    "the unique_withdraw_addresses sets.\n",
    "'''\n",
    "\n",
    "def is_D_type(address):\n",
    "    return (address in unique_deposit_addresses) and (address not in unique_withdraw_addresses)\n",
    "\n",
    "def is_W_type(address):\n",
    "    return (address not in unique_deposit_addresses) and (address in unique_withdraw_addresses)\n",
    "\n",
    "def is_DW_type(address):\n",
    "    return (address in unique_deposit_addresses) and (address in unique_withdraw_addresses)"
   ]
  },
  {
   "cell_type": "code",
   "execution_count": 10,
   "id": "7369fb0f",
   "metadata": {},
   "outputs": [],
   "source": [
    "def ap2blocks(anonimity_points: int, pool: str) -> float:\n",
    "    rate = mining_pool_rates[pool]\n",
    "    \n",
    "    return anonimity_points/rate"
   ]
  },
  {
   "cell_type": "code",
   "execution_count": 11,
   "id": "a72587a8",
   "metadata": {},
   "outputs": [],
   "source": [
    "def _D_type_anonimity_heuristic(miner_tx) -> dict:\n",
    "    \n",
    "    d_addr = miner_tx.recipient_address\n",
    "    \n",
    "    d_addr2w: dict = {d_addr: {}}\n",
    "    \n",
    "    for d_pool in addr2deposits[d_addr]:\n",
    "        for (d_hash, d_blocks) in addr2deposits[d_addr][d_pool]:\n",
    "            delta_blocks = ap2blocks(miner_tx.anonimity_points, d_pool)\n",
    "            \n",
    "            for w_addr in addr2withdraws.keys():\n",
    "                if d_pool in addr2withdraws[w_addr].keys():\n",
    "                    \n",
    "                    for (w_hash, w_blocks) in addr2withdraws[w_addr][d_pool]:\n",
    "                        if d_blocks + delta_blocks == w_blocks:\n",
    "                            if d_hash not in d_addr2w[d_addr].keys():\n",
    "                                d_addr2w[d_addr][d_hash] = [(w_hash, w_addr, delta_blocks)]\n",
    "                            else:\n",
    "                                d_addr2w[d_addr][d_hash].append((w_hash, w_addr, delta_blocks))\n",
    "    \n",
    "    return d_addr2w   "
   ]
  },
  {
   "cell_type": "code",
   "execution_count": 12,
   "id": "aba15c5e",
   "metadata": {},
   "outputs": [],
   "source": [
    "def _W_type_anonimity_heuristic(miner_tx) -> dict:\n",
    "    \n",
    "    w_addr = miner_tx.recipient_address\n",
    "    \n",
    "    w_addr2d: dict = {w_addr: {}}\n",
    "    \n",
    "    for w_pool in addr2withdraws[w_addr]:\n",
    "        for (w_hash, w_blocks) in addr2withdraws[w_addr][w_pool]:\n",
    "            delta_blocks = ap2blocks(miner_tx.anonimity_points, w_pool)\n",
    "            \n",
    "            for d_addr in addr2deposits.keys():\n",
    "                if w_pool in addr2deposits[d_addr].keys():\n",
    "                    \n",
    "                    for (d_hash, d_blocks) in addr2deposits[d_addr][w_pool]:\n",
    "                        if d_blocks + delta_blocks == w_blocks:\n",
    "                            if w_hash not in w_addr2d[w_addr].keys():\n",
    "                                w_addr2d[w_addr][w_hash] = [(d_hash, d_addr, delta_blocks)]\n",
    "                            else:\n",
    "                                w_addr2d[w_addr][w_hash].append((d_hash, d_addr, delta_blocks))\n",
    "    \n",
    "    return w_addr2d  "
   ]
  },
  {
   "cell_type": "code",
   "execution_count": 13,
   "id": "ef1d173f",
   "metadata": {},
   "outputs": [],
   "source": [
    "def anonimity_mining_heuristic(miner_tx) -> dict:\n",
    "    linked_txs: dict = {}\n",
    "    \n",
    "    if is_D_type(miner_tx.recipient_address):\n",
    "        d_dict = _D_type_anonimity_heuristic(miner_tx)\n",
    "        if len(d_dict[miner_tx.recipient_address]) != 0:\n",
    "            linked_txs[\"D\"] = d_dict\n",
    "        return linked_txs\n",
    "        \n",
    "    elif is_W_type(miner_tx.recipient_address):\n",
    "        w_dict = _W_type_anonimity_heuristic(miner_tx)\n",
    "        if len(w_dict[miner_tx.recipient_address]) != 0:\n",
    "            linked_txs[\"W\"] = w_dict\n",
    "        return linked_txs\n",
    "        \n",
    "    elif is_DW_type(miner_tx.recipient_address):\n",
    "        d_dict = _D_type_anonimity_heuristic(miner_tx)\n",
    "        if len(d_dict[miner_tx.recipient_address]) != 0:\n",
    "            linked_txs[\"D\"] = d_dict\n",
    "            \n",
    "        w_dict = _W_type_anonimity_heuristic(miner_tx)\n",
    "        if len(w_dict[miner_tx.recipient_address]) != 0:\n",
    "            linked_txs[\"W\"] = w_dict\n",
    "        \n",
    "\n",
    "        return linked_txs\n",
    "    \n",
    "    return linked_txs"
   ]
  },
  {
   "cell_type": "code",
   "execution_count": 14,
   "id": "4b8a50b5",
   "metadata": {},
   "outputs": [],
   "source": [
    "def apply_anonimity_mining_heuristic(miner_txs) -> dict:\n",
    "    \n",
    "    total_linked_txs = {\"D\": {}, \"W\": {}}\n",
    "    \n",
    "    for miner_tx in tqdm(miner_txs.itertuples(), mininterval=3, total=len(miner_txs)):\n",
    "        linked_txs = anonimity_mining_heuristic(miner_tx)\n",
    "        if len(linked_txs) != 0:\n",
    "            if \"D\" in linked_txs.keys():\n",
    "                if len(linked_txs[\"D\"]) != 0:\n",
    "                    total_linked_txs[\"D\"].update(linked_txs[\"D\"])\n",
    "            if \"W\" in linked_txs.keys():\n",
    "                if len(linked_txs[\"W\"]) != 0:\n",
    "                    total_linked_txs[\"W\"].update(linked_txs[\"W\"])\n",
    "    \n",
    "    return total_linked_txs"
   ]
  },
  {
   "cell_type": "code",
   "execution_count": 15,
   "id": "df50d2ad",
   "metadata": {},
   "outputs": [],
   "source": [
    "# For caching these results,\n",
    "# with open(\"../data/heuristic_5_linked_txs.json\", \"w\") as outfile:\n",
    "#    json.dump(total_linked_txs, outfile, indent=4)\n"
   ]
  },
  {
   "cell_type": "code",
   "execution_count": 16,
   "id": "020f4bd8",
   "metadata": {},
   "outputs": [],
   "source": [
    "def load_raw_linked_transactions(filepath):\n",
    "    if exists(filepath):\n",
    "        with open(filepath) as json_file:\n",
    "            total_linked_txs = json.load(json_file)\n",
    "        return total_linked_txs\n",
    "    else:\n",
    "        total_linked_txs = apply_anonimity_mining_heuristic(miner_txs)\n",
    "        return total_linked_txs"
   ]
  },
  {
   "cell_type": "code",
   "execution_count": 17,
   "id": "f23551d3",
   "metadata": {},
   "outputs": [],
   "source": [
    "total_linked_txs = load_raw_linked_transactions(\"../data/heuristic_5_linked_txs.json\")"
   ]
  },
  {
   "cell_type": "code",
   "execution_count": 18,
   "id": "43ec74ac",
   "metadata": {},
   "outputs": [],
   "source": [
    "'''\n",
    "The final version of the results is obtained applying this function\n",
    "to the output of the 'apply_anonimity_mining_heuristic' function.\n",
    "\n",
    "wb2d -> withdraws and blocks to deposits\n",
    "'''\n",
    "\n",
    "def _wb2d(total_linked_txs) -> dict:\n",
    "    \n",
    "    w2d: dict = {}\n",
    "        \n",
    "    for elem in total_linked_txs[\"W\"].items():\n",
    "        for addr in total_linked_txs[\"W\"].keys():\n",
    "            for hsh in total_linked_txs[\"W\"][addr]:\n",
    "                delta_blocks = total_linked_txs[\"W\"][addr][hsh][0][2]\n",
    "                w2d[(hsh, addr, delta_blocks)] = [(t[0],t[1]) for t in total_linked_txs[\"W\"][addr][hsh]]\n",
    "    \n",
    "    for elem in total_linked_txs[\"D\"].items():\n",
    "        for addr in total_linked_txs[\"D\"].keys():\n",
    "            \n",
    "            for hsh in total_linked_txs[\"D\"][addr]:\n",
    "                \n",
    "                for tx_tuple in total_linked_txs[\"D\"][addr][hsh]:\n",
    "                    if tx_tuple[0] not in w2d.keys():\n",
    "                        w2d[tuple(tx_tuple)] = [(hsh, addr)]\n",
    "                    else:\n",
    "                        if (hsh, addr) not in w2d[tx_tuple]:\n",
    "                            w2d[tuple(tx_tuple)].append((hsh, addr))\n",
    "    \n",
    "    return w2d"
   ]
  },
  {
   "cell_type": "code",
   "execution_count": 19,
   "id": "3b54c5b0",
   "metadata": {},
   "outputs": [],
   "source": [
    "w2d = _wb2d(total_linked_txs)"
   ]
  },
  {
   "cell_type": "markdown",
   "id": "7feec1ff",
   "metadata": {},
   "source": [
    "### Results exploration"
   ]
  },
  {
   "cell_type": "code",
   "execution_count": 20,
   "id": "124b3877",
   "metadata": {},
   "outputs": [],
   "source": [
    "D_linked_addresses = total_linked_txs[\"D\"].keys()\n",
    "W_linked_addresses = total_linked_txs[\"W\"].keys()"
   ]
  },
  {
   "cell_type": "code",
   "execution_count": 21,
   "id": "c2184810",
   "metadata": {},
   "outputs": [],
   "source": [
    "def get_number_of_linked_txs(total_linked_txs, link_type) -> dict:\n",
    "    \n",
    "    assert link_type in [\"D\", \"W\"], \"Invalid link type\"\n",
    "    \n",
    "    linked_addresses = list(total_linked_txs[link_type].keys())\n",
    "    \n",
    "    addr2txcount: dict = {}\n",
    "    \n",
    "    for addr in linked_addresses:\n",
    "        addr2txcount[addr] = len(total_linked_txs[link_type][addr])\n",
    "    \n",
    "    return addr2txcount"
   ]
  },
  {
   "cell_type": "code",
   "execution_count": 22,
   "id": "42c4c825",
   "metadata": {},
   "outputs": [],
   "source": [
    "def get_number_of_linked_addrs(total_linked_txs, link_type) -> dict:\n",
    "    \n",
    "    assert link_type in [\"D\", \"W\"], \"Invalid link type\"\n",
    "\n",
    "    linked_addresses = list(total_linked_txs[link_type].keys())\n",
    "\n",
    "    addr2addrcount: dict = {}\n",
    "        \n",
    "    for addr in linked_addresses:\n",
    "        tx_tuples = list(chain(*total_linked_txs[link_type][addr].values()))\n",
    "        \n",
    "        addr_count = len(set([t[1] for t in tx_tuples]))\n",
    "        \n",
    "        addr2addrcount[addr] = addr_count\n",
    "    \n",
    "    return addr2addrcount"
   ]
  },
  {
   "cell_type": "code",
   "execution_count": 32,
   "id": "57838e4b",
   "metadata": {},
   "outputs": [],
   "source": [
    "def get_number_of_linked_deposits(wb2d):\n",
    "    n_deposits_dict = {}\n",
    "    \n",
    "    for key in wb2d.keys():\n",
    "        n_deposits_dict[key[0]] = len(wb2d[key])\n",
    "\n",
    "    return n_deposits_dict"
   ]
  },
  {
   "cell_type": "code",
   "execution_count": 35,
   "id": "c28fd5e5",
   "metadata": {},
   "outputs": [],
   "source": [
    "number_of_linked_deposits = get_number_of_linked_deposits(w2d)"
   ]
  },
  {
   "cell_type": "code",
   "execution_count": 43,
   "id": "ed6fa957",
   "metadata": {},
   "outputs": [
    {
     "data": {
      "image/png": "[encoded data removed]",
      "text/plain": [
       "<Figure size 720x360 with 1 Axes>"
      ]
     },
     "metadata": {},
     "output_type": "display_data"
    }
   ],
   "source": [
    "fig, ax = plt.subplots(figsize=(10, 5))\n",
    "ax.hist(number_of_linked_deposits.values(), alpha=0.9, bins=40, align=\"mid\")\n",
    "ax.set_xlim((0.5, 3))\n",
    "ax.set_xlabel(\"Number of deposits linked to a withdraw\")\n",
    "ax.set_ylabel(\"Counts\")\n",
    "plt.show()"
   ]
  },
  {
   "cell_type": "code",
   "execution_count": 63,
   "id": "0d54b127",
   "metadata": {},
   "outputs": [
    {
     "name": "stderr",
     "output_type": "stream",
     "text": [
      "82677it [00:00, 305011.52it/s]\n"
     ]
    }
   ],
   "source": [
    "w2pool = tx_to_pool(withdraw_txs)"
   ]
  },
  {
   "cell_type": "code",
   "execution_count": 52,
   "id": "71d3ee71",
   "metadata": {},
   "outputs": [],
   "source": [
    "def get_number_of_withdraws_per_pool(w2d):\n",
    "    \n",
    "    pools_list = list(map(lambda key: w2pool[key[0]], w2d.keys()))\n",
    "    \n",
    "    return Counter(pools_list)"
   ]
  },
  {
   "cell_type": "code",
   "execution_count": 66,
   "id": "ce12bf3f",
   "metadata": {},
   "outputs": [],
   "source": [
    "# w_per_pool = get_number_of_withdraws_per_pool(w2d)\n",
    "w_per_pool = {'100 ETH': 156, '10 ETH': 92, '1 ETH': 90, '0.1 ETH': 32, 'Other': 15}\n",
    "w_pools = w_per_pool.keys()\n",
    "w_values = np.array(list(map(lambda pool: w_per_pool[pool], w_pools)))"
   ]
  },
  {
   "cell_type": "code",
   "execution_count": 67,
   "id": "59101b1b",
   "metadata": {},
   "outputs": [],
   "source": [
    "w_per_pool = {'100 ETH': 156, '10 ETH': 92, '1 ETH': 90, '0.1 ETH': 32, 'Other': 15}"
   ]
  },
  {
   "cell_type": "code",
   "execution_count": 75,
   "id": "01554e29",
   "metadata": {},
   "outputs": [
    {
     "data": {
      "image/png": "[encoded data removed]",
      "text/plain": [
       "<Figure size 1440x576 with 1 Axes>"
      ]
     },
     "metadata": {},
     "output_type": "display_data"
    }
   ],
   "source": [
    "def absolute_value_h5(val):\n",
    "    a  = np.round(val/100.*w_values.sum(), 0)\n",
    "    return a\n",
    "\n",
    "fig, ax = plt.subplots(figsize=(20, 8))\n",
    "ax.pie(w_values, labels=w_pools, autopct=absolute_value_h5)\n",
    "ax.set_title(\"Distribution of linked withdraws by pool\")\n",
    "plt.show()"
   ]
  },
  {
   "cell_type": "code",
   "execution_count": 27,
   "id": "31fc49a8",
   "metadata": {},
   "outputs": [],
   "source": [
    "def get_block_number(total_linked_txs):\n",
    "    \n",
    "    blocks: list = []\n",
    "    \n",
    "    for link_type in [\"D\", \"W\"]:\n",
    "        for addr in total_linked_txs[link_type]:\n",
    "            for tx in total_linked_txs[link_type][addr]:\n",
    "                for tx_tuple in total_linked_txs[link_type][addr][tx]:\n",
    "                    blocks.append(tx_tuple[2])\n",
    "    \n",
    "    return blocks"
   ]
  },
  {
   "cell_type": "code",
   "execution_count": 28,
   "id": "eaf0222f",
   "metadata": {},
   "outputs": [],
   "source": [
    "blocks = get_block_number(total_linked_txs)"
   ]
  },
  {
   "cell_type": "code",
   "execution_count": 29,
   "id": "81607ee7",
   "metadata": {
    "scrolled": true
   },
   "outputs": [
    {
     "data": {
      "image/png": "[encoded data removed]",
      "text/plain": [
       "<Figure size 720x360 with 1 Axes>"
      ]
     },
     "metadata": {},
     "output_type": "display_data"
    }
   ],
   "source": [
    "fig, ax = plt.subplots(figsize=(10, 5))\n",
    "ax.hist(blocks, bins=30)\n",
    "ax.ticklabel_format(style=\"plain\")\n",
    "ax.set_xlabel(\"Number of blocks the note was deposited\")\n",
    "ax.set_ylabel(\"Count\")\n",
    "plt.show()"
   ]
  },
  {
   "cell_type": "markdown",
   "id": "cae598e2",
   "metadata": {},
   "source": [
    "As an example of the results,  address 0x6b558c075dce25a9daa5fa2045a6b302acb80308 swapped AP to TORN, and we also found that it had made a deposit in TCash. So we transformed the AP claimed into number of blocks. This gave a value of 102013 blocks.\n",
    "\n",
    "The deposit can be seen here:\n",
    "https://etherscan.io/tx/0xc646ee0ac978b094f89f17224f5428ce384a8899fae4666c066a7e871c3c0f3a\n",
    "\n",
    "If we add the blocks from the conversion of AP and the block number of the deposit, we obtain 12655534.\n",
    "\n",
    "This withdrawal was found with that exact block number:\n",
    "https://etherscan.io/tx/0xa93d2ac82aca6e565c831652cc11d910ed84f6001f46f03f48d482e795cfe1d5\n",
    "\n",
    "So we considered them linked"
   ]
  },
  {
   "cell_type": "code",
   "execution_count": null,
   "id": "515a4884",
   "metadata": {},
   "outputs": [],
   "source": []
  }
 ],
 "metadata": {
  "kernelspec": {
   "display_name": "Python 3",
   "language": "python",
   "name": "python3"
  },
  "language_info": {
   "codemirror_mode": {
    "name": "ipython",
    "version": 3
   },
   "file_extension": ".py",
   "mimetype": "text/x-python",
   "name": "python",
   "nbconvert_exporter": "python",
   "pygments_lexer": "ipython3",
   "version": "3.8.8"
  }
 },
 "nbformat": 4,
 "nbformat_minor": 5
}
