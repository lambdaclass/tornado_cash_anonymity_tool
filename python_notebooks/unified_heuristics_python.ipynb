{
 "cells": [
  {
   "cell_type": "code",
   "execution_count": 65,
   "id": "d89d2792",
   "metadata": {},
   "outputs": [],
   "source": [
    "# Import relevant packages.\n",
    "import numpy as np\n",
    "import pandas as pd\n",
    "import matplotlib.pyplot as plt\n",
    "import seaborn as sns\n",
    "import itertools\n",
    "import json\n",
    "from collections import namedtuple, Counter\n",
    "from os.path import exists\n",
    "from tqdm import tqdm"
   ]
  },
  {
   "cell_type": "markdown",
   "id": "1063403e",
   "metadata": {},
   "source": [
    "## Heuristic 1\n",
    "### Description\n",
    "\n",
    "If a deposit address matches a withdraw address, then it is trivial to link the two addresses. Therefore, the deposit address needs to be removed from all the other withdraw addresses’ anonymity set. If a number $N$ of deposits with a same address $add1$, and a number $M$ ($M < N$) of withdraws with that same aaddress are detected, then a number $M - N$ of deposit transactions must be removed from the anonimity set of all the other withdraw transactions."
   ]
  },
  {
   "cell_type": "code",
   "execution_count": 3,
   "id": "279e5fa6",
   "metadata": {},
   "outputs": [],
   "source": [
    "with open('../data/tornado_pools.json') as json_file:\n",
    "    tornado_addresses = json.load(json_file)\n",
    "\n",
    "withdraw_transactions_df = pd.read_csv(\"../data/lighter_complete_withdraw_txs.csv\")\n",
    "withdraw_transactions_df[\"recipient_address\"] = withdraw_transactions_df[\"recipient_address\"].str.lower()\n",
    "withdraw_transactions_df[\"block_timestamp\"] = withdraw_transactions_df[\"block_timestamp\"].apply(pd.Timestamp)\n",
    "withdraw_transactions_df[\"tcash_pool\"] = withdraw_transactions_df[\"tornado_cash_address\"].apply(lambda addr: tornado_addresses[addr])\n",
    "\n",
    "deposit_transactions_df = pd.read_csv(\"../data/lighter_complete_deposit_txs.csv\")\n",
    "deposit_transactions_df[\"block_timestamp\"] = deposit_transactions_df[\"block_timestamp\"].apply(pd.Timestamp)\n",
    "deposit_transactions_df[\"tcash_pool\"] = deposit_transactions_df[\"tornado_cash_address\"].apply(lambda addr: tornado_addresses[addr])"
   ]
  },
  {
   "cell_type": "markdown",
   "id": "789d757b",
   "metadata": {},
   "source": [
    "### Function summary: addresses_to_transactions\n",
    "\n",
    "Given a transactions DataFrame, returns a dictionary with the unique addresses of the transactions data as keys and a list of tuples as values. The tuples consist on the hash of the transaction with the address as the corresponding key in the first index, the timestamp of the transaction in the second index and the tornado cash pool that the address is interacting with in that specific transaction.\n",
    "\n",
    "For example, if the address 0x6c6e4816ecfa4481472ff88 has made transaction with a hash 0x7f851ba1d7292ca565961073a111 that interacted with the 0.1 ETH pool at timestamp 1, and another transaction with hash 0x8f851ba1d7192ca565961073a9191 that interacted with the 1ETH pool at timestamp 2, then the dictionary returned will be:\n",
    "\n",
    "```\n",
    "{\"0x6c6e4816ecfa4481472ff88\": [(\"0x7f851ba1d7292ca565961073a111\", timestamp1, \"0x12D66f87A04A9E220743712cE6d9bB1B5616B8Fc\"), (\"0x8f851ba1d7192ca565961073a9191\", timestamp2, \"0x47CE0C6eD5B0Ce3d3A51fdb1C52DC66a7c3c2936\")]\n",
    "```\n",
    "\n",
    "Note that \"0x47CE0C6eD5B0Ce3d3A51fdb1C52DC66a7c3c2936\" is the 1 ETH address and \"0x12D66f87A04A9E220743712cE6d9bB1B5616B8Fc\" the one of 0.1 ETH pool"
   ]
  },
  {
   "cell_type": "code",
   "execution_count": 5,
   "id": "4c733feb",
   "metadata": {},
   "outputs": [
    {
     "data": {
      "text/html": [
       "<div>\n",
       "<style scoped>\n",
       "    .dataframe tbody tr th:only-of-type {\n",
       "        vertical-align: middle;\n",
       "    }\n",
       "\n",
       "    .dataframe tbody tr th {\n",
       "        vertical-align: top;\n",
       "    }\n",
       "\n",
       "    .dataframe thead th {\n",
       "        text-align: right;\n",
       "    }\n",
       "</style>\n",
       "<table border=\"1\" class=\"dataframe\">\n",
       "  <thead>\n",
       "    <tr style=\"text-align: right;\">\n",
       "      <th></th>\n",
       "      <th>Unnamed: 0</th>\n",
       "      <th>Unnamed: 0.1</th>\n",
       "      <th>hash</th>\n",
       "      <th>nonce</th>\n",
       "      <th>transaction_index</th>\n",
       "      <th>from_address</th>\n",
       "      <th>to_address</th>\n",
       "      <th>value</th>\n",
       "      <th>gas</th>\n",
       "      <th>gas_price</th>\n",
       "      <th>...</th>\n",
       "      <th>block_timestamp</th>\n",
       "      <th>block_number</th>\n",
       "      <th>block_hash</th>\n",
       "      <th>max_fee_per_gas</th>\n",
       "      <th>max_priority_fee_per_gas</th>\n",
       "      <th>transaction_type</th>\n",
       "      <th>receipt_effective_gas_price</th>\n",
       "      <th>tornado_cash_address</th>\n",
       "      <th>recipient_address</th>\n",
       "      <th>tcash_pool</th>\n",
       "    </tr>\n",
       "  </thead>\n",
       "  <tbody>\n",
       "    <tr>\n",
       "      <th>0</th>\n",
       "      <td>0</td>\n",
       "      <td>7</td>\n",
       "      <td>0x3dc8617176f45c0f33a95589c202b22f9ba8aa7067bb...</td>\n",
       "      <td>789</td>\n",
       "      <td>196</td>\n",
       "      <td>0x2d50dbcc960bec854227f51f8074e1da28bd4a37</td>\n",
       "      <td>0xa160cdab225685da1d56aa342ad8841c3b53f291</td>\n",
       "      <td>0</td>\n",
       "      <td>386384</td>\n",
       "      <td>121000000000</td>\n",
       "      <td>...</td>\n",
       "      <td>2020-10-05 07:57:28+00:00</td>\n",
       "      <td>10994498</td>\n",
       "      <td>0xa96abb653dd6d4e3cedd6bd65fd0a7b034e4c9527be9...</td>\n",
       "      <td>NaN</td>\n",
       "      <td>NaN</td>\n",
       "      <td>NaN</td>\n",
       "      <td>121000000000</td>\n",
       "      <td>0xa160cdab225685da1d56aa342ad8841c3b53f291</td>\n",
       "      <td>0xd843ce0f9da3bd30537b9850711ab8089e06b4cf</td>\n",
       "      <td>100 ETH</td>\n",
       "    </tr>\n",
       "    <tr>\n",
       "      <th>1</th>\n",
       "      <td>1</td>\n",
       "      <td>8</td>\n",
       "      <td>0x3199144ba98021e523c5ec1e4f4dcf64446d69b825da...</td>\n",
       "      <td>9</td>\n",
       "      <td>190</td>\n",
       "      <td>0xb77562124be8ac967cf7fc24573fe252aa39d95d</td>\n",
       "      <td>0x4736dcf1b7a3d580672cce6e7c65cd5cc9cfba9d</td>\n",
       "      <td>0</td>\n",
       "      <td>439456</td>\n",
       "      <td>13000000000</td>\n",
       "      <td>...</td>\n",
       "      <td>2020-02-11 19:10:54+00:00</td>\n",
       "      <td>9463504</td>\n",
       "      <td>0x1e1dc9cec82d1dcd0e68e60968d180408007e148ac06...</td>\n",
       "      <td>NaN</td>\n",
       "      <td>NaN</td>\n",
       "      <td>NaN</td>\n",
       "      <td>13000000000</td>\n",
       "      <td>0x4736dcf1b7a3d580672cce6e7c65cd5cc9cfba9d</td>\n",
       "      <td>0xb77562124be8ac967cf7fc24573fe252aa39d95d</td>\n",
       "      <td>1000 USDC</td>\n",
       "    </tr>\n",
       "    <tr>\n",
       "      <th>2</th>\n",
       "      <td>2</td>\n",
       "      <td>9</td>\n",
       "      <td>0x95a46a1305ddc8b7e01d82c7d6766fce4713c085929f...</td>\n",
       "      <td>2</td>\n",
       "      <td>81</td>\n",
       "      <td>0x0e54db73f82bd9fde34ebce53ea83bd197e9044c</td>\n",
       "      <td>0x4736dcf1b7a3d580672cce6e7c65cd5cc9cfba9d</td>\n",
       "      <td>0</td>\n",
       "      <td>439456</td>\n",
       "      <td>13200000000</td>\n",
       "      <td>...</td>\n",
       "      <td>2020-02-16 16:05:14+00:00</td>\n",
       "      <td>9495139</td>\n",
       "      <td>0x1f0562c98f40f0689ed8bac422b4714289bd452d9290...</td>\n",
       "      <td>NaN</td>\n",
       "      <td>NaN</td>\n",
       "      <td>NaN</td>\n",
       "      <td>13200000000</td>\n",
       "      <td>0x4736dcf1b7a3d580672cce6e7c65cd5cc9cfba9d</td>\n",
       "      <td>0x0e54db73f82bd9fde34ebce53ea83bd197e9044c</td>\n",
       "      <td>1000 USDC</td>\n",
       "    </tr>\n",
       "    <tr>\n",
       "      <th>3</th>\n",
       "      <td>3</td>\n",
       "      <td>13</td>\n",
       "      <td>0x172a0a1618aa6c1f9f27a370236d8c91156fd6192ad1...</td>\n",
       "      <td>2024</td>\n",
       "      <td>189</td>\n",
       "      <td>0x2d50dbcc960bec854227f51f8074e1da28bd4a37</td>\n",
       "      <td>0x47ce0c6ed5b0ce3d3a51fdb1c52dc66a7c3c2936</td>\n",
       "      <td>0</td>\n",
       "      <td>384581</td>\n",
       "      <td>40000000000</td>\n",
       "      <td>...</td>\n",
       "      <td>2020-11-09 17:08:00+00:00</td>\n",
       "      <td>11224582</td>\n",
       "      <td>0xe0ae8902495001fc28025238a74703c1b3d58282aaee...</td>\n",
       "      <td>NaN</td>\n",
       "      <td>NaN</td>\n",
       "      <td>NaN</td>\n",
       "      <td>40000000000</td>\n",
       "      <td>0x47ce0c6ed5b0ce3d3a51fdb1c52dc66a7c3c2936</td>\n",
       "      <td>0x42a9cf901e889ca8a685394854c27898dbff86b0</td>\n",
       "      <td>1 ETH</td>\n",
       "    </tr>\n",
       "    <tr>\n",
       "      <th>4</th>\n",
       "      <td>4</td>\n",
       "      <td>15</td>\n",
       "      <td>0x30becee80e63a039102df3b1243e5d314534abfcf3ed...</td>\n",
       "      <td>2350</td>\n",
       "      <td>127</td>\n",
       "      <td>0x2d50dbcc960bec854227f51f8074e1da28bd4a37</td>\n",
       "      <td>0x47ce0c6ed5b0ce3d3a51fdb1c52dc66a7c3c2936</td>\n",
       "      <td>0</td>\n",
       "      <td>404304</td>\n",
       "      <td>15020000842</td>\n",
       "      <td>...</td>\n",
       "      <td>2020-11-29 01:18:57+00:00</td>\n",
       "      <td>11350558</td>\n",
       "      <td>0x4d8f724d2bdffa546cef74d21c6c43968b566b67318e...</td>\n",
       "      <td>NaN</td>\n",
       "      <td>NaN</td>\n",
       "      <td>NaN</td>\n",
       "      <td>15020000842</td>\n",
       "      <td>0x47ce0c6ed5b0ce3d3a51fdb1c52dc66a7c3c2936</td>\n",
       "      <td>0xc9fb4b16800e61076326145e1066e876cf9f7a7b</td>\n",
       "      <td>1 ETH</td>\n",
       "    </tr>\n",
       "  </tbody>\n",
       "</table>\n",
       "<p>5 rows × 25 columns</p>\n",
       "</div>"
      ],
      "text/plain": [
       "   Unnamed: 0  Unnamed: 0.1  \\\n",
       "0           0             7   \n",
       "1           1             8   \n",
       "2           2             9   \n",
       "3           3            13   \n",
       "4           4            15   \n",
       "\n",
       "                                                hash  nonce  \\\n",
       "0  0x3dc8617176f45c0f33a95589c202b22f9ba8aa7067bb...    789   \n",
       "1  0x3199144ba98021e523c5ec1e4f4dcf64446d69b825da...      9   \n",
       "2  0x95a46a1305ddc8b7e01d82c7d6766fce4713c085929f...      2   \n",
       "3  0x172a0a1618aa6c1f9f27a370236d8c91156fd6192ad1...   2024   \n",
       "4  0x30becee80e63a039102df3b1243e5d314534abfcf3ed...   2350   \n",
       "\n",
       "   transaction_index                                from_address  \\\n",
       "0                196  0x2d50dbcc960bec854227f51f8074e1da28bd4a37   \n",
       "1                190  0xb77562124be8ac967cf7fc24573fe252aa39d95d   \n",
       "2                 81  0x0e54db73f82bd9fde34ebce53ea83bd197e9044c   \n",
       "3                189  0x2d50dbcc960bec854227f51f8074e1da28bd4a37   \n",
       "4                127  0x2d50dbcc960bec854227f51f8074e1da28bd4a37   \n",
       "\n",
       "                                   to_address  value     gas     gas_price  \\\n",
       "0  0xa160cdab225685da1d56aa342ad8841c3b53f291      0  386384  121000000000   \n",
       "1  0x4736dcf1b7a3d580672cce6e7c65cd5cc9cfba9d      0  439456   13000000000   \n",
       "2  0x4736dcf1b7a3d580672cce6e7c65cd5cc9cfba9d      0  439456   13200000000   \n",
       "3  0x47ce0c6ed5b0ce3d3a51fdb1c52dc66a7c3c2936      0  384581   40000000000   \n",
       "4  0x47ce0c6ed5b0ce3d3a51fdb1c52dc66a7c3c2936      0  404304   15020000842   \n",
       "\n",
       "   ...           block_timestamp  block_number  \\\n",
       "0  ... 2020-10-05 07:57:28+00:00      10994498   \n",
       "1  ... 2020-02-11 19:10:54+00:00       9463504   \n",
       "2  ... 2020-02-16 16:05:14+00:00       9495139   \n",
       "3  ... 2020-11-09 17:08:00+00:00      11224582   \n",
       "4  ... 2020-11-29 01:18:57+00:00      11350558   \n",
       "\n",
       "                                          block_hash  max_fee_per_gas  \\\n",
       "0  0xa96abb653dd6d4e3cedd6bd65fd0a7b034e4c9527be9...              NaN   \n",
       "1  0x1e1dc9cec82d1dcd0e68e60968d180408007e148ac06...              NaN   \n",
       "2  0x1f0562c98f40f0689ed8bac422b4714289bd452d9290...              NaN   \n",
       "3  0xe0ae8902495001fc28025238a74703c1b3d58282aaee...              NaN   \n",
       "4  0x4d8f724d2bdffa546cef74d21c6c43968b566b67318e...              NaN   \n",
       "\n",
       "   max_priority_fee_per_gas transaction_type  receipt_effective_gas_price  \\\n",
       "0                       NaN              NaN                 121000000000   \n",
       "1                       NaN              NaN                  13000000000   \n",
       "2                       NaN              NaN                  13200000000   \n",
       "3                       NaN              NaN                  40000000000   \n",
       "4                       NaN              NaN                  15020000842   \n",
       "\n",
       "                         tornado_cash_address  \\\n",
       "0  0xa160cdab225685da1d56aa342ad8841c3b53f291   \n",
       "1  0x4736dcf1b7a3d580672cce6e7c65cd5cc9cfba9d   \n",
       "2  0x4736dcf1b7a3d580672cce6e7c65cd5cc9cfba9d   \n",
       "3  0x47ce0c6ed5b0ce3d3a51fdb1c52dc66a7c3c2936   \n",
       "4  0x47ce0c6ed5b0ce3d3a51fdb1c52dc66a7c3c2936   \n",
       "\n",
       "                            recipient_address  tcash_pool  \n",
       "0  0xd843ce0f9da3bd30537b9850711ab8089e06b4cf     100 ETH  \n",
       "1  0xb77562124be8ac967cf7fc24573fe252aa39d95d   1000 USDC  \n",
       "2  0x0e54db73f82bd9fde34ebce53ea83bd197e9044c   1000 USDC  \n",
       "3  0x42a9cf901e889ca8a685394854c27898dbff86b0       1 ETH  \n",
       "4  0xc9fb4b16800e61076326145e1066e876cf9f7a7b       1 ETH  \n",
       "\n",
       "[5 rows x 25 columns]"
      ]
     },
     "execution_count": 5,
     "metadata": {},
     "output_type": "execute_result"
    }
   ],
   "source": [
    "withdraw_transactions_df.head()"
   ]
  },
  {
   "cell_type": "code",
   "execution_count": 7,
   "id": "17367649",
   "metadata": {},
   "outputs": [],
   "source": [
    "def addresses_to_transactions(transactions_df):\n",
    "    \n",
    "    # Initialize empty dictionary to store addresses and associated transactions.\n",
    "    \n",
    "    address_to_transactions_dict = {}\n",
    "    \n",
    "    # We iterate over every transaction in the transactions DataFrame.\n",
    "    \n",
    "    for row in tqdm(transactions_df.itertuples(), mininterval=5, total=transactions_df.shape[0]):\n",
    "        '''\n",
    "        We check if the address of the current transaction in the iteration is already in the \n",
    "        dictionary. If it isn't, then we initialize that key and the list with the tuple. The\n",
    "        tuple will consist of the hash and the timestamp of the current transaction.\n",
    "        \n",
    "        If the key already exists, we append to the associated list the tuple of the hash and\n",
    "        timestamp of the current transaction.\n",
    "        '''\n",
    "        \n",
    "        if row.from_address not in set(address_to_transactions_dict.keys()):\n",
    "            address_to_transactions_dict[row.from_address] = [(row.hash, row.block_timestamp, row.tornado_cash_address)]\n",
    "        else:\n",
    "            address_to_transactions_dict[row.from_address].append((row.hash, row.block_timestamp, row.tornado_cash_address))\n",
    "    \n",
    "    # The dictionary with the addresses and transactions is returned.\n",
    "    \n",
    "    return address_to_transactions_dict"
   ]
  },
  {
   "cell_type": "markdown",
   "id": "0c512068",
   "metadata": {},
   "source": [
    "### Function summary: same_deposit_and_recipient_addresses_heuristic\n",
    "\n",
    "The function receives a particular withdraw transaction and a dictionary corresponding to what is returned by function addresses_to_transactions.\n",
    "\n",
    "It returns a tuple:\n",
    "\n",
    "* (True, list_of_same_address_deposit_hashes): When same address deposits are found, this tuple is returned. In the first element a boolean true, and the second is a list with all the deposit hashes that verify having the same address as the withdraw transaction.\n",
    "\n",
    "* (False, None): When no such deposit was found"
   ]
  },
  {
   "cell_type": "code",
   "execution_count": 8,
   "id": "b7035db8",
   "metadata": {},
   "outputs": [],
   "source": [
    "def same_deposit_and_recipient_address_heuristic(withdraw_transaction, deposit_addresses_to_transactions):\n",
    "    \n",
    "    '''\n",
    "    Check if the address of the withdraw tx is in the deposit_addresses_to_transactions keys.\n",
    "    If it is, then a list is created with the hashes of all the deposit txs with the same address and\n",
    "    with an earlier timestamp than the withdraw tx.\n",
    "    If the address is not in the deposit_addresses_to_transactions dictionary, (False, None) is returned.\n",
    "    '''\n",
    "    \n",
    "    if withdraw_transaction.recipient_address in set(deposit_addresses_to_transactions.keys()):\n",
    "        \n",
    "        # Only the transactions with earlier timestamps and same pool are selected for the list same_deposit_address_hashes.\n",
    "        same_deposit_address_hashes = [tx_hash[0] for tx_hash in deposit_addresses_to_transactions[withdraw_transaction.recipient_address] if (tx_hash[1] <= withdraw_transaction.block_timestamp) and (tx_hash[2] == withdraw_transaction.tornado_cash_address)]\n",
    "        \n",
    "        # Final check to assert that list is not empty.\n",
    "        if len(same_deposit_address_hashes) > 0:\n",
    "            return (True, same_deposit_address_hashes)\n",
    "        else:\n",
    "            return (False, None)\n",
    "        \n",
    "    return (False, None)"
   ]
  },
  {
   "cell_type": "code",
   "execution_count": 90,
   "id": "d7353c83",
   "metadata": {
    "scrolled": true
   },
   "outputs": [],
   "source": [
    "# deposit_addresses_to_transactions = addresses_to_transactions(deposit_transactions_df)"
   ]
  },
  {
   "cell_type": "markdown",
   "id": "9f4c16ea",
   "metadata": {},
   "source": [
    "\n",
    "### Function summary: apply_same_deposit_and_recipient_addresses_heuristic\n",
    "\n",
    "Receives the withdraw and deposit transactions, and applies the first heuristic for each withdraw transaction. Returns a dictionary, with keys as the hash of each withdraw transaction were a same deposit address was detected. The values are the hashes of all deposits matching this criteria.\n"
   ]
  },
  {
   "cell_type": "code",
   "execution_count": 9,
   "id": "3ebea2c3",
   "metadata": {},
   "outputs": [],
   "source": [
    "def apply_same_deposit_and_recpient_address_heuristic(withdraw_transactions_df, deposit_transactions_df):\n",
    "    \n",
    "    # Initialize an empty dictionary for storing the links between withdraw hashes and deposit hashes with the \n",
    "    # same address.\n",
    "    \n",
    "    deposit_addresses_and_transactions = addresses_to_transactions(deposit_transactions_df)\n",
    "    \n",
    "    same_deposit_address_hashes = {}\n",
    "    \n",
    "    # Iterate over the withdraw transactions and apply heuristic one. For each withdraw with matching deposit\n",
    "    # transactions, a new element is added to the dictionary with the key as the withdraw hash and the values\n",
    "    # as all matching deposit hashes.\n",
    "    \n",
    "    for withdraw_row_tuple in tqdm(withdraw_transactions_df.itertuples(), total=withdraw_transactions_df.shape[0], mininterval=5):\n",
    "        deposit_hashes = same_deposit_and_recipient_address_heuristic(withdraw_row_tuple, deposit_addresses_and_transactions)\n",
    "        # print(deposit_hashes)\n",
    "\n",
    "        if deposit_hashes[0]:\n",
    "            same_deposit_address_hashes[withdraw_row_tuple.hash] = deposit_hashes[1]\n",
    "\n",
    "    # Return the dictionary with the links\n",
    "    \n",
    "    return same_deposit_address_hashes"
   ]
  },
  {
   "cell_type": "code",
   "execution_count": 10,
   "id": "bf117b0a",
   "metadata": {
    "scrolled": false
   },
   "outputs": [
    {
     "name": "stderr",
     "output_type": "stream",
     "text": [
      "100%|██████████| 97365/97365 [00:55<00:00, 1743.33it/s]\n",
      "100%|██████████| 83782/83782 [01:45<00:00, 795.64it/s]\n"
     ]
    }
   ],
   "source": [
    "hashes_dict = apply_same_deposit_and_recpient_address_heuristic(withdraw_transactions_df, deposit_transactions_df)"
   ]
  },
  {
   "cell_type": "code",
   "execution_count": 112,
   "id": "f4c4ab9f",
   "metadata": {},
   "outputs": [
    {
     "data": {
      "text/plain": [
       "14284"
      ]
     },
     "execution_count": 112,
     "metadata": {},
     "output_type": "execute_result"
    }
   ],
   "source": [
    "len(hashes_dict)"
   ]
  },
  {
   "cell_type": "markdown",
   "id": "d0a3bc57",
   "metadata": {},
   "source": [
    "### Results analysis"
   ]
  },
  {
   "cell_type": "markdown",
   "id": "4544b3e4",
   "metadata": {},
   "source": [
    "#### Deposit transactions linked to withdraws"
   ]
  },
  {
   "cell_type": "code",
   "execution_count": 11,
   "id": "f3d62d29",
   "metadata": {},
   "outputs": [],
   "source": [
    "# Count of deposit transactions linked to withdraws.\n",
    "linked_deposits_count = list(map(lambda x: len(x), hashes_dict.values()))"
   ]
  },
  {
   "cell_type": "code",
   "execution_count": 24,
   "id": "e02de96a",
   "metadata": {
    "scrolled": false
   },
   "outputs": [
    {
     "data": {
      "image/png": "[encoded data removed]",
      "text/plain": [
       "<Figure size 720x360 with 1 Axes>"
      ]
     },
     "metadata": {},
     "output_type": "display_data"
    }
   ],
   "source": [
    "sns.set_theme(style=\"darkgrid\")\n",
    "fig, ax = plt.subplots(figsize=(10, 5))\n",
    "ax.hist(linked_deposits_count, bins=20)\n",
    "ax.set_title(\"Histogram of number of deposits linked to withdraws\")\n",
    "ax.set_xlabel(\"Number of deposits\")\n",
    "ax.set_ylabel(\"Withdraw count\")\n",
    "ax.set_yscale(\"log\")\n",
    "plt.show()"
   ]
  },
  {
   "cell_type": "markdown",
   "id": "51c57c6c",
   "metadata": {},
   "source": [
    "#### Compromised deposit transactions for each TCash pool"
   ]
  },
  {
   "cell_type": "code",
   "execution_count": 25,
   "id": "7b56178c",
   "metadata": {},
   "outputs": [],
   "source": [
    "def tx_to_pool(deposit_transactions_df):\n",
    "    tx_to_pool_dict = {}\n",
    "    for row in tqdm(deposit_transactions_df.itertuples(), mininterval=1):\n",
    "        tx_to_pool_dict[row.hash] = row.tcash_pool\n",
    "    \n",
    "    return tx_to_pool_dict"
   ]
  },
  {
   "cell_type": "code",
   "execution_count": 26,
   "id": "bbc6912d",
   "metadata": {},
   "outputs": [
    {
     "name": "stderr",
     "output_type": "stream",
     "text": [
      "97365it [00:00, 138976.31it/s]\n"
     ]
    }
   ],
   "source": [
    "tx_to_pool_dict = tx_to_pool(deposit_transactions_df)\n",
    "compromised_deposit_hashes = set(list(itertools.chain(*hashes_dict.values())))\n",
    "number_of_compromised_deposits_by_pool = Counter(list(map(lambda x: tx_to_pool_dict[x], compromised_deposit_hashes)))"
   ]
  },
  {
   "cell_type": "code",
   "execution_count": 27,
   "id": "311b313c",
   "metadata": {},
   "outputs": [],
   "source": [
    "pools_to_deposits = dict(deposit_transactions_df.groupby(\"tcash_pool\")[\"hash\"].apply(list))\n",
    "number_of_uncompromised_deposits_by_pool = {}\n",
    "for pool in list(pools_to_deposits.keys()):\n",
    "    number_of_uncompromised_deposits_by_pool[pool] = len(pools_to_deposits[pool]) - number_of_compromised_deposits_by_pool[pool]"
   ]
  },
  {
   "cell_type": "code",
   "execution_count": 28,
   "id": "b143aa0a",
   "metadata": {},
   "outputs": [],
   "source": [
    "compromised_vs_uncompromised_by_pool = {}\n",
    "\n",
    "for pool in list(number_of_compromised_deposits_by_pool.keys()):\n",
    "    compromised_vs_uncompromised_by_pool[pool] = (number_of_compromised_deposits_by_pool[pool], number_of_uncompromised_deposits_by_pool[pool])"
   ]
  },
  {
   "cell_type": "code",
   "execution_count": 29,
   "id": "5f1b1478",
   "metadata": {},
   "outputs": [],
   "source": [
    "eth_pools = [\"0.1 ETH\", \"1 ETH\", \"10 ETH\", \"100 ETH\"]\n",
    "tkn_pools = [pool for pool in compromised_vs_uncompromised_by_pool.keys() if pool not in eth_pools]\n",
    "all_pools = eth_pools + tkn_pools"
   ]
  },
  {
   "cell_type": "code",
   "execution_count": 31,
   "id": "cd265236",
   "metadata": {},
   "outputs": [
    {
     "data": {
      "image/png": "[encoded data removed]",
      "text/plain": [
       "<Figure size 720x360 with 1 Axes>"
      ]
     },
     "metadata": {},
     "output_type": "display_data"
    }
   ],
   "source": [
    "points = [compromised_vs_uncompromised_by_pool[pool] for pool in all_pools]\n",
    "\n",
    "eth_compromised = [t[0] for t in points[:4]]\n",
    "eth_uncompromised = [t[1] for t in points[:4]]\n",
    "eth_x_axis = np.arange(len(eth_pools))\n",
    "\n",
    "sns.set_theme(style=\"darkgrid\")\n",
    "fig, (ax1) = plt.subplots(ncols=1, figsize=(10, 5))\n",
    "ax1.bar(eth_x_axis - 0.2, eth_compromised, 0.4, label = \"Compromised\")\n",
    "ax1.bar(eth_x_axis + 0.2, eth_uncompromised, 0.4, label = \"Uncompromised\")\n",
    "ax1.set_xticks(eth_x_axis)\n",
    "ax1.set_xticklabels(eth_pools, rotation=\"vertical\")\n",
    "ax1.set_xlabel(\"Pools\")\n",
    "ax1.set_ylabel(\"Number of deposits\")\n",
    "ax1.legend(fontsize=13)\n",
    "\n",
    "plt.show()"
   ]
  },
  {
   "cell_type": "markdown",
   "id": "1502d6c5",
   "metadata": {},
   "source": [
    "## Heuristic 2\n",
    "\n",
    "### Description\n",
    "\n",
    "If there is a deposit and a withdraw transaction with **unique** gas prices (e.g., 3.1415926 Gwei), then we consider the deposit and the withdraw transactions linked. The corresponding deposit transaction can be removed from any other withdraw transaction’s anonymity set."
   ]
  },
  {
   "cell_type": "markdown",
   "id": "22ff35c9",
   "metadata": {},
   "source": [
    "### Getting the data\n",
    "We obtain the data using Google Big Query.\n",
    "In order to obtain the deposits and withdrawals transactions, just run the following querys:\n",
    "\n",
    "### Withdrawals \n",
    "SELECT * FROM `bigquery-public-data.crypto_ethereum.transactions` WHERE `to_address` \n",
    "IN (SELECT `address` FROM `tornado_cash_transactions.tornadocontracts`) AND SUBSTR(`input`, 1, 10) = \"0x21a0adb6\";\n",
    "\n",
    "### Deposits\n",
    "SELECT * FROM `bigquery-public-data.crypto_ethereum.transactions` WHERE `to_address` \n",
    "IN (SELECT `address` FROM `tornado_cash_transactions.tornadocontracts`) AND SUBSTR(`input`, 1, 10) = \"0xb214faa5\";\n",
    "\n",
    "References here:\n",
    "https://github.com/Phread420/tornado_bigquery/blob/main/Notes.md\n",
    "\n",
    "This results are stored in the following files:\n",
    "- withdraw_transactions.csv\n",
    "- deposit_transactions.csv\n",
    "\n",
    "After obtaining those two files, the next thing to do is to get the \"recipient_addresses\" that are making the withdrawl (if the user withdraws via a relayer, the relayer's account will be displayed in the \"from_addres\" field). That information is encoded in the \"input\" field of the withdrawal transactions.\n",
    "\n",
    "The process to do so is in the following notebook:\n",
    "https://github.com/lambdaclass/tornado_cash_anonymity_tool/blob/main/notebooks/complete_withdraw_data_set.ipynb\n",
    "\n",
    "Note that the recipient addresses obtained in this df are in upper case and the addresses coming from the big query are in lower case, so you have to make the transformation when running the heuristic."
   ]
  },
  {
   "cell_type": "code",
   "execution_count": 32,
   "id": "f117cfcf",
   "metadata": {},
   "outputs": [],
   "source": [
    "# Load transactions data\n",
    "\n",
    "with open('../data/tornado_pools.json') as json_file:\n",
    "    tornado_addresses = json.load(json_file)\n",
    "\n",
    "withdraw_transactions_df = pd.read_csv(\"../data/lighter_complete_withdraw_txs.csv\")\n",
    "# Change recipient_address to lowercase.\n",
    "withdraw_transactions_df[\"recipient_address\"] = withdraw_transactions_df[\"recipient_address\"].str.lower()\n",
    "# Change block_timestamp field to be a timestamp object.\n",
    "withdraw_transactions_df[\"block_timestamp\"] = withdraw_transactions_df[\"block_timestamp\"].apply(pd.Timestamp)\n",
    "# Add tcash_pool column\n",
    "withdraw_transactions_df[\"tcash_pool\"] = withdraw_transactions_df[\"tornado_cash_address\"].apply(lambda addr: tornado_addresses[addr])\n",
    "\n",
    "deposit_transactions_df = pd.read_csv(\"../data/lighter_complete_deposit_txs.csv\")\n",
    "# Change block_timestamp field to be a timestamp object.\n",
    "deposit_transactions_df[\"block_timestamp\"] = deposit_transactions_df[\"block_timestamp\"].apply(pd.Timestamp)\n",
    "# Add tcash_pool column\n",
    "deposit_transactions_df[\"tcash_pool\"] = deposit_transactions_df[\"tornado_cash_address\"].apply(lambda addr: tornado_addresses[addr])\n",
    "\n",
    "non_relayer_withdraw_transactions_df = withdraw_transactions_df[withdraw_transactions_df[\"from_address\"]==withdraw_transactions_df[\"recipient_address\"]]\n",
    "\n",
    "\n",
    "# tornado_addresses = pd.read_csv(\"../data/tornadocontracts_abi.csv\", names=['address', 'contract_currency', 'value', '4'])"
   ]
  },
  {
   "cell_type": "markdown",
   "id": "b007c486",
   "metadata": {},
   "source": [
    "### Function summary: filter_by_unique_gas_price\n",
    "\n",
    "Given a transactions DataFrame, it returns a dictionary with the unique gas prices as keys and a tuple containing the hash of that transaction and the timestamp. For example,\n",
    "\n",
    "```\n",
    "{111000302: (\"0x387fcd87a\", timestamp1)\n",
    "```"
   ]
  },
  {
   "cell_type": "code",
   "execution_count": 33,
   "id": "e511c419",
   "metadata": {},
   "outputs": [],
   "source": [
    "def filter_by_unique_gas_price(transactions_df):\n",
    "    \n",
    "    # Count the appearances of each gas price in the transactions DataFrame.\n",
    "    \n",
    "    gas_prices_count = transactions_df[\"gas_price\"].value_counts()\n",
    "    \n",
    "    # Filter the gas prices that are unique, i.e., the ones with a count equal to 1.\n",
    "    # The gas prices are stored in unique_gas_prices\n",
    "    \n",
    "    unique_gas_prices = gas_prices_count[gas_prices_count == 1].keys()\n",
    "    \n",
    "    # A dataframe of the transactions that verify having these unique gas price values.\n",
    "    \n",
    "    temp_df = transactions_df[transactions_df[\"gas_price\"].isin(unique_gas_prices)]\n",
    "    \n",
    "    # The DataFrame is transformed to a dictionary with only the relevant information.\n",
    "    \n",
    "    return {row.gas_price: (row.hash, row.block_timestamp) for row in temp_df.itertuples()}"
   ]
  },
  {
   "cell_type": "markdown",
   "id": "6ab04009",
   "metadata": {},
   "source": [
    "### Function summary: filter_by_unique_gas_price_by_pool\n",
    "\n",
    "Given a transactions DataFrame, it returns a dictionary with a tuple of the unique gas prices and tornado pool as keys and a tuple containing the hash of that transaction and the timestamp. For example, \n",
    "\n",
    "```\n",
    "{(111000302, \"0x24387248\"): (\"0x387fcd87a\", timestamp1)\n",
    "\n",
    "```"
   ]
  },
  {
   "cell_type": "code",
   "execution_count": 34,
   "id": "c100eb55",
   "metadata": {},
   "outputs": [],
   "source": [
    "def filter_by_unique_gas_price_by_pool(transactions_df):\n",
    "    \n",
    "    # Count the appearances of each gas price by pool in the transactions DataFrame.\n",
    "    \n",
    "    gas_prices_count = deposit_transactions_df[[\"gas_price\", \"tornado_cash_address\"]].value_counts()\n",
    "    \n",
    "    '''\n",
    "    Filter the gas prices that are unique for each pool, i.e., the ones with a count equal to 1.\n",
    "    The gas prices are stored in unique_gas_prices\n",
    "    '''\n",
    "    \n",
    "    unique_gas_prices_by_pool = pd.DataFrame(gas_prices_count[gas_prices_count == 1])\n",
    "    \n",
    "    # Tuple set with the values (gas_price, tornado_cash_address) is made to filter efficiently\n",
    "    \n",
    "    tuple_set = set([(row.Index[0], row.Index[1]) for row in unique_gas_prices_by_pool.itertuples()])\n",
    "    \n",
    "    # A dataframe of the transactions that verify having these unique gas price values by pool.\n",
    "    \n",
    "    temp_df = pd.DataFrame(filter(lambda iter_tuple: (iter_tuple.gas_price, iter_tuple.tornado_cash_address) in tuple_set, deposit_transactions_df.itertuples()))\n",
    "    \n",
    "    # The DataFrame is transformed to a dictionary with only the relevant information.\n",
    "    \n",
    "    return {(row.gas_price, row.tornado_cash_address): (row.hash, row.block_timestamp) for row in temp_df.itertuples()}"
   ]
  },
  {
   "cell_type": "markdown",
   "id": "721b6356",
   "metadata": {},
   "source": [
    "A test of the function applied to our deposit transactions data."
   ]
  },
  {
   "cell_type": "markdown",
   "id": "7c2af31a",
   "metadata": {},
   "source": [
    "### Function summary: same_gas_price_heuristic\n",
    "\n",
    "This function receives a particular withdraw transaction and a dictionary with the unique gas price deposits, as returned by the function filter_by_unique_gas_price.\n",
    "\n",
    "It returns a tuple:\n",
    "* $(True, deposit$ $hash)$ when a deposit transaction with the same gas price as the withdrawal transaction is found.\n",
    "* $(False, None)$ when such a deposit is not found."
   ]
  },
  {
   "cell_type": "code",
   "execution_count": 35,
   "id": "91681643",
   "metadata": {},
   "outputs": [],
   "source": [
    "def same_gas_price_heuristic(withdrawal_transaction, unique_gas_price_deposit_dict):\n",
    "    \n",
    "    '''\n",
    "    Check if the gas price of the given withdrawal transaction is within the dictionary keys and that\n",
    "    the deposit was made earlier than the withdral.\n",
    "    If it is, then a tuple is returned, (True, deposit_hash).\n",
    "    If it is not, (False, None) is returned.\n",
    "    '''\n",
    "    \n",
    "    if withdrawal_transaction.gas_price in set(unique_gas_price_deposit_dict.keys()) and (unique_gas_price_deposit_dict[withdrawal_transaction.gas_price][1] < withdrawal_transaction.block_timestamp):\n",
    "        return (True, unique_gas_price_deposit_dict[withdrawal_transaction.gas_price][0])\n",
    "    else:   \n",
    "        return (False, None)"
   ]
  },
  {
   "cell_type": "markdown",
   "id": "051e5caf",
   "metadata": {},
   "source": [
    "### Function summary: same_gas_price_heuristic_by_pool\n",
    "\n",
    "This function receives a particular withdraw transaction and a dictionary with the unique gas price deposits made in each pool, just as returned by the function filter_by_unique_gas_price_by_pool.\n",
    "\n",
    "It returns a tuple:\n",
    "* $(True, deposit$ $hash)$ when a deposit transaction with the same gas price and belonging from the same pool (for example, 1ETH) as the withdrawal transaction is found.\n",
    "* $(False, None)$ when such a deposit is not found."
   ]
  },
  {
   "cell_type": "code",
   "execution_count": 36,
   "id": "e4e57d67",
   "metadata": {},
   "outputs": [],
   "source": [
    "def same_gas_price_heuristic_by_pool(withdrawal_transaction, unique_gas_price_deposit_dict):\n",
    "    \n",
    "    '''\n",
    "    Check if the pair (gas_price, tornado_pool) of the given withdrawal transaction is within the dictionary keys and that\n",
    "    the deposit was made earlier than the withdral.\n",
    "    If it is, then a tuple is returned, (True, deposit_hash).\n",
    "    If it is not, (False, None) is returned.\n",
    "    '''\n",
    "    \n",
    "    if (withdrawal_transaction.gas_price, withdrawal_transaction.tornado_cash_address) in set(unique_gas_price_deposit_dict.keys()) and (unique_gas_price_deposit_dict[(withdrawal_transaction.gas_price, withdrawal_transaction.tornado_cash_address)][1] < withdrawal_transaction.block_timestamp):\n",
    "        return (True, unique_gas_price_deposit_dict[(withdrawal_transaction.gas_price, withdrawal_transaction.tornado_cash_address)][0])\n",
    "    else:   \n",
    "        return (False, None)"
   ]
  },
  {
   "cell_type": "markdown",
   "id": "16f5aaa1",
   "metadata": {},
   "source": [
    "### Function summary: apply_same_gas_price_heuristic\n",
    "\n",
    "Applies the heuristic to all the withdraw_transactions DataFrame. Returns a dicionary mapping linked withdrawal and deposit transaction hashes."
   ]
  },
  {
   "cell_type": "code",
   "execution_count": 37,
   "id": "2df38bbe",
   "metadata": {},
   "outputs": [],
   "source": [
    "def apply_same_gas_price_heuristic(deposit_transactions_df, withdraw_transactions_df):\n",
    "    \n",
    "    # Get deposit transactions with unique gas prices.\n",
    "    \n",
    "    unique_gas_price_deposits_dict = filter_by_unique_gas_price(deposit_transactions_df)\n",
    "    \n",
    "    # Initialize an empty dictionary to store the linked transactions.\n",
    "    \n",
    "    withdrawal_to_deposit = {}\n",
    "    \n",
    "    # Iterate over the withdraw transactions.\n",
    "    for withdraw_row in tqdm(withdraw_transactions_df.itertuples(), total=withdraw_transactions_df.shape[0], mininterval=10):     \n",
    "        # Apply heuristic for the given withdraw transaction.\n",
    "        same_gas_deposit_hash = same_gas_price_heuristic(withdraw_row, unique_gas_price_deposits_dict)\n",
    "        \n",
    "        # When a deposit transaction matching the withdraw transaction gas price is found, add\n",
    "        # the linked transactions to the dictionary.\n",
    "        if same_gas_deposit_hash[0]:\n",
    "            withdrawal_to_deposit[withdraw_row.hash] = same_gas_deposit_hash[1]\n",
    "\n",
    "    # Return the linked transactions dictionary.\n",
    "    return withdrawal_to_deposit"
   ]
  },
  {
   "cell_type": "markdown",
   "id": "7581bc72",
   "metadata": {},
   "source": [
    "### Function summary: apply_same_gas_price_heuristic_by_pool\n",
    "\n",
    "Applies the heuristic to all the withdraw_transactions DataFrame, filtering also by the particular pool. Returns a dicionary mapping linked withdrawal and deposit transaction hashes."
   ]
  },
  {
   "cell_type": "code",
   "execution_count": 38,
   "id": "244e3104",
   "metadata": {},
   "outputs": [],
   "source": [
    "def apply_same_gas_price_heuristic_by_pool(deposit_transactions_df, withdraw_transactions_df):\n",
    "    \n",
    "    # Get deposit transactions with unique gas prices.\n",
    "    \n",
    "    unique_gas_price_deposits_dict = filter_by_unique_gas_price_by_pool(deposit_transactions_df)\n",
    "    \n",
    "    # Initialize an empty dictionary to store the linked transactions.\n",
    "    \n",
    "    withdrawal_to_deposit = {}\n",
    "    \n",
    "    # Iterate over the withdraw transactions.\n",
    "    for withdraw_row in tqdm(withdraw_transactions_df.itertuples(), total=withdraw_transactions_df.shape[0], mininterval=10):     \n",
    "        # Apply heuristic for the given withdraw transaction.\n",
    "        same_gas_deposit_hash = same_gas_price_heuristic_by_pool(withdraw_row, unique_gas_price_deposits_dict)\n",
    "        \n",
    "        # When a deposit transaction matching the withdraw transaction gas price is found, add\n",
    "        # the linked transactions to the dictionary.\n",
    "        if same_gas_deposit_hash[0]:\n",
    "            withdrawal_to_deposit[withdraw_row.hash] = same_gas_deposit_hash[1]\n",
    "\n",
    "    # Return the linked transactions dictionary.\n",
    "    return withdrawal_to_deposit"
   ]
  },
  {
   "cell_type": "markdown",
   "id": "2ef22159",
   "metadata": {},
   "source": [
    "We run the heuristic for the entire withdraw dataset"
   ]
  },
  {
   "cell_type": "code",
   "execution_count": 39,
   "id": "188f1f89",
   "metadata": {},
   "outputs": [
    {
     "name": "stderr",
     "output_type": "stream",
     "text": [
      "100%|██████████| 17037/17037 [00:06<00:00, 2527.65it/s]\n"
     ]
    }
   ],
   "source": [
    "linked_transactions = apply_same_gas_price_heuristic(deposit_transactions_df, non_relayer_withdraw_transactions_df)"
   ]
  },
  {
   "cell_type": "code",
   "execution_count": 40,
   "id": "6fdb4440",
   "metadata": {
    "scrolled": true
   },
   "outputs": [
    {
     "data": {
      "text/html": [
       "<div>\n",
       "<style scoped>\n",
       "    .dataframe tbody tr th:only-of-type {\n",
       "        vertical-align: middle;\n",
       "    }\n",
       "\n",
       "    .dataframe tbody tr th {\n",
       "        vertical-align: top;\n",
       "    }\n",
       "\n",
       "    .dataframe thead th {\n",
       "        text-align: right;\n",
       "    }\n",
       "</style>\n",
       "<table border=\"1\" class=\"dataframe\">\n",
       "  <thead>\n",
       "    <tr style=\"text-align: right;\">\n",
       "      <th></th>\n",
       "      <th>withdraw_hashes</th>\n",
       "      <th>deposit_hashes</th>\n",
       "    </tr>\n",
       "  </thead>\n",
       "  <tbody>\n",
       "    <tr>\n",
       "      <th>0</th>\n",
       "      <td>0xb07d06c8ca80ce4052954393d79b2f95d83034607d15...</td>\n",
       "      <td>0xbcd359d0323dc74c7a246d98cae706c75a6b3b518203...</td>\n",
       "    </tr>\n",
       "    <tr>\n",
       "      <th>1</th>\n",
       "      <td>0xbace5d33d2ce99ea408a03924846f4f5bc47b5125be3...</td>\n",
       "      <td>0x1cf1ce4d853c7f7df4c44634e45080e6c038dcd0c4e6...</td>\n",
       "    </tr>\n",
       "    <tr>\n",
       "      <th>2</th>\n",
       "      <td>0x99b09453c62a24b9b7f78c27b37d1c06c2b9a6428541...</td>\n",
       "      <td>0x1cf1ce4d853c7f7df4c44634e45080e6c038dcd0c4e6...</td>\n",
       "    </tr>\n",
       "    <tr>\n",
       "      <th>3</th>\n",
       "      <td>0xa0b96bec4615aad1d3c79871316cadd13f0b632e95ad...</td>\n",
       "      <td>0x1cf1ce4d853c7f7df4c44634e45080e6c038dcd0c4e6...</td>\n",
       "    </tr>\n",
       "    <tr>\n",
       "      <th>4</th>\n",
       "      <td>0x02f760cf72499455028fd5f99ccb0d8d8b56a637c5d2...</td>\n",
       "      <td>0x1cf1ce4d853c7f7df4c44634e45080e6c038dcd0c4e6...</td>\n",
       "    </tr>\n",
       "  </tbody>\n",
       "</table>\n",
       "</div>"
      ],
      "text/plain": [
       "                                     withdraw_hashes  \\\n",
       "0  0xb07d06c8ca80ce4052954393d79b2f95d83034607d15...   \n",
       "1  0xbace5d33d2ce99ea408a03924846f4f5bc47b5125be3...   \n",
       "2  0x99b09453c62a24b9b7f78c27b37d1c06c2b9a6428541...   \n",
       "3  0xa0b96bec4615aad1d3c79871316cadd13f0b632e95ad...   \n",
       "4  0x02f760cf72499455028fd5f99ccb0d8d8b56a637c5d2...   \n",
       "\n",
       "                                      deposit_hashes  \n",
       "0  0xbcd359d0323dc74c7a246d98cae706c75a6b3b518203...  \n",
       "1  0x1cf1ce4d853c7f7df4c44634e45080e6c038dcd0c4e6...  \n",
       "2  0x1cf1ce4d853c7f7df4c44634e45080e6c038dcd0c4e6...  \n",
       "3  0x1cf1ce4d853c7f7df4c44634e45080e6c038dcd0c4e6...  \n",
       "4  0x1cf1ce4d853c7f7df4c44634e45080e6c038dcd0c4e6...  "
      ]
     },
     "execution_count": 40,
     "metadata": {},
     "output_type": "execute_result"
    }
   ],
   "source": [
    "linked_transactions = pd.DataFrame.from_dict({\"withdraw_hashes\": linked_transactions.keys(), \"deposit_hashes\": linked_transactions.values()})\n",
    "linked_transactions.head()"
   ]
  },
  {
   "cell_type": "markdown",
   "id": "48ee9975",
   "metadata": {},
   "source": [
    "Now we run the heuristic that filters by pool, again applying it to the entire withdraw dataset."
   ]
  },
  {
   "cell_type": "code",
   "execution_count": 42,
   "id": "3c8fc3ef",
   "metadata": {},
   "outputs": [
    {
     "name": "stderr",
     "output_type": "stream",
     "text": [
      "100%|██████████| 17037/17037 [00:09<00:00, 1847.72it/s]\n"
     ]
    }
   ],
   "source": [
    "linked_transactions_by_pool = apply_same_gas_price_heuristic_by_pool(deposit_transactions_df, non_relayer_withdraw_transactions_df)"
   ]
  },
  {
   "cell_type": "code",
   "execution_count": 77,
   "id": "8ec902b0",
   "metadata": {
    "scrolled": true
   },
   "outputs": [],
   "source": [
    "linked_transactions_by_pool_df = pd.DataFrame.from_dict({\"withdraw_hashes\": linked_transactions_by_pool.keys(), \"deposit_hashes\": linked_transactions_by_pool.values()})"
   ]
  },
  {
   "cell_type": "code",
   "execution_count": 113,
   "id": "26ae0fb9",
   "metadata": {},
   "outputs": [
    {
     "data": {
      "text/plain": [
       "172"
      ]
     },
     "execution_count": 113,
     "metadata": {},
     "output_type": "execute_result"
    }
   ],
   "source": [
    "len(linked_transactions_by_pool_df)"
   ]
  },
  {
   "cell_type": "markdown",
   "id": "d22d0c4a",
   "metadata": {},
   "source": [
    "### Results analysis"
   ]
  },
  {
   "cell_type": "markdown",
   "id": "9ba7e97b",
   "metadata": {},
   "source": [
    "#### Compromised deposit transactions for each TCash pool"
   ]
  },
  {
   "cell_type": "code",
   "execution_count": 44,
   "id": "f3ae0a99",
   "metadata": {},
   "outputs": [],
   "source": [
    "def tx_to_pool(deposit_transactions_df):\n",
    "    tx_to_pool_dict = {}\n",
    "    for row in tqdm(deposit_transactions_df.itertuples(), mininterval=1):\n",
    "        tx_to_pool_dict[row.hash] = row.tcash_pool\n",
    "    \n",
    "    return tx_to_pool_dict"
   ]
  },
  {
   "cell_type": "code",
   "execution_count": 95,
   "id": "31ccadf1",
   "metadata": {},
   "outputs": [
    {
     "data": {
      "image/png": "[encoded data removed]",
      "text/plain": [
       "<Figure size 1080x504 with 2 Axes>"
      ]
     },
     "metadata": {},
     "output_type": "display_data"
    }
   ],
   "source": [
    "pools = list(number_of_compromised_deposits_by_pool.keys())\n",
    "eth_pools = [\"0.1 ETH\", \"1 ETH\", \"10 ETH\", \"100 ETH\"]\n",
    "tkn_pools = [pool for pool in compromised_vs_uncompromised_by_pool.keys() if pool not in eth_pools]\n",
    "all_pools = eth_pools + tkn_pools\n",
    "compromised_eth_values = np.array(list(map(lambda key: number_of_compromised_deposits_by_pool[key], eth_pools)))\n",
    "compromised_tkn_values = np.array(list(map(lambda key: number_of_compromised_deposits_by_pool[key], tkn_pools)))\n",
    "\n",
    "usdt_pools = ['100 USDT', '1000 USDT']\n",
    "wbtc_pools = ['1 WBTC', '10 WBTC', '0.1 WBTC']\n",
    "dai_pools = ['1000 DAI', '10000 DAI', '100000 DAI', '100 DAI']\n",
    "cdai_pools = ['500000 cDAI', '5000000 cDAI']\n",
    "usdc_pools = ['100 USDC', '1000 USDC']\n",
    "\n",
    "def agglomerate_tokens(number_of_compromised_deposits_by_pool):\n",
    "    tokens_dict = {\"USDT\": 0, \"WBTC\": 0, \"DAI\": 0, \"cDAI\": 0, \"USDC\": 0}\n",
    "    \n",
    "    for pool in usdt_pools:\n",
    "        tokens_dict[\"USDT\"] += number_of_compromised_deposits_by_pool[pool]\n",
    "    for pool in wbtc_pools:\n",
    "        tokens_dict[\"WBTC\"] += number_of_compromised_deposits_by_pool[pool]\n",
    "        \n",
    "    for pool in dai_pools:\n",
    "        tokens_dict[\"DAI\"] += number_of_compromised_deposits_by_pool[pool]\n",
    "        \n",
    "    for pool in cdai_pools:\n",
    "        tokens_dict[\"cDAI\"] += number_of_compromised_deposits_by_pool[pool]\n",
    "        \n",
    "    for pool in usdc_pools:\n",
    "        tokens_dict[\"USDC\"] += number_of_compromised_deposits_by_pool[pool]\n",
    "        \n",
    "    return tokens_dict\n",
    "tokens_dict = agglomerate_tokens(number_of_compromised_deposits_by_pool)\n",
    "\n",
    "def absolute_value(val):\n",
    "    a  = np.round(val/100.*compromised_eth_values.sum(), 0)\n",
    "    return a\n",
    "\n",
    "token_keys = list(tokens_dict.keys())\n",
    "token_values = list(map(lambda key: tokens_dict[key], token_keys))\n",
    "\n",
    "fig, (ax1, ax2) = plt.subplots(ncols=2, figsize=(15, 7))\n",
    "ax1.pie(compromised_eth_values, labels = eth_pools, autopct = absolute_value)\n",
    "ax2.pie(token_values, labels = token_keys, autopct = absolute_value)\n",
    "fig.suptitle(\"Distribution of linked deposits by pool\")\n",
    "plt.show()"
   ]
  },
  {
   "cell_type": "code",
   "execution_count": 47,
   "id": "f65dc840",
   "metadata": {},
   "outputs": [],
   "source": [
    "compromised_vs_uncompromised_by_pool = {}\n",
    "\n",
    "for pool in list(number_of_compromised_deposits_by_pool.keys()):\n",
    "    compromised_vs_uncompromised_by_pool[pool] = (number_of_compromised_deposits_by_pool[pool], number_of_uncompromised_deposits_by_pool[pool])\n"
   ]
  },
  {
   "cell_type": "code",
   "execution_count": 48,
   "id": "743cc323",
   "metadata": {},
   "outputs": [],
   "source": [
    "eth_pools = [\"0.1 ETH\", \"1 ETH\", \"10 ETH\", \"100 ETH\"]\n",
    "tkn_pools = [pool for pool in compromised_vs_uncompromised_by_pool.keys() if pool not in eth_pools]\n",
    "all_pools = eth_pools + tkn_pools\n"
   ]
  },
  {
   "cell_type": "markdown",
   "id": "b919853c",
   "metadata": {},
   "source": [
    "## Heuristic 3 - Transactions outside TCash\n",
    "\n",
    "### Description\n",
    "The main goal of this heuristic is to link Ethereum accounts which interacted with TCash by inspecting Ethereum transactions outside it. \n",
    "\n",
    "This is done constructing two sets, one corresponding to the unique TCash deposit addresses ($S_{D}$) and one to the unique TCash withdraw addresses ($S_{W}$), to then make a query to reveal transactions between addresses of each set.\n",
    "\n",
    "Withdraw transactions are inspected one by one, searching for Ethereum transactions done between the withdraw address and any of the deposit addresses. When such a transaction is found, the withdraw transaction is linked with all the deposits of the deposit addresses that were done before the withdraw.\n",
    "\n",
    "\n",
    "### Data\n",
    "The query to the public BigQuery database was done like so,\n",
    "\n",
    "```\n",
    "INSERT `tornado_cash_transactions.transactions_between_withdraw_and_deposit_addresses` \n",
    "SELECT * FROM `bigquery-public-data.crypto_ethereum.transactions`\n",
    "WHERE \n",
    "    (\n",
    "       (`from_address` IN ( SELECT `from_address` FROM `tornado_cash_transactions.deposit_addresses`))\n",
    "       AND \n",
    "       (`to_address` IN ( SELECT `withdraw_address` FROM `tornado_cash_transactions.withdraw_addresses`))\n",
    "    )\n",
    "    OR\n",
    "    (\n",
    "       (`from_address` IN (  SELECT `withdraw_address` FROM `tornado_cash_transactions.withdraw_addresses`))\n",
    "       AND \n",
    "       (`to_address` IN ( SELECT `from_address` FROM `tornado_cash_transactions.deposit_addresses`))\n",
    "    )\n",
    "```\n",
    "\n",
    "The resulting table has two columns, **from_address** and **to_address**, and each row corresponds to a transaction done between a TCash deposit address and a TCash withdraw address, outside TCash.\n",
    "From this table, we want to know which of the two addresses was the one that made the deposit and which one made the withdraw. In this way, we are able to link the corresponding deposit and withdraw transactions.\n",
    "\n",
    "For example, consider this entry from the resulting table,\n",
    "\n",
    "| from_address  | to_address  |\n",
    "|---------------|-------------|\n",
    "| address1      | address2    |\n",
    "\n",
    "Suppose that `address1` is an address that withdrawed in TCash and `address2` one that made a deposit. Then, we want to transform said entry to one with colums **deposit_address** and **withdraw_address** like so,\n",
    "\n",
    "| deposit_address | withdraw_address |\n",
    "|-----------------|------------------|\n",
    "| address2        | address1         |\n",
    "\n",
    "With this new table, it is straightforward to make de linking between TCash transactions. With it, we can create a mapping to know with what deposit addresses each withdraw address interacted with.\n",
    "\n",
    "\n",
    "### Some definitions \n",
    "A problem raises when there are addresses that belong to the two sets of TCash addresses $S_{D}$ and $S_{W}$.\n",
    "Let us define an address of type `D` when it belongs to $S_{D}$ and not to $S_{W}$.\n",
    "Likewise, an address of type `W` is defined when it belongs to $S_{W}$ and not to $S_{D}$. \n",
    "Finally, when an address belongs to both sets, we classify it as a `DW` type.\n",
    "\n",
    "For the cases where we got outside TCash transactions of type `D -> W` (i.e., a transaction from a *D* type address to a *W* type address) or `W -> D` (i.e., a transaction from a *W* type address to a *D* type address), it is trivial to transform this entry to the new table.\n",
    "\n",
    "In the cases where we have transactions of type `DW -> W`, `DW -> D`, `W -> DW` and `D -> DW`, it is also straightforward to transform the corresponding entries. For example, consider again this particular entry of Ethereum transactions table,\n",
    "\n",
    "\n",
    "| from_address  | to_address  |\n",
    "|---------------|-------------|\n",
    "| address1      | address2    |\n",
    "\n",
    "\n",
    "Suppose now that `address1` is of type `DW` and `address2` of type `D`. Then, `address2` is trivially placed in the `deposit_address` column. By a process of elimination, then `address1` is set in `withdraw_address` column,\n",
    "\n",
    "\n",
    "| deposit_address | withdraw_address |\n",
    "|-----------------|------------------|\n",
    "| address2        | address1         |\n",
    "\n",
    "\n",
    "When we have a transaction of type `DW -> DW`, it cannot be known which address deposited and which one made the withdraw, so the two combinations are considered. Considering again the same entry, the resulting table will be as follows,\n",
    "\n",
    "| deposit_address | withdraw_address |\n",
    "|-----------------|------------------|\n",
    "| address1        | address2         |\n",
    "| address2        | address1         |\n",
    "\n",
    "\n",
    "Then, deposits of `address1` are linked to withdraws of `address2` and deposits of `address2` are linked to withdraws of `address1`.\n",
    "\n",
    "\n",
    "### Results data structure\n",
    "The results of this heuristic are returned as a dictionary where each element has a TCash withdraw transaction hash  as key and a list of the linked TCash deposit transaction hashes as a value. For example,\n",
    "\n",
    "```\n",
    "    '0x4858': ['0x2fad', '0x750a']\n",
    "```\n",
    "This would mean that withdraw transaction `0x4858` is linked to `0x2fad` and `0x750a` deposit transactions."
   ]
  },
  {
   "cell_type": "code",
   "execution_count": 110,
   "id": "1754d871",
   "metadata": {},
   "outputs": [],
   "source": [
    "# Utils functions \n",
    "def remap_keys(mapping):\n",
    "    return [{'key': k,'value': v} for k, v in mapping.items()]\n",
    "\n",
    "def create_addresses_and_pools_to_deposits_json(filepath, dictionary):\n",
    "    with open(filepah, \"w\") as outfile:\n",
    "        json.dump(remap_keys(dictionary), outfile, indent=4)\n",
    "\n",
    "def load_addresses_and_pools_to_deposits_json(filepath):\n",
    "    with open(filepath) as json_file:\n",
    "        raw_dict_list = json.load(json_file)\n",
    "        addresses_and_pools_to_deposits: dict = {}\n",
    "        \n",
    "        HashTimestamp = namedtuple(\"HashTimestamp\", [\"deposit_hash\", \"timestamp\"])\n",
    "        AddressPool = namedtuple(\"AddressPool\", [\"address\", \"pool\"])\n",
    "        \n",
    "        for dic in tqdm(raw_dict_list, mininterval=1):\n",
    "            elem = {\n",
    "                AddressPool(address=dic['key'][0], pool=dic['key'][1]): [HashTimestamp(deposit_hash=l[0], timestamp=l[1]) for l in dic['value']]\n",
    "            }\n",
    "            addresses_and_pools_to_deposits.update(elem)\n",
    "        \n",
    "        return addresses_and_pools_to_deposits\n",
    "\n",
    "def save_linked_txs(linked_txs_filepath, w2d_dict):\n",
    "    with open(linked_txs_filepath, 'w') as json_file:\n",
    "        json.dump(w2d_dict, json_file, indent=4)\n",
    "\n",
    "def load_addresses_and_pools_to_deposits(filepath):\n",
    "    if os.path.exists(filepath):\n",
    "        addresses_and_pools_to_deposits_dict = load_addresses_and_pools_to_deposits_json(\"../data/addresses_and_pools_to_deposits.json\")\n",
    "    else:\n",
    "        addresses_and_pools_to_deposits_dict = addresses_and_pools_to_deposits(deposit_txs)\n",
    "    return addresses_and_pools_to_deposits_dict\n",
    "\n",
    "\n",
    "# Given an address and the TCash pool, give all the deposits that address has done in that pool.\n",
    "def _addr_pool_to_deposits(address: str, tcash_pool: str, deposit_txs) -> dict:\n",
    "    mask = (deposit_txs[\"from_address\"] == address) & (deposit_txs[\"tcash_pool\"] == tcash_pool)\n",
    "    \n",
    "    addr_pool_deposits = deposit_txs[mask]\n",
    "    \n",
    "    HashTimestamp = namedtuple(\"HashTimestamp\", [\"deposit_hash\", \"timestamp\"])\n",
    "    AddressPool = namedtuple(\"AddressPool\", [\"address\", \"pool\"])\n",
    "    \n",
    "    hashes_and_timestamps: list = [None] * len(addr_pool_deposits)\n",
    "    for i, row in enumerate(addr_pool_deposits.itertuples()):\n",
    "        hashes_and_timestamps[i] = HashTimestamp(deposit_hash=row.hash, timestamp=row.block_timestamp)\n",
    "    \n",
    "    return {AddressPool(address=address, pool=tcash_pool): hashes_and_timestamps}\n",
    "\n",
    "# Gives a dictionary with deposit addresses as keys and the deposit transactions each address made as values.\n",
    "def addresses_and_pools_to_deposits(deposit_txs) -> dict:\n",
    "    \n",
    "    addresses_and_pools: dict = dict(deposit_txs.groupby(\"from_address\")[\"tcash_pool\"].apply(list))\n",
    "    \n",
    "    addresses_and_pools_to_deposits: dict = {}\n",
    "    \n",
    "    for addr in tqdm(addresses_and_pools.keys(), mininterval=3):\n",
    "        for pool in addresses_and_pools[addr]:\n",
    "            addresses_and_pools_to_deposits.update(_addr_pool_to_deposits(addr, pool, deposit_txs))\n",
    "            \n",
    "    return addresses_and_pools_to_deposits"
   ]
  },
  {
   "cell_type": "code",
   "execution_count": 111,
   "id": "c6d8d630",
   "metadata": {},
   "outputs": [
    {
     "name": "stderr",
     "output_type": "stream",
     "text": [
      "100%|████████████████████████████████████| 31927/31927 [00:00<00:00, 224947.24it/s]\n"
     ]
    }
   ],
   "source": [
    "with open('../data/tornado_pools.json') as json_file:\n",
    "    tornado_addresses = json.load(json_file)\n",
    "\n",
    "deposit_txs = pd.read_csv(\"../data/lighter_complete_deposit_txs.csv\")\n",
    "deposit_txs[\"tcash_pool\"] = deposit_txs[\"tornado_cash_address\"].apply(lambda addr: tornado_addresses[addr])\n",
    "withdraw_txs = pd.read_csv(\"../data/lighter_complete_withdraw_txs.csv\")\n",
    "withdraw_txs[\"tcash_pool\"] = withdraw_txs[\"tornado_cash_address\"].apply(lambda addr: tornado_addresses[addr])\n",
    "\n",
    "unique_deposit_addresses = set(deposit_txs[\"from_address\"])\n",
    "unique_withdraw_addresses = set(withdraw_txs[\"recipient_address\"])\n",
    "\n",
    "addresses_and_pools_to_deposits_dict = load_addresses_and_pools_to_deposits_json('../data/addresses_and_pools_to_deposits.json')\n",
    "\n",
    "address_and_withdraw_df = pd.read_csv(\"../data/transactions_between_deposit_and_withdraw_addresses.csv\")[[\"from_address\", \"to_address\"]]"
   ]
  },
  {
   "cell_type": "markdown",
   "id": "7d3dc434",
   "metadata": {},
   "source": [
    "### Data preprocessing\n",
    "From the data obtained in the query, we want to filter repeated and permuted transactions, since they don't provide any new information. Once a transaction between a withdraw address and a deposit address is found, they are considereded linked regardless of the direction in what the transaction was done and the number of times they interacted."
   ]
  },
  {
   "cell_type": "code",
   "execution_count": 112,
   "id": "2e3076b5",
   "metadata": {},
   "outputs": [],
   "source": [
    "def filter_repeated_and_permuted(address_and_withdraw_df):\n",
    "    filtered_addresses_set = set()\n",
    "    \n",
    "    for row in address_and_withdraw_df.itertuples():\n",
    "        filtered_addresses_set.add(frozenset([row.from_address, row.to_address]))\n",
    "    \n",
    "    return filtered_addresses_set\n",
    "\n",
    "def dataframe_from_set_of_sets(set_of_sets):\n",
    "    addresses_df = pd.DataFrame({\"address_1\":[], \"address_2\":[]})\n",
    "        \n",
    "    for s in tqdm(set_of_sets):\n",
    "        s_tuple = tuple(s)\n",
    "        if len(s) == 2:\n",
    "            addresses_df = addresses_df.append({\"address_1\": s_tuple[0], \"address_2\": s_tuple[1]}, ignore_index=True)\n",
    "        else:\n",
    "            addresses_df = addresses_df.append({\"address_1\": s_tuple[0], \"address_2\": s_tuple[0]}, ignore_index=True)\n",
    "\n",
    "    return addresses_df\n",
    "\n",
    "def preprocess_data(address_and_withdraw_df):\n",
    "    s = filter(lambda x: len(x) == 2, filter_repeated_and_permuted(address_and_withdraw_df))\n",
    "    return dataframe_from_set_of_sets(s)"
   ]
  },
  {
   "cell_type": "code",
   "execution_count": 113,
   "id": "1f9c616b",
   "metadata": {
    "scrolled": true
   },
   "outputs": [
    {
     "name": "stderr",
     "output_type": "stream",
     "text": [
      "11230it [00:19, 581.49it/s]\n"
     ]
    },
    {
     "data": {
      "text/html": [
       "<div>\n",
       "<style scoped>\n",
       "    .dataframe tbody tr th:only-of-type {\n",
       "        vertical-align: middle;\n",
       "    }\n",
       "\n",
       "    .dataframe tbody tr th {\n",
       "        vertical-align: top;\n",
       "    }\n",
       "\n",
       "    .dataframe thead th {\n",
       "        text-align: right;\n",
       "    }\n",
       "</style>\n",
       "<table border=\"1\" class=\"dataframe\">\n",
       "  <thead>\n",
       "    <tr style=\"text-align: right;\">\n",
       "      <th></th>\n",
       "      <th>address_1</th>\n",
       "      <th>address_2</th>\n",
       "    </tr>\n",
       "  </thead>\n",
       "  <tbody>\n",
       "    <tr>\n",
       "      <th>0</th>\n",
       "      <td>0x8a7798ef741108b7d7ebba6ed2886f617a3b0ee1</td>\n",
       "      <td>0xf8046ffeb3d654712a11d4de0004846047c9abfa</td>\n",
       "    </tr>\n",
       "    <tr>\n",
       "      <th>1</th>\n",
       "      <td>0x4cae0b0e66a1c55137df4a1175c1a612d44592fe</td>\n",
       "      <td>0x026b974a8ac00587a71f8e6cd9a655ab22470f5a</td>\n",
       "    </tr>\n",
       "    <tr>\n",
       "      <th>2</th>\n",
       "      <td>0x3238b53a910b69f5dbdb31786613ce944536ba19</td>\n",
       "      <td>0x2cc2ec67a632af024ebdd7ab5845875012a6d481</td>\n",
       "    </tr>\n",
       "    <tr>\n",
       "      <th>3</th>\n",
       "      <td>0x44bfd564126b69490184dfe7b8c438d4ae0f6032</td>\n",
       "      <td>0x7428a136a88711b076da35b6fc2991d82959ed5e</td>\n",
       "    </tr>\n",
       "    <tr>\n",
       "      <th>4</th>\n",
       "      <td>0x02d1c5bbbf5663d28b547dc09094dc5e3e85a650</td>\n",
       "      <td>0x478d388ba4c6983f6080edda14b02dbc3fb5386f</td>\n",
       "    </tr>\n",
       "  </tbody>\n",
       "</table>\n",
       "</div>"
      ],
      "text/plain": [
       "                                    address_1  \\\n",
       "0  0x8a7798ef741108b7d7ebba6ed2886f617a3b0ee1   \n",
       "1  0x4cae0b0e66a1c55137df4a1175c1a612d44592fe   \n",
       "2  0x3238b53a910b69f5dbdb31786613ce944536ba19   \n",
       "3  0x44bfd564126b69490184dfe7b8c438d4ae0f6032   \n",
       "4  0x02d1c5bbbf5663d28b547dc09094dc5e3e85a650   \n",
       "\n",
       "                                    address_2  \n",
       "0  0xf8046ffeb3d654712a11d4de0004846047c9abfa  \n",
       "1  0x026b974a8ac00587a71f8e6cd9a655ab22470f5a  \n",
       "2  0x2cc2ec67a632af024ebdd7ab5845875012a6d481  \n",
       "3  0x7428a136a88711b076da35b6fc2991d82959ed5e  \n",
       "4  0x478d388ba4c6983f6080edda14b02dbc3fb5386f  "
      ]
     },
     "execution_count": 113,
     "metadata": {},
     "output_type": "execute_result"
    }
   ],
   "source": [
    "clean_addresses = preprocess_data(address_and_withdraw_df)\n",
    "clean_addresses.head()"
   ]
  },
  {
   "cell_type": "markdown",
   "id": "7233dc59",
   "metadata": {},
   "source": [
    "### Outside TCash transactions classification\n",
    "This functions are used to classify the address type following the definitions already talked about,\n",
    "and finally classify the transaction type done by the addresses outside TCash."
   ]
  },
  {
   "cell_type": "code",
   "execution_count": 114,
   "id": "9feb11bb",
   "metadata": {},
   "outputs": [],
   "source": [
    "'''\n",
    "To classify the addresses by their inclusion in the unique_deposit_addresses and \n",
    "the unique_withdraw_addresses sets.\n",
    "'''\n",
    "\n",
    "def is_D_type(address):\n",
    "    return (address in unique_deposit_addresses) and (address not in unique_withdraw_addresses)\n",
    "\n",
    "def is_W_type(address):\n",
    "    return (address not in unique_deposit_addresses) and (address in unique_withdraw_addresses)\n",
    "\n",
    "def is_DW_type(address):\n",
    "    return (address in unique_deposit_addresses) and (address in unique_withdraw_addresses)"
   ]
  },
  {
   "cell_type": "code",
   "execution_count": 115,
   "id": "cee1fd16",
   "metadata": {},
   "outputs": [],
   "source": [
    "# To classify outside TCash transactions, based on the classification of addresses.\n",
    "\n",
    "def is_D_W_tx(address1: str, address2: str) -> bool:\n",
    "    return is_D_type(address1) and is_W_type(address2)\n",
    "\n",
    "def is_W_D_tx(address1: str, address2: str) -> bool:\n",
    "    return is_W_type(address1) and is_D_type(address2)\n",
    "\n",
    "def is_D_DW_tx(address1: str, address2: str) -> bool:\n",
    "    return is_D_type(address1) and is_DW_type(address2)\n",
    "\n",
    "def is_DW_D_tx(address1: str, address2: str) -> bool:\n",
    "    return is_DW_type(address1) and is_D_type(address2)\n",
    "\n",
    "def is_W_DW_tx(address1: str, address2: str) -> bool:\n",
    "    return is_W_type(address1) and is_DW_type(address2)\n",
    "\n",
    "def is_DW_W_tx(address1: str, address2: str) -> bool:\n",
    "    return is_DW_type(address1) and is_W_type(address2)\n",
    "\n",
    "def is_DW_DW_tx(address1: str, address2: str) -> bool:\n",
    "    return is_DW_type(address1) and is_DW_type(address2)"
   ]
  },
  {
   "cell_type": "markdown",
   "id": "76818418",
   "metadata": {},
   "source": [
    "### Function description: map_withdraw2deposit_interactions_outside_tcash\n",
    "This function receives the clean addresses data, transforms it to the table mentioned in the introduction and returns a dictionary mapping the interaction of each withdraw address with deposit addresses."
   ]
  },
  {
   "cell_type": "code",
   "execution_count": 116,
   "id": "69013d65",
   "metadata": {},
   "outputs": [],
   "source": [
    "# Map interactions between every withdraw address to every deposit address, outside TCash\n",
    "\n",
    "def map_withdraw2deposit_interactions_outside_tcash(clean_addresses_df) -> dict:\n",
    "    \n",
    "    deposit_and_withdraw_matrix = np.empty((0, 2), dtype=str)\n",
    "    \n",
    "    for row in tqdm(clean_addresses_df.itertuples(), total=len(clean_addresses_df), mininterval=0.5):\n",
    "                \n",
    "        if is_D_W_tx(row.address_1, row.address_2) or is_D_DW_tx(row.address_1, row.address_2) or is_DW_W_tx(row.address_1, row.address_2):\n",
    "            deposit_and_withdraw_matrix = np.append(deposit_and_withdraw_matrix, [[row.address_1, row.address_2]], axis=0)\n",
    "            \n",
    "        elif is_W_D_tx(row.address_1, row.address_2) or is_W_DW_tx(row.address_1, row.address_2) or is_DW_D_tx(row.address_1, row.address_2):\n",
    "            deposit_and_withdraw_matrix = np.append(deposit_and_withdraw_matrix, [[row.address_2, row.address_1]], axis=0)\n",
    "            \n",
    "        elif is_DW_DW_tx(row.address_1, row.address_2):\n",
    "            deposit_and_withdraw_matrix = np.append(deposit_and_withdraw_matrix, [[row.address_1, row.address_2]], axis=0)\n",
    "            deposit_and_withdraw_matrix = np.append(deposit_and_withdraw_matrix, [[row.address_2, row.address_1]], axis=0)\n",
    "        else:\n",
    "            print(row.address_1, row.address_2)\n",
    "            raise ValueError(\"The transaction is not from any of the types: D_W, W_D, D_DW, DW_D, W_DW, DW_W, DW_DW\")\n",
    "\n",
    "    D_W_df = pd.DataFrame(deposit_and_withdraw_matrix, columns=[\"deposit_address\", \"withdraw_address\"])\n",
    "    \n",
    "    return dict(D_W_df.groupby(\"withdraw_address\")[\"deposit_address\"].apply(list))"
   ]
  },
  {
   "cell_type": "code",
   "execution_count": 117,
   "id": "da45c2dd",
   "metadata": {
    "scrolled": false
   },
   "outputs": [
    {
     "name": "stderr",
     "output_type": "stream",
     "text": [
      "100%|██████████████████████████████████████| 11230/11230 [00:06<00:00, 1781.47it/s]\n"
     ]
    }
   ],
   "source": [
    "waddr2daddr = map_withdraw2deposit_interactions_outside_tcash(clean_addresses)"
   ]
  },
  {
   "cell_type": "markdown",
   "id": "7808bdee",
   "metadata": {},
   "source": [
    "### Function description: first_neighbors_heuristic\n",
    "Given a withdraw transaction, checks if its address had interacted with any deposit address outside TCash. If it has, then fetch all the deposits those deposit addresses had done and link them to the withdraw transaction."
   ]
  },
  {
   "cell_type": "code",
   "execution_count": 118,
   "id": "d0e10e32",
   "metadata": {},
   "outputs": [],
   "source": [
    "def first_neighbors_heuristic(withdraw_tx: pd.Series) -> dict:\n",
    "    address = withdraw_tx.recipient_address\n",
    "    pool = withdraw_tx.tcash_pool\n",
    "    \n",
    "    HashTimestamp = namedtuple(\"HashTimestamp\", [\"deposit_hash\", \"timestamp\"])\n",
    "    AddressPool = namedtuple(\"AddressPool\", [\"address\", \"pool\"])\n",
    "    \n",
    "    '''\n",
    "    Check that there has been a transaction between this address and some deposit\n",
    "    address outside Tcash. If not, return an empty list for this particular withdraw.\n",
    "    '''\n",
    "    if address in waddr2daddr.keys():\n",
    "        interacted_addresses = waddr2daddr[address]\n",
    "        linked_deposits = []\n",
    "        \n",
    "        for addr in interacted_addresses:\n",
    "            if AddressPool(address=addr, pool=pool) in addresses_and_pools_to_deposits_dict.keys():\n",
    "\n",
    "                for d in addresses_and_pools_to_deposits_dict[AddressPool(address=addr, pool=pool)]:\n",
    "                    if d.timestamp < withdraw_tx.block_timestamp:\n",
    "                        linked_deposits.append(d.deposit_hash)\n",
    "                        \n",
    "        return {withdraw_tx.hash: linked_deposits}\n",
    "    else:\n",
    "        return {withdraw_tx.hash: []}"
   ]
  },
  {
   "cell_type": "markdown",
   "id": "b8adf41b",
   "metadata": {},
   "source": [
    "### Function description: apply_first_neighbors_heuristic\n",
    "Applies the heuristic to every withdraw in the withdraw transactions data. Returns a dictionary mapping every withdraw transaction to its linked deposit transactions."
   ]
  },
  {
   "cell_type": "code",
   "execution_count": 119,
   "id": "899b176e",
   "metadata": {},
   "outputs": [],
   "source": [
    "def apply_first_neighbors_heuristic(withdraw_txs: pd.Series) -> dict:\n",
    "    \n",
    "    withdraw_to_linked_deposits: dict = {}\n",
    "        \n",
    "    for row in tqdm(withdraw_txs.itertuples(), total=len(withdraw_txs), mininterval=3):\n",
    "        dic = first_neighbors_heuristic(row)\n",
    "        withdraw_to_linked_deposits.update(dic)\n",
    "    \n",
    "    return dict(filter(lambda elem: len(elem[1]) != 0, withdraw_to_linked_deposits.items()))"
   ]
  },
  {
   "cell_type": "code",
   "execution_count": 120,
   "id": "2304fc4d",
   "metadata": {
    "scrolled": true
   },
   "outputs": [
    {
     "name": "stderr",
     "output_type": "stream",
     "text": [
      "100%|██████████████████████████████████████| 83782/83782 [00:13<00:00, 6358.24it/s]\n"
     ]
    }
   ],
   "source": [
    "w2d = apply_first_neighbors_heuristic(withdraw_txs)"
   ]
  },
  {
   "cell_type": "code",
   "execution_count": 121,
   "id": "8e3333b1",
   "metadata": {},
   "outputs": [],
   "source": [
    "# To save the results of the linked transactions, uncomment and run the following line of code:\n",
    "# save_linked_txs('../data/heuristic_3_linked_txs.json', w2d)"
   ]
  },
  {
   "cell_type": "markdown",
   "id": "f71197e5",
   "metadata": {},
   "source": [
    "---"
   ]
  },
  {
   "cell_type": "markdown",
   "id": "a8046f92",
   "metadata": {},
   "source": [
    "### Results exploration"
   ]
  },
  {
   "cell_type": "code",
   "execution_count": 109,
   "id": "670ba449",
   "metadata": {},
   "outputs": [],
   "source": [
    "def w2add(withdrax_txs) -> dict:\n",
    "    w2addr: dict = {}\n",
    "    for row in tqdm(withdraw_txs.itertuples(), mininterval=1):\n",
    "        w2addr[row.hash] = row.recipient_address\n",
    "    return w2addr\n",
    "\n",
    "def d2add(deposit_txs) -> dict:\n",
    "    d2addr: dict = {}\n",
    "    for row in tqdm(deposit_txs.itertuples(), mininterval=1):\n",
    "        d2addr[row.hash] = row.from_address\n",
    "    return d2addr"
   ]
  },
  {
   "cell_type": "code",
   "execution_count": 123,
   "id": "4c6ec659",
   "metadata": {
    "scrolled": true
   },
   "outputs": [
    {
     "data": {
      "image/png": "[encoded data removed]",
      "text/plain": [
       "<Figure size 720x360 with 1 Axes>"
      ]
     },
     "metadata": {},
     "output_type": "display_data"
    }
   ],
   "source": [
    "linked_deposits_counts = {}\n",
    "for key in w2d.keys():\n",
    "    linked_deposits_counts[key] = len(w2d[key])\n",
    "\n",
    "sns.set_theme(style=\"darkgrid\")\n",
    "plt.figure(figsize=(10, 5))\n",
    "sns.histplot(linked_deposits_counts.values(), bins=200, legend=False)\n",
    "plt.xlabel(\"Count of linked deposits\")\n",
    "plt.ylabel(\"Withdraws count (log)\")\n",
    "plt.yscale(\"log\")"
   ]
  },
  {
   "cell_type": "code",
   "execution_count": 124,
   "id": "a91e5f13",
   "metadata": {},
   "outputs": [],
   "source": [
    "def number_of_linked_withdraw_addresses(w2d_dict: dict) -> int:\n",
    "    l = []\n",
    "    for key in w2d_dict.keys():\n",
    "        l.append(w2addr[key])\n",
    "    return len(set(l))"
   ]
  },
  {
   "cell_type": "code",
   "execution_count": 125,
   "id": "ed335c15",
   "metadata": {},
   "outputs": [
    {
     "name": "stderr",
     "output_type": "stream",
     "text": [
      "83782it [00:00, 264183.94it/s]\n",
      "97365it [00:00, 254815.58it/s]\n"
     ]
    }
   ],
   "source": [
    "w2addr = w2add(withdraw_txs)\n",
    "d2addr = d2add(deposit_txs)"
   ]
  },
  {
   "cell_type": "markdown",
   "id": "05e246a3",
   "metadata": {},
   "source": [
    "---\n",
    "#### How many withdrawal addresses can be linked to deposit addresses?"
   ]
  },
  {
   "cell_type": "code",
   "execution_count": 126,
   "id": "29412fc2",
   "metadata": {},
   "outputs": [
    {
     "name": "stdout",
     "output_type": "stream",
     "text": [
      "Withdrawal addresses that can be linked to deposit addresses: 4620\n"
     ]
    }
   ],
   "source": [
    "print(f\"Withdrawal addresses that can be linked to deposit addresses: {number_of_linked_withdraw_addresses(w2d)}\")"
   ]
  },
  {
   "cell_type": "markdown",
   "id": "ad5f497e",
   "metadata": {},
   "source": [
    "#### How many withdrawal transactions can be linked to deposit transactions?"
   ]
  },
  {
   "cell_type": "code",
   "execution_count": 127,
   "id": "977b1863",
   "metadata": {},
   "outputs": [
    {
     "name": "stdout",
     "output_type": "stream",
     "text": [
      "Withdrawal transactions that can be linked to deposit transactions: 15693\n"
     ]
    }
   ],
   "source": [
    "print(f\"Withdrawal transactions that can be linked to deposit transactions: {len(w2d)}\")"
   ]
  },
  {
   "cell_type": "code",
   "execution_count": 128,
   "id": "77019147",
   "metadata": {},
   "outputs": [],
   "source": [
    "# Auxiliary function\n",
    "# Return all the withdrawals the input address has done.\n",
    "def get_address_withdraws(address, withdraw_txs):\n",
    "    return withdraw_txs[withdraw_txs[\"recipient_address\"] == address ].hash"
   ]
  },
  {
   "cell_type": "code",
   "execution_count": 129,
   "id": "aa7e323d",
   "metadata": {},
   "outputs": [],
   "source": [
    "'''\n",
    "Initialize the address_map, that will follow the next structure\n",
    "{'withdrawal address': [[withdrawals made],[compromised deposit transactions]], ... }\n",
    "Definitions:\n",
    "withdrawals made: The Tcash withdrawals made by the 'withdrawal address'\n",
    "compromised deposit transactions: The compromised deposit transactions of the 'withdrawals made'.\n",
    "'''\n",
    "\n",
    "address_map = {}\n",
    "for address in unique_withdraw_addresses:\n",
    "    address_map[address] = [[],[]]\n",
    "\n",
    "for address in unique_withdraw_addresses:\n",
    "    deposit = {}\n",
    "    address_transactions = get_address_withdraws(address, withdraw_txs)\n",
    "    address_map[address][0] = address_transactions\n",
    "    for row in address_transactions:\n",
    "        address_map[address][1] +=  w2d.get(row,[])"
   ]
  },
  {
   "cell_type": "code",
   "execution_count": 130,
   "id": "22dca62c",
   "metadata": {},
   "outputs": [],
   "source": [
    "'''\n",
    "Since we want to plot the points (number of withdrawals, number compromised deposit transactions) \n",
    "of each withdrawal address,\n",
    "we need to remove the duplicated compromised deposit transactions and\n",
    "get the cardinal of each set.\n",
    "\n",
    "We end up with a dictionary,\n",
    "{withdrawal address: (number of withdrawals, number compromised deposit transactions), ...}\n",
    "'''\n",
    "\n",
    "scatter_points = {}\n",
    "for (address, value) in address_map.items():\n",
    "    scatter_points[address] = (len(set(value[0])), len(set(value[1])))"
   ]
  },
  {
   "cell_type": "code",
   "execution_count": 131,
   "id": "c0941ee2",
   "metadata": {
    "scrolled": false
   },
   "outputs": [
    {
     "data": {
      "text/plain": [
       "Text(0.5, 1.0, 'Number of withdraws and deposits for each address')"
      ]
     },
     "execution_count": 131,
     "metadata": {},
     "output_type": "execute_result"
    },
    {
     "data": {
      "image/png": "[encoded data removed]",
      "text/plain": [
       "<Figure size 720x360 with 1 Axes>"
      ]
     },
     "metadata": {},
     "output_type": "display_data"
    }
   ],
   "source": [
    "x = [x[0] for x in scatter_points.values()]\n",
    "y = [x[1] for x in scatter_points.values()]\n",
    "\n",
    "sns.set_theme(style=\"darkgrid\")\n",
    "plt.figure(figsize=(10, 5))\n",
    "sns.scatterplot(x=x,y=y, alpha=0.7)\n",
    "plt.xlabel(\"# of withdraw transactions\")\n",
    "plt.ylabel(\"# of deposit_transactions\")\n",
    "plt.title(\"Number of withdraws and deposits for each address\")"
   ]
  },
  {
   "cell_type": "markdown",
   "id": "baf281e0",
   "metadata": {},
   "source": [
    "#### Number of compromised deposits"
   ]
  },
  {
   "cell_type": "code",
   "execution_count": 132,
   "id": "582f33cf",
   "metadata": {},
   "outputs": [],
   "source": [
    "compromised_deposits = set([compromised_deposit for value in address_map.values() for compromised_deposit in value[1]])"
   ]
  },
  {
   "cell_type": "code",
   "execution_count": 133,
   "id": "af28c04f",
   "metadata": {},
   "outputs": [
    {
     "data": {
      "text/plain": [
       "18998"
      ]
     },
     "execution_count": 133,
     "metadata": {},
     "output_type": "execute_result"
    }
   ],
   "source": [
    "len(compromised_deposits)"
   ]
  },
  {
   "cell_type": "code",
   "execution_count": 134,
   "id": "8fd6e068",
   "metadata": {},
   "outputs": [
    {
     "name": "stdout",
     "output_type": "stream",
     "text": [
      "Number of compromised deposits: 18998\n"
     ]
    }
   ],
   "source": [
    "print(f\"Number of compromised deposits: {len(compromised_deposits)}\")"
   ]
  },
  {
   "cell_type": "markdown",
   "id": "e607fac1",
   "metadata": {},
   "source": [
    "Average number of compromised deposits per linked withdrawal address"
   ]
  },
  {
   "cell_type": "code",
   "execution_count": 135,
   "id": "f74fe140",
   "metadata": {},
   "outputs": [],
   "source": [
    "number_of_compromised_deposits =  [value[1] for value in scatter_points.values() if value[1] != 0]"
   ]
  },
  {
   "cell_type": "code",
   "execution_count": 136,
   "id": "2c759b1f",
   "metadata": {},
   "outputs": [
    {
     "data": {
      "text/plain": [
       "Text(0.5, 1.0, 'Histogram of compromised deposits per linked withdrawal address')"
      ]
     },
     "execution_count": 136,
     "metadata": {},
     "output_type": "execute_result"
    },
    {
     "data": {
      "image/png": "[encoded data removed]",
      "text/plain": [
       "<Figure size 720x360 with 1 Axes>"
      ]
     },
     "metadata": {},
     "output_type": "display_data"
    }
   ],
   "source": [
    "plt.figure(figsize=(10, 5))\n",
    "plt.hist(number_of_compromised_deposits, bins=50)\n",
    "plt.yscale(\"log\")\n",
    "plt.xlabel(\"Number of compromised deposits\")\n",
    "plt.ylabel(\"Count\")\n",
    "plt.title(\"Histogram of compromised deposits per linked withdrawal address\")"
   ]
  },
  {
   "cell_type": "code",
   "execution_count": 137,
   "id": "f6be8d40",
   "metadata": {
    "scrolled": true
   },
   "outputs": [
    {
     "name": "stdout",
     "output_type": "stream",
     "text": [
      "Average number of compromised deposits per linked withdrawal address: 7.294155844155844\n"
     ]
    }
   ],
   "source": [
    "print(f\"Average number of compromised deposits per linked withdrawal address: {sum(number_of_compromised_deposits)/ len(number_of_compromised_deposits)}\") "
   ]
  },
  {
   "cell_type": "markdown",
   "id": "95520348",
   "metadata": {},
   "source": [
    "#### Compromised deposit transactions for each TCash pool"
   ]
  },
  {
   "cell_type": "code",
   "execution_count": 138,
   "id": "380144b1",
   "metadata": {},
   "outputs": [],
   "source": [
    "def tx_to_pool(txs_df):\n",
    "    tx_to_pool_dict = {}\n",
    "    for row in tqdm(txs_df.itertuples(), mininterval=1):\n",
    "        tx_to_pool_dict[row.hash] = row.tcash_pool\n",
    "    \n",
    "    return tx_to_pool_dict"
   ]
  },
  {
   "cell_type": "code",
   "execution_count": 139,
   "id": "c0a98b07",
   "metadata": {},
   "outputs": [
    {
     "name": "stderr",
     "output_type": "stream",
     "text": [
      "97365it [00:00, 168396.80it/s]\n"
     ]
    }
   ],
   "source": [
    "tx_to_pool_dict = tx_to_pool(deposit_txs)\n",
    "compromised_deposit_hashes = set(list(itertools.chain(*w2d.values())))\n",
    "number_of_compromised_deposits_by_pool = Counter(list(map(lambda x: tx_to_pool_dict[x], compromised_deposit_hashes)))"
   ]
  },
  {
   "cell_type": "code",
   "execution_count": 140,
   "id": "eedd0ad9",
   "metadata": {},
   "outputs": [],
   "source": [
    "pools_to_deposits = dict(deposit_txs.groupby(\"tcash_pool\")[\"hash\"].apply(list))\n",
    "number_of_uncompromised_deposits_by_pool = {}\n",
    "for pool in list(pools_to_deposits.keys()):\n",
    "    number_of_uncompromised_deposits_by_pool[pool] = len(pools_to_deposits[pool]) - number_of_compromised_deposits_by_pool[pool]"
   ]
  },
  {
   "cell_type": "code",
   "execution_count": 141,
   "id": "3e3f73dc",
   "metadata": {},
   "outputs": [],
   "source": [
    "compromised_vs_uncompromised_by_pool = {}\n",
    "\n",
    "for pool in list(number_of_compromised_deposits_by_pool.keys()):\n",
    "    compromised_vs_uncompromised_by_pool[pool] = (number_of_compromised_deposits_by_pool[pool], number_of_uncompromised_deposits_by_pool[pool])"
   ]
  },
  {
   "cell_type": "code",
   "execution_count": 142,
   "id": "bffe6f19",
   "metadata": {},
   "outputs": [],
   "source": [
    "eth_pools = [\"0.1 ETH\", \"1 ETH\", \"10 ETH\", \"100 ETH\"]\n",
    "tkn_pools = [pool for pool in compromised_vs_uncompromised_by_pool.keys() if pool not in eth_pools]\n",
    "all_pools = eth_pools + tkn_pools"
   ]
  },
  {
   "cell_type": "code",
   "execution_count": 143,
   "id": "2f5db9aa",
   "metadata": {
    "scrolled": true
   },
   "outputs": [
    {
     "data": {
      "image/png": "[encoded data removed]",
      "text/plain": [
       "<Figure size 1440x360 with 2 Axes>"
      ]
     },
     "metadata": {},
     "output_type": "display_data"
    }
   ],
   "source": [
    "points = [compromised_vs_uncompromised_by_pool[pool] for pool in all_pools]\n",
    "\n",
    "eth_compromised = [t[0] for t in points[:4]]\n",
    "eth_uncompromised = [t[1] for t in points[:4]]\n",
    "eth_x_axis = np.arange(len(eth_pools))\n",
    "\n",
    "tkn_compromised = [t[0] for t in points[4:]]\n",
    "tkn_uncompromised = [t[1] for t in points[4:]]\n",
    "tkn_x_axis = np.arange(len(tkn_pools))\n",
    "\n",
    "sns.set_theme(style=\"darkgrid\")\n",
    "fig, (ax1, ax2) = plt.subplots(ncols=2, figsize=(20, 5))\n",
    "ax1.bar(eth_x_axis - 0.2, eth_compromised, 0.4, label = \"Compromised\")\n",
    "ax1.bar(eth_x_axis + 0.2, eth_uncompromised, 0.4, label = \"Uncompromised\")\n",
    "ax1.set_xticks(eth_x_axis)\n",
    "ax1.set_xticklabels(eth_pools, rotation=\"vertical\")\n",
    "ax1.set_xlabel(\"Deposits\")\n",
    "ax1.set_ylabel(\"Number of deposits\")\n",
    "ax1.legend(fontsize=13)\n",
    "\n",
    "ax2.bar(tkn_x_axis - 0.1, tkn_compromised, 0.4, label = \"Compromised\")\n",
    "ax2.bar(tkn_x_axis + 0.1, tkn_uncompromised, 0.4, label = \"Uncompromised\")\n",
    "ax2.set_xticks(tkn_x_axis)\n",
    "ax2.set_xticklabels(tkn_pools, rotation=\"vertical\")\n",
    "ax2.set_xlabel(\"Deposits\")\n",
    "ax2.set_ylabel(\"Number of deposits\")\n",
    "ax2.legend(fontsize=13)\n",
    "fig.suptitle(\"Compromised vs. Uncompromised deposits\")\n",
    "\n",
    "plt.show()"
   ]
  },
  {
   "cell_type": "code",
   "execution_count": 144,
   "id": "9128cb7e",
   "metadata": {},
   "outputs": [],
   "source": [
    "rate_compromised_vs_uncompromised_by_pool = {}\n",
    "for pool in compromised_vs_uncompromised_by_pool.keys():\n",
    "    n_compromised = compromised_vs_uncompromised_by_pool[pool][0]\n",
    "    n_uncompromised = compromised_vs_uncompromised_by_pool[pool][1]\n",
    "    total_deposits = n_compromised + n_uncompromised\n",
    "    \n",
    "    rate_compromised_vs_uncompromised_by_pool[pool] = (n_compromised/total_deposits * 100, n_uncompromised/total_deposits * 100)"
   ]
  },
  {
   "cell_type": "code",
   "execution_count": 145,
   "id": "77a8b092",
   "metadata": {},
   "outputs": [
    {
     "data": {
      "image/png": "[encoded data removed]",
      "text/plain": [
       "<Figure size 1440x360 with 2 Axes>"
      ]
     },
     "metadata": {},
     "output_type": "display_data"
    }
   ],
   "source": [
    "rate_points = [rate_compromised_vs_uncompromised_by_pool[pool] for pool in all_pools]\n",
    "\n",
    "eth_compromised = [t[0] for t in rate_points[:4]]\n",
    "eth_uncompromised = [t[1] for t in rate_points[:4]]\n",
    "eth_x_axis = np.arange(len(eth_pools))\n",
    "\n",
    "tkn_compromised = [t[0] for t in rate_points[4:]]\n",
    "tkn_uncompromised = [t[1] for t in rate_points[4:]]\n",
    "tkn_x_axis = np.arange(len(tkn_pools))\n",
    "\n",
    "\n",
    "fig, (ax1, ax2) = plt.subplots(ncols=2, figsize=(20, 5))\n",
    "ax1.bar(eth_x_axis - 0.2, eth_compromised, 0.4, label = \"Compromised\")\n",
    "ax1.bar(eth_x_axis + 0.2, eth_uncompromised, 0.4, label = \"Uncomrpmised\")\n",
    "ax1.set_xticks(eth_x_axis)\n",
    "ax1.set_xticklabels(eth_pools, rotation=\"vertical\")\n",
    "ax1.set_xlabel(\"Deposits\")\n",
    "ax1.set_ylabel(\"% of deposits\")\n",
    "ax1.legend(fontsize=13)\n",
    "\n",
    "ax2.bar(tkn_x_axis - 0.1, tkn_compromised, 0.4, label = \"Compromised\")\n",
    "ax2.bar(tkn_x_axis + 0.1, tkn_uncompromised, 0.4, label = \"Uncompromised\")\n",
    "ax2.set_xticks(tkn_x_axis)\n",
    "ax2.set_xticklabels(tkn_pools, rotation=\"vertical\")\n",
    "ax2.set_xlabel(\"Deposits\")\n",
    "ax2.set_ylabel(\"% of deposits\")\n",
    "ax2.legend(fontsize=13)\n",
    "fig.suptitle(\"Compromised vs. Uncompromised deposit rates\")\n",
    "\n",
    "plt.show()"
   ]
  },
  {
   "cell_type": "code",
   "execution_count": 146,
   "id": "903500e7",
   "metadata": {},
   "outputs": [],
   "source": [
    "txs = np.empty((len(address_and_withdraw_df)), dtype=set)\n",
    "for i, row in enumerate(address_and_withdraw_df.itertuples()):\n",
    "    txs[i] = frozenset([row.from_address, row.to_address])\n",
    "\n",
    "txs = list(filter(lambda x: len(x) == 2, txs))\n",
    "recurrent_interactions = list(Counter(txs).values())"
   ]
  },
  {
   "cell_type": "code",
   "execution_count": 147,
   "id": "178a6a52",
   "metadata": {
    "scrolled": true
   },
   "outputs": [
    {
     "data": {
      "text/plain": [
       "Text(0.5, 1.0, 'Histogram of transactions between heuristically linked deposit and withdraw addresses outisde TCash')"
      ]
     },
     "execution_count": 147,
     "metadata": {},
     "output_type": "execute_result"
    },
    {
     "data": {
      "image/png": "[encoded data removed]",
      "text/plain": [
       "<Figure size 720x360 with 1 Axes>"
      ]
     },
     "metadata": {},
     "output_type": "display_data"
    }
   ],
   "source": [
    "plt.figure(figsize=(10, 5))\n",
    "plt.hist(recurrent_interactions, bins=50)\n",
    "plt.yscale(\"log\")\n",
    "plt.xlabel(\"Pairs of addresses that interacted outside TCash\")\n",
    "plt.ylabel(\"Number of interactions (log)\")\n",
    "plt.title(\"Histogram of transactions between heuristically linked deposit and withdraw addresses outisde TCash\")"
   ]
  },
  {
   "cell_type": "markdown",
   "id": "b68ef656",
   "metadata": {},
   "source": [
    "## Heuristic 4 \n",
    "\n",
    "### Description\n",
    "If there are multiple (say 12) deposit transactions coming from a deposit address and later there are 12 withdraw transactions to the same withdraw address, then we can link all these deposit transactions to the withdraw transactions.\n",
    "\n",
    "In particular, given a withdrawal transaction, an anonimity score is assigned to it:\n",
    "\n",
    "1) The number of previous withdrawal transactions with the same address as the given withdrawal transaction is registered.\n",
    "\n",
    "2) The deposit transactions data are grouped by their address. Addresses that deposited the same number of times as the number of withdraws registered, are grouped in a set $C$.\n",
    "\n",
    "3) An anonimity score (of this heuristic) is assigned to the withdrawal transaction following the formula $P = 1 - 1/|C|$, where P is the anonimity score and $|C|$ is the cardinality of set $C$."
   ]
  },
  {
   "cell_type": "code",
   "execution_count": 96,
   "id": "99b95f3d",
   "metadata": {},
   "outputs": [],
   "source": [
    "with open('../data/tornado_pools.json') as json_file:\n",
    "    tornado_addresses = json.load(json_file)\n",
    "    \n",
    "withdraw_transactions_df = pd.read_csv(\"../data/lighter_complete_withdraw_txs.csv\")\n",
    "# Change recipient_address to lowercase.\n",
    "withdraw_transactions_df[\"recipient_address\"] = withdraw_transactions_df[\"recipient_address\"].str.lower()\n",
    "# Change block_timestamp field to be a timestamp object.\n",
    "withdraw_transactions_df[\"block_timestamp\"] = withdraw_transactions_df[\"block_timestamp\"].apply(pd.Timestamp)\n",
    "# Add tcash_pool column\n",
    "withdraw_transactions_df[\"tcash_pool\"] = withdraw_transactions_df[\"tornado_cash_address\"].apply(lambda addr: tornado_addresses[addr])\n",
    "\n",
    "deposit_transactions_df = pd.read_csv(\"../data/lighter_complete_deposit_txs.csv\")\n",
    "# Change block_timestamp field to be a timestamp object.\n",
    "deposit_transactions_df[\"block_timestamp\"] = deposit_transactions_df[\"block_timestamp\"].apply(pd.Timestamp)\n",
    "# Add tcash_pool column\n",
    "deposit_transactions_df[\"tcash_pool\"] = deposit_transactions_df[\"tornado_cash_address\"].apply(lambda addr: tornado_addresses[addr])\n"
   ]
  },
  {
   "cell_type": "markdown",
   "id": "c3b64822",
   "metadata": {},
   "source": [
    "### Function summary: compare_transactions\n",
    "\n",
    "Given two dictionaries, withdraw_dict and deposit_dict representing the total deposits and withdraws made by an address to each TCash pool, respectively, compares if the set of keys of both are equal and when they are, checks if all values in the deposit dictionary are equal or greater than each of the corresponding values of the withdraw dicionary. If this is the case, returns $True$, if not, $False$."
   ]
  },
  {
   "cell_type": "code",
   "execution_count": 97,
   "id": "007ba216",
   "metadata": {},
   "outputs": [],
   "source": [
    "def compare_transactions(withdraw_dict, deposit_dict):\n",
    "    if set(withdraw_dict.keys()) != set(deposit_dict.keys()):\n",
    "        return False\n",
    "    for currency in withdraw_dict.keys():\n",
    "        if not (deposit_dict[currency] >= withdraw_dict[currency]):\n",
    "            return False\n",
    "    return True"
   ]
  },
  {
   "cell_type": "markdown",
   "id": "8c64bbb7",
   "metadata": {},
   "source": [
    "### Function summary: get_number_of_withdraws\n",
    "\n",
    "Given a particular withdraw transaction and the withdraw transactions DataFrame, gets the total withdraws the address made in each pool. It is returned as a dictionary with the pools as the keys and the number of withdraws as the values."
   ]
  },
  {
   "cell_type": "code",
   "execution_count": 98,
   "id": "3bfab988",
   "metadata": {},
   "outputs": [],
   "source": [
    "def get_number_of_withdraws(withdraw_transaction, withdraw_transactions_df, tornado_addresses):\n",
    "    \n",
    "    n_withdraws = {tornado_addresses[withdraw_transaction.tornado_cash_address]: 1}\n",
    "    \n",
    "    for withdraw_row in withdraw_transactions_df.itertuples():\n",
    "        if (withdraw_row.recipient_address == withdraw_transaction.recipient_address) and (withdraw_row.block_timestamp <= withdraw_transaction.block_timestamp) and (withdraw_row.hash != withdraw_transaction.hash):\n",
    "            if tornado_addresses[withdraw_row.tornado_cash_address] in n_withdraws.keys():\n",
    "                n_withdraws[tornado_addresses[withdraw_row.tornado_cash_address]] += 1\n",
    "            else:\n",
    "                n_withdraws[tornado_addresses[withdraw_row.tornado_cash_address]] = 1\n",
    "    return n_withdraws"
   ]
  },
  {
   "cell_type": "markdown",
   "id": "10b58718",
   "metadata": {},
   "source": [
    "### Function summary: get_address_deposits\n",
    "\n",
    "Given the deposit transactions DataFrame, returns a dictionary with every address of the deposit"
   ]
  },
  {
   "cell_type": "code",
   "execution_count": 100,
   "id": "1ee80396",
   "metadata": {},
   "outputs": [],
   "source": [
    "def get_address_deposits(deposit_transactions_df, tornado_addresses):\n",
    "    \n",
    "    addresses_and_deposits_counts = pd.DataFrame(deposit_transactions_df[[\"from_address\", \"tornado_cash_address\"]].value_counts()).rename(columns={0:\"count\"})\n",
    "    \n",
    "    addresses_and_deposits_dict = {}\n",
    "    for row in addresses_and_deposits_counts.itertuples():\n",
    "        if row.Index[0] in addresses_and_deposits_dict.keys():\n",
    "            addresses_and_deposits_dict[row.Index[0]][tornado_addresses[row.Index[1]]] = row.count\n",
    "        else:\n",
    "            addresses_and_deposits_dict[row.Index[0]] = {tornado_addresses[row.Index[1]]: row.count}\n",
    "            \n",
    "    return addresses_and_deposits_dict"
   ]
  },
  {
   "cell_type": "code",
   "execution_count": 101,
   "id": "8ea6be0e",
   "metadata": {},
   "outputs": [],
   "source": [
    "address_deposits = get_address_deposits(deposit_transactions_df, tornado_addresses)"
   ]
  },
  {
   "cell_type": "code",
   "execution_count": 68,
   "id": "353ed448",
   "metadata": {
    "scrolled": true
   },
   "outputs": [
    {
     "data": {
      "text/plain": [
       "{'1000 USDC': 2, '100 ETH': 1, '0.1 ETH': 1}"
      ]
     },
     "execution_count": 68,
     "metadata": {},
     "output_type": "execute_result"
    }
   ],
   "source": [
    "get_number_of_withdraws(withdraw_transactions_df.iloc[2], withdraw_transactions_df, tornado_addresses)"
   ]
  },
  {
   "cell_type": "code",
   "execution_count": 69,
   "id": "371a527f",
   "metadata": {},
   "outputs": [],
   "source": [
    "d = {'1 ETH': 93,\n",
    "  '100 ETH': 4,\n",
    "  '1 WBTC': 3,\n",
    "  '0.1 ETH': 1,\n",
    "  '0.1 WBTC': 1}"
   ]
  },
  {
   "cell_type": "markdown",
   "id": "84311b26",
   "metadata": {},
   "source": [
    "### Function summary: get_same_or_more_number_of_deposits\n",
    "Given a number of withdrawal transactions, the function registers all the addresses that have made that same or more number of deposits. Returns an array with all the addresses that match these requirements."
   ]
  },
  {
   "cell_type": "code",
   "execution_count": 70,
   "id": "eb51f8c7",
   "metadata": {},
   "outputs": [],
   "source": [
    "def get_same_or_more_number_of_deposits(n_withdraws, address_deposits, tornado_addresses):\n",
    "    \n",
    "    return list(dict(filter(lambda elem: compare_transactions(n_withdraws, elem[1]), address_deposits.items())).keys())"
   ]
  },
  {
   "cell_type": "code",
   "execution_count": 71,
   "id": "b688e031",
   "metadata": {
    "scrolled": true
   },
   "outputs": [
    {
     "data": {
      "text/plain": [
       "['0x6e8df51931f8675cf7e12447e1fe25b26c8775c7']"
      ]
     },
     "execution_count": 71,
     "metadata": {},
     "output_type": "execute_result"
    }
   ],
   "source": [
    "get_same_or_more_number_of_deposits(d, address_deposits, tornado_addresses)"
   ]
  },
  {
   "cell_type": "markdown",
   "id": "82151503",
   "metadata": {},
   "source": [
    "### Function summary: get_same_number_of_deposits_heuristic\n",
    "Given a withdraw_transaction and the deposit and withdraw data, compute the anonimity score of the transaction, based on this heuristic."
   ]
  },
  {
   "cell_type": "code",
   "execution_count": 366,
   "id": "4f955bc1",
   "metadata": {},
   "outputs": [],
   "source": [
    "def same_number_of_deposits_heuristic(withdraw_transaction, address_deposits, withdraw_transactions_df, tornado_addresses):\n",
    "    # We calculate the number of withdrawals of the address from the withdraw_transaction given as input.\n",
    "    n_withdraws = get_number_of_withdraws(withdraw_transaction, withdraw_transactions_df, tornado_addresses)\n",
    "\n",
    "    # Based on n_withdraws, the set of the addresses that have the same number of deposits is calculated.\n",
    "    C = get_same_or_more_number_of_deposits(n_withdraws, address_deposits, tornado_addresses)\n",
    "    \n",
    "    # Since there is a chance that the cardinality of the set is 0, we handle this case and return the anonimity\n",
    "    # score.\n",
    "    try:\n",
    "        return 1 - 1/len(C)\n",
    "    except:\n",
    "        return 1"
   ]
  },
  {
   "cell_type": "code",
   "execution_count": 367,
   "id": "c6251aa8",
   "metadata": {},
   "outputs": [],
   "source": [
    "def apply_same_number_of_deposits_heuristic(deposit_transactions_df, withdraw_transactions_df, tornado_addresses):\n",
    "    \n",
    "    address_deposits = get_address_deposits(deposit_transactions_df, tornado_addresses)\n",
    "    \n",
    "    tx_hash_and_anonimity_score = {}\n",
    "    \n",
    "    for withdraw_row in tqdm(withdraw_transactions_df.itertuples(), total = withdraw_transactions_df.shape[0], mininterval=5):\n",
    "        anonimity_score = same_number_of_deposits_heuristic(withdraw_row, address_deposits, withdraw_transactions_df, tornado_addresses)\n",
    "        tx_hash_and_anonimity_score[withdraw_row.hash] = anonimity_score\n",
    "\n",
    "    return tx_hash_and_anonimity_score"
   ]
  },
  {
   "cell_type": "markdown",
   "id": "a084b57f",
   "metadata": {},
   "source": [
    "We apply this last function to our data and we obtain a dictionary indicating the score of each withdrawal."
   ]
  },
  {
   "cell_type": "code",
   "execution_count": 74,
   "id": "7fb18004",
   "metadata": {},
   "outputs": [
    {
     "name": "stderr",
     "output_type": "stream",
     "text": [
      "100%|█████████████████████████████████| 83782/83782 [5:58:23<00:00,  3.90it/s]\n"
     ]
    }
   ],
   "source": [
    "scores = apply_same_number_of_deposits_heuristic(deposit_transactions_df, withdraw_transactions_df, tornado_addresses)\n"
   ]
  },
  {
   "cell_type": "code",
   "execution_count": 75,
   "id": "4b4a45c4",
   "metadata": {},
   "outputs": [
    {
     "data": {
      "text/plain": [
       "{'0x3dc8617176f45c0f33a95589c202b22f9ba8aa7067bb92887517e20b237907e3': 0.997737556561086,\n",
       " '0x3199144ba98021e523c5ec1e4f4dcf64446d69b825da7251d2d2a0a794038d0d': 0.0,\n",
       " '0x95a46a1305ddc8b7e01d82c7d6766fce4713c085929f70c9a24e90f927672699': 1,\n",
       " '0x172a0a1618aa6c1f9f27a370236d8c91156fd6192ad11b91faa77bb852599b76': 0.9975,\n",
       " '0x30becee80e63a039102df3b1243e5d314534abfcf3ed0fc4eadb2dc5b1c45ab7': 0.9998073959938367,\n",
       " '0x5ef2e6d75efa800f009a84b27ae22609597edee8df8ee8699c004af233cf5855': 0.9998073959938367,\n",
       " '0x59d6d259118b41170550e5662c35b20c1b8ba795e420f6ce7a74772a9a834492': 0.9997776295307983,\n",
       " '0x805b2ae79b5267a23e6c79d3324d43dae0f64e81f77f166c09dca9ff46cfc955': 0.9997776295307983,\n",
       " '0x099005f439f7d44f5542af236dfd0ba7d93c75e9a32887950953f57cee730793': 0.9990583804143126,\n",
       " '0x95d478a0b607f7c0d27ab1b522ce47c67c8281200154097a95f8fc0307ca67c4': 0.9893617021276596,\n",
       " '0x795de0514ec2b5e9421a0730c5d837c4ac3387d7cfb19f9f81f00601d9a781ac': 0.9997814685314685,\n",
       " '0xc88addb452a33385ce282b973ccc7a72c9631d4fa3e46803eb758f6cbab68f69': 0.9968152866242038,\n",
       " '0x3287a448c2ec9fc4d56aa8edacf54f09ada9e6b61c06217793bcd5f18bd507ef': 0.9997776295307983,\n",
       " '0x6e82ebc43d2ab6f35f92c3ab47830825c8da6ef7e2b7d781d342734ca196cbc2': 0.999474513925381,\n",
       " '0xc58ab4ac13733cd29036474ff266de01a77bc4709987103981ce10e09cb01887': 0.9995427526291724,\n",
       " '0xd010e6ee5c1b950efae78e98a4362d472632c45f10d3dbe86041add96f413456': 0.9984025559105432,\n",
       " '0xbcccfe02d9c61a23d16f2f125cb3d9af217eca12bbcab4bafe7fdd5e0dd06c00': 0.999474513925381,\n",
       " '0x0522f42e9d8c54d74ca2832c6fe9564e83427c02e296689008728943b6b8d0f6': 0.9997814685314685,\n",
       " '0x6270c854c4c5ffa6a8a5cab14ca7d66eb74d50cf1d477a7081726d565e57ce78': 1,\n",
       " '0x73da4a748d0a995e9747ceba4c0de24f6bb788771186e922b8fc3478d3c45694': 0.0,\n",
       " '0xb0835cab1d39dfcc6e43f5382adb9a14eff1b659406670597c2609b78e45345e': 1,\n",
       " '0xa680b214339c9f0f5524887dbb2e3230315f81ea8571357c2e04e4ec9caab070': 0.9997776295307983,\n",
       " '0xd7f1573c64c3f280dd3f3dfe18b9fd280accb064853350944ac7ab83ce3b0da3': 0.9975845410628019,\n",
       " '0xea58246c0f1b2c1f1f1d889b1f77fd0c3e080407d038ec1efc9a9cb8ad5865c2': 0.5,\n",
       " '0xdd06ba3b7f087b3d1cf37467e35c9690df0e04e10f95497a053b20947427a982': 0.9984025559105432,\n",
       " '0x74d9fae2ee708e181855511dccbcd598b04928cbe68d9f3dd5a47a3740e0f144': 0.9836065573770492,\n",
       " '0x4852f7b0308a994fc8fc189cd64e5a01799c2103478ea4072003e57f3513df42': 0.9836065573770492,\n",
       " '0x20b8629fbeb53e7817df0a1141e649349410691296450f0f8d4a6cbd5e4006f6': 0.9836065573770492,\n",
       " '0x6c13a508e163899a5979d75aee21f52caabc8b20acbe01d95632ed185d22a765': 0.9954954954954955,\n",
       " '0x06c417630b779ae0443fe1ad8af778ec555255684193d76b70e2a9bdb8bdbc15': 0.9983525535420099,\n",
       " '0xe970c5124bf8e3566ce00bfee96beea45b041f98c3909882e242bee662de5e16': 0.9983333333333333,\n",
       " '0xe05689ed3dbf78194eb3cc3f7c6a63d79f0d93a647520340ce798c1dce4ffcd9': 0.8,\n",
       " '0x3be9dcff05d9011abb3a1972f5963df4e7da5113580d74bac4ffeed616402260': 0.9916666666666667,\n",
       " '0x02caa4d65b115fbf1de669156c245db518eba13fa7b277fc4c09d33df0d12215': 1,\n",
       " '0x20044b1c5e845b69ff0f51e3b11052570557e8dc12f3ae1342692d5ad14cda2d': 0.8,\n",
       " '0xe0aaaeb519fc531d3f776658b401dcacdf5cd87e51095e765c82d2ff6bf9c637': 0.9901960784313726,\n",
       " '0x721e675ee2da612e4ad766e0294f777cd67827579bc0064bdb03309c2076d325': 0.9901960784313726,\n",
       " '0x3c97bd7fab6f1ef002c4c063fa6bc2ac5083c07176cbeaca2e583469c36fb7c2': 0.9901960784313726,\n",
       " '0xf6743cee46460fe1e86fc3500896b99f5bf8bfde2534b0386121c045985d57fc': 0.9901960784313726,\n",
       " '0x77895ff5eef237990142df33f765d21da8fcfb94eaa5a9cbef5d8ae34ab51dae': 0.8888888888888888,\n",
       " '0x9f0e718c2770c56b44644592d2b0ecf2f3c5c7e5bfd51a2327d912dacf104ee3': 0.8333333333333334,\n",
       " '0x81284a30aea10d02ba0a982616e961ed38612ee7092c916f3a49bd485bd4e602': 0.9901960784313726,\n",
       " '0x16806c66cfda8d2bc789de911c3dde766ec9919b3f953a48a0e882da341d0101': 0.9901960784313726,\n",
       " '0xb286bf92448d1551fd3be5fb97709d1015086118437db3e60ba70f7f4dc816a1': 0.9901960784313726,\n",
       " '0xec120959c97dd2db4f5030e530445cebf559122aee7fa39e7a20cef98abfed89': 0.9901960784313726,\n",
       " '0xa8508cc4d1bae7b5244c6ccfaffd21cfa43cc09504627fde1a58d2ff178bfca1': 0.9615384615384616,\n",
       " '0xe802e91dd51c794dd8f05a11cd43e8d4d8f99197737b41717e20c70f3891b197': 0.8888888888888888,\n",
       " '0x1916dc97c2ba03be9c89ec5694dbac38a9129f0f17033e656be0113903ad0167': 0.9901960784313726,\n",
       " '0xeb8cfa341ee447f15a82f5e4c705dbe617b0d2150d01c558744911d9651ccff0': 0.9901960784313726,\n",
       " '0x3ef076bef26c1d3a8fd871ecbd125f98c2bb85d4fb4bbd60b2e58371e4ef4a7b': 0.9901960784313726,\n",
       " '0x25c5f8a7eac70b0f8029c05cb6429705ff3ee47083ff4fab8adb8adf6ae2fd4e': 0.9901960784313726,\n",
       " '0x7b6cb5ddb9cfbbc77d0be509beed8de20a8c768733048581b226059fa0f3c960': 0.9,\n",
       " '0x894296dde6c7de36247cbb49a576f0511dba682980e776c36f07577ca9ef7250': 0.9903846153846154,\n",
       " '0x12265a26081e9847549287523d17225ec514ea658e4e13177a3fcb70e67ea914': 0.9956331877729258,\n",
       " '0xf5df899f62e015fddb56b94d6dc456445540615eb6dd004a860d7e2602886527': 0.9705882352941176,\n",
       " '0xfd1d7338e81087d4b58de953974d9f71d625ab1a77a86ac7933e8b98bfff9cc8': 0.9988998899889989,\n",
       " '0x48c772aa969f9a4a02c4978614484b16a8c1c2a8188ecb2d0eba29fff60b4634': 0.9545454545454546,\n",
       " '0x352a009d0c5322378c4b7bd65e6a14505340a6a50066c65cfea827bc431ab4cd': 0.9,\n",
       " '0x647131e0c1bd156a9326e72bdd016bcb68e6081e7d5edb794245acfef47ca337': 0.9990583804143126,\n",
       " '0xe392b971ac99ab2337caf1cdbeddac64f4807effbbcdee5a17841ee25041389c': 0.9090909090909091,\n",
       " '0x7d31ad9a74c11c651878d774ba4c0e848bcda8fb88675995b9f51f2f0a894c57': 0.9997814685314685,\n",
       " '0x277a5fe54f13299775153e1da8d000ceb65fbb88b4da8685c91450cd95249763': 0.9883720930232558,\n",
       " '0x5627048ea10fc55e274a2ad08c294d9588c1a94f9df91780ab5169a875aaa622': 0.9997814685314685,\n",
       " '0xd6e4a2dea00136a95080c84925555716b29452e00160eca4c6ff06f5420fad5a': 0.9916666666666667,\n",
       " '0x669d31652d27d2a4cc19a153029239693782ae0c3619da8c5ea3a227dfa7dcc9': 0.9473684210526316,\n",
       " '0x52a1ca8f1653bd11f5ffbc083c912073726822d184a864b0660a23a6f646f92d': 0.9990196078431373,\n",
       " '0x463d452ab70b4ae92e2bfb7e4c1d48e1d72c06d1b31cb5961fcaac738761a3de': 0.9998073959938367,\n",
       " '0x89902ee183382afdad638b0ea4574006bce5697363ee4c6f664fa36afb340427': 0.9990583804143126,\n",
       " '0xa7cd71de1a5665f7adea4687f1d65d3204b831c0670f57733d68803cb65eeb0f': 0.997737556561086,\n",
       " '0x89f6eaa0d59fa1cf45f4407435185a8a51d79f0e38b3bbdd0dcdb042616e7af8': 0.9994772608468374,\n",
       " '0x14e9a5f5ec67b323277418741d663705246513fa46fb0744608fd2fbfa8c1a69': 1,\n",
       " '0xa8ea182512557eb103ccada4f016074de91ef1d35b20c72800512663ca9da703': 0.9962825278810409,\n",
       " '0x8ceefa040af20e6fef2c3f03150276189fafce54a55ab354f84a46a97b4cb0a6': 0.999474513925381,\n",
       " '0xa4e292116f76b7e943644a99de1000e62e948879b8ac9f6b48e211981518a57a': 0.9836065573770492,\n",
       " '0xf8996e1b5603863bd61839bb5f86dba39ce00cc2b64c1e08f31ddaefc2bf1a53': 0.8571428571428572,\n",
       " '0xb79f0ffb3efe05463611b9c1bf5d45de87008e8d10e0cc571a4bcd54f2ad72d3': 0.9983333333333333,\n",
       " '0x3bea2072ad9c7731bea36ddf6a9d7d8a07fdb890ccfb09468fb38d07ad04f10e': 0.9875,\n",
       " '0xe47dd93469843d79ed73c1727e66eb6651c2e39c062e5240ae68e5b0836b2538': 0.999474513925381,\n",
       " '0xa080833e4fe0accecb75ef2ff0284eb8b7ff141c96a562884e9f7def446c83b2': 0.9935064935064936,\n",
       " '0x8a37f1d0dc81689408b09b6001c28b0517c3599accbbdb4963e04b5f73b5eb08': 0.6666666666666667,\n",
       " '0xa2c3ba2e4fdd1acd0b8ec4f00f5eca5333317dcfcc58904ab14c825734a29cb3': 0.9983333333333333,\n",
       " '0x72f736ff2ee1b795270043ecc204cca18890d5ab98f67ccd944b5b96851cd8a3': 0.9894736842105263,\n",
       " '0xa498be66a8d01176236a6e9f82fd86744ec3bb97408d73619c03396ef27e8945': 0.9994772608468374,\n",
       " '0xa8f2c70c833c70ef35dd4f37e3ea130c95904167f4b4b0ce65553067d4122685': 0.9883720930232558,\n",
       " '0x09befad9dca4003d44b6bf05c5e24ec6e88500f0cca9b8d134491040b36bb9ed': 0.9411764705882353,\n",
       " '0xfd1997aeb5f6388479e8fb09cd0b6c8fa4dfc1ea1e1127e0edf6caed68e92c84': 0.9956331877729258,\n",
       " '0x135accb8c2bf248c9c00d896dfe0460ac95a0c87323f55513bb7474ab57af785': 0.9880952380952381,\n",
       " '0xa5a6a734fbbc72a149400c2e474ebe351a935e3daab28156e8450d49be7ab66b': 0.9980582524271845,\n",
       " '0x6201c2e76f48197be4b0a50b751a66b776cda4a666fe51be9c6ea41bbd83dd2b': 0.997093023255814,\n",
       " '0xc36a08c813d25ba7c93e0cdbe9be04c80a30b5c1c8e7ba867c8a53be0cdab204': 0.9928571428571429,\n",
       " '0xce340121fad6c4929750618105c7fa0293cd7b58f9240308ff1c4a181787b282': 0.9928057553956835,\n",
       " '0x6f602511ff0ca965a50ff6d839c50dd14ca402e4569efb15d37e7882e9768ab8': 0.9990583804143126,\n",
       " '0x08392bb4c040ca0558c4404678e67e6adb7b730068269beeced2c8593cc139af': 0.9984567901234568,\n",
       " '0x700367410337a38005d85d36eb64ec5375c563edae57ac5a76d041eb7c727d3f': 1,\n",
       " '0x1f51387ee5cba1fb86eb058b070da73ed375cf9152f40a0748ba73cb968d63fa': 0.9984567901234568,\n",
       " '0xe5381aca9901f158142e8194e613aa4151dd6fd1e47c663e2bc6452a510c64aa': 0.9166666666666666,\n",
       " '0xac0d0fae605c39f855f34ca844f31c42683d9f9cc035b42baf55eb4e22ee11a9': 0.9997776295307983,\n",
       " '0x45252a417d795b1cf89857b225550fdde59d46b159fae59f5c644e5a2ef32a6d': 0.9883720930232558,\n",
       " '0x4382dd6049828e1b86974483f3ed608f7f0d094c0091ba9cfd8dca7876f4e5b2': 0.9985734664764622,\n",
       " '0x52ff41b529150b9a7f29c25810728416fe4dd246e770494789b548b11544db92': 0.9963768115942029,\n",
       " '0x8094ced72872a385d79dfca07cb7766c4c95154b40b0e08dfa68a419c09195b8': 0.9918032786885246,\n",
       " '0xed295752d9f2a3f77d61d41ab0f9c4d001d4c9c7efabf4955ff11dbfb32d9568': 0.9990583804143126,\n",
       " '0x51f574a87ecf605e4651702ec66cb824fe9b341c4d5852c194b7fc0d940b9f44': 0.996,\n",
       " '0x36ad6b6ec45741023aab64c994da5f36f525de717541d89aff8b65808fe7b1e3': 0.9997776295307983,\n",
       " '0x811b3bcbc2eab068d5d07d387a31160221e629c1033840028af7820a2c1c5a86': 0.9777777777777777,\n",
       " '0x8a44f961983a091d116112c45255f119b176d508a1b0429c0c9074c3527486db': 0.997737556561086,\n",
       " '0x6917698311e39ffb6680d4f95b5aef10f48deb3698eb25fb4a4dd75d892d5dd3': 0.9928057553956835,\n",
       " '0xe6f93b4e370933b2adc79b96042908e1e0c9fd8c7df505e0850a9a0895a30160': 0.9990215264187867,\n",
       " '0x433db1447dd55ce677239c47cc320e59af20724b7ea5bd2ab8e50325fecfa619': 0.9938271604938271,\n",
       " '0x8e0c59c09ebed7bca3021d11e61291cbb2c83f2346553ba7c41bb038e34f2fbe': 0.9983525535420099,\n",
       " '0x0a4b104257064577aa7614e919d7416304de8354af7c7866336f92937b3dda2b': 0.9411764705882353,\n",
       " '0x2ee715e46cc1050ac2b380ef32fb263f05c456ad7e74232051d06ac74550e3ab': 0.9997814685314685,\n",
       " '0x918934840840d9c204372b321fcf687851170eb6efb5b565fbfc66698e3a7164': 0.9230769230769231,\n",
       " '0x352ea27d81ace55635c1367818a1c6f38068f6417f0b352c71ff0c5ce0cf3f3e': 0.9565217391304348,\n",
       " '0x4b9f3f40cbc9539ff1b3a3c261892dcf6ad34a784fc86ea5a8636a577520c2ba': 0.9565217391304348,\n",
       " '0xc03fb0ddc1c4fff2873309b8c2a99725cb0a0f1e45dc740c7ddbdea599d4d38c': 0.9947089947089947,\n",
       " '0xd3186b36c6c0429a59a7e59f5627151186babb5d599f29e63d6d5c016ea33781': 0.9984567901234568,\n",
       " '0x151df1afed3bfcb997c9a47629d316a666ae8e092a3ead573f9374751941a164': 0.9787234042553191,\n",
       " '0x7bda9902a7ac768bf26c9d6ead68394dc41d8a943f90a493e0aec01c5e6cc6e4': 0.9230769230769231,\n",
       " '0x23726ae10e141e7a9506798fdf7e416611645ecefcbf776420c39dd9b2c71761': 0.9942857142857143,\n",
       " '0x8374bf04d8c847dfcb0cd7ff19fd556a31b5faf5280026d727773f95f974c347': 0.9997814685314685,\n",
       " '0xe889a8e958928ff9535d12d6560a9332972bcfb329b2e94ec87beb4b3e5841b3': 0.9988998899889989,\n",
       " '0x45c334ca1abf65f53b7f9e13f93a18e4ba7335a869ee422926efee3ed1723035': 0.9965986394557823,\n",
       " '0x33ff40cdb0e9e6939961efe418413f298c7adab4d4d674a352329ce3fa8fe252': 0.9976635514018691,\n",
       " '0x57cd70073a7657f70e5d2b4514c88304b1977570c27d8243781d070c5198a2d0': 0.9916666666666667,\n",
       " '0xbdcc1fb169e85c2ef5f362bf4015d334c524c86b15c1cfdcecfc62abec3f14e6': 0.9988998899889989,\n",
       " '0xc5368921fb80ee1fd3fd2aadb4227146e00479f75b245fece7831d2181f4b394': 0.9880952380952381,\n",
       " '0x2c0553c72a0d59bf4b6e7809bf68f6876f68f995fe727dbf22ec5cf5fe0b562d': 0.997737556561086,\n",
       " '0x0f62c836b549d611218f083df28eff53108fbec653d8bdc7a020bf53b6b7a93d': 0.9975308641975309,\n",
       " '0xe7a75d268fb4341e717613374b0ee4e95b2413b71ebee64d872285ebe4870583': 0.9375,\n",
       " '0x51861e89ddb63d548a3589d8c838daf788eb29a8ef0c987b3c144e8841b0748c': 0.9990583804143126,\n",
       " '0x9a61a15a6aa62b164fd117324b93f98fbf11b7bf566fd7c4276e9ab875d8f5cb': 0.999474513925381,\n",
       " '0xcc7a2b71e1afa88f3294c4b524069bef6e835760c8219bf81d3a47e7e69ded66': 0.9990215264187867,\n",
       " '0x55c27d5860d47479f64c114bd7300a12e5d5056b4f15141738518d9a2332be32': 0.9988998899889989,\n",
       " '0x135493ef51e11813732a99641c721ecfcb695b0807df9ebbe7095be5d52b0246': 0.997737556561086,\n",
       " '0xc201b54358a32ee70c71b3872096e791477c364bc6a39b616b017fc512e9841b': 0.9988998899889989,\n",
       " '0xa6a2c2376f83c72ff432242a1cacea98e9964573cd61e1eefe54c6b48d87bd26': 0.9942857142857143,\n",
       " '0x3fb6a6c919abce139afc053fb4cfd95f97cd2f56be71c77756b018cf9a4372dd': 0.9230769230769231,\n",
       " '0xa1a915312924e9523960851b054f7b7cea49047cb01182dd5a235373ea25cadd': 0.9787234042553191,\n",
       " '0xeb0f414b36de1ecb7c99d6e6dd64df302632d0e0c2b39aa00f6acdb29bf99f28': 0.997093023255814,\n",
       " '0xf6d56c95ecccb49ba2be28246a48990197bbe9e9112366188d93af033c2c1ec8': 0.9375,\n",
       " '0x597a746f281ee5cdd19b4bd681060d75ca455ae523405db942c099299a539077': 0.9928571428571429,\n",
       " '0x3855309aa02099eda5a6b6802f3bbf29a1d435d3db79e8711d6f862d57ce8195': 0.999474513925381,\n",
       " '0x4e94711d1a4ce3be014c625681685e79c68573cb42072acc2591efbabb51008d': 0.9857142857142858,\n",
       " '0x96decd1544b2ce59274cea02b373ce02fc47e36a5265b1aca3aa10859196d0b4': 0.9983333333333333,\n",
       " '0x2ae85c8cdc1f3550391fac221df2713103f87c73c1a5dc0bca23585c0751d10d': 0.98,\n",
       " '0x72874f48b1670588ad61588fb70cab7557e94d8719fee87c6e9f47cbd7761aad': 0.9894736842105263,\n",
       " '0x74e280d3ca5706ba0a380ba5e8d79f7ecf948eeaf66ec44d2efb97e39e35aa69': 0.9983333333333333,\n",
       " '0x591f34e481b78af770ccbc9b03eb70dc3be8dd754a2e8466a5f4cf336e0b1f47': 1,\n",
       " '0xe3119e76e519b727c68ccf65fa0f8c502c8225214b7f28f6c29fa7d3d57fcf27': 0.9985401459854014,\n",
       " '0x9a0eb1db317003905f3dfda255870fa5b7d3c65db2b744e95b55e13db59a814f': 0.9880952380952381,\n",
       " '0xade99a9580db90f2021804676fc538b6af5b359c11252f69a6fe4f759b2ca0aa': 0.9928571428571429,\n",
       " '0xc9c4cdc9163d54475e1c8cf4d76a71daa7048e6c18f034e0d926dbffe3c42a3f': 0.9855072463768116,\n",
       " '0x1bc184a5dcb74020707fc6b652663f2db543e4d924d68aff857afaedc093e85c': 0.9883720930232558,\n",
       " '0x51bae9e6cb0b61fb04deedf2b0258465518b165b4fa8256eb284ea4fafc2d1aa': 0.9997814685314685,\n",
       " '0xe2e6dfcff6da2832bd32bc08d69ebf03bbe12ac0f6b281cc1704c8eea91aa07c': 0.96875,\n",
       " '0xa7c1db324312f374e2d6ad77b82ff312897960785f966604ae88eb73ce5df18e': 0.9990583804143126,\n",
       " '0x389be835397527ce4e4c58f6eeb5265284375b7cd377ebf74ae0db550ab19eaf': 0.987012987012987,\n",
       " '0x7fbca4b24d8bcb41836b69d7fd0b1399eb40916f229d17b1b001c3289385f028': 0.9994772608468374,\n",
       " '0x1197fa6987ef5f2f8f1e1d1e5399b37592ce204e1e0c45b738c06017386cf3f3': 0.9807692307692307,\n",
       " '0xc5f47eb09abaad68ca362b4e1874611263344d23b41064f6a7bf667efa8e9e31': 0.9994772608468374,\n",
       " '0x138a5e6989d13d30e2e7798f20d168a1d5125218ab35425eaa5308e12eda7607': 0.995,\n",
       " '0xa3ab3f170daad1d75094663d058bccf11970a8f0f47eb79b7be08c532f0ac43e': 0.9916666666666667,\n",
       " '0x3341046cb4aae348348557a3d417bb1d4c8741337652a028811dc6be63c97135': 0.9989293361884368,\n",
       " '0xe25b5dc204f2121e3f6e7ea25c331dce070b25096c0e559cc5482ba8d8e6a5c4': 0.995,\n",
       " '0xaafb67fdb628a5fff46052e453c1d916eeeb5acb821638b29c003ce3f786227f': 0.9995427526291724,\n",
       " '0x6bcf7bd1463729a8d79cafbcf1fbd480dbe7272e4302855633e424adb42acb20': 0.9938271604938271,\n",
       " '0xd28d36783412eed81f0333b27e3f32899d108d3c163d57acaec0e7045995a5b3': 0.9230769230769231,\n",
       " '0x1a4c6a8fc5cea47649d253d3d4f0432b658ed59c8ace330a1a29f2b4a83e4aea': 0.9722222222222222,\n",
       " '0x2b2c3d9cc81f00e05e633ed42ef4834abe3728eeb4a01502addd53272b345e40': 0.9968051118210862,\n",
       " '0x85543bd0699c27b58ffad3958e580364ab4557c97560eca0fff077e49c581eca': 0.9859154929577465,\n",
       " '0xf172ce5749f126ac7e4c1d3cd090415051edf6e5482a7ce69dac1cd27baaa01b': 0.999474513925381,\n",
       " '0xc45139fbd47fc3d8217bd401a11b9ecd14f8673a44a39615ad92008fbb5fff4b': 0.9988998899889989,\n",
       " '0xb7499069a608e48500571c049a0dc515a24e64e2ab76ee3cb1943d8395792e44': 0.9900990099009901,\n",
       " '0x7f7f3a1af2eb6c0665f479e8cfa18bafe2cf7ff03872eefc132c6fa7bf5bd5fe': 0.9166666666666666,\n",
       " '0x4e2086397e89f0ae0fdf1c50c701fdc3c1ca2233283cd3f554472a406973477c': 1,\n",
       " '0x350e0be7aec69976a59faa37fbe57f9cc04759fc87281423bb070080b86ee445': 0.9473684210526316,\n",
       " '0x7ef81b24f8587aa89a65a52ae870fd0206d03898774599d861700d3251d1f491': 0.9988998899889989,\n",
       " '0x334fc6a868d9bafae5b18ddb34827e5a0705c532030639cdeb62bdfff8fda7eb': 0.8571428571428572,\n",
       " '0x90d30c8b74882a8f6b3bdd96d945aea570d0f60608ac950a4637d2e186a97803': 0.9990583804143126,\n",
       " '0x2ec22d2fb18d4bc3e38d08e9e1bad511488225dc43b319316bb8f788325d253b': 0.8888888888888888,\n",
       " '0x51755123d69532df4e09bef02eca8ffa87ae4c87f79b0aea48d061414353327b': 0.9,\n",
       " '0x9954e61afb298d73a7ca45da503e0e54f1a4ddb0ff28ea809b7095a33b67ebad': 0.9976635514018691,\n",
       " '0x3d3f9c8ed21c00d1a400b324b132e3b82a63701b066e2470844ab71f830268a0': 0.9818181818181818,\n",
       " '0x434ac87be4bc5dc26ad785a9a2c456b9ae2631bed5a4baf1717f604748ddaf26': 0.98,\n",
       " '0x8c2085556c2817277291acf7e261de916491434e07e9bf88ca217373e4e546f8': 0.9938271604938271,\n",
       " '0xb2605bbe45240aaa47cb00a9a8764089a013e278baa697cf6a19b08700b6f223': 0.9994772608468374,\n",
       " '0xe25a57686fae0ff96a3c6c31d1b1133af24c00a729dcc876eea2fc7b0f90614c': 0.9944444444444445,\n",
       " '0x5ee7e416d441607dfab92734acbe90e9baf45b9b6119c5834b4cdbcb6e38e4b5': 0.9333333333333333,\n",
       " '0x78b19f884a049df84a35abe9eba3464e8740215bc7c0b7c2d06d8a1d619b6f99': 0.990990990990991,\n",
       " '0xf738b4f73cbfad1646f4e4a6d18c81bb4acf8a8a1a502e9dd3333270b60c64de': 0.6666666666666667,\n",
       " '0x163fadde5b0b60f1211da89e24a368571739de83572d57ebc75cd751dfac6a4a': 0.997737556561086,\n",
       " '0x6a08aff26cfe2f694bca3346e5be5de490f9e71313b0d293e547dfd09f828ee9': 0.9964285714285714,\n",
       " '0x83c4e9c0d87f2908c61a22e43f2f651706d96392289ff3a8a0e587d59a5734a6': 0.9545454545454546,\n",
       " '0xaf3e8165c2a76f3e5e931e29078114c422508d7561c259b4cea86e8da8e45ecd': 0.9962264150943396,\n",
       " '0xec7b90960699ea309206b966cbf07dcc245e6423d0f35565e2c9daa9fef8718e': 0.9913793103448276,\n",
       " '0x557a453742466a952d2841dca35a8df82225f358daf4364f532481c5e5bc2cf4': 0.9988998899889989,\n",
       " '0x5c9265f7da665cbf47680a9398830654342bde671204de6e7ceb2a078438f5b6': 0.9444444444444444,\n",
       " '0x59c9e0b35bb7afdd3039dce19fef01cb69ba9da6b8db69845e6248e153b5dc49': 0.9411764705882353,\n",
       " '0x8ea13b4b30b6bde309677c96ecf6b42ba00cb382c6109171107afa4c9b0a6a06': 0.9988998899889989,\n",
       " '0x2748a1ecb219ba1ab01e5a6f2ff5d8b6c7efa61187f2db853a1c2266fd42bf81': 0.9984567901234568,\n",
       " '0xbbc5d908185a12b0bf8ce06e5e372c1c4ab861c7220ee9683b7049612281a57b': 0.9938271604938271,\n",
       " '0xffb50e52cba9d31002f423622d5fc85156697789728565d0258e9a43c70da320': 0.9964285714285714,\n",
       " '0x2607b11af2b36a396e928cc7f7db96edc7697f5c720444335155ce4c09106bbe': 0.9975308641975309,\n",
       " '0x5c0db29519a4798a6347996b1a59b7235d9774db9d1ac96e635ef643409dbcf4': 0.9814814814814815,\n",
       " '0x8e1071759ea3e1471db9842ce592ffeb70a8dd97370d6d7f12dda7c9cf5f7b94': 0.6666666666666667,\n",
       " '0x877062944b9f2b235ca223efc4c40822d32a1905c9c3aa3d7d5d38458aff7447': 0.9984025559105432,\n",
       " '0xfe0fb01ed26d03078fa43da315418879f91a4f887d397f16f352e8f9a0ca1f61': 0.975609756097561,\n",
       " '0x639324e17d84174d51527fff99f776f0ad553099aa2ab758e6018c330b21035f': 0.9956331877729258,\n",
       " '0x8b089faa57eefdbdf2f3c4c8f4a4c6608f8e35c9bbeaa5010446db69d7e5c80b': 0.999474513925381,\n",
       " '0x33d8914efa48302791b3fa10bf6f7d9475f68ecfbfa9efcfae21949cc8f4dc6d': 0.9988998899889989,\n",
       " '0xba1ef2cd9b2478e6fe7a04c09b31835345b9a6027dc0195cd5d11976bfcdd414': 0.9285714285714286,\n",
       " '0x82d750e6e7b4ac8acd8c4b03684bd86dee3a9a7f57400f6e69f1482846e66ebc': 0.8333333333333334,\n",
       " '0x9c19cba9b190d5f03070aaec924fcb29626d636ed2dbf7b1796c0e6924604e2a': 0.9988998899889989,\n",
       " '0x5e2d14dc77ef7e81e83a168bfc8b815bcf488e44f3a20821ca1db8b27412878c': 0.9928571428571429,\n",
       " '0xab75992f211c4df9439950437656011cf98458c0d55a3c3be02a3ffd13eef3ac': 0.997093023255814,\n",
       " '0x0044a996f62a0c0d5248ed8c1a6c94fd2cd4c6d4bbb5c734b6f81251934f6664': 0.9976635514018691,\n",
       " '0x40a6d05d20cc2c8cdde97963c14bb05fd1ece9f2eae7956fbbbaac48951c7824': 0.996309963099631,\n",
       " '0x8eadfb1f48a832bd8e67712b4a2a1ffe2b6c082deae5e810ab63504ba322bf09': 0.9984567901234568,\n",
       " '0x3c0145f7a126351f72cbac14ca9115473315c89149cb2c9a828df0d4bfd00f10': 0.997737556561086,\n",
       " '0x498e54ec9092a8f5ab9f535e0c356de28a30df956eca1ee1ac2fad30e32f152d': 0.75,\n",
       " '0x685adb5460128aa89e6b2c58367c2b23bd5ea5f6e7344221dc2e9eca4b39fe25': 0.9983333333333333,\n",
       " '0x7868826547d31e83a101a275633d4b8ddba2eac3e4dbfe3a466a416287a352dd': 0.995049504950495,\n",
       " '0x535db75691e8c67d05595e9cf2e70b8aeff29dc8d87af855faa336a35b73d3e4': 0.9938271604938271,\n",
       " '0xdc49adb69212ca4ee333f54b0b50de3985a0fdd78236cf8ceafe29143bd4238e': 0.5,\n",
       " '0x380dae4e2c1a74ce3d5577c05249ea2622417f47bc13410d44869f9ea3555592': 0.9990583804143126,\n",
       " '0xf868d7e98161ce45f80e50eedf0addd30f124aed5da502b891988a46a15a19c6': 0.9988998899889989,\n",
       " '0x00dc8cb0e9c2db32c5dfc091a515702a1fd6680d332a093f19fee242910e8c91': 0.9880952380952381,\n",
       " '0x1d7c7036cfac3c40414b858ea9e66b3b5b1e8da240281f20ec12d9ce32896371': 0.9993734335839599,\n",
       " '0xd960648c9ea60cea7207fa1b270a36680e7936bf553c71d30c4d99676afa0e13': 0.9988998899889989,\n",
       " '0x995273dbb8710ff98fe9bffb4c9d04a62d1ef0004442be58984df6750059637b': 0.0,\n",
       " '0xb43ca19db4f35e6b39d79eec940247148d939d0bd8ed422f5abf832e1f0f7afd': 0.9988998899889989,\n",
       " '0x84e4d87d86becbaefbc72f73af642407fb3e1241ac1a211d4bfec2fcc346dc65': 0.999474513925381,\n",
       " '0x95595b2f427b33c3c6118ba403f9868e912fd96d771574ee0923391e29d28a3b': 0.997737556561086,\n",
       " '0xebe9546c05270e309e96792eb2e5691930b5c14c7f0af756e7cdfd6ba7a0233b': 0.9988998899889989,\n",
       " '0x0dcb29ebbead293eb1e38a54ec8998ef101d1ddc022dcc123350579dc8202453': 0.9824561403508771,\n",
       " '0xa09b250cdd96cde8280236bf7cdde45ee80cc4d7db0d7ea95b07c79a03aacbf6': 0.9928571428571429,\n",
       " '0x38a57cb491009f15fe42e58ce7a0694aa9d93670d2043ebea934d9cf32233597': 0.9984567901234568,\n",
       " '0x3e1fc977d8041734fe2c0f2ad1e44433def5c39be1bf0a2bee26e1ace4c890fb': 0.999474513925381,\n",
       " '0x3c1e1d6b5d541c4b87735a0348a50e8aac27b2efa9dc665c89d8121442e0885d': 0.9994772608468374,\n",
       " '0x55135a1c620649b8e2861cba0f646a104b952b4b67f3e65b4b64295057079049': 0.997737556561086,\n",
       " '0x4bb322d490594aff958ea7fac90f09e2967270a6769a541b13608ac32e455026': 0.9997814685314685,\n",
       " '0x1358d646c685fc358a84a5bd54d8556d95b52bff79491855cf3a60d3cb8251cc': 0.995,\n",
       " '0x16c15ef6ee14bb1b33b277f67f94528ec0926cc22c78dc1e3656891a5d53e846': 0.9565217391304348,\n",
       " '0x6985f90ff0da07dcc51ab12d09b1a1269a4279e325b67b7ba4b3afb929c70db2': 0.9989071038251366,\n",
       " '0x1f2f8872efed04af057373762b179d73ced342de76032efec12b53966861b351': 0.9928571428571429,\n",
       " '0x32508c7ea700e38f471698e9bb73093ab48d087c2ba6c718b5c790afaf1ffe2b': 0.9988998899889989,\n",
       " '0x66d2e63bb32ba596862e7efd6b3540599cbc8ce341fcd45ee345fbea7bfa14d1': 0.9722222222222222,\n",
       " '0x9978a5c2b447f3712138996e54ec776eb52d1d5ca31885a6c08de85917b5d1b9': 0.9942857142857143,\n",
       " '0xa849ecd8c36430651d15e4b6f5446f3463cc2a39a1b7af7e8336dcc437896893': 0.9285714285714286,\n",
       " '0xc210b360dfc141bd876fecd3410f860494130df6f7778953a53769200a1e09b0': 0.9928057553956835,\n",
       " '0x4466e7a2b432d917b91657425262123fbabc27fb0dadf0c542b67be4c83bd9f0': 0.6666666666666667,\n",
       " '0xcad14a808d11f3b47dd8cf9c0558f413d702d6a6a0e7d662b39b5cdc81cc40c0': 0.975,\n",
       " '0xf87f871f394c363e70c757a13eefe0583e8342ea7430aa95a6206fb37a9dda1b': 0.9833333333333333,\n",
       " '0xefd4d2a6db624d25e46fbb5f72e961e9af28a53e7588cfbeb757a52f1f1bb38c': 0.9411764705882353,\n",
       " '0x6f720e1a2850f4ea5b6b21aa0df1dac0a237281df32dd98cb0758e7147eb2ddc': 0.9962825278810409,\n",
       " '0x4667f47080a4f0637f28ec81c67a0781f9279d6cc1f105916dfc1b810448b214': 0.9928571428571429,\n",
       " '0x08be9e6d6a1aaa0dee6e4612625151f68ae78eb5237e5b600c04ec7c6cd2d6e2': 0.9473684210526316,\n",
       " '0xc2700c8899a64cf004f2b6ea243b593915f8fc0114b7d54bed767608fad36a08': 0.9947089947089947,\n",
       " '0x6c678c2f5c0be4e324123ecae36c2de047f23d462bcf5677bf0a8b20171086ae': 0.9995427526291724,\n",
       " '0x9f160cd4b88e7011b57478b51d2fdc49526571dd248d5d26064da831a3f370f0': 0.5,\n",
       " '0x821c45708182a88f3666b021ae0909a7435b4e916877242490e20ec1090f5a74': 0.96875,\n",
       " '0x493762a2b494f35b827665bca4e19b6374852f5828eb41a1893816c600e95678': 0.9655172413793104,\n",
       " '0x6f026d0c5ae925645e9a6517fa0cec22ef709f572d202c3eb80ec2fc4f35c710': 0.9523809523809523,\n",
       " '0xb25fcd84d75c20b894e52be2ec761520817c649d41057dfb8d50876234702805': 0.8,\n",
       " '0x5c5fbe045e5c32f9b8f0d3207bccd29f6ddef2df14e3defa4c97f2964e73966d': 0.9988998899889989,\n",
       " '0xd696f210234b5ac9dd7a73ebc1c2312dc6581ee48dd86afb7f2ad8f781e1af5f': 0.9969040247678018,\n",
       " '0x407f406ee5a1d922df28ec2a203906d68811094afb8c199357293f1f90a037e6': 0.9989293361884368,\n",
       " '0x8ca2857ea80ea836bc7d09ccf2cf2c9e14c6fbe8c4a0ad77676a728ade606bf4': 0.9969040247678018,\n",
       " '0xa59046fe388dabafb513fc04fbcb0234b89e880e4be42ab27d33f162d355e93d': 0.9994772608468374,\n",
       " '0xc532e012b0f28100c8059e1711ce00c31656eed98c719960f0c79f9a4cfe364f': 0.9994772608468374,\n",
       " '0xb1b2c9959c51d0a39bfe383b1f46af760e61615a818dc71c66ee519c3c7f4ae2': 0.997737556561086,\n",
       " '0xda7e93c13ee1404d2cce9e1ab2643850dbf077c2dcca7cbfa5a14abca69772e1': 0.9944444444444445,\n",
       " '0x15f6e41c6c3fd76f2696cb3431f8d0c12af9f60acb32d45258b9d0a2ce743bad': 0.9995427526291724,\n",
       " '0x55afdd4d98a4b4a5511bccab9ad2c63c3dd5b67ecf9e025a8b6c3781a77ca7ef': 0.9990215264187867,\n",
       " '0x91916e3d33a7c8d9d853aacb6d62cb610073422e3ee2fa2320a03f6586affbd5': 0.99800796812749,\n",
       " '0xf439aba28c5adaa0a8a436734be7f3c5b59d2a23681593275e3056c838305346': 0.997093023255814,\n",
       " '0x0218036c455367b146e0bc3f95b1aea3a2bad7e3010fbeeb316a3b6f4cbeb184': 0.984375,\n",
       " '0xbfaba65f0a54de6f7b7eafe25bf02501e3fe0296df8635b2ef199a9eea696744': 0.98,\n",
       " '0x69fa8a24a92b20d4f3b4925d854148a78ff482d275969dca2a62b294b7edef01': 0.9995427526291724,\n",
       " '0xf0b285e20dea38172b89e28274501faea7b8b0651b6f6c5cc1e8addc4a5ace48': 0.9990583804143126,\n",
       " '0x77c79cf5e1416107ad6fcfa4e468cbe884518f86ade1e1d0e3cefdeb848afbec': 0.9836065573770492,\n",
       " '0x2cae6468f3c4af084130743864e13e31cab32c30ece022e24d64be1274fd48aa': 0.9827586206896551,\n",
       " '0xac7c94aa1951bb63f1b07f460439b631bf3f6fc1c82359dcb326112ae5b95126': 0.9953917050691244,\n",
       " '0xe0ad8c54dcf8a385f20033b209b59726740c29cc0affa83a972c71b2ff82ee91': 0.9983333333333333,\n",
       " '0x12cd207bed5d9a79a0263fd77d5e24bad49069adc6c2274a9ca25832d46f454b': 0.9995427526291724,\n",
       " '0x1a2441d3aabf283998f575526bf4d86ae6b1e2c3fdbd00da990817ccd2d7b474': 0.9975,\n",
       " '0x58c696fa1b350166ebb39a2fa2df84895215d511d79fdcc32b446a24081f5d9d': 0.9956331877729258,\n",
       " '0x6b55978686e914a36aaf6eeec7649c6363270022f46fb8c9f9dc25d2d1eccc29': 0.9767441860465116,\n",
       " '0x673b6b69baa6a2c115ac060afd19e05aad02a16c38cc2c88d3c44a2b9bb4fae2': 0.9988998899889989,\n",
       " '0x535494a279f91a88ec998571c38b58e2b112f3c9052067aec918d4ba479f43da': 0.9983333333333333,\n",
       " '0x10c019ac0b16b1eb77f84f767607756baccad22c249621f47f0227caae788bb5': 0.9984567901234568,\n",
       " '0x4155a694d4ab1fc4f156f2f44358e56a144d671515f1a4bbc3731648f7cc6698': 0.9984567901234568,\n",
       " '0x51162c8a48c55bf23488a64e794425929a6e7c1f1503c8452c83d5a853dd649e': 0.9978118161925602,\n",
       " '0x661e366f088bedb0bb102b4a232364038a5c3cfd97adad84563d75057d812edf': 0.984375,\n",
       " '0xcb485e8320d1b4acb46bc06b1cf406c4eb841ef3f15dfed3795537c3c88043a6': 0.9967637540453075,\n",
       " '0x7ec409e068a19a269609087cf3c46707c5113609d82febbed818edb2dbf0e66e': 0.9998073959938367,\n",
       " '0x20c5cf29d73bf8ebe7565cfa57c294913db8b82d5ad5504c4187716a4eac9dc8': 0.9994772608468374,\n",
       " '0x8837889b0b444a8e4f10b51ea3b2e1df83f616ad36251bfe221ee3f537b7f211': 0.6666666666666667,\n",
       " '0xc6c584000aeefc18e4c2404882c0b5ac7c55bb83ef2bb370477136e6e8349802': 0.990990990990991,\n",
       " '0x91a0bab68df934629859e31b9efdc09b6555175cecd4bf930316f6311b46b7c5': 0.9953917050691244,\n",
       " '0x5eaf99d6c3e8bc9a82b8e231c22ceeccb31b2eb0a7050c2c12ff2d0770781ca2': 0.9962264150943396,\n",
       " '0xf6f79097c40145e97da6759fb8a6f76f43c5cae44d162f4e7358b01acf15a356': 0.9166666666666666,\n",
       " '0x29082fe4a0b5851210769d5b9ca37b67f8b5f224939f14026969747d871b9f80': 0.9993734335839599,\n",
       " '0x0c8d679fc1b6bb4868afe362c5173a55758a564e741aa72d21a6dffa73df0f29': 0.9811320754716981,\n",
       " '0xe979b218507ed97b29c4c449a50b2a5261efa34fe6dfd3bb6b1c3e0da1ca2f3b': 0.9230769230769231,\n",
       " '0x781477dbcea40d70ed7bff0a614c92214c844e511ae11dd925afce9b50c65849': 0.9998073959938367,\n",
       " '0x4f83678d485378de3994f027f259ecfa3585faacbcfbe33b194efe5f0b2517bc': 0.9988998899889989,\n",
       " '0xbb516be2da68687daccd40e5e1bd90e795d07fcdf5323a3f77c333474a830b2e': 0.9983333333333333,\n",
       " '0x4910aca0e476362d37e8788b07636aeffff3fbb0e4194ad4deb01051e93be00f': 0.875,\n",
       " '0x1fca64615a45cf6f6a26851e254d16230cf21e4ed9e60687f693a8b401dd1a43': 0.9928571428571429,\n",
       " '0xc46ac55227518b4d6f05e77a895e683ac94eb30eab05721cb56daa5a23e8f53e': 0.9994772608468374,\n",
       " '0xbc3c9ca45eec997c48d952a581781151963e39f97d2c3e8343a600ecf6a07a73': 0.997737556561086,\n",
       " '0xa2319ce55e0b80e634403d8c397a57f9251d291c6e74166406d5be2bab057a90': 0.9953917050691244,\n",
       " '0x51108fcd567ba4376c82c91320e4f7c956aa9365052261f7653c0aa7942c1569': 0.8,\n",
       " '0xeb0bba77601ee747de1da559ecb6f54f449b0a2c864a6de13bcd4de5cfa456a8': 0.997093023255814,\n",
       " '0x1bcccc71a5a0d9566f89ca072a2d51946b3ae0341756a6f08b29b9d2a1654261': 0.9994772608468374,\n",
       " '0xf8aac98d5d7bfed8c7da801faf9a6e370b8db50ce5d05f1338eff29af16564e9': 0.9411764705882353,\n",
       " '0x31de7addc1fe039c439821e195baf7c4f7b5106980da8095880c801f8c2a3930': 0.9990583804143126,\n",
       " '0xaba2b0ceab11120596b7f48639db9b386fe25b410ef6ec035e143156b9cb37e1': 0.999474513925381,\n",
       " '0x1467b49f25d3a33ff0247d0f13d23c7ddb8c012abc7ecca050966b905723f39a': 0.997737556561086,\n",
       " '0x2de87384d9c5df8ddf1e54ae6e78727009feffaed523edc1a4f3b8b4b28a4ba8': 0.75,\n",
       " '0xc9c13981f17a595e26c94c7cf4f2410b72e65503225a829258d1d64a84368fcb': 0.9990196078431373,\n",
       " '0xbbb42104da99bc9c31753bf8a072c1c2c8a07e33214ea3c2ad3ddbf6fdeedae9': 0.95,\n",
       " '0x6bbce6e6925125e2638a81492582e817d8482966bd512c6c191a9d2dbe2f4be2': 0.9714285714285714,\n",
       " '0xa8e525854871902369ce3b0788dc68addd0ae46561801d0b60f17cca09f25e03': 0.8333333333333334,\n",
       " '0x97f0c1feb044dbf16e5740e5a292c59c6b96f9066d3a2b1e63a26573fa796cc1': 0.9994772608468374,\n",
       " '0x4683019ee62a6157ab51dff2429c75acf26e6ce7dc05b3e4d46646ab9e672bba': 0.9904761904761905,\n",
       " '0x8c266a7e27fc8cd5ca75e7d787635f1e7967badc4245a3eaf37ca95aa9094b1a': 0.9583333333333334,\n",
       " '0xbbbfd663f9f577e242446a0d56a374a575c36b8f20d589dc625582a737ea9892': 0.9977728285077951,\n",
       " '0xd6c5c50fcdf85458d99321a50b60dca1b08844a35b3a0a124638327c23ae1860': 0.9913793103448276,\n",
       " '0xea428b8e9d0bee677f2ecce73541cbf637b3726f8d1dd07b1bef1e30c896f5c8': 0.9583333333333334,\n",
       " '0xfe7d20f81a03d028634afca37183b7942dbfe27be4dd46b7211545c16245d68d': 0.9913793103448276,\n",
       " '0xda1eb6593a724f270d6668932f874546a0e98317ff765d1d701986ee47975f8d': 0.9655172413793104,\n",
       " '0x9fda76d4c839788b45fede8a99ad071a97a52bda45eb45f6e0e2c87885e34da5': 0.9875,\n",
       " '0x8d714398c7462b6a9f1e8078ddd6dddb3add21500a8d79035cbf9af8dcfe301b': 0.9968051118210862,\n",
       " '0x14141985a856efbce1cff4f2a303e7b6943532f3c879b4e352bace20ad31575b': 0.9990196078431373,\n",
       " '0x8a27d92ba61022974e060664901cce6aba9c0773010078bd1cf821407efe7ad5': 0.997093023255814,\n",
       " '0xe8238fc152b9298761cff1820b09920caffa3c2013c2b900ee92d11af1050607': 0.9960474308300395,\n",
       " '0x6fef481b0c14bcf751c9aa918c1bc834b5792b525eeb2354b19f1a083c01237c': 0.9977728285077951,\n",
       " '0x3c57a6c3d55565d5a9320d22c521d63c487fc87a7e33726cd8b602261d62ef45': 0.9583333333333334,\n",
       " '0x5fd4eb0fc08c3cf9e91c3db0bfbf0c2ab16685268ebb7f5df77bfda8d4a36de7': 0.9997776295307983,\n",
       " '0x04b83cb8fff2ee3db6fe299505aec6d1e5ca9ae4ecd2f3086d94804126d43b13': 0.9984025559105432,\n",
       " '0x763a712713ef72a1b4e877c7ddf05b90f43c73ed4e5a944734e4aa325a7a6c2d': 0.8,\n",
       " '0x8d110f8a4a81fbfe36ed13886cf0f13cebf5569e968e4b3309e1334abcfc461f': 0.9997776295307983,\n",
       " '0x563b31e2c03f3465745f4d3306ee56bdfb2ec72aa80a3b218b3686596de861f4': 0.9655172413793104,\n",
       " '0xd00b8e4b5653f2147fd0c8ad72450f42f8749fe5723584452beb7264d80d8569': 0.9444444444444444,\n",
       " '0x68e58217cdb561c21d109909724cc5d780eba59f8394921dfcafb141c9fee88c': 1,\n",
       " '0xe4292196c089e7f6418b4094b6720fcde932ca5142a55745f84071cd6f55e506': 0.9836065573770492,\n",
       " '0xd0cfc5facbdce05cbcf9cca47cc7bf2f0bbb69790369c31c91d30d63fca8088d': 0.9285714285714286,\n",
       " '0x473d05ebb6747db0f6a3f33ad2b13d9a34fa4196f40ef2e62e78596d96caee38': 0.9166666666666666,\n",
       " '0xaf45707c5fbe32d48efdaf59ce05f349a224d7ccf926c7da4c75c53190af55c2': 0.9998073959938367,\n",
       " '0x118fac77f7c1a139b3c0473ce134ed383f7e2285c62e4a72913d851bb0c05bc9': 0.9995427526291724,\n",
       " '0xd2c5976860b81e6b14c1ff0575da4ea6640566ecda9d0473565b4a2fd0130133': 0.9995427526291724,\n",
       " '0xb185c2467cb525b1f20ba6e3a3adc41dfa0d2ac921101851092d741575bbe036': 0.9995427526291724,\n",
       " '0x26ead637695d6a8c8d64d193c931cad9f69b7246c43cfe6630a05a6cecb8f828': 0.9997814685314685,\n",
       " '0x34a27277fb3e6cd7842166e7c5c7e0de1a9a6b8853432478a0c70f162b0e4e73': 0.9995427526291724,\n",
       " '0xee30664853c92b511504e091cbdf678682b7cd299ded19965a8f29ea5a5b5279': 0.9995427526291724,\n",
       " '0x395cde879a6edd27cb69011fa8645de78de0df345417d0837ebcb89f23a2063f': 0.9995427526291724,\n",
       " '0x89a8588b6f12acde4e1753842138626384327687af0cf1d024a313fd9b3a9b61': 0.9995427526291724,\n",
       " '0x4da01e99f90929b206413a05b7e779357faa519db945e5f3a7041d6775aebb4e': 0.9997814685314685,\n",
       " '0xefb8fe366bac1457d75580dd11a9e42450bc0f05ecf80bccd70ea020e4cb3a7f': 0.9995427526291724,\n",
       " '0x7dcc86b01b9be9ddc008a1f6311b8ef22b45723d46acc5997a9091db27509bad': 0.9997814685314685,\n",
       " '0xe5f7c1db340887932c184b22cd0de581118d483eaf4ea0b80dacbda9180b0d35': 0.9997814685314685,\n",
       " '0x46e3365da6f83bb29b34acf9eff53b1fbbfe598a86682a0ea409c5e18235a244': 0.9997814685314685,\n",
       " '0xc73ba2fff1b2868b1e73df0c0280a60ef85f327d5fc4665f9f923e9a156a4178': 0.9997814685314685,\n",
       " '0xdd9e2b79996ff49668ff34f953773e01434e28b768aaf675e03e605932a7d5b5': 0.9997814685314685,\n",
       " '0x027c3de378472b74cf05d2b500c89441ef047b3a72c24e8b5e66618d882777a6': 0.9995427526291724,\n",
       " '0x98b96965aa1ed0f244900bd27cf78792f8ea2eff11ec45b91a0c0f40cf10e7c4': 0.9997814685314685,\n",
       " '0xd92ebb66bf7c13580fc3575fd0ac679c3b85a8e38d5699d0e78f5cafec2778b7': 0.9995427526291724,\n",
       " '0x00b1361784afca5902e9f0b5f2b8c104be61277a5a4000e4f40d83b7c0714537': 0.9997814685314685,\n",
       " '0xd4601f0eca7ff043f8a94a822d9003796d22c697734958ec314ed99fd29af077': 0.9995427526291724,\n",
       " '0x5d6a3342def03f074cc4802363bbaa2d97fdec876283862b60c8ab430b2d5c7a': 0.9997814685314685,\n",
       " '0x6759860b3f4ccd4d176591ab108120028fb77717b68930c3fcbe833c512de711': 0.9997814685314685,\n",
       " '0x9c7bca7f3bff972976a211713539e2c3305bc7121afbf8874d18b1996ed662c2': 0.9997814685314685,\n",
       " '0x8420daebc64966482b0dac7c5ccc1facf45efbd6780b559c9af3903c2fee2bd8': 0.9997814685314685,\n",
       " '0x38872524fb99b00f5671d5a4a770db27c6d685bfe0aaa2a0b99909e1e8606b23': 0.9997814685314685,\n",
       " '0xa9d2c1e4daa982e59db9f24cec4a3fb55e33dd9038d5dbf94ef94ea11cf256cb': 0.9997814685314685,\n",
       " '0xa9b9ff70014900e17646208aaab384e64c215a8edf4b2e5267f449d204a095ca': 0.9997814685314685,\n",
       " '0x3fc9341b954cb6cc132d751f90074859ad7ca76370e568161a374dcc4ebf7b25': 0.9995427526291724,\n",
       " '0xe8c0ff0ca24af88a547317a47bea9779821c96f3a09908ded208e988d7f93777': 0.9997814685314685,\n",
       " '0x3a3d34fb36dee28322b27621a2241cead8571ce9f0634d062d351e7905ef886c': 0.9997814685314685,\n",
       " '0x929476d0731a831c838de6c3ca6221fee1afec2e8cb5e4fdc449a5c7572e4ca5': 0.9997814685314685,\n",
       " '0x63487f635e820c099d5e7b9edf2068c424493e61bc2eab6599dea03c5f4d7591': 0.9997814685314685,\n",
       " '0xd0f5fd202f1bac492aadafd573c9d19364fb33a58340c516b7108bd6261f5d5e': 0.9995427526291724,\n",
       " '0xfcd36f16982ec509c435d0c6ecc2bb764f9c2d3585d7102f547c38b406384af7': 0.9997814685314685,\n",
       " '0x79cc2db9d74f43608e01651d0e5d0acdd9561efd5f2edce163e0feb947d30c4e': 0.9997814685314685,\n",
       " '0x924e1f2720cce683075a9016028d55bccd31b9e49bc3fe4e577657d7510bf3aa': 0.8571428571428572,\n",
       " '0xb501db80be210b1d7a470ba8de0098ee460dc779eb83c358cd9d13e628555f4b': 0.9903846153846154,\n",
       " '0xbcbe18390da483a80e925b33de25259fc0fb4d5f1c45a45befb4af29eb3facc5': 0.0,\n",
       " '0xdea7e4182d07d6a53c18b6ddc221dacb73b0646dfc05e6235a98b7451c87f5cc': 0.9615384615384616,\n",
       " '0xc32d9b6864267436832605fb1032dfe3cb6ece308147c70cf63c866d1a6a9490': 0.9903846153846154,\n",
       " '0x75b1d7d78eb1cf13d8f91cce5874525f2d7549ea23c4bc50fd8e48a035f5a17b': 0.9903846153846154,\n",
       " '0x04619706efc1626edefced737a0b72f2acdb4953cea47d45bb33c14bc16ee1ef': 1,\n",
       " '0x9f85959b339ea382ba1d6377fc5b6cddeaf41a467722d974aea2bea853089999': 0.0,\n",
       " '0x93f0dddf0462911b951a7f5228c3aa446b5faa015ff6a5a14684b2620208055f': 0.9743589743589743,\n",
       " '0x83c0e2a46840e19db34de72f86bc496bd3c0579ac3de00d3209397437911f441': 0.9901960784313726,\n",
       " '0x110a3baf30ae54d458ceb974b6dd3d39f8ce8189c2a29c7eac1f13e7448df865': 0.9998073959938367,\n",
       " '0x0783629240a2c6b3e6ac1148cad5ad8a02e69085a8391c3111aeaffc6e7ddc28': 0.9997776295307983,\n",
       " '0xad03170f73ef16617fbd55481eedb3848980df566dbcfe68f7d0ccdd63c5daf8': 0.9997776295307983,\n",
       " '0x19b9c96d8009c178d9a371ea27831d4c5a3a721bd2403759a7631b5a3f07bb4d': 0.9782608695652174,\n",
       " '0xe51b24c15ba5b6066151544ae4b65c9aec6140b6d00cdfb3a33cc646d22f5ab4': 0.9782608695652174,\n",
       " '0x5a93a5976616c766fde817b731ec3a5fbc160abd09df9c1f4c425ad992c86933': 1,\n",
       " '0xcd099f7f098255689f46d06481a39e5dd80b9dc6449e138c81c8b22c76fa1c0b': 0.9166666666666666,\n",
       " '0xca20ecff3465004eb6b4d4124aa6ac7ae661a4aa9f4360da44ab6265b5196c90': 0.96,\n",
       " '0xa545ad091f31dcaec5d5716e64457f43118415cd3df59cfdbe316441df013d5a': 0.75,\n",
       " '0xe9eec6e413547e967ace7071bb6dbd3da2f221507a2bbf95d8ef4f893691f4e4': 0.9655172413793104,\n",
       " '0xd0e45fa7531f0462c5a7eea4261ab14171abbf39901d8380d771c014811819cf': 0.9782608695652174,\n",
       " '0x9cbc7f7837140162be951d2d32130b792e6b093183d99ffb5edb4797166255e7': 0.9285714285714286,\n",
       " '0x68ba570542004366adc56e497ea547d4f7cb9eaac845253352bc4487998e2c50': 0.96,\n",
       " '0xaa829d884c4d43a35156029bc7ea48954027aec339761d6007257ab88cbdbabc': 1,\n",
       " '0xb7aaf159e1b7ab592ed84ebab8de6d73cc067a90615d09d7bd725cd6945256d8': 0.9782608695652174,\n",
       " '0xe2735b408cd4ae7924484f5bb48e7b11b53d7a1c13aa51e30544515679ff6f7f': 0.9887640449438202,\n",
       " '0xe6e53df84bbbdb2d86a88a2d6d963d740ecc33baa03a24744b2b42bd25209ffc': 0.9782608695652174,\n",
       " '0x203f561f25be7de318a80a0b22ab886b224a2b9b6064bbb3e9823fb4d5644195': 0.9887640449438202,\n",
       " '0xba325b074f7bf55a31ba117018608dab53ea09db0d0f20226a65bedea9a314c4': 0.9782608695652174,\n",
       " '0x0da25edf98ec2008ead6df4c6f012d95d970001bd5d5fd6bb9bf242fa4a680a6': 0.9782608695652174,\n",
       " '0x27021ca3734055af0c9052777b2ff205d91996725f798dad0d9337c0f0a58344': 0.9887640449438202,\n",
       " '0xe908d6b34c1c869f0a03e01396f8a4f08bfb466eada7d71a9b732e1f87bfed1d': 0.9887640449438202,\n",
       " '0x7959819f7aaace1b3f741de251bfcd88bc563735e7e7a81148c5c0d302b596ea': 0.9887640449438202,\n",
       " '0x252fe0556b3abac481384325a247a9e5c0e17b921cc2ba41f4a8d238e6fa0506': 0.8888888888888888,\n",
       " '0x4bab5e05be72905019f040fb7e7dca59ad5e4600a8827e42df9281b741898278': 0.9913793103448276,\n",
       " '0xb5c3b0aeda695e879255defe5ba5fcc18e14373c4b3fc60444e412c2d5102126': 0.9990215264187867,\n",
       " '0xc3b3ff31ebfa9384953588d002df0a51b936c66b7294b0e321f70fcd49b02810': 0.9998073959938367,\n",
       " '0x0a76c3575e02220e7cb75faf2c7a241c6c0371be619001adb4ba8882a864b4b6': 0.9975845410628019,\n",
       " '0x1482edc4fcf5938d7e6b230b0244e9649dcc6ec93adce8ee32e0a41834e48541': 0.875,\n",
       " '0xe503374f05269b0b6dc6b599a0f328a41bbb0b39a429ff34d5196e782458568f': 0.0,\n",
       " '0x0e0fd08b027ea7511db25d87dadc5fcbdcb6b8886a079ec5ad4056aab5304087': 0.9997776295307983,\n",
       " '0x025c38155ee81fced6003ae668fa2acb126738884303ee1f67d18bddfd8fd956': 0.5,\n",
       " '0x4b45c93c327b0dead644fdf3d19285c758dd1522a25baf7b7d8a242639bf7a9b': 0.9997776295307983,\n",
       " '0x97d1cbc2cce27563bdf0d395239037f9182047ffe2dfda3524a03faa7d9a4a85': 0.9998073959938367,\n",
       " '0x725653ceddd29b2bc6199721371936ca1fefb4e22d893d4d67c97d10511dbed5': 0.9989293361884368,\n",
       " '0xfa564ca44a86856d266242d3f7cd885444a05e42f9954badc85fe8ca042120f0': 0.99800796812749,\n",
       " '0x0a93940a635ade29080bb09a61858643c15300815ea783a769c944b3963593c9': 0.9333333333333333,\n",
       " '0x8a3a3ba6fbea1c4f55ba280855d49fe3aac70ee78e57e685b03b39650f0c5c0f': 0.9997776295307983,\n",
       " '0xba1c2378fb23fbede07d4e99e29ea62c7aab0fea695009b75a1839bd82299dde': 0.9722222222222222,\n",
       " '0x16a7b98f4ec9d1ae856ea5aebfd0ac9be6e7ffd133a35de2df60d735f9c15974': 0.990990990990991,\n",
       " '0xf5200851bc439369fac717af4f02ba49f789f1fd9e7aceda05af419364e71259': 0.9914529914529915,\n",
       " '0x082eb99fc51fc0771e20327bfb5978843bcc11aaa3927cd38139abc87063a434': 0.9997814685314685,\n",
       " '0x46ced0286d36bcbb5fa623eff62cf6772a9af8208fe3d544753d37ce8cf12197': 0.9998073959938367,\n",
       " '0x14410544cc1f9810bae219221ff0e8754b5d4ba2bc52648d7768010450cf5e50': 0.9997776295307983,\n",
       " '0x748efa223abc213e15e166684a44b61a3457ab10970bdf42d97193c66f8ab221': 0.9997814685314685,\n",
       " '0x1d57e33acc64d744ad40c4ca2e5a2f632706f9140413df096057546943f8e506': 0.9997776295307983,\n",
       " '0xfd5d2f73a6a9ad845b325647e7549a41deb3c0dbb2d6f58224c32786c5e00973': 0.9997776295307983,\n",
       " '0xec9d4816c34da175869fa756fede14af2bc1a3aad0a9b7a1c6840e536d79e2ae': 0.9997814685314685,\n",
       " '0xad0ff3e1666c3c01523059960e90c4d616ed2e9793b1a2eff91937abe716bf5a': 0.9997814685314685,\n",
       " '0x453a723cdff9d79c81287810953e03ed05491445714e7b7b4d6da1c69362b034': 0.9997814685314685,\n",
       " '0x04c4e215eff824885a0c06d136ccbb3508cc4c2bc22be0d7ee49eadd3cac8a8c': 0.9998073959938367,\n",
       " '0xbcb79e5655c7a0cb000efb0a7e48b25830a516ab30e8adc80e30dab783404684': 0.9998073959938367,\n",
       " '0x35afe06e0c47f926f643890d1a016ff306a9b339a3deab9cbb2aadcc47359dca': 0.9995427526291724,\n",
       " '0x2602e72c3a234d4d592bdc1a49673f76e565dea9e1079b31c0e512c67f7c3cca': 0.9997814685314685,\n",
       " '0x81b52943e28d3006bdff53d7e4dd59814ac7947e18bb5ef7881c0c6af0cded2e': 0.9998073959938367,\n",
       " '0x584fdd9faef37fb7661fb82864d6a7bc43097425bda4f35bda1dc8f0636cd7d2': 0.9997814685314685,\n",
       " '0x49fc8bc6ab4bcab54a4d7bccdc593efb6e391e05407698aac489582b93e041b7': 0.9997814685314685,\n",
       " '0x0f7781ebe2279c6a3836c109ca2f1b5f38b4b79180aa21ac4150746cf7796d99': 0.9997814685314685,\n",
       " '0xa908b04d643e567bec390a793291a735700abf6fa1f84cafef74ccced4237434': 0.9997776295307983,\n",
       " '0x05bde6153bcd27e5a9dcad6d8299fae784404d265594f8c3021ab0801b791e90': 0.9997814685314685,\n",
       " '0x9f1465b484664b324d314218d38deda0460926984df5f75f6ca8a50a78b4aeee': 0.9997814685314685,\n",
       " '0xc14165566701126b785334efd8d7ca3ba25713e3276681028fa7727fde2fb6a6': 0.9995427526291724,\n",
       " '0x34e70dff6dda442f05ac98d9187052e9f6cb78bbdd504392d21601a39ede4a1c': 0.9997814685314685,\n",
       " '0x193e829504ac0e29bca3871c407cab11525f3c576ebb340e6bea1d2a101d9407': 0.5,\n",
       " '0x0f4e7eded6340f5271e0ced624dea1f8c35ec0d821beb6cbe9f043f89bfedfd4': 0.9615384615384616,\n",
       " '0x822c7098682c1a37bb659ea55c0c8571a3a691e28ca8fd2f0f148a2b24443a91': 0.9942857142857143,\n",
       " '0x7aa2e79fbc3f680c6a4e85464a68fcf47dff6b808f653aab90909e84456f0029': 0.8333333333333334,\n",
       " '0xfc720f08a7fd4ed708a182c540905912a1426f3c1588e92f102e345715a50efa': 0.9998073959938367,\n",
       " '0x6f82382c63a659f945488c6103540da84a26ee6520e749c1f92ff3eb90ccfd9d': 0.9995427526291724,\n",
       " '0x459d9173ff1ffc1f6b5018377017ce9e5b5b66ca41b4ef6e96ce745502feff36': 0.9998073959938367,\n",
       " '0x5327227519fad6e2e9a56f246a25e92e8d7c3f1a37ad0c4cc82201a13997438e': 0.9997814685314685,\n",
       " '0x4e215fc7e23cccc37817265ce666ff43d9eb32c997a72c52419805a08a85849d': 0.9998073959938367,\n",
       " '0x2e51b3a936b25b16510e28086add84d1d5482e06ecd2728411c4842662d511c2': 0.9995427526291724,\n",
       " '0xae613e6140c297129d162712405b9ade56889598421d48d81212887cfefd2f37': 0.9997776295307983,\n",
       " '0xa776ef2da666c0fea839884ffc2dc15b1338d6fa80f7bf0fbf795e575d46d2dc': 0.9997814685314685,\n",
       " '0x11cefb527638a0ed3a1e6c8387183edcdea14aaee63b744155cb883ab77330a7': 0.9997776295307983,\n",
       " '0x11b1a31b466e9dc3f5dd0032985f067b9cf86da34dec1f476a7625297b56d55f': 0.9997776295307983,\n",
       " '0x66288e291d242691e42b32dd8515418f859baa994cfead454e4cd9d1d6043556': 0.9997776295307983,\n",
       " '0x87cd5945dc72d437f957b45f53b7c03e7f267feddaa03cd369794dce5606000f': 0.9997814685314685,\n",
       " '0xf23893756148e834714ea19d4fd20d41d1e3ff53f54d9cddc6fbe7652e1d9c63': 0.9997814685314685,\n",
       " '0x3edd1c56e3218087ccd4ee56ef0b4367defd9da3ba45c3720e8149e37b918576': 0.9997814685314685,\n",
       " '0x49822ce5e04ed6984f7bfd71b79b817ea6da95e7a3a6984c5275e806f203323e': 0.9923076923076923,\n",
       " '0x849ed4da36438aa95bae69e547eab932ab959238900210b989d1f96dbd8f8bbb': 0.9997776295307983,\n",
       " '0xd6d41a855972af884d0035dc4055066cbec9ffb70c075daf13c6adfafbb6b8d7': 0.9998073959938367,\n",
       " '0x095434de2e29ad2ba843a988492e73a03c40b5b0f54d063f94bd22ee2761d6ee': 0.9997814685314685,\n",
       " '0xc8fad9775cbc32dcfb642e2394480d924c1656bdf58929815d2cef17095ef51b': 0.9880952380952381,\n",
       " '0x170338d08a10d321a4da3d96bd6ea6cc3fdc7f4379d37fbdaa5eb00c68aeb891': 0.9998073959938367,\n",
       " '0x81cd256c2820459735fac1df4a4a9a31cd17e9e58e4419633b0c37a92ef38885': 0.9993734335839599,\n",
       " '0xc831b2b0067262b85f79cba449e02fb91444da4c5885cb4f448c7b1a078c5c86': 1,\n",
       " '0xd8169f622afe58e37ba2e5db5e7d2314f7ebc73f4ca55cd9c438c35e504c6d17': 0.9836065573770492,\n",
       " '0x00d70d80f9714aea35020e2cbeacb144c1ea90c20e87757f1c1a0a750b97fab3': 0.96,\n",
       " '0x111584ac359f1af8c99ad65390d8e9810316db641456cd106f2abb73be2f0be7': 0.96,\n",
       " '0x8e4c330566bffaedf968753e37c1b64b7fe284889aca268af2915b7a7f6aa23e': 0.9866666666666667,\n",
       " '0xd6c62073bc78eb53ab098519853a07ad00546c8eed679377f4e1f86fde12073c': 0.9997776295307983,\n",
       " '0x54bcb484047c6f2babc7d8cfa9edf94cb572bcf4e1985cc0f60069415c9b3b83': 0.9941176470588236,\n",
       " '0x879968a73e302277a637427dfc4f5419ab8d7e94cc3d2e048c802da0b5cc7f56': 0.9090909090909091,\n",
       " '0xe0caf409c3b575475be46757b877defcbfe4d07844c64cc0cbf259526233741c': 1,\n",
       " '0x597e8489ceb607930f09684b2d2a7713743e21b5030ab5a404ed525b14aa2563': 0.9968152866242038,\n",
       " '0x60f92f26d6f75e7d787b50423ab486ab7044cddce71222fdb13fcedf136b9523': 0.9901960784313726,\n",
       " '0x4ce1c117862dafe3193a5ce81e63904e1e79399d778d5204fd6b691e6e815192': 0.9903846153846154,\n",
       " '0x1c08f9af6c0b1be516a4000eebec3e643a189d4c923f30a8ec30d8a818b41d9e': 0.8888888888888888,\n",
       " '0xb81c99cb311a097020dd9c873879ca73b223675ca838bf96fed7806950302d95': 0.9903846153846154,\n",
       " '0xd56a9ef534a90bd24928b5651c8ba3ae67ad7fb1b7d6693e53ffdf73dc06c8d0': 0.9901960784313726,\n",
       " '0xaecdfc34c91e7acdbd527c843562a65be37ba0e28f09538a4aed230ec0cdcc55': 0.9901960784313726,\n",
       " '0xa8ffb856829f187bc10d5c1e212282ab0292c064b4660689994de36ff1b31cfe': 0.9901960784313726,\n",
       " '0x4d91b1fc45223b7a0bb5d2938fc80a64b35ea16c6859953a12766493883f7c9a': 0.875,\n",
       " '0x21111ddaa00a196dc8e59c5b14d019e96c55d91dc45760ad3a5c94e0bb9d7beb': 0.9166666666666666,\n",
       " '0x6a7c7182ad586b1c5c6411ebb5999ccbb349ba6b4ea42412de25a58536f6bffb': 0.9444444444444444,\n",
       " '0x4c189452b203644fa48644e7956b9b0f5a18c3816cd5df9982e9be93f363749f': 1,\n",
       " '0x536c69c8a5d5775c6715ef6c1d8a740b26c9074a9748fdafcfab52e7c5022b3c': 0.9166666666666666,\n",
       " '0x6761d4d688a14a23c48e102d22f3f4bcdda0b2d2984fe85277ea5de3e43c6b4f': 0.9782608695652174,\n",
       " '0xe4e1c52c9f95e23abe9118d881f6696e79064ea0b1d1bc54c94514269dee2299': 0.0,\n",
       " '0x830b3bd1535fcd9c4495616212dd2710942ee79cefccfd70bd739f0a9283c0f9': 0.9887640449438202,\n",
       " '0xc93bb0b5854e0b423c75497a5753768d9b5b8cf9e2c4c94a97e9f0c50d004320': 0.96,\n",
       " '0x7511cd36e84a7994c4dc080fa7eaea801b52d85052f561dfd8c89fd31e2002db': 0.9998073959938367,\n",
       " '0xcf1488e5309ef0d0bbf4459236290fa290502bed2174e677470b53e678386965': 0.9997776295307983,\n",
       " '0x4c6e324249b8c108721e474161c37bf5e138ed0938b2a11e6935339e4b7b03cc': 0.0,\n",
       " '0x3be4fd55eb5e09b407b99689099061ee67589c31ae2a679d6c3116ee2fbf5735': 1,\n",
       " '0x6791baee2fcf1042bf16e253df28a2c93b8a2e0d2267de2e3b5d5db61be07f48': 0.9166666666666666,\n",
       " '0xb958620f035bca2c1776deeef03f642c3bfeb40b7da94aa69af1a1351998920b': 0.9836065573770492,\n",
       " '0xb4160d9d1396fd05bc557271bbbdab5a80513d64b7c72058b624427adc3c4d57': 0.9836065573770492,\n",
       " '0x572ab3201399a3cf593b01bba294358e4aa1bd9d917b0fbe7312ea78a4e7bff1': 0.9743589743589743,\n",
       " '0x4465b243f16a41ff1569f223ab8ac4e6d01361b0b9ee8e8b072ef0bb9c3dab1f': 0.9836065573770492,\n",
       " '0x1482135fe61836347734583e9aea7ada48cafa1a54c4992953906acc6ca04454': 0.9901960784313726,\n",
       " '0x76a562348483a67985bbadf2d7fce7e0d41eeb1d11d10c49255d30a6c00562c5': 0.9901960784313726,\n",
       " '0x495c1df279ce3a14a9d2b08614dba5063c27f482373b4e05fae0667290a81944': 0.9903846153846154,\n",
       " '0xd4ad06955993509f7a2acad40c6dd71217f6179615ea80440a0e39faabb54233': 0.9901960784313726,\n",
       " '0x4794b497282c19044fd401316cd11db4ca7efe8486a1ffb8e805ef890185b477': 0.9977477477477478,\n",
       " '0x488ed5cc9198adaffb55382848c9bf357fa71594a84077804cac95a00a5e1a3a': 0.0,\n",
       " '0x294b947311d370b3ea5c8761e1fcd5abcf8419361b8abed8403ebfa17efdbd3b': 0.9887640449438202,\n",
       " '0xf689b20a2810710393dbb4fa3210dec09cc51ab2d07a5c232be495e6ad3aca20': 0.9887640449438202,\n",
       " '0xd943861782d1b011d993baf6d4af9be47395690a89452f4520cdd6d88c9091a1': 0.9285714285714286,\n",
       " '0xb91fae59d3a36ee7d2636b75db9b60bd23ca42208fdc25853186039b153ff4aa': 0.9583333333333334,\n",
       " '0x08700a0304b22429f2ca5670fe0d498e342c3b2ca42033dcf0e1b9553d1a5132': 1,\n",
       " '0x296361ee5fbae9934a83ece7fd136ebd2cf99741541188710e2fe2b62715041b': 0.9743589743589743,\n",
       " '0xfba4eaa3ec9e14c611f02143581270a27df34fc28c09114f3ddb135881c407b9': 0.9166666666666666,\n",
       " '0xe433bf1d343d762ed10dcdec24255c2a3a9e9f4921b5662e08884ee2890e1c5e': 0.8888888888888888,\n",
       " '0xd273e5c44bc6bc5ed153165d3430552f26acba4768d62690f3e0afd2e7392361': 0.9782608695652174,\n",
       " '0x3394cd6057d1a37381bce49f1724e7b93b24aea39b062274c058342a26ddf639': 0.9887640449438202,\n",
       " '0x9e4ce9ce89524982562e459cb67456049a9641cb33237aeaa648dffc3f50c05b': 0.9090909090909091,\n",
       " '0xaafe83a021dcf19bfdf88dc74af6d7a0c4a70d80211f3ece717d5e38201a2152': 0.9887640449438202,\n",
       " '0xaaf6ac2736bbad4fdc2b1e3a8d3df2c76cb5da9c50f5f7aa4b35a7461fcd0ec3': 0.9782608695652174,\n",
       " '0x124a129a5ce65e6c06c08d393f655bb85d8cd741e4fdb9429d077edfc95cc7c9': 0.9887640449438202,\n",
       " '0x421f4941b54b45a59e2bfccc1363479e9234805305961d055fc53e7d3b5deed1': 0.9782608695652174,\n",
       " '0x36d6a1072ea06a821aca5cc3e9c98997bb096a88407c8176cab44b6eb856935c': 0.9997776295307983,\n",
       " '0x9c82ce7e45085a2de2240b2d20c32ab4a74dfb259e96ea8d3eb1591631ea33a1': 0.0,\n",
       " '0xeeaca4586e20d2544bca1b1ff8949a07c3052c9dc74b4a3cd431ccae5aeffdd8': 0.9818181818181818,\n",
       " '0xca139f48deaa74cff8d1391fc0968cb95e9857e0452bc173e83b3deaf651aac0': 0.9230769230769231,\n",
       " '0x72936b4e654560dee72b0a301e872d85e04a64b5c32592000ceee31979d22e10': 0.9984567901234568,\n",
       " '0x6524bb77d738aaec032711fb11485186b9c971e5abe262016d80870972dead71': 0.875,\n",
       " '0x06aaa1baa545be6f1e8770dc5bd4ddec9bdddfde7b42912ea1cab0682744b224': 0.9997776295307983,\n",
       " '0x7c64044f115c1006fa73567c2d54ef423c3e9d7028daeba600c59ba29ebdd342': 0.9887640449438202,\n",
       " '0x6c3362e79855df2e064ca4ca0c28d5bbdc38c911f5ce685df42fa2c564f4e7c4': 0.999474513925381,\n",
       " '0x22d15624f1ce9b7f6fc7e0fb8c1c1d9c3eb6787cfb46ca3e8bec5d32e7a2af4f': 0.9990196078431373,\n",
       " '0xb30ed2b853e69cf9a3d71393c59a921ada98415f72843a76fd102aed4eecd3f7': 1,\n",
       " '0x2b1b68ce7f8817a3ef53f0c2b04d12233b7a8acebe4bbdd9e37db906826a864c': 0.9982817869415808,\n",
       " '0x9ca32ef0326700ffd9b100879055496ac7c134dd271f6de624a4391bc2298a5b': 0.9990196078431373,\n",
       " '0x4d4b965ca058bf03730b289a3910a43cdcc11e7be992bd1caef087a1399ac34c': 0.9994772608468374,\n",
       " '0xd5b5e52c9559c280acd41a5e78b69293fde044a5f7ec33aacc0afb4d049f2435': 1,\n",
       " '0x680eefd5405a675567bb4f11f5faf3226d4033111152fb7b6c6c1ab148c640cd': 0.9990215264187867,\n",
       " '0xfb5fd8817a457652e2acd33c8f002cfc1ab81d112405deb539091130d70ee305': 0.9990583804143126,\n",
       " '0xbe5700ab2ad5f2440bee2f772d57c0cb1606f14c5e0088c0940dc94605af3e97': 0.9944444444444445,\n",
       " '0x02de5a28da9f18d0eacd359691f8783405ae406928530bd8b9cbc3c5318ea629': 0.9927536231884058,\n",
       " '0x4ce2bc0da7536ae8199e29ce47aa80ad257daf61402f2cffcbe4d9385c2613fc': 0.9947089947089947,\n",
       " '0x2d8d1aac988b6fb15d983ee6f8c71de5bb1b8cdcd3ba4dc5de96e13cac3bd737': 0.9994772608468374,\n",
       " '0x32ad282d88c74b193466f4f0730efe75671665ab3968777c2f46a381e3e4fdb0': 1,\n",
       " '0xf47cf80f7f824d6c9de760c74471a816bd5b89544bba56fb7e90ca68bce7d2df': 0.9998073959938367,\n",
       " '0x2b8810a4b329e5bd3ca7e6ae7490523e4639b6cc48e8ffdf3426f0d8f4000b7b': 0.9997776295307983,\n",
       " '0x1b73f53734d2ce8fe382ca88669b61d29be190cce4be24881c6c6a70647cae87': 0.9975845410628019,\n",
       " '0x7eb77627ab9e230b86e092ba30ba9bbf5a8801bb95dc5f8e315b1f74ebec6913': 0.9821428571428571,\n",
       " '0x7c64cdcc7778d62f46a790ecb85a82e8ca05147016cc68c47c5a345483f96936': 0.9997776295307983,\n",
       " '0xf63a623d9a34fd67b91f0ada64f02dbb32c12dfada76ddb1bb8853a3e5ae2ef7': 0.9997776295307983,\n",
       " '0xc73debcd9e02d0dd45b4ccb780816569c7207724bc4945d7ef49680c76de88a7': 0.9997776295307983,\n",
       " '0xf22e6d6ab37b32c7fde832c6c815ac5bb5eb9fa0908d19f2397cc532ae2eed8e': 0.993421052631579,\n",
       " '0x2cde767ee2ee150e9bdd28404ab9eabe548fb38d12e998382c7eafdba3b54ddc': 0.9947089947089947,\n",
       " '0x0d8ffca53fbabcebd42be523a6b154c534cf7a8e3e012a03b59f106e3b2d0b8f': 0.9984025559105432,\n",
       " '0x5df9ecd9be8c8f2d9af3ef78885cf37f929acd0ab442c92d53c069348aefa707': 0.9969040247678018,\n",
       " '0xa1345a3757a55c22e103b346454a842b7178735db8c00b1af7e1abb1ae694e36': 0.9997776295307983,\n",
       " '0x0e54eb353c9048840edaaf2d5a31bad68852e6f1718288579a5b60038f0259ac': 0.9868421052631579,\n",
       " '0x31d253fac124111cd51dc228c71e05fcddee065721de12fa5ba511e42cb303c6': 0.9989293361884368,\n",
       " '0xaa629f58424b6b16b2e4dbb577799db8f2153984f2dcd5b7a0f61d3de8262875': 0.9984025559105432,\n",
       " '0xcd31b14080aa498e7883178fa2dcb0cea889f216be9ea542c25d77ad13e6db0f': 0.9913793103448276,\n",
       " '0x3b1918d939efd336b775bd9b0e46fb09abf32091dcc5cc7c31ee08856cb6557d': 0.9997776295307983,\n",
       " '0x9a4333f5f23ab7c148ea487e5454872c8d031809236182edc8cd87369eddf146': 0.996875,\n",
       " '0x9d46e73b7a1d8c24ad6b8d7033e522992497f6f73f31fd2655258b8d712cb963': 0.9993734335839599,\n",
       " '0x4b258658d1aca9c5197505bcedbef194fc5daefde4de9949c4a64246fae2ad7b': 0.9997776295307983,\n",
       " '0xf492d8b5d63254bf5c8dbd07984f0c5899e19b6078e1b2903fd1f8693c59a2d0': 0.9989293361884368,\n",
       " '0xa6d622de66f762d9949be2e5ffae50c0d5f91e34ac5ddcfba1e24e99995206d7': 0.9997776295307983,\n",
       " '0x4666d9eeb26fbd389184fd811ea763ae3718086ffead037f0f31879443b23244': 0.9989293361884368,\n",
       " '0x02a211d27d6e126e8275e59d1f769cb0ce5592134e68663d1668e730a979e1f9': 0.9990215264187867,\n",
       " '0x48f0dcd87d3aa4521ce51ec4cebf7d8e3540097b9c47b6818c0cbd6b386167e2': 0.9998073959938367,\n",
       " '0x47beaf041e79d6fb0e2fc35990b8877e5b3a59ac5a417678fe8b4341e8d47194': 0.9998073959938367,\n",
       " '0xcc45eec44c0112a599b86c7c2a49fd7a96ba23e9653c9a47bce37149c106add3': 0.9997776295307983,\n",
       " '0x2d49c946b5e64c446440f67ad4b63a9fe60a745a98885426ab675d75a47a576d': 0.9997814685314685,\n",
       " '0x77c1dc74fd577f7b0800c48354cee995ecf7eaa7a979d691952801c392c9beda': 0.9997814685314685,\n",
       " '0x86685be0e87dbee16b22da02d7e9850e0f6fd466de489c6caf72c997c91e9341': 0.9997814685314685,\n",
       " '0xe53d23244f3b97740b88e4467d4ac3a0279f67f73e826f6c88d4d7c512484d30': 0.9995427526291724,\n",
       " '0x0c74c06f619823e0f90ca7e32c6cd027f253cb1e562e4cf0b6386d29c759386e': 0.9997814685314685,\n",
       " '0x8dcd937b6a60600d5f97a81e036a442f266c026c50566397be7c37fa10087797': 0.9997814685314685,\n",
       " '0x7c1e0d2534533f4b3adb161630a41b96e8590793d62e6126e75a1cf72a06423c': 0.9997814685314685,\n",
       " '0xf2908ab8f515cd9c9ad2724ebb1b34f95d86354362b30c52aa6609a40fad644f': 0.999474513925381,\n",
       " '0x32431281ec253159738b74e556532e9783ee06fb8468c6ca294690aaef9ab4e6': 0.9997814685314685,\n",
       " '0xf55443bba2c58cff2c1feef4bb0660ff467cffe90a2e8f2e3be94c0fa16b528c': 0.9997776295307983,\n",
       " '0xb141cb16a39ec4b986dcc054892872de55e1f8fcc40be04d80a3bea727d22c12': 0.9997814685314685,\n",
       " '0x830a705c5f8a31bebedf39d0f8d079472f0d32ae9c0dfd5d7300624f7ac0f4aa': 0.9997814685314685,\n",
       " '0x179730b875bb60a49f21353e1c8b62db0388c70e33a751c5baba75747433e799': 0.9997814685314685,\n",
       " '0xecee31b7fe74bb79d6e618e907590e44e7379cfac53df2505bd23755d849ebdc': 0.9995427526291724,\n",
       " '0x329bbdcbc17426de26203f63ba7696afcb4ee17556237d0bb9aef2ea9e86571b': 0.9995427526291724,\n",
       " '0x8ee1b775613814dce2ca82a396b73050d5cca806d0dd860b74b691347e76032c': 0.9997776295307983,\n",
       " '0x7fd9fb590542418639dd7e94d23cb6b1fa6e633cb10acae28383245a8a8e6e98': 0.9998073959938367,\n",
       " '0xa01081eab15da73dd20e171d3fad5baafad8aea880a287db328ddef7b933b430': 0.9998073959938367,\n",
       " '0x8f69fe4f6f5904a639a854bd344680a586bd8b12f32075386d4dbeeb737ee0e8': 0.9997814685314685,\n",
       " '0xd308669861a8e1a1d40d73e5e245e99b6b999365cab24d51a5254eb028c6854d': 0.9997814685314685,\n",
       " '0x425694c805bf18960dfee78cd73b07d5187b8f2eb3c326f8eac8ea941b5b8ce0': 0.9998073959938367,\n",
       " '0x935d4160dc7742fed9b1527397a2ac539cd9551c602cff54331ce48bb164d3ca': 0.9997814685314685,\n",
       " '0x54f5f2e6e5cc37db03ac2eb568fcb3a47449798881bbe61de39712b2439c3c5f': 0.9997814685314685,\n",
       " '0x635df06033993b4c32a73fe18c83548b0d042457d1435e6f62385996693dc350': 0.9998073959938367,\n",
       " '0x617e90a87b8bf0355b0e567a5193e4bdc307f38a1b9cf19b11ff08531d1d743b': 0.9997814685314685,\n",
       " '0x72db74716032138684176e75e56d35ee53c7c77a6e252a366728a08acda7555d': 0.9997776295307983,\n",
       " '0x48831cd3ad96d3afba2c7a64033f899f3d7704262e7fa0b12c33187bbc5425d1': 0.9995427526291724,\n",
       " '0x8ee60375a0b5858e61b7156e6f7f464d0699b8a2478507fc3300cdd716d1a039': 0.9997814685314685,\n",
       " '0x69c279813bba0df8f8662dd223f9fb9696c6eaf2bdbaece9a34251534c427b9f': 0.0,\n",
       " '0x538345d461e87d21f5facfde616095596bdbf6875cca5927d748520bbab6e883': 0.9998073959938367,\n",
       " '0xe05ebea6e192b305ec881944d2349d25ac3211b614fc5dacce61a974fb2a47c4': 0.9995427526291724,\n",
       " '0x0c8a865e30c1718cfe70203438bfe5b605c53b1cc72fabe7620d9804522faba7': 0.9997814685314685,\n",
       " '0xed64b7926a5c5da09e5fa679af9ffb8a12e1bad49689411359078f7ee01f1934': 0.9998073959938367,\n",
       " '0xc0769f256d2349aa4859d85d2c70ad601edd4434e0aa91d9d4596210f73e86e6': 0.9998073959938367,\n",
       " '0xc3183cf0f3dccc8c1cedfb6b2a68c17a620e3712f28a7c6b678de88e120d762b': 0.9997814685314685,\n",
       " '0x4d9c74b015c4c0e6022f4d26e9e36f6e23671a02b00860a6b21bee5f897837bc': 0.9997814685314685,\n",
       " '0x858aa55c8c6a56f60347685a2397b0719954f7f415f5fe2c3e827d6bb9316bab': 0.9998073959938367,\n",
       " '0x4819fb7ec1a84ac9faa37a4220fb8fe292a1953ae68d67bac3e6d494af2e4e6b': 0.9998073959938367,\n",
       " '0x63170893a4992da43ea5045508d24144d63efbd7c25c39fdfa5ee574cf1c827f': 0.9998073959938367,\n",
       " '0x970cca3f466181f3cff12c2df34953f679980edcf957912e4623633a98cfc45a': 0.9997814685314685,\n",
       " '0x8fabbb8c7c118eee90353dd30f609a22ba6561592d1cca5585eb343b43a3050f': 0.9995427526291724,\n",
       " '0xc3272a685e12e5159f44228a1771178a3896f337b9f7572fe5632a83d0b1b32b': 0.9997814685314685,\n",
       " '0xb84283eeb93a660c06944970ba3926ba864527a8f92dae71bb00b768a25ff62a': 0.9998073959938367,\n",
       " '0x01e75c93c3f8e60e2ed3fc65824b1267a6ce2a14ca72ad8fd3d0160f4d1a9d47': 0.9997814685314685,\n",
       " '0x4cc492e759fae1ee37158a1fc3c5446a14f08a2d8ca2c1eb80fe665baacf1996': 0.9995427526291724,\n",
       " '0x1e38c30f35ebef4cba61f2e2fd18e10c481fe917a9c18626b7e7704d13aefda5': 0.9998073959938367,\n",
       " '0x881fc57784de09766c043c329ee74e10e51a0d5e7435ac319441d0e21a8addf8': 0.9997776295307983,\n",
       " '0x92d25a7ded87a090dbb9425dd9e77c0b3067886df4e3d2abd18c72b45b1de52d': 0.9998073959938367,\n",
       " '0x38daa4eaa35634b0edec51e34aa0efff75bd60bd54f7849ebfa3a3faaf1cfd5f': 0.9998073959938367,\n",
       " '0x351b18bd29836c61462a50541c3b69c5bbb3b86c472bea1ed7ebf9db3d73d407': 0.9997814685314685,\n",
       " '0x96e8890b0de912a63efc76891b896a863d8590dbd8278ea8a62c5b76765b0118': 0.9998073959938367,\n",
       " '0xc60547eead8491371c2ebf53a870e4716592bc3ad9ba1cf321b97f8e606f2abd': 0.9997814685314685,\n",
       " '0x0c12a4e3bdcf02f6a670cbc1a215ce40b1d386504aa23d7ab016469260929245': 0.9997814685314685,\n",
       " '0x66ed0e55cc6f659ff93da0116360d4a0931eddb434e818a48ec8c66d55eeeb54': 0.9997814685314685,\n",
       " '0x2a2aac9f9613c28c99000e61c43aa068723c3f276cab5af7e750a6092b2719fe': 0.9998073959938367,\n",
       " '0x913e3c7181b38837b0861a1c8f44d6ba6ab55245477744a868a70216f519d09e': 0.9997814685314685,\n",
       " '0x089b1d5b5e52d8b6c73edc699f3cd0d0b7183e2d236cd5714a122bc2826de16c': 0.9995427526291724,\n",
       " '0xe92deb5831e61244cf6a6c79175caa48af82a59c7b98d91b867831f9f83bc743': 0.9998073959938367,\n",
       " '0xea7fe116c5eaba142612901bf3ecc16167fefd9eb7d3d54d37895d90f0357edd': 0.9997814685314685,\n",
       " '0xc93d6b9b3ce01a4002aee0bd9f9a9c47620534cb634d9c44e328a1b59d73c296': 0.9998073959938367,\n",
       " '0xce38d99a12bb8c77abeb7e984370780820d0920cf9cf6bd7fdbb6006f3a7b545': 0.9998073959938367,\n",
       " '0xe042bf0c6cb8a045dd7daf9ad117ec46911148513263ae1cfab6f8ad579d965d': 0.9997814685314685,\n",
       " '0xf0dcdebd30697e426140ff1ccf1daa5ba09bc24d462f2ff953005b79074f263e': 0.9997776295307983,\n",
       " '0x4b7b9e387a79289720a0226f695913d1d11dbdc681b7218a432136cc089363c4': 0.9997814685314685,\n",
       " '0xf29b891db0feeb95bc44aabf81119a1098762012a3e532e6c362be03d953f3b7': 0.9997814685314685,\n",
       " '0x6dcd0e08d6100d165ee2bd060407d18e3bb4f5c3c37b41959464a8a0aa7d2a61': 0.9997776295307983,\n",
       " '0x55d9905c1fc00de81cdc0b01fb4a5673deded1894fb12897c61a69ab825d5c74': 0.9995427526291724,\n",
       " '0x79b73ddb00a7bfb69b0006288465476aaa23755190231579470d15a988fdb268': 0.9998073959938367,\n",
       " '0xf4d9d95c8acc5955341fac2a4da66f923518db0b20c67d97d1298ac2f13b27e9': 0.9997776295307983,\n",
       " '0x8ab879700617a435132c3e8945b94bd7538d62858e73596a3bb2f60cde619293': 1,\n",
       " '0x9507ccd9a9a630a3d33ebeb0c0d4c26db269af8fbc0cf172cc5d1704d53e90b3': 0.9984567901234568,\n",
       " '0xf446cc2b5fe3d951b27264626cfcce0ff42f401e4535f02a28da43c1efe95dc8': 0.9990583804143126,\n",
       " '0x524a271769642f06de52622afdcaefbf79ca11956bbf14607a002e77c1a91ff0': 0.9994772608468374,\n",
       " '0x11a859181ab2ab9a691ceb2d9a82ba7086b7e0629a046ac0e9c52e908d7fbb59': 0.9984567901234568,\n",
       " '0xce780ffd95fa19ee9c4df4a444fa3b0ecddc2957c4d386b74859435bbfad0ece': 0.999474513925381,\n",
       " '0xfbe4a58481f8a7c942df39918e0e84f3e1980c462c88c94a8956248cdb39a4bd': 0.9998073959938367,\n",
       " '0xdd5ca68a213fd8424fd67fab0e897f1abffd17e31bc76a2dffa15d33cf4fc24e': 0.9995427526291724,\n",
       " '0x89c99e2da63eed43121ebe635bd388c8f9a2885ae11d2363697d8bb66a0d960b': 0.9998073959938367,\n",
       " '0xdd525c37942a36f3bd9385720298b491604c5fd2156944f4f0eb22ad93ecd9b6': 0.9975,\n",
       " '0xf5163e1decd40317b176ebe1b20c6f3633e3f1eb3f71972a298a57a25518a854': 0.9989406779661016,\n",
       " '0x07f53503073c9b81331a5f9a644c83cae1b5796fe4cca5ecc08e7149297f84cf': 0.9997776295307983,\n",
       " '0x98f82de58248bdb35b841aa06ad7a2a3e98fc3d0408c444510dbb2d8e3f638e0': 0.9090909090909091,\n",
       " '0xc39a6771dd893413e4bcf6fbdb62b17efee928a12385aa75ad61e453987431d7': 0.9975845410628019,\n",
       " '0xf91e23ba82ff8a202000d8524cdd1620f5afaf8fa3372cf3aaa861d9f966eb43': 0.9615384615384616,\n",
       " '0x9f210605d463fadd9dfeb6c8af48e133d6654c748a732043187ed9a95edf7c73': 0.9960474308300395,\n",
       " '0x610b01e7b3245e73166227acf7a82e0626ec97b3f6251633b97e4b01817afab3': 0.9990196078431373,\n",
       " '0xc72ace57761b2d742959865b20f139be812b8ae4672cb7fd777da3ed61f0c9c2': 0.9932432432432432,\n",
       " '0x032e2bdbaff244ff6e9d37f4802b50b2426c9b70c7a0277dc54a346440436a2a': 0.9984025559105432,\n",
       " '0x95b7ed008524b7409acbe8ea8cc64145eb31565eadd419778a47905b3bc1ff70': 0.9997776295307983,\n",
       " '0xaa9e6ca2df4cfe87364c5582f7ae09bbe86ce34838e661dbc208a56446d2be1e': 0.9887640449438202,\n",
       " '0xc7ef1cbe2faf4338148f9de231ea75f14ff1a46d789f3fa63373c698c6710dcc': 0.9887640449438202,\n",
       " '0x81c1805612e9b0bf05117271aab838b7a57e6fe4e3372b6ff157ad903cc29874': 0.9782608695652174,\n",
       " '0xbce284a2c758906a2132b795153736d76a4c7213548227f015be0baf457f15ab': 0.9989293361884368,\n",
       " '0xb49f16329f1f2c2a2abdde712aa7369023ef5d675cd8c5e3d7eef2156ecefc09': 0.9998073959938367,\n",
       " '0xdb3108c76d56589e1a716d1421b3ea2b1a0f1d0d36abfe18f801ba292a3ee4b8': 0.9998073959938367,\n",
       " '0x167e968f0d21ad695ad2a564db106e9b871a4f47a7d59f58eeff24e61536ecc0': 0.9836065573770492,\n",
       " '0x1acd4467801d3b2c87e82ead27d28e31cfff21b1d4835dc6680d56d7e4da8ce1': 0.9903846153846154,\n",
       " '0xda78e2177c183093af6c4b16d770f76bacc5cf46a76e790bcc3a32c026b711f7': 0.9901960784313726,\n",
       " '0x839f12263a393806c4e55b3474a7f54c2f1bdd1af7b4b8825ff93665ecc1d17e': 0.9989293361884368,\n",
       " '0x5c338a56724a7112f667e2a71eafc5c50ed307e90aef5b910ad1e39ecf7e9000': 0.9903846153846154,\n",
       " '0x05e4cd8db4d3b7f4b645f8b229fd45bc02955ccfaa4b6e2097331df5caf9746f': 0.9903846153846154,\n",
       " '0x379517dad47c712829d8af4110ab88683668ac7f87a3dfed8e3647e08b310c6e': 0.9583333333333334,\n",
       " '0x332e4dce72d13155a5d6c2c90215a536c9e2060893327e4079a976ab82f9c701': 0.9887640449438202,\n",
       " '0x3dcdfef0a8b559c9889ed5e7763b8dde9ac556928ff6669bc341cd054a6e25f3': 0.9887640449438202,\n",
       " '0xb8b49e55ee23df02d27c457aacc68bc71f5eefca802ba6e2b4b9f7f534f76630': 0.9782608695652174,\n",
       " '0xb322f3439c0926a81c15045a591796328145a6880c7e33074c0c845e73b311f6': 0.9285714285714286,\n",
       " '0x608fc6b101952c650ce20914d4c1ddafcae49c66f42becb7ac884ad2cfed9407': 0.9782608695652174,\n",
       " '0x158680bb8591d538ad448f1d989e1e569ae4b9de104c038806661caf0c67d85f': 0.75,\n",
       " '0x80fac5047938d2d80d3b9b9bd7cd1d108a491bdebda1a1ec750e7ae5c6dcc10a': 0.9166666666666666,\n",
       " '0x0a932e9085ffb94e7c36f08981e430e136b84df6393ed8341fc46fbe5e37c721': 0.8333333333333334,\n",
       " '0xac59996bb8f29790ee39fbc0e9996c5179e9e2bf3ef18c4a6fa2bb1e420cb07d': 0.9782608695652174,\n",
       " '0x814e40438d321767a4c5f6c6010b4dd16dfb70b4c51f8e44fb47be7182b7245b': 0.9090909090909091,\n",
       " '0xfeeff92c745abb084f99a7b11e8af95654a31b8aa61f54fec13c10774b02b32b': 0.9887640449438202,\n",
       " '0xf07a3cc718314180811fcabcd42eceb17a07d00180c5003607e8d4ee9c54d11e': 0.9782608695652174,\n",
       " '0x95839977ac392fa8b2bf3fce15775f89c8c3a195dbf9239d8a1fd8715c6f04e2': 0.9782608695652174,\n",
       " '0x164475632c000d53222294c95aac0aeafdf62d8cf71e63a449d63d54ba15cdb7': 0.9887640449438202,\n",
       " '0xe600164e3a293ca21cb3838796ea643f8f20959d07561b87977e4a3200c22ae7': 0.9887640449438202,\n",
       " '0x0afcdbaa74a9953d6af3abba25fdac11868828107b79fe3cd1879d85e7049ba4': 0.9887640449438202,\n",
       " '0x5a223683e36aec52943ad160b331f4d843a2805d770da93b3a517f66764b2b7d': 0.9984567901234568,\n",
       " '0x466122fb595f4394ad050b748eff9d69db0555f103ba00d2ab32b96364e65784': 0.9969040247678018,\n",
       " '0x85d87eb4dc66ee859369cbe7ab01147c44472d7859e6a31910044d92ce59602a': 0.5,\n",
       " '0xb7d760d9c6fd734aa43f06467080cef982364ee68f7ce7cae959856da750b803': 0.5,\n",
       " '0xce2746d2725dc8f11a9b2618e6b909222e9d5de341f31be748472ff23470758c': 0.9994772608468374,\n",
       " '0xf61647da1d0310fb8afba4d2771724b200ac66f6cc7d633568d0e919f695d0da': 0.9985401459854014,\n",
       " '0x87bd4335ef8109fc78efeb1a853d6ab63af6fc03c7aaa617224e8bae494e8599': 0.9913793103448276,\n",
       " '0x72ef6c5ccea0a0afbf9e434c1e522610ffd46396e13d30d3656e5cbf479a6a8a': 0.9997776295307983,\n",
       " '0x6f82f20bc29c4385ca60bed082da12098d554896c67f465011bbeeb00536075c': 0.9980506822612085,\n",
       " '0x0c5f23e26fdf3d2bbddd7b2b876e9fda7066e82637c890ab7f167025bbb09787': 0.9997776295307983,\n",
       " '0x7b7e51c5f0eeb239f98aa06c005a3599cadaa4c2c82e15e2ae123486c3871db9': 0.9990215264187867,\n",
       " '0x3b2fc9912f627067c992f64df7f19ed764be5982a5c734672e800c98fc395c75': 0.9989293361884368,\n",
       " '0x09c387430247ebeabbdd0d59e074e6f41bbdb1baa9c00b1fd655948e2dda30a9': 0.999474513925381,\n",
       " '0x1b617f312b509e8e12502e10317d9129e77929f09d2adbdf79e859c63a645ee2': 0.9998073959938367,\n",
       " '0xa7f6fbd7c371a24a4860f59e78acf34f1663ee5f981caf3720bfc286e952a6fc': 0.9984025559105432,\n",
       " '0x55cb35c242d8baa96ebfa383a9736b0e1033bfbc2bdbeb011e4f0c6543b3fdf3': 0.999474513925381,\n",
       " '0x7310525e96ac69882e68212c47d316886e3eca5dcc62cdb6f5f6982be6dddda6': 0.9997776295307983,\n",
       " '0xff799392a17221e8082d28490db5c1848644e728379d1e1742b49a899bce8159': 0.9997776295307983,\n",
       " '0x612b3953fae880563fa3d96331f139acc28dda396fc355ff4c6d29d9884d5035': 0.9998073959938367,\n",
       " '0x71df98e747da826307dde8e40b843a37cd87453c09a17c9dbd64ad2e84ac1e27': 0.9997776295307983,\n",
       " '0x57be90aa4ec3876e9f418b7f384bdd5ac19f58e7338643c8f492662d3c6346b4': 0.9883720930232558,\n",
       " '0x69e2d45bbff38f328ef050643a264bcfd89da2e42e4b7488497c40d22b1d67b5': 0.999474513925381,\n",
       " '0xd9168dd616551650b19bdfece9c92e23539e5d832cbe0e8e67134b96bfd729e4': 0.9990215264187867,\n",
       " '0x18ddf705d5a73bb6b046a1225dd927b90c3146391493fdaa874e926143f3cc05': 0.9975845410628019,\n",
       " '0x482f72d55a05fce3cd4ef2866e7308943786de6d16c6495b1db73fad43cc2e74': 0.0,\n",
       " '0x34dd226df39997f95769efc7c8937b88ee043a2407ea3abbab0c705b7d536e6b': 0.9997776295307983,\n",
       " '0xccb18f92199ba90cb61a53a4fa6049064f7a726d2b607acdf9d1790ab1563fdf': 0.9990196078431373,\n",
       " '0x37712718daa6a7593db399e5be0b9f9d62e7bcf96ebf596d7b874cccbcaffa54': 0.9994772608468374,\n",
       " '0x2fbcc9d43ade6ccb1a49f4908bae80adbeb1ec00d56b99770860e13b5e3f157b': 0.9997776295307983,\n",
       " '0x245c2bd21981d18e6f5a957aa579831878cc4e970db7a09a8237c31c21d351d5': 0.9997776295307983,\n",
       " '0xb7a6ce6e5682cb1b1f5b77190cc3ab438dc2e795608639a6e3147840cc8552bb': 0.9940476190476191,\n",
       " '0x1a78796ac32f75813d8703785069e66828701230d1d2497d7356994f4b1ce68d': 0.9997776295307983,\n",
       " '0x82cebac7decb7439437b7555fe63cca581fe4b5f078e05de9348505f84051344': 0.9989293361884368,\n",
       " '0x180a45b2b223af90ddf2735704e4166b91c6a18d1f1e7eedf489df6e459a9bc6': 0.9166666666666666,\n",
       " '0x3711064e2fb7f7305976208782b7a7dcf141a079359b8bcff06ac0691453363e': 0.9990196078431373,\n",
       " '0xf04d0d53bbfecfc5426c7ed766f72a238423937efeed4aa193ec587c9c42454b': 0.9977728285077951,\n",
       " '0x3742cf58a247fe8b665b93646046c122a7f99816b0a66ef5860cc155d2218569': 0.9984025559105432,\n",
       " '0xc343589ff40d97c8945f0f1d4b4efed681181bfd7b0e9bad4506fcea414f816f': 0.9962264150943396,\n",
       " '0x5ebd58d52762a17049a16815424d922d74b5bf1cf4eaa196459f520fd10b2972': 0.9997776295307983,\n",
       " '0x750e35ee967f9924579b0229970c8e7b3992a2df1ec8eaaf823457202c1b7eab': 0.9997814685314685,\n",
       " '0x0b1afed0c00319872472f69f3d44830c9d90ad2cfd87ba2abcc39666be2e6c45': 0.9990215264187867,\n",
       " '0x9fbf5a97a4e9eec190d89f0290c223aa6ccde2c4cfe74712e901403e8e2758e8': 0.9998073959938367,\n",
       " '0x999edcb86c8a30bb0ebcd11b70dab471ac73b4db9e0b6a48447dc88e563a5926': 0.9997776295307983,\n",
       " '0x7089e80296d483a82830aa11c4701b59df407de53ef27120f705ec0f899792f2': 0.9975,\n",
       " '0x3229d5ff592581b967008cefd4a3a17337543aee7070f0f6a7b4429672ee66c2': 0.9989293361884368,\n",
       " '0xf67312d320354f508ffa0c452c0d9de09d1afbee5e00029c00efddc6e4b70e7e': 0.9887640449438202,\n",
       " '0x00e368d8f865493ab26255d11db22eb6887eb55915be9542c39d5b42b74f7596': 0.9655172413793104,\n",
       " '0x540f5ed93ea6028a5fc22743f7d496c602ec036f8faa0acbcc649ea5f307ffa6': 0.9990196078431373,\n",
       " '0x271e38fec7046377c5ff0df3627f99239863231e8d3c739f0f5d2c8178f33c7f': 0.9989293361884368,\n",
       " '0x9e898cf4def01deadd4792cd0d1fa9fe301e543458332d57b3bbb8f906b72f5d': 0.0,\n",
       " '0xf9555ab4abaddcd4d588d589a9508968fe41e554d8b7e1d7b0195a4d583213c3': 0.9914529914529915,\n",
       " '0xc3f603744bb15df5ad797a781466b290abfcbcfd510ce3b5565db19a856f7406': 0.9998073959938367,\n",
       " '0xd1b717e0eda47736e617f69245b8a707a7bfaad2b138b772e4d13215f9bd5ffd': 0.9962264150943396,\n",
       " '0x2949d5d9a32b5888653a971d40e793066930b75fefdaa38480bfc9931e8873e8': 0.9989293361884368,\n",
       " '0xd9533c5b938289971ca37a4f7d9df95ef43f7dc2b543842b40db9b67c942c5ec': 0.9994772608468374,\n",
       " '0x540a38b9312937803c799d2cbb6c3edd2c5a060ce2678c9feb62b6903bb249c6': 0.9989293361884368,\n",
       " '0x248901d5204ee2bfeda07a605feef16c71fa5c11590926a05c6113782fb0a4da': 0.9984567901234568,\n",
       " '0x177b6aa3f422df8e900dc8adfaf61cb93962b2d41cd443c99e529ff834067721': 0.9988998899889989,\n",
       " '0x026aa23aab3ab5ff268785db6f35cea3c1d40e703955b356530beb43653ba992': 0.9975845410628019,\n",
       " '0xa839ef2aa3621c060db6adf6aefa8a7880cc9f0acbf93caaea68875f54772b5d': 0.9945652173913043,\n",
       " '0xad86e47fee02a8876d5f966259452ddcc4ac1cfd5c3b8a975449e29e2d90b32b': 0.9998073959938367,\n",
       " '0xf20fa1f4baeeff99ef59353a1bb85c1555b295f5814aad736cd3717e66dfceab': 0.9444444444444444,\n",
       " '0xab28c5ff97fedfca2b3c0d4d22f04e9a48f64456b387eec89cb1f5b33424638e': 0.9975845410628019,\n",
       " '0xfeb909918088ae112e9de71b97587f86a99f816cebc02573f1cadcf0b2eba226': 0.9989293361884368,\n",
       " '0x7a261402c651a046a39336dd93fe6918e30fa669927f2b7df8e279dbb4af786a': 0.9998073959938367,\n",
       " '0x365db716f0a57e66d0144585f85ce8e7f83447a19e518d0157962cee872dcf30': 0.9980582524271845,\n",
       " '0xdb95b4cdaf4f3fa64f77c908c0434781126c9d3bda5a1ec9508196a49b814cb0': 0.9947916666666666,\n",
       " '0x319fdc0a27a95e82b75b4b6461d067e4d0a1214ead65473708506350d9334187': 0.9997814685314685,\n",
       " '0x3e170272377214c4ab9d782e160514c8d507b15353d0b0d3e5bdda40e233d156': 0.9900990099009901,\n",
       " '0xfc9af0096a58a12e5a7ede6fb767ea4243aa888a8b21e239d77085526a4c3c2a': 0.9998073959938367,\n",
       " '0x985f8a0c06b47208453a7f50f0399b15225c6ee0aa33226dabe3f2e8b6265c30': 0.9951923076923077,\n",
       " '0xa39f192515a027180366cf09432a94d47f88f9d5da1e05f0ac28babb3e0fec8f': 0.9975845410628019,\n",
       " '0x0875567721dfd522d04547e0fd056175b4c9bc64009fc8fd0a93181ef3a1b830': 0.9954954954954955,\n",
       " '0xac4cd1c42a47ac49928e6467425789f8c85d6f369affd823db26146f941064ec': 0.9980582524271845,\n",
       " '0x2842d928d179d5c8c04248cca76bf5baa312ffed9d57b8a47d9d5198e69c01e0': 0.997093023255814,\n",
       " '0xc855bb241625747d830e44f32862c5ae4bb1c1ba08dab304e5ac75e285a03090': 0.9997776295307983,\n",
       " '0xea912756e7e1eb53f4bb4a194fc54f277dc5cf9c5e8e7d3d21c517e409016f2f': 0.9997776295307983,\n",
       " '0x80cf1e679e08718fe27ee8e4a68b14c864885f4a22f544703c4b5f2fc7837bd2': 0.9964285714285714,\n",
       " '0xdd5752909a6c63a9e62811e22471eeb2fd31561b48fbc0d1f3f6040155d71158': 0.9990583804143126,\n",
       " '0x3af5b05fc98d8a12e18d5c31b8a37d29665604014f97a3fc501ef67d73001a51': 0.999474513925381,\n",
       " '0x3bedd5e8407acab6ee7ca6ae8287b7b105044435673f59c061ede4f4e1370a74': 0.9875,\n",
       " '0x1327898a2a57058e0e22193bb50a1239681ca6be2ae5f7cbd669713642cd233c': 0.9980582524271845,\n",
       " '0xe4aaf44b8723c25d437000f9d9408ff0d9ca22c8db9561741423a171f698fad6': 0.9994772608468374,\n",
       " '0xd853605504aa16ce0f2e2bfd1fd59668726b74add3df19da5048e1e8de424659': 0.8,\n",
       " '0xf1dd33568827de45c073847f175e34f2f1d67c0c3b80716cf23414092a5cb787': 0.9969040247678018,\n",
       " '0xbed1da0707653302ba8204034afab70b0e92053f988a25a06902ba2760d1cbf5': 0.9997776295307983,\n",
       " '0x286fc8eac93cfa38fa9c163136c2b6407f460187bb93c79404c43d170699fea7': 0.9975,\n",
       " '0xac020e9566e5b27940ecc44668f636e6386cf0f909db6a34c45a3bf76266c84c': 0.9980582524271845,\n",
       " '0x53160dc515f084dd0795bddfd2bd3175da398eb407d33f64b91050167c00294c': 0.9984025559105432,\n",
       " '0xc5c85d8d791e853a7efc4a897adfbf1e8520cc1910115112f230c0d0645c86ac': 0.9995427526291724,\n",
       " '0xb975edf2ce2617b760edf45412c702b1a26b4ebed078c59dec477c84d791200a': 0.9984025559105432,\n",
       " '0x4f3a528ea38371fd259101109c1a32c1d2c5016994f3afb83832366ab3141911': 0.9937888198757764,\n",
       " '0xba62e088a9021b4cc88a93fb0bb2508eee8112285b8512fb6f7b5bcb8d87fe71': 0.9838709677419355,\n",
       " '0x9e96ddc96a4c76ff3926b4b21efa60e726b14a90dd0726dd50c67a614555663f': 0.9935064935064936,\n",
       " '0x3af72b131bb6ea590c29231629e5d8d547b0b7f950c15b29c6e652c206c2465d': 0.9998073959938367,\n",
       " '0x726ffa36de5590d9ab49052284bceb0686a32a20915f34b6db8e1f3e36523eeb': 0.9962264150943396,\n",
       " '0x337bf5ebca435513f0e1a20cc1d62868251ea5b86f30e77fcfe0b07e5531581e': 0.96,\n",
       " '0x6345494773f07cde57211a11da256a2e109891bf406a79a7ce00cfb5892e22d2': 0.9988998899889989,\n",
       " '0x0af9a2a4c6b76fdf8efab4b8a2168ce15677d6a5e268c6fe3fa9f6f703918020': 0.9743589743589743,\n",
       " '0xc2d0517d49f851bdb9e67030213b8a539c00ad84e4efb1533af2849391d4f847': 0.9998073959938367,\n",
       " '0xfc8e7257d48bc2ca9adec1419cabdec38b683534775d5d4c439f1ceb6b24e6e5': 0.9875,\n",
       " '0xb02ac6626d0b2a6092cd335ea3771ea09f02b67eb44ccd36c82caea7a11181da': 0.9903846153846154,\n",
       " '0x8f2e754063d7f43f93d42b16586c9fe688c3ce0b92accc1bae9689e37a98ac8d': 0.9998073959938367,\n",
       " '0xce0b294b039618a9832a55e14cf8d6c1afa32dcbc9fe65c02a3f10a56e1cfd65': 0.9998073959938367,\n",
       " '0xbbe106a10f255d7999d89ae643c9624c2dc8da3c54e8c43effb612415061d37f': 0.9997814685314685,\n",
       " '0xbc7aeb5e1bf47b52c17343235f0889cb5994bb18f4f749996d9791b16f9006c9': 0.9997776295307983,\n",
       " '0x9e36f8d517c32868dca3291e3ed7c0c93155d8b81154810ce6f7c293b52a87a3': 0.9997776295307983,\n",
       " '0x7ac700a5cfed08c463018188455f7ddf682747a7d508418d826a480df030a59a': 0.9997814685314685,\n",
       " '0x003981538f31b3ceb3c687581002a00d61082449aa2c9499dbb3b981e2075ae1': 0.9997814685314685,\n",
       " '0xbe1dfa8e659b6c56ab1bc829723f1cfec43473043f0a642ba73d25edb4ac06b7': 0.9997814685314685,\n",
       " '0xa6a90f3e0e63156a752449abe8353ae561a61132552b89b73bf578fb4640c11a': 0.9998073959938367,\n",
       " '0xfb46dc65eed1b048dd7e846a48f3eed4fc2175ce482671a793aba8cc717e3b5e': 0.9998073959938367,\n",
       " '0x004c8b1113ebf9afb4ce87fbc305a101517b8847cfba206ea3ab223391411a9c': 0.9997814685314685,\n",
       " '0x445e3f2a980e9b8cfd64be8f8c4eaf199f476d1acd738385b47e0c71cac3208f': 0.9998073959938367,\n",
       " '0xf55e6fa6f5367c67725500e302d5a7fcd4449b066353ffa91038e878978f1ccd': 0.9998073959938367,\n",
       " '0x10e1d879d4d5fe3f8081144c07a413eb9def238c610773236de96c85dbea4d6d': 0.9997814685314685,\n",
       " '0xe5151d0cce9dc16029d17142cb1662f9bf331dbc5522a7b3319b495074d7a008': 0.9997776295307983,\n",
       " '0x3fd7fec3046e4dc7b0253c08e988d1692a7f26c900742ca77ae00e5b147ba023': 0.9997814685314685,\n",
       " '0xc496348f78a0f24b3dfb18dec24d426f793686d924998fea41ed5104b464bd4b': 0.9998073959938367,\n",
       " '0x29c3eefe67eb11bd091f3b94db74135246e8903b23f3fb63659e59b114ecd5ff': 0.9997814685314685,\n",
       " '0x055ac0a2309226bf13f80160774dd424dca3280f577eaef4e16a4ebb35872170': 0.9997776295307983,\n",
       " '0x438e398d6ad02d41f01999b04884d7310c2facc9dde448326ab1f6e36829b346': 0.9998073959938367,\n",
       " '0x86f5bd9008f376c2ae1e6909a5c05e2db1609f595af42cbde09cd39025d9f563': 0.9997814685314685,\n",
       " '0xfe201be8e8aba90f78a2060500e535bc92761c2687d512ad78c0828981884f84': 0.9997814685314685,\n",
       " '0x4e95fca70323c8a2d7996a11b2e4b9ef16a2d37b60d20040c9e9494c6f98c23c': 0.9995427526291724,\n",
       " '0x04cde2f76df807599f4ce40d8a37519536df784f0854753e1535ae6b112a08fd': 0.9997814685314685,\n",
       " '0x7783b9a17c58de4b86b0a9cf06afdd0b4cb7c74462943d59fd76bcce86bfb24e': 0.9998073959938367,\n",
       " '0x79a976ef79b8c7a634a0a502f30d9d9199ac42f0d98b513a6c5715c1e5ac5325': 0.9997814685314685,\n",
       " '0x195844e4c1aea53197d253c269880835c3049ed9ee807f4718f108fbfe0e8206': 0.9997776295307983,\n",
       " '0xe11f9acce9d1055aab2f8c2967efc5e93f17ce679a1e24e693d96314985734b8': 0.9997814685314685,\n",
       " '0x3a23fb1678386b1ac56bf9bd6df9e32292872cd8c6f7513c7c96e2d4c732a4e5': 0.9997814685314685,\n",
       " '0x1746c5261ec672736c9ac642327446b627a845db352a0833bf7362351a27f01c': 0.9997814685314685,\n",
       " '0xf125cb4824943e679890dffa71a079e8a3514c052aebec33ecac5edda54c7eaf': 0.9998073959938367,\n",
       " '0xbb294461597bb4d2d996eb261fbe9357785eaf8edba45189dd64e9980d7bb286': 0.9997776295307983,\n",
       " '0x712c23eed0a787c24d3a3fbb7ac5eadd08bb0291efa2eea757c7198a9cbb385d': 0.9997814685314685,\n",
       " '0x2c291355b1405e8a8807e42716aafe7d7a97db9d9c926e40fe2861e9a9c713ba': 0.9997814685314685,\n",
       " '0x00d10739a17b6522fd484af6dbc9d9436ba765a67234cd868c8f5c52f9c3d3b8': 0.9998073959938367,\n",
       " '0x6dde44dff5b2bccb74a46bbfa9d63c14265a4f2d61c6dca10a601fc50f88af2f': 0.9997814685314685,\n",
       " '0xde9a3ed3f3ed4e781e5ed37e9bbd22ebcbff03d29d4e19b5e31d7bc715231516': 0.9998073959938367,\n",
       " '0x38d7a91226129d4726af5015953a1f3ca7afc82119ddb96da2cc188f67f8c264': 0.9997814685314685,\n",
       " '0x7bf1d6a56f1d9a99ff1758a3468511a974ca3099be9285cd039f898ee87ee0ec': 0.9997814685314685,\n",
       " '0x61813d5113477259181aea6d298f899f5a95f1cd8e3ed626896e81a12de9966b': 0.9998073959938367,\n",
       " '0xc06e204de315eed0d35b1a8aaad8f4a81774c46665c03e7bf5b95c47784cdb7b': 0.9997814685314685,\n",
       " '0x5a22ff867e14088afb54d489abd31bae9d853e436b028b045b32d8b2fe1cc8e0': 0.9995427526291724,\n",
       " '0x6e716f5276ee91d053506891dbcc11faa9cb2917ad7f2129296f85093c162bc9': 0.9998073959938367,\n",
       " '0x5d9dfc794a80597bdbb3365f62f727a1584e5548d03178400c1588a4d58c3531': 0.9995427526291724,\n",
       " '0x6e764e1feb062a681dc29481c083bbb9c23d5ddcabb84644d2c443ed561ddc5f': 0.9997814685314685,\n",
       " '0x421a2545e59a4313a8f927930326146034774d424deecffdb72b7e528ffb4fb4': 0.9997814685314685,\n",
       " '0xec7019041809844c289c81623802cc24ca145afd663b3fb39ce44f225c432c61': 0.9997814685314685,\n",
       " '0xd5a08001a27b8cd551d44ab8265d058bf77a0ad56b1e213312d550fd5e99c8f2': 0.0,\n",
       " '0x9f01d72c459ab764d7e1964859485492e0f39319fe7bf2fcda659d99b006e02e': 1,\n",
       " '0x0ff160ce4d7a07d15174cc2cf4ef84645b86a1fd775176ab015c1545f2973c64': 0.9998073959938367,\n",
       " '0x7356f71a5a1b0cdaaf606b80b505bd638b7e34c3a82110acc8ad48f623406a24': 0.9997776295307983,\n",
       " '0x2a4b81a2132815ebbf5e26127391e283a46f6f4c0b523ccc764106d20e4c5157': 0.9998073959938367,\n",
       " '0x20f045802838e2600f5637daa6c2afef4441f83856e80315e6914c400697de2b': 0.9997814685314685,\n",
       " '0xdbedab7eaae0beb8a8fed8140760698d350d02b0bc04c07692480552f3018bfd': 0.9998073959938367,\n",
       " '0x64d5b14374eb0e882ed824f0ff6e967e5592dc532bdbbe5ada3014fd950a8c7f': 0.9997776295307983,\n",
       " '0x6927d4dd9fffb80f5ed3c485c92bd046cbabaa0c8982cd926fc21c2edcf0ec9b': 0.9998073959938367,\n",
       " '0x7fd006561fb453a1d7c15dd71d23c3c72ffa3a891795557ca6735b06b1febbe8': 0.9998073959938367,\n",
       " '0xb9841a1d0c07bf194fbaf3c45f90201a6c1ae07b99534f987a40bbcb0a891fcd': 0.9997814685314685,\n",
       " '0x6cc403f681519c46017644405acc186b714c5b7ff6301054d7524705fe9443c9': 0.9997814685314685,\n",
       " '0x352a78ba9271ac2d93647bd497ece1b6affa1a612c0b410a1ce2e127d2a1a985': 0.9997776295307983,\n",
       " '0x2eff319ad4fc621667086c41566573ed4abeb4a0b89c52af78d4619ada5ba13b': 0.9997776295307983,\n",
       " '0xe4e1fd472fe63e0a6d2a0d6d89d3584477a08e2e89ca10e2a73c4a7f6460c070': 0.9998073959938367,\n",
       " '0xd34ba8404df56d2a1afdd21d3d4fc3b618197f4168dba02a8ea57895313107c3': 0.9997776295307983,\n",
       " '0x1b6b21a77660788bc0d9737c2a5a9c9b198ffb45143c9a1d2cc90629a2feb167': 0.9998073959938367,\n",
       " '0xcb35e8b4d395e2be67644684e665c7da9ae38f438d9a516b544a3557ab687511': 0.9997776295307983,\n",
       " '0x41335b4b65603d51667c40e574ec5d399a4944b9127b5da63f6d88c17b7bd8a4': 0.9997776295307983,\n",
       " '0x44254bccb4fbd68af177e37a8f7674ffefca46dfdf1ea6d52f6a1b765edc7001': 0.9997814685314685,\n",
       " '0x0567aeef8af6c515667da9454379d7ad2ec3ac55d562346b3836288ced907b2f': 0.9998073959938367,\n",
       " '0x4d9af877e456b09b5f2ea1e37a71b03add72f39712442484274ddfbd7024a47d': 0.9997776295307983,\n",
       " '0xe26e2853d0f8ebfac7037be9934b2c1f0f6ba99b2a8b2e06fa3013d21bf1d0c4': 0.9997776295307983,\n",
       " '0x69c3103dd20f89cbd2948d04d503f01d1848b31671c9b0cd127798c66c9e2c68': 0.9997814685314685,\n",
       " '0xfa1e2ef2fde7d3179b6ad9eba0239838e0d9e414f8c2ef7e4a23310f7f8ad711': 0.9997776295307983,\n",
       " '0x0542753bc96295e610428832b813c8c41cb3350de12233f382c3de6300b97374': 0.9997814685314685,\n",
       " '0xd8425e6db324ba47e80fb79d731a7178b98115beb76e871bbf23b151ffced2d7': 0.9995427526291724,\n",
       " '0xb5817682cf33be0266400292d457b6f10550e3fde38b6b02f593e5daf7f6cb0a': 0.9998073959938367,\n",
       " '0xb5dade371572079d8d9edf7e229a938fc4e9d02009d82b7efd9a17d02068f779': 0.9997814685314685,\n",
       " '0x7f16feb5f970687ff8f6049ad8eeeccf0384d1ec6ed52828cc30e93ff7aff19e': 0.9997814685314685,\n",
       " '0xaa1ebd715db156893deed43c7b013d1a37bdacfb49bcc71f6c0b429ad3c3e0f2': 0.9997776295307983,\n",
       " '0xc286f0f4198dbf63993ce4f4ec6a1be427743ef5b8bce2dcea3a6f1739203cc2': 0.9998073959938367,\n",
       " '0xe8698b98c6cc21bb36f7aab59f6f33df2559ea6f6117c27433a4134895938a16': 0.9997776295307983,\n",
       " '0x803917afb6353d6db75d6f0f655969ff76aea6fa34235dd23bf8941873f81361': 0.999474513925381,\n",
       " '0x9059e999d348f477b753381265d0ac9539923dafabd56acce6c66dd18df09bea': 0.9997814685314685,\n",
       " '0x30b31f3b2ff45f28ed6946e4472e1b57b6a5329c2e9d237b5d1a49c3882ea2bb': 0.9998073959938367,\n",
       " '0xd2a18d4ac6780ba62881b3d973a3b7264e94d69171416094e4466f0ff64e7c95': 0.9997814685314685,\n",
       " '0x443ecc6d5f95898b5f6b43da5bb0e8fb3c4065539e7da7ef628b198fcb882874': 0.9995427526291724,\n",
       " '0x2f1df42db6a21e8ac54a6ec19de55e744fca6a5c3d4d7fc5d4a827c04d2ac962': 0.9998073959938367,\n",
       " '0x5891df730983edce885d7f051c99cc6e6664154add3dbaf5c0239264413a79a6': 0.9997814685314685,\n",
       " '0x67fd8db10a630f3ce399904ac20f359dd0acb3714500ac4d22a334f72272f992': 0.9997776295307983,\n",
       " '0xe49e95bd8e50abe832b067c195b756bcdae6fb1067d7f60f02385abbb1d91cbc': 0.9997814685314685,\n",
       " '0x6b1ffed49640dce414b1110fb8111c6e6d5cae0707db526b4628d1088a0ae0be': 0.9998073959938367,\n",
       " '0xae260ecb74a00734a8a3c8a395bf0bf470dcd0a1ce23a1249a17f5addd1396a7': 0.9997814685314685,\n",
       " '0xe04747ded382837d70c08f427d3694db2f68d918efd00c78ffef0cf9fd30b76e': 0.9997814685314685,\n",
       " '0x3f737019abf818caa684c8f66b9d2d8f8684d18223fbd3f258f92552855aefa0': 0.9998073959938367,\n",
       " '0x0ffa02218e33b4c44cb4ffa589e2419815648c143beee58a622add9f212131cd': 0.9997776295307983,\n",
       " '0x1d7006a7d08738755a0a5e2563a5da30d20c075252656a880dfa9ed532772574': 0.9997776295307983,\n",
       " '0xf5e18bc3c50b8e9f405a68463cebc071c9b41d8bf1043bbe9fe650fdf85577db': 0.9997776295307983,\n",
       " '0x7e2bb18216602da64e8efa1daa25e73b637fc27682a0764e83dc6a798c42b096': 0.9997814685314685,\n",
       " '0xa16058f77770a974229117cd77a1379afd89448f8af95236fd35c94e6b8b5e91': 0.9997814685314685,\n",
       " '0x600e8a45976d7b2416db534f48679d8e9445ce2a431130e8a372e2244808b774': 0.9995427526291724,\n",
       " '0x9c0b8a503383b0638871925afc9c96bbab1e9b95646263f5523bd826c7aa026b': 0.9997814685314685,\n",
       " '0x5eeff43739cf757e2d04a412c43bc3126b8c2adc93223739e2ce6244b14baf78': 0.9997814685314685,\n",
       " '0x1429c4ac94bdb60ac66d4942e0bd1504fd0047b90010110c1e97e01420ee5e46': 0.9997814685314685,\n",
       " '0x4792c530b0aba60a7e93b853a9056c1857bdb78f217083c17fa81c4354473768': 0.9998073959938367,\n",
       " '0xe0967728568cf1bc4ef050dc60d6d6a1e06f5770942ae867291b420bce39c1e2': 0.9995427526291724,\n",
       " '0x4b27163510222f3341a5bf218356da50e8d4e95285aa6a657cad61ceee3101e4': 0.9997814685314685,\n",
       " '0xbde12e14b4b346d3d66a76ec9ea937f0da708d0e5d977413d0297247ccc5e541': 0.9998073959938367,\n",
       " '0x5cb83e194c82a17b8676d5150e451679d670159de1717bba6304fbfe3cd6047d': 0.9995427526291724,\n",
       " '0x29a79b36507173775d1e7d60c8378b0991c451c7c10e6fabc935abbf28257b05': 0.9998073959938367,\n",
       " '0xf02001253812b463cb33a1b2f5084242390773da9f1a7330e5627870d6f00348': 0.9997814685314685,\n",
       " '0x1dbd125fe12f4785cf8c727eb9d03d5fa93ddedfe8c481caf7a6ffe4647dcedb': 0.9995427526291724,\n",
       " '0xe9f39a1ba2ef7a39710381bebc2d0b76b5195ee92d6674f85ceedf56c16d3be8': 0.9995427526291724,\n",
       " '0xc9a9fca39558e7986fc4d9ff681fdcf4441ba44c395e3a749dcaa8b0fef87f04': 0.9998073959938367,\n",
       " '0x301356362d31188fa073a4ce47c452802c2ef65c4b13b348139a074920a6aceb': 0.9998073959938367,\n",
       " '0xd2b64b4eb47180f38e2a94ea3f62af58439875d13df8413e3481c92efb1941ec': 0.9998073959938367,\n",
       " '0xe086bca17e36c7c52ba61f5064cee7e903d1dde489f8739f39fd05ec2a212cca': 0.9995427526291724,\n",
       " '0x415f0d9d862adf59784075c9ba8334d6b94ce66719f6b19c1a2eee17236bb6c2': 0.9998073959938367,\n",
       " '0x0e07813880d8850d30e4d2250448c164e295279f59d6fa47b584ff87192cb1b1': 0.9997814685314685,\n",
       " '0x7827eb4f41d4d7b345428d998231302d245638b28818c1fe27400193f3db1598': 0.9998073959938367,\n",
       " '0x38637887579ff587e98e150faafda0f872667afc7165b8619e11446bccec82c4': 0.9997776295307983,\n",
       " '0xd57a26c2a69f01e0c236ff9fecdfd812f152d38e974dbfaa8ac5768cd79f5430': 0.9997814685314685,\n",
       " '0xf28183f7f1d73110471dc06f8adb79ed07d2494b15674d67bc7180fa52cacfeb': 0.9997776295307983,\n",
       " '0x508c541e4d6c72eba50f403aa27ed1945de737fcc0e80a3f6b912c52a8702e07': 0.9998073959938367,\n",
       " '0x1a8a3d6b8242f0798beb155e162d19a2a69b8a29c78b69efb068e5deefdd4724': 0.9997814685314685,\n",
       " '0x9a7ef092c9fae77c8f4a0cf34a55cd28dc0141bfcec5db93a552f8e780a4b544': 0.9997776295307983,\n",
       " '0x6554e8f400b30b693fe592d79e9600f6391b9d6df17b996f8eab3f9bb30b018c': 0.9997814685314685,\n",
       " '0x3e0e2340a284da91f6ed55253a6b9a5bd83c424c4421dceafa82b47ad78ca07c': 0.9998073959938367,\n",
       " '0x269350ef6f16bc58e63502ff9a64746c95bc3aaeb0b4076ed1eea78ed3a212cf': 0.9997776295307983,\n",
       " '0x5792d6da0afcba8b0f4d5e4a99276143033eda580cd89dc3e5199730f5ad4abb': 0.9998073959938367,\n",
       " '0xedd98adb9da03a878012daf986e22616c62ef368b0b6f4ddb36966762b221067': 0.9998073959938367,\n",
       " '0x8379546f7ab8098a54edb27360c02b1d51b2363f894c258fd18846da72eb3b4b': 0.9995427526291724,\n",
       " '0xcd26a8c2b58f0e199e40a9f5377c5c02afd2d75a2b1604df50cacd5bafcffdb0': 0.9997814685314685,\n",
       " '0x6417ae417daa9d3dfa66b0a331b2223237f73335035bac2ebcec587c8f68f5f7': 0.9997814685314685,\n",
       " '0xe7d5f7ce5884392e739830c2fe398dfd1439c85c03497d6cc93ecd75d8d6b207': 0.9995427526291724,\n",
       " '0xe9c93d25e476fab0eeb19473e632e59a1175125f9d14ef982b0ff2576ea2429d': 0.9997814685314685,\n",
       " '0x4c0b348a08c9b8a7bcfda601e3d91b911f4a6b9c4ebdc0bbe661590ab4f0f632': 0.9997814685314685,\n",
       " '0x3a1d62696db1d77b06c461d47d0b72a33c43dc6ec8474ff7e3d5efe749cb550d': 0.9997814685314685,\n",
       " '0x00b3a937242029b21e76f0b94a3e8bc92f31a2dfeb19cceb2eaeb14184ad8a97': 0.9997814685314685,\n",
       " '0x92d116e760138e322ab555275eed9dd863ba4a75107a40fc3313f81bbb3c6b75': 0.9997776295307983,\n",
       " '0xa49aaa23bedea757225a41a8ba83486b200ac3d9ff2d1449f6b828e7747b8a45': 0.9998073959938367,\n",
       " '0xf7a4f1b836dd2e226a1a35149f1199097c7b84ceb492e6bf028638f3cd8b13a8': 0.9995427526291724,\n",
       " '0x5f59ccfb41425e750987af47a5fdd0c2936337575f421b863ffa743a39e91f64': 0.9998073959938367,\n",
       " '0x0130c8dd737e6886122ecef831477d391ce53487a97604793880f169f88b4687': 0.9998073959938367,\n",
       " '0xf8a778b886a14864bd6d35aca88af82e6957ea7cfc645572e5f951f21a9d6ede': 0.9997814685314685,\n",
       " '0x71a666cfe3f37dd95be553cc6db34c28cd4cb0c8cdd1d1e829ad49b1b35f70e8': 0.9997814685314685,\n",
       " '0x9e5ad8016d6808d394bd7d1a40e78cea4e7eb854b2c27eda10ecc8cd4279fa44': 0.9997814685314685,\n",
       " '0xd27694b1888c64079344cc6b9c96cf92027846ad3c4ca6f5a597aaa68496a1f4': 0.9997814685314685,\n",
       " '0x022941b206434127f79eac5d0ee93bb9ca48411a6af0f2650b45666e09b42a5c': 0.9997814685314685,\n",
       " '0xf9d907b27409d1c8114cf9a28352d784150161cfa383a50770b8f30ea4884b18': 0.9995427526291724,\n",
       " '0x8b7b60b2d80e6183a1bd83e6702ba41997f7642b062f18677d9bdce44cbce8c7': 0.9998073959938367,\n",
       " '0x5ec15cbbec071d4a764a37eea88e2bab4e69f1a8d64f6f2d487efa0c3afc1591': 0.9995427526291724,\n",
       " '0x5e804d6a80f9194a479505e42ec933f3321692eef491120139a937d685692ea4': 0.9997814685314685,\n",
       " '0x372b1024fec7314d8528099ef49f8edee1172bf6e29bde185a802ffd41feba66': 0.9997814685314685,\n",
       " '0xdfb91a3af47b52450660b077173f8f6f3ad93416bc0211e2561361f30b267d00': 0.9997814685314685,\n",
       " '0x0b4b056c469a3c776d944178600f51066f1de2ee61d87b579142d44c6fa0cf77': 0.9995427526291724,\n",
       " '0x01d68db8d7e41281ed339c4759459404ce53ced91552d33a58ba981c9398bdbd': 0.9998073959938367,\n",
       " '0x8b77916d85f754b5b9871d6f8542217b561d575fba987c017b93af83388f8163': 0.9997814685314685,\n",
       " '0xf214f2cc7dc78cefbc1e6231aec4aeb6902b889fe6c05286598f1ad471573e18': 0.9998073959938367,\n",
       " '0x190e5ab83a612eac6ade512247733bfaba4a072f12fd1fdae08a060abcdfcb44': 0.9997814685314685,\n",
       " '0x96b8615eccd5b8167571c0abd694c0e011b055a9ac056787142646a7977db112': 0.9998073959938367,\n",
       " '0xf2c658264844a4dc96df0ce865e01459457371d957ab3ec138d12e815797ffa2': 0.9997814685314685,\n",
       " '0x62e0aa67e61d71f3de2c9b58079a232f3dfff1f31fb5e12cf9c556fd95cda84b': 0.9997814685314685,\n",
       " '0x65bcf9de556141af0698134cfdcceb9088546b2878b0194de93936aeb824dd69': 0.9997776295307983,\n",
       " '0xe828ba1a44f0e33f82d90ecbd2994eb5998fc3864b95e935856277d2695d5a94': 0.999474513925381,\n",
       " '0x8fb74f8692ae2f70ba4cc7fa465ad015450508e7bf08f22ed14d6d1a5cf28b92': 0.9998073959938367,\n",
       " '0x6c5c727ed6cd53921f4f8260431af470d325257f34b8b9759f2df18bba68c1d1': 0.9997776295307983,\n",
       " '0xf1260cf2778d088d403334abf42cdcb9956522e1b272600eabfc5fa500548209': 0.9947089947089947,\n",
       " '0x6e57c599f7e44fec2d5b4fc67889d683bb65baf212fdd60e120d1a0bc18b4e2a': 0.9836065573770492,\n",
       " '0x536e67635be7f0c191ae85a95764802457abd398bcb137e5af6f28b76a11cc46': 0.9473684210526316,\n",
       " '0x039320c9009fba3d721cd13468cbc27494138a098ba73ef5124c829dcf64e06e': 0.96875,\n",
       " '0x757f45c7c7a1b08e8d673a8629eb6301ea88c5308fa2a95ee06c8122ca90e771': 0.9994772608468374,\n",
       " '0xe149d65ef32b100bd79bc92f47466c03fb2d369b012c64bf063e646391b1f621': 0.9984025559105432,\n",
       " '0xcfbcc3ff6a2c595b278af9d390f4396ddf1223a407cd8308910f96487c617d95': 0.9935064935064936,\n",
       " '0xd8caacc4a88117755a7930ea3408d12e36e45744539bd014a6208df9940409a1': 0.9990196078431373,\n",
       " '0xd65105cb5c1f4b13d489402ed5a8263b1301d20c029709a8d639af63e73d7f04': 0.9947916666666666,\n",
       " '0x19fdf0e04ff0888478f83821be8f9fb4ce53cc0a007c91ffdf26489c41b5ca98': 0.9962264150943396,\n",
       " '0x8d01d8cbe06b21b80b30e66332323feb84736047805efe661d0c81ea663fd83f': 0.9777777777777777,\n",
       " '0xe9eaa6ab68df0e96cc4a1f7b15febb17d0fb787139c95c2327f6ccd444b532ab': 0.9975845410628019,\n",
       " '0x0a3050292f3c6d437ed7874ac68f489c05cfb35dbfb0ef45175f034da405d2ce': 1,\n",
       " '0xf2d2acc45c52baa8d5ce8cad31431a6e61f8e6d7fb3a05bb5ea0ff30f58fb8b8': 1,\n",
       " '0x676082acacc44d7701699292426c29f9f1554ebc45957971fa50b496314e1f0c': 0.9655172413793104,\n",
       " '0x99bc802b8e92085ff50ba3f49968ffe753236b54643896f6720bc64f871af4a8': 0.9887640449438202,\n",
       " '0xa65e0a2a536afb18aaf610b04e23e957f38b7071e9d65a6bc8d137f586738c2f': 0.9901960784313726,\n",
       " '0x37cb5a31ddaaefad6a5cf73ce07605bba7e99dc2cb2de50eaa2555f749fdfc7e': 0.9901960784313726,\n",
       " '0xd031e2628f081e1021c7da2e1954d6bea92c6dae344dedd9f104b9b6df32a6f6': 0.9903846153846154,\n",
       " '0x8ffb2cec1774af58a2a88b72a1ddaaf2c6a83cd33e95b98ac5d709e1685ce6a9': 0.9901960784313726,\n",
       " '0x061e7838f2b0cd440de669520ad5e5d9591cb4544db0f67288a52366e799889d': 0.9901960784313726,\n",
       " '0x9799cecea338298864d78ceae1cdb8efaa0401706fd36fb6df2f89af407109de': 0.9903846153846154,\n",
       " '0xe12a399aa70d723b08ed8ef635ae69880e98ac16c144716f497b26cee31667b2': 0.9903846153846154,\n",
       " '0x312c313c39387ad75b65cf13f12e3acce9aff1c3873e42761377ec0e744aa4c4': 0.9997814685314685,\n",
       " '0xde45c8d4b8c534468308f624329042bec88af6b72e83d859cc4595549ace6286': 0.9887640449438202,\n",
       " ...}"
      ]
     },
     "execution_count": 75,
     "metadata": {},
     "output_type": "execute_result"
    }
   ],
   "source": [
    "scores"
   ]
  },
  {
   "cell_type": "markdown",
   "id": "12e3fa60",
   "metadata": {},
   "source": [
    "### Results analysis"
   ]
  },
  {
   "cell_type": "markdown",
   "id": "d8043cc9",
   "metadata": {},
   "source": [
    "#### Scores of the withdrawal transactions"
   ]
  },
  {
   "cell_type": "code",
   "execution_count": 424,
   "id": "53297ac6",
   "metadata": {
    "scrolled": false
   },
   "outputs": [
    {
     "data": {
      "image/png": "[encoded data removed]",
      "text/plain": [
       "<Figure size 720x360 with 1 Axes>"
      ]
     },
     "metadata": {},
     "output_type": "display_data"
    }
   ],
   "source": [
    "plt.figure(figsize=(10,5))\n",
    "plt.hist(scores.values(), bins=100, density=True)\n",
    "plt.title(\"Histogram of scores of the withdrawal transactions\")\n",
    "plt.xlabel(\"Scores\")\n",
    "plt.show()\n"
   ]
  },
  {
   "cell_type": "markdown",
   "id": "04dca157",
   "metadata": {},
   "source": [
    "#### Compromised withdraw transactions for each TCash pool"
   ]
  },
  {
   "cell_type": "code",
   "execution_count": 394,
   "id": "37665df8",
   "metadata": {},
   "outputs": [],
   "source": [
    "# Read the results\n",
    "scores_df = pd.read_csv(\"../data/fourth_heuristic_results.csv\")\n",
    "scores = {}\n",
    "for row in scores_df.itertuples():\n",
    "    scores[row.transaction_hash] = row.score"
   ]
  },
  {
   "cell_type": "code",
   "execution_count": 395,
   "id": "22ac6ab1",
   "metadata": {},
   "outputs": [],
   "source": [
    "def tx_to_pool(withdraw_transactions_df):\n",
    "    tx_to_pool_dict = {}\n",
    "    for row in tqdm(withdraw_transactions_df.itertuples(), mininterval=1):\n",
    "        tx_to_pool_dict[row.hash] = row.tcash_pool\n",
    "    \n",
    "    return tx_to_pool_dict"
   ]
  },
  {
   "cell_type": "code",
   "execution_count": 398,
   "id": "d9b33f29",
   "metadata": {},
   "outputs": [],
   "source": [
    "# We define a withdraws with score 0 as a compromised_withdraw\n",
    "compromised_withdrawal_hashes = set()\n",
    "for tx_hash in scores:\n",
    "    if scores[tx_hash] == 0:\n",
    "        compromised_withdrawal_hashes.add(tx_hash)"
   ]
  },
  {
   "cell_type": "code",
   "execution_count": 399,
   "id": "87f6e586",
   "metadata": {},
   "outputs": [
    {
     "name": "stderr",
     "output_type": "stream",
     "text": [
      "83782it [00:01, 56663.55it/s]\n"
     ]
    }
   ],
   "source": [
    "tx_to_pool_dict = tx_to_pool(withdraw_transactions_df)\n",
    "number_of_compromised_withdrawals_by_pool = Counter(list(map(lambda x: tx_to_pool_dict[x], compromised_withdrawal_hashes)))\n"
   ]
  },
  {
   "cell_type": "code",
   "execution_count": 406,
   "id": "59dc8c4a",
   "metadata": {},
   "outputs": [],
   "source": [
    "pools_to_withdrawal = dict(withdraw_transactions_df.groupby(\"tcash_pool\")[\"hash\"].apply(list))\n",
    "number_of_uncompromised_withdrawals_by_pool = {}\n",
    "for pool in list(pools_to_withdrawal.keys()):\n",
    "    number_of_uncompromised_withdrawals_by_pool[pool] = len(pools_to_withdrawal[pool]) - number_of_compromised_withdrawals_by_pool[pool]\n"
   ]
  },
  {
   "cell_type": "code",
   "execution_count": 408,
   "id": "2857ef82",
   "metadata": {},
   "outputs": [],
   "source": [
    "compromised_vs_uncompromised_by_pool = {}\n",
    "\n",
    "for pool in list(number_of_uncompromised_withdrawals_by_pool.keys()):\n",
    "    compromised_vs_uncompromised_by_pool[pool] = (number_of_compromised_withdrawals_by_pool[pool], number_of_uncompromised_withdrawals_by_pool[pool])\n"
   ]
  },
  {
   "cell_type": "code",
   "execution_count": 409,
   "id": "414505e6",
   "metadata": {},
   "outputs": [],
   "source": [
    "eth_pools = [\"0.1 ETH\", \"1 ETH\", \"10 ETH\", \"100 ETH\"]\n",
    "tkn_pools = [pool for pool in compromised_vs_uncompromised_by_pool.keys() if pool not in eth_pools]\n",
    "all_pools = eth_pools + tkn_pools\n"
   ]
  },
  {
   "cell_type": "code",
   "execution_count": 412,
   "id": "a13c649d",
   "metadata": {},
   "outputs": [
    {
     "data": {
      "image/png": "[encoded data removed]",
      "text/plain": [
       "<Figure size 1440x360 with 2 Axes>"
      ]
     },
     "metadata": {},
     "output_type": "display_data"
    }
   ],
   "source": [
    "points = [compromised_vs_uncompromised_by_pool[pool] for pool in all_pools]\n",
    "\n",
    "eth_compromised = [t[0] for t in points[:4]]\n",
    "eth_uncompromised = [t[1] for t in points[:4]]\n",
    "eth_x_axis = np.arange(len(eth_pools))\n",
    "\n",
    "tkn_compromised = [t[0] for t in points[4:]]\n",
    "tkn_uncompromised = [t[1] for t in points[4:]]\n",
    "tkn_x_axis = np.arange(len(tkn_pools))\n",
    "\n",
    "sns.set_theme(style=\"darkgrid\")\n",
    "fig, (ax1, ax2) = plt.subplots(ncols=2, figsize=(20, 5))\n",
    "ax1.bar(eth_x_axis - 0.2, eth_compromised, 0.4, label = \"Compromised\")\n",
    "ax1.bar(eth_x_axis + 0.2, eth_uncompromised, 0.4, label = \"Uncompromised\")\n",
    "ax1.set_xticks(eth_x_axis)\n",
    "ax1.set_xticklabels(eth_pools, rotation=\"vertical\")\n",
    "ax1.set_xlabel(\"Withdrawals\")\n",
    "ax1.set_ylabel(\"Number of withdrawals\")\n",
    "ax1.legend(fontsize=13)\n",
    "\n",
    "ax2.bar(tkn_x_axis - 0.1, tkn_compromised, 0.4, label = \"Compromised\")\n",
    "ax2.bar(tkn_x_axis + 0.1, tkn_uncompromised, 0.4, label = \"Uncompromised\")\n",
    "ax2.set_xticks(tkn_x_axis)\n",
    "ax2.set_xticklabels(tkn_pools, rotation=\"vertical\")\n",
    "ax2.set_xlabel(\"Withdrawals\")\n",
    "ax2.set_ylabel(\"Number of withdrawals\")\n",
    "ax2.legend(fontsize=13)\n",
    "fig.suptitle(\"Compromised vs. Uncompromised withdrawals\")\n",
    "\n",
    "plt.show()"
   ]
  },
  {
   "cell_type": "code",
   "execution_count": 413,
   "id": "43e68ad3",
   "metadata": {},
   "outputs": [
    {
     "data": {
      "text/plain": [
       "{'0.1 ETH': (284, 12888),\n",
       " '0.1 WBTC': (19, 55),\n",
       " '1 ETH': (540, 24362),\n",
       " '1 WBTC': (163, 484),\n",
       " '10 ETH': (241, 22724),\n",
       " '10 WBTC': (161, 652),\n",
       " '100 DAI': (14, 135),\n",
       " '100 ETH': (442, 16244),\n",
       " '100 USDC': (3, 54),\n",
       " '100 USDT': (31, 168),\n",
       " '1000 DAI': (32, 462),\n",
       " '1000 USDC': (12, 192),\n",
       " '1000 USDT': (77, 568),\n",
       " '10000 DAI': (51, 1061),\n",
       " '100000 DAI': (223, 1142),\n",
       " '5000 cDAI': (0, 3),\n",
       " '50000 cDAI': (11, 103),\n",
       " '500000 cDAI': (9, 69),\n",
       " '5000000 cDAI': (12, 91)}"
      ]
     },
     "execution_count": 413,
     "metadata": {},
     "output_type": "execute_result"
    }
   ],
   "source": [
    "compromised_vs_uncompromised_by_pool"
   ]
  }
 ],
 "metadata": {
  "kernelspec": {
   "display_name": "Python 3",
   "language": "python",
   "name": "python3"
  },
  "language_info": {
   "codemirror_mode": {
    "name": "ipython",
    "version": 3
   },
   "file_extension": ".py",
   "mimetype": "text/x-python",
   "name": "python",
   "nbconvert_exporter": "python",
   "pygments_lexer": "ipython3",
   "version": "3.8.8"
  }
 },
 "nbformat": 4,
 "nbformat_minor": 5
}
