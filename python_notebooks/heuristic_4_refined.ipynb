{
 "cells": [
  {
   "cell_type": "markdown",
   "id": "51a4a109",
   "metadata": {},
   "source": [
    "## Heuristic 4 - Multi-denomination deposit and withdraws linking\n",
    "\n",
    "### Description\n",
    "If there are multiple (say 12) deposit transactions coming from a deposit address and later there are 12 withdraw transactions to the same withdraw address, then we can link all these deposit transactions to the withdraw transactions."
   ]
  },
  {
   "cell_type": "code",
   "execution_count": 1,
   "id": "77f33bc5",
   "metadata": {},
   "outputs": [],
   "source": [
    "# Import relevant packages.\n",
    "import os, json\n",
    "import itertools\n",
    "from typing import Any, Tuple, List, Set, Dict, Optional\n",
    "\n",
    "import pandas as pd\n",
    "import numpy as np\n",
    "from tqdm import tqdm\n",
    "import matplotlib.pyplot as plt\n",
    "import seaborn as sns\n",
    "from collections import Counter\n",
    "import numpy as np"
   ]
  },
  {
   "cell_type": "code",
   "execution_count": 2,
   "id": "52f4f0ed",
   "metadata": {},
   "outputs": [],
   "source": [
    "save_dir = \"../data\"\n",
    "MIN_CONF: float = 0.2"
   ]
  },
  {
   "cell_type": "code",
   "execution_count": 3,
   "id": "92232b8c",
   "metadata": {},
   "outputs": [],
   "source": [
    "clusters_file: str = os.path.join(save_dir, f'heuristic_4_clusters.json')\n",
    "tx2addr_file: str = os.path.join(save_dir, f'heuristic_4_tx2addr.json')\n",
    "addr2conf_file: str = os.path.join(save_dir, f'heuristic_4_addr2conf.json')\n",
    "address_file: str = os.path.join(save_dir, f'heuristic_4_address_sets.json')\n",
    "tornado_addrs_file: str = os.path.join(save_dir, f'tornado_pools.json')"
   ]
  },
  {
   "cell_type": "code",
   "execution_count": 4,
   "id": "10b79e5c",
   "metadata": {},
   "outputs": [],
   "source": [
    "def load_data(root) -> Tuple[pd.DataFrame, pd.DataFrame, pd.DataFrame]:\n",
    "    withdraw_df: pd.DataFrame = pd.read_csv(\n",
    "        os.path.join(root, 'lighter_complete_withdraw_txs.csv'))\n",
    "\n",
    "    # Change recipient_address to lowercase.\n",
    "    withdraw_df['recipient_address'] = withdraw_df['recipient_address'].str.lower()\n",
    "    \n",
    "    # Change block_timestamp field to be a timestamp object.\n",
    "    withdraw_df['block_timestamp'] = withdraw_df['block_timestamp'].apply(pd.Timestamp)\n",
    "\n",
    "    deposit_df: pd.DataFrame = pd.read_csv(\n",
    "        os.path.join(root, 'lighter_complete_deposit_txs.csv'))\n",
    "    \n",
    "    # Change block_timestamp field to be a timestamp object.\n",
    "    deposit_df['block_timestamp'] = deposit_df['block_timestamp'].apply(pd.Timestamp)\n",
    "\n",
    "    # Load TCash pool addresses data\n",
    "    with open(tornado_addrs_file) as json_file:\n",
    "        tornado_addresses = json.load(json_file)\n",
    "        \n",
    "    withdraw_counts: Dict[str, int] = \\\n",
    "        withdraw_df.recipient_address.value_counts().to_dict()\n",
    "    deposit_counts: Dict[str, int] = \\\n",
    "        deposit_df.from_address.value_counts().to_dict()\n",
    "\n",
    "    withdraw_counts: pd.Series = \\\n",
    "        withdraw_df.recipient_address.apply(lambda x: withdraw_counts[x])\n",
    "    deposit_counts: pd.Series = \\\n",
    "        deposit_df.from_address.apply(lambda x: deposit_counts[x])\n",
    "    \n",
    "    withdraw_df['tx_counts'] = withdraw_counts\n",
    "    deposit_df['tx_counts'] = deposit_counts\n",
    "    deposit_df[\"tcash_pool\"] = deposit_df[\"tornado_cash_address\"].apply(lambda addr: tornado_addresses[addr])\n",
    "\n",
    "\n",
    "    # Remove withdraw and deposit transactions with only 1 or 2 transactions\n",
    "    withdraw_df: pd.DataFrame = withdraw_df[withdraw_df.tx_counts > 2]\n",
    "    deposit_df: pd.DataFrame = deposit_df[deposit_df.tx_counts > 2]\n",
    "\n",
    "    return withdraw_df, deposit_df, tornado_addresses"
   ]
  },
  {
   "cell_type": "markdown",
   "id": "2c9bf68b",
   "metadata": {},
   "source": [
    "### Docs: compare_transactions\n",
    "Given two dictionaries, withdraw_dict and deposit_dict representing \n",
    "the total deposits and withdraws made by an address to each TCash pool, \n",
    "respectively, compares if the set of keys of both are equal and when \n",
    "they are, checks if all values in the deposit dictionary are equal or \n",
    "greater than each of the corresponding values of the withdraw \n",
    "dicionary. If this is the case, returns True, if not, False."
   ]
  },
  {
   "cell_type": "code",
   "execution_count": 5,
   "id": "c5f86f4d",
   "metadata": {},
   "outputs": [],
   "source": [
    "def compare_transactions(\n",
    "    withdraw_counts_dict: pd.DataFrame, \n",
    "    deposit_dict: pd.DataFrame,\n",
    ") -> bool:\n",
    "    if set(withdraw_counts_dict.keys()) != set(deposit_dict.keys()):\n",
    "        return False\n",
    "    for currency in withdraw_counts_dict.keys():\n",
    "        if not (len(deposit_dict[currency]) >= withdraw_counts_dict[currency]):\n",
    "            return False\n",
    "    return True\n",
    "\n",
    "def diff_transactions(\n",
    "    withdraw_counts_dict: pd.DataFrame, \n",
    "    deposit_dict: pd.DataFrame,\n",
    ") -> int:\n",
    "    num_diff: int = 0\n",
    "    for currency in withdraw_counts_dict.keys():\n",
    "        num_diff += abs(len(deposit_dict[currency]) - withdraw_counts_dict[currency])\n",
    "    return num_diff"
   ]
  },
  {
   "cell_type": "markdown",
   "id": "c54c38e4",
   "metadata": {},
   "source": [
    "### Docs: get_num_of_withraws\n",
    "Given a particular withdraw transaction and the withdraw transactions \n",
    "DataFrame, gets the total withdraws the address made in each pool. It \n",
    "is returned as a dictionary with the pools as the keys and the number \n",
    "of withdraws as the values.\n"
   ]
  },
  {
   "cell_type": "code",
   "execution_count": 6,
   "id": "1eef880a",
   "metadata": {},
   "outputs": [],
   "source": [
    "def get_num_of_withdraws(\n",
    "    withdraw_tx: pd.Series, \n",
    "    withdraw_df: pd.DataFrame, \n",
    "    tornado_addresses: Dict[str, str],\n",
    ") -> Tuple[Dict[str, int], Dict[str, List[str]]]:\n",
    "\n",
    "    cur_withdraw_pool: str = tornado_addresses[withdraw_tx.tornado_cash_address]\n",
    "\n",
    "    withdraw_txs: Dict[str, List[str]] = {\n",
    "        tornado_addresses[withdraw_tx.tornado_cash_address]: []}\n",
    "\n",
    "    subset_df: pd.DataFrame = withdraw_df[\n",
    "        (withdraw_df.recipient_address == withdraw_tx.recipient_address) & \n",
    "        (withdraw_df.block_timestamp <= withdraw_tx.block_timestamp) & \n",
    "        (withdraw_df.hash != withdraw_tx.hash)\n",
    "    ]\n",
    "    subset_df.loc[:, ('tornado_pool')] = subset_df.tornado_cash_address.map(\n",
    "        lambda x: tornado_addresses[x])\n",
    "\n",
    "    withdraw_count: pd.DataFrame = subset_df.groupby('tornado_pool').size()\n",
    "    withdraw_count: Dict[str, int] = withdraw_count.to_dict()\n",
    "\n",
    "    withdraw_txs: pd.DataFrame = subset_df.groupby('tornado_pool')['hash'].apply(list)\n",
    "    withdraw_txs: Dict[str, List[str]] = withdraw_txs.to_dict()\n",
    "\n",
    "    # add 1 for current address\n",
    "    if cur_withdraw_pool in withdraw_count:\n",
    "        withdraw_count[cur_withdraw_pool] += 1\n",
    "        withdraw_txs[cur_withdraw_pool].append(withdraw_tx.hash)\n",
    "    else:\n",
    "        withdraw_count[cur_withdraw_pool] = 1\n",
    "        withdraw_txs[cur_withdraw_pool] = [withdraw_tx.hash]\n",
    "\n",
    "    return withdraw_count, withdraw_txs"
   ]
  },
  {
   "cell_type": "code",
   "execution_count": 7,
   "id": "8866a04e",
   "metadata": {},
   "outputs": [],
   "source": [
    "def get_same_or_more_num_of_deposits(\n",
    "    withdraw_counts: pd.DataFrame, \n",
    "    addr2deposit: Dict[str, Dict[str, List[str]]], \n",
    ") -> Tuple[List[str], Dict[str, float]]:\n",
    "    \n",
    "    conf_mapping: Dict[str, float] = dict()\n",
    "    for address, deposits in addr2deposit.items():\n",
    "        if compare_transactions(withdraw_counts, deposits):\n",
    "            num_diff: int = diff_transactions(withdraw_counts, deposits)\n",
    "            if num_diff == 0:\n",
    "                conf: float = 1.0\n",
    "            else:\n",
    "                conf: float = 1. / num_diff\n",
    "            conf_mapping[address] = conf\n",
    "\n",
    "    return conf_mapping"
   ]
  },
  {
   "cell_type": "markdown",
   "id": "15ef8c36",
   "metadata": {},
   "source": [
    "### Docs: get_address_deposits\n",
    "\n",
    "Given the deposit transactions DataFrame, returns a \n",
    "dictionary with every address to the transactions they\n",
    "    deposited.\n",
    "```\n",
    "    Example:\n",
    "    {\n",
    "        '0x16e54b35d789832440ab47ae765e6a8098280676': \n",
    "            {\n",
    "                '0.1 ETH': [...],\n",
    "                '100 USDT': [...],\n",
    "            },\n",
    "        '0x35dd029618f4e1835008da21fd98850c776453f0': {\n",
    "            '0.1 ETH': [...],\n",
    "        },\n",
    "        '0xe906442c11b85acbc58eccb253b9a55a20b80a56': {\n",
    "            '0.1 ETH': [...],\n",
    "        },\n",
    "        '0xaf301de836c81deb8dff9dc22745e23c476155b2': {\n",
    "            '1 ETH': [...],\n",
    "            '0.1 ETH': [...],\n",
    "            '10 ETH': [...],\n",
    "        },\n",
    "    }\n",
    "```"
   ]
  },
  {
   "cell_type": "code",
   "execution_count": 8,
   "id": "37df336b",
   "metadata": {},
   "outputs": [],
   "source": [
    "def get_address_deposits(\n",
    "    deposit_df: pd.DataFrame,\n",
    "    tornado_addresses: Dict[str, int],\n",
    ") -> Dict[str, Dict[str, List[str]]]:\n",
    "    \n",
    "    counts_df: pd.DataFrame = pd.DataFrame(\n",
    "        deposit_df[['from_address', 'tornado_cash_address']].value_counts()\n",
    "    ).rename(columns={0: \"count\"})\n",
    "    \n",
    "    addr2deposit: Dict[str, str] = {}\n",
    "        \n",
    "    print('Building map from address to deposits made by address...')\n",
    "    for row in tqdm(counts_df.itertuples(), total=len(counts_df), mininterval=3):\n",
    "        deposit_set: pd.Series = deposit_df[\n",
    "            (deposit_df.from_address == row.Index[0]) &\n",
    "            (deposit_df.tornado_cash_address == row.Index[1])\n",
    "        ].hash\n",
    "        deposit_set: Set[str] = list(set(deposit_set))\n",
    "\n",
    "        if row.Index[0] in addr2deposit.keys():\n",
    "            addr2deposit[row.Index[0]][\n",
    "                tornado_addresses[row.Index[1]]] = deposit_set\n",
    "        else:\n",
    "            addr2deposit[row.Index[0]] = {\n",
    "                tornado_addresses[row.Index[1]]: deposit_set}\n",
    "\n",
    "    return addr2deposit"
   ]
  },
  {
   "cell_type": "markdown",
   "id": "9c98a2c2",
   "metadata": {},
   "source": [
    "### Docs: get_same_num_of_transactions_heuristic\n",
    "Given a withdraw tx and the deposit and withdraw data, returns a tuple consisting of `(False, None)` or `(True, response_dict)`:\n",
    "* (False, None) is returned if there is no other withdraw with the same address or if it only made withdraws to one pool.\n",
    "* (True, results_dict) is returned when withdraws with the same address as the current withdraw tx are found, and the withdraws were made to various pools. Results dict contains:\n",
    "        * withdraw_txs: All the other withdraw txs linked to the current withdraw tx.\n",
    "        * deposit_txs: All the deposit txs linked to the current withdraw tx.\n",
    "        * deposit_confs: The confidence for each linked deposit address.\n",
    "        * withdraw_addr: The address of the withdraw tx.\n",
    "        * withdraw_tx2addr: A dictionary with the tx hash as key and the address as value\n",
    "        * deposit_tx2addr: Same as above for deposits\n",
    "        * privacy_score: Privacy score computed for the withdraw tx."
   ]
  },
  {
   "cell_type": "code",
   "execution_count": 27,
   "id": "9b686a9b",
   "metadata": {},
   "outputs": [],
   "source": [
    "def same_num_of_transactions_heuristic(withdraw_tx: pd.Series, \n",
    "withdraw_df: pd.DataFrame, \n",
    "    addr2deposit: Dict[str, str], \n",
    "    tornado_addresses: Dict[str, int],\n",
    ") -> Tuple[bool, Optional[Dict[str, Any]]]:\n",
    "    \n",
    "    # Calculate the number of withdrawals of the address \n",
    "    # from the withdraw_tx given as input.\n",
    "    withdraw_counts, withdraw_set = get_num_of_withdraws(\n",
    "        withdraw_tx, withdraw_df, tornado_addresses)\n",
    "\n",
    "    # remove entries that only give to one pool, we are taking \n",
    "    # multi-denominational deposits only\n",
    "    if len(withdraw_counts) == 1:\n",
    "        return (False, None)\n",
    "\n",
    "    withdraw_addr: str = withdraw_tx.recipient_address\n",
    "    withdraw_txs: List[str] = list(itertools.chain(*list(withdraw_set.values())))\n",
    "    withdraw_tx2addr = dict(zip(withdraw_txs, \n",
    "        [withdraw_addr for _ in range(len(withdraw_txs))]))\n",
    "\n",
    "    # Based on withdraw_counts, the set of the addresses that have \n",
    "    # the same number of deposits is calculated.\n",
    "    conf_map = get_same_or_more_num_of_deposits(withdraw_counts, addr2deposit)\n",
    "    deposit_addrs : List[str] = list(conf_map.keys())\n",
    "    deposit_confs: List[float] = [conf_map[addr] for addr in deposit_addrs]\n",
    "\n",
    "    deposit_txs: List[str] = []\n",
    "    deposit_tx2addr: Dict[str, str] = {}\n",
    "\n",
    "    for address in deposit_addrs:\n",
    "        deposit_set: Dict[str, List[str]] = addr2deposit[address]\n",
    "        assert set(withdraw_set.keys()) == set(deposit_set.keys()), \\\n",
    "            \"Set of keys do not match.\"\n",
    "\n",
    "        address_conf: float = conf_map[address]\n",
    "\n",
    "        if address_conf >= MIN_CONF:\n",
    "            # list of all txs for withdraws and deposits regardless of pool\n",
    "            cur_deposit_txs: List[str] = list(itertools.chain(*list(deposit_set.values())))\n",
    "\n",
    "            # dictionary from transaction to address\n",
    "            cur_deposit_tx2addr = dict(zip(cur_deposit_txs, \n",
    "                [address for _ in range(len(cur_deposit_txs))]))\n",
    "            deposit_txs.extend(cur_deposit_txs)\n",
    "            deposit_tx2addr.update(cur_deposit_tx2addr)\n",
    "\n",
    "    if len(deposit_addrs) > 0:\n",
    "        privacy_score: float = 1. - 1. / len(deposit_addrs)\n",
    "        response_dict: Dict[str, Any] = dict(\n",
    "            withdraw_txs = withdraw_txs,\n",
    "            deposit_txs = deposit_txs,\n",
    "            deposit_confs = deposit_confs,\n",
    "            withdraw_addr = withdraw_addr,\n",
    "            deposit_addrs = deposit_addrs,\n",
    "            withdraw_tx2addr = withdraw_tx2addr,\n",
    "            deposit_tx2addr = deposit_tx2addr,\n",
    "            privacy_score = privacy_score,\n",
    "        )\n",
    "        return (True, response_dict)\n",
    "\n",
    "    return (False, None)"
   ]
  },
  {
   "cell_type": "markdown",
   "id": "8cf8904b",
   "metadata": {},
   "source": [
    "### Docs: get_same_num_transactions_clusters\n",
    "Using the multi-denomination heuristic, clusterize TCash deposit and withdraw transactions.\n",
    "Returns clusters of linked txs and the compromised deposit txs"
   ]
  },
  {
   "cell_type": "code",
   "execution_count": 10,
   "id": "8d75fe6a",
   "metadata": {},
   "outputs": [],
   "source": [
    "def get_same_num_transactions_clusters(\n",
    "    deposit_df: pd.DataFrame, \n",
    "    withdraw_df: pd.DataFrame, \n",
    "    tornado_addresses: dict,\n",
    "    data_dir: str,\n",
    "):\n",
    "\n",
    "    cached_addr2deposit: str =  os.path.join(data_dir, 'same_num_txs_addr2deposit.json')\n",
    "    if os.path.isfile(cached_addr2deposit):\n",
    "        print('Found cached deposit mapping: loading...')\n",
    "        with open(cached_addr2deposit, 'r') as json_file:\n",
    "            addr2deposit = json.load(json_file)\n",
    "    else:\n",
    "        addr2deposit = get_address_deposits(deposit_df, tornado_addresses)\n",
    "        with open(cached_addr2deposit, \"w\") as outfile:\n",
    "            json.dump(addr2deposit, outfile, indent=4)\n",
    "\n",
    "    tx_clusters: List[Set[str]] = []\n",
    "    tx2addr: Dict[str, str] = {}\n",
    "    address_sets: List[Set[str]] = []\n",
    "    addr2conf: Dict[Tuple[str, str], float] = {}\n",
    "        \n",
    "    compromised_deposits: Set[str] = set()\n",
    "\n",
    "    print('Processing withdraws')\n",
    "    for withdraw_row in tqdm(withdraw_df.itertuples(), total=len(withdraw_df), mininterval=5):\n",
    "        results = same_num_of_transactions_heuristic(\n",
    "            withdraw_row, withdraw_df, addr2deposit, tornado_addresses)\n",
    "\n",
    "        if results[0]:\n",
    "            response_dict = results[1]\n",
    "\n",
    "            # populate graph with known transactions\n",
    "            withdraw_txs: List[str] = response_dict['withdraw_txs']\n",
    "            deposit_txs: List[str] = response_dict['deposit_txs']\n",
    "            withdraw_tx2addr: Dict[str, str] = response_dict['withdraw_tx2addr']\n",
    "            deposit_tx2addr: Dict[str, str] = response_dict['deposit_tx2addr']\n",
    "            tx_cluster: Set[str] = set(withdraw_txs + deposit_txs)\n",
    "\n",
    "            withdraw_addr: str = response_dict['withdraw_addr']\n",
    "            deposit_addrs: List[str] = response_dict['deposit_addrs']\n",
    "            deposit_confs: List[float] = response_dict['deposit_confs']\n",
    "\n",
    "            for deposit_addr, deposit_conf in zip(deposit_addrs, deposit_confs):\n",
    "                if withdraw_addr != deposit_addr:\n",
    "                    address_sets.append([withdraw_addr, deposit_addr])\n",
    "                    addr2conf[(withdraw_addr, deposit_addr)] = deposit_conf\n",
    "\n",
    "            tx2addr.update(withdraw_tx2addr)\n",
    "            tx2addr.update(deposit_tx2addr)\n",
    "            tx_clusters.append(tx_cluster)\n",
    "            \n",
    "            compromised_deposits.update(deposit_txs)\n",
    "\n",
    "    return tx_clusters, address_sets, tx2addr, addr2conf, compromised_deposits"
   ]
  },
  {
   "cell_type": "code",
   "execution_count": 11,
   "id": "e720ccba",
   "metadata": {},
   "outputs": [],
   "source": [
    "withdraw_txs, deposit_txs, tornado_addresses = load_data(save_dir)"
   ]
  },
  {
   "cell_type": "code",
   "execution_count": 28,
   "id": "3c7c1831",
   "metadata": {
    "scrolled": true
   },
   "outputs": [
    {
     "name": "stdout",
     "output_type": "stream",
     "text": [
      "Found cached deposit mapping: loading...\n",
      "Processing withdraws\n"
     ]
    },
    {
     "name": "stderr",
     "output_type": "stream",
     "text": [
      "100%|███████████████████████████████████████████████████████████████████████████████████████████████████████████████████████████████████████| 53485/53485 [11:07<00:00, 80.08it/s]\n"
     ]
    }
   ],
   "source": [
    "clusters, address_sets, tx2addr, addr2conf, compromised_deposits = get_same_num_transactions_clusters(\n",
    "    deposit_txs, withdraw_txs, tornado_addresses, save_dir)"
   ]
  },
  {
   "cell_type": "markdown",
   "id": "fccf7925",
   "metadata": {},
   "source": [
    "### Results exploration"
   ]
  },
  {
   "cell_type": "code",
   "execution_count": 13,
   "id": "f5f0cddb",
   "metadata": {},
   "outputs": [],
   "source": [
    "address_sets_df = pd.DataFrame(address_sets, columns=[\"withdraw\", \"deposit\"])"
   ]
  },
  {
   "cell_type": "code",
   "execution_count": 14,
   "id": "b83e026b",
   "metadata": {},
   "outputs": [],
   "source": [
    "waddr2daddr = dict(address_sets_df.groupby(\"withdraw\")[\"deposit\"].apply(list))"
   ]
  },
  {
   "cell_type": "code",
   "execution_count": 15,
   "id": "0ee95c78",
   "metadata": {},
   "outputs": [],
   "source": [
    "linked_addr_counts = [len(daddrs_list) for _, daddrs_list in waddr2daddr.items()]"
   ]
  },
  {
   "cell_type": "code",
   "execution_count": 16,
   "id": "a6d227a5",
   "metadata": {},
   "outputs": [
    {
     "data": {
      "image/png": "[encoded data removed]",
      "text/plain": [
       "<Figure size 720x360 with 1 Axes>"
      ]
     },
     "metadata": {},
     "output_type": "display_data"
    }
   ],
   "source": [
    "sns.set_theme(style=\"darkgrid\")\n",
    "\n",
    "fig, ax = plt.subplots(figsize=(10, 5))\n",
    "ax.hist(linked_addr_counts, bins=25)\n",
    "ax.set_yscale(\"log\")\n",
    "ax.set_xlabel(\"# of deposit addresses linked\")\n",
    "ax.set_ylabel(\"Count of withdraw addresses\")\n",
    "plt.show()"
   ]
  },
  {
   "cell_type": "code",
   "execution_count": 17,
   "id": "cdf808d8",
   "metadata": {},
   "outputs": [],
   "source": [
    "def tx2pool(txs_df):\n",
    "    tx_to_pool_dict = {}\n",
    "    for row in tqdm(txs_df.itertuples(), mininterval=1):\n",
    "        tx_to_pool_dict[row.hash] = row.tcash_pool\n",
    "    \n",
    "    return tx_to_pool_dict"
   ]
  },
  {
   "cell_type": "code",
   "execution_count": 18,
   "id": "2e8aad03",
   "metadata": {},
   "outputs": [
    {
     "name": "stderr",
     "output_type": "stream",
     "text": [
      "78323it [00:00, 222131.03it/s]\n"
     ]
    }
   ],
   "source": [
    "d2pool_dict = tx2pool(deposit_txs)"
   ]
  },
  {
   "cell_type": "code",
   "execution_count": 19,
   "id": "98bd1702",
   "metadata": {},
   "outputs": [],
   "source": [
    "flat_compromised_deposits = list(compromised_deposits)"
   ]
  },
  {
   "cell_type": "code",
   "execution_count": 20,
   "id": "47402fd6",
   "metadata": {},
   "outputs": [],
   "source": [
    "#compromised_deposit_hashes = set(list(itertools.chain(*w2d.values())))\n",
    "number_of_compromised_deposits_by_pool = Counter(list(map(lambda x: d2pool_dict[x], flat_compromised_deposits)))"
   ]
  },
  {
   "cell_type": "code",
   "execution_count": 21,
   "id": "7a68f6fc",
   "metadata": {},
   "outputs": [],
   "source": [
    "pools_to_deposits = dict(deposit_txs.groupby(\"tcash_pool\")[\"hash\"].apply(list))\n",
    "number_of_uncompromised_deposits_by_pool = {}\n",
    "for pool in list(pools_to_deposits.keys()):\n",
    "    number_of_uncompromised_deposits_by_pool[pool] = len(pools_to_deposits[pool]) - number_of_compromised_deposits_by_pool[pool]"
   ]
  },
  {
   "cell_type": "code",
   "execution_count": 22,
   "id": "02d80ff7",
   "metadata": {},
   "outputs": [],
   "source": [
    "compromised_vs_uncompromised_by_pool = {}\n",
    "\n",
    "for pool in list(number_of_compromised_deposits_by_pool.keys()):\n",
    "    compromised_vs_uncompromised_by_pool[pool] = (number_of_compromised_deposits_by_pool[pool], number_of_uncompromised_deposits_by_pool[pool])"
   ]
  },
  {
   "cell_type": "code",
   "execution_count": 23,
   "id": "cbc1c707",
   "metadata": {},
   "outputs": [],
   "source": [
    "eth_pools = [\"0.1 ETH\", \"1 ETH\", \"10 ETH\", \"100 ETH\"]\n",
    "tkn_pools = [pool for pool in compromised_vs_uncompromised_by_pool.keys() if pool not in eth_pools]\n",
    "all_pools = eth_pools + tkn_pools"
   ]
  },
  {
   "cell_type": "code",
   "execution_count": 24,
   "id": "006c2595",
   "metadata": {},
   "outputs": [
    {
     "data": {
      "image/png": "[encoded data removed]",
      "text/plain": [
       "<Figure size 1440x360 with 2 Axes>"
      ]
     },
     "metadata": {},
     "output_type": "display_data"
    }
   ],
   "source": [
    "points = [compromised_vs_uncompromised_by_pool[pool] for pool in all_pools]\n",
    "\n",
    "eth_compromised = [t[0] for t in points[:4]]\n",
    "eth_uncompromised = [t[1] for t in points[:4]]\n",
    "eth_x_axis = np.arange(len(eth_pools))\n",
    "\n",
    "tkn_compromised = [t[0] for t in points[4:]]\n",
    "tkn_uncompromised = [t[1] for t in points[4:]]\n",
    "tkn_x_axis = np.arange(len(tkn_pools))\n",
    "\n",
    "sns.set_theme(style=\"darkgrid\")\n",
    "fig, (ax1, ax2) = plt.subplots(ncols=2, figsize=(20, 5))\n",
    "ax1.bar(eth_x_axis - 0.2, eth_compromised, 0.4, label = \"Compromised\")\n",
    "ax1.bar(eth_x_axis + 0.2, eth_uncompromised, 0.4, label = \"Uncompromised\")\n",
    "ax1.set_xticks(eth_x_axis)\n",
    "ax1.set_xticklabels(eth_pools, rotation=\"vertical\")\n",
    "ax1.set_xlabel(\"Pool\")\n",
    "ax1.set_ylabel(\"Number of deposits\")\n",
    "ax1.legend(fontsize=13)\n",
    "\n",
    "ax2.bar(tkn_x_axis - 0.1, tkn_compromised, 0.4, label = \"Compromised\")\n",
    "ax2.bar(tkn_x_axis + 0.1, tkn_uncompromised, 0.4, label = \"Uncompromised\")\n",
    "ax2.set_xticks(tkn_x_axis)\n",
    "ax2.set_xticklabels(tkn_pools, rotation=\"vertical\")\n",
    "ax2.set_xlabel(\"Pool\")\n",
    "ax2.set_ylabel(\"Number of deposits\")\n",
    "ax2.legend(fontsize=13)\n",
    "fig.suptitle(\"Compromised vs. Uncompromised deposits by Heuristic 4\")\n",
    "\n",
    "plt.show()"
   ]
  },
  {
   "cell_type": "code",
   "execution_count": 25,
   "id": "353bb029",
   "metadata": {},
   "outputs": [],
   "source": [
    "rate_compromised_vs_uncompromised_by_pool = {}\n",
    "for pool in compromised_vs_uncompromised_by_pool.keys():\n",
    "    n_compromised = compromised_vs_uncompromised_by_pool[pool][0]\n",
    "    n_uncompromised = compromised_vs_uncompromised_by_pool[pool][1]\n",
    "    total_deposits = n_compromised + n_uncompromised\n",
    "    \n",
    "    rate_compromised_vs_uncompromised_by_pool[pool] = (n_compromised/total_deposits * 100, n_uncompromised/total_deposits * 100)"
   ]
  },
  {
   "cell_type": "code",
   "execution_count": 26,
   "id": "357fd710",
   "metadata": {},
   "outputs": [
    {
     "data": {
      "image/png": "[encoded data removed]",
      "text/plain": [
       "<Figure size 1440x360 with 2 Axes>"
      ]
     },
     "metadata": {},
     "output_type": "display_data"
    }
   ],
   "source": [
    "rate_points = [rate_compromised_vs_uncompromised_by_pool[pool] for pool in all_pools]\n",
    "\n",
    "eth_compromised = [t[0] for t in rate_points[:4]]\n",
    "eth_uncompromised = [t[1] for t in rate_points[:4]]\n",
    "eth_x_axis = np.arange(len(eth_pools))\n",
    "\n",
    "tkn_compromised = [t[0] for t in rate_points[4:]]\n",
    "tkn_uncompromised = [t[1] for t in rate_points[4:]]\n",
    "tkn_x_axis = np.arange(len(tkn_pools))\n",
    "\n",
    "\n",
    "fig, (ax1, ax2) = plt.subplots(ncols=2, figsize=(20, 5))\n",
    "ax1.bar(eth_x_axis - 0.2, eth_compromised, 0.4, label = \"Compromised\")\n",
    "ax1.bar(eth_x_axis + 0.2, eth_uncompromised, 0.4, label = \"Uncompromised\")\n",
    "ax1.set_xticks(eth_x_axis)\n",
    "ax1.set_xticklabels(eth_pools, rotation=\"vertical\")\n",
    "ax1.set_xlabel(\"Pools\")\n",
    "ax1.set_ylabel(\"% of deposits\")\n",
    "ax1.legend(fontsize=13)\n",
    "\n",
    "ax2.bar(tkn_x_axis - 0.1, tkn_compromised, 0.4, label = \"Compromised\")\n",
    "ax2.bar(tkn_x_axis + 0.1, tkn_uncompromised, 0.4, label = \"Uncompromised\")\n",
    "ax2.set_xticks(tkn_x_axis)\n",
    "ax2.set_xticklabels(tkn_pools, rotation=\"vertical\")\n",
    "ax2.set_xlabel(\"Pools\")\n",
    "ax2.set_ylabel(\"% of deposits\")\n",
    "ax2.legend(fontsize=13)\n",
    "fig.suptitle(\"Compromised vs. Uncompromised deposit rates by Heuristic 4\")\n",
    "\n",
    "plt.show()"
   ]
  }
 ],
 "metadata": {
  "kernelspec": {
   "display_name": "Python 3 (ipykernel)",
   "language": "python",
   "name": "python3"
  },
  "language_info": {
   "codemirror_mode": {
    "name": "ipython",
    "version": 3
   },
   "file_extension": ".py",
   "mimetype": "text/x-python",
   "name": "python",
   "nbconvert_exporter": "python",
   "pygments_lexer": "ipython3",
   "version": "3.9.7"
  }
 },
 "nbformat": 4,
 "nbformat_minor": 5
}
