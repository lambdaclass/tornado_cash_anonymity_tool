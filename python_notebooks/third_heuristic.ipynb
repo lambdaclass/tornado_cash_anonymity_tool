{
 "cells": [
  {
   "cell_type": "markdown",
   "id": "b919853c",
   "metadata": {},
   "source": [
    "## Heuristic 3 - Transactions outside TCash\n",
    "\n",
    "### Overview\n",
    "The main goal of this heuristic is to link Ethereum accounts which interacted with TCash by inspecting Ethereum transactions outside it. \n",
    "\n",
    "This is done constructing two sets, one corresponding to the unique TCash deposit addresses ($S_{D}$) and one to the unique TCash withdraw addresses ($S_{W}$), to then make a query to reveal transactions between addresses of each set.\n",
    "\n",
    "Withdraw transactions are inspected one by one, searching for Ethereum transactions done between the withdraw address and any of the deposit addresses. When such a transaction is found, the withdraw transaction is linked with all the deposits of the deposit addresses that were done before the withdraw.\n",
    "\n",
    "\n",
    "### Data\n",
    "The query to the public BigQuery database was done like so,\n",
    "\n",
    "```\n",
    "INSERT `tornado_cash_transactions.transactions_between_withdraw_and_deposit_addresses` \n",
    "SELECT * FROM `bigquery-public-data.crypto_ethereum.transactions`\n",
    "WHERE \n",
    "    (\n",
    "       (`from_address` IN ( SELECT `from_address` FROM `tornado_cash_transactions.deposit_addresses`))\n",
    "       AND \n",
    "       (`to_address` IN ( SELECT `withdraw_address` FROM `tornado_cash_transactions.withdraw_addresses`))\n",
    "    )\n",
    "    OR\n",
    "    (\n",
    "       (`from_address` IN (  SELECT `withdraw_address` FROM `tornado_cash_transactions.withdraw_addresses`))\n",
    "       AND \n",
    "       (`to_address` IN ( SELECT `from_address` FROM `tornado_cash_transactions.deposit_addresses`))\n",
    "    )\n",
    "```\n",
    "\n",
    "The resulting table has two columns, **from_address** and **to_address**, and each row corresponds to a transaction done between a TCash deposit address and a TCash withdraw address, outside TCash.\n",
    "From this table, we want to know which of the two addresses was the one that made the deposit and which one made the withdraw. In this way, we are able to link the corresponding deposit and withdraw transactions.\n",
    "\n",
    "For example, consider this entry from the resulting table,\n",
    "\n",
    "| from_address  | to_address  |\n",
    "|---------------|-------------|\n",
    "| address1      | address2    |\n",
    "\n",
    "Suppose that `address1` is an address that withdrawed in TCash and `address2` one that made a deposit. Then, we want to transform said entry to one with colums **deposit_address** and **withdraw_address** like so,\n",
    "\n",
    "| deposit_address | withdraw_address |\n",
    "|-----------------|------------------|\n",
    "| address2        | address1         |\n",
    "\n",
    "With this new table, it is straightforward to make de linking between TCash transactions. With it, we can create a mapping to know with what deposit addresses each withdraw address interacted with.\n",
    "\n",
    "\n",
    "### Some definitions \n",
    "A problem raises when there are addresses that belong to the two sets of TCash addresses $S_{D}$ and $S_{W}$.\n",
    "Let us define an address of type `D` when it belongs to $S_{D}$ and not to $S_{W}$.\n",
    "Likewise, an address of type `W` is defined when it belongs to $S_{W}$ and not to $S_{D}$. \n",
    "Finally, when an address belongs to both sets, we classify it as a `DW` type.\n",
    "\n",
    "For the cases where we got outside TCash transactions of type `D -> W` (i.e., a transaction from a *D* type address to a *W* type address) or `W -> D` (i.e., a transaction from a *W* type address to a *D* type address), it is trivial to transform this entry to the new table.\n",
    "\n",
    "In the cases where we have transactions of type `DW -> W`, `DW -> D`, `W -> DW` and `D -> DW`, it is also straightforward to transform the corresponding entries. For example, consider again this particular entry of Ethereum transactions table,\n",
    "\n",
    "\n",
    "| from_address  | to_address  |\n",
    "|---------------|-------------|\n",
    "| address1      | address2    |\n",
    "\n",
    "\n",
    "Suppose now that `address1` is of type `DW` and `address2` of type `D`. Then, `address2` is trivially placed in the `deposit_address` column. By a process of elimination, then `address1` is set in `withdraw_address` column,\n",
    "\n",
    "\n",
    "| deposit_address | withdraw_address |\n",
    "|-----------------|------------------|\n",
    "| address2        | address1         |\n",
    "\n",
    "\n",
    "When we have a transaction of type `DW -> DW`, it cannot be known which address deposited and which one made the withdraw, so the two combinations are considered. Considering again the same entry, the resulting table will be as follows,\n",
    "\n",
    "| deposit_address | withdraw_address |\n",
    "|-----------------|------------------|\n",
    "| address1        | address2         |\n",
    "| address2        | address1         |\n",
    "\n",
    "\n",
    "Then, deposits of `address1` are linked to withdraws of `address2` and deposits of `address2` are linked to withdraws of `address1`.\n",
    "\n",
    "\n",
    "### Results data structure\n",
    "The results of this heuristic are returned as a dictionary where each element has a TCash withdraw transaction hash  as key and a list of the linked TCash deposit transaction hashes as a value. For example,\n",
    "\n",
    "```\n",
    "    '0x4858': ['0x2fad', '0x750a']\n",
    "```\n",
    "This would mean that withdraw transaction `0x4858` is linked to `0x2fad` and `0x750a` deposit transactions."
   ]
  },
  {
   "cell_type": "code",
   "execution_count": 31,
   "id": "2efb4010",
   "metadata": {},
   "outputs": [],
   "source": [
    "import pandas as pd\n",
    "import numpy as np\n",
    "from tqdm import tqdm\n",
    "import json\n",
    "from collections import namedtuple\n",
    "import seaborn as sns\n",
    "from os.path import exists\n",
    "import matplotlib.pyplot as plt"
   ]
  },
  {
   "cell_type": "code",
   "execution_count": 2,
   "id": "1754d871",
   "metadata": {},
   "outputs": [],
   "source": [
    "# Utils functions \n",
    "def remap_keys(mapping):\n",
    "    return [{'key': k,'value': v} for k, v in mapping.items()]\n",
    "\n",
    "def create_addresses_and_pools_to_deposits_json(filepath, dictionary):\n",
    "    with open(filepah, \"w\") as outfile:\n",
    "        json.dump(remap_keys(dictionary), outfile, indent=4)\n",
    "\n",
    "def load_addresses_and_pools_to_deposits_json(filepath):\n",
    "    with open(filepath) as json_file:\n",
    "        raw_dict_list = json.load(json_file)\n",
    "        addresses_and_pools_to_deposits: dict = {}\n",
    "        \n",
    "        HashTimestamp = namedtuple(\"HashTimestamp\", [\"deposit_hash\", \"timestamp\"])\n",
    "        AddressPool = namedtuple(\"AddressPool\", [\"address\", \"pool\"])\n",
    "        \n",
    "        for dic in tqdm(raw_dict_list, mininterval=1):\n",
    "            elem = {\n",
    "                AddressPool(address=dic['key'][0], pool=dic['key'][1]): [HashTimestamp(deposit_hash=l[0], timestamp=l[1]) for l in dic['value']]\n",
    "            }\n",
    "            addresses_and_pools_to_deposits.update(elem)\n",
    "        \n",
    "        return addresses_and_pools_to_deposits\n",
    "\n",
    "def save_linked_txs(linked_txs_filepath, w2d_dict):\n",
    "    with open(linked_txs_filepath, 'w') as json_file:\n",
    "        json.dump(w2d_dict, json_file, indent=4)\n",
    "\n",
    "def load_addresses_and_pools_to_deposits(filepath):\n",
    "    if os.path.exists(filepath):\n",
    "        addresses_and_pools_to_deposits_dict = load_addresses_and_pools_to_deposits_json(\"../data/addresses_and_pools_to_deposits.json\")\n",
    "    else:\n",
    "        addresses_and_pools_to_deposits_dict = addresses_and_pools_to_deposits(deposit_txs)\n",
    "    return addresses_and_pools_to_deposits_dict\n",
    "\n",
    "\n",
    "# Given an address and the TCash pool, give all the deposits that address has done in that pool.\n",
    "def _addr_pool_to_deposits(address: str, tcash_pool: str, deposit_txs) -> dict:\n",
    "    mask = (deposit_txs[\"from_address\"] == address) & (deposit_txs[\"tcash_pool\"] == tcash_pool)\n",
    "    \n",
    "    addr_pool_deposits = deposit_txs[mask]\n",
    "    \n",
    "    HashTimestamp = namedtuple(\"HashTimestamp\", [\"deposit_hash\", \"timestamp\"])\n",
    "    AddressPool = namedtuple(\"AddressPool\", [\"address\", \"pool\"])\n",
    "    \n",
    "    hashes_and_timestamps: list = [None] * len(addr_pool_deposits)\n",
    "    for i, row in enumerate(addr_pool_deposits.itertuples()):\n",
    "        hashes_and_timestamps[i] = HashTimestamp(deposit_hash=row.hash, timestamp=row.block_timestamp)\n",
    "    \n",
    "    return {AddressPool(address=address, pool=tcash_pool): hashes_and_timestamps}\n",
    "\n",
    "# Gives a dictionary with deposit addresses as keys and the deposit transactions each address made as values.\n",
    "def addresses_and_pools_to_deposits(deposit_txs) -> dict:\n",
    "    \n",
    "    addresses_and_pools: dict = dict(deposit_txs.groupby(\"from_address\")[\"tcash_pool\"].apply(list))\n",
    "    \n",
    "    addresses_and_pools_to_deposits: dict = {}\n",
    "    \n",
    "    for addr in tqdm(addresses_and_pools.keys(), mininterval=3):\n",
    "        for pool in addresses_and_pools[addr]:\n",
    "            addresses_and_pools_to_deposits.update(_addr_pool_to_deposits(addr, pool, deposit_txs))\n",
    "            \n",
    "    return addresses_and_pools_to_deposits"
   ]
  },
  {
   "cell_type": "code",
   "execution_count": 3,
   "id": "c6d8d630",
   "metadata": {},
   "outputs": [
    {
     "name": "stderr",
     "output_type": "stream",
     "text": [
      "100%|██████████| 31927/31927 [00:00<00:00, 145669.55it/s]\n"
     ]
    }
   ],
   "source": [
    "with open('../data/tornado_pools.json') as json_file:\n",
    "    tornado_addresses = json.load(json_file)\n",
    "\n",
    "deposit_txs = pd.read_csv(\"../data/lighter_complete_deposit_txs.csv\")\n",
    "deposit_txs[\"tcash_pool\"] = deposit_txs[\"tornado_cash_address\"].apply(lambda addr: tornado_addresses[addr])\n",
    "withdraw_txs = pd.read_csv(\"../data/lighter_complete_withdraw_txs.csv\")\n",
    "withdraw_txs[\"tcash_pool\"] = withdraw_txs[\"tornado_cash_address\"].apply(lambda addr: tornado_addresses[addr])\n",
    "\n",
    "unique_deposit_addresses = set(deposit_txs[\"from_address\"])\n",
    "unique_withdraw_addresses = set(withdraw_txs[\"recipient_address\"])\n",
    "\n",
    "addresses_and_pools_to_deposits_dict = load_addresses_and_pools_to_deposits_json('../data/addresses_and_pools_to_deposits.json')\n",
    "\n",
    "address_and_withdraw_df = pd.read_csv(\"../data/transactions_between_deposit_and_withdraw_addresses.csv\")[[\"from_address\", \"to_address\"]]"
   ]
  },
  {
   "cell_type": "markdown",
   "id": "7d3dc434",
   "metadata": {},
   "source": [
    "### Data preprocessing\n",
    "From the data obtained in the query, we want to filter repeated and permuted transactions, since they don't provide any new information. Once a transaction between a withdraw address and a deposit address is found, they are considereded linked regardless of the direction in what the transaction was done and the number of times they interacted."
   ]
  },
  {
   "cell_type": "code",
   "execution_count": 4,
   "id": "2e3076b5",
   "metadata": {},
   "outputs": [],
   "source": [
    "def filter_repeated_and_permuted(address_and_withdraw_df):\n",
    "    filtered_addresses_set = set()\n",
    "    \n",
    "    for row in address_and_withdraw_df.itertuples():\n",
    "        filtered_addresses_set.add(frozenset([row.from_address, row.to_address]))\n",
    "    \n",
    "    return filtered_addresses_set\n",
    "\n",
    "def dataframe_from_set_of_sets(set_of_sets):\n",
    "    addresses_df = pd.DataFrame({\"address_1\":[], \"address_2\":[]})\n",
    "        \n",
    "    for s in tqdm(set_of_sets):\n",
    "        s_tuple = tuple(s)\n",
    "        if len(s) == 2:\n",
    "            addresses_df = addresses_df.append({\"address_1\": s_tuple[0], \"address_2\": s_tuple[1]}, ignore_index=True)\n",
    "        else:\n",
    "            addresses_df = addresses_df.append({\"address_1\": s_tuple[0], \"address_2\": s_tuple[0]}, ignore_index=True)\n",
    "\n",
    "    return addresses_df\n",
    "\n",
    "def preprocess_data(address_and_withdraw_df):\n",
    "    s = filter(lambda x: len(x) == 2, filter_repeated_and_permuted(address_and_withdraw_df))\n",
    "    return dataframe_from_set_of_sets(s)"
   ]
  },
  {
   "cell_type": "code",
   "execution_count": 5,
   "id": "1f9c616b",
   "metadata": {
    "scrolled": true
   },
   "outputs": [
    {
     "name": "stderr",
     "output_type": "stream",
     "text": [
      "11230it [00:21, 511.28it/s]\n"
     ]
    },
    {
     "data": {
      "text/html": [
       "<div>\n",
       "<style scoped>\n",
       "    .dataframe tbody tr th:only-of-type {\n",
       "        vertical-align: middle;\n",
       "    }\n",
       "\n",
       "    .dataframe tbody tr th {\n",
       "        vertical-align: top;\n",
       "    }\n",
       "\n",
       "    .dataframe thead th {\n",
       "        text-align: right;\n",
       "    }\n",
       "</style>\n",
       "<table border=\"1\" class=\"dataframe\">\n",
       "  <thead>\n",
       "    <tr style=\"text-align: right;\">\n",
       "      <th></th>\n",
       "      <th>address_1</th>\n",
       "      <th>address_2</th>\n",
       "    </tr>\n",
       "  </thead>\n",
       "  <tbody>\n",
       "    <tr>\n",
       "      <th>0</th>\n",
       "      <td>0xb1b9abde0007c0851ed8719ff34ae9c30a78dce7</td>\n",
       "      <td>0xeb1f18ff27bf9e627fa3f44de7d1c16f3f3ef2ca</td>\n",
       "    </tr>\n",
       "    <tr>\n",
       "      <th>1</th>\n",
       "      <td>0x417ac47ab85ff79254a541fd6a9fdff23852a9a4</td>\n",
       "      <td>0x73bf4353cc4fc35f40e3fe53281374069bb1ae96</td>\n",
       "    </tr>\n",
       "    <tr>\n",
       "      <th>2</th>\n",
       "      <td>0x8dc8dbce3905fee2877ffbb1ed6fb58c2943bc07</td>\n",
       "      <td>0x215a720958039f3a7220bc31a8323a35b1c7f92f</td>\n",
       "    </tr>\n",
       "    <tr>\n",
       "      <th>3</th>\n",
       "      <td>0x7ad09c8aef4144fd7a55ffbd56a204ea6263484f</td>\n",
       "      <td>0xa00b2c150d3bbb929b4e5ac2be3a97b9c7987eeb</td>\n",
       "    </tr>\n",
       "    <tr>\n",
       "      <th>4</th>\n",
       "      <td>0xd68c1935a46b78002e32691a851c65b75e42b1a0</td>\n",
       "      <td>0xe64262a940f948abbe4236eb936e07aa7550a1ff</td>\n",
       "    </tr>\n",
       "  </tbody>\n",
       "</table>\n",
       "</div>"
      ],
      "text/plain": [
       "                                    address_1  \\\n",
       "0  0xb1b9abde0007c0851ed8719ff34ae9c30a78dce7   \n",
       "1  0x417ac47ab85ff79254a541fd6a9fdff23852a9a4   \n",
       "2  0x8dc8dbce3905fee2877ffbb1ed6fb58c2943bc07   \n",
       "3  0x7ad09c8aef4144fd7a55ffbd56a204ea6263484f   \n",
       "4  0xd68c1935a46b78002e32691a851c65b75e42b1a0   \n",
       "\n",
       "                                    address_2  \n",
       "0  0xeb1f18ff27bf9e627fa3f44de7d1c16f3f3ef2ca  \n",
       "1  0x73bf4353cc4fc35f40e3fe53281374069bb1ae96  \n",
       "2  0x215a720958039f3a7220bc31a8323a35b1c7f92f  \n",
       "3  0xa00b2c150d3bbb929b4e5ac2be3a97b9c7987eeb  \n",
       "4  0xe64262a940f948abbe4236eb936e07aa7550a1ff  "
      ]
     },
     "execution_count": 5,
     "metadata": {},
     "output_type": "execute_result"
    }
   ],
   "source": [
    "clean_addresses = preprocess_data(address_and_withdraw_df)\n",
    "clean_addresses.head()"
   ]
  },
  {
   "cell_type": "markdown",
   "id": "7233dc59",
   "metadata": {},
   "source": [
    "### Outside TCash transactions classification\n",
    "This functions are used to classify the address type following the definitions already talked about,\n",
    "and finally classify the transaction type done by the addresses outside TCash."
   ]
  },
  {
   "cell_type": "code",
   "execution_count": 6,
   "id": "9feb11bb",
   "metadata": {},
   "outputs": [],
   "source": [
    "'''\n",
    "To classify the addresses by their inclusion in the unique_deposit_addresses and \n",
    "the unique_withdraw_addresses sets.\n",
    "'''\n",
    "\n",
    "def is_D_type(address):\n",
    "    return (address in unique_deposit_addresses) and (address not in unique_withdraw_addresses)\n",
    "\n",
    "def is_W_type(address):\n",
    "    return (address not in unique_deposit_addresses) and (address in unique_withdraw_addresses)\n",
    "\n",
    "def is_DW_type(address):\n",
    "    return (address in unique_deposit_addresses) and (address in unique_withdraw_addresses)"
   ]
  },
  {
   "cell_type": "code",
   "execution_count": 7,
   "id": "cee1fd16",
   "metadata": {},
   "outputs": [],
   "source": [
    "# To classify outside TCash transactions, based on the classification of addresses.\n",
    "\n",
    "def is_D_W_tx(address1: str, address2: str) -> bool:\n",
    "    return is_D_type(address1) and is_W_type(address2)\n",
    "\n",
    "def is_W_D_tx(address1: str, address2: str) -> bool:\n",
    "    return is_W_type(address1) and is_D_type(address2)\n",
    "\n",
    "def is_D_DW_tx(address1: str, address2: str) -> bool:\n",
    "    return is_D_type(address1) and is_DW_type(address2)\n",
    "\n",
    "def is_DW_D_tx(address1: str, address2: str) -> bool:\n",
    "    return is_DW_type(address1) and is_D_type(address2)\n",
    "\n",
    "def is_W_DW_tx(address1: str, address2: str) -> bool:\n",
    "    return is_W_type(address1) and is_DW_type(address2)\n",
    "\n",
    "def is_DW_W_tx(address1: str, address2: str) -> bool:\n",
    "    return is_DW_type(address1) and is_W_type(address2)\n",
    "\n",
    "def is_DW_DW_tx(address1: str, address2: str) -> bool:\n",
    "    return is_DW_type(address1) and is_DW_type(address2)"
   ]
  },
  {
   "cell_type": "markdown",
   "id": "76818418",
   "metadata": {},
   "source": [
    "### Function description: map_withdraw2deposit_interactions_outside_tcash\n",
    "This function receives the clean addresses data, transforms it to the table mentioned in the introduction and returns a dictionary mapping the interaction of each withdraw address with deposit addresses."
   ]
  },
  {
   "cell_type": "code",
   "execution_count": 8,
   "id": "69013d65",
   "metadata": {},
   "outputs": [],
   "source": [
    "# Map interactions between every withdraw address to every deposit address, outside TCash\n",
    "\n",
    "def map_withdraw2deposit_interactions_outside_tcash(clean_addresses_df) -> dict:\n",
    "    \n",
    "    deposit_and_withdraw_matrix = np.empty((0, 2), dtype=str)\n",
    "    \n",
    "    for row in tqdm(clean_addresses_df.itertuples(), total=len(clean_addresses_df), mininterval=0.5):\n",
    "                \n",
    "        if is_D_W_tx(row.address_1, row.address_2) or is_D_DW_tx(row.address_1, row.address_2) or is_DW_W_tx(row.address_1, row.address_2):\n",
    "            deposit_and_withdraw_matrix = np.append(deposit_and_withdraw_matrix, [[row.address_1, row.address_2]], axis=0)\n",
    "            \n",
    "        elif is_W_D_tx(row.address_1, row.address_2) or is_W_DW_tx(row.address_1, row.address_2) or is_DW_D_tx(row.address_1, row.address_2):\n",
    "            deposit_and_withdraw_matrix = np.append(deposit_and_withdraw_matrix, [[row.address_2, row.address_1]], axis=0)\n",
    "            \n",
    "        elif is_DW_DW_tx(row.address_1, row.address_2):\n",
    "            deposit_and_withdraw_matrix = np.append(deposit_and_withdraw_matrix, [[row.address_1, row.address_2]], axis=0)\n",
    "            deposit_and_withdraw_matrix = np.append(deposit_and_withdraw_matrix, [[row.address_2, row.address_1]], axis=0)\n",
    "        else:\n",
    "            print(row.address_1, row.address_2)\n",
    "            raise ValueError(\"The transaction is not from any of the types: D_W, W_D, D_DW, DW_D, W_DW, DW_W, DW_DW\")\n",
    "\n",
    "    D_W_df = pd.DataFrame(deposit_and_withdraw_matrix, columns=[\"deposit_address\", \"withdraw_address\"])\n",
    "    \n",
    "    return dict(D_W_df.groupby(\"withdraw_address\")[\"deposit_address\"].apply(list))"
   ]
  },
  {
   "cell_type": "code",
   "execution_count": 9,
   "id": "da45c2dd",
   "metadata": {
    "scrolled": false
   },
   "outputs": [
    {
     "name": "stderr",
     "output_type": "stream",
     "text": [
      "100%|██████████| 11230/11230 [00:06<00:00, 1657.68it/s]\n"
     ]
    }
   ],
   "source": [
    "waddr2daddr = map_withdraw2deposit_interactions_outside_tcash(clean_addresses)"
   ]
  },
  {
   "cell_type": "markdown",
   "id": "7808bdee",
   "metadata": {},
   "source": [
    "### Function description: first_neighbors_heuristic\n",
    "Given a withdraw transaction, checks if its address had interacted with any deposit address outside TCash. If it has, then fetch all the deposits those deposit addresses had done and link them to the withdraw transaction."
   ]
  },
  {
   "cell_type": "code",
   "execution_count": 10,
   "id": "d0e10e32",
   "metadata": {},
   "outputs": [],
   "source": [
    "def first_neighbors_heuristic(withdraw_tx: pd.Series) -> dict:\n",
    "    address = withdraw_tx.recipient_address\n",
    "    pool = withdraw_tx.tcash_pool\n",
    "    \n",
    "    HashTimestamp = namedtuple(\"HashTimestamp\", [\"deposit_hash\", \"timestamp\"])\n",
    "    AddressPool = namedtuple(\"AddressPool\", [\"address\", \"pool\"])\n",
    "    \n",
    "    '''\n",
    "    Check that there has been a transaction between this address and some deposit\n",
    "    address outside Tcash. If not, return an empty list for this particular withdraw.\n",
    "    '''\n",
    "    if address in waddr2daddr.keys():\n",
    "        interacted_addresses = waddr2daddr[address]\n",
    "        linked_deposits = []\n",
    "        \n",
    "        for addr in interacted_addresses:\n",
    "            if AddressPool(address=addr, pool=pool) in addresses_and_pools_to_deposits_dict.keys():\n",
    "\n",
    "                for d in addresses_and_pools_to_deposits_dict[AddressPool(address=addr, pool=pool)]:\n",
    "                    if d.timestamp < withdraw_tx.block_timestamp:\n",
    "                        linked_deposits.append(d.deposit_hash)\n",
    "                        \n",
    "        return {withdraw_tx.hash: linked_deposits}\n",
    "    else:\n",
    "        return {withdraw_tx.hash: []}"
   ]
  },
  {
   "cell_type": "markdown",
   "id": "b8adf41b",
   "metadata": {},
   "source": [
    "### Function description: apply_first_neighbors_heuristic\n",
    "Applies the heuristic to every withdraw in the withdraw transactions data. Returns a dictionary mapping every withdraw transaction to its linked deposit transactions."
   ]
  },
  {
   "cell_type": "code",
   "execution_count": 11,
   "id": "899b176e",
   "metadata": {},
   "outputs": [],
   "source": [
    "def apply_first_neighbors_heuristic(withdraw_txs: pd.Series) -> dict:\n",
    "    \n",
    "    withdraw_to_linked_deposits: dict = {}\n",
    "        \n",
    "    for row in tqdm(withdraw_txs.itertuples(), total=len(withdraw_txs), mininterval=3):\n",
    "        dic = first_neighbors_heuristic(row)\n",
    "        withdraw_to_linked_deposits.update(dic)\n",
    "    \n",
    "    return dict(filter(lambda elem: len(elem[1]) != 0, withdraw_to_linked_deposits.items()))"
   ]
  },
  {
   "cell_type": "code",
   "execution_count": 24,
   "id": "2304fc4d",
   "metadata": {
    "scrolled": true
   },
   "outputs": [
    {
     "name": "stderr",
     "output_type": "stream",
     "text": [
      "100%|██████████| 83782/83782 [00:13<00:00, 6160.38it/s]\n"
     ]
    }
   ],
   "source": [
    "w2d = apply_first_neighbors_heuristic(withdraw_txs)"
   ]
  },
  {
   "cell_type": "code",
   "execution_count": 13,
   "id": "8e3333b1",
   "metadata": {},
   "outputs": [],
   "source": [
    "# To save the results of the linked transactions, uncomment and run the following line of code:\n",
    "# save_linked_txs('../data/heuristic_3_linked_txs.json', w2d)"
   ]
  },
  {
   "cell_type": "markdown",
   "id": "f71197e5",
   "metadata": {},
   "source": [
    "---"
   ]
  },
  {
   "cell_type": "markdown",
   "id": "a8046f92",
   "metadata": {},
   "source": [
    "### From here on it is only some results exploration..."
   ]
  },
  {
   "cell_type": "code",
   "execution_count": 16,
   "id": "670ba449",
   "metadata": {},
   "outputs": [],
   "source": [
    "def w2add(withdrax_txs) -> dict:\n",
    "    w2addr: dict = {}\n",
    "    for row in tqdm(withdraw_txs.itertuples(), mininterval=1):\n",
    "        w2addr[row.hash] = row.recipient_address\n",
    "    return w2addr\n",
    "\n",
    "def d2add(deposit_txs) -> dict:\n",
    "    d2addr: dict = {}\n",
    "    for row in tqdm(deposit_txs.itertuples(), mininterval=1):\n",
    "        d2addr[row.hash] = row.from_address\n",
    "    return d2addr"
   ]
  },
  {
   "cell_type": "code",
   "execution_count": 14,
   "id": "75b35089",
   "metadata": {},
   "outputs": [],
   "source": [
    "linked_deposits_counts = {}\n",
    "for key in w2d.keys():\n",
    "    linked_deposits_counts[key] = len(w2d[key])"
   ]
  },
  {
   "cell_type": "code",
   "execution_count": 34,
   "id": "4c6ec659",
   "metadata": {
    "scrolled": true
   },
   "outputs": [
    {
     "data": {
      "text/plain": [
       "Text(0, 0.5, 'Withdraws count')"
      ]
     },
     "execution_count": 34,
     "metadata": {},
     "output_type": "execute_result"
    },
    {
     "data": {
      "image/png": "[encoded data removed]",
      "text/plain": [
       "<Figure size 432x288 with 1 Axes>"
      ]
     },
     "metadata": {
      "needs_background": "light"
     },
     "output_type": "display_data"
    }
   ],
   "source": [
    "sns.histplot(linked_deposits_counts.values(), bins=200, legend=False)\n",
    "plt.xlabel(\"Count of linked deposits\")\n",
    "plt.ylabel(\"Withdraws count\")"
   ]
  },
  {
   "cell_type": "code",
   "execution_count": 38,
   "id": "a91e5f13",
   "metadata": {},
   "outputs": [],
   "source": [
    "def number_of_linked_withdraw_addresses(w2d_dict: dict) -> int:\n",
    "    l = []\n",
    "    for key in w2d_dict.keys():\n",
    "        l.append(w2addr[key])\n",
    "    return len(set(l))"
   ]
  },
  {
   "cell_type": "code",
   "execution_count": 39,
   "id": "455b9b20",
   "metadata": {},
   "outputs": [
    {
     "data": {
      "text/plain": [
       "4620"
      ]
     },
     "execution_count": 39,
     "metadata": {},
     "output_type": "execute_result"
    }
   ],
   "source": []
  },
  {
   "cell_type": "code",
   "execution_count": 17,
   "id": "218d7fa8",
   "metadata": {},
   "outputs": [],
   "source": [
    "withdraws_with_1257_deposits = dict(filter(lambda elem: len(elem[1]) == 1257, w2d.items()))"
   ]
  },
  {
   "cell_type": "code",
   "execution_count": 18,
   "id": "ed335c15",
   "metadata": {},
   "outputs": [
    {
     "name": "stderr",
     "output_type": "stream",
     "text": [
      "83782it [00:00, 256651.27it/s]\n",
      "97365it [00:00, 233739.08it/s]\n"
     ]
    }
   ],
   "source": [
    "w2addr = w2add(withdraw_txs)\n",
    "d2addr = d2add(deposit_txs)"
   ]
  },
  {
   "cell_type": "code",
   "execution_count": 19,
   "id": "7aa3d9b4",
   "metadata": {},
   "outputs": [],
   "source": [
    "for key in withdraws_with_1257_deposits.keys():\n",
    "    withdraws_with_1257_deposits[key] = list(map(lambda x: d2addr[x], withdraws_with_1257_deposits[key]))"
   ]
  },
  {
   "cell_type": "code",
   "execution_count": 20,
   "id": "530322c9",
   "metadata": {},
   "outputs": [
    {
     "data": {
      "text/plain": [
       "Counter({'0x16e54b35d789832440ab47ae765e6a8098280676': 1184412,\n",
       "         '0xe6629cc8ced87063151c37f25d6ca4a74675a520': 209601})"
      ]
     },
     "execution_count": 20,
     "metadata": {},
     "output_type": "execute_result"
    }
   ],
   "source": [
    "import collections\n",
    "import itertools\n",
    "\n",
    "collections.Counter(list(itertools.chain(*withdraws_with_1257_deposits.values())))"
   ]
  },
  {
   "cell_type": "code",
   "execution_count": 21,
   "id": "b5d7e162",
   "metadata": {},
   "outputs": [
    {
     "data": {
      "text/plain": [
       "Counter({'0xcd354b14d1cd3cc386a82eddd40337d45e026d21': 129,\n",
       "         '0xc351d90d2ac3304b671cb205ae1a7491008c4854': 181,\n",
       "         '0x8d1ec626837b0032b72bdd7701ac35b7e1db5b41': 115,\n",
       "         '0x6b91f0343b2160514cb3058282082583956beb22': 185,\n",
       "         '0xe472ac95d171b788c8184bb83c4927f0f043c0b0': 191,\n",
       "         '0xd1837e61ca4fc25c989bee682aa5b3796f3c7620': 130,\n",
       "         '0x6c4b5e3e2677836e3f699436b7567f86714eb84d': 178})"
      ]
     },
     "execution_count": 21,
     "metadata": {},
     "output_type": "execute_result"
    }
   ],
   "source": [
    "len(withdraws_with_1257_deposits)\n",
    "l = []\n",
    "for key in withdraws_with_1257_deposits.keys():\n",
    "    l.append(w2addr[key])\n",
    "\n",
    "collections.Counter(l)"
   ]
  },
  {
   "cell_type": "markdown",
   "id": "05e246a3",
   "metadata": {},
   "source": [
    "---\n",
    "### Questions for Heuristic 3 - Linked Deposit / Withdrawal Addresses Outside of Tcash\n",
    "1. How many withdrawal addresses can be linked to deposit addresses?"
   ]
  },
  {
   "cell_type": "code",
   "execution_count": 40,
   "id": "29412fc2",
   "metadata": {},
   "outputs": [
    {
     "name": "stdout",
     "output_type": "stream",
     "text": [
      "The number of withdrawal addresses that can be linked to deposit addresses is 4620\n"
     ]
    }
   ],
   "source": [
    "print(f\"The number of withdrawal addresses that can be linked to deposit addresses is {number_of_linked_withdraw_addresses(w2d)}\")"
   ]
  },
  {
   "cell_type": "markdown",
   "id": "ad5f497e",
   "metadata": {},
   "source": [
    "2. How many withdrawal transactions can be linked to deposit transactions?"
   ]
  },
  {
   "cell_type": "code",
   "execution_count": 41,
   "id": "d756c811",
   "metadata": {},
   "outputs": [
    {
     "name": "stdout",
     "output_type": "stream",
     "text": [
      "The number of withdrawal transactions that can be linked to deposit transactions is 15693\n"
     ]
    }
   ],
   "source": [
    "print(f\"The number of withdrawal transactions that can be linked to deposit transactions is {len(w2d)}\")"
   ]
  },
  {
   "cell_type": "code",
   "execution_count": null,
   "id": "2fa116b2",
   "metadata": {},
   "outputs": [],
   "source": []
  }
 ],
 "metadata": {
  "kernelspec": {
   "display_name": "Python 3",
   "language": "python",
   "name": "python3"
  },
  "language_info": {
   "codemirror_mode": {
    "name": "ipython",
    "version": 3
   },
   "file_extension": ".py",
   "mimetype": "text/x-python",
   "name": "python",
   "nbconvert_exporter": "python",
   "pygments_lexer": "ipython3",
   "version": "3.8.8"
  }
 },
 "nbformat": 4,
 "nbformat_minor": 5
}
