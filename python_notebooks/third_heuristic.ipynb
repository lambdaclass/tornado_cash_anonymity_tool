{
 "cells": [
  {
   "cell_type": "markdown",
   "metadata": {},
   "source": [
    "## Heuristic 3 - Transactions outside TCash\n",
    "\n",
    "### Overview\n",
    "The main goal of this heuristic is to link Ethereum accounts which interacted with TCash by inspecting Ethereum transactions outside it. \n",
    "\n",
    "This is done constructing two sets, one corresponding to the unique TCash deposit addresses ($S_{D}$) and one to the unique TCash withdraw addresses ($S_{W}$), to then make a query to reveal transactions between addresses of each set.\n",
    "\n",
    "Withdraw transactions are inspected one by one, searching for Ethereum transactions done between the withdraw address and any of the deposit addresses. When such a transaction is found, the withdraw transaction is linked with all the deposits of the deposit addresses that were done before the withdraw.\n",
    "\n",
    "\n",
    "### Data\n",
    "The query to the public BigQuery database was done like so,\n",
    "\n",
    "```\n",
    "INSERT `tornado_cash_transactions.transactions_between_withdraw_and_deposit_addresses` \n",
    "SELECT * FROM `bigquery-public-data.crypto_ethereum.transactions`\n",
    "WHERE \n",
    "    (\n",
    "       (`from_address` IN ( SELECT `from_address` FROM `tornado_cash_transactions.deposit_addresses`))\n",
    "       AND \n",
    "       (`to_address` IN ( SELECT `withdraw_address` FROM `tornado_cash_transactions.withdraw_addresses`))\n",
    "    )\n",
    "    OR\n",
    "    (\n",
    "       (`from_address` IN (  SELECT `withdraw_address` FROM `tornado_cash_transactions.withdraw_addresses`))\n",
    "       AND \n",
    "       (`to_address` IN ( SELECT `from_address` FROM `tornado_cash_transactions.deposit_addresses`))\n",
    "    )\n",
    "```\n",
    "\n",
    "The resulting table has two columns, **from_address** and **to_address**, and each row corresponds to a transaction done between a TCash deposit address and a TCash withdraw address, outside TCash.\n",
    "From this table, we want to know which of the two addresses was the one that made the deposit and which one made the withdraw. In this way, we are able to link the corresponding deposit and withdraw transactions.\n",
    "\n",
    "For example, consider this entry from the resulting table,\n",
    "\n",
    "| from_address  | to_address  |\n",
    "|---------------|-------------|\n",
    "| address1      | address2    |\n",
    "\n",
    "Suppose that `address1` is an address that withdrawed in TCash and `address2` one that made a deposit. Then, we want to transform said entry to one with colums **deposit_address** and **withdraw_address** like so,\n",
    "\n",
    "| deposit_address | withdraw_address |\n",
    "|-----------------|------------------|\n",
    "| address2        | address1         |\n",
    "\n",
    "With this new table, it is straightforward to make de linking between TCash transactions. With it, we can create a mapping to know with what deposit addresses each withdraw address interacted with.\n",
    "\n",
    "\n",
    "### Some definitions \n",
    "A problem raises when there are addresses that belong to the two sets of TCash addresses $S_{D}$ and $S_{W}$.\n",
    "Let us define an address of type `D` when it belongs to $S_{D}$ and not to $S_{W}$.\n",
    "Likewise, an address of type `W` is defined when it belongs to $S_{W}$ and not to $S_{D}$. \n",
    "Finally, when an address belongs to both sets, we classify it as a `DW` type.\n",
    "\n",
    "For the cases where we got outside TCash transactions of type `D -> W` (i.e., a transaction from a *D* type address to a *W* type address) or `W -> D` (i.e., a transaction from a *W* type address to a *D* type address), it is trivial to transform this entry to the new table.\n",
    "\n",
    "In the cases where we have transactions of type `DW -> W`, `DW -> D`, `W -> DW` and `D -> DW`, it is also straightforward to transform the corresponding entries. For example, consider again this particular entry of Ethereum transactions table,\n",
    "\n",
    "\n",
    "| from_address  | to_address  |\n",
    "|---------------|-------------|\n",
    "| address1      | address2    |\n",
    "\n",
    "\n",
    "Suppose now that `address1` is of type `DW` and `address2` of type `D`. Then, `address2` is trivially placed in the `deposit_address` column. By a process of elimination, then `address1` is set in `withdraw_address` column,\n",
    "\n",
    "\n",
    "| deposit_address | withdraw_address |\n",
    "|-----------------|------------------|\n",
    "| address2        | address1         |\n",
    "\n",
    "\n",
    "When we have a transaction of type `DW -> DW`, it cannot be known which address deposited and which one made the withdraw, so the two combinations are considered. Considering again the same entry, the resulting table will be as follows,\n",
    "\n",
    "| deposit_address | withdraw_address |\n",
    "|-----------------|------------------|\n",
    "| address1        | address2         |\n",
    "| address2        | address1         |\n",
    "\n",
    "\n",
    "Then, deposits of `address1` are linked to withdraws of `address2` and deposits of `address2` are linked to withdraws of `address1`.\n",
    "\n",
    "\n",
    "### Results data structure\n",
    "The results of this heuristic are returned as a dictionary where each element has a TCash withdraw transaction hash  as key and a list of the linked TCash deposit transaction hashes as a value. For example,\n",
    "\n",
    "```\n",
    "    '0x4858': ['0x2fad', '0x750a']\n",
    "```\n",
    "This would mean that withdraw transaction `0x4858` is linked to `0x2fad` and `0x750a` deposit transactions."
   ]
  },
  {
   "cell_type": "code",
   "execution_count": 1,
   "metadata": {},
   "outputs": [],
   "source": [
    "import pandas as pd\n",
    "import numpy as np\n",
    "from tqdm import tqdm\n",
    "import json\n",
    "from collections import namedtuple, Counter\n",
    "import seaborn as sns\n",
    "from os.path import exists\n",
    "import matplotlib.pyplot as plt\n",
    "import itertools"
   ]
  },
  {
   "cell_type": "code",
   "execution_count": 2,
   "metadata": {},
   "outputs": [],
   "source": [
    "# Utils functions \n",
    "def remap_keys(mapping):\n",
    "    return [{'key': k,'value': v} for k, v in mapping.items()]\n",
    "\n",
    "def create_addresses_and_pools_to_deposits_json(filepath, dictionary):\n",
    "    with open(filepah, \"w\") as outfile:\n",
    "        json.dump(remap_keys(dictionary), outfile, indent=4)\n",
    "\n",
    "def load_addresses_and_pools_to_deposits_json(filepath):\n",
    "    with open(filepath) as json_file:\n",
    "        raw_dict_list = json.load(json_file)\n",
    "        addresses_and_pools_to_deposits: dict = {}\n",
    "        \n",
    "        HashTimestamp = namedtuple(\"HashTimestamp\", [\"deposit_hash\", \"timestamp\"])\n",
    "        AddressPool = namedtuple(\"AddressPool\", [\"address\", \"pool\"])\n",
    "        \n",
    "        for dic in tqdm(raw_dict_list, mininterval=1):\n",
    "            elem = {\n",
    "                AddressPool(address=dic['key'][0], pool=dic['key'][1]): [HashTimestamp(deposit_hash=l[0], timestamp=l[1]) for l in dic['value']]\n",
    "            }\n",
    "            addresses_and_pools_to_deposits.update(elem)\n",
    "        \n",
    "        return addresses_and_pools_to_deposits\n",
    "\n",
    "def save_linked_txs(linked_txs_filepath, w2d_dict):\n",
    "    with open(linked_txs_filepath, 'w') as json_file:\n",
    "        json.dump(w2d_dict, json_file, indent=4)\n",
    "\n",
    "def load_addresses_and_pools_to_deposits(filepath):\n",
    "    if os.path.exists(filepath):\n",
    "        addresses_and_pools_to_deposits_dict = load_addresses_and_pools_to_deposits_json(\"../data/addresses_and_pools_to_deposits.json\")\n",
    "    else:\n",
    "        addresses_and_pools_to_deposits_dict = addresses_and_pools_to_deposits(deposit_txs)\n",
    "    return addresses_and_pools_to_deposits_dict\n",
    "\n",
    "\n",
    "# Given an address and the TCash pool, give all the deposits that address has done in that pool.\n",
    "def _addr_pool_to_deposits(address: str, tcash_pool: str, deposit_txs) -> dict:\n",
    "    mask = (deposit_txs[\"from_address\"] == address) & (deposit_txs[\"tcash_pool\"] == tcash_pool)\n",
    "    \n",
    "    addr_pool_deposits = deposit_txs[mask]\n",
    "    \n",
    "    HashTimestamp = namedtuple(\"HashTimestamp\", [\"deposit_hash\", \"timestamp\"])\n",
    "    AddressPool = namedtuple(\"AddressPool\", [\"address\", \"pool\"])\n",
    "    \n",
    "    hashes_and_timestamps: list = [None] * len(addr_pool_deposits)\n",
    "    for i, row in enumerate(addr_pool_deposits.itertuples()):\n",
    "        hashes_and_timestamps[i] = HashTimestamp(deposit_hash=row.hash, timestamp=row.block_timestamp)\n",
    "    \n",
    "    return {AddressPool(address=address, pool=tcash_pool): hashes_and_timestamps}\n",
    "\n",
    "# Gives a dictionary with deposit addresses as keys and the deposit transactions each address made as values.\n",
    "def addresses_and_pools_to_deposits(deposit_txs) -> dict:\n",
    "    \n",
    "    addresses_and_pools: dict = dict(deposit_txs.groupby(\"from_address\")[\"tcash_pool\"].apply(list))\n",
    "    \n",
    "    addresses_and_pools_to_deposits: dict = {}\n",
    "    \n",
    "    for addr in tqdm(addresses_and_pools.keys(), mininterval=3):\n",
    "        for pool in addresses_and_pools[addr]:\n",
    "            addresses_and_pools_to_deposits.update(_addr_pool_to_deposits(addr, pool, deposit_txs))\n",
    "            \n",
    "    return addresses_and_pools_to_deposits"
   ]
  },
  {
   "cell_type": "code",
   "execution_count": 3,
   "metadata": {},
   "outputs": [
    {
     "name": "stderr",
     "output_type": "stream",
     "text": [
      "100%|██████████| 31927/31927 [00:00<00:00, 156373.87it/s]\n"
     ]
    }
   ],
   "source": [
    "with open('../data/tornado_pools.json') as json_file:\n",
    "    tornado_addresses = json.load(json_file)\n",
    "\n",
    "deposit_txs = pd.read_csv(\"../data/lighter_complete_deposit_txs.csv\")\n",
    "deposit_txs[\"tcash_pool\"] = deposit_txs[\"tornado_cash_address\"].apply(lambda addr: tornado_addresses[addr])\n",
    "withdraw_txs = pd.read_csv(\"../data/lighter_complete_withdraw_txs.csv\")\n",
    "withdraw_txs[\"tcash_pool\"] = withdraw_txs[\"tornado_cash_address\"].apply(lambda addr: tornado_addresses[addr])\n",
    "\n",
    "unique_deposit_addresses = set(deposit_txs[\"from_address\"])\n",
    "unique_withdraw_addresses = set(withdraw_txs[\"recipient_address\"])\n",
    "\n",
    "addresses_and_pools_to_deposits_dict = load_addresses_and_pools_to_deposits_json('../data/addresses_and_pools_to_deposits.json')\n",
    "\n",
    "address_and_withdraw_df = pd.read_csv(\"../data/transactions_between_deposit_and_withdraw_addresses.csv\")[[\"from_address\", \"to_address\"]]"
   ]
  },
  {
   "cell_type": "markdown",
   "metadata": {},
   "source": [
    "### Data preprocessing\n",
    "From the data obtained in the query, we want to filter repeated and permuted transactions, since they don't provide any new information. Once a transaction between a withdraw address and a deposit address is found, they are considereded linked regardless of the direction in what the transaction was done and the number of times they interacted."
   ]
  },
  {
   "cell_type": "code",
   "execution_count": 4,
   "metadata": {},
   "outputs": [],
   "source": [
    "def filter_repeated_and_permuted(address_and_withdraw_df):\n",
    "    filtered_addresses_set = set()\n",
    "    \n",
    "    for row in address_and_withdraw_df.itertuples():\n",
    "        filtered_addresses_set.add(frozenset([row.from_address, row.to_address]))\n",
    "    \n",
    "    return filtered_addresses_set\n",
    "\n",
    "def dataframe_from_set_of_sets(set_of_sets):\n",
    "    addresses_df = pd.DataFrame({\"address_1\":[], \"address_2\":[]})\n",
    "        \n",
    "    for s in tqdm(set_of_sets):\n",
    "        s_tuple = tuple(s)\n",
    "        if len(s) == 2:\n",
    "            addresses_df = addresses_df.append({\"address_1\": s_tuple[0], \"address_2\": s_tuple[1]}, ignore_index=True)\n",
    "        else:\n",
    "            addresses_df = addresses_df.append({\"address_1\": s_tuple[0], \"address_2\": s_tuple[0]}, ignore_index=True)\n",
    "\n",
    "    return addresses_df\n",
    "\n",
    "def preprocess_data(address_and_withdraw_df):\n",
    "    s = filter(lambda x: len(x) == 2, filter_repeated_and_permuted(address_and_withdraw_df))\n",
    "    return dataframe_from_set_of_sets(s)"
   ]
  },
  {
   "cell_type": "code",
   "execution_count": 5,
   "metadata": {
    "scrolled": true
   },
   "outputs": [
    {
     "name": "stderr",
     "output_type": "stream",
     "text": [
      "11230it [00:24, 463.24it/s]\n"
     ]
    },
    {
     "data": {
      "text/html": [
       "<div>\n",
       "<style scoped>\n",
       "    .dataframe tbody tr th:only-of-type {\n",
       "        vertical-align: middle;\n",
       "    }\n",
       "\n",
       "    .dataframe tbody tr th {\n",
       "        vertical-align: top;\n",
       "    }\n",
       "\n",
       "    .dataframe thead th {\n",
       "        text-align: right;\n",
       "    }\n",
       "</style>\n",
       "<table border=\"1\" class=\"dataframe\">\n",
       "  <thead>\n",
       "    <tr style=\"text-align: right;\">\n",
       "      <th></th>\n",
       "      <th>address_1</th>\n",
       "      <th>address_2</th>\n",
       "    </tr>\n",
       "  </thead>\n",
       "  <tbody>\n",
       "    <tr>\n",
       "      <th>0</th>\n",
       "      <td>0x8ea90474a75718b644aa145594493ff6ebe22d01</td>\n",
       "      <td>0x20b0fbb0f8f5d0ec08306a7c2537df84ca0295e6</td>\n",
       "    </tr>\n",
       "    <tr>\n",
       "      <th>1</th>\n",
       "      <td>0x5b7dcb8ce882f3d4c953c9f9d79e08730efe4939</td>\n",
       "      <td>0x6306fd142edeca18a64fd7dbfb425e083ddce973</td>\n",
       "    </tr>\n",
       "    <tr>\n",
       "      <th>2</th>\n",
       "      <td>0x42ebcedeab71f0a7e505ca1258267685741a7f17</td>\n",
       "      <td>0xdeb6f026cdfa8ab1130875aacee3312aa0c3f915</td>\n",
       "    </tr>\n",
       "    <tr>\n",
       "      <th>3</th>\n",
       "      <td>0x6261269aeee5dd330f772d74cdfefcf424049e88</td>\n",
       "      <td>0x6014ecd4e703ea254a21d67a11bf0813139da89b</td>\n",
       "    </tr>\n",
       "    <tr>\n",
       "      <th>4</th>\n",
       "      <td>0x20b0fbb0f8f5d0ec08306a7c2537df84ca0295e6</td>\n",
       "      <td>0xccc4dd71d6bdd0873e2dd1cf99f504e6877a25bb</td>\n",
       "    </tr>\n",
       "  </tbody>\n",
       "</table>\n",
       "</div>"
      ],
      "text/plain": [
       "                                    address_1  \\\n",
       "0  0x8ea90474a75718b644aa145594493ff6ebe22d01   \n",
       "1  0x5b7dcb8ce882f3d4c953c9f9d79e08730efe4939   \n",
       "2  0x42ebcedeab71f0a7e505ca1258267685741a7f17   \n",
       "3  0x6261269aeee5dd330f772d74cdfefcf424049e88   \n",
       "4  0x20b0fbb0f8f5d0ec08306a7c2537df84ca0295e6   \n",
       "\n",
       "                                    address_2  \n",
       "0  0x20b0fbb0f8f5d0ec08306a7c2537df84ca0295e6  \n",
       "1  0x6306fd142edeca18a64fd7dbfb425e083ddce973  \n",
       "2  0xdeb6f026cdfa8ab1130875aacee3312aa0c3f915  \n",
       "3  0x6014ecd4e703ea254a21d67a11bf0813139da89b  \n",
       "4  0xccc4dd71d6bdd0873e2dd1cf99f504e6877a25bb  "
      ]
     },
     "execution_count": 5,
     "metadata": {},
     "output_type": "execute_result"
    }
   ],
   "source": [
    "clean_addresses = preprocess_data(address_and_withdraw_df)\n",
    "clean_addresses.head()"
   ]
  },
  {
   "cell_type": "markdown",
   "metadata": {},
   "source": [
    "### Outside TCash transactions classification\n",
    "This functions are used to classify the address type following the definitions already talked about,\n",
    "and finally classify the transaction type done by the addresses outside TCash."
   ]
  },
  {
   "cell_type": "code",
   "execution_count": 6,
   "metadata": {},
   "outputs": [],
   "source": [
    "'''\n",
    "To classify the addresses by their inclusion in the unique_deposit_addresses and \n",
    "the unique_withdraw_addresses sets.\n",
    "'''\n",
    "\n",
    "def is_D_type(address):\n",
    "    return (address in unique_deposit_addresses) and (address not in unique_withdraw_addresses)\n",
    "\n",
    "def is_W_type(address):\n",
    "    return (address not in unique_deposit_addresses) and (address in unique_withdraw_addresses)\n",
    "\n",
    "def is_DW_type(address):\n",
    "    return (address in unique_deposit_addresses) and (address in unique_withdraw_addresses)"
   ]
  },
  {
   "cell_type": "code",
   "execution_count": 7,
   "metadata": {},
   "outputs": [],
   "source": [
    "# To classify outside TCash transactions, based on the classification of addresses.\n",
    "\n",
    "def is_D_W_tx(address1: str, address2: str) -> bool:\n",
    "    return is_D_type(address1) and is_W_type(address2)\n",
    "\n",
    "def is_W_D_tx(address1: str, address2: str) -> bool:\n",
    "    return is_W_type(address1) and is_D_type(address2)\n",
    "\n",
    "def is_D_DW_tx(address1: str, address2: str) -> bool:\n",
    "    return is_D_type(address1) and is_DW_type(address2)\n",
    "\n",
    "def is_DW_D_tx(address1: str, address2: str) -> bool:\n",
    "    return is_DW_type(address1) and is_D_type(address2)\n",
    "\n",
    "def is_W_DW_tx(address1: str, address2: str) -> bool:\n",
    "    return is_W_type(address1) and is_DW_type(address2)\n",
    "\n",
    "def is_DW_W_tx(address1: str, address2: str) -> bool:\n",
    "    return is_DW_type(address1) and is_W_type(address2)\n",
    "\n",
    "def is_DW_DW_tx(address1: str, address2: str) -> bool:\n",
    "    return is_DW_type(address1) and is_DW_type(address2)"
   ]
  },
  {
   "cell_type": "markdown",
   "metadata": {},
   "source": [
    "### Function description: map_withdraw2deposit_interactions_outside_tcash\n",
    "This function receives the clean addresses data, transforms it to the table mentioned in the introduction and returns a dictionary mapping the interaction of each withdraw address with deposit addresses."
   ]
  },
  {
   "cell_type": "code",
   "execution_count": 8,
   "metadata": {},
   "outputs": [],
   "source": [
    "# Map interactions between every withdraw address to every deposit address, outside TCash\n",
    "\n",
    "def map_withdraw2deposit_interactions_outside_tcash(clean_addresses_df) -> dict:\n",
    "    \n",
    "    deposit_and_withdraw_matrix = np.empty((0, 2), dtype=str)\n",
    "    \n",
    "    for row in tqdm(clean_addresses_df.itertuples(), total=len(clean_addresses_df), mininterval=0.5):\n",
    "                \n",
    "        if is_D_W_tx(row.address_1, row.address_2) or is_D_DW_tx(row.address_1, row.address_2) or is_DW_W_tx(row.address_1, row.address_2):\n",
    "            deposit_and_withdraw_matrix = np.append(deposit_and_withdraw_matrix, [[row.address_1, row.address_2]], axis=0)\n",
    "            \n",
    "        elif is_W_D_tx(row.address_1, row.address_2) or is_W_DW_tx(row.address_1, row.address_2) or is_DW_D_tx(row.address_1, row.address_2):\n",
    "            deposit_and_withdraw_matrix = np.append(deposit_and_withdraw_matrix, [[row.address_2, row.address_1]], axis=0)\n",
    "            \n",
    "        elif is_DW_DW_tx(row.address_1, row.address_2):\n",
    "            deposit_and_withdraw_matrix = np.append(deposit_and_withdraw_matrix, [[row.address_1, row.address_2]], axis=0)\n",
    "            deposit_and_withdraw_matrix = np.append(deposit_and_withdraw_matrix, [[row.address_2, row.address_1]], axis=0)\n",
    "        else:\n",
    "            print(row.address_1, row.address_2)\n",
    "            raise ValueError(\"The transaction is not from any of the types: D_W, W_D, D_DW, DW_D, W_DW, DW_W, DW_DW\")\n",
    "\n",
    "    D_W_df = pd.DataFrame(deposit_and_withdraw_matrix, columns=[\"deposit_address\", \"withdraw_address\"])\n",
    "    \n",
    "    return dict(D_W_df.groupby(\"withdraw_address\")[\"deposit_address\"].apply(list))"
   ]
  },
  {
   "cell_type": "code",
   "execution_count": 9,
   "metadata": {
    "scrolled": false
   },
   "outputs": [
    {
     "name": "stderr",
     "output_type": "stream",
     "text": [
      "100%|██████████| 11230/11230 [00:06<00:00, 1842.70it/s]\n"
     ]
    }
   ],
   "source": [
    "waddr2daddr = map_withdraw2deposit_interactions_outside_tcash(clean_addresses)"
   ]
  },
  {
   "cell_type": "markdown",
   "metadata": {},
   "source": [
    "### Function description: first_neighbors_heuristic\n",
    "Given a withdraw transaction, checks if its address had interacted with any deposit address outside TCash. If it has, then fetch all the deposits those deposit addresses had done and link them to the withdraw transaction."
   ]
  },
  {
   "cell_type": "code",
   "execution_count": 10,
   "metadata": {},
   "outputs": [],
   "source": [
    "def first_neighbors_heuristic(withdraw_tx: pd.Series) -> dict:\n",
    "    address = withdraw_tx.recipient_address\n",
    "    pool = withdraw_tx.tcash_pool\n",
    "    \n",
    "    HashTimestamp = namedtuple(\"HashTimestamp\", [\"deposit_hash\", \"timestamp\"])\n",
    "    AddressPool = namedtuple(\"AddressPool\", [\"address\", \"pool\"])\n",
    "    \n",
    "    '''\n",
    "    Check that there has been a transaction between this address and some deposit\n",
    "    address outside Tcash. If not, return an empty list for this particular withdraw.\n",
    "    '''\n",
    "    if address in waddr2daddr.keys():\n",
    "        interacted_addresses = waddr2daddr[address]\n",
    "        linked_deposits = []\n",
    "        \n",
    "        for addr in interacted_addresses:\n",
    "            if AddressPool(address=addr, pool=pool) in addresses_and_pools_to_deposits_dict.keys():\n",
    "\n",
    "                for d in addresses_and_pools_to_deposits_dict[AddressPool(address=addr, pool=pool)]:\n",
    "                    if d.timestamp < withdraw_tx.block_timestamp:\n",
    "                        linked_deposits.append(d.deposit_hash)\n",
    "                        \n",
    "        return {withdraw_tx.hash: linked_deposits}\n",
    "    else:\n",
    "        return {withdraw_tx.hash: []}"
   ]
  },
  {
   "cell_type": "markdown",
   "metadata": {},
   "source": [
    "### Function description: apply_first_neighbors_heuristic\n",
    "Applies the heuristic to every withdraw in the withdraw transactions data. Returns a dictionary mapping every withdraw transaction to its linked deposit transactions."
   ]
  },
  {
   "cell_type": "code",
   "execution_count": 11,
   "metadata": {},
   "outputs": [],
   "source": [
    "def apply_first_neighbors_heuristic(withdraw_txs: pd.Series) -> dict:\n",
    "    \n",
    "    withdraw_to_linked_deposits: dict = {}\n",
    "        \n",
    "    for row in tqdm(withdraw_txs.itertuples(), total=len(withdraw_txs), mininterval=3):\n",
    "        dic = first_neighbors_heuristic(row)\n",
    "        withdraw_to_linked_deposits.update(dic)\n",
    "    \n",
    "    return dict(filter(lambda elem: len(elem[1]) != 0, withdraw_to_linked_deposits.items()))"
   ]
  },
  {
   "cell_type": "code",
   "execution_count": 12,
   "metadata": {
    "scrolled": true
   },
   "outputs": [
    {
     "name": "stderr",
     "output_type": "stream",
     "text": [
      "100%|██████████| 83782/83782 [00:11<00:00, 7262.84it/s]\n"
     ]
    }
   ],
   "source": [
    "w2d = apply_first_neighbors_heuristic(withdraw_txs)"
   ]
  },
  {
   "cell_type": "markdown",
   "metadata": {},
   "source": [
    "### Lets map each withdraw address with it linked deposit addresses "
   ]
  },
  {
   "cell_type": "code",
   "execution_count": 21,
   "metadata": {},
   "outputs": [],
   "source": [
    "def map_Waddress2Daddress(first_neigbors_heuristic_links) -> dict:\n",
    "    Waddress2Daddress: dict = {}\n",
    "        \n",
    "    for withdraw in first_neigbors_heuristic_links.keys():\n",
    "        \n",
    "        linked_deposit_addresses = _get_unique_linked_deposit_addresses(first_neigbors_heuristic_links[withdraw])\n",
    "        \n",
    "        if w2addr[withdraw] in Waddress2Daddress:\n",
    "            Waddress2Daddress[w2addr[withdraw]] = list(set.union(set(linked_deposit_addresses),set(Waddress2Daddress[w2addr[withdraw]])))\n",
    "        \n",
    "        else:\n",
    "            Waddress2Daddress[w2addr[withdraw]] = linked_deposit_addresses\n",
    "    return Waddress2Daddress"
   ]
  },
  {
   "cell_type": "code",
   "execution_count": 14,
   "metadata": {},
   "outputs": [],
   "source": [
    "def _get_unique_linked_deposit_addresses(list_deposit_hashes):\n",
    "    unique_addresses = set()\n",
    "    for deposit_hash in list_deposit_hashes:\n",
    "        unique_addresses.add(d2addr[deposit_hash])\n",
    "    return list(unique_addresses)"
   ]
  },
  {
   "cell_type": "code",
   "execution_count": 19,
   "metadata": {},
   "outputs": [],
   "source": [
    "def w2add(withdrax_txs) -> dict:\n",
    "    w2addr: dict = {}\n",
    "    for row in tqdm(withdraw_txs.itertuples(), mininterval=1):\n",
    "        w2addr[row.hash] = row.recipient_address\n",
    "    return w2addr\n",
    "\n",
    "def d2add(deposit_txs) -> dict:\n",
    "    d2addr: dict = {}\n",
    "    for row in tqdm(deposit_txs.itertuples(), mininterval=1):\n",
    "        d2addr[row.hash] = row.from_address\n",
    "    return d2addr"
   ]
  },
  {
   "cell_type": "code",
   "execution_count": 23,
   "metadata": {},
   "outputs": [
    {
     "name": "stderr",
     "output_type": "stream",
     "text": [
      "83782it [00:00, 291562.51it/s]\n",
      "97365it [00:00, 290304.78it/s]\n"
     ]
    }
   ],
   "source": [
    "w2addr = w2add(withdraw_txs)\n",
    "d2addr = d2add(deposit_txs)"
   ]
  },
  {
   "cell_type": "code",
   "execution_count": 114,
   "metadata": {},
   "outputs": [],
   "source": [
    "Wadd2Dadd = map_Waddress2Daddress(w2d);"
   ]
  },
  {
   "cell_type": "code",
   "execution_count": 13,
   "metadata": {},
   "outputs": [],
   "source": [
    "# To save the results of the linked transactions, uncomment and run the following line of code:\n",
    "# save_linked_txs('../data/heuristic_3_linked_txs.json', w2d)"
   ]
  },
  {
   "cell_type": "markdown",
   "metadata": {},
   "source": [
    "---"
   ]
  },
  {
   "cell_type": "markdown",
   "metadata": {},
   "source": [
    "## From here on it is only some results exploration..."
   ]
  },
  {
   "cell_type": "code",
   "execution_count": 16,
   "metadata": {
    "scrolled": true
   },
   "outputs": [
    {
     "data": {
      "image/png": "[encoded data removed]",
      "text/plain": [
       "<Figure size 720x360 with 1 Axes>"
      ]
     },
     "metadata": {},
     "output_type": "display_data"
    }
   ],
   "source": [
    "linked_deposits_counts = {}\n",
    "for key in w2d.keys():\n",
    "    linked_deposits_counts[key] = len(w2d[key])\n",
    "\n",
    "sns.set_theme(style=\"darkgrid\")\n",
    "plt.figure(figsize=(10, 5))\n",
    "sns.histplot(linked_deposits_counts.values(), bins=200, legend=False)\n",
    "plt.xlabel(\"Count of linked deposits\")\n",
    "plt.ylabel(\"Withdraws count (log)\")\n",
    "plt.yscale(\"log\")"
   ]
  },
  {
   "cell_type": "markdown",
   "metadata": {},
   "source": [
    "From this graph we can see that most of the withdrawl transactions are linked with only one deposit transaction (bar on the left hand side). There are also two deposit addresses: \n",
    "- [0x16e54b35d789832440ab47ae765e6a8098280676](https://etherscan.io/address/0x16e54b35d789832440ab47ae765e6a8098280676)   \n",
    "- [0xe6629cc8ced87063151c37f25d6ca4a74675a520](https://etherscan.io/address/0xe6629cc8ced87063151c37f25d6ca4a74675a520)\n",
    "\n",
    "That have made lots of compromised deposits (1257 in total)\n"
   ]
  },
  {
   "cell_type": "code",
   "execution_count": 25,
   "metadata": {},
   "outputs": [],
   "source": [
    "linked_deposits_counts = {}\n",
    "for key in w2d.keys():\n",
    "    linked_deposits_counts[key] = len(w2d[key])"
   ]
  },
  {
   "cell_type": "code",
   "execution_count": 83,
   "metadata": {},
   "outputs": [],
   "source": [
    "outlier_deposit_addresses = set()\n",
    "outlier_withdrawl_addresses = set()\n",
    "\n",
    "for key in linked_deposits_counts.keys():\n",
    "    if linked_deposits_counts[key] == 1257:\n",
    "        outlier_withdrawl_addresses.add(w2addr[key])\n",
    "        for deposit in w2d[key]:\n",
    "            outlier_deposit_addresses.add(d2addr[deposit])\n"
   ]
  },
  {
   "cell_type": "markdown",
   "metadata": {},
   "source": [
    "This are the deposit addresses that are involved in the outlier"
   ]
  },
  {
   "cell_type": "code",
   "execution_count": 84,
   "metadata": {
    "scrolled": false
   },
   "outputs": [
    {
     "data": {
      "text/plain": [
       "{'0x16e54b35d789832440ab47ae765e6a8098280676',\n",
       " '0xe6629cc8ced87063151c37f25d6ca4a74675a520'}"
      ]
     },
     "execution_count": 84,
     "metadata": {},
     "output_type": "execute_result"
    }
   ],
   "source": [
    "outlier_deposit_addresses"
   ]
  },
  {
   "cell_type": "markdown",
   "metadata": {},
   "source": [
    "And this are the withdrawl addresses linked to the outlier deposit addresses"
   ]
  },
  {
   "cell_type": "code",
   "execution_count": 89,
   "metadata": {
    "scrolled": true
   },
   "outputs": [
    {
     "data": {
      "text/plain": [
       "{'0x6b91f0343b2160514cb3058282082583956beb22',\n",
       " '0x6c4b5e3e2677836e3f699436b7567f86714eb84d',\n",
       " '0x8d1ec626837b0032b72bdd7701ac35b7e1db5b41',\n",
       " '0xc351d90d2ac3304b671cb205ae1a7491008c4854',\n",
       " '0xcd354b14d1cd3cc386a82eddd40337d45e026d21',\n",
       " '0xd1837e61ca4fc25c989bee682aa5b3796f3c7620',\n",
       " '0xe472ac95d171b788c8184bb83c4927f0f043c0b0'}"
      ]
     },
     "execution_count": 89,
     "metadata": {},
     "output_type": "execute_result"
    }
   ],
   "source": [
    "outlier_withdrawl_addresses"
   ]
  },
  {
   "cell_type": "code",
   "execution_count": 87,
   "metadata": {},
   "outputs": [],
   "source": [
    "def get_number_of_tx(addresses_set, is_deposit):\n",
    "    tx_dict = dict()\n",
    "    for address in addresses_set:\n",
    "        if is_deposit:\n",
    "            tx_dict[address] = len(deposit_txs[deposit_txs[\"from_address\"]==address])\n",
    "        else:\n",
    "            tx_dict[address] = len(withdraw_txs[withdraw_txs[\"recipient_address\"]==address])\n",
    "    return tx_dict"
   ]
  },
  {
   "cell_type": "code",
   "execution_count": 88,
   "metadata": {},
   "outputs": [
    {
     "data": {
      "text/plain": [
       "{'0x16e54b35d789832440ab47ae765e6a8098280676': 1069,\n",
       " '0xe6629cc8ced87063151c37f25d6ca4a74675a520': 189}"
      ]
     },
     "execution_count": 88,
     "metadata": {},
     "output_type": "execute_result"
    }
   ],
   "source": [
    "get_number_of_tx(outlier_deposit_addresses, True)"
   ]
  },
  {
   "cell_type": "code",
   "execution_count": 90,
   "metadata": {},
   "outputs": [
    {
     "data": {
      "text/plain": [
       "{'0x8d1ec626837b0032b72bdd7701ac35b7e1db5b41': 115,\n",
       " '0xc351d90d2ac3304b671cb205ae1a7491008c4854': 181,\n",
       " '0x6c4b5e3e2677836e3f699436b7567f86714eb84d': 178,\n",
       " '0xe472ac95d171b788c8184bb83c4927f0f043c0b0': 191,\n",
       " '0x6b91f0343b2160514cb3058282082583956beb22': 185,\n",
       " '0xd1837e61ca4fc25c989bee682aa5b3796f3c7620': 130,\n",
       " '0xcd354b14d1cd3cc386a82eddd40337d45e026d21': 129}"
      ]
     },
     "execution_count": 90,
     "metadata": {},
     "output_type": "execute_result"
    }
   ],
   "source": [
    "get_number_of_tx(outlier_withdrawl_addresses, False)"
   ]
  },
  {
   "cell_type": "markdown",
   "metadata": {},
   "source": [
    "---\n",
    "#### How many withdrawal addresses can be linked to deposit addresses?"
   ]
  },
  {
   "cell_type": "code",
   "execution_count": 14,
   "metadata": {},
   "outputs": [],
   "source": [
    "def number_of_linked_withdraw_addresses(w2d_dict: dict) -> int:\n",
    "    l = []\n",
    "    for key in w2d_dict.keys():\n",
    "        l.append(w2addr[key])\n",
    "    return len(set(l))"
   ]
  },
  {
   "cell_type": "code",
   "execution_count": 19,
   "metadata": {},
   "outputs": [
    {
     "name": "stdout",
     "output_type": "stream",
     "text": [
      "Withdrawal addresses that can be linked to deposit addresses: 4620\n"
     ]
    }
   ],
   "source": [
    "print(f\"Withdrawal addresses that can be linked to deposit addresses: {number_of_linked_withdraw_addresses(w2d)}\")"
   ]
  },
  {
   "cell_type": "markdown",
   "metadata": {},
   "source": [
    "#### How many withdrawal transactions can be linked to deposit transactions?"
   ]
  },
  {
   "cell_type": "code",
   "execution_count": 20,
   "metadata": {},
   "outputs": [
    {
     "name": "stdout",
     "output_type": "stream",
     "text": [
      "Withdrawal transactions that can be linked to deposit transactions: 15693\n"
     ]
    }
   ],
   "source": [
    "print(f\"Withdrawal transactions that can be linked to deposit transactions: {len(w2d)}\")"
   ]
  },
  {
   "cell_type": "code",
   "execution_count": 96,
   "metadata": {},
   "outputs": [],
   "source": [
    "# Auxiliary function\n",
    "# Return all the withdrawals the input address has done.\n",
    "def get_address_withdraws(address, withdraw_txs):\n",
    "    return withdraw_txs[withdraw_txs[\"recipient_address\"] == address ].hash"
   ]
  },
  {
   "cell_type": "code",
   "execution_count": 97,
   "metadata": {},
   "outputs": [],
   "source": [
    "'''\n",
    "Initialize the address_map, that will follow the next structure\n",
    "{'withdrawal address': [[withdrawals made],[compromised deposit transactions]], ... }\n",
    "Definitions:\n",
    "withdrawals made: The Tcash withdrawals made by the 'withdrawal address'\n",
    "compromised deposit transactions: The compromised deposit transactions of the 'withdrawals made'.\n",
    "'''\n",
    "\n",
    "address_map = {}\n",
    "for address in unique_withdraw_addresses:\n",
    "    address_map[address] = [[],[]]\n",
    "\n",
    "for address in unique_withdraw_addresses:\n",
    "    deposit = {}\n",
    "    address_transactions = get_address_withdraws(address, withdraw_txs)\n",
    "    address_map[address][0] = address_transactions\n",
    "    for row in address_transactions:\n",
    "        address_map[address][1] +=  w2d.get(row,[])"
   ]
  },
  {
   "cell_type": "code",
   "execution_count": 105,
   "metadata": {},
   "outputs": [],
   "source": [
    "'''\n",
    "Since we want to plot the points (number of withdrawals, number compromised deposit transactions) \n",
    "of each withdrawal address,\n",
    "we need to remove the duplicated compromised deposit transactions and\n",
    "get the cardinal of each set.\n",
    "\n",
    "We end up with a dictionary,\n",
    "{withdrawal address: (number of withdrawals, number compromised deposit transactions), ...}\n",
    "'''\n",
    "\n",
    "scatter_points = {}\n",
    "for (address, value) in address_map.items():\n",
    "    scatter_points[address] = (len(set(value[0])), len(set(value[1])))"
   ]
  },
  {
   "cell_type": "code",
   "execution_count": 106,
   "metadata": {
    "scrolled": true
   },
   "outputs": [
    {
     "ename": "AttributeError",
     "evalue": "module 'seaborn' has no attribute 'set_theme'",
     "output_type": "error",
     "traceback": [
      "\u001b[0;31m---------------------------------------------------------------------------\u001b[0m",
      "\u001b[0;31mAttributeError\u001b[0m                            Traceback (most recent call last)",
      "\u001b[0;32m<ipython-input-106-f8f0371c77fb>\u001b[0m in \u001b[0;36m<module>\u001b[0;34m\u001b[0m\n\u001b[1;32m      2\u001b[0m \u001b[0my\u001b[0m \u001b[0;34m=\u001b[0m \u001b[0;34m[\u001b[0m\u001b[0mx\u001b[0m\u001b[0;34m[\u001b[0m\u001b[0;36m1\u001b[0m\u001b[0;34m]\u001b[0m \u001b[0;32mfor\u001b[0m \u001b[0mx\u001b[0m \u001b[0;32min\u001b[0m \u001b[0mscatter_points\u001b[0m\u001b[0;34m.\u001b[0m\u001b[0mvalues\u001b[0m\u001b[0;34m(\u001b[0m\u001b[0;34m)\u001b[0m\u001b[0;34m]\u001b[0m\u001b[0;34m\u001b[0m\u001b[0;34m\u001b[0m\u001b[0m\n\u001b[1;32m      3\u001b[0m \u001b[0;34m\u001b[0m\u001b[0m\n\u001b[0;32m----> 4\u001b[0;31m \u001b[0msns\u001b[0m\u001b[0;34m.\u001b[0m\u001b[0mset_theme\u001b[0m\u001b[0;34m(\u001b[0m\u001b[0mstyle\u001b[0m\u001b[0;34m=\u001b[0m\u001b[0;34m\"darkgrid\"\u001b[0m\u001b[0;34m)\u001b[0m\u001b[0;34m\u001b[0m\u001b[0;34m\u001b[0m\u001b[0m\n\u001b[0m\u001b[1;32m      5\u001b[0m \u001b[0mplt\u001b[0m\u001b[0;34m.\u001b[0m\u001b[0mfigure\u001b[0m\u001b[0;34m(\u001b[0m\u001b[0mfigsize\u001b[0m\u001b[0;34m=\u001b[0m\u001b[0;34m(\u001b[0m\u001b[0;36m10\u001b[0m\u001b[0;34m,\u001b[0m \u001b[0;36m5\u001b[0m\u001b[0;34m)\u001b[0m\u001b[0;34m)\u001b[0m\u001b[0;34m\u001b[0m\u001b[0;34m\u001b[0m\u001b[0m\n\u001b[1;32m      6\u001b[0m \u001b[0msns\u001b[0m\u001b[0;34m.\u001b[0m\u001b[0mscatterplot\u001b[0m\u001b[0;34m(\u001b[0m\u001b[0mx\u001b[0m\u001b[0;34m=\u001b[0m\u001b[0mx\u001b[0m\u001b[0;34m,\u001b[0m\u001b[0my\u001b[0m\u001b[0;34m=\u001b[0m\u001b[0my\u001b[0m\u001b[0;34m,\u001b[0m \u001b[0malpha\u001b[0m\u001b[0;34m=\u001b[0m\u001b[0;36m0.7\u001b[0m\u001b[0;34m)\u001b[0m\u001b[0;34m\u001b[0m\u001b[0;34m\u001b[0m\u001b[0m\n",
      "\u001b[0;31mAttributeError\u001b[0m: module 'seaborn' has no attribute 'set_theme'"
     ]
    }
   ],
   "source": [
    "x = [x[0] for x in scatter_points.values()]\n",
    "y = [x[1] for x in scatter_points.values()]\n",
    "\n",
    "sns.set_theme(style=\"darkgrid\")\n",
    "plt.figure(figsize=(10, 5))\n",
    "sns.scatterplot(x=x,y=y, alpha=0.7)\n",
    "plt.xlabel(\"# of withdraw transactions\")\n",
    "plt.ylabel(\"# of linked deposit transactions\")\n",
    "plt.title(\"Number of withdraws and linked deposits for each withdrawl address\")"
   ]
  },
  {
   "cell_type": "markdown",
   "metadata": {},
   "source": [
    "In this figure we can see the number of withdralws and linked deposits for each withdrawl address. Here we can see that most of the addresses have made less than 200 withdrawls and  have also less of 200 linked deposits. \n",
    "Again we can see the outliers of the first graph (all of them with 1257 linked deposits):\n",
    "\n",
    "```\n",
    "'0x8d1ec626837b0032b72bdd7701ac35b7e1db5b41': 115\n",
    "'0xc351d90d2ac3304b671cb205ae1a7491008c4854': 181\n",
    "'0x6c4b5e3e2677836e3f699436b7567f86714eb84d': 178\n",
    "'0xe472ac95d171b788c8184bb83c4927f0f043c0b0': 191\n",
    "'0x6b91f0343b2160514cb3058282082583956beb22': 185\n",
    "'0xd1837e61ca4fc25c989bee682aa5b3796f3c7620': 130\n",
    "'0xcd354b14d1cd3cc386a82eddd40337d45e026d21': 129\n",
    "```\n",
    "\n",
    "And other outlier that have made around 500 withdrawls and was linked to only one deposit. \n"
   ]
  },
  {
   "cell_type": "code",
   "execution_count": 116,
   "metadata": {},
   "outputs": [],
   "source": [
    "def get_withdrawls(address):\n",
    "    return len(withdraw_txs[withdraw_txs[\"recipient_address\"] == address])"
   ]
  },
  {
   "cell_type": "code",
   "execution_count": 118,
   "metadata": {},
   "outputs": [],
   "source": [
    "def withdrawls_and_linked_deposits(Wadd2Dadd):\n",
    "    heuristic_scatter_points = dict()\n",
    "    \n",
    "    for w_address in Wadd2Dadd:\n",
    "        heuristic_scatter_points[w_address] = (get_withdrawls(w_address), len(Wadd2Dadd[w_address]))\n",
    "    return heuristic_scatter_points"
   ]
  },
  {
   "cell_type": "code",
   "execution_count": 119,
   "metadata": {},
   "outputs": [],
   "source": [
    "heuristic_scatter_points = withdrawls_and_linked_deposits(Wadd2Dadd)"
   ]
  },
  {
   "cell_type": "code",
   "execution_count": null,
   "metadata": {},
   "outputs": [],
   "source": [
    "x = [x[0] for x in heuristic_scatter_points.values()]\n",
    "y = [x[1] for x in heuristic_scatter_points.values()]\n",
    "\n",
    "sns.set_theme(style=\"darkgrid\")\n",
    "plt.figure(figsize=(10, 5))\n",
    "sns.scatterplot(x=x,y=y, alpha=0.7)\n",
    "plt.xlabel(\"# of withdraw transactions\")\n",
    "plt.ylabel(\"# of linked deposit transactions\")\n",
    "plt.title(\"Number of withdraws and linked deposits for each withdrawl address\")"
   ]
  },
  {
   "cell_type": "markdown",
   "metadata": {},
   "source": [
    "#### Number of compromised deposits"
   ]
  },
  {
   "cell_type": "code",
   "execution_count": 26,
   "metadata": {},
   "outputs": [],
   "source": [
    "compromised_deposits = set([compromised_deposit for value in address_map.values() for compromised_deposit in value[1]])"
   ]
  },
  {
   "cell_type": "code",
   "execution_count": 27,
   "metadata": {},
   "outputs": [
    {
     "data": {
      "text/plain": [
       "18998"
      ]
     },
     "execution_count": 27,
     "metadata": {},
     "output_type": "execute_result"
    }
   ],
   "source": [
    "len(compromised_deposits)"
   ]
  },
  {
   "cell_type": "code",
   "execution_count": 28,
   "metadata": {},
   "outputs": [
    {
     "name": "stdout",
     "output_type": "stream",
     "text": [
      "Number of compromised deposits: 18998\n"
     ]
    }
   ],
   "source": [
    "print(f\"Number of compromised deposits: {len(compromised_deposits)}\")"
   ]
  },
  {
   "cell_type": "markdown",
   "metadata": {},
   "source": [
    "Average number of compromised deposits per linked withdrawal address"
   ]
  },
  {
   "cell_type": "code",
   "execution_count": 29,
   "metadata": {},
   "outputs": [],
   "source": [
    "number_of_compromised_deposits =  [value[1] for value in scatter_points.values() if value[1] != 0]"
   ]
  },
  {
   "cell_type": "code",
   "execution_count": 30,
   "metadata": {},
   "outputs": [
    {
     "data": {
      "text/plain": [
       "Text(0.5, 1.0, 'Histogram of compromised deposits per linked withdrawal address')"
      ]
     },
     "execution_count": 30,
     "metadata": {},
     "output_type": "execute_result"
    },
    {
     "data": {
      "image/png": "[encoded data removed]",
      "text/plain": [
       "<Figure size 720x360 with 1 Axes>"
      ]
     },
     "metadata": {},
     "output_type": "display_data"
    }
   ],
   "source": [
    "plt.figure(figsize=(10, 5))\n",
    "plt.hist(number_of_compromised_deposits, bins=50)\n",
    "plt.yscale(\"log\")\n",
    "plt.xlabel(\"Number of compromised deposits\")\n",
    "plt.ylabel(\"Count\")\n",
    "plt.title(\"Histogram of compromised deposits per linked withdrawal address\")"
   ]
  },
  {
   "cell_type": "code",
   "execution_count": null,
   "metadata": {},
   "outputs": [],
   "source": []
  },
  {
   "cell_type": "code",
   "execution_count": 31,
   "metadata": {
    "scrolled": true
   },
   "outputs": [
    {
     "name": "stdout",
     "output_type": "stream",
     "text": [
      "Average number of compromised deposits per linked withdrawal address: 7.294155844155844\n"
     ]
    }
   ],
   "source": [
    "print(f\"Average number of compromised deposits per linked withdrawal address: {sum(number_of_compromised_deposits)/ len(number_of_compromised_deposits)}\") "
   ]
  },
  {
   "cell_type": "markdown",
   "metadata": {},
   "source": [
    "#### Compromised deposit transactions for each TCash pool"
   ]
  },
  {
   "cell_type": "code",
   "execution_count": 32,
   "metadata": {},
   "outputs": [],
   "source": [
    "def tx_to_pool(txs_df):\n",
    "    tx_to_pool_dict = {}\n",
    "    for row in tqdm(txs_df.itertuples(), mininterval=1):\n",
    "        tx_to_pool_dict[row.hash] = row.tcash_pool\n",
    "    \n",
    "    return tx_to_pool_dict"
   ]
  },
  {
   "cell_type": "code",
   "execution_count": 33,
   "metadata": {},
   "outputs": [
    {
     "name": "stderr",
     "output_type": "stream",
     "text": [
      "97365it [00:00, 271359.86it/s]\n"
     ]
    }
   ],
   "source": [
    "tx_to_pool_dict = tx_to_pool(deposit_txs)\n",
    "compromised_deposit_hashes = set(list(itertools.chain(*w2d.values())))\n",
    "number_of_compromised_deposits_by_pool = Counter(list(map(lambda x: tx_to_pool_dict[x], compromised_deposit_hashes)))"
   ]
  },
  {
   "cell_type": "code",
   "execution_count": 34,
   "metadata": {},
   "outputs": [],
   "source": [
    "pools_to_deposits = dict(deposit_txs.groupby(\"tcash_pool\")[\"hash\"].apply(list))\n",
    "number_of_uncompromised_deposits_by_pool = {}\n",
    "for pool in list(pools_to_deposits.keys()):\n",
    "    number_of_uncompromised_deposits_by_pool[pool] = len(pools_to_deposits[pool]) - number_of_compromised_deposits_by_pool[pool]"
   ]
  },
  {
   "cell_type": "code",
   "execution_count": 35,
   "metadata": {},
   "outputs": [],
   "source": [
    "compromised_vs_uncompromised_by_pool = {}\n",
    "\n",
    "for pool in list(number_of_compromised_deposits_by_pool.keys()):\n",
    "    compromised_vs_uncompromised_by_pool[pool] = (number_of_compromised_deposits_by_pool[pool], number_of_uncompromised_deposits_by_pool[pool])"
   ]
  },
  {
   "cell_type": "code",
   "execution_count": 36,
   "metadata": {},
   "outputs": [],
   "source": [
    "eth_pools = [\"0.1 ETH\", \"1 ETH\", \"10 ETH\", \"100 ETH\"]\n",
    "tkn_pools = [pool for pool in compromised_vs_uncompromised_by_pool.keys() if pool not in eth_pools]\n",
    "all_pools = eth_pools + tkn_pools"
   ]
  },
  {
   "cell_type": "code",
   "execution_count": 37,
   "metadata": {
    "scrolled": true
   },
   "outputs": [
    {
     "data": {
      "image/png": "[encoded data removed]",
      "text/plain": [
       "<Figure size 1440x360 with 2 Axes>"
      ]
     },
     "metadata": {},
     "output_type": "display_data"
    }
   ],
   "source": [
    "points = [compromised_vs_uncompromised_by_pool[pool] for pool in all_pools]\n",
    "\n",
    "eth_compromised = [t[0] for t in points[:4]]\n",
    "eth_uncompromised = [t[1] for t in points[:4]]\n",
    "eth_x_axis = np.arange(len(eth_pools))\n",
    "\n",
    "tkn_compromised = [t[0] for t in points[4:]]\n",
    "tkn_uncompromised = [t[1] for t in points[4:]]\n",
    "tkn_x_axis = np.arange(len(tkn_pools))\n",
    "\n",
    "sns.set_theme(style=\"darkgrid\")\n",
    "fig, (ax1, ax2) = plt.subplots(ncols=2, figsize=(20, 5))\n",
    "ax1.bar(eth_x_axis - 0.2, eth_compromised, 0.4, label = \"Compromised\")\n",
    "ax1.bar(eth_x_axis + 0.2, eth_uncompromised, 0.4, label = \"Uncompromised\")\n",
    "ax1.set_xticks(eth_x_axis)\n",
    "ax1.set_xticklabels(eth_pools, rotation=\"vertical\")\n",
    "ax1.set_xlabel(\"Deposits\")\n",
    "ax1.set_ylabel(\"Number of deposits\")\n",
    "ax1.legend(fontsize=13)\n",
    "\n",
    "ax2.bar(tkn_x_axis - 0.1, tkn_compromised, 0.4, label = \"Compromised\")\n",
    "ax2.bar(tkn_x_axis + 0.1, tkn_uncompromised, 0.4, label = \"Uncompromised\")\n",
    "ax2.set_xticks(tkn_x_axis)\n",
    "ax2.set_xticklabels(tkn_pools, rotation=\"vertical\")\n",
    "ax2.set_xlabel(\"Deposits\")\n",
    "ax2.set_ylabel(\"Number of deposits\")\n",
    "ax2.legend(fontsize=13)\n",
    "fig.suptitle(\"Compromised vs. Uncompromised deposits\")\n",
    "\n",
    "plt.show()"
   ]
  },
  {
   "cell_type": "code",
   "execution_count": 38,
   "metadata": {},
   "outputs": [],
   "source": [
    "rate_compromised_vs_uncompromised_by_pool = {}\n",
    "for pool in compromised_vs_uncompromised_by_pool.keys():\n",
    "    n_compromised = compromised_vs_uncompromised_by_pool[pool][0]\n",
    "    n_uncompromised = compromised_vs_uncompromised_by_pool[pool][1]\n",
    "    total_deposits = n_compromised + n_uncompromised\n",
    "    \n",
    "    rate_compromised_vs_uncompromised_by_pool[pool] = (n_compromised/total_deposits * 100, n_uncompromised/total_deposits * 100)"
   ]
  },
  {
   "cell_type": "code",
   "execution_count": 39,
   "metadata": {},
   "outputs": [
    {
     "data": {
      "image/png": "[encoded data removed]",
      "text/plain": [
       "<Figure size 1440x360 with 2 Axes>"
      ]
     },
     "metadata": {},
     "output_type": "display_data"
    }
   ],
   "source": [
    "rate_points = [rate_compromised_vs_uncompromised_by_pool[pool] for pool in all_pools]\n",
    "\n",
    "eth_compromised = [t[0] for t in rate_points[:4]]\n",
    "eth_uncompromised = [t[1] for t in rate_points[:4]]\n",
    "eth_x_axis = np.arange(len(eth_pools))\n",
    "\n",
    "tkn_compromised = [t[0] for t in rate_points[4:]]\n",
    "tkn_uncompromised = [t[1] for t in rate_points[4:]]\n",
    "tkn_x_axis = np.arange(len(tkn_pools))\n",
    "\n",
    "\n",
    "fig, (ax1, ax2) = plt.subplots(ncols=2, figsize=(20, 5))\n",
    "ax1.bar(eth_x_axis - 0.2, eth_compromised, 0.4, label = \"Compromised\")\n",
    "ax1.bar(eth_x_axis + 0.2, eth_uncompromised, 0.4, label = \"Uncomrpmised\")\n",
    "ax1.set_xticks(eth_x_axis)\n",
    "ax1.set_xticklabels(eth_pools, rotation=\"vertical\")\n",
    "ax1.set_xlabel(\"Deposits\")\n",
    "ax1.set_ylabel(\"% of deposits\")\n",
    "ax1.legend(fontsize=13)\n",
    "\n",
    "ax2.bar(tkn_x_axis - 0.1, tkn_compromised, 0.4, label = \"Compromised\")\n",
    "ax2.bar(tkn_x_axis + 0.1, tkn_uncompromised, 0.4, label = \"Uncompromised\")\n",
    "ax2.set_xticks(tkn_x_axis)\n",
    "ax2.set_xticklabels(tkn_pools, rotation=\"vertical\")\n",
    "ax2.set_xlabel(\"Deposits\")\n",
    "ax2.set_ylabel(\"% of deposits\")\n",
    "ax2.legend(fontsize=13)\n",
    "fig.suptitle(\"Compromised vs. Uncompromised deposit rates\")\n",
    "\n",
    "plt.show()"
   ]
  },
  {
   "cell_type": "code",
   "execution_count": 40,
   "metadata": {},
   "outputs": [],
   "source": [
    "txs = np.empty((len(address_and_withdraw_df)), dtype=set)\n",
    "for i, row in enumerate(address_and_withdraw_df.itertuples()):\n",
    "    txs[i] = frozenset([row.from_address, row.to_address])\n",
    "\n",
    "txs = list(filter(lambda x: len(x) == 2, txs))\n",
    "recurrent_interactions = list(Counter(txs).values())"
   ]
  },
  {
   "cell_type": "code",
   "execution_count": 41,
   "metadata": {},
   "outputs": [
    {
     "data": {
      "text/plain": [
       "Text(0.5, 1.0, 'Histogram of transactions between heuristically linked deposit and withdraw addresses outisde TCash')"
      ]
     },
     "execution_count": 41,
     "metadata": {},
     "output_type": "execute_result"
    },
    {
     "data": {
      "image/png": "[encoded data removed]",
      "text/plain": [
       "<Figure size 720x360 with 1 Axes>"
      ]
     },
     "metadata": {},
     "output_type": "display_data"
    }
   ],
   "source": [
    "plt.figure(figsize=(10, 5))\n",
    "plt.hist(recurrent_interactions, bins=50)\n",
    "plt.yscale(\"log\")\n",
    "plt.xlabel(\"Pairs of addresses that interacted outside TCash\")\n",
    "plt.ylabel(\"Number of interactions (log)\")\n",
    "plt.title(\"Histogram of transactions between heuristically linked deposit and withdraw addresses outisde TCash\")"
   ]
  }
 ],
 "metadata": {
  "kernelspec": {
   "display_name": "Python 3",
   "language": "python",
   "name": "python3"
  },
  "language_info": {
   "codemirror_mode": {
    "name": "ipython",
    "version": 3
   },
   "file_extension": ".py",
   "mimetype": "text/x-python",
   "name": "python",
   "nbconvert_exporter": "python",
   "pygments_lexer": "ipython3",
   "version": "3.8.3"
  }
 },
 "nbformat": 4,
 "nbformat_minor": 5
}
