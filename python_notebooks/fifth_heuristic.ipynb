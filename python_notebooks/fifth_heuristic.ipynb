{
 "cells": [
  {
   "cell_type": "markdown",
   "metadata": {},
   "source": [
    "## Heuristic 5 - Careless usage of Anonimity Mining\n",
    "\n",
    "Through Anonimity Mining, TCash users are able to receive TORN token as a reward for using the application. This is done in a sequence of two steps:\n",
    "\n",
    "1. Anonimity Points (AP) are claimed for already spent notes. The quantity of AP obtained depends on how many blocks the note was in a TCash pool, and the pool where it was.\n",
    "2. Using the TCash Automated Market Maker (AMM), users can exchange anonimity points for TORN.\n",
    "\n",
    "\n",
    "From a pure data point of view, this actions are seen as transactions with the TCash Miner. An example of transaction (1) can be seen [here](https://etherscan.io/tx/0x7680b7617931851c5de686c06370bf852d2cd1e32de984d1860ed8510bc44c0b) and an example of transaction (2) can be seen [here](https://etherscan.io/tx/0xb7b41774e17961452c307dfc9515f59ed583e8c6f00a74a716d64e6bd365f223). \n",
    "\n",
    "What can be seen clearly by decoding the input data field of these transactions is that transactions of type (1) call the TCash miner method `reward` and the ones of type (2) the method `withdraw`. Transactions of type (2) are the ones we are interested in, since they give us the following information:\n",
    "\n",
    "* Amount of AP being swapped to TORN.\n",
    "* Address of TORN recipient. \n",
    "\n",
    "Making the assumption that users are swapping the totality of their AP, and that those AP have been claimed for a single note, then we can link deposit and withdrawal transactions with the following procedure:\n",
    "\n",
    "1. Check if the recipient address of a transaction of type (2) has done a deposit or a withdraw in TCash.\n",
    "2. If the address is included in the set of deposit (withdraw) addreses, then check all deposits (withdraws) of that address, convert AP into number of blocks according to the pool the deposit was done, and then search for a withdra transaction with block number equal to\n",
    "\n",
    "    ```deposit_blocks + AP_converted_blocks = withdraw_blocks```\n",
    "    \n",
    "    \n",
    "3. When such a withdraw (deposit) is found, then the two transactions are considered linked.\n",
    "\n",
    "### Results\n",
    "Results are given in a dictionary, each element has the following structure:\n",
    "\n",
    "```\n",
    "(withdraw_hash, withdraw_address, AP_converted_blocks): [(deposit_hash, deposit_address), ...]\n",
    "```\n",
    "\n",
    "In this compact manner we have the information about the withdraw transactions with their addresses and their linking to deposit transactions with their addresses. We also have the amount of blocks that the notes were deposited in the TCash pool."
   ]
  },
  {
   "cell_type": "code",
   "execution_count": 115,
   "metadata": {},
   "outputs": [],
   "source": [
    "import pandas as pd\n",
    "from tqdm import tqdm\n",
    "import json\n",
    "import matplotlib.pyplot as plt\n",
    "import seaborn as sns\n",
    "from itertools import chain\n",
    "import numpy as np\n",
    "from collections import Counter\n",
    "from os.path import exists"
   ]
  },
  {
   "cell_type": "code",
   "execution_count": 9,
   "metadata": {},
   "outputs": [],
   "source": [
    "with open('../data/tornado_pools.json') as json_file:\n",
    "    tornado_addresses = json.load(json_file)\n",
    "\n",
    "deposit_txs = pd.read_csv(\"../data/lighter_complete_deposit_txs.csv\")\n",
    "deposit_txs[\"tcash_pool\"] = deposit_txs[\"tornado_cash_address\"].apply(lambda addr: tornado_addresses[addr])\n",
    "\n",
    "withdraw_txs = pd.read_csv(\"../data/lighter_complete_withdraw_txs.csv\")\n",
    "withdraw_txs[\"tcash_pool\"] = withdraw_txs[\"tornado_cash_address\"].apply(lambda addr: tornado_addresses[addr])\n",
    "\n",
    "miner_txs = pd.read_csv(\"../data/lighter_miner_txs.csv\")"
   ]
  },
  {
   "cell_type": "code",
   "execution_count": 10,
   "metadata": {},
   "outputs": [
    {
     "data": {
      "text/html": [
       "<div>\n",
       "<style scoped>\n",
       "    .dataframe tbody tr th:only-of-type {\n",
       "        vertical-align: middle;\n",
       "    }\n",
       "\n",
       "    .dataframe tbody tr th {\n",
       "        vertical-align: top;\n",
       "    }\n",
       "\n",
       "    .dataframe thead th {\n",
       "        text-align: right;\n",
       "    }\n",
       "</style>\n",
       "<table border=\"1\" class=\"dataframe\">\n",
       "  <thead>\n",
       "    <tr style=\"text-align: right;\">\n",
       "      <th></th>\n",
       "      <th>Unnamed: 0</th>\n",
       "      <th>hash</th>\n",
       "      <th>nonce</th>\n",
       "      <th>transaction_index</th>\n",
       "      <th>from_address</th>\n",
       "      <th>to_address</th>\n",
       "      <th>value</th>\n",
       "      <th>gas</th>\n",
       "      <th>gas_price</th>\n",
       "      <th>receipt_cumulative_gas_used</th>\n",
       "      <th>...</th>\n",
       "      <th>block_timestamp</th>\n",
       "      <th>block_number</th>\n",
       "      <th>block_hash</th>\n",
       "      <th>max_fee_per_gas</th>\n",
       "      <th>max_priority_fee_per_gas</th>\n",
       "      <th>transaction_type</th>\n",
       "      <th>receipt_effective_gas_price</th>\n",
       "      <th>function_call</th>\n",
       "      <th>anonimity_points</th>\n",
       "      <th>recipient_address</th>\n",
       "    </tr>\n",
       "  </thead>\n",
       "  <tbody>\n",
       "    <tr>\n",
       "      <th>0</th>\n",
       "      <td>0</td>\n",
       "      <td>0x3a22fe99fd6c27b507760cb20a1d3ffae9ccd320dca8...</td>\n",
       "      <td>1122</td>\n",
       "      <td>142</td>\n",
       "      <td>0x80e179c4a2f057be91573b32bece53888fb48311</td>\n",
       "      <td>0x746aebc06d2ae31b71ac51429a19d54e797878e9</td>\n",
       "      <td>0</td>\n",
       "      <td>434790</td>\n",
       "      <td>232500000000</td>\n",
       "      <td>8009441</td>\n",
       "      <td>...</td>\n",
       "      <td>2021-04-03 19:23:24 UTC</td>\n",
       "      <td>12168479</td>\n",
       "      <td>0xb88d592cf1a1d399e2621b8ca7aef638d9d7b3dad39b...</td>\n",
       "      <td>NaN</td>\n",
       "      <td>NaN</td>\n",
       "      <td>NaN</td>\n",
       "      <td>232500000000</td>\n",
       "      <td>w</td>\n",
       "      <td>227319444.0</td>\n",
       "      <td>0x84bb14595fd30a53cbe18e68085d42645901d8b6</td>\n",
       "    </tr>\n",
       "    <tr>\n",
       "      <th>1</th>\n",
       "      <td>1</td>\n",
       "      <td>0x3331a615c119a9958b4429e0789674d5219aa16f23d5...</td>\n",
       "      <td>1678</td>\n",
       "      <td>168</td>\n",
       "      <td>0xbe4d1e137a24af091be80ae58d652279665e3a27</td>\n",
       "      <td>0x746aebc06d2ae31b71ac51429a19d54e797878e9</td>\n",
       "      <td>0</td>\n",
       "      <td>434790</td>\n",
       "      <td>196500000000</td>\n",
       "      <td>12080586</td>\n",
       "      <td>...</td>\n",
       "      <td>2021-03-31 23:25:33 UTC</td>\n",
       "      <td>12150112</td>\n",
       "      <td>0xb97682f9cb2da20ec91feb61eb44fee72a16d7924e19...</td>\n",
       "      <td>NaN</td>\n",
       "      <td>NaN</td>\n",
       "      <td>NaN</td>\n",
       "      <td>196500000000</td>\n",
       "      <td>w</td>\n",
       "      <td>46294475.0</td>\n",
       "      <td>0x1dc09454a6128182d65cd2e8478d9b445c3267d5</td>\n",
       "    </tr>\n",
       "    <tr>\n",
       "      <th>3</th>\n",
       "      <td>3</td>\n",
       "      <td>0x5097c46458696ec07fecf989c60cfb26ec37eabc3734...</td>\n",
       "      <td>6310</td>\n",
       "      <td>83</td>\n",
       "      <td>0xbe4d1e137a24af091be80ae58d652279665e3a27</td>\n",
       "      <td>0x746aebc06d2ae31b71ac51429a19d54e797878e9</td>\n",
       "      <td>0</td>\n",
       "      <td>400000</td>\n",
       "      <td>17500000000</td>\n",
       "      <td>4131879</td>\n",
       "      <td>...</td>\n",
       "      <td>2021-07-11 08:40:51 UTC</td>\n",
       "      <td>12804973</td>\n",
       "      <td>0x70008e988a388c9b1b691540c35800584eb5b0bcb7c9...</td>\n",
       "      <td>NaN</td>\n",
       "      <td>NaN</td>\n",
       "      <td>NaN</td>\n",
       "      <td>17500000000</td>\n",
       "      <td>w</td>\n",
       "      <td>173174856.0</td>\n",
       "      <td>0xd2800879f604cd13d7d9e8738c080408d7105c60</td>\n",
       "    </tr>\n",
       "    <tr>\n",
       "      <th>4</th>\n",
       "      <td>4</td>\n",
       "      <td>0x78b487413b9996ff504bf24b7ee4109f4e74acd3f66d...</td>\n",
       "      <td>7023</td>\n",
       "      <td>137</td>\n",
       "      <td>0xbe4d1e137a24af091be80ae58d652279665e3a27</td>\n",
       "      <td>0x746aebc06d2ae31b71ac51429a19d54e797878e9</td>\n",
       "      <td>0</td>\n",
       "      <td>400000</td>\n",
       "      <td>51000000730</td>\n",
       "      <td>9509885</td>\n",
       "      <td>...</td>\n",
       "      <td>2021-08-03 15:34:58 UTC</td>\n",
       "      <td>12953119</td>\n",
       "      <td>0x59aba14dac8f1f4f09e14a7a70b4e4e8e9686a487194...</td>\n",
       "      <td>NaN</td>\n",
       "      <td>NaN</td>\n",
       "      <td>NaN</td>\n",
       "      <td>51000000730</td>\n",
       "      <td>w</td>\n",
       "      <td>219334984.0</td>\n",
       "      <td>0x4bd4e5818d30b47bc771e5fd271bd9c15570be30</td>\n",
       "    </tr>\n",
       "    <tr>\n",
       "      <th>5</th>\n",
       "      <td>5</td>\n",
       "      <td>0x30d9b4b39ab002d6f655d2a4fc2c158c2bf599eae7b4...</td>\n",
       "      <td>1381</td>\n",
       "      <td>240</td>\n",
       "      <td>0x49136693081f2c18e2cf14428dd78cd90a22dc1f</td>\n",
       "      <td>0x746aebc06d2ae31b71ac51429a19d54e797878e9</td>\n",
       "      <td>0</td>\n",
       "      <td>400000</td>\n",
       "      <td>23000000000</td>\n",
       "      <td>8390223</td>\n",
       "      <td>...</td>\n",
       "      <td>2021-07-13 09:03:45 UTC</td>\n",
       "      <td>12817885</td>\n",
       "      <td>0xf6a8a55c2ab263028901493a875aa6c6ae542c94b327...</td>\n",
       "      <td>NaN</td>\n",
       "      <td>NaN</td>\n",
       "      <td>NaN</td>\n",
       "      <td>23000000000</td>\n",
       "      <td>w</td>\n",
       "      <td>191255216.0</td>\n",
       "      <td>0xd05564eef07a73c31f9e8ee840abda76e2a99a66</td>\n",
       "    </tr>\n",
       "  </tbody>\n",
       "</table>\n",
       "<p>5 rows × 24 columns</p>\n",
       "</div>"
      ],
      "text/plain": [
       "   Unnamed: 0                                               hash  nonce  \\\n",
       "0           0  0x3a22fe99fd6c27b507760cb20a1d3ffae9ccd320dca8...   1122   \n",
       "1           1  0x3331a615c119a9958b4429e0789674d5219aa16f23d5...   1678   \n",
       "3           3  0x5097c46458696ec07fecf989c60cfb26ec37eabc3734...   6310   \n",
       "4           4  0x78b487413b9996ff504bf24b7ee4109f4e74acd3f66d...   7023   \n",
       "5           5  0x30d9b4b39ab002d6f655d2a4fc2c158c2bf599eae7b4...   1381   \n",
       "\n",
       "   transaction_index                                from_address  \\\n",
       "0                142  0x80e179c4a2f057be91573b32bece53888fb48311   \n",
       "1                168  0xbe4d1e137a24af091be80ae58d652279665e3a27   \n",
       "3                 83  0xbe4d1e137a24af091be80ae58d652279665e3a27   \n",
       "4                137  0xbe4d1e137a24af091be80ae58d652279665e3a27   \n",
       "5                240  0x49136693081f2c18e2cf14428dd78cd90a22dc1f   \n",
       "\n",
       "                                   to_address  value     gas     gas_price  \\\n",
       "0  0x746aebc06d2ae31b71ac51429a19d54e797878e9      0  434790  232500000000   \n",
       "1  0x746aebc06d2ae31b71ac51429a19d54e797878e9      0  434790  196500000000   \n",
       "3  0x746aebc06d2ae31b71ac51429a19d54e797878e9      0  400000   17500000000   \n",
       "4  0x746aebc06d2ae31b71ac51429a19d54e797878e9      0  400000   51000000730   \n",
       "5  0x746aebc06d2ae31b71ac51429a19d54e797878e9      0  400000   23000000000   \n",
       "\n",
       "   receipt_cumulative_gas_used  ...          block_timestamp  block_number  \\\n",
       "0                      8009441  ...  2021-04-03 19:23:24 UTC      12168479   \n",
       "1                     12080586  ...  2021-03-31 23:25:33 UTC      12150112   \n",
       "3                      4131879  ...  2021-07-11 08:40:51 UTC      12804973   \n",
       "4                      9509885  ...  2021-08-03 15:34:58 UTC      12953119   \n",
       "5                      8390223  ...  2021-07-13 09:03:45 UTC      12817885   \n",
       "\n",
       "                                          block_hash  max_fee_per_gas  \\\n",
       "0  0xb88d592cf1a1d399e2621b8ca7aef638d9d7b3dad39b...              NaN   \n",
       "1  0xb97682f9cb2da20ec91feb61eb44fee72a16d7924e19...              NaN   \n",
       "3  0x70008e988a388c9b1b691540c35800584eb5b0bcb7c9...              NaN   \n",
       "4  0x59aba14dac8f1f4f09e14a7a70b4e4e8e9686a487194...              NaN   \n",
       "5  0xf6a8a55c2ab263028901493a875aa6c6ae542c94b327...              NaN   \n",
       "\n",
       "  max_priority_fee_per_gas  transaction_type receipt_effective_gas_price  \\\n",
       "0                      NaN               NaN                232500000000   \n",
       "1                      NaN               NaN                196500000000   \n",
       "3                      NaN               NaN                 17500000000   \n",
       "4                      NaN               NaN                 51000000730   \n",
       "5                      NaN               NaN                 23000000000   \n",
       "\n",
       "   function_call  anonimity_points                           recipient_address  \n",
       "0              w       227319444.0  0x84bb14595fd30a53cbe18e68085d42645901d8b6  \n",
       "1              w        46294475.0  0x1dc09454a6128182d65cd2e8478d9b445c3267d5  \n",
       "3              w       173174856.0  0xd2800879f604cd13d7d9e8738c080408d7105c60  \n",
       "4              w       219334984.0  0x4bd4e5818d30b47bc771e5fd271bd9c15570be30  \n",
       "5              w       191255216.0  0xd05564eef07a73c31f9e8ee840abda76e2a99a66  \n",
       "\n",
       "[5 rows x 24 columns]"
      ]
     },
     "execution_count": 10,
     "metadata": {},
     "output_type": "execute_result"
    }
   ],
   "source": [
    "w_miner_txs = miner_txs[miner_txs[\"function_call\"] == \"w\"]\n",
    "w_miner_txs.head()"
   ]
  },
  {
   "cell_type": "code",
   "execution_count": 4,
   "metadata": {},
   "outputs": [],
   "source": [
    "recipient_addresses = set(w_miner_txs[\"recipient_address\"])"
   ]
  },
  {
   "cell_type": "code",
   "execution_count": 17,
   "metadata": {},
   "outputs": [],
   "source": [
    "mining_pool_rates ={\n",
    "    \"0.1 ETH\": 4, \n",
    "    \"1 ETH\": 20, \n",
    "    \"10 ETH\": 50, \n",
    "    \"100 ETH\": 400, \n",
    "    \"100 DAI\": 2, \n",
    "    \"1000 DAI\": 10, \n",
    "    \"10000 DAI\": 40, \n",
    "    \"100000 DAI\": 250, \n",
    "    \"5000 cDAI\": 2, \n",
    "    \"50000 cDAI\": 10,\n",
    "    \"500000 cDAI\": 40, \n",
    "    \"5000000 cDAI\": 250,\n",
    "    \"0.1 WBTC\": 15, \n",
    "    \"1 WBTC\": 120, \n",
    "    \"10 WBTC\": 1000\n",
    "}\n",
    "mining_pools = list(mining_pool_rates.keys())"
   ]
  },
  {
   "cell_type": "code",
   "execution_count": 19,
   "metadata": {},
   "outputs": [],
   "source": [
    "# Drop all the txs that are not from the mining pools\n",
    "deposit_txs = deposit_txs[deposit_txs[\"tcash_pool\"].isin(mining_pools)]\n",
    "withdraw_txs = withdraw_txs[withdraw_txs[\"tcash_pool\"].isin(mining_pools)]\n",
    "\n",
    "unique_deposit_addresses = set(deposit_txs[\"from_address\"])\n",
    "unique_withdraw_addresses = set(withdraw_txs[\"recipient_address\"])"
   ]
  },
  {
   "cell_type": "code",
   "execution_count": 20,
   "metadata": {},
   "outputs": [],
   "source": [
    "def address_to_txs_and_blocks(txs_df, tx_type) -> dict:\n",
    "    \n",
    "    assert tx_type in [\"deposit\", \"withdraw\"], \"Transaction type error\"\n",
    "    \n",
    "    address_field = \"from_address\" if tx_type == \"deposit\" else \"recipient_address\"\n",
    "    \n",
    "    addr_to_txs_and_blocks_dict: dict = {}\n",
    "        \n",
    "    for _, row in tqdm(txs_df.iterrows(), mininterval=1, total=len(txs_df)):\n",
    "        if row[address_field] not in addr_to_txs_and_blocks_dict.keys():\n",
    "            addr_to_txs_and_blocks_dict[row[address_field]] = {row.tcash_pool: [(row.hash, row.block_number)]}\n",
    "            \n",
    "        elif row.tcash_pool not in addr_to_txs_and_blocks_dict[row[address_field]].keys():\n",
    "            addr_to_txs_and_blocks_dict[row[address_field]].update({row.tcash_pool: [(row.hash, row.block_number)]})\n",
    "        \n",
    "        else:\n",
    "            addr_to_txs_and_blocks_dict[row[address_field]][row.tcash_pool].append((row.hash, row.block_number))\n",
    "    \n",
    "    return addr_to_txs_and_blocks_dict"
   ]
  },
  {
   "cell_type": "code",
   "execution_count": 21,
   "metadata": {},
   "outputs": [
    {
     "name": "stderr",
     "output_type": "stream",
     "text": [
      "100%|██████████| 96137/96137 [00:15<00:00, 6200.13it/s]\n",
      "100%|██████████| 82677/82677 [00:12<00:00, 6484.76it/s]\n"
     ]
    }
   ],
   "source": [
    "addr2deposits = address_to_txs_and_blocks(deposit_txs, \"deposit\")\n",
    "addr2withdraws = address_to_txs_and_blocks(withdraw_txs, \"withdraw\")"
   ]
  },
  {
   "cell_type": "code",
   "execution_count": 28,
   "metadata": {},
   "outputs": [
    {
     "name": "stdout",
     "output_type": "stream",
     "text": [
      "{'1 ETH': [('0x830dbd534d13cd43cb078b7cad8a9c5137bb19aa8bf38e0c3b0e222b688d8340', 10881994), ('0x62e7d3f69865ff15edeb5b2c54a1d67e5799fc0cdc8fc093d26b34c3a576057d', 10884815)]}\n",
      "{'1 ETH': [('0x55afdd4d98a4b4a5511bccab9ad2c63c3dd5b67ecf9e025a8b6c3781a77ca7ef', 10493877)], '0.1 ETH': [('0xca014803014463818bdd20ff4e007936428da2f8a0bf8d7c5936048320d76eea', 9406945)], '10 ETH': [('0x7b045ad913211e6a0af353fd21aaef53465c809d476562fc4265356e4d5e32d8', 12060963), ('0xce433f52ce30e2d471ae3121498a182f21d504017f9e59202f8a9b848f26addd', 12061002)]}\n"
     ]
    }
   ],
   "source": [
    "print(addr2deposits[\"0x43eefeb3db479e7b22e015572f38b6af633a43ff\"])\n",
    "print(addr2withdraws[\"0xedf784409d24dfeb1d88686f27c20d7274a1c0d2\"])"
   ]
  },
  {
   "cell_type": "code",
   "execution_count": 25,
   "metadata": {},
   "outputs": [],
   "source": [
    "'''\n",
    "To classify the addresses by their inclusion in the unique_deposit_addresses and \n",
    "the unique_withdraw_addresses sets.\n",
    "'''\n",
    "\n",
    "def is_D_type(address):\n",
    "    return (address in unique_deposit_addresses) and (address not in unique_withdraw_addresses)\n",
    "\n",
    "def is_W_type(address):\n",
    "    return (address not in unique_deposit_addresses) and (address in unique_withdraw_addresses)\n",
    "\n",
    "def is_DW_type(address):\n",
    "    return (address in unique_deposit_addresses) and (address in unique_withdraw_addresses)"
   ]
  },
  {
   "cell_type": "code",
   "execution_count": 26,
   "metadata": {},
   "outputs": [],
   "source": [
    "def ap2blocks(anonimity_points: int, pool: str) -> float:\n",
    "    rate = mining_pool_rates[pool]\n",
    "    \n",
    "    return anonimity_points/rate"
   ]
  },
  {
   "cell_type": "code",
   "execution_count": 27,
   "metadata": {},
   "outputs": [],
   "source": [
    "def _D_type_anonimity_heuristic(miner_tx) -> dict:\n",
    "    \n",
    "    d_addr = miner_tx.recipient_address\n",
    "    \n",
    "    d_addr2w: dict = {d_addr: {}}\n",
    "    \n",
    "    for d_pool in addr2deposits[d_addr]:\n",
    "        for (d_hash, d_blocks) in addr2deposits[d_addr][d_pool]:\n",
    "            delta_blocks = ap2blocks(miner_tx.anonimity_points, d_pool)\n",
    "            \n",
    "            for w_addr in addr2withdraws.keys():\n",
    "                if d_pool in addr2withdraws[w_addr].keys():\n",
    "                    \n",
    "                    for (w_hash, w_blocks) in addr2withdraws[w_addr][d_pool]:\n",
    "                        if d_blocks + delta_blocks == w_blocks:\n",
    "                            if d_hash not in d_addr2w[d_addr].keys():\n",
    "                                d_addr2w[d_addr][d_hash] = [(w_hash, w_addr, delta_blocks)]\n",
    "                            else:\n",
    "                                d_addr2w[d_addr][d_hash].append((w_hash, w_addr, delta_blocks))\n",
    "    \n",
    "    return d_addr2w         "
   ]
  },
  {
   "cell_type": "code",
   "execution_count": 29,
   "metadata": {},
   "outputs": [],
   "source": [
    "def _W_type_anonimity_heuristic(miner_tx) -> dict:\n",
    "    \n",
    "    w_addr = miner_tx.recipient_address\n",
    "    \n",
    "    w_addr2d: dict = {w_addr: {}}\n",
    "    \n",
    "    for w_pool in addr2withdraws[w_addr]:\n",
    "        for (w_hash, w_blocks) in addr2withdraws[w_addr][w_pool]:\n",
    "            delta_blocks = ap2blocks(miner_tx.anonimity_points, w_pool)\n",
    "            \n",
    "            for d_addr in addr2deposits.keys():\n",
    "                if w_pool in addr2deposits[d_addr].keys():\n",
    "                    \n",
    "                    for (d_hash, d_blocks) in addr2deposits[d_addr][w_pool]:\n",
    "                        if d_blocks + delta_blocks == w_blocks:\n",
    "                            if w_hash not in w_addr2d[w_addr].keys():\n",
    "                                w_addr2d[w_addr][w_hash] = [(d_hash, d_addr, delta_blocks)]\n",
    "                            else:\n",
    "                                w_addr2d[w_addr][w_hash].append((d_hash, d_addr, delta_blocks))\n",
    "    \n",
    "    return w_addr2d  "
   ]
  },
  {
   "cell_type": "code",
   "execution_count": 30,
   "metadata": {},
   "outputs": [],
   "source": [
    "def anonimity_mining_heuristic(miner_tx) -> dict:\n",
    "    linked_txs: dict = {}\n",
    "    \n",
    "    if is_D_type(miner_tx.recipient_address):\n",
    "        d_dict = _D_type_anonimity_heuristic(miner_tx)\n",
    "        if len(d_dict[miner_tx.recipient_address]) != 0:\n",
    "            linked_txs[\"D\"] = d_dict\n",
    "        return linked_txs\n",
    "        \n",
    "    elif is_W_type(miner_tx.recipient_address):\n",
    "        w_dict = _W_type_anonimity_heuristic(miner_tx)\n",
    "        if len(w_dict[miner_tx.recipient_address]) != 0:\n",
    "            linked_txs[\"W\"] = w_dict\n",
    "        return linked_txs\n",
    "        \n",
    "    elif is_DW_type(miner_tx.recipient_address):\n",
    "        d_dict = _D_type_anonimity_heuristic(miner_tx)\n",
    "        if len(d_dict[miner_tx.recipient_address]) != 0:\n",
    "            linked_txs[\"D\"] = d_dict\n",
    "            \n",
    "        w_dict = _W_type_anonimity_heuristic(miner_tx)\n",
    "        if len(w_dict[miner_tx.recipient_address]) != 0:\n",
    "            linked_txs[\"W\"] = w_dict\n",
    "        \n",
    "\n",
    "        return linked_txs\n",
    "    \n",
    "    return linked_txs"
   ]
  },
  {
   "cell_type": "code",
   "execution_count": 31,
   "metadata": {},
   "outputs": [],
   "source": [
    "def apply_anonimity_mining_heuristic(miner_txs) -> dict:\n",
    "    \n",
    "    total_linked_txs = {\"D\": {}, \"W\": {}}\n",
    "    \n",
    "    for miner_tx in tqdm(miner_txs.itertuples(), mininterval=3, total=len(miner_txs)):\n",
    "        linked_txs = anonimity_mining_heuristic(miner_tx)\n",
    "        if len(linked_txs) != 0:\n",
    "            if \"D\" in linked_txs.keys():\n",
    "                if len(linked_txs[\"D\"]) != 0:\n",
    "                    total_linked_txs[\"D\"].update(linked_txs[\"D\"])\n",
    "            if \"W\" in linked_txs.keys():\n",
    "                if len(linked_txs[\"W\"]) != 0:\n",
    "                    total_linked_txs[\"W\"].update(linked_txs[\"W\"])\n",
    "    \n",
    "    return total_linked_txs"
   ]
  },
  {
   "cell_type": "code",
   "execution_count": 32,
   "metadata": {},
   "outputs": [],
   "source": [
    "# For caching these results,\n",
    "# with open(\"../data/heuristic_5_linked_txs.json\", \"w\") as outfile:\n",
    "#    json.dump(total_linked_txs, outfile, indent=4)\n"
   ]
  },
  {
   "cell_type": "code",
   "execution_count": 33,
   "metadata": {
    "scrolled": true
   },
   "outputs": [],
   "source": [
    "def load_raw_linked_transactions(filepath):\n",
    "    if exists(filepath):\n",
    "        with open(filepath) as json_file:\n",
    "            total_linked_txs = json.load(json_file)\n",
    "        return total_linked_txs\n",
    "    else:\n",
    "        total_linked_txs = apply_anonimity_mining_heuristic(miner_txs)\n",
    "        return total_linked_txs"
   ]
  },
  {
   "cell_type": "code",
   "execution_count": 34,
   "metadata": {},
   "outputs": [],
   "source": [
    "total_linked_txs = load_raw_linked_transactions(\"../data/heuristic_5_linked_txs.json\")"
   ]
  },
  {
   "cell_type": "code",
   "execution_count": 35,
   "metadata": {},
   "outputs": [],
   "source": [
    "'''\n",
    "The final version of the results is obtained applying this function\n",
    "to the output of the 'apply_anonimity_mining_heuristic' function.\n",
    "\n",
    "wb2d -> withdraws and blocks to deposits\n",
    "'''\n",
    "\n",
    "def _wb2d(total_linked_txs) -> dict:\n",
    "    \n",
    "    w2d: dict = {}\n",
    "        \n",
    "    for elem in total_linked_txs[\"W\"].items():\n",
    "        for addr in total_linked_txs[\"W\"].keys():\n",
    "            for hsh in total_linked_txs[\"W\"][addr]:\n",
    "                delta_blocks = total_linked_txs[\"W\"][addr][hsh][0][2]\n",
    "                w2d[(hsh, addr, delta_blocks)] = [(t[0],t[1]) for t in total_linked_txs[\"W\"][addr][hsh]]\n",
    "    \n",
    "    for elem in total_linked_txs[\"D\"].items():\n",
    "        for addr in total_linked_txs[\"D\"].keys():\n",
    "            \n",
    "            for hsh in total_linked_txs[\"D\"][addr]:\n",
    "                \n",
    "                for tx_tuple in total_linked_txs[\"D\"][addr][hsh]:\n",
    "                    if tx_tuple[0] not in w2d.keys():\n",
    "                        w2d[tuple(tx_tuple)] = [(hsh, addr)]\n",
    "                    else:\n",
    "                        if (hsh, addr) not in w2d[tx_tuple]:\n",
    "                            w2d[tuple(tx_tuple)].append((hsh, addr))\n",
    "    \n",
    "    return w2d"
   ]
  },
  {
   "cell_type": "code",
   "execution_count": 36,
   "metadata": {},
   "outputs": [],
   "source": [
    "w2d = _wb2d(total_linked_txs)"
   ]
  },
  {
   "cell_type": "markdown",
   "metadata": {},
   "source": [
    "### Results exploration"
   ]
  },
  {
   "cell_type": "code",
   "execution_count": 37,
   "metadata": {},
   "outputs": [],
   "source": [
    "D_linked_addresses = total_linked_txs[\"D\"].keys()\n",
    "W_linked_addresses = total_linked_txs[\"W\"].keys()"
   ]
  },
  {
   "cell_type": "code",
   "execution_count": 38,
   "metadata": {},
   "outputs": [],
   "source": [
    "def get_number_of_linked_txs(total_linked_txs, link_type) -> dict:\n",
    "    \n",
    "    assert link_type in [\"D\", \"W\"], \"Invalid link type\"\n",
    "    \n",
    "    linked_addresses = list(total_linked_txs[link_type].keys())\n",
    "    \n",
    "    addr2txcount: dict = {}\n",
    "    \n",
    "    for addr in linked_addresses:\n",
    "        addr2txcount[addr] = len(total_linked_txs[link_type][addr])\n",
    "    \n",
    "    return addr2txcount"
   ]
  },
  {
   "cell_type": "code",
   "execution_count": 39,
   "metadata": {},
   "outputs": [],
   "source": [
    "def get_number_of_linked_addrs(total_linked_txs, link_type) -> dict:\n",
    "    \n",
    "    assert link_type in [\"D\", \"W\"], \"Invalid link type\"\n",
    "\n",
    "    linked_addresses = list(total_linked_txs[link_type].keys())\n",
    "\n",
    "    addr2addrcount: dict = {}\n",
    "        \n",
    "    for addr in linked_addresses:\n",
    "        tx_tuples = list(chain(*total_linked_txs[link_type][addr].values()))\n",
    "        \n",
    "        addr_count = len(set([t[1] for t in tx_tuples]))\n",
    "        \n",
    "        addr2addrcount[addr] = addr_count\n",
    "    \n",
    "    return addr2addrcount"
   ]
  },
  {
   "cell_type": "code",
   "execution_count": 40,
   "metadata": {},
   "outputs": [],
   "source": [
    "D_linked_counts = get_number_of_linked_txs(total_linked_txs, \"D\")\n",
    "W_linked_counts = get_number_of_linked_txs(total_linked_txs, \"W\")"
   ]
  },
  {
   "cell_type": "code",
   "execution_count": 41,
   "metadata": {},
   "outputs": [
    {
     "data": {
      "image/png": "[encoded data removed]",
      "text/plain": [
       "<Figure size 1440x360 with 2 Axes>"
      ]
     },
     "metadata": {},
     "output_type": "display_data"
    }
   ],
   "source": [
    "sns.set_theme(style=\"darkgrid\")\n",
    "\n",
    "fig, (ax1, ax2) = plt.subplots(ncols=2, figsize=(20, 5))\n",
    "ax1.hist(D_linked_counts.values(), alpha=0.9, bins=40, align=\"mid\")\n",
    "ax1.set_xlim((0.5, 7))\n",
    "ax1.set_xlabel(\"Number of deposits of D addresses\")\n",
    "ax1.set_ylabel(\"Counts\")\n",
    "\n",
    "ax2.hist(W_linked_counts.values(), alpha=0.9, bins=40, align=\"mid\")\n",
    "ax2.set_xlim((0.5, 7))\n",
    "ax2.set_xlabel(\"Number of withdrawals of W addresses\")\n",
    "ax2.set_ylabel(\"Counts\")\n",
    "\n",
    "plt.show()"
   ]
  },
  {
   "cell_type": "code",
   "execution_count": 42,
   "metadata": {},
   "outputs": [],
   "source": [
    "D_linked_addr_counts = get_number_of_linked_addrs(total_linked_txs, \"D\")\n",
    "W_linked_addr_counts = get_number_of_linked_addrs(total_linked_txs, \"W\")"
   ]
  },
  {
   "cell_type": "code",
   "execution_count": 43,
   "metadata": {},
   "outputs": [
    {
     "data": {
      "image/png": "[encoded data removed]",
      "text/plain": [
       "<Figure size 1440x360 with 2 Axes>"
      ]
     },
     "metadata": {},
     "output_type": "display_data"
    }
   ],
   "source": [
    "sns.set_theme(style=\"darkgrid\")\n",
    "\n",
    "fig, (ax1, ax2) = plt.subplots(ncols=2, figsize=(20, 5))\n",
    "ax1.hist(list(D_linked_addr_counts.values()), bins=30, alpha=0.9)\n",
    "ax1.set_xlabel(\"Number of linked addresses for D addresses\")\n",
    "ax1.set_ylabel(\"Counts\")\n",
    "\n",
    "ax2.hist(list(W_linked_addr_counts.values()), bins=30, alpha=0.9)\n",
    "ax2.set_xlabel(\"Number of linked addresses for D addresses\")\n",
    "ax2.set_ylabel(\"Counts\")\n",
    "\n",
    "plt.show()"
   ]
  },
  {
   "cell_type": "code",
   "execution_count": 44,
   "metadata": {},
   "outputs": [],
   "source": [
    "def get_block_number(total_linked_txs):\n",
    "    \n",
    "    blocks: list = []\n",
    "    \n",
    "    for link_type in [\"D\", \"W\"]:\n",
    "        for addr in total_linked_txs[link_type]:\n",
    "            for tx in total_linked_txs[link_type][addr]:\n",
    "                for tx_tuple in total_linked_txs[link_type][addr][tx]:\n",
    "                    blocks.append(tx_tuple[2])\n",
    "    \n",
    "    return blocks"
   ]
  },
  {
   "cell_type": "code",
   "execution_count": 45,
   "metadata": {},
   "outputs": [],
   "source": [
    "blocks = get_block_number(total_linked_txs)"
   ]
  },
  {
   "cell_type": "code",
   "execution_count": 46,
   "metadata": {},
   "outputs": [
    {
     "data": {
      "image/png": "[encoded data removed]",
      "text/plain": [
       "<Figure size 720x360 with 1 Axes>"
      ]
     },
     "metadata": {},
     "output_type": "display_data"
    }
   ],
   "source": [
    "fig, ax = plt.subplots(figsize=(10, 5))\n",
    "ax.hist(blocks, bins=30)\n",
    "ax.ticklabel_format(style=\"plain\")\n",
    "ax.set_xlabel(\"Number of blocks the note was deposited\")\n",
    "ax.set_ylabel(\"Count\")\n",
    "plt.show()"
   ]
  },
  {
   "cell_type": "markdown",
   "metadata": {},
   "source": [
    "In the previous version of this Heuristic, we assumed that the users necessarily withdraw their anonymity points (AP) from addresses that either was used to deposit to TCash or it was used as an address to withdraw from TCash. From now on, we lift this assumption and think of the AP point miner transaction as a fresh address. More precisely, it did not make any deposit or withdraw transactions to any of the TC pools."
   ]
  },
  {
   "cell_type": "code",
   "execution_count": 47,
   "metadata": {},
   "outputs": [],
   "source": [
    "def not_D_not_W_type(address):\n",
    "    return (not (address in unique_deposit_addresses)) and (not (address in unique_withdraw_addresses))"
   ]
  },
  {
   "cell_type": "code",
   "execution_count": 100,
   "metadata": {},
   "outputs": [
    {
     "name": "stdout",
     "output_type": "stream",
     "text": [
      "1758 addresses have been mining anonymity points.\n",
      "303 anonymity miners used fresh addresses to withdraw their rewards!\n"
     ]
    }
   ],
   "source": [
    "print(len(recipient_addresses),\"addresses have been mining anonymity points.\")\n",
    "cnt = 0\n",
    "freshAddressMiners = []\n",
    "for k in recipient_addresses:\n",
    "    if not_D_not_W_type(k):\n",
    "        cnt+=1\n",
    "        freshAddressMiners.append(k)\n",
    "print(cnt,\"anonymity miners used fresh addresses to withdraw their rewards!\")"
   ]
  },
  {
   "cell_type": "code",
   "execution_count": 84,
   "metadata": {},
   "outputs": [],
   "source": [
    "deposit_txs = deposit_txs.sort_values(by=[\"block_number\"])\n",
    "withdraw_txs = withdraw_txs.sort_values(by=[\"block_number\"])"
   ]
  },
  {
   "cell_type": "code",
   "execution_count": 135,
   "metadata": {},
   "outputs": [
    {
     "name": "stderr",
     "output_type": "stream",
     "text": [
      "27it [00:00, 263.84it/s]"
     ]
    },
    {
     "name": "stdout",
     "output_type": "stream",
     "text": [
      "0 0x3a22fe99fd6c27b507760cb20a1d3ffae9ccd320dca8568d81bc47d9b7212a8c\n",
      "0 0x3331a615c119a9958b4429e0789674d5219aa16f23d5e8f3f4494a713cf19385\n",
      "0 0x5097c46458696ec07fecf989c60cfb26ec37eabc37348730ffdad97fbef180f4\n"
     ]
    },
    {
     "name": "stderr",
     "output_type": "stream",
     "text": [
      "96137it [05:06, 313.19it/s]\n",
      "32it [00:00, 317.90it/s]"
     ]
    },
    {
     "name": "stdout",
     "output_type": "stream",
     "text": [
      "0x5097c46458696ec07fecf989c60cfb26ec37eabc37348730ffdad97fbef180f4 0\n",
      "1 0x78b487413b9996ff504bf24b7ee4109f4e74acd3f66d7058e4d8baba3b7d57ab\n",
      "1 0x30d9b4b39ab002d6f655d2a4fc2c158c2bf599eae7b4d59b895ecd0bef9b9d91\n"
     ]
    },
    {
     "name": "stderr",
     "output_type": "stream",
     "text": [
      "96137it [05:29, 292.12it/s]\n",
      "42058it [00:00, 212155.76it/s]"
     ]
    },
    {
     "name": "stdout",
     "output_type": "stream",
     "text": [
      "0x30d9b4b39ab002d6f655d2a4fc2c158c2bf599eae7b4d59b895ecd0bef9b9d91 0\n",
      "2 0xae7343da2323137ceaef2be580f9f31e9eda0e6066988acbb8d1e8bde487f003\n"
     ]
    },
    {
     "name": "stderr",
     "output_type": "stream",
     "text": [
      "96137it [00:00, 208073.55it/s]\n",
      "20956it [00:00, 209549.21it/s]"
     ]
    },
    {
     "name": "stdout",
     "output_type": "stream",
     "text": [
      "0xae7343da2323137ceaef2be580f9f31e9eda0e6066988acbb8d1e8bde487f003 0\n",
      "3 0xda59d6e7bf134d90fa8c4ee1e5da1ed6b737b0674c975e0dda660c6044bd5f3e\n",
      "3 0xb09f2ef3b9224372c6284fa29b8e1e4a091496215b6f439352948c3c50ace3b0\n",
      "3 0x6fca793cec0ca4eaeeb9d0585cbdcfc3ac0b75e98ffdb54bc040399eb42f4ced\n",
      "3 0xd5c83db4e3bf91dd8c920f9899ebbda67cd62e5b8bf0e879ef04f7658ee13bac\n",
      "3 0x582530cfbc2e991c07962e455a175c7469f81ef1ef2d974b6667cd11995dc435\n"
     ]
    },
    {
     "name": "stderr",
     "output_type": "stream",
     "text": [
      "96137it [00:00, 215027.65it/s]\n",
      "8it [00:00, 76.10it/s]"
     ]
    },
    {
     "name": "stdout",
     "output_type": "stream",
     "text": [
      "0x582530cfbc2e991c07962e455a175c7469f81ef1ef2d974b6667cd11995dc435 0\n",
      "4 0xa8533bb7403e1a3aaaf22eed41454b31bf0c6d5be4265cc7000097bc4d9bb4c6\n",
      "4 0x4499f66f5eaac327a6e17cc97634a6af7a1f47919f406169d8e8aa209f55f620\n",
      "4 0xbaefb0f7390c676bfac8e5a2d4320a28eeefe546d00fe78aef2e4e25795bfe30\n",
      "4 0xba9b5330c6655bd03171ea6709fe58e82014f92c735d1ffb71b451b506b46404\n",
      "4 0xb941e57dcb964d5597ad06367ff3301648cf13dd1f5b53c601a24943f362a5b7\n",
      "4 0x7a2ccbffc1bbde323ee8a4b85f58dc7f090e700604adede764729b39567aa7e3\n",
      "4 0x77a5b5fdb43ec0a5e8d0c6f10117ac0c94bd2b225ac7598916385c19a1844c49\n"
     ]
    },
    {
     "name": "stderr",
     "output_type": "stream",
     "text": [
      "96137it [18:38, 85.95it/s]\n",
      "66it [00:00, 330.53it/s]"
     ]
    },
    {
     "name": "stdout",
     "output_type": "stream",
     "text": [
      "0x77a5b5fdb43ec0a5e8d0c6f10117ac0c94bd2b225ac7598916385c19a1844c49 721\n",
      "5 0xc3683ffc8e8b94b1d85fd9f647bdf6578cccf14591f2546968be6ea26eab5acc\n",
      "5 0x7a04675d3fdbdc9931e8dcb8e4a6f54f4c94c12f83df8f21b9a855b8a554af35\n",
      "5 0x82cf6b53dee4eae8ff844cf9b546633e1eaf3bb60a31d5f44b2e9384eee95bff\n",
      "5 0x47a738adfc8bd31459f16fdb137538ce7f6428cecd66da2e8841907a9051261b\n",
      "5 0x844aa1255e34684c4d59862d20d87994cc271d972827005b9ccc6c4b376d7a90\n",
      "5 0x5feab386bf2314e330b0431df5edfe6e8a74880587d15e7fffa2e4d520dbd313\n"
     ]
    },
    {
     "name": "stderr",
     "output_type": "stream",
     "text": [
      "96137it [04:29, 356.10it/s]\n",
      "5it [00:00, 49.30it/s]"
     ]
    },
    {
     "name": "stdout",
     "output_type": "stream",
     "text": [
      "0x5feab386bf2314e330b0431df5edfe6e8a74880587d15e7fffa2e4d520dbd313 347\n",
      "6 0xcd65c9afeb130d90728f4ca159c0f57a846c1798519d204958e99fa661037fe2\n",
      "6 0x16e200cb174763bff3179975d4be8de61250a3b5dfd21c67c553aca3d859e541\n",
      "6 0x9f7acb2782f45f0fe9805eafd9eaa4e10a3fa52a854eab26a0c4032aa29ac55d\n",
      "6 0xf22305a55f16670af9aba7e25f6665752bbca57bbe0c884e7bac8abd60f8c915\n",
      "6 0x0e05c26a8930869b9417d992b7e07974e84016e7eb05cb966a4dc94b5f68a863\n",
      "6 0xdaa8a50003a7cc7f4605ef0bff71616f5baf3ad8d8e39a8ebd261d5a07d35d25\n",
      "6 0x6013462532d85fc42bc2bf5539404ba5a7ca40248597b389b86b01048deeed2c\n",
      "6 0xf54b5d1d8125d699efe31320099604a403dcfdc05c959b54f76092badddee510\n",
      "6 0xefd21848d8186b1bd497bab135313b5eae2b44b59414606bdf4375c7eee2dfa1\n",
      "6 0x5b9e8841c40ff40d116b132aad37eda74d38b79f676c4287b1ce771da40f476c\n",
      "6 0xd76b60acd2bf243413244409e279ecf723f12efc16fe20aab9df836227c4df15\n",
      "6 0x6de313838205e22b91665e96603bffa02d1d9a7e177b8286efce4acbda949ce7\n",
      "6 0x88d384f0bc72fc7e0adffcc059b1fbd7de74a4c3c701e11a0128093802f1fd6d\n",
      "6 0x4a5c95dabbac40b41bcad92c7bc8558438b7905872b299df0d922d9a3c8d674b\n",
      "6 0x19f744f781b746ec8c5d362518a489dd689a85aeb8459dd1baaba7b7683ca8f1\n",
      "6 0x4992d9203b9f4585099dc4379d76c10c3d013d1a0a5e2a45a76613b13307d678\n",
      "6 0xffac2ccb76caf85346b9840819bbba099aeb78b3386f2ea72338d124e051c76b\n",
      "6 0xf506ec614dbcdc69ac07eb43897813fe8b9abb095a0fb9fd9b28deef19a52abd\n",
      "6 0xfe9f87faef3c11a4b87b78c0df3a1ae0edfa76de9a78a90b645985321fd2d935\n",
      "6 0x6f3348d565c3964754f36e7b6246a12d9dc38fb94778be7f56fe585b4ad8e169\n",
      "6 0x34e0f94a3e8cf32df632852fcee077ed654c9894d5f6f11749eaf298d8225129\n",
      "6 0x9319f0ad64b3b00952f2f83d10d2ef33943f3da34854c576fe5da1ed4085e4f7\n",
      "6 0x5e77806c3ce21c71251c25ee338c1c53d4cbcf31dd4e1612eab558494bfa7426\n",
      "6 0x0f8c26206b9f00de6ecd827d77c88691dedfd0be6c7d8f9f2057e20b034decf1\n",
      "6 0x05664bd56423bf1d4f1aff76e41cb3cb56bdcebfe0c6d71c0ddc5828cd181023\n",
      "6 0x692e7e7a47ca9a1e01293258dc30c84e566176405626bb2a4ca076c773dfd5ec\n",
      "6 0x7d4821d4a5aff8eee560d2a0f1e512b6c04cdef980fe43cdf72623a5e460502c\n"
     ]
    },
    {
     "name": "stderr",
     "output_type": "stream",
     "text": [
      "96137it [24:33, 65.23it/s]\n",
      "7it [00:00, 68.63it/s]"
     ]
    },
    {
     "name": "stdout",
     "output_type": "stream",
     "text": [
      "0x7d4821d4a5aff8eee560d2a0f1e512b6c04cdef980fe43cdf72623a5e460502c 3118\n",
      "7 0xc25be02e2fe7d62df8d9f6b0bd42a2022f4f00521608aad75cd624bfa516ab23\n",
      "7 0x6783a405d566a10eb704b2be9621202e310b612c9056a995af864c2e873868e6\n",
      "7 0xc468d75a7a9a35de74dbb62106b52a97d29c94229148c116f0c70e1967fa5fda\n",
      "7 0x58a6fbf6b3d35068e35d5e9bba66c292428ec177a949db01206f24539eebcd3c\n",
      "7 0xca9c7211243cdd0e29806d50c94090b32394094b2e736e4a90243680434b0b31\n",
      "7 0x90f4ab8e5f659723c30d8521fd4a70bf511a9d82ccfe205c56fbc4e36423b59d\n"
     ]
    },
    {
     "name": "stderr",
     "output_type": "stream",
     "text": [
      "96137it [19:56, 80.32it/s]\n",
      "21418it [00:00, 214164.38it/s]"
     ]
    },
    {
     "name": "stdout",
     "output_type": "stream",
     "text": [
      "0x90f4ab8e5f659723c30d8521fd4a70bf511a9d82ccfe205c56fbc4e36423b59d 3949\n",
      "8 0xe854b6e8ed2671c8059334a657eda022ef2f0c304b763b8f2b0a25a6e95c03dc\n",
      "8 0xbec0218a9079116c5b4eaa51771d12cbb76de4a9cae3943f7b5a982e3ed2227e\n",
      "8 0x4e6178e142ce67ea7dae6738889f8a5cc51452ca71cb330d409a7e956e4248f4\n",
      "8 0xe61aa127c3c1fdc1ac4ad48c266cdbadfeaf9e1e410775e182598cb2272fee06\n",
      "8 0x984957a4ffa7a1e74bd1eab99f762ba828b0bd4daaaa428fd4183bddf48568a8\n",
      "8 0xbd48a37ed5fa4563a7b80b0252dadd4c2551ef64fceb878b8f9a00b624426a79\n",
      "8 0x343d084e669392af81ef5a0c99269d7aefd9bf9a0d650dfcbde1e92589741d15\n",
      "8 0xacc33bee9b05483b28d76e15ceffed8e2610c67c1fd45aca6443eeef15001bb7\n",
      "8 0xfaa49c66b80b3bca8f4bd3a285250ed1d97825e2062496bae319c2b31ef54bf7\n",
      "8 0xb3b545d64397346f1a62027314a2d2155e95a1663e8e45d05532ae1520d8c2d0\n",
      "8 0x4522389fa60e4739401197ad32c82c1f6ca7f1d1f450b83fa738bdbe4bbabfb3\n",
      "8 0xa45f89f7f5dc4196b2e5ca11baec4167867f043f82a17deb148ac9dd98f0206b\n",
      "8 0x431b31dcf4d38f3e1f54349830e9ea5452585f6cdcb6b5a7ca25c95f50feb2c2\n",
      "8 0x639df3670d9e77db8aa5da249b6a31e9e1ede47c9a8da7902d27fbb3262c43cc\n",
      "8 0xce0db39e7ec31d1a6c2ec62f7739ffb2f6d841d971d0166cd15aa8874271d2fe\n",
      "8 0xcfaee5ddd3174b246ab12815fc0908842373aac606783789dd771bed2d136031\n",
      "8 0x9259ce472b6bd53fd6fcbd2101838d797f09c3f9af47bfd479965445d7a9ab1b\n",
      "8 0xa6478aed4a15c12cf37f53799293afe5280d95b4d2089b9327c27befdce60992\n",
      "8 0x76e3966eae50ace3798e7dbcdd6d206568f555ee474d7c5a2729dcd32ec70574\n",
      "8 0x07a92be6608f03e196d6980a075fce6bff64521e9a31f7514cc38d98b1df6cd4\n",
      "8 0x5ba666853b4de601360b686f0522e861e14b6c22c2e452dee6dcfb51ffd319b4\n",
      "8 0x60e2755275dbd52c3db036f5dbdbb081439db22e3d6ade266e1891c5eb0febf4\n",
      "8 0xb2cd048d1986b1fc76cc2ecebbed1fea3b63ebc86cfdc7c37f7fd9ff08998a40\n",
      "8 0x47bf2de370e3efa38290f688d332108388647438d6b597c34db4377a2cfe9791\n",
      "8 0x3763aeed6dad1889a2678715c0e9f9e2342f088d32abcae30c0c4ee09b30e82b\n",
      "8 0xdf0756774de71a420c390dcfd9b33abeb23f61cd5f7570dae2c6e5d64dc33b5b\n",
      "8 0xa8d66e4b84037c8c6367076e4c8abe6dc29b9ca77375a18e2cefe20684147648\n",
      "8 0x506a335220b74d49cf326ac0e241a3699dc241653736ce42d0618eaf79f96772\n",
      "8 0x53ae02b2646a08a364a934f42f3ff9fc26b25d87a07f2861cca6023b9ba5e9b8\n",
      "8 0xfbd4190497d0c26465ba2fd6844e1cfe4a9c5e6551bf2609a09b6db0102a88b8\n"
     ]
    },
    {
     "name": "stderr",
     "output_type": "stream",
     "text": [
      "96137it [00:00, 207374.03it/s]\n",
      "27it [00:00, 263.75it/s]"
     ]
    },
    {
     "name": "stdout",
     "output_type": "stream",
     "text": [
      "0xfbd4190497d0c26465ba2fd6844e1cfe4a9c5e6551bf2609a09b6db0102a88b8 0\n",
      "9 0xf76bf2edafe5e68554f703ec218102fe4cb164958330d34f50c30e96d9faf518\n",
      "9 0x40a51917b391fef85105c6a04c6b58ce74e2f556ec8c77a1251eb308f8b6979e\n",
      "9 0x5af52b2649556ddff72834d6d11565a0b3952fddd0d0d815325fba9555e2e2f7\n",
      "9 0xd338013246d325d9394ac045ebfdf614161026f29d3b2c6831074cfa0c16102a\n",
      "9 0x8a9fb37f37ef4dbb9e5cec7a570315572649af11d3b99a6fff116f476af18009\n",
      "9 0x3d91f734d78994b176ed225bdc9415669d0d6844b88d8538ec2e513e18160b5e\n",
      "9 0xcfd794c84fa4b16fdc8cd9809938ff244b9cfc897d683e35d212e784ee5fd6ff\n",
      "9 0x1c5b8c3f8dfe05ff573b07c12dc297c903bbbd25bab7c52b9db0015fd2761707\n",
      "9 0xaf2c200629f046c3f7adea899557da538f43ba1c75e084949a5e61f63bec5092\n",
      "9 0x63343c3fe2600203c48a46ba8582c6ecc1a072430478ccf4726c14d8b2c5d455\n",
      "9 0x6a89c22d74a8e8a8546de4d8017c3da8ea1efa3cb44923dc455aa8b872bcf400\n",
      "9 0x7ba8a63ae430052b88f3f1f51e69b982bc11d8b58fcca8407fa34c732c1e7ce5\n",
      "9 0x4a116a894ea48022c04478b6ac8b8352e1b82bd655a498935f1fbb82b362731a\n",
      "9 0x4fddb7a151c6d2963dd36f2042fc49f66aa5b0893dfeb8af618ce00693a6d481\n",
      "9 0xb8a10ada02e821db760196c0adba0c363b2fc571fd64b1ea64daab14064553c2\n",
      "9 0x99b513861a04846fba0f655ce33ac0711d226b954bc9613a3621d35f9b174485\n",
      "9 0x6f224f2f5e05066c19bc1bee65f3ad73e501f1b12d56882d03673b92d6287d87\n",
      "9 0x7cc3df7322ce6ad8f83d93df6dbb01cc01e780f82c9d00c7960613e39f801eb5\n",
      "9 0x2b1ec124c9f49d22accf55312a8c502ba0c7507541063196ba5f18b7998e05ed\n",
      "9 0x571c9ac88da5d5d5556a7a1392789620d58900854b93c6e26da7898064ec24e6\n",
      "9 0x7cd9c66f3c1accc2c4799ce255e66b5af351d4bfd2299b8c449b5d82b37f5cde\n",
      "9 0x48d845a7b9e92d5d054bb39f137666009dd9817d64e0508de60b88ecb9fc9cf8\n",
      "9 0xc784bbbd21ec3e0fa19b5d7f6e20ee0e4a52aa1fe65fc96e27bef3f2a9d09c0b\n"
     ]
    },
    {
     "name": "stderr",
     "output_type": "stream",
     "text": [
      "96137it [05:12, 307.74it/s]\n",
      "30it [00:00, 293.50it/s]"
     ]
    },
    {
     "name": "stdout",
     "output_type": "stream",
     "text": [
      "0xc784bbbd21ec3e0fa19b5d7f6e20ee0e4a52aa1fe65fc96e27bef3f2a9d09c0b 766\n",
      "10 0x198df6a9cab02fc0df2916f802d4a072727edc186cd2cef614a25f67a7f7358e\n",
      "10 0x1de01ab3a0f948dede1bf7d6f7958da7aa46303e7b31e50f92153d3333ac8fe1\n",
      "10 0x2a39432c8e38cb04ae591a4ec2359f27db9fa0c923a29c45b5ead288eebf4eb6\n",
      "10 0x596785d130a93a64d791f5b511856c78df9e99a9d96a08ed5df1ffaec332b445\n",
      "10 0x2685875aef9be855a127f3711d3be0f53f7b54bec789ff788e72b30654700e7f\n",
      "10 0x7b9c93a3a1958677b3ee8fbaf247fa75e8bf704e954ebff62188908d71b5129a\n",
      "10 0xc44a93227d6cb5f47857f14f008262a618645a1a941098e6ef23c5b5bf8979d4\n"
     ]
    },
    {
     "name": "stderr",
     "output_type": "stream",
     "text": [
      "96137it [04:53, 327.90it/s]\n",
      "27it [00:00, 265.85it/s]"
     ]
    },
    {
     "name": "stdout",
     "output_type": "stream",
     "text": [
      "0xc44a93227d6cb5f47857f14f008262a618645a1a941098e6ef23c5b5bf8979d4 0\n",
      "11 0xb656f382ca4bde57ef26675d339f2be1c4ccdc57fa0dcd3804fc8b90ac91327e\n",
      "11 0x9760e48b649cc4e83ea3365421bb338e24f262c3480892e81d4bd4cb868e08d1\n",
      "11 0x530edd068ea39234ccb397ad919ba323e9e3ff45a8f62530a89f28ea30d48444\n",
      "11 0x973529edf9a5f577ae77e90dfd580d7f13beb9e26717fbd64cc86023386df0f1\n",
      "11 0xb5faa358cc2689a5f3d1d72a9ff92c08b531e6fa96409e6e32a5224e6e0a788e\n",
      "11 0xca989b1a4bd09a899224086da4e452d3320793fa644d0af07721ee3191c71ade\n",
      "11 0xc5fd771a88a8b63563b3146840fa595ad98fe85b54ad7b525e25916a4f1317d5\n",
      "11 0xbf5a03d8c19d30a83346a0a30decf1b1e42d0b020ab8537b46df2994d224c10a\n",
      "11 0xd2102eb738ebce2397c8aeebd3ba57cba394e857c967878a797c9dc737f992a3\n",
      "11 0x8481ff21bbf83aa4af016be6d2d913e246259ae072b1b700958303157d499252\n",
      "11 0x6d25fe2136b2f70c80ab7471ec3f265cc6191bb29c019cd1fa4b975f3163f65a\n",
      "11 0x29bf1ce2c9f660fb09a80105f26f048dacf89fc26772197867b5d0f1020ae6da\n",
      "11 0x4bc33edc83966b6295a22d27e1cdb131d197c7256346b7d9659c3f9dfa9da8ef\n",
      "11 0x83faf7b6cf268d9876fb5a4ca6a18eb4a855ccfc2f1653ef27ca8008bdb77d99\n",
      "11 0xb6d82cba89a580968e34c86fc9e655827bb698e7c93a2043abff75be4e1c5db2\n",
      "11 0x3b2ea64b1fa303ef26c2a1310dec7c8a15ea9f97cdf65dfc97458f4b727ec3f4\n",
      "11 0x5f0689746aeae37e8a9d9ab255fd587c00634ead29843ae8b6c3ae1f774d357f\n",
      "11 0xd5a559e02aa30601c2af1a01909e038c56ef4c27b1f042940ad6214e0fea3cec\n",
      "11 0xe37a3132aeef794264a98b9697dfba2c45e54cf5c8916a245ce22179119a890b\n",
      "11 0x4b85cc83910d4dd51005391178adc0f3bc8733b58b76daea04addddac22ffb32\n"
     ]
    },
    {
     "name": "stderr",
     "output_type": "stream",
     "text": [
      "96137it [04:39, 344.33it/s]\n",
      "8it [00:00, 77.11it/s]"
     ]
    },
    {
     "name": "stdout",
     "output_type": "stream",
     "text": [
      "0x4b85cc83910d4dd51005391178adc0f3bc8733b58b76daea04addddac22ffb32 1135\n",
      "12 0x986c517dd908b087dfb48b005428975b91a3393d378b8eab083278c26d151e6c\n",
      "12 0x5f8ff09d0717e78e26c50261957b1299dee4c9b86632b6cf17c9c630a19f05fe\n",
      "12 0xe663c9f86a6d41d41a7c70ce6cc1bb5563f64a0801ccf9c89a69fd122a146797\n",
      "12 0x351fc4fc2f2acd175f148389506609c0689792399c9aca2f03889488024b20e5\n",
      "12 0x3b83396748410152c83c1cf942a57f858c98e5fe2b456497b3219aee3fe94bcb\n",
      "12 0xb4e53b8d384ed1b93da0eec46507fb17b24832596508c47c74b3561ecb9e469d\n",
      "12 0xe4e61be8dffccd4983221d475392742cdd1ae77a5615a81e6a8fc46aa7bbb555\n",
      "12 0x6750b9812a9fb729ec86f5c48e936516808b878cff6356561a58db8ad3c69aea\n",
      "12 0xdcb92ce3b5c6218892bb50efe7128e0affaa657c0dbb57bdb66a036d14ed96de\n",
      "12 0xa959944a0c183e8325c4279e03a547b10d7d5ab354a2c3817f563d82c318a439\n",
      "12 0x7bbd2ccf7f431f846aa0626790820f9ec646d27d5d6c2adaa4fb9980cd60f8ba\n",
      "12 0x2833b65dc6dcbe3a7a291e1ff87b3a691e088ef5425d18d76d78226749c73b03\n"
     ]
    },
    {
     "name": "stderr",
     "output_type": "stream",
     "text": [
      "96137it [17:10, 93.33it/s] \n",
      "56it [00:00, 556.36it/s]"
     ]
    },
    {
     "name": "stdout",
     "output_type": "stream",
     "text": [
      "0x2833b65dc6dcbe3a7a291e1ff87b3a691e088ef5425d18d76d78226749c73b03 2631\n",
      "13 0x9c2e8761fbbe8ae50e444ca74c26d6870519edf3dbd90f5724172a2f9786e826\n",
      "13 0xacf6d14377903f9ea7c5807869a005ded9eab68b26df590cd67852a859dadae9\n",
      "13 0x6f2b08d31d0333baa82576e0bbbd2d5dc2f5a47851845762cf0528e75d6594e2\n",
      "13 0x1b646693ca678690d8234a2538b139c351c857184c9a2389922f2d6f782c7d2b\n",
      "13 0xb3460defa44cc7a3fd2845af804005a60f28998a34eb81cdfb7298d78ba7e007\n",
      "13 0x6bbdbcc0680cbb0d52afa5a80c3af791099c1d7ba888504ce50759be8c413aa9\n",
      "13 0xd880245d1ffe8c7c35ff6cdc0ddd80e09bace4fb2e97c1a759924bb6349ecc3a\n",
      "13 0xa487c3295f504b88f862435c4e87a0ba85af74832fcd3ff4a44e9fa3081e9d2b\n",
      "13 0xd6a0f7883d118a6c55b5d39abb608fdfd70da21abd87607801c909015aebda75\n",
      "13 0xb777e0feb7ff9cc9e50c847e4903b9fc7d8a596de584683725f5e80025a4c28e\n",
      "13 0xe0a482f3601d94042167fa0d7d656e4ec959ea7382871e5db53b0e56577182f2\n",
      "13 0xf9edf2f6107bd9a618b0779cef859583137579fc5f4a133fc4ee0f8d5f913859\n",
      "13 0x8db14f415ef6de2508e438c56dedad9b321d31ff7d4eb7db6f81ab18ebd8a5a1\n",
      "13 0x7d3c846448dec3a668532a92bb72dc3d9c126755ad2f56ee2b45afa1512912a5\n",
      "13 0x6eac2125ea03a8c2caae8852ff9feae48a67a2710e2a86fa6a558648257bdf61\n",
      "13 0x1db3b30882e7e002c498578d99d10bbeee47985aa56d235ac906d322a053b8cd\n",
      "13 0x67046e66a8f78b648878664387f34395ce791c7a6218a90213de52ad6e9d02d3\n",
      "13 0x7cac468792c40064f25e88b6c6e1a19e7683c3b96e0a51b5ba12fafa9248ce7e\n",
      "13 0x9d4a29140e3ab8e36dee0321db54844c06a5ce1216f74ecf0fe0dc5a89ac4d47\n",
      "13 0x1d1b3d155d2095c0540f6ca30acf70d5e85a8d529b27466aa43f5a61dcd7e334\n",
      "13 0x146356eb406642f034a32adb8aa6b5386f1cd21c02c9463c7a19ffaa27350716\n",
      "13 0x19d0318ac8362356c6dc78b4fefeef96e7bac874b9a6405765487e094fe2090b\n",
      "13 0x3c1146a67a6436336299a1dc0fe7922c24247dc03a92e62ca5932252859b48e8\n",
      "13 0x6f18719ce12dda1484d0a61f6071991f0d34e54a7920ffd0ac881a176c1734be\n",
      "13 0xbdb7a26d323a4642e4a7416c4a61cd6acd7357e2840860f1e7849e557242b2cf\n",
      "13 0xe88ea944e87d3520977b34e76e705227e2ad36c70fc0175a66eb3bc4634e2cff\n",
      "13 0xa1409662637eb51704c4eca5511856283f2f504f41338e8e011e558f599ea2e6\n",
      "13 0xb82528d1294375a03b96fa216d42f93a89dbb478503676bad97991a7c80062f9\n",
      "13 0x887e458d2b0c76821a344182a027a09376b513e129b868e752787baa30a8c507\n",
      "13 0xc58d6c0daac406e91f504de6b40332e4d18cb3a85b174ae60c33905d05f1ae70\n",
      "13 0xc349a0503893afbdc65955ff0541671763232a28abdb2bbb881dbb033ea90abe\n",
      "13 0xaaba89e3f21c1f4e5771df45bb0fb768e501f718adb4571cb80916211d5914d1\n"
     ]
    },
    {
     "name": "stderr",
     "output_type": "stream",
     "text": [
      "96137it [02:23, 670.82it/s]\n",
      "41719it [00:00, 205822.90it/s]"
     ]
    },
    {
     "name": "stdout",
     "output_type": "stream",
     "text": [
      "0xaaba89e3f21c1f4e5771df45bb0fb768e501f718adb4571cb80916211d5914d1 0\n",
      "14 0x3a8f971eefbdd4aad320e582af5773c92ed3320eafbfb3b80d3ba8e4d20edfe7\n",
      "14 0x79e08b5eb06ee10c7d6047d2957c153ea777dfafc005d595c95b10e772b09e72\n",
      "14 0xecaa377b58bf4019393a31e283575f977db7caf70c03a27953b3e831b9e19630\n",
      "14 0x707229c9e0292127470b162008235c3279380fdc8d66c8ccf7dc44ba41aabb26\n",
      "14 0x98df06264bede129abaec96cb4eef352c7ca3e5b868c113f4cafae3c01b15a94\n",
      "14 0x0a10512b387b809c08fac75d962587b12b8e7d86d7f98290f39fd383fbc6d7f3\n",
      "14 0x820284ead4587ae9b2846415ec95f0bb784ba7210fa9d492ea43f4175ffd4d16\n",
      "14 0x16865c0d77c5b63eeae908963cc21e6d3e5d4eb5c09ff9f4b6e02b4e006cc114\n",
      "14 0x894c7613fbbed653dd0e0900ecabfe4f5391d235ac70c864358907e998bee988\n",
      "14 0xdda5049d182872445a4577e58e337f059cce39c27caabccbb6a0df25383ae420\n",
      "14 0xe7138b4a2fdfc6784f71c672778b9981fa34f0ba97ecfd491e25a8243fdef9e5\n",
      "14 0xb476d988a4dc64e680df74b251f361e469de24b8af52df47608d902f31bead4d\n",
      "14 0x85c673b87937fa51cf869b4fc4df28992578e62f98248c0911b9635a34f7c6b5\n",
      "14 0xf8fee8582dcf21ec98b661fb1fcf43f45c232fba7028719f17b9bb57e8824158\n",
      "14 0xcd0c519d4564d453fc0f19918e390d765a74e82a64d4b6d73eca807c17527fff\n",
      "14 0x78a1fa8ff094bf3e587a5e7ced1321577a158109bf2c0167bdd5027dc6d47ac4\n"
     ]
    },
    {
     "name": "stderr",
     "output_type": "stream",
     "text": [
      "96137it [00:00, 209276.02it/s]\n",
      "42411it [00:00, 213447.95it/s]"
     ]
    },
    {
     "name": "stdout",
     "output_type": "stream",
     "text": [
      "0x78a1fa8ff094bf3e587a5e7ced1321577a158109bf2c0167bdd5027dc6d47ac4 0\n",
      "15 0x6b93d44dd4183d41304060e35920f9b540cc1221401aa5769cfd63c1f5ea135b\n",
      "15 0xf13b9b198b5b97e2b83f5290b220f0112db7464829d52cefc159fe0779e55786\n",
      "15 0xe1f556b629eaaaa7b55acab7afda403b2fd50a57697d387333a521dc14f344bb\n"
     ]
    },
    {
     "name": "stderr",
     "output_type": "stream",
     "text": [
      "96137it [00:00, 217043.53it/s]\n",
      "8it [00:00, 78.42it/s]"
     ]
    },
    {
     "name": "stdout",
     "output_type": "stream",
     "text": [
      "0xe1f556b629eaaaa7b55acab7afda403b2fd50a57697d387333a521dc14f344bb 0\n",
      "16 0xcfca9af6e330ec18589bfb7d55076b54e3944f2f8abf12981edf9a1a2fe8d2cb\n",
      "16 0xdd93f9e8a2faf3351c5421e042c9c8d3cda72e29b515016cc8f17efaddbb4a7e\n",
      "16 0x2a14b38792cd2a53134e5fd778e048dbd508398ec387164236292409dbf39369\n",
      "16 0x7f699b7cbb54cabb8aa3ae0c5b6af1383289d8fbabb623afc31ea016c332d8e3\n",
      "16 0xc0ddb92b8503918e27a690a6aed0d703a537af64c7632bb359cc0d594d21e973\n",
      "16 0x69ae2c3aff4046c2ab4f4d8c6d4aeb223bb1efc7ac50e1b79903a1ed299b2706\n",
      "16 0x507d697bf67d50fd64ba894e55b855616dfb7ff9b6b0cb0467b53404e628b696\n",
      "16 0x5e81e6973cb80e988ac0e8ccc1506062ce88053e3f0ae79e69cab03ef27f5b8b\n",
      "16 0x5ff3cc22811448c103f1862e6e76b72eca52ace01b4d221871892be626aa078f\n",
      "16 0x606f3db1742ec3c8de46b80ca7ef563cfe5716e3cf294741723f2f055b652977\n",
      "16 0x4f6ca62748a37c2b248bbbcdfe3d7df1cd5d9e507df041fcdbf4bc902f92767e\n",
      "16 0x286fe01ef99d00041baba9ef93f78ed497c7843494c4dcc868c0f2d77cbf1cc2\n",
      "16 0xd52f3330759a317aee1062f8ffe054ef5556504e4b5b053b93e8ba58e520d3fc\n",
      "16 0x88d77a40830a92f4b374ad607d8461427e4d026008843eaaf903116cc00a05ae\n"
     ]
    },
    {
     "name": "stderr",
     "output_type": "stream",
     "text": [
      "52548it [10:01, 87.33it/s] \n"
     ]
    },
    {
     "ename": "KeyboardInterrupt",
     "evalue": "",
     "output_type": "error",
     "traceback": [
      "\u001b[0;31m---------------------------------------------------------------------------\u001b[0m",
      "\u001b[0;31mKeyboardInterrupt\u001b[0m                         Traceback (most recent call last)",
      "\u001b[0;32m<ipython-input-135-e0cfff249b71>\u001b[0m in \u001b[0;36m<module>\u001b[0;34m\u001b[0m\n\u001b[1;32m     20\u001b[0m     \u001b[0;32mfor\u001b[0m \u001b[0mdeposit\u001b[0m \u001b[0;32min\u001b[0m \u001b[0mtqdm\u001b[0m\u001b[0;34m(\u001b[0m\u001b[0mdeposit_txs\u001b[0m\u001b[0;34m.\u001b[0m\u001b[0mitertuples\u001b[0m\u001b[0;34m(\u001b[0m\u001b[0;34m)\u001b[0m\u001b[0;34m)\u001b[0m\u001b[0;34m:\u001b[0m\u001b[0;34m\u001b[0m\u001b[0;34m\u001b[0m\u001b[0m\n\u001b[1;32m     21\u001b[0m         \u001b[0;32mfor\u001b[0m \u001b[0mtimeInPool\u001b[0m \u001b[0;32min\u001b[0m \u001b[0mblocksInPools\u001b[0m\u001b[0;34m:\u001b[0m\u001b[0;34m\u001b[0m\u001b[0;34m\u001b[0m\u001b[0m\n\u001b[0;32m---> 22\u001b[0;31m             \u001b[0mrslt_df\u001b[0m \u001b[0;34m=\u001b[0m \u001b[0mwithdraw_txs\u001b[0m\u001b[0;34m[\u001b[0m\u001b[0mwithdraw_txs\u001b[0m\u001b[0;34m[\u001b[0m\u001b[0;34m\"block_number\"\u001b[0m\u001b[0;34m]\u001b[0m \u001b[0;34m==\u001b[0m \u001b[0mdeposit\u001b[0m\u001b[0;34m.\u001b[0m\u001b[0mblock_number\u001b[0m\u001b[0;34m+\u001b[0m\u001b[0mtimeInPool\u001b[0m\u001b[0;34m]\u001b[0m\u001b[0;34m\u001b[0m\u001b[0;34m\u001b[0m\u001b[0m\n\u001b[0m\u001b[1;32m     23\u001b[0m             \u001b[0mrslt_df\u001b[0m \u001b[0;34m=\u001b[0m \u001b[0mrslt_df\u001b[0m\u001b[0;34m[\u001b[0m\u001b[0mrslt_df\u001b[0m\u001b[0;34m[\u001b[0m\u001b[0;34m\"tcash_pool\"\u001b[0m\u001b[0;34m]\u001b[0m \u001b[0;34m==\u001b[0m \u001b[0mdeposit\u001b[0m\u001b[0;34m.\u001b[0m\u001b[0mtcash_pool\u001b[0m\u001b[0;34m]\u001b[0m\u001b[0;34m\u001b[0m\u001b[0;34m\u001b[0m\u001b[0m\n\u001b[1;32m     24\u001b[0m             \u001b[0;32mif\u001b[0m \u001b[0mlen\u001b[0m\u001b[0;34m(\u001b[0m\u001b[0mrslt_df\u001b[0m\u001b[0;34m)\u001b[0m\u001b[0;34m!=\u001b[0m\u001b[0;36m0\u001b[0m\u001b[0;34m:\u001b[0m\u001b[0;34m\u001b[0m\u001b[0;34m\u001b[0m\u001b[0m\n",
      "\u001b[0;32m/Library/Frameworks/Python.framework/Versions/3.9/lib/python3.9/site-packages/pandas/core/ops/common.py\u001b[0m in \u001b[0;36mnew_method\u001b[0;34m(self, other)\u001b[0m\n\u001b[1;32m     63\u001b[0m         \u001b[0mother\u001b[0m \u001b[0;34m=\u001b[0m \u001b[0mitem_from_zerodim\u001b[0m\u001b[0;34m(\u001b[0m\u001b[0mother\u001b[0m\u001b[0;34m)\u001b[0m\u001b[0;34m\u001b[0m\u001b[0;34m\u001b[0m\u001b[0m\n\u001b[1;32m     64\u001b[0m \u001b[0;34m\u001b[0m\u001b[0m\n\u001b[0;32m---> 65\u001b[0;31m         \u001b[0;32mreturn\u001b[0m \u001b[0mmethod\u001b[0m\u001b[0;34m(\u001b[0m\u001b[0mself\u001b[0m\u001b[0;34m,\u001b[0m \u001b[0mother\u001b[0m\u001b[0;34m)\u001b[0m\u001b[0;34m\u001b[0m\u001b[0;34m\u001b[0m\u001b[0m\n\u001b[0m\u001b[1;32m     66\u001b[0m \u001b[0;34m\u001b[0m\u001b[0m\n\u001b[1;32m     67\u001b[0m     \u001b[0;32mreturn\u001b[0m \u001b[0mnew_method\u001b[0m\u001b[0;34m\u001b[0m\u001b[0;34m\u001b[0m\u001b[0m\n",
      "\u001b[0;32m/Library/Frameworks/Python.framework/Versions/3.9/lib/python3.9/site-packages/pandas/core/arraylike.py\u001b[0m in \u001b[0;36m__eq__\u001b[0;34m(self, other)\u001b[0m\n\u001b[1;32m     27\u001b[0m     \u001b[0;34m@\u001b[0m\u001b[0munpack_zerodim_and_defer\u001b[0m\u001b[0;34m(\u001b[0m\u001b[0;34m\"__eq__\"\u001b[0m\u001b[0;34m)\u001b[0m\u001b[0;34m\u001b[0m\u001b[0;34m\u001b[0m\u001b[0m\n\u001b[1;32m     28\u001b[0m     \u001b[0;32mdef\u001b[0m \u001b[0m__eq__\u001b[0m\u001b[0;34m(\u001b[0m\u001b[0mself\u001b[0m\u001b[0;34m,\u001b[0m \u001b[0mother\u001b[0m\u001b[0;34m)\u001b[0m\u001b[0;34m:\u001b[0m\u001b[0;34m\u001b[0m\u001b[0;34m\u001b[0m\u001b[0m\n\u001b[0;32m---> 29\u001b[0;31m         \u001b[0;32mreturn\u001b[0m \u001b[0mself\u001b[0m\u001b[0;34m.\u001b[0m\u001b[0m_cmp_method\u001b[0m\u001b[0;34m(\u001b[0m\u001b[0mother\u001b[0m\u001b[0;34m,\u001b[0m \u001b[0moperator\u001b[0m\u001b[0;34m.\u001b[0m\u001b[0meq\u001b[0m\u001b[0;34m)\u001b[0m\u001b[0;34m\u001b[0m\u001b[0;34m\u001b[0m\u001b[0m\n\u001b[0m\u001b[1;32m     30\u001b[0m \u001b[0;34m\u001b[0m\u001b[0m\n\u001b[1;32m     31\u001b[0m     \u001b[0;34m@\u001b[0m\u001b[0munpack_zerodim_and_defer\u001b[0m\u001b[0;34m(\u001b[0m\u001b[0;34m\"__ne__\"\u001b[0m\u001b[0;34m)\u001b[0m\u001b[0;34m\u001b[0m\u001b[0;34m\u001b[0m\u001b[0m\n",
      "\u001b[0;32m/Library/Frameworks/Python.framework/Versions/3.9/lib/python3.9/site-packages/pandas/core/series.py\u001b[0m in \u001b[0;36m_cmp_method\u001b[0;34m(self, other, op)\u001b[0m\n\u001b[1;32m   4976\u001b[0m         \u001b[0mrvalues\u001b[0m \u001b[0;34m=\u001b[0m \u001b[0mextract_array\u001b[0m\u001b[0;34m(\u001b[0m\u001b[0mother\u001b[0m\u001b[0;34m,\u001b[0m \u001b[0mextract_numpy\u001b[0m\u001b[0;34m=\u001b[0m\u001b[0;32mTrue\u001b[0m\u001b[0;34m)\u001b[0m\u001b[0;34m\u001b[0m\u001b[0;34m\u001b[0m\u001b[0m\n\u001b[1;32m   4977\u001b[0m \u001b[0;34m\u001b[0m\u001b[0m\n\u001b[0;32m-> 4978\u001b[0;31m         \u001b[0mres_values\u001b[0m \u001b[0;34m=\u001b[0m \u001b[0mops\u001b[0m\u001b[0;34m.\u001b[0m\u001b[0mcomparison_op\u001b[0m\u001b[0;34m(\u001b[0m\u001b[0mlvalues\u001b[0m\u001b[0;34m,\u001b[0m \u001b[0mrvalues\u001b[0m\u001b[0;34m,\u001b[0m \u001b[0mop\u001b[0m\u001b[0;34m)\u001b[0m\u001b[0;34m\u001b[0m\u001b[0;34m\u001b[0m\u001b[0m\n\u001b[0m\u001b[1;32m   4979\u001b[0m \u001b[0;34m\u001b[0m\u001b[0m\n\u001b[1;32m   4980\u001b[0m         \u001b[0;32mreturn\u001b[0m \u001b[0mself\u001b[0m\u001b[0;34m.\u001b[0m\u001b[0m_construct_result\u001b[0m\u001b[0;34m(\u001b[0m\u001b[0mres_values\u001b[0m\u001b[0;34m,\u001b[0m \u001b[0mname\u001b[0m\u001b[0;34m=\u001b[0m\u001b[0mres_name\u001b[0m\u001b[0;34m)\u001b[0m\u001b[0;34m\u001b[0m\u001b[0;34m\u001b[0m\u001b[0m\n",
      "\u001b[0;32m/Library/Frameworks/Python.framework/Versions/3.9/lib/python3.9/site-packages/pandas/core/ops/array_ops.py\u001b[0m in \u001b[0;36mcomparison_op\u001b[0;34m(left, right, op)\u001b[0m\n\u001b[1;32m    216\u001b[0m         \u001b[0mrvalues\u001b[0m \u001b[0;34m=\u001b[0m \u001b[0mnp\u001b[0m\u001b[0;34m.\u001b[0m\u001b[0masarray\u001b[0m\u001b[0;34m(\u001b[0m\u001b[0mrvalues\u001b[0m\u001b[0;34m)\u001b[0m\u001b[0;34m\u001b[0m\u001b[0;34m\u001b[0m\u001b[0m\n\u001b[1;32m    217\u001b[0m \u001b[0;34m\u001b[0m\u001b[0m\n\u001b[0;32m--> 218\u001b[0;31m     \u001b[0;32mif\u001b[0m \u001b[0misinstance\u001b[0m\u001b[0;34m(\u001b[0m\u001b[0mrvalues\u001b[0m\u001b[0;34m,\u001b[0m \u001b[0;34m(\u001b[0m\u001b[0mnp\u001b[0m\u001b[0;34m.\u001b[0m\u001b[0mndarray\u001b[0m\u001b[0;34m,\u001b[0m \u001b[0mABCExtensionArray\u001b[0m\u001b[0;34m)\u001b[0m\u001b[0;34m)\u001b[0m\u001b[0;34m:\u001b[0m\u001b[0;34m\u001b[0m\u001b[0;34m\u001b[0m\u001b[0m\n\u001b[0m\u001b[1;32m    219\u001b[0m         \u001b[0;31m# TODO: make this treatment consistent across ops and classes.\u001b[0m\u001b[0;34m\u001b[0m\u001b[0;34m\u001b[0m\u001b[0;34m\u001b[0m\u001b[0m\n\u001b[1;32m    220\u001b[0m         \u001b[0;31m#  We are not catching all listlikes here (e.g. frozenset, tuple)\u001b[0m\u001b[0;34m\u001b[0m\u001b[0;34m\u001b[0m\u001b[0;34m\u001b[0m\u001b[0m\n",
      "\u001b[0;31mKeyboardInterrupt\u001b[0m: "
     ]
    }
   ],
   "source": [
    "poolToElapsedTime = {key: [] for key in mining_pools}\n",
    "deanonymizingFreshAddressMiners = {key: [] for key in freshAddressMiners}\n",
    "elapsedTimeToHashes = {}\n",
    "cntr = 0\n",
    "allBlocksInPools = []\n",
    "for minerTx in w_miner_txs.itertuples():\n",
    "    print(cntr,minerTx.hash)\n",
    "    if not not_D_not_W_type(minerTx.recipient_address):\n",
    "        continue\n",
    "    blocksInPools = []\n",
    "    cntr+=1\n",
    "    for pools in mining_pools:\n",
    "        blocksInPool = ap2blocks(minerTx.anonimity_points,pools)\n",
    "        if blocksInPool%1 == 0.0:\n",
    "            \n",
    "            if blocksInPool not in blocksInPools:\n",
    "                blocksInPools.append(blocksInPool)\n",
    "                allBlocksInPools.append(blocksInPool)\n",
    "    anonSetSize = 0\n",
    "    for deposit in tqdm(deposit_txs.itertuples()):\n",
    "        for timeInPool in blocksInPools:\n",
    "            rslt_df = withdraw_txs[withdraw_txs[\"block_number\"] == deposit.block_number+timeInPool]\n",
    "            rslt_df = rslt_df[rslt_df[\"tcash_pool\"] == deposit.tcash_pool]\n",
    "            if len(rslt_df)!=0:\n",
    "                anonSetSize+=len(rslt_df)    \n",
    "    print(minerTx.hash,anonSetSize) "
   ]
  },
  {
   "cell_type": "code",
   "execution_count": 116,
   "metadata": {},
   "outputs": [
    {
     "name": "stdout",
     "output_type": "stream",
     "text": [
      "1700\n",
      "Counter({28297673.0: 9, 56595346.0: 9, 188299103.0: 8, 30426.0: 5, 101420.0: 5, 243408.0: 5, 304260.0: 5, 608520.0: 5, 811360.0: 5, 1217040.0: 5, 3042600.0: 5, 6085200.0: 5, 8000000.0: 4, 8079279.0: 4, 16158558.0: 4, 20000000.0: 4, 29350551.0: 4, 34541149.0: 4, 60621413.0: 4, 18575.0: 3, 92875.0: 3, 182973.0: 3, 464375.0: 3, 609910.0: 3, 1235289.0: 3, 1463784.0: 3, 1523582.0: 3, 1829730.0: 3, 2321875.0: 3, 3659460.0: 3, 3808955.0: 3, 4117630.0: 3, 4879280.0: 3, 5000000.0: 3, 6176445.0: 3, 7318920.0: 3, 7617910.0: 3, 18297300.0: 3, 19044775.0: 3, 30000000.0: 3, 30882225.0: 3, 36594600.0: 3, 38089550.0: 3, 40000000.0: 3, 100000000.0: 3, 200000000.0: 3, 11000.0: 2, 13903.0: 2, 23442.0: 2, 27500.0: 2, 31727.0: 2, 33286.0: 2, 34127.0: 2, 44000.0: 2, 58605.0: 2, 62700.0: 2, 63085.0: 2, 69515.0: 2, 93768.0: 2, 99858.0: 2, 101804.0: 2, 125156.0: 2, 151404.0: 2, 152594.0: 2, 156750.0: 2, 165000.0: 2, 183262.0: 2, 184050.0: 2, 189255.0: 2, 195350.0: 2, 199716.0: 2, 214431.0: 2, 220000.0: 2, 227399.0: 2, 250800.0: 2, 253816.0: 2, 254510.0: 2, 266288.0: 2, 273016.0: 2, 275000.0: 2, 300000.0: 2, 305188.0: 2, 317270.0: 2, 322859.0: 2, 341270.0: 2, 375468.0: 2, 378510.0: 2, 399432.0: 2, 407216.0: 2, 412500.0: 2, 460125.0: 2, 468840.0: 2, 504680.0: 2, 522500.0: 2, 550000.0: 2, 556933.0: 2, 586050.0: 2, 634540.0: 2, 660000.0: 2, 682540.0: 2, 736200.0: 2, 750936.0: 2, 757020.0: 2, 968577.0: 2, 974308.0: 2, 998580.0: 2, 1000000.0: 2, 1001248.0: 2, 1100000.0: 2, 1113866.0: 2, 1172100.0: 2, 1217885.0: 2, 1254000.0: 2, 1268033.0: 2, 1269080.0: 2, 1365080.0: 2, 1375000.0: 2, 1466096.0: 2, 1501872.0: 2, 1533750.0: 2, 1562800.0: 2, 1567500.0: 2, 1819192.0: 2, 1832620.0: 2, 1892550.0: 2, 1937154.0: 2, 1997160.0: 2, 2036080.0: 2, 2138882.0: 2, 2273990.0: 2, 2344200.0: 2, 2400000.0: 2, 2435770.0: 2, 2505029.0: 2, 2545100.0: 2, 2582872.0: 2, 2750000.0: 2, 2784665.0: 2, 3040471.0: 2, 3135000.0: 2, 3172700.0: 2, 3286791.0: 2, 3300000.0: 2, 3412700.0: 2, 3665240.0: 2, 3681000.0: 2, 3754680.0: 2, 3785100.0: 2, 3804099.0: 2, 3874308.0: 2, 4125000.0: 2, 4180000.0: 2, 4277764.0: 2, 4547980.0: 2, 4601250.0: 2, 4871540.0: 2, 5090200.0: 2, 5500000.0: 2, 5569330.0: 2, 5860500.0: 2, 6000000.0: 2, 6080942.0: 2, 6270000.0: 2, 6345400.0: 2, 6825400.0: 2, 7330480.0: 2, 7509360.0: 2, 7608198.0: 2, 8250000.0: 2, 9095960.0: 2, 9202500.0: 2, 9685770.0: 2, 10000000.0: 2, 10144264.0: 2, 10180400.0: 2, 11000000.0: 2, 11721000.0: 2, 12000000.0: 2, 12161884.0: 2, 12178850.0: 2, 12270000.0: 2, 12525145.0: 2, 15000000.0: 2, 15216396.0: 2, 15372789.0: 2, 15675000.0: 2, 16152311.0: 2, 16500000.0: 2, 18326200.0: 2, 18405000.0: 2, 19371540.0: 2, 22739900.0: 2, 24357700.0: 2, 25451000.0: 2, 29378528.0: 2, 29744134.0: 2, 30404710.0: 2, 30745578.0: 2, 31350000.0: 2, 32304622.0: 2, 36652400.0: 2, 38040990.0: 2, 41250000.0: 2, 45479800.0: 2, 46012500.0: 2, 47514539.0: 2, 50000000.0: 2, 50902000.0: 2, 58757056.0: 2, 58983349.0: 2, 59488268.0: 2, 60000000.0: 2, 60809420.0: 2, 76081980.0: 2, 82500000.0: 2, 89898961.0: 2, 92025000.0: 2, 117514112.0: 2, 119808974.0: 2, 132160027.0: 2, 150000000.0: 2, 157273151.0: 2, 239617948.0: 2, 293785280.0: 2, 314546302.0: 2, 587570560.0: 2, 798.0: 1, 2394.0: 1, 3500.0: 1, 4788.0: 1, 6384.0: 1, 8750.0: 1, 9576.0: 1, 14000.0: 1, 14894.0: 1, 17486.0: 1, 18775.0: 1, 20251.0: 1, 21272.0: 1, 23940.0: 1, 33028.0: 1, 33181.0: 1, 38934.0: 1, 42614.0: 1, 43462.0: 1, 43568.0: 1, 47880.0: 1, 51667.0: 1, 52801.0: 1, 53164.0: 1, 53180.0: 1, 53303.0: 1, 55089.0: 1, 56053.0: 1, 57862.0: 1, 58861.0: 1, 58958.0: 1, 60098.0: 1, 60337.0: 1, 70000.0: 1, 73470.0: 1, 75100.0: 1, 85088.0: 1, 87238.0: 1, 87430.0: 1, 87500.0: 1, 92732.0: 1, 93678.0: 1, 94058.0: 1, 95006.0: 1, 97149.0: 1, 97335.0: 1, 97473.0: 1, 103334.0: 1, 106535.0: 1, 110706.0: 1, 115894.0: 1, 116380.0: 1, 117661.0: 1, 117909.0: 1, 117916.0: 1, 118152.0: 1, 119152.0: 1, 119296.0: 1, 120000.0: 1, 120674.0: 1, 126690.0: 1, 129674.0: 1, 133120.0: 1, 134598.0: 1, 138853.0: 1, 143110.0: 1, 144655.0: 1, 146003.0: 1, 148940.0: 1, 155736.0: 1, 157299.0: 1, 159914.0: 1, 162008.0: 1, 162376.0: 1, 167559.0: 1, 170456.0: 1, 175000.0: 1, 175393.0: 1, 182666.0: 1, 182964.0: 1, 182966.0: 1, 182968.0: 1, 183244.0: 1, 183630.0: 1, 183675.0: 1, 188116.0: 1, 190500.0: 1, 194511.0: 1, 200000.0: 1, 202510.0: 1, 206668.0: 1, 216824.0: 1, 218095.0: 1, 218575.0: 1, 219469.0: 1, 223412.0: 1, 228713.0: 1, 230098.0: 1, 231448.0: 1, 238592.0: 1, 256138.0: 1, 261232.0: 1, 264005.0: 1, 264224.0: 1, 265448.0: 1, 272824.0: 1, 275445.0: 1, 277706.0: 1, 278196.0: 1, 280234.0: 1, 282528.0: 1, 289735.0: 1, 290950.0: 1, 293880.0: 1, 295336.0: 1, 297880.0: 1, 301685.0: 1, 304623.0: 1, 305826.0: 1, 312260.0: 1, 316725.0: 1, 323011.0: 1, 324450.0: 1, 324910.0: 1, 325424.0: 1, 330280.0: 1, 331810.0: 1, 332800.0: 1, 335118.0: 1, 336495.0: 1, 336687.0: 1, 336974.0: 1, 347696.0: 1, 348544.0: 1, 348952.0: 1, 350000.0: 1, 353393.0: 1, 357775.0: 1, 369020.0: 1, 375500.0: 1, 381912.0: 1, 388596.0: 1, 393030.0: 1, 393840.0: 1, 400000.0: 1, 405020.0: 1, 405940.0: 1, 408238.0: 1, 425312.0: 1, 425440.0: 1, 426424.0: 1, 433648.0: 1, 434187.0: 1, 434620.0: 1, 435680.0: 1, 437150.0: 1, 448424.0: 1, 456665.0: 1, 457251.0: 1, 457426.0: 1, 465520.0: 1, 469375.0: 1, 470888.0: 1, 476250.0: 1, 477184.0: 1, 479742.0: 1, 480000.0: 1, 480754.0: 1, 480784.0: 1, 486065.0: 1, 490997.0: 1, 500000.0: 1, 506760.0: 1, 516670.0: 1, 522464.0: 1, 522571.0: 1, 524330.0: 1, 528337.0: 1, 531640.0: 1, 531800.0: 1, 532480.0: 1, 533030.0: 1, 538392.0: 1, 555412.0: 1, 556392.0: 1, 559551.0: 1, 560530.0: 1, 572440.0: 1, 579470.0: 1, 588610.0: 1, 595760.0: 1, 600000.0: 1, 600980.0: 1, 603370.0: 1, 609668.0: 1, 609880.0: 1, 612250.0: 1, 612426.0: 1, 628471.0: 1, 646022.0: 1, 649504.0: 1, 660560.0: 1, 663620.0: 1, 673374.0: 1, 673948.0: 1, 701434.0: 1, 707967.0: 1, 714770.0: 1, 730015.0: 1, 741856.0: 1, 749424.0: 1, 750000.0: 1, 760048.0: 1, 762000.0: 1, 768414.0: 1, 771847.0: 1, 778680.0: 1, 779784.0: 1, 780000.0: 1, 781791.0: 1, 786495.0: 1, 800000.0: 1, 809575.0: 1, 810040.0: 1, 829945.0: 1, 837795.0: 1, 852280.0: 1, 867296.0: 1, 868374.0: 1, 869240.0: 1, 871360.0: 1, 875000.0: 1, 877876.0: 1, 885648.0: 1, 913330.0: 1, 914502.0: 1, 915847.0: 1, 930000.0: 1, 936780.0: 1, 938750.0: 1, 941288.0: 1, 941760.0: 1, 943272.0: 1, 945216.0: 1, 950000.0: 1, 950060.0: 1, 959484.0: 1, 969061.0: 1, 972555.0: 1, 973350.0: 1, 974730.0: 1, 995908.0: 1, 1009336.0: 1, 1019420.0: 1, 1033340.0: 1, 1034789.0: 1, 1044928.0: 1, 1045142.0: 1, 1054914.0: 1, 1055750.0: 1, 1063280.0: 1, 1063600.0: 1, 1065350.0: 1, 1066060.0: 1, 1092875.0: 1, 1106387.0: 1, 1107060.0: 1, 1109691.0: 1, 1112784.0: 1, 1120594.0: 1, 1121060.0: 1, 1121650.0: 1, 1122137.0: 1, 1122695.0: 1, 1146949.0: 1, 1157240.0: 1, 1171312.0: 1, 1176610.0: 1, 1177220.0: 1, 1179090.0: 1, 1181520.0: 1, 1187779.0: 1, 1192960.0: 1, 1200000.0: 1, 1201885.0: 1, 1201960.0: 1, 1210153.0: 1, 1213273.0: 1, 1247048.0: 1, 1251246.0: 1, 1256942.0: 1, 1262259.0: 1, 1266398.0: 1, 1273040.0: 1, 1279312.0: 1, 1288134.0: 1, 1320025.0: 1, 1321120.0: 1, 1327240.0: 1, 1377225.0: 1, 1388530.0: 1, 1415934.0: 1, 1428647.0: 1, 1446550.0: 1, 1448675.0: 1, 1463712.0: 1, 1463728.0: 1, 1463744.0: 1, 1465952.0: 1, 1469400.0: 1, 1486258.0: 1, 1489400.0: 1, 1500000.0: 1, 1521851.0: 1, 1523115.0: 1, 1531065.0: 1, 1536828.0: 1, 1543694.0: 1, 1549783.0: 1, 1584229.0: 1, 1587500.0: 1, 1600000.0: 1, 1600396.0: 1, 1611859.0: 1, 1669321.0: 1, 1675590.0: 1, 1678174.0: 1, 1680000.0: 1, 1715448.0: 1, 1738480.0: 1, 1742720.0: 1, 1744760.0: 1, 1750000.0: 1, 1752363.0: 1, 1753585.0: 1, 1766965.0: 1, 1821053.0: 1, 1829640.0: 1, 1829660.0: 1, 1829680.0: 1, 1832440.0: 1, 1836750.0: 1, 1840784.0: 1, 1873560.0: 1, 1875954.0: 1, 1877500.0: 1, 1900120.0: 1, 1918968.0: 1, 1922198.0: 1, 1938122.0: 1, 1942980.0: 1, 1944260.0: 1, 1946700.0: 1, 1949460.0: 1, 1950000.0: 1, 1965959.0: 1, 1991868.0: 1, 1997627.0: 1, 2000000.0: 1, 2000495.0: 1, 2025100.0: 1, 2049104.0: 1, 2069578.0: 1, 2106927.0: 1, 2126560.0: 1, 2127200.0: 1, 2130700.0: 1, 2132120.0: 1, 2144310.0: 1, 2161453.0: 1, 2168240.0: 1, 2169413.0: 1, 2180950.0: 1, 2182592.0: 1, 2185750.0: 1, 2188752.0: 1, 2214120.0: 1, 2241872.0: 1, 2242120.0: 1, 2260224.0: 1, 2268839.0: 1, 2283325.0: 1, 2286255.0: 1, 2295337.0: 1, 2300980.0: 1, 2325000.0: 1, 2327600.0: 1, 2342624.0: 1, 2353220.0: 1, 2354440.0: 1, 2358180.0: 1, 2362688.0: 1, 2363040.0: 1, 2375000.0: 1, 2385920.0: 1, 2403770.0: 1, 2403920.0: 1, 2426534.0: 1, 2428725.0: 1, 2437469.0: 1, 2446608.0: 1, 2449704.0: 1, 2489835.0: 1, 2494096.0: 1, 2498080.0: 1, 2500000.0: 1, 2502492.0: 1, 2513884.0: 1, 2533800.0: 1, 2576268.0: 1, 2595600.0: 1, 2599280.0: 1, 2603392.0: 1, 2612320.0: 1, 2612855.0: 1, 2637285.0: 1, 2659787.0: 1, 2662400.0: 1, 2691960.0: 1, 2728240.0: 1, 2732146.0: 1, 2736217.0: 1, 2777060.0: 1, 2781960.0: 1, 2801485.0: 1, 2802340.0: 1, 2825280.0: 1, 2862200.0: 1, 2893100.0: 1, 2897350.0: 1, 2909500.0: 1, 2914869.0: 1, 2952160.0: 1, 2953360.0: 1, 2972516.0: 1, 2978800.0: 1, 3000000.0: 1, 3033913.0: 1, 3055296.0: 1, 3058260.0: 1, 3073656.0: 1, 3099566.0: 1, 3120000.0: 1, 3144240.0: 1, 3150720.0: 1, 3165995.0: 1, 3167250.0: 1, 3168458.0: 1, 3209403.0: 1, 3247520.0: 1, 3254240.0: 1, 3265904.0: 1, 3302800.0: 1, 3318100.0: 1, 3328000.0: 1, 3338642.0: 1, 3364950.0: 1, 3481051.0: 1, 3504726.0: 1, 3507170.0: 1, 3516380.0: 1, 3518797.0: 1, 3577750.0: 1, 3591087.0: 1, 3639801.0: 1, 3650075.0: 1, 3659280.0: 1, 3659320.0: 1, 3659360.0: 1, 3664880.0: 1, 3673500.0: 1, 3700000.0: 1, 3720000.0: 1, 3747120.0: 1, 3786777.0: 1, 3800000.0: 1, 3800240.0: 1, 3810000.0: 1, 3819120.0: 1, 3844396.0: 1, 3893400.0: 1, 3898920.0: 1, 3932475.0: 1, 4000000.0: 1, 4000990.0: 1, 4050200.0: 1, 4059400.0: 1, 4082380.0: 1, 4195435.0: 1, 4200000.0: 1, 4226696.0: 1, 4261400.0: 1, 4288620.0: 1, 4336480.0: 1, 4338826.0: 1, 4346200.0: 1, 4349719.0: 1, 4356800.0: 1, 4361900.0: 1, 4377504.0: 1, 4389380.0: 1, 4428240.0: 1, 4482376.0: 1, 4566650.0: 1, 4572510.0: 1, 4590674.0: 1, 4601960.0: 1, 4612427.0: 1, 4680939.0: 1, 4689885.0: 1, 4693750.0: 1, 4706440.0: 1, 4716360.0: 1, 4726080.0: 1, 4762500.0: 1, 4797420.0: 1, 4857450.0: 1, 4879040.0: 1, 4898000.0: 1, 4951361.0: 1, 4979670.0: 1, 4987811.0: 1, 5065592.0: 1, 5077050.0: 1, 5103550.0: 1, 5188626.0: 1, 5224640.0: 1, 5225710.0: 1, 5274570.0: 1, 5283370.0: 1, 5300914.0: 1, 5316400.0: 1, 5318000.0: 1, 5319574.0: 1, 5330300.0: 1, 5360554.0: 1, 5365337.0: 1, 5456480.0: 1, 5464292.0: 1, 5486725.0: 1, 5531935.0: 1, 5563920.0: 1, 5604680.0: 1, 5605300.0: 1, 5610685.0: 1, 5613475.0: 1, 5650560.0: 1, 5703447.0: 1, 5713762.0: 1, 5718160.0: 1, 5734745.0: 1, 5757557.0: 1, 5777991.0: 1, 5783963.0: 1, 5786200.0: 1, 5819000.0: 1, 5886100.0: 1, 5906720.0: 1, 6009425.0: 1, 6009800.0: 1, 6033112.0: 1, 6037239.0: 1, 6111599.0: 1, 6116520.0: 1, 6284710.0: 1, 6334500.0: 1, 6476600.0: 1, 6500000.0: 1, 6508480.0: 1, 6563041.0: 1, 6600125.0: 1, 6605600.0: 1, 6636200.0: 1, 6639560.0: 1, 6651823.0: 1, 6656000.0: 1, 6677284.0: 1, 6720000.0: 1, 6729899.0: 1, 6729900.0: 1, 6970499.0: 1, 7037594.0: 1, 7143235.0: 1, 7155500.0: 1, 7182174.0: 1, 7318560.0: 1, 7318640.0: 1, 7318720.0: 1, 7329760.0: 1, 7347000.0: 1, 7500000.0: 1, 7503816.0: 1, 7534080.0: 1, 7573554.0: 1, 7604596.0: 1, 7609779.0: 1, 7615575.0: 1, 7638240.0: 1, 7684140.0: 1, 7688792.0: 1, 7692948.0: 1, 7750000.0: 1, 7921145.0: 1, 7967264.0: 1, 8001980.0: 1, 8059295.0: 1, 8074688.0: 1, 8118800.0: 1, 8134141.0: 1, 8155360.0: 1, 8164760.0: 1, 8267489.0: 1, 8390870.0: 1, 8446000.0: 1, 8450041.0: 1, 8577240.0: 1, 8664848.0: 1, 8692400.0: 1, 8713600.0: 1, 8723800.0: 1, 8767925.0: 1, 8906349.0: 1, 8973200.0: 1, 9105265.0: 1, 9203920.0: 1, 9204734.0: 1, 9250000.0: 1, 9361878.0: 1, 9367800.0: 1, 9387500.0: 1, 9500600.0: 1, 9525000.0: 1, 9594840.0: 1, 9701671.0: 1, 9706184.0: 1, 9714900.0: 1, 9716230.0: 1, 9721300.0: 1, 9733500.0: 1, 9747300.0: 1, 9902722.0: 1, 9959080.0: 1, 9959340.0: 1, 9988135.0: 1, 10093360.0: 1, 10098072.0: 1, 10157196.0: 1, 10184320.0: 1, 10217601.0: 1, 10367677.0: 1, 10377252.0: 1, 10476255.0: 1, 10566740.0: 1, 10601828.0: 1, 10632800.0: 1, 10636000.0: 1, 10653500.0: 1, 10660600.0: 1, 10730674.0: 1, 10912960.0: 1, 10973450.0: 1, 11070600.0: 1, 11113183.0: 1, 11209360.0: 1, 11210600.0: 1, 11301120.0: 1, 11406894.0: 1, 11427524.0: 1, 11638000.0: 1, 11766100.0: 1, 11772200.0: 1, 11790900.0: 1, 11813440.0: 1, 11815200.0: 1, 11943457.0: 1, 11999338.0: 1, 12018850.0: 1, 12019600.0: 1, 12044833.0: 1, 12074478.0: 1, 12132730.0: 1, 12151625.0: 1, 12233040.0: 1, 12248520.0: 1, 12530341.0: 1, 12569420.0: 1, 12669000.0: 1, 12700000.0: 1, 12837612.0: 1, 12931373.0: 1, 13016960.0: 1, 13148855.0: 1, 13186425.0: 1, 13298935.0: 1, 13312000.0: 1, 13362599.0: 1, 13401385.0: 1, 13459800.0: 1, 13668998.0: 1, 13700802.0: 1, 13885553.0: 1, 13940998.0: 1, 14000000.0: 1, 14164964.0: 1, 14311000.0: 1, 14465500.0: 1, 14599142.0: 1, 14800000.0: 1, 14973424.0: 1, 15052761.0: 1, 15147108.0: 1, 15169565.0: 1, 15276480.0: 1, 15292592.0: 1, 15310650.0: 1, 15368280.0: 1, 15600000.0: 1, 15632950.0: 1, 15654306.0: 1, 15842290.0: 1, 16237600.0: 1, 16241917.0: 1, 16268282.0: 1, 16329520.0: 1, 16667811.0: 1, 16693210.0: 1, 17272671.0: 1, 17291624.0: 1, 17329696.0: 1, 17535850.0: 1, 17706205.0: 1, 18199005.0: 1, 18296400.0: 1, 18296600.0: 1, 18296800.0: 1, 18324400.0: 1, 18367500.0: 1, 18456302.0: 1, 18600000.0: 1, 18735600.0: 1, 19000000.0: 1, 19001200.0: 1, 19050000.0: 1, 19221980.0: 1, 19467000.0: 1, 19494600.0: 1, 19500000.0: 1, 19613164.0: 1, 19805444.0: 1, 19918160.0: 1, 20004950.0: 1, 20070348.0: 1, 20129217.0: 1, 20186720.0: 1, 20302347.0: 1, 20977175.0: 1, 21133480.0: 1, 21166266.0: 1, 21307000.0: 1, 21437255.0: 1, 21442216.0: 1, 21443100.0: 1, 21614530.0: 1, 21696067.0: 1, 21809500.0: 1, 21898713.0: 1, 21946900.0: 1, 22141200.0: 1, 22151009.0: 1, 22411880.0: 1, 22629513.0: 1, 22855048.0: 1, 23009800.0: 1, 23078844.0: 1, 23250000.0: 1, 23318952.0: 1, 23532200.0: 1, 23581800.0: 1, 23630400.0: 1, 23750000.0: 1, 23821362.0: 1, 23998676.0: 1, 24089666.0: 1, 24265460.0: 1, 24287250.0: 1, 24303250.0: 1, 24605951.0: 1, 24898350.0: 1, 25327960.0: 1, 25392990.0: 1, 25490831.0: 1, 26372850.0: 1, 26597870.0: 1, 26651961.0: 1, 26745025.0: 1, 26826685.0: 1, 27127034.0: 1, 27201477.0: 1, 27282400.0: 1, 27337996.0: 1, 27401604.0: 1, 27614202.0: 1, 27659675.0: 1, 27686111.0: 1, 27771106.0: 1, 28014850.0: 1, 28023400.0: 1, 28067375.0: 1, 28252800.0: 1, 28517235.0: 1, 28694667.0: 1, 28931000.0: 1, 29095000.0: 1, 29105013.0: 1, 29148690.0: 1, 29533600.0: 1, 29946848.0: 1, 30105522.0: 1, 30582600.0: 1, 30621300.0: 1, 31308612.0: 1, 31557252.0: 1, 31659950.0: 1, 31672500.0: 1, 31749399.0: 1, 32000000.0: 1, 32253791.0: 1, 32483834.0: 1, 32542400.0: 1, 33280000.0: 1, 33335622.0: 1, 33386420.0: 1, 33600000.0: 1, 33649500.0: 1, 34207958.0: 1, 34415884.0: 1, 34460819.0: 1, 34545342.0: 1, 34852495.0: 1, 35412410.0: 1, 35777500.0: 1, 35780079.0: 1, 36268636.0: 1, 36592800.0: 1, 36593200.0: 1, 36593600.0: 1, 36648800.0: 1, 36735000.0: 1, 36912604.0: 1, 37519080.0: 1, 37867770.0: 1, 38077875.0: 1, 38191200.0: 1, 38443960.0: 1, 39000000.0: 1, 39025211.0: 1, 39226328.0: 1, 39446565.0: 1, 39472171.0: 1, 39836320.0: 1, 40009900.0: 1, 40296475.0: 1, 40373440.0: 1, 40594000.0: 1, 40604694.0: 1, 40628784.0: 1, 40670705.0: 1, 40823800.0: 1, 40828400.0: 1, 40921889.0: 1, 41757418.0: 1, 41954350.0: 1, 42000000.0: 1, 42100847.0: 1, 42886200.0: 1, 43229060.0: 1, 43293714.0: 1, 43325379.0: 1, 43619000.0: 1, 44928492.0: 1, 45259026.0: 1, 46019600.0: 1, 46060456.0: 1, 46157688.0: 1, 46500000.0: 1, 46601427.0: 1, 46898850.0: 1, 47187602.0: 1, 47500000.0: 1, 47602146.0: 1, 47625000.0: 1, 47642724.0: 1, 47813804.0: 1, 48264896.0: 1, 48530920.0: 1, 48574500.0: 1, 48606500.0: 1, 49211902.0: 1, 49513610.0: 1, 49796700.0: 1, 50142635.0: 1, 51311937.0: 1, 51449412.0: 1, 52000000.0: 1, 52833700.0: 1, 53214584.0: 1, 53653370.0: 1, 54254068.0: 1, 54402954.0: 1, 54564800.0: 1, 54867250.0: 1, 55228404.0: 1, 55542212.0: 1, 55565915.0: 1, 56029700.0: 1, 56046800.0: 1, 56505600.0: 1, 57034470.0: 1, 57137620.0: 1, 58190000.0: 1, 58210026.0: 1, 58297380.0: 1, 59067200.0: 1, 59717285.0: 1, 60331120.0: 1, 60387651.0: 1, 61165200.0: 1, 61242600.0: 1, 61543584.0: 1, 62000000.0: 1, 62507084.0: 1, 62537729.0: 1, 62651705.0: 1, 63319900.0: 1, 63345000.0: 1, 64034109.0: 1, 64188060.0: 1, 64311765.0: 1, 64507582.0: 1, 64556283.0: 1, 65084800.0: 1, 66518230.0: 1, 66560000.0: 1, 67299000.0: 1, 68831768.0: 1, 69090684.0: 1, 69704990.0: 1, 70043354.0: 1, 70824820.0: 1, 71555000.0: 1, 71560158.0: 1, 71869809.0: 1, 73637872.0: 1, 74000000.0: 1, 74008126.0: 1, 75000000.0: 1, 75263805.0: 1, 75735540.0: 1, 75847825.0: 1, 76382400.0: 1, 76999999.0: 1, 77613368.0: 1, 77729840.0: 1, 78000000.0: 1, 78050422.0: 1, 78839211.0: 1, 78893130.0: 1, 78944342.0: 1, 80235075.0: 1, 81188000.0: 1, 81341410.0: 1, 81647600.0: 1, 81717699.0: 1, 83514836.0: 1, 84000000.0: 1, 84643300.0: 1, 85085688.0: 1, 86458120.0: 1, 86587428.0: 1, 86650758.0: 1, 89398961.0: 1, 89856984.0: 1, 89981887.0: 1, 90475687.0: 1, 91581141.0: 1, 92315376.0: 1, 92479963.0: 1, 92500000.0: 1, 93000000.0: 1, 93797700.0: 1, 94375204.0: 1, 95000000.0: 1, 95204292.0: 1, 95250000.0: 1, 95627608.0: 1, 99027220.0: 1, 99590800.0: 1, 100933600.0: 1, 105190840.0: 1, 105667400.0: 1, 106980675.0: 1, 107211080.0: 1, 109493565.0: 1, 109734500.0: 1, 110456808.0: 1, 110755045.0: 1, 111552647.0: 1, 112000000.0: 1, 112059400.0: 1, 114275240.0: 1, 116420052.0: 1, 116594760.0: 1, 116914541.0: 1, 117584081.0: 1, 120662240.0: 1, 120775302.0: 1, 121327300.0: 1, 121516250.0: 1, 122340736.0: 1, 125014168.0: 1, 125063600.0: 1, 125075458.0: 1, 126639800.0: 1, 128623530.0: 1, 133036460.0: 1, 134013850.0: 1, 136007385.0: 1, 138855530.0: 1, 140086708.0: 1, 140336875.0: 1, 141373492.0: 1, 148016252.0: 1, 150527610.0: 1, 152925920.0: 1, 153106500.0: 1, 157678422.0: 1, 157786260.0: 1, 158746995.0: 1, 160000000.0: 1, 160470150.0: 1, 161033736.0: 1, 167029672.0: 1, 167951607.0: 1, 168000000.0: 1, 170171376.0: 1, 171498040.0: 1, 172726710.0: 1, 177062050.0: 1, 178689791.0: 1, 184959926.0: 1, 185000000.0: 1, 187595400.0: 1, 195000000.0: 1, 199181600.0: 1, 201482375.0: 1, 201867200.0: 1, 203143920.0: 1, 204609445.0: 1, 213960200.0: 1, 216145300.0: 1, 223105294.0: 1, 230788440.0: 1, 232500000.0: 1, 233829082.0: 1, 235168162.0: 1, 237500000.0: 1, 241324480.0: 1, 241550604.0: 1, 242654600.0: 1, 243032500.0: 1, 248925113.0: 1, 250028336.0: 1, 253929900.0: 1, 255534027.0: 1, 256559685.0: 1, 257247060.0: 1, 259736863.0: 1, 266072920.0: 1, 268027700.0: 1, 272014770.0: 1, 276142020.0: 1, 277711060.0: 1, 277829575.0: 1, 280148500.0: 1, 282746984.0: 1, 291050130.0: 1, 291486900.0: 1, 300000000.0: 1, 305851840.0: 1, 306213000.0: 1, 316599500.0: 1, 320940300.0: 1, 336732261.0: 1, 345453420.0: 1, 354124100.0: 1, 370000000.0: 1, 390000000.0: 1, 394465650.0: 1, 400000000.0: 1, 417574180.0: 1, 420000000.0: 1, 432290600.0: 1, 461576880.0: 1, 462399815.0: 1, 465000000.0: 1, 468988500.0: 1, 475000000.0: 1, 500000000.0: 1, 507859800.0: 1, 519473726.0: 1, 536055400.0: 1, 536873771.0: 1, 552284040.0: 1, 557763235.0: 1, 560297000.0: 1, 582100260.0: 1, 582973800.0: 1, 587920405.0: 1, 603311200.0: 1, 603876510.0: 1, 611703680.0: 1, 625070840.0: 1, 633199000.0: 1, 643117650.0: 1, 661438477.0: 1, 665182300.0: 1, 677146400.0: 1, 788931300.0: 1, 800000000.0: 1, 802350750.0: 1, 835148360.0: 1, 840000000.0: 1, 857750659.0: 1, 924799630.0: 1, 925000000.0: 1, 937977000.0: 1, 1000000000.0: 1, 1015719600.0: 1, 1115526470.0: 1, 1175840810.0: 1, 1204056106.0: 1, 1206622400.0: 1, 1207753020.0: 1, 1250141680.0: 1, 1286235300.0: 1, 1322876954.0: 1, 1330364600.0: 1, 1340138500.0: 1, 1529259200.0: 1, 1604701500.0: 1, 1850000000.0: 1, 2000000000.0: 1, 2408112212.0: 1, 2539299000.0: 1, 2680277000.0: 1, 3058518400.0: 1, 3307192385.0: 1, 4000000000.0: 1, 5078598000.0: 1, 6614384770.0: 1})\n"
     ]
    }
   ],
   "source": [
    "allBlocksInPools.sort()\n",
    "print(len(allBlocksInPools))\n",
    "print(Counter(allBlocksInPools))"
   ]
  },
  {
   "cell_type": "code",
   "execution_count": null,
   "metadata": {},
   "outputs": [],
   "source": []
  }
 ],
 "metadata": {
  "kernelspec": {
   "display_name": "Python 3",
   "language": "python",
   "name": "python3"
  },
  "language_info": {
   "codemirror_mode": {
    "name": "ipython",
    "version": 3
   },
   "file_extension": ".py",
   "mimetype": "text/x-python",
   "name": "python",
   "nbconvert_exporter": "python",
   "pygments_lexer": "ipython3",
   "version": "3.9.0"
  }
 },
 "nbformat": 4,
 "nbformat_minor": 5
}
