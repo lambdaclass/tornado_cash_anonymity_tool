{
 "cells": [
  {
   "cell_type": "markdown",
   "id": "b8cb6c07",
   "metadata": {},
   "source": [
    "## Heuristic 5 - Careless usage of Anonimity Mining\n",
    "\n",
    "Through Anonimity Mining, TCash users are able to receive TORN token as a reward for using the application. This is done in a sequence of two steps:\n",
    "\n",
    "1. Anonimity Points (AP) are claimed for already spent notes. The quantity of AP obtained depends on how many blocks the note was in a TCash pool, and the pool where it was.\n",
    "2. Using the TCash Automated Market Maker (AMM), users can exchange anonimity points for TORN.\n",
    "\n",
    "\n",
    "From a pure data point of view, this actions are seen as transactions with the TCash Miner. An example of transaction (1) can be seen [here](https://etherscan.io/tx/0x7680b7617931851c5de686c06370bf852d2cd1e32de984d1860ed8510bc44c0b) and an example of transaction (2) can be seen [here](https://etherscan.io/tx/0xb7b41774e17961452c307dfc9515f59ed583e8c6f00a74a716d64e6bd365f223). \n",
    "\n",
    "What can be seen clearly by decoding the input data field of these transactions is that transactions of type (1) call the TCash miner method `reward` and the ones of type (2) the method `withdraw`. Transactions of type (2) are the ones we are interested in, since they give us the following information:\n",
    "\n",
    "* Amount of AP being swapped to TORN.\n",
    "* Address of TORN recipient. \n",
    "\n",
    "Making the assumption that users are swapping the totality of their AP, and that those AP have been claimed for a single note, then we can link deposit and withdrawal transactions with the following procedure:\n",
    "\n",
    "1. Check if the recipient address of a transaction of type (2) has done a deposit or a withdraw in TCash.\n",
    "2. If the address is included in the set of deposit (withdraw) addreses, then check all deposits (withdraws) of that address, convert AP into number of blocks according to the pool the deposit was done, and then search for a withdra transaction with block number equal to\n",
    "\n",
    "    ```deposit_blocks + AP_converted_blocks = withdraw_blocks```\n",
    "    \n",
    "    \n",
    "3. When such a withdraw (deposit) is found, then the two transactions are considered linked.\n",
    "\n",
    "### Results\n",
    "Results are given in a dictionary, each element has the following structure:\n",
    "\n",
    "```\n",
    "(withdraw_hash, withdraw_address, AP_converted_blocks): [(deposit_hash, deposit_address), ...]\n",
    "```\n",
    "\n",
    "In this compact manner we have the information about the withdraw transactions with their addresses and their linking to deposit transactions with their addresses. We also have the amount of blocks that the notes were deposited in the TCash pool."
   ]
  },
  {
   "cell_type": "code",
   "execution_count": 1,
   "id": "69795441",
   "metadata": {},
   "outputs": [],
   "source": [
    "import pandas as pd\n",
    "from tqdm import tqdm\n",
    "import json\n",
    "import matplotlib.pyplot as plt\n",
    "import seaborn as sns\n",
    "from itertools import chain\n",
    "import numpy as np\n",
    "from os.path import exists"
   ]
  },
  {
   "cell_type": "code",
   "execution_count": 2,
   "id": "7272541a",
   "metadata": {},
   "outputs": [],
   "source": [
    "with open('../data/tornado_pools.json') as json_file:\n",
    "    tornado_addresses = json.load(json_file)\n",
    "\n",
    "deposit_txs = pd.read_csv(\"../data/lighter_complete_deposit_txs.csv\")\n",
    "deposit_txs[\"tcash_pool\"] = deposit_txs[\"tornado_cash_address\"].apply(lambda addr: tornado_addresses[addr])\n",
    "\n",
    "withdraw_txs = pd.read_csv(\"../data/lighter_complete_withdraw_txs.csv\")\n",
    "withdraw_txs[\"tcash_pool\"] = withdraw_txs[\"tornado_cash_address\"].apply(lambda addr: tornado_addresses[addr])\n",
    "\n",
    "miner_txs = pd.read_csv(\"../data/lighter_miner_txs.csv\")"
   ]
  },
  {
   "cell_type": "code",
   "execution_count": 3,
   "id": "616302d9",
   "metadata": {},
   "outputs": [
    {
     "data": {
      "text/html": [
       "<div>\n",
       "<style scoped>\n",
       "    .dataframe tbody tr th:only-of-type {\n",
       "        vertical-align: middle;\n",
       "    }\n",
       "\n",
       "    .dataframe tbody tr th {\n",
       "        vertical-align: top;\n",
       "    }\n",
       "\n",
       "    .dataframe thead th {\n",
       "        text-align: right;\n",
       "    }\n",
       "</style>\n",
       "<table border=\"1\" class=\"dataframe\">\n",
       "  <thead>\n",
       "    <tr style=\"text-align: right;\">\n",
       "      <th></th>\n",
       "      <th>Unnamed: 0</th>\n",
       "      <th>hash</th>\n",
       "      <th>nonce</th>\n",
       "      <th>transaction_index</th>\n",
       "      <th>from_address</th>\n",
       "      <th>to_address</th>\n",
       "      <th>value</th>\n",
       "      <th>gas</th>\n",
       "      <th>gas_price</th>\n",
       "      <th>receipt_cumulative_gas_used</th>\n",
       "      <th>...</th>\n",
       "      <th>block_timestamp</th>\n",
       "      <th>block_number</th>\n",
       "      <th>block_hash</th>\n",
       "      <th>max_fee_per_gas</th>\n",
       "      <th>max_priority_fee_per_gas</th>\n",
       "      <th>transaction_type</th>\n",
       "      <th>receipt_effective_gas_price</th>\n",
       "      <th>function_call</th>\n",
       "      <th>anonimity_points</th>\n",
       "      <th>recipient_address</th>\n",
       "    </tr>\n",
       "  </thead>\n",
       "  <tbody>\n",
       "    <tr>\n",
       "      <th>0</th>\n",
       "      <td>0</td>\n",
       "      <td>0x3a22fe99fd6c27b507760cb20a1d3ffae9ccd320dca8...</td>\n",
       "      <td>1122</td>\n",
       "      <td>142</td>\n",
       "      <td>0x80e179c4a2f057be91573b32bece53888fb48311</td>\n",
       "      <td>0x746aebc06d2ae31b71ac51429a19d54e797878e9</td>\n",
       "      <td>0</td>\n",
       "      <td>434790</td>\n",
       "      <td>232500000000</td>\n",
       "      <td>8009441</td>\n",
       "      <td>...</td>\n",
       "      <td>2021-04-03 19:23:24 UTC</td>\n",
       "      <td>12168479</td>\n",
       "      <td>0xb88d592cf1a1d399e2621b8ca7aef638d9d7b3dad39b...</td>\n",
       "      <td>NaN</td>\n",
       "      <td>NaN</td>\n",
       "      <td>NaN</td>\n",
       "      <td>232500000000</td>\n",
       "      <td>w</td>\n",
       "      <td>227319444.0</td>\n",
       "      <td>0x84bb14595fd30a53cbe18e68085d42645901d8b6</td>\n",
       "    </tr>\n",
       "    <tr>\n",
       "      <th>1</th>\n",
       "      <td>1</td>\n",
       "      <td>0x3331a615c119a9958b4429e0789674d5219aa16f23d5...</td>\n",
       "      <td>1678</td>\n",
       "      <td>168</td>\n",
       "      <td>0xbe4d1e137a24af091be80ae58d652279665e3a27</td>\n",
       "      <td>0x746aebc06d2ae31b71ac51429a19d54e797878e9</td>\n",
       "      <td>0</td>\n",
       "      <td>434790</td>\n",
       "      <td>196500000000</td>\n",
       "      <td>12080586</td>\n",
       "      <td>...</td>\n",
       "      <td>2021-03-31 23:25:33 UTC</td>\n",
       "      <td>12150112</td>\n",
       "      <td>0xb97682f9cb2da20ec91feb61eb44fee72a16d7924e19...</td>\n",
       "      <td>NaN</td>\n",
       "      <td>NaN</td>\n",
       "      <td>NaN</td>\n",
       "      <td>196500000000</td>\n",
       "      <td>w</td>\n",
       "      <td>46294475.0</td>\n",
       "      <td>0x1dc09454a6128182d65cd2e8478d9b445c3267d5</td>\n",
       "    </tr>\n",
       "    <tr>\n",
       "      <th>3</th>\n",
       "      <td>3</td>\n",
       "      <td>0x5097c46458696ec07fecf989c60cfb26ec37eabc3734...</td>\n",
       "      <td>6310</td>\n",
       "      <td>83</td>\n",
       "      <td>0xbe4d1e137a24af091be80ae58d652279665e3a27</td>\n",
       "      <td>0x746aebc06d2ae31b71ac51429a19d54e797878e9</td>\n",
       "      <td>0</td>\n",
       "      <td>400000</td>\n",
       "      <td>17500000000</td>\n",
       "      <td>4131879</td>\n",
       "      <td>...</td>\n",
       "      <td>2021-07-11 08:40:51 UTC</td>\n",
       "      <td>12804973</td>\n",
       "      <td>0x70008e988a388c9b1b691540c35800584eb5b0bcb7c9...</td>\n",
       "      <td>NaN</td>\n",
       "      <td>NaN</td>\n",
       "      <td>NaN</td>\n",
       "      <td>17500000000</td>\n",
       "      <td>w</td>\n",
       "      <td>173174856.0</td>\n",
       "      <td>0xd2800879f604cd13d7d9e8738c080408d7105c60</td>\n",
       "    </tr>\n",
       "    <tr>\n",
       "      <th>4</th>\n",
       "      <td>4</td>\n",
       "      <td>0x78b487413b9996ff504bf24b7ee4109f4e74acd3f66d...</td>\n",
       "      <td>7023</td>\n",
       "      <td>137</td>\n",
       "      <td>0xbe4d1e137a24af091be80ae58d652279665e3a27</td>\n",
       "      <td>0x746aebc06d2ae31b71ac51429a19d54e797878e9</td>\n",
       "      <td>0</td>\n",
       "      <td>400000</td>\n",
       "      <td>51000000730</td>\n",
       "      <td>9509885</td>\n",
       "      <td>...</td>\n",
       "      <td>2021-08-03 15:34:58 UTC</td>\n",
       "      <td>12953119</td>\n",
       "      <td>0x59aba14dac8f1f4f09e14a7a70b4e4e8e9686a487194...</td>\n",
       "      <td>NaN</td>\n",
       "      <td>NaN</td>\n",
       "      <td>NaN</td>\n",
       "      <td>51000000730</td>\n",
       "      <td>w</td>\n",
       "      <td>219334984.0</td>\n",
       "      <td>0x4bd4e5818d30b47bc771e5fd271bd9c15570be30</td>\n",
       "    </tr>\n",
       "    <tr>\n",
       "      <th>5</th>\n",
       "      <td>5</td>\n",
       "      <td>0x30d9b4b39ab002d6f655d2a4fc2c158c2bf599eae7b4...</td>\n",
       "      <td>1381</td>\n",
       "      <td>240</td>\n",
       "      <td>0x49136693081f2c18e2cf14428dd78cd90a22dc1f</td>\n",
       "      <td>0x746aebc06d2ae31b71ac51429a19d54e797878e9</td>\n",
       "      <td>0</td>\n",
       "      <td>400000</td>\n",
       "      <td>23000000000</td>\n",
       "      <td>8390223</td>\n",
       "      <td>...</td>\n",
       "      <td>2021-07-13 09:03:45 UTC</td>\n",
       "      <td>12817885</td>\n",
       "      <td>0xf6a8a55c2ab263028901493a875aa6c6ae542c94b327...</td>\n",
       "      <td>NaN</td>\n",
       "      <td>NaN</td>\n",
       "      <td>NaN</td>\n",
       "      <td>23000000000</td>\n",
       "      <td>w</td>\n",
       "      <td>191255216.0</td>\n",
       "      <td>0xd05564eef07a73c31f9e8ee840abda76e2a99a66</td>\n",
       "    </tr>\n",
       "  </tbody>\n",
       "</table>\n",
       "<p>5 rows × 24 columns</p>\n",
       "</div>"
      ],
      "text/plain": [
       "   Unnamed: 0                                               hash  nonce  \\\n",
       "0           0  0x3a22fe99fd6c27b507760cb20a1d3ffae9ccd320dca8...   1122   \n",
       "1           1  0x3331a615c119a9958b4429e0789674d5219aa16f23d5...   1678   \n",
       "3           3  0x5097c46458696ec07fecf989c60cfb26ec37eabc3734...   6310   \n",
       "4           4  0x78b487413b9996ff504bf24b7ee4109f4e74acd3f66d...   7023   \n",
       "5           5  0x30d9b4b39ab002d6f655d2a4fc2c158c2bf599eae7b4...   1381   \n",
       "\n",
       "   transaction_index                                from_address  \\\n",
       "0                142  0x80e179c4a2f057be91573b32bece53888fb48311   \n",
       "1                168  0xbe4d1e137a24af091be80ae58d652279665e3a27   \n",
       "3                 83  0xbe4d1e137a24af091be80ae58d652279665e3a27   \n",
       "4                137  0xbe4d1e137a24af091be80ae58d652279665e3a27   \n",
       "5                240  0x49136693081f2c18e2cf14428dd78cd90a22dc1f   \n",
       "\n",
       "                                   to_address  value     gas     gas_price  \\\n",
       "0  0x746aebc06d2ae31b71ac51429a19d54e797878e9      0  434790  232500000000   \n",
       "1  0x746aebc06d2ae31b71ac51429a19d54e797878e9      0  434790  196500000000   \n",
       "3  0x746aebc06d2ae31b71ac51429a19d54e797878e9      0  400000   17500000000   \n",
       "4  0x746aebc06d2ae31b71ac51429a19d54e797878e9      0  400000   51000000730   \n",
       "5  0x746aebc06d2ae31b71ac51429a19d54e797878e9      0  400000   23000000000   \n",
       "\n",
       "   receipt_cumulative_gas_used  ...          block_timestamp  block_number  \\\n",
       "0                      8009441  ...  2021-04-03 19:23:24 UTC      12168479   \n",
       "1                     12080586  ...  2021-03-31 23:25:33 UTC      12150112   \n",
       "3                      4131879  ...  2021-07-11 08:40:51 UTC      12804973   \n",
       "4                      9509885  ...  2021-08-03 15:34:58 UTC      12953119   \n",
       "5                      8390223  ...  2021-07-13 09:03:45 UTC      12817885   \n",
       "\n",
       "                                          block_hash  max_fee_per_gas  \\\n",
       "0  0xb88d592cf1a1d399e2621b8ca7aef638d9d7b3dad39b...              NaN   \n",
       "1  0xb97682f9cb2da20ec91feb61eb44fee72a16d7924e19...              NaN   \n",
       "3  0x70008e988a388c9b1b691540c35800584eb5b0bcb7c9...              NaN   \n",
       "4  0x59aba14dac8f1f4f09e14a7a70b4e4e8e9686a487194...              NaN   \n",
       "5  0xf6a8a55c2ab263028901493a875aa6c6ae542c94b327...              NaN   \n",
       "\n",
       "  max_priority_fee_per_gas  transaction_type receipt_effective_gas_price  \\\n",
       "0                      NaN               NaN                232500000000   \n",
       "1                      NaN               NaN                196500000000   \n",
       "3                      NaN               NaN                 17500000000   \n",
       "4                      NaN               NaN                 51000000730   \n",
       "5                      NaN               NaN                 23000000000   \n",
       "\n",
       "   function_call  anonimity_points                           recipient_address  \n",
       "0              w       227319444.0  0x84bb14595fd30a53cbe18e68085d42645901d8b6  \n",
       "1              w        46294475.0  0x1dc09454a6128182d65cd2e8478d9b445c3267d5  \n",
       "3              w       173174856.0  0xd2800879f604cd13d7d9e8738c080408d7105c60  \n",
       "4              w       219334984.0  0x4bd4e5818d30b47bc771e5fd271bd9c15570be30  \n",
       "5              w       191255216.0  0xd05564eef07a73c31f9e8ee840abda76e2a99a66  \n",
       "\n",
       "[5 rows x 24 columns]"
      ]
     },
     "execution_count": 3,
     "metadata": {},
     "output_type": "execute_result"
    }
   ],
   "source": [
    "w_miner_txs = miner_txs[miner_txs[\"function_call\"] == \"w\"]\n",
    "w_miner_txs.head()"
   ]
  },
  {
   "cell_type": "code",
   "execution_count": 4,
   "id": "274a09cd",
   "metadata": {},
   "outputs": [],
   "source": [
    "recipient_addresses = set(w_miner_txs[\"recipient_address\"])"
   ]
  },
  {
   "cell_type": "code",
   "execution_count": 5,
   "id": "c5dafcbb",
   "metadata": {},
   "outputs": [],
   "source": [
    "mining_pool_rates ={\n",
    "    \"0.1 ETH\": 4, \n",
    "    \"1 ETH\": 20, \n",
    "    \"10 ETH\": 50, \n",
    "    \"100 ETH\": 400, \n",
    "    \"100 DAI\": 2, \n",
    "    \"1000 DAI\": 10, \n",
    "    \"10000 DAI\": 40, \n",
    "    \"100000 DAI\": 250, \n",
    "    \"5000 cDAI\": 2, \n",
    "    \"50000 cDAI\": 10,\n",
    "    \"500000 cDAI\": 40, \n",
    "    \"5000000 cDAI\": 250,\n",
    "    \"0.1 WBTC\": 15, \n",
    "    \"1 WBTC\": 120, \n",
    "    \"10 WBTC\": 1000\n",
    "}\n",
    "mining_pools = list(mining_pool_rates.keys())"
   ]
  },
  {
   "cell_type": "code",
   "execution_count": 6,
   "id": "a0c71bd4",
   "metadata": {},
   "outputs": [],
   "source": [
    "# Drop all the txs that are not from the mining pools\n",
    "deposit_txs = deposit_txs[deposit_txs[\"tcash_pool\"].isin(mining_pools)]\n",
    "withdraw_txs = withdraw_txs[withdraw_txs[\"tcash_pool\"].isin(mining_pools)]\n",
    "\n",
    "unique_deposit_addresses = set(deposit_txs[\"from_address\"])\n",
    "unique_withdraw_addresses = set(withdraw_txs[\"recipient_address\"])"
   ]
  },
  {
   "cell_type": "code",
   "execution_count": 7,
   "id": "c170840a",
   "metadata": {},
   "outputs": [],
   "source": [
    "def address_to_txs_and_blocks(txs_df, tx_type) -> dict:\n",
    "    \n",
    "    assert tx_type in [\"deposit\", \"withdraw\"], \"Transaction type error\"\n",
    "    \n",
    "    address_field = \"from_address\" if tx_type == \"deposit\" else \"recipient_address\"\n",
    "    \n",
    "    addr_to_txs_and_blocks_dict: dict = {}\n",
    "        \n",
    "    for _, row in tqdm(txs_df.iterrows(), mininterval=1, total=len(txs_df)):\n",
    "        if row[address_field] not in addr_to_txs_and_blocks_dict.keys():\n",
    "            addr_to_txs_and_blocks_dict[row[address_field]] = {row.tcash_pool: [(row.hash, row.block_number)]}\n",
    "            \n",
    "        elif row.tcash_pool not in addr_to_txs_and_blocks_dict[row[address_field]].keys():\n",
    "            addr_to_txs_and_blocks_dict[row[address_field]].update({row.tcash_pool: [(row.hash, row.block_number)]})\n",
    "        \n",
    "        else:\n",
    "            addr_to_txs_and_blocks_dict[row[address_field]][row.tcash_pool].append((row.hash, row.block_number))\n",
    "    \n",
    "    return addr_to_txs_and_blocks_dict"
   ]
  },
  {
   "cell_type": "code",
   "execution_count": 8,
   "id": "0c46cce2",
   "metadata": {},
   "outputs": [
    {
     "name": "stderr",
     "output_type": "stream",
     "text": [
      "100%|██████████| 96137/96137 [00:09<00:00, 10335.32it/s]\n",
      "100%|██████████| 82677/82677 [00:08<00:00, 10011.27it/s]\n"
     ]
    }
   ],
   "source": [
    "addr2deposits = address_to_txs_and_blocks(deposit_txs, \"deposit\")\n",
    "addr2withdraws = address_to_txs_and_blocks(withdraw_txs, \"withdraw\")"
   ]
  },
  {
   "cell_type": "code",
   "execution_count": 9,
   "id": "ea06f323",
   "metadata": {},
   "outputs": [],
   "source": [
    "'''\n",
    "To classify the addresses by their inclusion in the unique_deposit_addresses and \n",
    "the unique_withdraw_addresses sets.\n",
    "'''\n",
    "\n",
    "def is_D_type(address):\n",
    "    return (address in unique_deposit_addresses) and (address not in unique_withdraw_addresses)\n",
    "\n",
    "def is_W_type(address):\n",
    "    return (address not in unique_deposit_addresses) and (address in unique_withdraw_addresses)\n",
    "\n",
    "def is_DW_type(address):\n",
    "    return (address in unique_deposit_addresses) and (address in unique_withdraw_addresses)"
   ]
  },
  {
   "cell_type": "code",
   "execution_count": 10,
   "id": "f172216a",
   "metadata": {},
   "outputs": [],
   "source": [
    "def ap2blocks(anonimity_points: int, pool: str) -> float:\n",
    "    rate = mining_pool_rates[pool]\n",
    "    \n",
    "    return anonimity_points/rate"
   ]
  },
  {
   "cell_type": "code",
   "execution_count": 11,
   "id": "9ad2b671",
   "metadata": {},
   "outputs": [],
   "source": [
    "def _D_type_anonimity_heuristic(miner_tx) -> dict:\n",
    "    \n",
    "    d_addr = miner_tx.recipient_address\n",
    "    \n",
    "    d_addr2w: dict = {d_addr: {}}\n",
    "    \n",
    "    for d_pool in addr2deposits[d_addr]:\n",
    "        for (d_hash, d_blocks) in addr2deposits[d_addr][d_pool]:\n",
    "            delta_blocks = ap2blocks(miner_tx.anonimity_points, d_pool)\n",
    "            \n",
    "            for w_addr in addr2withdraws.keys():\n",
    "                if d_pool in addr2withdraws[w_addr].keys():\n",
    "                    \n",
    "                    for (w_hash, w_blocks) in addr2withdraws[w_addr][d_pool]:\n",
    "                        if d_blocks + delta_blocks == w_blocks:\n",
    "                            if d_hash not in d_addr2w[d_addr].keys():\n",
    "                                d_addr2w[d_addr][d_hash] = [(w_hash, w_addr, delta_blocks)]\n",
    "                            else:\n",
    "                                d_addr2w[d_addr][d_hash].append((w_hash, w_addr, delta_blocks))\n",
    "    \n",
    "    return d_addr2w         "
   ]
  },
  {
   "cell_type": "code",
   "execution_count": 12,
   "id": "d36c83c7",
   "metadata": {},
   "outputs": [],
   "source": [
    "def _W_type_anonimity_heuristic(miner_tx) -> dict:\n",
    "    \n",
    "    w_addr = miner_tx.recipient_address\n",
    "    \n",
    "    w_addr2d: dict = {w_addr: {}}\n",
    "    \n",
    "    for w_pool in addr2withdraws[w_addr]:\n",
    "        for (w_hash, w_blocks) in addr2withdraws[w_addr][w_pool]:\n",
    "            delta_blocks = ap2blocks(miner_tx.anonimity_points, w_pool)\n",
    "            \n",
    "            for d_addr in addr2deposits.keys():\n",
    "                if w_pool in addr2deposits[d_addr].keys():\n",
    "                    \n",
    "                    for (d_hash, d_blocks) in addr2deposits[d_addr][w_pool]:\n",
    "                        if d_blocks + delta_blocks == w_blocks:\n",
    "                            if w_hash not in w_addr2d[w_addr].keys():\n",
    "                                w_addr2d[w_addr][w_hash] = [(d_hash, d_addr, delta_blocks)]\n",
    "                            else:\n",
    "                                w_addr2d[w_addr][w_hash].append((d_hash, d_addr, delta_blocks))\n",
    "    \n",
    "    return w_addr2d  "
   ]
  },
  {
   "cell_type": "code",
   "execution_count": 13,
   "id": "8a3df677",
   "metadata": {},
   "outputs": [],
   "source": [
    "def anonimity_mining_heuristic(miner_tx) -> dict:\n",
    "    linked_txs: dict = {}\n",
    "    \n",
    "    if is_D_type(miner_tx.recipient_address):\n",
    "        d_dict = _D_type_anonimity_heuristic(miner_tx)\n",
    "        if len(d_dict[miner_tx.recipient_address]) != 0:\n",
    "            linked_txs[\"D\"] = d_dict\n",
    "        return linked_txs\n",
    "        \n",
    "    elif is_W_type(miner_tx.recipient_address):\n",
    "        w_dict = _W_type_anonimity_heuristic(miner_tx)\n",
    "        if len(w_dict[miner_tx.recipient_address]) != 0:\n",
    "            linked_txs[\"W\"] = w_dict\n",
    "        return linked_txs\n",
    "        \n",
    "    elif is_DW_type(miner_tx.recipient_address):\n",
    "        d_dict = _D_type_anonimity_heuristic(miner_tx)\n",
    "        if len(d_dict[miner_tx.recipient_address]) != 0:\n",
    "            linked_txs[\"D\"] = d_dict\n",
    "            \n",
    "        w_dict = _W_type_anonimity_heuristic(miner_tx)\n",
    "        if len(w_dict[miner_tx.recipient_address]) != 0:\n",
    "            linked_txs[\"W\"] = w_dict\n",
    "        \n",
    "\n",
    "        return linked_txs\n",
    "    \n",
    "    return linked_txs"
   ]
  },
  {
   "cell_type": "code",
   "execution_count": 14,
   "id": "4ee8e969",
   "metadata": {},
   "outputs": [],
   "source": [
    "def apply_anonimity_mining_heuristic(miner_txs) -> dict:\n",
    "    \n",
    "    total_linked_txs = {\"D\": {}, \"W\": {}}\n",
    "    \n",
    "    for miner_tx in tqdm(miner_txs.itertuples(), mininterval=3, total=len(miner_txs)):\n",
    "        linked_txs = anonimity_mining_heuristic(miner_tx)\n",
    "        if len(linked_txs) != 0:\n",
    "            if \"D\" in linked_txs.keys():\n",
    "                if len(linked_txs[\"D\"]) != 0:\n",
    "                    total_linked_txs[\"D\"].update(linked_txs[\"D\"])\n",
    "            if \"W\" in linked_txs.keys():\n",
    "                if len(linked_txs[\"W\"]) != 0:\n",
    "                    total_linked_txs[\"W\"].update(linked_txs[\"W\"])\n",
    "    \n",
    "    return total_linked_txs"
   ]
  },
  {
   "cell_type": "code",
   "execution_count": 15,
   "id": "42e203bd",
   "metadata": {},
   "outputs": [],
   "source": [
    "# For caching these results,\n",
    "# with open(\"../data/heuristic_5_linked_txs.json\", \"w\") as outfile:\n",
    "#    json.dump(total_linked_txs, outfile, indent=4)\n"
   ]
  },
  {
   "cell_type": "code",
   "execution_count": 16,
   "id": "438ab5bb",
   "metadata": {
    "scrolled": true
   },
   "outputs": [],
   "source": [
    "def load_raw_linked_transactions(filepath):\n",
    "    if exists(filepath):\n",
    "        with open(filepath) as json_file:\n",
    "            total_linked_txs = json.load(json_file)\n",
    "        return total_linked_txs\n",
    "    else:\n",
    "        total_linked_txs = apply_anonimity_mining_heuristic(miner_txs)\n",
    "        return total_linked_txs"
   ]
  },
  {
   "cell_type": "code",
   "execution_count": 17,
   "id": "d47474e8",
   "metadata": {},
   "outputs": [],
   "source": [
    "total_linked_txs = load_raw_linked_transactions(\"../data/heuristic_5_linked_txs.json\")"
   ]
  },
  {
   "cell_type": "code",
   "execution_count": 18,
   "id": "f088ed12",
   "metadata": {},
   "outputs": [],
   "source": [
    "'''\n",
    "The final version of the results is obtained applying this function\n",
    "to the output of the 'apply_anonimity_mining_heuristic' function.\n",
    "\n",
    "wb2d -> withdraws and blocks to deposits\n",
    "'''\n",
    "\n",
    "def _wb2d(total_linked_txs) -> dict:\n",
    "    \n",
    "    w2d: dict = {}\n",
    "        \n",
    "    for elem in total_linked_txs[\"W\"].items():\n",
    "        for addr in total_linked_txs[\"W\"].keys():\n",
    "            for hsh in total_linked_txs[\"W\"][addr]:\n",
    "                delta_blocks = total_linked_txs[\"W\"][addr][hsh][0][2]\n",
    "                w2d[(hsh, addr, delta_blocks)] = [(t[0],t[1]) for t in total_linked_txs[\"W\"][addr][hsh]]\n",
    "    \n",
    "    for elem in total_linked_txs[\"D\"].items():\n",
    "        for addr in total_linked_txs[\"D\"].keys():\n",
    "            \n",
    "            for hsh in total_linked_txs[\"D\"][addr]:\n",
    "                \n",
    "                for tx_tuple in total_linked_txs[\"D\"][addr][hsh]:\n",
    "                    if tx_tuple[0] not in w2d.keys():\n",
    "                        w2d[tuple(tx_tuple)] = [(hsh, addr)]\n",
    "                    else:\n",
    "                        if (hsh, addr) not in w2d[tx_tuple]:\n",
    "                            w2d[tuple(tx_tuple)].append((hsh, addr))\n",
    "    \n",
    "    return w2d"
   ]
  },
  {
   "cell_type": "code",
   "execution_count": 19,
   "id": "72d7550c",
   "metadata": {},
   "outputs": [],
   "source": [
    "w2d = _wb2d(total_linked_txs)"
   ]
  },
  {
   "cell_type": "markdown",
   "id": "4ede4d3f",
   "metadata": {},
   "source": [
    "### Results exploration"
   ]
  },
  {
   "cell_type": "code",
   "execution_count": 20,
   "id": "ac43d7c1",
   "metadata": {},
   "outputs": [],
   "source": [
    "D_linked_addresses = total_linked_txs[\"D\"].keys()\n",
    "W_linked_addresses = total_linked_txs[\"W\"].keys()"
   ]
  },
  {
   "cell_type": "code",
   "execution_count": 21,
   "id": "885c2a70",
   "metadata": {},
   "outputs": [],
   "source": [
    "def get_number_of_linked_txs(total_linked_txs, link_type) -> dict:\n",
    "    \n",
    "    assert link_type in [\"D\", \"W\"], \"Invalid link type\"\n",
    "    \n",
    "    linked_addresses = list(total_linked_txs[link_type].keys())\n",
    "    \n",
    "    addr2txcount: dict = {}\n",
    "    \n",
    "    for addr in linked_addresses:\n",
    "        addr2txcount[addr] = len(total_linked_txs[link_type][addr])\n",
    "    \n",
    "    return addr2txcount"
   ]
  },
  {
   "cell_type": "code",
   "execution_count": 22,
   "id": "a82e3c76",
   "metadata": {},
   "outputs": [],
   "source": [
    "def get_number_of_linked_addrs(total_linked_txs, link_type) -> dict:\n",
    "    \n",
    "    assert link_type in [\"D\", \"W\"], \"Invalid link type\"\n",
    "\n",
    "    linked_addresses = list(total_linked_txs[link_type].keys())\n",
    "\n",
    "    addr2addrcount: dict = {}\n",
    "        \n",
    "    for addr in linked_addresses:\n",
    "        tx_tuples = list(chain(*total_linked_txs[link_type][addr].values()))\n",
    "        \n",
    "        addr_count = len(set([t[1] for t in tx_tuples]))\n",
    "        \n",
    "        addr2addrcount[addr] = addr_count\n",
    "    \n",
    "    return addr2addrcount"
   ]
  },
  {
   "cell_type": "code",
   "execution_count": 23,
   "id": "6e2d9dd0",
   "metadata": {},
   "outputs": [],
   "source": [
    "D_linked_counts = get_number_of_linked_txs(total_linked_txs, \"D\")\n",
    "W_linked_counts = get_number_of_linked_txs(total_linked_txs, \"W\")"
   ]
  },
  {
   "cell_type": "code",
   "execution_count": 24,
   "id": "4a14f8b0",
   "metadata": {},
   "outputs": [
    {
     "data": {
      "image/png": "[encoded data removed]",
      "text/plain": [
       "<Figure size 1440x360 with 2 Axes>"
      ]
     },
     "metadata": {},
     "output_type": "display_data"
    }
   ],
   "source": [
    "sns.set_theme(style=\"darkgrid\")\n",
    "\n",
    "fig, (ax1, ax2) = plt.subplots(ncols=2, figsize=(20, 5))\n",
    "ax1.hist(D_linked_counts.values(), alpha=0.9, bins=40, align=\"mid\")\n",
    "ax1.set_xlim((0.5, 7))\n",
    "ax1.set_xlabel(\"Number of deposits of D addresses\")\n",
    "ax1.set_ylabel(\"Counts\")\n",
    "\n",
    "ax2.hist(W_linked_counts.values(), alpha=0.9, bins=40, align=\"mid\")\n",
    "ax2.set_xlim((0.5, 7))\n",
    "ax2.set_xlabel(\"Number of withdrawals of W addresses\")\n",
    "ax2.set_ylabel(\"Counts\")\n",
    "\n",
    "plt.show()"
   ]
  },
  {
   "cell_type": "code",
   "execution_count": 25,
   "id": "13599d98",
   "metadata": {},
   "outputs": [],
   "source": [
    "D_linked_addr_counts = get_number_of_linked_addrs(total_linked_txs, \"D\")\n",
    "W_linked_addr_counts = get_number_of_linked_addrs(total_linked_txs, \"W\")"
   ]
  },
  {
   "cell_type": "code",
   "execution_count": 26,
   "id": "46d4f8c3",
   "metadata": {},
   "outputs": [
    {
     "data": {
      "image/png": "[encoded data removed]",
      "text/plain": [
       "<Figure size 1440x360 with 2 Axes>"
      ]
     },
     "metadata": {},
     "output_type": "display_data"
    }
   ],
   "source": [
    "sns.set_theme(style=\"darkgrid\")\n",
    "\n",
    "fig, (ax1, ax2) = plt.subplots(ncols=2, figsize=(20, 5))\n",
    "ax1.hist(list(D_linked_addr_counts.values()), bins=30, alpha=0.9)\n",
    "ax1.set_xlabel(\"Number of linked addresses for D addresses\")\n",
    "ax1.set_ylabel(\"Counts\")\n",
    "\n",
    "ax2.hist(list(W_linked_addr_counts.values()), bins=30, alpha=0.9)\n",
    "ax2.set_xlabel(\"Number of linked addresses for D addresses\")\n",
    "ax2.set_ylabel(\"Counts\")\n",
    "\n",
    "plt.show()"
   ]
  },
  {
   "cell_type": "code",
   "execution_count": 27,
   "id": "bf49d27e",
   "metadata": {},
   "outputs": [],
   "source": [
    "def get_block_number(total_linked_txs):\n",
    "    \n",
    "    blocks: list = []\n",
    "    \n",
    "    for link_type in [\"D\", \"W\"]:\n",
    "        for addr in total_linked_txs[link_type]:\n",
    "            for tx in total_linked_txs[link_type][addr]:\n",
    "                for tx_tuple in total_linked_txs[link_type][addr][tx]:\n",
    "                    blocks.append(tx_tuple[2])\n",
    "    \n",
    "    return blocks"
   ]
  },
  {
   "cell_type": "code",
   "execution_count": 28,
   "id": "430c744a",
   "metadata": {},
   "outputs": [],
   "source": [
    "blocks = get_block_number(total_linked_txs)"
   ]
  },
  {
   "cell_type": "code",
   "execution_count": 29,
   "id": "0464d39c",
   "metadata": {},
   "outputs": [
    {
     "data": {
      "image/png": "[encoded data removed]",
      "text/plain": [
       "<Figure size 720x360 with 1 Axes>"
      ]
     },
     "metadata": {},
     "output_type": "display_data"
    }
   ],
   "source": [
    "fig, ax = plt.subplots(figsize=(10, 5))\n",
    "ax.hist(blocks, bins=30)\n",
    "ax.ticklabel_format(style=\"plain\")\n",
    "ax.set_xlabel(\"Number of blocks the note was deposited\")\n",
    "ax.set_ylabel(\"Count\")\n",
    "plt.show()"
   ]
  }
 ],
 "metadata": {
  "kernelspec": {
   "display_name": "Python 3",
   "language": "python",
   "name": "python3"
  },
  "language_info": {
   "codemirror_mode": {
    "name": "ipython",
    "version": 3
   },
   "file_extension": ".py",
   "mimetype": "text/x-python",
   "name": "python",
   "nbconvert_exporter": "python",
   "pygments_lexer": "ipython3",
   "version": "3.8.8"
  }
 },
 "nbformat": 4,
 "nbformat_minor": 5
}
