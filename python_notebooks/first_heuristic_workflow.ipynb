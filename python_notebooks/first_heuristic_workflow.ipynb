{
 "cells": [
  {
   "cell_type": "markdown",
   "id": "6ed5ebb1",
   "metadata": {},
   "source": [
    "### First Heuristic - Preliminary implementation\n",
    "#### Description\n",
    "\n",
    "If a deposit address matches a withdraw address, then it is trivial to link the two addresses. Therefore, the deposit address needs to be removed from all the other withdraw addresses’ anonymity set. If a number $N$ of deposits with a same address $add1$, and a number $M$ ($M < N$) of withdraws with that same aaddress are detected, then a number $M - N$ of deposit transactions must be removed from the anonimity set of all the other withdraw transactions."
   ]
  },
  {
   "cell_type": "code",
   "execution_count": 1,
   "id": "e1375483",
   "metadata": {},
   "outputs": [],
   "source": [
    "# Import relevant packages.\n",
    "import pandas as pd\n",
    "import matplotlib.pyplot as plt\n",
    "from tqdm import tqdm\n",
    "import seaborn as sns"
   ]
  },
  {
   "cell_type": "code",
   "execution_count": 2,
   "id": "cd87d20f",
   "metadata": {},
   "outputs": [],
   "source": [
    "withdraw_transactions_df = pd.read_csv(\"../data/lighter_complete_withdraw_txs.csv\")\n",
    "withdraw_transactions_df[\"recipient_address\"] = withdraw_transactions_df[\"recipient_address\"].str.lower()\n",
    "withdraw_transactions_df[\"block_timestamp\"] = withdraw_transactions_df[\"block_timestamp\"].apply(pd.Timestamp)\n",
    "\n",
    "deposit_transactions_df = pd.read_csv(\"../data/lighter_complete_deposit_txs.csv\")\n",
    "deposit_transactions_df[\"block_timestamp\"] = deposit_transactions_df[\"block_timestamp\"].apply(pd.Timestamp)"
   ]
  },
  {
   "cell_type": "markdown",
   "id": "7113c338",
   "metadata": {},
   "source": [
    "### Function summary: addresses_to_transactions\n",
    "\n",
    "Given a transactions DataFrame, returns a dictionary with the unique addresses of the transactions data as keys and a list of tuples as values. The tuples consist on the hash of the transaction with the address as the corresponding key in the first index, and the timestamp of the transaction in the second index. \n",
    "\n",
    "For example, if the address 0x6c6e4816ecfa4481472ff88 has made transaction with a hash 0x7f851ba1d7292ca565961073a111 and timestamp 1, and another transaction with hash 0x8f851ba1d7192ca565961073a9191 and timestamp 2, then the dictionary returned will be:\n",
    "\n",
    "```\n",
    "{\"0x6c6e4816ecfa4481472ff88\": [(\"0x7f851ba1d7292ca565961073a111\", timestamp1), (\"0x8f851ba1d7192ca565961073a9191\", timestamp2)]\n",
    "```"
   ]
  },
  {
   "cell_type": "code",
   "execution_count": 3,
   "id": "d9f59ba4",
   "metadata": {},
   "outputs": [],
   "source": [
    "def addresses_to_transactions(transactions_df):\n",
    "    \n",
    "    # Initialize empty dictionary to store addresses and associated transactions.\n",
    "    \n",
    "    address_to_transactions_dict = {}\n",
    "    \n",
    "    # We iterate over every transaction in the transactions DataFrame.\n",
    "    \n",
    "    for row in tqdm(transactions_df.itertuples(), mininterval=5, total=transactions_df.shape[0]):\n",
    "        '''\n",
    "        We check if the address of the current transaction in the iteration is already in the \n",
    "        dictionary. If it isn't, then we initialize that key and the list with the tuple. The\n",
    "        tuple will consist of the hash and the timestamp of the current transaction.\n",
    "        \n",
    "        If the key already exists, we append to the associated list the tuple of the hash and\n",
    "        timestamp of the current transaction.\n",
    "        '''\n",
    "        \n",
    "        if row.from_address not in set(address_to_transactions_dict.keys()):\n",
    "            address_to_transactions_dict[row.from_address] = [(row.hash, row.block_timestamp)]\n",
    "        else:\n",
    "            address_to_transactions_dict[row.from_address].append((row.hash, row.block_timestamp))\n",
    "    \n",
    "    # The dictionary with the addresses and transactions is returned.\n",
    "    \n",
    "    return address_to_transactions_dict"
   ]
  },
  {
   "cell_type": "markdown",
   "id": "68cd6603",
   "metadata": {},
   "source": [
    "### Function summary: same_deposit_and_recipient_addresses_heuristic\n",
    "\n",
    "The function receives a particular withdraw transaction and a dictionary corresponding to what is returned by function addresses_to_transactions.\n",
    "\n",
    "It returns a tuple:\n",
    "\n",
    "* (True, list_of_same_address_deposit_hashes): When same address deposits are found, this tuple is returned. In the first element a boolean true, and the second is a list with all the deposit hashes that verify having the same address as the withdraw transaction.\n",
    "\n",
    "* (False, None): When no such deposit was found"
   ]
  },
  {
   "cell_type": "code",
   "execution_count": 4,
   "id": "5ba94337",
   "metadata": {},
   "outputs": [],
   "source": [
    "def same_deposit_and_recipient_address_heuristic(withdraw_transaction, deposit_addresses_to_transactions):\n",
    "    \n",
    "    '''\n",
    "    Check if the address of the withdraw tx is in the deposit_addresses_to_transactions keys.\n",
    "    If it is, then a list is created with the hashes of all the deposit txs with the same address and\n",
    "    with an earlier timestamp than the withdraw tx.\n",
    "    If the address is not in the deposit_addresses_to_transactions dictionary, (False, None) is returned.\n",
    "    '''\n",
    "    \n",
    "    if withdraw_transaction.recipient_address in set(deposit_addresses_to_transactions.keys()):\n",
    "        \n",
    "        # Only the transactions with earlier timestamps are selected for the list same_deposit_address_hashes.\n",
    "        same_deposit_address_hashes = [tx_hash[0] for tx_hash in deposit_addresses_to_transactions[withdraw_transaction.recipient_address] if tx_hash[1] <= withdraw_transaction.block_timestamp]\n",
    "        \n",
    "        # Final check to assert that list is not empty.\n",
    "        if len(same_deposit_address_hashes) > 0:\n",
    "            return (True, same_deposit_address_hashes)\n",
    "        else:\n",
    "            return (False, None)\n",
    "        \n",
    "    return (False, None)"
   ]
  },
  {
   "cell_type": "code",
   "execution_count": 5,
   "id": "71bf6cc6",
   "metadata": {
    "scrolled": true
   },
   "outputs": [],
   "source": [
    "# deposit_addresses_to_transactions = addresses_to_transactions(deposit_transactions_df)"
   ]
  },
  {
   "cell_type": "markdown",
   "id": "b6f09a60",
   "metadata": {},
   "source": [
    "\n",
    "### Function summary: apply_same_deposit_and_recipient_addresses_heuristic\n",
    "\n",
    "Receives the withdraw and deposit transactions, and applies the first heuristic for each withdraw transaction. Returns a dictionary, with keys as the hash of each withdraw transaction were a same deposit address was detected. The values are the hashes of all deposits matching this criteria.\n"
   ]
  },
  {
   "cell_type": "code",
   "execution_count": 14,
   "id": "f8e33324",
   "metadata": {},
   "outputs": [],
   "source": [
    "def apply_same_deposit_and_recpient_address_heuristic(withdraw_transactions_df, deposit_transactions_df):\n",
    "    \n",
    "    # Initialize an empty dictionary for storing the links between withdraw hashes and deposit hashes with the \n",
    "    # same address.\n",
    "    \n",
    "    deposit_addresses_and_transactions = addresses_to_transactions(deposit_transactions_df)\n",
    "    \n",
    "    same_deposit_address_hashes = {}\n",
    "    \n",
    "    # Iterate over the withdraw transactions and apply heuristic one. For each withdraw with matching deposit\n",
    "    # transactions, a new element is added to the dictionary with the key as the withdraw hash and the values\n",
    "    # as all matching deposit hashes.\n",
    "    \n",
    "    for withdraw_row_tuple in tqdm(withdraw_transactions_df.itertuples(), total=withdraw_transactions_df.shape[0], mininterval=15):\n",
    "        deposit_hashes = same_deposit_and_recipient_address_heuristic(withdraw_row_tuple, deposit_addresses_and_transactions)\n",
    "        # print(deposit_hashes)\n",
    "\n",
    "        if deposit_hashes[0]:\n",
    "            same_deposit_address_hashes[withdraw_row_tuple.hash] = deposit_hashes[1]\n",
    "\n",
    "    # Return the dictionary with the links\n",
    "    \n",
    "    return same_deposit_address_hashes"
   ]
  },
  {
   "cell_type": "code",
   "execution_count": 7,
   "id": "d9b5be15",
   "metadata": {},
   "outputs": [
    {
     "name": "stderr",
     "output_type": "stream",
     "text": [
      "100%|█████████████████████████████████████████████████████████████████████████████████████████████████████████████████████████████████████| 97365/97365 [01:08<00:00, 1422.53it/s]\n",
      "100%|██████████████████████████████████████████████████████████████████████████████████████████████████████████████████████████████████████| 83782/83782 [01:49<00:00, 766.79it/s]\n"
     ]
    }
   ],
   "source": [
    "hashes_dict = apply_same_deposit_and_recpient_address_heuristic(withdraw_transactions_df, deposit_transactions_df)"
   ]
  },
  {
   "cell_type": "code",
   "execution_count": 8,
   "id": "ffd1bcf5",
   "metadata": {},
   "outputs": [],
   "source": [
    "# Count of deposit transactions linked to withdraws.\n",
    "linked_deposits_count = list(map(lambda x: len(x), hashes_dict.values()))"
   ]
  },
  {
   "cell_type": "code",
   "execution_count": 9,
   "id": "36118d13",
   "metadata": {},
   "outputs": [
    {
     "data": {
      "text/plain": [
       "16659"
      ]
     },
     "execution_count": 9,
     "metadata": {},
     "output_type": "execute_result"
    }
   ],
   "source": [
    "len(linked_deposits_count)"
   ]
  },
  {
   "cell_type": "code",
   "execution_count": 13,
   "id": "f217a89f",
   "metadata": {},
   "outputs": [
    {
     "data": {
      "image/png": "[encoded data removed]",
      "text/plain": [
       "<Figure size 432x288 with 1 Axes>"
      ]
     },
     "metadata": {
      "needs_background": "light"
     },
     "output_type": "display_data"
    }
   ],
   "source": [
    "sns.histplot(data=linked_deposits_count, bins=100)\n",
    "plt.title(\"Histogram of number of deposits linked to withdraws\")\n",
    "plt.xlabel(\"Number of deposits\")\n",
    "plt.show()"
   ]
  }
 ],
 "metadata": {
  "kernelspec": {
   "display_name": "Python 3 (ipykernel)",
   "language": "python",
   "name": "python3"
  },
  "language_info": {
   "codemirror_mode": {
    "name": "ipython",
    "version": 3
   },
   "file_extension": ".py",
   "mimetype": "text/x-python",
   "name": "python",
   "nbconvert_exporter": "python",
   "pygments_lexer": "ipython3",
   "version": "3.9.7"
  }
 },
 "nbformat": 4,
 "nbformat_minor": 5
}
