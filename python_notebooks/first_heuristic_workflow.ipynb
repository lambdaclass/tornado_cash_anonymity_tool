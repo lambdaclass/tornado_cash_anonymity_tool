{
 "cells": [
  {
   "cell_type": "markdown",
   "id": "6ed5ebb1",
   "metadata": {},
   "source": [
    "### First Heuristic - Preliminary implementation\n",
    "#### Description\n",
    "\n",
    "If a deposit address matches a withdraw address, then it is trivial to link the two addresses. Therefore, the deposit address needs to be removed from all the other withdraw addresses’ anonymity set. If a number $N$ of deposits with a same address $add1$, and a number $M$ ($M < N$) of withdraws with that same aaddress are detected, then a number $M - N$ of deposit transactions must be removed from the anonimity set of all the other withdraw transactions."
   ]
  },
  {
   "cell_type": "code",
   "execution_count": 1,
   "id": "e1375483",
   "metadata": {},
   "outputs": [],
   "source": [
    "# Import relevant packages.\n",
    "import pandas as pd\n",
    "import matplotlib.pyplot as plt\n",
    "from tqdm import tqdm"
   ]
  },
  {
   "cell_type": "code",
   "execution_count": 2,
   "id": "cd87d20f",
   "metadata": {},
   "outputs": [],
   "source": [
    "withdraw_transactions_df = pd.read_csv(\"../data/tornado_withdraw_df.csv\")\n",
    "withdraw_transactions_df[\"recipient_address\"] = withdraw_transactions_df[\"recipient_address\"].str.lower()\n",
    "withdraw_transactions_df[\"block_timestamp\"] = withdraw_transactions_df[\"block_timestamp\"].apply(pd.Timestamp)\n",
    "\n",
    "deposit_transactions_df = pd.read_csv(\"../data/deposit_transactions.csv\")\n",
    "deposit_transactions_df[\"block_timestamp\"] = deposit_transactions_df[\"block_timestamp\"].apply(pd.Timestamp)"
   ]
  },
  {
   "cell_type": "markdown",
   "id": "7113c338",
   "metadata": {},
   "source": [
    "### Function summary: same_deposit_and_recipient_addresses_heuristic\n",
    "\n",
    "The function receives a particular withdraw transaction and the entire deposit transactions data.\n",
    "\n",
    "It returns a tuple:\n",
    "\n",
    "* (True, list_of_same_address_deposit_hashes): When same address deposits are found, this tuple is returned. In the first element a boolean true, and the second is a list with all the deposit hashes that verify having the same address as the withdraw transaction.\n",
    "\n",
    "* (False, None): When no such deposit was found"
   ]
  },
  {
   "cell_type": "code",
   "execution_count": 1,
   "id": "f04a23c5",
   "metadata": {},
   "outputs": [],
   "source": [
    "def same_deposit_and_recipient_address_heuristic(withdraw_transaction, deposit_transactions_df):\n",
    "    \n",
    "    # Initialize empty array for storing deposit hashes that have the same address as the witdhraw.\n",
    "    \n",
    "    same_deposit_address_hashes = []\n",
    "    \n",
    "    # Iterate over each deposit transaction. When a matching deposit is found, its hash is pushed to\n",
    "    # the list same_deposit_address_hashes.\n",
    "    \n",
    "    for deposit_row_tuple in deposit_transactions_df.itertuples():\n",
    "        # Check that addresses are the same and that the deposit was done earlier than the withdraw.\n",
    "        if (deposit_row_tuple.from_address == withdraw_transaction.recipient_address) and (deposit_row_tuple.block_timestamp < withdraw_transaction.block_timestamp):\n",
    "            same_deposit_address_hashes.append(deposit_row_tuple.hash)\n",
    "            \n",
    "    # If the list is empty, return (False, None). Else, return (true, same_deposit_address_hashes)  \n",
    "    if len(same_deposit_address_hashes) > 0:\n",
    "        return (True, same_deposit_address_hashes)\n",
    "    else:\n",
    "        return (False, None)"
   ]
  },
  {
   "cell_type": "markdown",
   "id": "b6f09a60",
   "metadata": {},
   "source": [
    "\n",
    "### Function summary: apply_same_deposit_and_recipient_addresses_heuristic\n",
    "\n",
    "Receives the withdraw and deposit transactions, and applies the first heuristic for each withdraw transaction. Returns a dictionary, with keys as the hash of each withdraw transaction were a same deposit address was detected. The values are the hashes of all deposits matching this criteria.\n"
   ]
  },
  {
   "cell_type": "code",
   "execution_count": 4,
   "id": "7c290ba6",
   "metadata": {},
   "outputs": [],
   "source": [
    "def apply_same_deposit_and_recpient_address_heuristic(withdraw_transactions_df, deposit_transactions_df):\n",
    "    \n",
    "    # Initialize an empty dictionary for storing the links between withdraw hashes and deposit hashes with the \n",
    "    # same address.\n",
    "    \n",
    "    same_deposit_address_hashes = {}\n",
    "    \n",
    "    # Iterate over the withdraw transactions and apply heuristic one. For each withdraw with matching deposit\n",
    "    # transactions, a new element is added to the dictionary with the key as the withdraw hash and the values\n",
    "    # as all matching deposit hashes.\n",
    "    \n",
    "    for withdraw_row_tuple in tqdm(withdraw_transactions_df.itertuples(), total=withdraw_transactions_df.shape[0], mininterval=15):\n",
    "        deposit_hashes = same_deposit_and_recipient_address_heuristic(withdraw_row_tuple, deposit_transactions_df)\n",
    "        if deposit_hashes[0]:\n",
    "            same_deposit_address_hashes[withdraw_row_tuple.hash] = deposit_hashes[1]\n",
    "\n",
    "    # Return the dictionary with the links\n",
    "    \n",
    "    return same_deposit_address_hashes"
   ]
  },
  {
   "cell_type": "code",
   "execution_count": 5,
   "id": "d9b5be15",
   "metadata": {},
   "outputs": [
    {
     "name": "stderr",
     "output_type": "stream",
     "text": [
      "100%|███████████████████████████████████████████████████████████████████████████████████████████████████████████████████████████████████████| 22009/22009 [40:36<00:00,  9.03it/s]\n"
     ]
    }
   ],
   "source": [
    "hashes_dict = apply_same_deposit_and_recpient_address_heuristic(withdraw_transactions_df, deposit_transactions_df)"
   ]
  },
  {
   "cell_type": "code",
   "execution_count": 6,
   "id": "ffd1bcf5",
   "metadata": {},
   "outputs": [],
   "source": [
    "# Count of deposit transactions linked to withdraws.\n",
    "linked_deposits_count = list(map(lambda x: len(x), hashes_dict.values()))"
   ]
  },
  {
   "cell_type": "code",
   "execution_count": 7,
   "id": "36118d13",
   "metadata": {},
   "outputs": [
    {
     "data": {
      "text/plain": [
       "1430"
      ]
     },
     "execution_count": 7,
     "metadata": {},
     "output_type": "execute_result"
    }
   ],
   "source": [
    "len(linked_deposits_count)"
   ]
  },
  {
   "cell_type": "code",
   "execution_count": 8,
   "id": "496fcb4e",
   "metadata": {},
   "outputs": [
    {
     "data": {
      "image/png": "[encoded data removed]",
      "text/plain": [
       "<Figure size 432x288 with 1 Axes>"
      ]
     },
     "metadata": {
      "needs_background": "light"
     },
     "output_type": "display_data"
    }
   ],
   "source": [
    "plt.hist(linked_deposits_count, bins=50, density=True)\n",
    "plt.title(\"Histogram of number of deposits linked to withdraws\")\n",
    "plt.xlabel(\"Number of deposits\")\n",
    "plt.show()"
   ]
  },
  {
   "cell_type": "code",
   "execution_count": null,
   "id": "221bda39",
   "metadata": {},
   "outputs": [],
   "source": []
  }
 ],
 "metadata": {
  "kernelspec": {
   "display_name": "Python 3 (ipykernel)",
   "language": "python",
   "name": "python3"
  },
  "language_info": {
   "codemirror_mode": {
    "name": "ipython",
    "version": 3
   },
   "file_extension": ".py",
   "mimetype": "text/x-python",
   "name": "python",
   "nbconvert_exporter": "python",
   "pygments_lexer": "ipython3",
   "version": "3.9.7"
  }
 },
 "nbformat": 4,
 "nbformat_minor": 5
}
